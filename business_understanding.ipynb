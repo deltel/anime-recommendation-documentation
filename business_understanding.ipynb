{
  "cells": [
    {
      "cell_type": "markdown",
      "id": "54198f50",
      "metadata": {
        "title": "Anime Recommendation System"
      },
      "source": [
        "# Anime Recommendation System"
      ]
    },
    {
      "cell_type": "markdown",
      "id": "5628cc97",
      "metadata": {},
      "source": [
        "Author: Delano Francis  \n",
        "Student Id: 620109194  \n",
        "Course Code: COMP6830  \n",
        "Course Title: Capstone Project II"
      ]
    },
    {
      "cell_type": "markdown",
      "id": "bc0a0c80",
      "metadata": {},
      "source": [
        "## Domain - Anime"
      ]
    },
    {
      "cell_type": "markdown",
      "id": "b40a7b80",
      "metadata": {},
      "source": [
        "Anime is a style of animation which originated in Japan. It has become a popular form of entertainment among children and young adults. There is a variety of genre and because of this it provides a source of entertainment for all interests.  \n",
        "\n",
        "It has been around for a number of years with the earliest documented creation being in 1917 (Yamaguchi, 2013). Initially, anime or Japanimation as it was referred to was not popular outside of Japan, but over time this changed. The production has risen to such levels that every season of the year sees new adaptations from manga, the source material for many anime, or outright anime originals – those that have no manga from which they are adapted. With the sheer volume of content out there, it can be difficult to know which anime would suit each individual.  \n",
        "\n",
        "So, even though there are many streaming platforms or many avenues by which one can view anime, it can be very time-consuming to try to filter through all the content to find the best anime for the individual. When he does find one, it is only a temporary reprieve until he must begin the search again. Thus, we see a cycle of searching, trying, liking and searching once that series has been completed. Note that this only includes the happy path. Undoubtedly, there are many times when an iteration leads to frustration instead of satisfaction.  \n",
        "\n",
        "Therefore, the need arises for a solution that would bring the individual closer to content more suitable for his particular taste and limit the amount of time spent searching for new content. It would also provide the additional benefit of having the individual spend more time engaged in viewing the right content which leads to a better experience overall. This recommendation system would also benefit the providers of the anime as their users would be more satisfied whenever they use the service and more likely to recommend the service to others.\n"
      ]
    },
    {
      "cell_type": "markdown",
      "id": "8965ed11",
      "metadata": {},
      "source": [
        "## Business Understanding"
      ]
    },
    {
      "cell_type": "markdown",
      "id": "6ef4714f",
      "metadata": {},
      "source": [
        "### Business Objectives"
      ]
    },
    {
      "cell_type": "markdown",
      "id": "e64dc184",
      "metadata": {},
      "source": [
        "1. To provide a more streamlined experience for anime consumers looking to choose the next series to pick up\n",
        "2. Reduce the barrier to entry for new consumers by providing the most appropriate gateway anime"
      ]
    },
    {
      "cell_type": "markdown",
      "id": "f04a6154",
      "metadata": {},
      "source": [
        "### Assessment of the situation"
      ]
    },
    {
      "cell_type": "markdown",
      "id": "6abc07cf",
      "metadata": {},
      "source": [
        "#### Data availability"
      ]
    },
    {
      "cell_type": "markdown",
      "id": "321eabb7",
      "metadata": {},
      "source": [
        "1. There are 3 data sources taken from Kaggle containing anime reviews, anime data and ratings of the anime by users. These all cite myanimelist.net as the source of the data.\n",
        "2. There are a number of attributes describing each anime including title, genre, episode count among others.  \n",
        "3. The anime available only goes up to the year 2020.  \n",
        "4. The unoffical API for the website (myanimelist.net) will be used to fill in the gaps for any missing data points that cannot be reconciled across the 3 datasets.  \n",
        "5. The reviews data was corrupted. It had to be collected directly from the site using the unofficial API.\n"
      ]
    },
    {
      "cell_type": "markdown",
      "id": "f42344a4",
      "metadata": {},
      "source": [
        "#### Users of the output"
      ]
    },
    {
      "cell_type": "markdown",
      "id": "0d411350",
      "metadata": {},
      "source": [
        "The output will be 3 models used to make recommendations for the user. These will be consumed by the application developers for the recommendation website."
      ]
    },
    {
      "cell_type": "markdown",
      "id": "bdb072bb",
      "metadata": {},
      "source": [
        "#### Technical Constraints"
      ]
    },
    {
      "cell_type": "markdown",
      "id": "5bc6a00a",
      "metadata": {},
      "source": [
        "1.\tDeployment will be done using AWS and Vercel. \n",
        "    - This includes the deployment of the microservice responsible for using the models to make the recommendations\n",
        "    - the models themselves which will be stored using AWS S3\n",
        "    - the application server which will manage the business logic of the website and make calls to the microservice in order to make the recommendations\n",
        "    - the user interface which will be accessed using a browser\n",
        "2.\tTraining and modelling will be constrained by the physical computer resources\n",
        "    - 1 TB SSD\n",
        "    - 32 GB RAM\n",
        "    - 12th Gen Intel(R) Core(TM) i5-12400\n",
        "    - AMD Radeon RX 6600\n",
        "3. Flat files (csv), will be used in storing the datasets\n",
        "\n"
      ]
    },
    {
      "cell_type": "markdown",
      "id": "f2768c2a",
      "metadata": {},
      "source": [
        "#### Risks and Contingencies"
      ]
    },
    {
      "cell_type": "markdown",
      "id": "bfed47a0",
      "metadata": {},
      "source": [
        "1. The physical resources outlined above may not be enough to process the data. University resources or cloud based solutions may need to be utilized in order to supplement the physical resources.  "
      ]
    },
    {
      "cell_type": "markdown",
      "id": "7f3d9620",
      "metadata": {},
      "source": [
        "### Data Mining Goals"
      ]
    },
    {
      "cell_type": "markdown",
      "id": "79f0b2f5",
      "metadata": {},
      "source": [
        "1. Use user-based collaborative filtering to recommend the 5 top rated anime in the user's cluster that he has not yet seen.\n",
        "2. Use association rule mining to recommend anime based on the ones the user already enjoyed\n",
        "3. Use Latent Semantic Analysis to recommend the 5 most relevant anime whose plots match a prompt provided by a user"
      ]
    },
    {
      "cell_type": "markdown",
      "id": "7edff3f2",
      "metadata": {},
      "source": [
        "### Project Plan"
      ]
    },
    {
      "cell_type": "markdown",
      "id": "a7e9f8ca",
      "metadata": {},
      "source": [
        "#### Milestones"
      ]
    },
    {
      "cell_type": "markdown",
      "id": "f7ca7046",
      "metadata": {},
      "source": [
        "##### Data Exploration  "
      ]
    },
    {
      "cell_type": "markdown",
      "id": "cb166d7b",
      "metadata": {},
      "source": [
        "Explore the various datasets to see the useful features for the recommendation system.  \n",
        "Determine the size of the datasets  \n",
        "Determine the amount of missing data"
      ]
    },
    {
      "cell_type": "markdown",
      "id": "549b28df",
      "metadata": {},
      "source": [
        "##### Data Cleaning and Preparation  "
      ]
    },
    {
      "cell_type": "markdown",
      "id": "0639c088",
      "metadata": {},
      "source": [
        "Remove unnecessary features from the dataset.  \n",
        "For the collaborative filtering, the important features will be the ratings supplied by users for the anime they have seen.  \n",
        "For the topic modelling the useful features will be the synopsis and the reviews data. The reviews data will be used to supplement the synopsis data.  This is possible as reviews by necessity need to mention the plot of the anime that is being reviewed."
      ]
    },
    {
      "cell_type": "markdown",
      "id": "9b2a65d5",
      "metadata": {},
      "source": [
        "##### Database creation  "
      ]
    },
    {
      "cell_type": "markdown",
      "id": "2bec35b5",
      "metadata": {},
      "source": [
        "The database will be created mainly to store the data retrieved from the datasets in a more permanent form. They will also be beneficial for the creation of the web application as the anime data is what the user will interact with.  \n",
        "A relational model will be used to store the anime data and the rating data with the exception of the reviews provided.  \n",
        "The scripts will be created and then used to populate the tables."
      ]
    },
    {
      "cell_type": "markdown",
      "id": "aab7d155",
      "metadata": {},
      "source": [
        "##### Data modelling  "
      ]
    },
    {
      "cell_type": "markdown",
      "id": "695d28eb",
      "metadata": {},
      "source": [
        "1. Association Rule Mining - this will be done with frequent itemsets at different support values. The rules will then be sorted by confidence values.\n",
        "2. Clustering (user-based) - this will be used to group users according to anime they rated. In particular, k-means clusters will be used.\n",
        "3. Latent Semantic Analysis will be used for topic modelling  \n",
        "\n",
        "Models will be evaluated based on precision and recall. Precision will be the more important metric as the focus is on making recommendations the user will be more likely to enjoy."
      ]
    },
    {
      "cell_type": "markdown",
      "id": "86882ffd",
      "metadata": {},
      "source": [
        "##### Microservice for recommendations  "
      ]
    },
    {
      "cell_type": "markdown",
      "id": "19f0ae11",
      "metadata": {},
      "source": [
        "Once the models are created, a microservice will be developed to make the recommendations via its APIs.  \n",
        "The microservice will be built using flask. Flask gives easy access to the many data science utilities in the python ecosystem and because it is minimalistic, it can be kept as light-weight as possible."
      ]
    },
    {
      "cell_type": "markdown",
      "id": "c637bfcb",
      "metadata": {},
      "source": [
        "##### Application server  "
      ]
    },
    {
      "cell_type": "markdown",
      "id": "073bf41e",
      "metadata": {},
      "source": [
        "The business logic of the website will be achieved through a spring boot application server. It will be responsible for relaying all requests to the microservice as well as retrieving data from the database for the application. It will facilitate the creation of users as well as the rating of an anime."
      ]
    },
    {
      "cell_type": "markdown",
      "id": "08cfde76",
      "metadata": {},
      "source": [
        "##### User Portal  "
      ]
    },
    {
      "cell_type": "markdown",
      "id": "dc4635d8",
      "metadata": {},
      "source": [
        "It will be built using nextjs. It will allow the user to see the top picks based on anime the user already rated. The user will be able to see the anime catalogue. He will see the anime he has already rated. He will also be able to see recommendations based on a prompt he provided."
      ]
    },
    {
      "cell_type": "markdown",
      "id": "0ad6616d",
      "metadata": {},
      "source": [
        "#### Tools and Platforms"
      ]
    },
    {
      "cell_type": "markdown",
      "id": "c4ab56f1",
      "metadata": {},
      "source": [
        "1.  VSCode, Spyder and IntelliJ will be used for all the tasks.\n",
        "    - VSCode and Spyder will be used for preliminary exploration as well as the data preparation and cleaning\n",
        "    - VSCode will be used to prepare the jupyter notebook, code the microservice as well as the user portal\n",
        "2. MySQL and mongodb are the databases used in storing the structured and unstructured data.\n",
        "3. MySQL is also the database used for the website that is to be developed.\n",
        "4. Python, Java and JavaScript are the programming languages to be used throughout the project."
      ]
    },
    {
      "cell_type": "markdown",
      "id": "7d8ab6f4",
      "metadata": {},
      "source": [
        "#### Evaluation Metrics"
      ]
    },
    {
      "cell_type": "markdown",
      "id": "9a5f909a",
      "metadata": {},
      "source": [
        "##### Association Rule Mining  "
      ]
    },
    {
      "cell_type": "markdown",
      "id": "ddab6bb3",
      "metadata": {},
      "source": [
        "Support - the fraction of the total transactions that include the itemset. This will be used to determine the frequent itemsets.  \n",
        "Confidence - the fraction of times the items in the consequents appear in transactions that contain the antecedents. These will be used to rank the relevance of the recommendation.  \n",
        "Lift - used to determine the association among itemsets. A value greater than 1 implies a positive association while a value less than one implies a negative association and exactly 1 means no association. We will start with a threshold of 1 for the lift."
      ]
    },
    {
      "cell_type": "markdown",
      "id": "3bccdd5e",
      "metadata": {},
      "source": [
        "##### Clustering K-means  "
      ]
    },
    {
      "cell_type": "markdown",
      "id": "b3257926",
      "metadata": {},
      "source": [
        "Inertia measures how internally coherent a cluster is - how far away from the centroid the points are. As the number of clusters increases, the inertia will fall so this will need to be balanced with other metrics.  \n",
        "\n",
        "The silhouette score will also be used as it balances out inertia well. Silhouette score also assesses how far the points are from other clusters in addition to how close the points in a cluster are to its centroid.  \n",
        "A score of 1 is the ideal as it indicates that the points are well clustered.  \n",
        "0 means there are overlapping clusters.  \n",
        "A negative score means a lot of points are not in the correct cluster.  \n",
        "\n",
        "The Davies-Bouldin Index will also be used to assess the quality of the clusters. This measure is used to determine how well spaced a cluster is in comparison to its size. A lower value is better as it means clusters are more compact and the distance from the centroid is appropriate. Higher values may imply that the clusters are too spread out or not well separated."
      ]
    },
    {
      "cell_type": "markdown",
      "id": "a2a331a7",
      "metadata": {},
      "source": [
        "##### Topic Modelling  "
      ]
    },
    {
      "cell_type": "markdown",
      "id": "bb9d0877",
      "metadata": {},
      "source": [
        "Domain knowledge will be used when manually checking the recommendations made by the model based on the input provided.  \n",
        "\n",
        "The topic space will also be looked at to determine the quality of the model. Better topics will lead to better recommendations.  \n",
        "\n",
        "Similarity distribution plots will also be used to assess the quality of the recommendations. If the plots are too flat this indicates that the model is not able to distinguish between similar content and disparate content. The plot should show bunching around the lower positive values and tapering towards the higher positive values. This shows that only a few data points match the prompt provided."
      ]
    },
    {
      "cell_type": "markdown",
      "id": "7577a19f",
      "metadata": {},
      "source": [
        "##### Quality of Recommendation  "
      ]
    },
    {
      "cell_type": "markdown",
      "id": "63c27fe5",
      "metadata": {},
      "source": [
        "Precision, recall and coverage will be used where possible to evaluate the recommendations made by the models.  \n",
        "Precision gives the percentage of relevant recommendations out of all recommendations made.  \n",
        "Recall gives the percentage of relevant recommendations out of all relevant anime.  \n",
        "Coverage gives the percentage of the entire catalogue that is recommended. This can be used to see if the recommendations are just focussed on the more popular anime.  \n",
        "\n",
        "Precision and coverage will be the more important measures as we want to maximize the relevant recommendations the user sees and not just focus on the most popular anime in our recommendations."
      ]
    },
    {
      "cell_type": "markdown",
      "id": "8b6b7377",
      "metadata": {},
      "source": [
        "#### Reporting Plan  "
      ]
    },
    {
      "cell_type": "markdown",
      "id": "89ae3f78",
      "metadata": {},
      "source": [
        "Results of the process will be documented and shared in pdf form. Check-ins will be done based on the accomplishment of a milestone."
      ]
    }
  ],
  "metadata": {
    "language_info": {
      "name": "python"
    }
  },
  "nbformat": 4,
  "nbformat_minor": 5
}
