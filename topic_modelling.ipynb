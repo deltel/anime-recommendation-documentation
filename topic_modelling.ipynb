{
 "cells": [
  {
   "cell_type": "markdown",
   "id": "49a30c93",
   "metadata": {},
   "source": [
    "### Topic Modelling"
   ]
  },
  {
   "cell_type": "code",
   "execution_count": 2,
   "id": "4e50a27d",
   "metadata": {},
   "outputs": [],
   "source": [
    "import os\n",
    "\n",
    "import pandas as pd\n",
    "from sklearn.feature_extraction.text import TfidfVectorizer\n",
    "from sklearn.decomposition import TruncatedSVD\n",
    "from sklearn.metrics.pairwise import cosine_similarity\n",
    "import nltk\n",
    "from nltk.corpus import stopwords\n",
    "from nltk.stem import WordNetLemmatizer\n",
    "import re\n",
    "\n",
    "import joblib"
   ]
  },
  {
   "cell_type": "markdown",
   "id": "6fe08328",
   "metadata": {},
   "source": [
    "Load the model and df"
   ]
  },
  {
   "cell_type": "code",
   "execution_count": 18,
   "id": "a6b6c4ea",
   "metadata": {},
   "outputs": [
    {
     "name": "stderr",
     "output_type": "stream",
     "text": [
      "e:\\organized-anime-recommendation\\organized-anime-recommendation\\.venv\\Lib\\site-packages\\sklearn\\base.py:440: InconsistentVersionWarning: Trying to unpickle estimator TruncatedSVD from version 1.6.1 when using version 1.7.0. This might lead to breaking code or invalid results. Use at your own risk. For more info please refer to:\n",
      "https://scikit-learn.org/stable/model_persistence.html#security-maintainability-limitations\n",
      "  warnings.warn(\n",
      "e:\\organized-anime-recommendation\\organized-anime-recommendation\\.venv\\Lib\\site-packages\\sklearn\\base.py:440: InconsistentVersionWarning: Trying to unpickle estimator TfidfTransformer from version 1.6.1 when using version 1.7.0. This might lead to breaking code or invalid results. Use at your own risk. For more info please refer to:\n",
      "https://scikit-learn.org/stable/model_persistence.html#security-maintainability-limitations\n",
      "  warnings.warn(\n",
      "e:\\organized-anime-recommendation\\organized-anime-recommendation\\.venv\\Lib\\site-packages\\sklearn\\base.py:440: InconsistentVersionWarning: Trying to unpickle estimator TfidfVectorizer from version 1.6.1 when using version 1.7.0. This might lead to breaking code or invalid results. Use at your own risk. For more info please refer to:\n",
      "https://scikit-learn.org/stable/model_persistence.html#security-maintainability-limitations\n",
      "  warnings.warn(\n"
     ]
    }
   ],
   "source": [
    "model_bundle = joblib.load(\"E:\\\\applied data science capstone\\\\topics\\\\topic_model_v1.joblib\")\n",
    "df = model_bundle[\"df\"]\n",
    "lsa_model = model_bundle[\"lsa_model\"]\n",
    "tfidf_matrix = model_bundle[\"tfidf_matrix\"]\n",
    "tfidf_vectorizer = model_bundle[\"tfidf_vectorizer\"]"
   ]
  },
  {
   "cell_type": "code",
   "execution_count": 19,
   "id": "8f2d7de5",
   "metadata": {},
   "outputs": [
    {
     "data": {
      "application/vnd.microsoft.datawrangler.viewer.v0+json": {
       "columns": [
        {
         "name": "index",
         "rawType": "int64",
         "type": "integer"
        },
        {
         "name": "anime_id",
         "rawType": "int64",
         "type": "integer"
        },
        {
         "name": "review",
         "rawType": "object",
         "type": "string"
        },
        {
         "name": "processed_review",
         "rawType": "object",
         "type": "string"
        }
       ],
       "ref": "015030d8-bf4a-465f-b0b3-17b68b13af1e",
       "rows": [
        [
         "0",
         "5",
         "Cowboy Bebop: Knockin' on Heaven's Door is a great addition to the Cowboy Bebop series, but no more. It is by no means a sequel, and after watching it, I found that it's best watched in the middle of the series, and not neccesarily at the end. If it's got a specific place or not, that I don't know, but that's not very important at any rate, and if you've watched the entire series, it shouldn't be hard to mentally place it inside the series anyway. This time, a terrorist possesses a weapon capable of killing countless people, and there's a bounty of 300 millionwoolongs on him; the largest bounty ever given. Of course, this means that our heroes will chase him. And so starts the process of gathering information, meeting and getting to know people related to the bounty in some way, and eventually, squaring off against him in a final fight. Oh, and throw in a save-the-world thing this time, and there you have the movie. Nothing really new, a formula that's been used several times. There's also details here and there left unexplained, and things  may just happen for no reason at the rare occasion. Its 120 minutes might be a little too long to some, but it never came off as boring at any point to me; they certainly did a good job of fleshing out those 120 minutes. \n\nThough, that may be credited more to the characters than the plot itself, as the movie threw some really interesting characters at us. The orignal cast is, well, pretty much the same as they always are, the same characters which you (probably) got to love while watching the original series. As for the movie characters, we have for example Vincent, the main bad guy. He's quite the interesting fellow, though the more I think about it, the more I can't help but feel that I've experienced his type somewhat before - he's got a mysterious past; a forgotten love included, he's going to kill loads of people for no good reason, and he blathers out sentences about religion and whatnot. Nevertheless, he comes off as an interesting character, mostly because of him being similar to Spike - both in physical prowess and their considering themselves 'dead' men due to past events. Then we have Electra, Vincent's past love once forgotten. She remembers him though, and well, she wants him to remember her as well. We can see where that's heading...\n\nThe animation quality is superb; its detail and overall quality is unmistakably a work done by people who knows what they are doing. Be it backgrounds or landscapes, they're all top-notch. Lighting effects are good, and more than I'd exect from something out of 2001, and the overall quality of special effects are great; much, much better than the original series. The character designs are the same old, with some improvements, and they work very well with this anime and movie. The character motions and their fluidity are great, and the few action scenes in the movie are done so well that I could probably learn some nice figthing moves merely from studying them. The coloring is the only thing that's a bit behind, but considering its age it's not a problem. And moreso, the dulled coloring actually melds perfectly with the style of the movie, and helps on the movie's atmosphere.\n\nThe soundtrack is what you should expect from the original series; awesome. Yoko Kanno does her work as she did in the series; with an amazing soundtrack that fits perfectly with the atmosphere of the movie and its individual scenes, and the opening and ending themes are wonderful to listen to. The only downside is that there is a lot of silent scenes, where no background music is present at all. \n\nCowboy Bebop: Knockin' On Heaven's Door is a movie that delivers the goods, but stops at that. It's not marvelous, but it's great, and a must-see movie for any Cowboy Bebop fan.",
         "cowboy bebop knockin heaven door great addition cowboy bebop series mean sequel watching found best watched middle series neccesarily end got specific place know important rate watched entire series hard mentally place inside series anyway time terrorist posse weapon capable killing countless people bounty millionwoolongs largest bounty ever given course mean hero chase start process gathering information meeting getting know people related bounty way eventually squaring final fight oh throw save world thing time movie nothing really new formula used several time also detail left unexplained thing may happen reason rare occasion minute might little long never came boring point certainly good job fleshing minute though may credited character plot movie threw really interesting character u orignal cast well pretty much always character probably got love watching original series movie character example vincent main bad guy quite interesting fellow though think help feel experienced type somewhat got mysterious past forgotten love included going kill load people good reason blather sentence religion whatnot nevertheless come interesting character mostly similar spike physical prowess considering dead men due past event electra vincent past love forgotten remembers though well want remember well see heading animation quality superb detail overall quality unmistakably work done people know background landscape top notch lighting effect good exect something overall quality special effect great much much better original series character design old improvement work well anime movie character motion fluidity great action scene movie done well could probably learn nice figthing move merely studying coloring thing bit behind considering age problem moreso dulled coloring actually meld perfectly style movie help movie atmosphere soundtrack expect original series awesome yoko kanno work series amazing soundtrack fit perfectly atmosphere movie individual scene opening ending theme wonderful listen downside lot silent scene background music present cowboy bebop knockin heaven door movie delivers good stop marvelous great must see movie cowboy bebop fan"
        ],
        [
         "1",
         "5",
         "I'm never that comfortable with films of series. Mostly, that's because all too often a film of a series consists of some kind of edited-all-to-hell clip show that tries and totally fails to boil down the story of a long series to a relatively much shorter film. Knockin' on Heaven's Door isn't that, which is very much in its favour. Rather, it's basically like a two-hour &quot;lost episode&quot; that belongs somewhere in the middle of the series - without spoiling anything, by the end of the series, there's characters missing who are still present in this film. Another point in the film's favouris that it's pretty much equally accessible for existing fans and those unfamiliar with the characters.  While there's plenty of details that might be lost or not fully comprehensible for new viewers, by and large the film stands up well as a stand alone drama, introducing its characters and their situation.  However, this in a way exposes another major weakness of films of series.  Series are, by nature, episodic.  They devote an episode to introducing a character or exploring their personalities.  Once this is done, they generally have plot episodes, in which the main thrust of the series is pursued, and then they have one-shot episodes that have our characters in some kind of interesting situation, but which is basically unrelated to the plot - if there is one.  Films, by contrast, do all of this at once.  The proceedure is totally different, and a director or scriptwriter used to a series format adapts less well to a film format.   Knockin' on Heaven's Door exemplifies this - while the film as it is works, it's more obvious and cumbersome than a film directed by a director used to a feature-length format.\n\nThe storyline, also, suffers in this way.  It's not that it's a bad story, in fact it might make a great two- or three-part episode, but as a film, the material comes across as stretched, holey and lacking in substance.  It's also remarkable in that it's not half as quirky or original as Cowboy Bebop's famously eclectic mixtures of ideas: biological terrorism unleashed by a madman with a mysterious and sinister military past, fascinated by death and bent on destroying the world, with cod philosophical pretentions to fil gaps between action and a garnish of some fashionable christian mythology. It's all very generic really, and frankly the only things that make this Cowboy Bebop and not something much more generic are the familiar characters, who are luckily strong enough to make the thing hang together.  The new characters are not much to speak of, either - Vincent the aforementioned madman, a hacker accomplice, a Moroccan information seller and, of course, Electra, a tough, wildcard femme fatale with a mysterious connection to our antagonist.  Electra comes off as the best realised of these, and, perhaps not coincidentally, closest to a series character (though she's a dead ringer for a more mature version of BGC2040's Priss as well).  Vincent seems very like main series antagonist Vicious stripped of his hatred of Spike, which is to say, not that special and a bit rabid and foaming for credibility.\n\nThe film drags.  It's just too long.  What this is primarily due to is unclear; maybe an over-developed story with far too much exposition (every character seems to need every other to explain nanomachines to them, it seems.  We, however, do not), or perhaps the increasingly egregious and segmented action scenes (why are there spitfires on Mars?  Who knows, let's cut back to Spike being pursued by military jets for no apparent reason!), or it could be the ponderous attempts to fashion some sort of existential aspect to the story (&amp;quot;I'm not insane, the rest of the world is.&amp;quot; - oh really?  You don't look thirteen years old, Vincent, but you sound it).  Philosophical-minded action films are not especially uncommon; good and effective ones are extremely rare.  Suffice it to say that I was surprised and rather disappointed when the apparent climax occured and passed with a good half an hour left on the clock.\n\nAs I say, the film hangs almost completely on the main characters.  It would have been unthinkable to not bring the original cast in for this gig too (can't speak for the dub cast, don't know), and they all acquit themselves just as well as they do in the series.  Music, too, such a central part of the series, is again provided by Yoko Kanno and the Seatbelts; while the styles used in and prominence given to the music may not be to everyone's tastes, the versatility and range Kanno's score covers while still retaining a high basic quality standard is nothing short of incredible.  Visually, the quality seems to have been kicked up a notch; the animation of the series was never bad, but the film is sumptuous and extremely well detailed.  \n\nHowever, one of my main bones of contention remains.  The art design is realistic, unapologetically multicultural and sort of grimy, very credible in its way, but under even cursory analysis, it's illogical in the extreme.  Why is Mars covered in early twentieth-century New York-style tenement blocks and labyrinthine Moroccan markets?  Has anyone remembered that it has one third of earth's gravity?  Is there, in fact, any reason for this to be set on Mars at all, other than to tie in all these diverse elements?  It's sci-fi doing what sci-fi does most often and least well - making half-baked stuff up to accomodate its ideas, with no thought for maintainance of disbelief suspension.\n\nI was never as bowled over by Cowboy Bebop as many people seem to have been.  Overall I liked it, certainly, in fact I thought some of it was absolutely excellent, but other parts I thought were pretty terrible, and it was quickly clear that the series was never going to be &amp;quot;a classic&amp;quot; in my eyes the way it is for lots of others.  This was primarily because of its disjointedness and apparent lack of story direction, and the same is true of this film.  Now, after watching it, I'm left with the same &amp;quot;...well, so what?&amp;quot; feeling a significant amount of the series gave me, but because of the length and the negative impact it has, I have comparatively more holes to pick at as well.  Perhaps if you're a real fan, this film has more to offer, but overall, for me, while I'd not actually call it bad, this doesn't reach the already kind of saggy standard the series set.",
         "never comfortable film series mostly often film series consists kind edited hell clip show try totally fails boil story long series relatively much shorter film knockin heaven door much favour rather basically like two hour quot lost episode quot belongs somewhere middle series without spoiling anything end series character missing still present film another point film favouris pretty much equally accessible existing fan unfamiliar character plenty detail might lost fully comprehensible new viewer large film stand well stand alone drama introducing character situation however way expose another major weakness film series series nature episodic devote episode introducing character exploring personality done generally plot episode main thrust series pursued one shot episode character kind interesting situation basically unrelated plot one film contrast proceedure totally different director scriptwriter used series format adapts le well film format knockin heaven door exemplifies film work obvious cumbersome film directed director used feature length format storyline also suffers way bad story fact might make great two three part episode film material come across stretched holey lacking substance also remarkable half quirky original cowboy bebop famously eclectic mixture idea biological terrorism unleashed madman mysterious sinister military past fascinated death bent destroying world cod philosophical pretentions fil gap action garnish fashionable christian mythology generic really frankly thing make cowboy bebop something much generic familiar character luckily strong enough make thing hang together new character much speak either vincent aforementioned madman hacker accomplice moroccan information seller course electra tough wildcard femme fatale mysterious connection antagonist electra come best realised perhaps coincidentally closest series character though dead ringer mature version bgc priss well vincent seems like main series antagonist vicious stripped hatred spike say special bit rabid foaming credibility film drag long primarily due unclear maybe developed story far much exposition every character seems need every explain nanomachines seems however perhaps increasingly egregious segmented action scene spitfire mar know let cut back spike pursued military jet apparent reason could ponderous attempt fashion sort existential aspect story amp quot insane rest world amp quot oh really look thirteen year old vincent sound philosophical minded action film especially uncommon good effective one extremely rare suffice say surprised rather disappointed apparent climax occured passed good half hour left clock say film hang almost completely main character would unthinkable bring original cast gig speak dub cast know acquit well series music central part series provided yoko kanno seatbelt style used prominence given music may everyone taste versatility range kanno score cover still retaining high basic quality standard nothing short incredible visually quality seems kicked notch animation series never bad film sumptuous extremely well detailed however one main bone contention remains art design realistic unapologetically multicultural sort grimy credible way even cursory analysis illogical extreme mar covered early twentieth century new york style tenement block labyrinthine moroccan market anyone remembered one third earth gravity fact reason set mar tie diverse element sci fi sci fi often least well making half baked stuff accomodate idea thought maintainance disbelief suspension never bowled cowboy bebop many people seem overall liked certainly fact thought absolutely excellent part thought pretty terrible quickly clear series never going amp quot classic amp quot eye way lot others primarily disjointedness apparent lack story direction true film watching left amp quot well amp quot feeling significant amount series gave length negative impact comparatively hole pick well perhaps real fan film offer overall actually call bad reach already kind saggy standard series set"
        ],
        [
         "2",
         "5",
         "Cowboy Bebop: Knockin' on Heaven's Door was released in Japan on September 1st, 2001. Shinichiro Watanabe stayed on as director, and it was produced this time by not only Sunrise, but also Bandai Visual (famous for their work on the .hack series and Dennou Coil), and Bones (famous for their work on Fullmetal Alchemist and Ouran High School Host Club). It was released Stateside by Bandai on August 11th, 2002. It's just a few days before Halloween on Ganymede, a major national holiday, and a terrorist has blown up a tanker filled with a biochemical weapon. The government posts a 300 million Wulongbounty for the terrorist, and the Bebop crew just decides to go after it.  But the more they investigate, the deeper the rabbit hole seems to go...\n\nYes, to answer any questions ahead of time, this is not a sequel; it takes place between episodes twenty-two and twenty-three.  It's not quite what I was expecting, admittedly, but it's still a pretty good plot.  It could've been fit in the series as a two or three part episode, and apparently Wantanabe had wanted to originally, but he couldn't have gotten away with it on TV.\n\nThe visuals for this are absolutely beautiful; the animation got an update in the three years since the show had aired, and things are definitely smoother than they were in the show.  There's an even more unprecedented amount of detail in this, and it's absolutely beautiful.\n\nYoko Kanno and the Seatbelts came back to do work on the music again, and it's just as awesome and catchy as it was in the series.  I found myself humming a few of the songs after it was done.\n\nAll the seiyuu and the voice actors were able to return for the movie, which just adds t o the awesomeness of the movie in general.  And the dub for this was actually fairly accurate, which surprises me, as this was released Stateside a little over a year after 9/11, and a few days before the 9/11 attacks over in Japan.\n\nAll in all, a pretty good movie, with a good plot and unprecedented detail and smoother animation, if not what I was expecting.",
         "cowboy bebop knockin heaven door released japan september st shinichiro watanabe stayed director produced time sunrise also bandai visual famous work hack series dennou coil bone famous work fullmetal alchemist ouran high school host club released stateside bandai august th day halloween ganymede major national holiday terrorist blown tanker filled biochemical weapon government post million wulongbounty terrorist bebop crew decides go investigate deeper rabbit hole seems go yes answer question ahead time sequel take place episode twenty two twenty three quite expecting admittedly still pretty good plot could fit series two three part episode apparently wantanabe wanted originally gotten away tv visuals absolutely beautiful animation got update three year since show aired thing definitely smoother show even unprecedented amount detail absolutely beautiful yoko kanno seatbelt came back work music awesome catchy series found humming song done seiyuu voice actor able return movie add awesomeness movie general dub actually fairly accurate surprise released stateside little year day attack japan pretty good movie good plot unprecedented detail smoother animation expecting"
        ],
        [
         "3",
         "5",
         "It was a good follow up (in-between, actually) to the series. I suggest that if youre planning to watch Cowboy Bebop – Knockin on Heavens Door, you should watch after you get to the episode when Ed is introduced. You just need to get to know all 4 major characters to understand the movie. I didnt like it as much as the series, mostly because the series kept me interested by introducing new plot lines in each episode. Having to focus on one specific plot for 120 minutes was a bit exhausting. It has a nice plot – throughout the movie youll get why Knockin onHeavens Door is part of the title. I also found the plot to be timely. Terrorism is a problem thats been widespread throughout the world for years, and its interesting to see a group of bounty hunters trying to do something good for mankind.\n\nThe characters are back, of course. Theyre still the same as they were in the series. 2 more major characters are introduced throughout the movie. The villain is Vincent Volaju, a mysterious terrorist with a forgotten past. He is definitely convincing as a villain, at least I think so. Electra is also a character added to the mix. I didnt really like her, mostly because she looks like a guy, but her presence is important to the story. The  original voice actors are also back to reprise their respective roles. I would have been mad if they changed the voice actors.\n\nI think one of the major innovations in the movie is the visuals. The visuals are 10 times more stunning than in the series, all thanks to the collaboration with BONES studio. I guess it may have something to do with the fact that it was produced in 2001, and 2001 animation definitely improved since 1998. The screenplay was also as great as before.\n\nYoko Kanno came back to do the music again, but I have to say Im a bit disappointed. There were less tracks than there were in the series, and there were a lot of scenes where there was no background music at all. That was a rare occurrence in the series. The opening theme, \"Ask DNA\" by The Seatbelts featuring Raju Ramayya and the ending theme \"Gotta Knock a Little Harder\" by The Seatbelts featuring Mai Yamane, were really nicely done though.\n\nObviously, I liked the series better, but that may have something to do with the fact that I finished the series first before watching the movie. Its kind of hard to top the ending of the series, so its best if you watch the movie in between the series.",
         "good follow actually series suggest youre planning watch cowboy bebop knockin heaven door watch get episode ed introduced need get know major character understand movie didnt like much series mostly series kept interested introducing new plot line episode focus one specific plot minute bit exhausting nice plot throughout movie youll get knockin onheavens door part title also found plot timely terrorism problem thats widespread throughout world year interesting see group bounty hunter trying something good mankind character back course theyre still series major character introduced throughout movie villain vincent volaju mysterious terrorist forgotten past definitely convincing villain least think electra also character added mix didnt really like mostly look like guy presence important story original voice actor also back reprise respective role would mad changed voice actor think one major innovation movie visuals visuals time stunning series thanks collaboration bone studio guess may something fact produced animation definitely improved since screenplay also great yoko kanno came back music say im bit disappointed le track series lot scene background music rare occurrence series opening theme ask dna seatbelt featuring raju ramayya ending theme gotta knock little harder seatbelt featuring mai yamane really nicely done though obviously liked series better may something fact finished series first watching movie kind hard top ending series best watch movie series"
        ],
        [
         "4",
         "5",
         "Warning : minor spoilers ahead It was a month ago when I finished cowboy bebop series, and i would say that i was a little bit disappointed. Why would I be disappointed? Well, mostly because many episodes almost feel like fillers, they don't support character development and some enemies just minor criminals/bounties and those villains rarely have interesting characters. After sometime, I decided to watch the CB movie. And I would say the movie was very good. This movie has the elements that some cowboy bebop episodes lack. Mostly the well developed story and characters(villains). Story (8/10) \"Which one is dream? Which one is reality? A 'deadman', searchingfor that answer, tries to endanger the society. It is up to Spike and the gang to stop him\". Yup, that was pretty much the synopsis of the movie. Like the series, the story presents a sci-fi modern era where humans has lived in other planets. Our MCs (Spike, Jet, Faye, Ed), are bounty hunters. This time, they are trying to catch an unknown terrorist. Unlike the series, which lack episodic story development because they have only 20 minutes duration for one story, the movie has almost 2 hours duration. It really has a great difference to tell a story. The story plot is very well chronologically executed, and not rushed. We got to see a complex investigation, gaining information, interesting background story and past of the main villain, good action scenes, and a nice final conclusion of all of them. The big differences i felt most with the series are this movie presents us a nice built villains, well developed plot, bigger case and conflicts that put our MCs in critical situation, which rarely seen in the series.\n\nArt (9/10)\nConsidering the time it was aired, I would say the animations are great. The backgrounds are nice and the movements were fluid. But what I like most is the character design. It was unique in my opinion, no moe, and it gives me more mature atmosphere from it.\n\nSound (8/10)\nThe sountrack is like the original series, the classic ones. Nice OP and ED. Soundtracks also fit well with the atmosphere of the scenes. Though a few scenes were quiet and don't have BGM in it. Voice acting is also good.\n\nCharacter (8/10)\nWe got our MCs back, Spike and the gang, whose characters are the same with the series. Spike being a cool badass, Faye being selfish and ignorant, Jet who is sometimes being the most sane one, and Ed is.. crazy.. \nWhat really caught my attentions was the main villain's character, Vincent. A man with an interesting past that leads to his interesting philosophy (which one is dream, which one is reality). To seek his answes he will do anything. Interesting terrorism, which he also left mystery to be solved. Above all that, he also really got some skills to overpower the main protagonist. \n\nEnjoyment (8/10)\nYeah, let's make this one short. From the scores above I'd say I really enjoy this movie. It was a nice watch and it has cured my disappointment of CB franchise.\n\nOverall (8/10)\nCause the majority of above scores  i gave were 8s, then my overall score would be 8, which means really good.",
         "warning minor spoiler ahead month ago finished cowboy bebop series would say little bit disappointed would disappointed well mostly many episode almost feel like filler support character development enemy minor criminal bounty villain rarely interesting character sometime decided watch cb movie would say movie good movie element cowboy bebop episode lack mostly well developed story character villain story one dream one reality deadman searchingfor answer try endanger society spike gang stop yup pretty much synopsis movie like series story present sci fi modern era human lived planet mc spike jet faye ed bounty hunter time trying catch unknown terrorist unlike series lack episodic story development minute duration one story movie almost hour duration really great difference tell story story plot well chronologically executed rushed got see complex investigation gaining information interesting background story past main villain good action scene nice final conclusion big difference felt series movie present u nice built villain well developed plot bigger case conflict put mc critical situation rarely seen series art considering time aired would say animation great background nice movement fluid like character design unique opinion moe give mature atmosphere sound sountrack like original series classic one nice op ed soundtrack also fit well atmosphere scene though scene quiet bgm voice acting also good character got mc back spike gang whose character series spike cool badass faye selfish ignorant jet sometimes sane one ed crazy really caught attention main villain character vincent man interesting past lead interesting philosophy one dream one reality seek answes anything interesting terrorism also left mystery solved also really got skill overpower main protagonist enjoyment yeah let make one short score say really enjoy movie nice watch cured disappointment cb franchise overall cause majority score gave overall score would mean really good"
        ]
       ],
       "shape": {
        "columns": 3,
        "rows": 5
       }
      },
      "text/html": [
       "<div>\n",
       "<style scoped>\n",
       "    .dataframe tbody tr th:only-of-type {\n",
       "        vertical-align: middle;\n",
       "    }\n",
       "\n",
       "    .dataframe tbody tr th {\n",
       "        vertical-align: top;\n",
       "    }\n",
       "\n",
       "    .dataframe thead th {\n",
       "        text-align: right;\n",
       "    }\n",
       "</style>\n",
       "<table border=\"1\" class=\"dataframe\">\n",
       "  <thead>\n",
       "    <tr style=\"text-align: right;\">\n",
       "      <th></th>\n",
       "      <th>anime_id</th>\n",
       "      <th>review</th>\n",
       "      <th>processed_review</th>\n",
       "    </tr>\n",
       "  </thead>\n",
       "  <tbody>\n",
       "    <tr>\n",
       "      <th>0</th>\n",
       "      <td>5</td>\n",
       "      <td>Cowboy Bebop: Knockin' on Heaven's Door is a g...</td>\n",
       "      <td>cowboy bebop knockin heaven door great additio...</td>\n",
       "    </tr>\n",
       "    <tr>\n",
       "      <th>1</th>\n",
       "      <td>5</td>\n",
       "      <td>I'm never that comfortable with films of serie...</td>\n",
       "      <td>never comfortable film series mostly often fil...</td>\n",
       "    </tr>\n",
       "    <tr>\n",
       "      <th>2</th>\n",
       "      <td>5</td>\n",
       "      <td>Cowboy Bebop: Knockin' on Heaven's Door was re...</td>\n",
       "      <td>cowboy bebop knockin heaven door released japa...</td>\n",
       "    </tr>\n",
       "    <tr>\n",
       "      <th>3</th>\n",
       "      <td>5</td>\n",
       "      <td>It was a good follow up (in-between, actually)...</td>\n",
       "      <td>good follow actually series suggest youre plan...</td>\n",
       "    </tr>\n",
       "    <tr>\n",
       "      <th>4</th>\n",
       "      <td>5</td>\n",
       "      <td>Warning : minor spoilers ahead It was a month ...</td>\n",
       "      <td>warning minor spoiler ahead month ago finished...</td>\n",
       "    </tr>\n",
       "  </tbody>\n",
       "</table>\n",
       "</div>"
      ],
      "text/plain": [
       "   anime_id                                             review  \\\n",
       "0         5  Cowboy Bebop: Knockin' on Heaven's Door is a g...   \n",
       "1         5  I'm never that comfortable with films of serie...   \n",
       "2         5  Cowboy Bebop: Knockin' on Heaven's Door was re...   \n",
       "3         5  It was a good follow up (in-between, actually)...   \n",
       "4         5  Warning : minor spoilers ahead It was a month ...   \n",
       "\n",
       "                                    processed_review  \n",
       "0  cowboy bebop knockin heaven door great additio...  \n",
       "1  never comfortable film series mostly often fil...  \n",
       "2  cowboy bebop knockin heaven door released japa...  \n",
       "3  good follow actually series suggest youre plan...  \n",
       "4  warning minor spoiler ahead month ago finished...  "
      ]
     },
     "execution_count": 19,
     "metadata": {},
     "output_type": "execute_result"
    }
   ],
   "source": [
    "df.head()"
   ]
  },
  {
   "cell_type": "code",
   "execution_count": 8,
   "id": "7db9dd5a",
   "metadata": {},
   "outputs": [],
   "source": [
    "import textwrap"
   ]
  },
  {
   "cell_type": "markdown",
   "id": "6bd69b4a",
   "metadata": {},
   "source": [
    "Wrap text to make for easier reading"
   ]
  },
  {
   "cell_type": "code",
   "execution_count": 20,
   "id": "12421ff7",
   "metadata": {},
   "outputs": [],
   "source": [
    "df[\"review\"] = df[\"review\"].apply(lambda x: \"\\n\".join(textwrap.wrap(x, width=180)))"
   ]
  },
  {
   "cell_type": "code",
   "execution_count": 22,
   "id": "d29fe497",
   "metadata": {},
   "outputs": [],
   "source": [
    "df[\"processed_review\"] = df[\"processed_review\"].apply(lambda x: \"\\n\".join(textwrap.wrap(x, width=180)))"
   ]
  },
  {
   "cell_type": "code",
   "execution_count": 21,
   "id": "692d6f1d",
   "metadata": {},
   "outputs": [
    {
     "name": "stdout",
     "output_type": "stream",
     "text": [
      "Cowboy Bebop: Knockin' on Heaven's Door is a great addition to the Cowboy Bebop series, but no more. It is by no means a sequel, and after watching it, I found that it's best\n",
      "watched in the middle of the series, and not neccesarily at the end. If it's got a specific place or not, that I don't know, but that's not very important at any rate, and if\n",
      "you've watched the entire series, it shouldn't be hard to mentally place it inside the series anyway. This time, a terrorist possesses a weapon capable of killing countless people,\n",
      "and there's a bounty of 300 millionwoolongs on him; the largest bounty ever given. Of course, this means that our heroes will chase him. And so starts the process of gathering\n",
      "information, meeting and getting to know people related to the bounty in some way, and eventually, squaring off against him in a final fight. Oh, and throw in a save-the-world\n",
      "thing this time, and there you have the movie. Nothing really new, a formula that's been used several times. There's also details here and there left unexplained, and things  may\n",
      "just happen for no reason at the rare occasion. Its 120 minutes might be a little too long to some, but it never came off as boring at any point to me; they certainly did a good\n",
      "job of fleshing out those 120 minutes.   Though, that may be credited more to the characters than the plot itself, as the movie threw some really interesting characters at us. The\n",
      "orignal cast is, well, pretty much the same as they always are, the same characters which you (probably) got to love while watching the original series. As for the movie\n",
      "characters, we have for example Vincent, the main bad guy. He's quite the interesting fellow, though the more I think about it, the more I can't help but feel that I've experienced\n",
      "his type somewhat before - he's got a mysterious past; a forgotten love included, he's going to kill loads of people for no good reason, and he blathers out sentences about\n",
      "religion and whatnot. Nevertheless, he comes off as an interesting character, mostly because of him being similar to Spike - both in physical prowess and their considering\n",
      "themselves 'dead' men due to past events. Then we have Electra, Vincent's past love once forgotten. She remembers him though, and well, she wants him to remember her as well. We\n",
      "can see where that's heading...  The animation quality is superb; its detail and overall quality is unmistakably a work done by people who knows what they are doing. Be it\n",
      "backgrounds or landscapes, they're all top-notch. Lighting effects are good, and more than I'd exect from something out of 2001, and the overall quality of special effects are\n",
      "great; much, much better than the original series. The character designs are the same old, with some improvements, and they work very well with this anime and movie. The character\n",
      "motions and their fluidity are great, and the few action scenes in the movie are done so well that I could probably learn some nice figthing moves merely from studying them. The\n",
      "coloring is the only thing that's a bit behind, but considering its age it's not a problem. And moreso, the dulled coloring actually melds perfectly with the style of the movie,\n",
      "and helps on the movie's atmosphere.  The soundtrack is what you should expect from the original series; awesome. Yoko Kanno does her work as she did in the series; with an amazing\n",
      "soundtrack that fits perfectly with the atmosphere of the movie and its individual scenes, and the opening and ending themes are wonderful to listen to. The only downside is that\n",
      "there is a lot of silent scenes, where no background music is present at all.   Cowboy Bebop: Knockin' On Heaven's Door is a movie that delivers the goods, but stops at that. It's\n",
      "not marvelous, but it's great, and a must-see movie for any Cowboy Bebop fan.\n"
     ]
    }
   ],
   "source": [
    "print(df.loc[0, \"review\"])"
   ]
  },
  {
   "cell_type": "code",
   "execution_count": 23,
   "id": "3e7a6135",
   "metadata": {},
   "outputs": [
    {
     "name": "stdout",
     "output_type": "stream",
     "text": [
      "cowboy bebop knockin heaven door great addition cowboy bebop series mean sequel watching found best watched middle series neccesarily end got specific place know important rate\n",
      "watched entire series hard mentally place inside series anyway time terrorist posse weapon capable killing countless people bounty millionwoolongs largest bounty ever given course\n",
      "mean hero chase start process gathering information meeting getting know people related bounty way eventually squaring final fight oh throw save world thing time movie nothing\n",
      "really new formula used several time also detail left unexplained thing may happen reason rare occasion minute might little long never came boring point certainly good job fleshing\n",
      "minute though may credited character plot movie threw really interesting character u orignal cast well pretty much always character probably got love watching original series movie\n",
      "character example vincent main bad guy quite interesting fellow though think help feel experienced type somewhat got mysterious past forgotten love included going kill load people\n",
      "good reason blather sentence religion whatnot nevertheless come interesting character mostly similar spike physical prowess considering dead men due past event electra vincent past\n",
      "love forgotten remembers though well want remember well see heading animation quality superb detail overall quality unmistakably work done people know background landscape top\n",
      "notch lighting effect good exect something overall quality special effect great much much better original series character design old improvement work well anime movie character\n",
      "motion fluidity great action scene movie done well could probably learn nice figthing move merely studying coloring thing bit behind considering age problem moreso dulled coloring\n",
      "actually meld perfectly style movie help movie atmosphere soundtrack expect original series awesome yoko kanno work series amazing soundtrack fit perfectly atmosphere movie\n",
      "individual scene opening ending theme wonderful listen downside lot silent scene background music present cowboy bebop knockin heaven door movie delivers good stop marvelous great\n",
      "must see movie cowboy bebop fan\n"
     ]
    }
   ],
   "source": [
    "print(df.loc[0, \"processed_review\"])"
   ]
  }
 ],
 "metadata": {
  "kernelspec": {
   "display_name": ".venv",
   "language": "python",
   "name": "python3"
  },
  "language_info": {
   "codemirror_mode": {
    "name": "ipython",
    "version": 3
   },
   "file_extension": ".py",
   "mimetype": "text/x-python",
   "name": "python",
   "nbconvert_exporter": "python",
   "pygments_lexer": "ipython3",
   "version": "3.12.2"
  }
 },
 "nbformat": 4,
 "nbformat_minor": 5
}
