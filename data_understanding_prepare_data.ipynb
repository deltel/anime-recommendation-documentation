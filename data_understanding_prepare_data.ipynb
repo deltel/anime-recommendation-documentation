{
 "cells": [
  {
   "cell_type": "markdown",
   "id": "ea0a8f31",
   "metadata": {},
   "source": [
    "## Prepare Data"
   ]
  },
  {
   "cell_type": "markdown",
   "id": "1429df35",
   "metadata": {},
   "source": [
    "### Anime Recommendations Database"
   ]
  },
  {
   "cell_type": "markdown",
   "id": "da268d4a",
   "metadata": {},
   "source": [
    "#### Anime Listing"
   ]
  },
  {
   "cell_type": "code",
   "execution_count": 21,
   "id": "ce260f28",
   "metadata": {},
   "outputs": [],
   "source": [
    "import pandas as pd\n",
    "cuAnime = pd.read_csv(\"E:\\\\applied data science capstone\\\\data\\\\CooperUnion\\\\archive\\\\anime.csv\")"
   ]
  },
  {
   "cell_type": "code",
   "execution_count": 22,
   "id": "56179a24",
   "metadata": {},
   "outputs": [
    {
     "data": {
      "application/vnd.microsoft.datawrangler.viewer.v0+json": {
       "columns": [
        {
         "name": "index",
         "rawType": "object",
         "type": "string"
        },
        {
         "name": "count",
         "rawType": "float64",
         "type": "float"
        }
       ],
       "ref": "c6176128-0dc9-4c75-9974-403015cc4925",
       "rows": [
        [
         "count",
         "2197.0"
        ],
        [
         "mean",
         "2.7783340919435595"
        ],
        [
         "std",
         "8.551703052160956"
        ],
        [
         "min",
         "1.0"
        ],
        [
         "25%",
         "1.0"
        ],
        [
         "50%",
         "1.0"
        ],
        [
         "75%",
         "2.0"
        ],
        [
         "max",
         "251.0"
        ]
       ],
       "shape": {
        "columns": 1,
        "rows": 8
       }
      },
      "text/html": [
       "<div>\n",
       "<style scoped>\n",
       "    .dataframe tbody tr th:only-of-type {\n",
       "        vertical-align: middle;\n",
       "    }\n",
       "\n",
       "    .dataframe tbody tr th {\n",
       "        vertical-align: top;\n",
       "    }\n",
       "\n",
       "    .dataframe thead th {\n",
       "        text-align: right;\n",
       "    }\n",
       "</style>\n",
       "<table border=\"1\" class=\"dataframe\">\n",
       "  <thead>\n",
       "    <tr style=\"text-align: right;\">\n",
       "      <th></th>\n",
       "      <th>count</th>\n",
       "    </tr>\n",
       "  </thead>\n",
       "  <tbody>\n",
       "    <tr>\n",
       "      <th>count</th>\n",
       "      <td>2197.000000</td>\n",
       "    </tr>\n",
       "    <tr>\n",
       "      <th>mean</th>\n",
       "      <td>2.778334</td>\n",
       "    </tr>\n",
       "    <tr>\n",
       "      <th>std</th>\n",
       "      <td>8.551703</td>\n",
       "    </tr>\n",
       "    <tr>\n",
       "      <th>min</th>\n",
       "      <td>1.000000</td>\n",
       "    </tr>\n",
       "    <tr>\n",
       "      <th>25%</th>\n",
       "      <td>1.000000</td>\n",
       "    </tr>\n",
       "    <tr>\n",
       "      <th>50%</th>\n",
       "      <td>1.000000</td>\n",
       "    </tr>\n",
       "    <tr>\n",
       "      <th>75%</th>\n",
       "      <td>2.000000</td>\n",
       "    </tr>\n",
       "    <tr>\n",
       "      <th>max</th>\n",
       "      <td>251.000000</td>\n",
       "    </tr>\n",
       "  </tbody>\n",
       "</table>\n",
       "</div>"
      ],
      "text/plain": [
       "             count\n",
       "count  2197.000000\n",
       "mean      2.778334\n",
       "std       8.551703\n",
       "min       1.000000\n",
       "25%       1.000000\n",
       "50%       1.000000\n",
       "75%       2.000000\n",
       "max     251.000000"
      ]
     },
     "execution_count": 22,
     "metadata": {},
     "output_type": "execute_result"
    }
   ],
   "source": [
    "# remove hentai genre and filter for tv and movie in the type feature\n",
    "no_hentai_df = cuAnime.loc[cuAnime[\"genre\"] != \"Hentai\", :]\n",
    "cu_anime_df = no_hentai_df.loc[~no_hentai_df[\"type\"].isin([\"Music\", \"ONA\", \"OVA\", \"Special\"]), :]\n",
    "\n",
    "genre_df = cu_anime_df[\"genre\"].value_counts().to_frame()\n",
    "genre_df = genre_df.reset_index()\n",
    "genre_df.describe()"
   ]
  },
  {
   "cell_type": "code",
   "execution_count": 23,
   "id": "e9c5a209",
   "metadata": {},
   "outputs": [
    {
     "data": {
      "application/vnd.microsoft.datawrangler.viewer.v0+json": {
       "columns": [
        {
         "name": "index",
         "rawType": "int64",
         "type": "integer"
        },
        {
         "name": "genre",
         "rawType": "object",
         "type": "string"
        },
        {
         "name": "count",
         "rawType": "int64",
         "type": "integer"
        }
       ],
       "ref": "2ffea4eb-7739-412e-b80a-fee2cd7b3c37",
       "rows": [
        [
         "0",
         "Comedy",
         "251"
        ],
        [
         "1",
         "Kids",
         "135"
        ],
        [
         "2",
         "Dementia",
         "124"
        ],
        [
         "3",
         "Comedy, Slice of Life",
         "98"
        ],
        [
         "4",
         "Comedy, Kids",
         "86"
        ]
       ],
       "shape": {
        "columns": 2,
        "rows": 5
       }
      },
      "text/html": [
       "<div>\n",
       "<style scoped>\n",
       "    .dataframe tbody tr th:only-of-type {\n",
       "        vertical-align: middle;\n",
       "    }\n",
       "\n",
       "    .dataframe tbody tr th {\n",
       "        vertical-align: top;\n",
       "    }\n",
       "\n",
       "    .dataframe thead th {\n",
       "        text-align: right;\n",
       "    }\n",
       "</style>\n",
       "<table border=\"1\" class=\"dataframe\">\n",
       "  <thead>\n",
       "    <tr style=\"text-align: right;\">\n",
       "      <th></th>\n",
       "      <th>genre</th>\n",
       "      <th>count</th>\n",
       "    </tr>\n",
       "  </thead>\n",
       "  <tbody>\n",
       "    <tr>\n",
       "      <th>0</th>\n",
       "      <td>Comedy</td>\n",
       "      <td>251</td>\n",
       "    </tr>\n",
       "    <tr>\n",
       "      <th>1</th>\n",
       "      <td>Kids</td>\n",
       "      <td>135</td>\n",
       "    </tr>\n",
       "    <tr>\n",
       "      <th>2</th>\n",
       "      <td>Dementia</td>\n",
       "      <td>124</td>\n",
       "    </tr>\n",
       "    <tr>\n",
       "      <th>3</th>\n",
       "      <td>Comedy, Slice of Life</td>\n",
       "      <td>98</td>\n",
       "    </tr>\n",
       "    <tr>\n",
       "      <th>4</th>\n",
       "      <td>Comedy, Kids</td>\n",
       "      <td>86</td>\n",
       "    </tr>\n",
       "  </tbody>\n",
       "</table>\n",
       "</div>"
      ],
      "text/plain": [
       "                   genre  count\n",
       "0                 Comedy    251\n",
       "1                   Kids    135\n",
       "2               Dementia    124\n",
       "3  Comedy, Slice of Life     98\n",
       "4           Comedy, Kids     86"
      ]
     },
     "execution_count": 23,
     "metadata": {},
     "output_type": "execute_result"
    }
   ],
   "source": [
    "genre_df.head()"
   ]
  },
  {
   "cell_type": "code",
   "execution_count": 24,
   "id": "face47bf",
   "metadata": {},
   "outputs": [],
   "source": [
    "import plotly.express as px\n",
    "from IPython.display import Image\n",
    "plots_location = \"E:\\\\applied data science capstone\\\\anime-recommendation\\\\preparation\""
   ]
  },
  {
   "cell_type": "markdown",
   "id": "cde449ea",
   "metadata": {},
   "source": [
    "Hentai is no longer in the genre"
   ]
  },
  {
   "cell_type": "code",
   "execution_count": 25,
   "id": "a10cd075",
   "metadata": {},
   "outputs": [
    {
     "data": {
      "image/png": "[encoded data removed]",
      "text/plain": [
       "<IPython.core.display.Image object>"
      ]
     },
     "execution_count": 25,
     "metadata": {},
     "output_type": "execute_result"
    }
   ],
   "source": [
    "genre_df = genre_df[genre_df[\"count\"] > 2]\n",
    "fig = px.treemap(genre_df, path=['genre'], values='count', title=\"Genre Distribution\")\n",
    "fig.write_image(f\"{plots_location}\\\\anime_recommendations_database\\\\genre_distribution.png\")\n",
    "Image(filename=f\"{plots_location}\\\\anime_recommendations_database\\\\genre_distribution.png\")"
   ]
  },
  {
   "cell_type": "markdown",
   "id": "e42910f0",
   "metadata": {},
   "source": [
    "Left with the two types that we are interested in"
   ]
  },
  {
   "cell_type": "code",
   "execution_count": 26,
   "id": "598fc309",
   "metadata": {},
   "outputs": [
    {
     "data": {
      "image/png": "[encoded data removed]",
      "text/plain": [
       "<IPython.core.display.Image object>"
      ]
     },
     "execution_count": 26,
     "metadata": {},
     "output_type": "execute_result"
    }
   ],
   "source": [
    "type_df = cu_anime_df[\"type\"].value_counts().to_frame()\n",
    "type_df = type_df.reset_index()\n",
    "fig = px.treemap(type_df, path=['type'], values='count', title=\"Type Distribution\")\n",
    "fig.write_image(f\"{plots_location}\\\\anime_recommendations_database\\\\type_distribution.png\")\n",
    "Image(filename=f\"{plots_location}\\\\anime_recommendations_database\\\\type_distribution.png\")"
   ]
  },
  {
   "cell_type": "code",
   "execution_count": 27,
   "id": "ece8d086",
   "metadata": {},
   "outputs": [
    {
     "data": {
      "application/vnd.microsoft.datawrangler.viewer.v0+json": {
       "columns": [
        {
         "name": "index",
         "rawType": "object",
         "type": "string"
        },
        {
         "name": "name",
         "rawType": "object",
         "type": "unknown"
        },
        {
         "name": "genre",
         "rawType": "object",
         "type": "unknown"
        },
        {
         "name": "type",
         "rawType": "object",
         "type": "unknown"
        },
        {
         "name": "episodes",
         "rawType": "object",
         "type": "unknown"
        }
       ],
       "ref": "b7917852-682e-4631-9cbf-fd7a0c7cef14",
       "rows": [
        [
         "count",
         "6159",
         "6104",
         "6134",
         "6159"
        ],
        [
         "unique",
         "6159",
         "2197",
         "2",
         "187"
        ],
        [
         "top",
         "Kimi no Na wa.",
         "Comedy",
         "TV",
         "1"
        ],
        [
         "freq",
         "1",
         "251",
         "3787",
         "2310"
        ]
       ],
       "shape": {
        "columns": 4,
        "rows": 4
       }
      },
      "text/html": [
       "<div>\n",
       "<style scoped>\n",
       "    .dataframe tbody tr th:only-of-type {\n",
       "        vertical-align: middle;\n",
       "    }\n",
       "\n",
       "    .dataframe tbody tr th {\n",
       "        vertical-align: top;\n",
       "    }\n",
       "\n",
       "    .dataframe thead th {\n",
       "        text-align: right;\n",
       "    }\n",
       "</style>\n",
       "<table border=\"1\" class=\"dataframe\">\n",
       "  <thead>\n",
       "    <tr style=\"text-align: right;\">\n",
       "      <th></th>\n",
       "      <th>name</th>\n",
       "      <th>genre</th>\n",
       "      <th>type</th>\n",
       "      <th>episodes</th>\n",
       "    </tr>\n",
       "  </thead>\n",
       "  <tbody>\n",
       "    <tr>\n",
       "      <th>count</th>\n",
       "      <td>6159</td>\n",
       "      <td>6104</td>\n",
       "      <td>6134</td>\n",
       "      <td>6159</td>\n",
       "    </tr>\n",
       "    <tr>\n",
       "      <th>unique</th>\n",
       "      <td>6159</td>\n",
       "      <td>2197</td>\n",
       "      <td>2</td>\n",
       "      <td>187</td>\n",
       "    </tr>\n",
       "    <tr>\n",
       "      <th>top</th>\n",
       "      <td>Kimi no Na wa.</td>\n",
       "      <td>Comedy</td>\n",
       "      <td>TV</td>\n",
       "      <td>1</td>\n",
       "    </tr>\n",
       "    <tr>\n",
       "      <th>freq</th>\n",
       "      <td>1</td>\n",
       "      <td>251</td>\n",
       "      <td>3787</td>\n",
       "      <td>2310</td>\n",
       "    </tr>\n",
       "  </tbody>\n",
       "</table>\n",
       "</div>"
      ],
      "text/plain": [
       "                  name   genre  type episodes\n",
       "count             6159    6104  6134     6159\n",
       "unique            6159    2197     2      187\n",
       "top     Kimi no Na wa.  Comedy    TV        1\n",
       "freq                 1     251  3787     2310"
      ]
     },
     "execution_count": 27,
     "metadata": {},
     "output_type": "execute_result"
    }
   ],
   "source": [
    "cu_anime_df.describe(include=object)"
   ]
  },
  {
   "cell_type": "markdown",
   "id": "0f914a67",
   "metadata": {},
   "source": [
    "All the names are now unique  \n",
    "As we can see episodes is an object, we need to address that."
   ]
  },
  {
   "cell_type": "code",
   "execution_count": 28,
   "id": "67d45c94",
   "metadata": {},
   "outputs": [
    {
     "data": {
      "application/vnd.microsoft.datawrangler.viewer.v0+json": {
       "columns": [
        {
         "name": "index",
         "rawType": "object",
         "type": "string"
        },
        {
         "name": "anime_id",
         "rawType": "float64",
         "type": "float"
        },
        {
         "name": "rating",
         "rawType": "float64",
         "type": "float"
        },
        {
         "name": "members",
         "rawType": "float64",
         "type": "float"
        }
       ],
       "ref": "7f48163c-24a7-4bc0-9afc-177145708287",
       "rows": [
        [
         "count",
         "6159.0",
         "5967.0",
         "6159.0"
        ],
        [
         "mean",
         "13165.832440331222",
         "6.677637003519356",
         "30221.202630297124"
        ],
        [
         "std",
         "11434.431390112059",
         "1.051000886385437",
         "74131.50826013564"
        ],
        [
         "min",
         "1.0",
         "1.92",
         "5.0"
        ],
        [
         "25%",
         "2816.5",
         "6.15",
         "230.5"
        ],
        [
         "50%",
         "9303.0",
         "6.8",
         "1975.0"
        ],
        [
         "75%",
         "23123.0",
         "7.39",
         "22931.5"
        ],
        [
         "max",
         "34527.0",
         "10.0",
         "1013917.0"
        ]
       ],
       "shape": {
        "columns": 3,
        "rows": 8
       }
      },
      "text/html": [
       "<div>\n",
       "<style scoped>\n",
       "    .dataframe tbody tr th:only-of-type {\n",
       "        vertical-align: middle;\n",
       "    }\n",
       "\n",
       "    .dataframe tbody tr th {\n",
       "        vertical-align: top;\n",
       "    }\n",
       "\n",
       "    .dataframe thead th {\n",
       "        text-align: right;\n",
       "    }\n",
       "</style>\n",
       "<table border=\"1\" class=\"dataframe\">\n",
       "  <thead>\n",
       "    <tr style=\"text-align: right;\">\n",
       "      <th></th>\n",
       "      <th>anime_id</th>\n",
       "      <th>rating</th>\n",
       "      <th>members</th>\n",
       "    </tr>\n",
       "  </thead>\n",
       "  <tbody>\n",
       "    <tr>\n",
       "      <th>count</th>\n",
       "      <td>6159.00000</td>\n",
       "      <td>5967.000000</td>\n",
       "      <td>6.159000e+03</td>\n",
       "    </tr>\n",
       "    <tr>\n",
       "      <th>mean</th>\n",
       "      <td>13165.83244</td>\n",
       "      <td>6.677637</td>\n",
       "      <td>3.022120e+04</td>\n",
       "    </tr>\n",
       "    <tr>\n",
       "      <th>std</th>\n",
       "      <td>11434.43139</td>\n",
       "      <td>1.051001</td>\n",
       "      <td>7.413151e+04</td>\n",
       "    </tr>\n",
       "    <tr>\n",
       "      <th>min</th>\n",
       "      <td>1.00000</td>\n",
       "      <td>1.920000</td>\n",
       "      <td>5.000000e+00</td>\n",
       "    </tr>\n",
       "    <tr>\n",
       "      <th>25%</th>\n",
       "      <td>2816.50000</td>\n",
       "      <td>6.150000</td>\n",
       "      <td>2.305000e+02</td>\n",
       "    </tr>\n",
       "    <tr>\n",
       "      <th>50%</th>\n",
       "      <td>9303.00000</td>\n",
       "      <td>6.800000</td>\n",
       "      <td>1.975000e+03</td>\n",
       "    </tr>\n",
       "    <tr>\n",
       "      <th>75%</th>\n",
       "      <td>23123.00000</td>\n",
       "      <td>7.390000</td>\n",
       "      <td>2.293150e+04</td>\n",
       "    </tr>\n",
       "    <tr>\n",
       "      <th>max</th>\n",
       "      <td>34527.00000</td>\n",
       "      <td>10.000000</td>\n",
       "      <td>1.013917e+06</td>\n",
       "    </tr>\n",
       "  </tbody>\n",
       "</table>\n",
       "</div>"
      ],
      "text/plain": [
       "          anime_id       rating       members\n",
       "count   6159.00000  5967.000000  6.159000e+03\n",
       "mean   13165.83244     6.677637  3.022120e+04\n",
       "std    11434.43139     1.051001  7.413151e+04\n",
       "min        1.00000     1.920000  5.000000e+00\n",
       "25%     2816.50000     6.150000  2.305000e+02\n",
       "50%     9303.00000     6.800000  1.975000e+03\n",
       "75%    23123.00000     7.390000  2.293150e+04\n",
       "max    34527.00000    10.000000  1.013917e+06"
      ]
     },
     "execution_count": 28,
     "metadata": {},
     "output_type": "execute_result"
    }
   ],
   "source": [
    "cu_anime_df.describe()"
   ]
  },
  {
   "cell_type": "markdown",
   "id": "5ce9e2d4",
   "metadata": {},
   "source": [
    "Rating is what is called score in the other datasets and will be dropped."
   ]
  },
  {
   "cell_type": "code",
   "execution_count": 29,
   "id": "32b3f596",
   "metadata": {},
   "outputs": [],
   "source": [
    "cu_anime_df = cu_anime_df.drop(columns=[\"rating\"])"
   ]
  },
  {
   "cell_type": "code",
   "execution_count": 30,
   "id": "e8913e25",
   "metadata": {},
   "outputs": [
    {
     "data": {
      "text/plain": [
       "array(['1', '64', '51', '24', '10', '148', '13', '201', '25', '22', '75',\n",
       "       '26', '12', '27', '43', '74', '37', '11', '2', '99', 'Unknown',\n",
       "       '39', '101', '47', '50', '62', '33', '112', '23', '94', '40', '15',\n",
       "       '203', '77', '291', '4', '120', '102', '96', '38', '79', '175',\n",
       "       '103', '70', '153', '45', '21', '14', '63', '52', '5', '3', '145',\n",
       "       '36', '69', '60', '178', '114', '35', '61', '34', '109', '49',\n",
       "       '366', '97', '78', '358', '155', '20', '104', '113', '48', '54',\n",
       "       '167', '161', '42', '142', '31', '373', '8', '220', '46', '195',\n",
       "       '17', '1787', '73', '147', '127', '19', '6', '98', '150', '76',\n",
       "       '53', '124', '29', '115', '224', '44', '58', '93', '154', '92',\n",
       "       '67', '172', '9', '86', '30', '276', '59', '72', '330', '7', '41',\n",
       "       '105', '128', '137', '56', '55', '65', '243', '193', '18', '191',\n",
       "       '180', '91', '192', '66', '16', '182', '32', '164', '100', '296',\n",
       "       '694', '95', '68', '117', '151', '130', '87', '170', '119', '84',\n",
       "       '108', '28', '156', '140', '331', '305', '300', '510', '200', '88',\n",
       "       '1471', '526', '143', '726', '136', '1818', '237', '1428', '365',\n",
       "       '163', '283', '71', '260', '199', '225', '312', '240', '1306',\n",
       "       '1565', '773', '110', '1274', '90', '475', '263', '83', '85',\n",
       "       '1006', '80', '162', '132', '141', '125'], dtype=object)"
      ]
     },
     "execution_count": 30,
     "metadata": {},
     "output_type": "execute_result"
    }
   ],
   "source": [
    "cu_anime_df[\"episodes\"].unique()"
   ]
  },
  {
   "cell_type": "code",
   "execution_count": 31,
   "id": "0860f832",
   "metadata": {},
   "outputs": [
    {
     "data": {
      "image/png": "[encoded data removed]",
      "text/plain": [
       "<IPython.core.display.Image object>"
      ]
     },
     "execution_count": 31,
     "metadata": {},
     "output_type": "execute_result"
    }
   ],
   "source": [
    "episodes_df = cu_anime_df[\"episodes\"].value_counts().to_frame()\n",
    "episodes_df = episodes_df.reset_index()\n",
    "fig = px.treemap(episodes_df, path=['episodes'], values='count', title=\"Episodes Distribution\")\n",
    "fig.write_image(f\"{plots_location}\\\\anime_recommendations_database\\\\episode_distribution.png\")\n",
    "Image(filename=f\"{plots_location}\\\\anime_recommendations_database\\\\episode_distribution.png\")"
   ]
  },
  {
   "cell_type": "markdown",
   "id": "414c65bb",
   "metadata": {},
   "source": [
    "Episodes have some missing values. After combining with the other datasets, we'll see if these are addressed."
   ]
  },
  {
   "cell_type": "code",
   "execution_count": 32,
   "id": "682de517",
   "metadata": {},
   "outputs": [
    {
     "name": "stdout",
     "output_type": "stream",
     "text": [
      "<class 'pandas.core.frame.DataFrame'>\n",
      "Index: 6159 entries, 0 to 12259\n",
      "Data columns (total 6 columns):\n",
      " #   Column    Non-Null Count  Dtype \n",
      "---  ------    --------------  ----- \n",
      " 0   anime_id  6159 non-null   int64 \n",
      " 1   name      6159 non-null   object\n",
      " 2   genre     6104 non-null   object\n",
      " 3   type      6134 non-null   object\n",
      " 4   episodes  6159 non-null   object\n",
      " 5   members   6159 non-null   int64 \n",
      "dtypes: int64(2), object(4)\n",
      "memory usage: 336.8+ KB\n"
     ]
    }
   ],
   "source": [
    "cu_anime_df.info()"
   ]
  },
  {
   "cell_type": "markdown",
   "id": "0d67fa8a",
   "metadata": {},
   "source": [
    "#### Anime ratings for each user"
   ]
  },
  {
   "cell_type": "markdown",
   "id": "9cded49a",
   "metadata": {},
   "source": [
    "As a reminder we have some missing values in the form of negative values. These will be dropped"
   ]
  },
  {
   "cell_type": "code",
   "execution_count": 33,
   "id": "d99aaa55",
   "metadata": {},
   "outputs": [
    {
     "data": {
      "application/vnd.microsoft.datawrangler.viewer.v0+json": {
       "columns": [
        {
         "name": "index",
         "rawType": "object",
         "type": "string"
        },
        {
         "name": "0",
         "rawType": "int64",
         "type": "integer"
        }
       ],
       "ref": "db1e947e-f675-479e-a941-b0384c81d324",
       "rows": [
        [
         "user_id",
         "1476496"
        ],
        [
         "anime_id",
         "1476496"
        ],
        [
         "rating",
         "1476496"
        ]
       ],
       "shape": {
        "columns": 1,
        "rows": 3
       }
      },
      "text/plain": [
       "user_id     1476496\n",
       "anime_id    1476496\n",
       "rating      1476496\n",
       "dtype: int64"
      ]
     },
     "execution_count": 33,
     "metadata": {},
     "output_type": "execute_result"
    }
   ],
   "source": [
    "cuRating = pd.read_csv(\"E:\\\\applied data science capstone\\\\data\\\\CooperUnion\\\\archive\\\\rating.csv\")\n",
    "cuRating[cuRating[\"rating\"] < 0].count()"
   ]
  },
  {
   "cell_type": "code",
   "execution_count": 34,
   "id": "5a6215e9",
   "metadata": {},
   "outputs": [
    {
     "data": {
      "application/vnd.microsoft.datawrangler.viewer.v0+json": {
       "columns": [
        {
         "name": "index",
         "rawType": "object",
         "type": "string"
        },
        {
         "name": "0",
         "rawType": "int64",
         "type": "integer"
        }
       ],
       "ref": "b48d79a4-f1a3-427a-9484-76f2bd7f1f7d",
       "rows": [
        [
         "user_id",
         "0"
        ],
        [
         "anime_id",
         "0"
        ],
        [
         "rating",
         "0"
        ]
       ],
       "shape": {
        "columns": 1,
        "rows": 3
       }
      },
      "text/plain": [
       "user_id     0\n",
       "anime_id    0\n",
       "rating      0\n",
       "dtype: int64"
      ]
     },
     "execution_count": 34,
     "metadata": {},
     "output_type": "execute_result"
    }
   ],
   "source": [
    "cu_rating_df = cuRating[cuRating[\"rating\"] >= 0]\n",
    "cu_rating_df[cu_rating_df[\"rating\"] < 0].count()"
   ]
  },
  {
   "cell_type": "code",
   "execution_count": 35,
   "id": "1bd2aa44",
   "metadata": {},
   "outputs": [],
   "source": [
    "import matplotlib.pyplot as plt\n",
    "import seaborn as sns"
   ]
  },
  {
   "cell_type": "code",
   "execution_count": 36,
   "id": "f18c1f58",
   "metadata": {},
   "outputs": [
    {
     "data": {
      "image/png": "[encoded data removed]",
      "text/plain": [
       "<Figure size 1000x500 with 1 Axes>"
      ]
     },
     "metadata": {},
     "output_type": "display_data"
    }
   ],
   "source": [
    "plt.figure(figsize=(10, 5))\n",
    "\n",
    "sns.boxplot(data=cu_rating_df[\"rating\"], color=\"lightgreen\")\n",
    "plt.title('Anime Recommendations Database\\nUser Rating Distribution')\n",
    "plt.ylabel('User Rating')\n",
    "\n",
    "plt.tight_layout()\n",
    "plt.savefig(f\"{plots_location}\\\\anime_recommendations_database\\\\user_rating_distribution.png\")\n",
    "plt.show()"
   ]
  },
  {
   "cell_type": "markdown",
   "id": "f285a2a8",
   "metadata": {},
   "source": [
    "There are no more missing values."
   ]
  },
  {
   "cell_type": "markdown",
   "id": "a55419f1",
   "metadata": {},
   "source": [
    "### Anime Recommendations Database 2020"
   ]
  },
  {
   "cell_type": "markdown",
   "id": "d64abd85",
   "metadata": {},
   "source": [
    "#### Anime Listing"
   ]
  },
  {
   "cell_type": "markdown",
   "id": "e313dd5a",
   "metadata": {},
   "source": [
    "First thing to do is to drop the scores features as it contains a lot of unknowns and they will not be used in the recommendation models."
   ]
  },
  {
   "cell_type": "code",
   "execution_count": 37,
   "id": "ffc80336",
   "metadata": {},
   "outputs": [],
   "source": [
    "hernanAnime = pd.read_csv(\"E:\\\\applied data science capstone\\\\data\\\\hernan4444\\\\archive\\\\anime-hernan.csv\")\n",
    "hernan_anime_df = hernanAnime.drop(columns=[\"Score-10\", \"Score-9\", \"Score-8\", \"Score-7\", \"Score-6\", \"Score-5\", \n",
    "                                \"Score-4\", \"Score-3\", \"Score-2\", \"Score-1\", \"Score\"])"
   ]
  },
  {
   "cell_type": "markdown",
   "id": "7027b0c9",
   "metadata": {},
   "source": [
    "Removing the numeric columns that will not be used in the recommendation system as well as the Ranked column."
   ]
  },
  {
   "cell_type": "code",
   "execution_count": 38,
   "id": "0ad8425c",
   "metadata": {},
   "outputs": [],
   "source": [
    "hernan_anime_df = hernan_anime_df.drop(columns=[\"Popularity\", \"Members\", \"Favorites\", \"Watching\", \"Completed\", \"On-Hold\", \n",
    "                                                \"Dropped\", \"Plan to Watch\", \"Ranked\"])"
   ]
  },
  {
   "cell_type": "markdown",
   "id": "71c71428",
   "metadata": {},
   "source": [
    "Rename the MAL_ID field to anime_id to make it easier to remove duplicate animes from the combined dataset in the future."
   ]
  },
  {
   "cell_type": "code",
   "execution_count": 39,
   "id": "5ca1274b",
   "metadata": {},
   "outputs": [],
   "source": [
    "hernan_anime_df = hernan_anime_df.rename(columns={\"MAL_ID\": \"anime_id\"})"
   ]
  },
  {
   "cell_type": "markdown",
   "id": "2b7c8277",
   "metadata": {},
   "source": [
    "Next is to remove the types that will provide no value. We will restrict the types to Tv, movie and unknown."
   ]
  },
  {
   "cell_type": "code",
   "execution_count": 40,
   "id": "4f808dad",
   "metadata": {},
   "outputs": [
    {
     "data": {
      "image/png": "[encoded data removed]",
      "text/plain": [
       "<IPython.core.display.Image object>"
      ]
     },
     "execution_count": 40,
     "metadata": {},
     "output_type": "execute_result"
    }
   ],
   "source": [
    "hernan_anime_df = hernan_anime_df[hernan_anime_df[\"Type\"].isin([\"TV\", \"Movie\", \"Unknown\"])]\n",
    "type_df = hernan_anime_df[\"Type\"].value_counts().to_frame()\n",
    "type_df = type_df.reset_index()\n",
    "fig = px.treemap(type_df, path=['Type'], values='count', title=\"Type Distribution\")\n",
    "fig.write_image(f\"{plots_location}\\\\anime_recommendation_2020\\\\type_distribution.png\")\n",
    "Image(filename=f\"{plots_location}\\\\anime_recommendation_2020\\\\type_distribution.png\")"
   ]
  },
  {
   "cell_type": "markdown",
   "id": "eef7aa05",
   "metadata": {},
   "source": [
    "Unknown is a very small category with just 37. These may still be resolved once the datasets are combined."
   ]
  },
  {
   "cell_type": "markdown",
   "id": "7335958d",
   "metadata": {},
   "source": [
    "Removing the English Name and Japanese Name columns. The name column can be used to determine the name of the anime. Also dropping the aired column."
   ]
  },
  {
   "cell_type": "code",
   "execution_count": 41,
   "id": "2eb1c9e0",
   "metadata": {},
   "outputs": [],
   "source": [
    "hernan_anime_df = hernan_anime_df.drop(columns=[\"English name\", \"Japanese name\", \"Aired\"])"
   ]
  },
  {
   "cell_type": "markdown",
   "id": "9e714955",
   "metadata": {},
   "source": [
    "Removing the adult content"
   ]
  },
  {
   "cell_type": "code",
   "execution_count": 42,
   "id": "fe8d9544",
   "metadata": {},
   "outputs": [
    {
     "name": "stderr",
     "output_type": "stream",
     "text": [
      "C:\\Users\\Asus-Home\\AppData\\Local\\Temp\\ipykernel_26864\\1558220493.py:1: UserWarning:\n",
      "\n",
      "This pattern is interpreted as a regular expression, and has match groups. To actually get the groups, use str.extract.\n",
      "\n"
     ]
    }
   ],
   "source": [
    "hernan_anime_df = hernan_anime_df[~hernan_anime_df[\"Genres\"].str.contains(r\"(H|h)entai\")]"
   ]
  },
  {
   "cell_type": "markdown",
   "id": "0d5494e8",
   "metadata": {},
   "source": [
    "Converting the duration to minutes"
   ]
  },
  {
   "cell_type": "code",
   "execution_count": 43,
   "id": "9c788f77",
   "metadata": {},
   "outputs": [],
   "source": [
    "hernan_anime_df[\"Duration\"] = hernan_anime_df[\"Duration\"].apply(lambda x: x.replace(\" per ep.\", \"\"))"
   ]
  },
  {
   "cell_type": "code",
   "execution_count": 44,
   "id": "2565f2e8",
   "metadata": {},
   "outputs": [],
   "source": [
    "import numpy as np\n",
    "def convert_duration_to_seconds(duration):\n",
    "    if duration == \"Unknown\":\n",
    "        return np.nan\n",
    "    \n",
    "    timeSplits = duration.split('.')\n",
    "    seconds = 0\n",
    "    \n",
    "    for segment in timeSplits:\n",
    "        segment = segment.strip()\n",
    "        if 'sec' in segment:\n",
    "            seconds += int(segment.split(' ')[0].strip())\n",
    "        elif 'min' in segment:\n",
    "            seconds += int(segment.split(' ')[0].strip()) * 60\n",
    "        elif 'hr' in segment:\n",
    "            seconds += int(segment.split(' ')[0].strip()) * 60 * 60\n",
    "    \n",
    "    return seconds"
   ]
  },
  {
   "cell_type": "code",
   "execution_count": 45,
   "id": "96cdb2cc",
   "metadata": {},
   "outputs": [
    {
     "data": {
      "image/png": "[encoded data removed]",
      "text/plain": [
       "<IPython.core.display.Image object>"
      ]
     },
     "execution_count": 45,
     "metadata": {},
     "output_type": "execute_result"
    }
   ],
   "source": [
    "hernan_anime_df[\"duration_in_minutes\"] = hernan_anime_df[\"Duration\"].apply(lambda x: convert_duration_to_seconds(x) / 60)\n",
    "hernan_anime_df = hernan_anime_df.drop(columns=[\"Duration\"])\n",
    "\n",
    "duration_df = hernan_anime_df[\"duration_in_minutes\"].value_counts().to_frame()\n",
    "duration_df = duration_df.reset_index()\n",
    "fig = px.treemap(duration_df, path=['duration_in_minutes'], values='count', title=\"Duration Distribution\")\n",
    "fig.write_image(f\"{plots_location}\\\\anime_recommendation_2020\\\\duration_in_distribution.png\")\n",
    "Image(filename=f\"{plots_location}\\\\anime_recommendation_2020\\\\duration_in_distribution.png\")"
   ]
  },
  {
   "cell_type": "markdown",
   "id": "7825b42f",
   "metadata": {},
   "source": [
    "Removing anime that are potentially music videos. Anime usually have a length of 23 minutes, anything below that is non-standard and has been removed if its genre is also music"
   ]
  },
  {
   "cell_type": "code",
   "execution_count": 156,
   "id": "28b72690",
   "metadata": {},
   "outputs": [
    {
     "name": "stdout",
     "output_type": "stream",
     "text": [
      "<class 'pandas.core.frame.DataFrame'>\n",
      "Index: 8040 entries, 0 to 17561\n",
      "Data columns (total 12 columns):\n",
      " #   Column               Non-Null Count  Dtype  \n",
      "---  ------               --------------  -----  \n",
      " 0   anime_id             8040 non-null   int64  \n",
      " 1   Name                 8040 non-null   object \n",
      " 2   Genres               7988 non-null   object \n",
      " 3   Type                 8003 non-null   object \n",
      " 4   Episodes             8040 non-null   object \n",
      " 5   Premiered            4739 non-null   object \n",
      " 6   Producers            4958 non-null   object \n",
      " 7   Licensors            2666 non-null   object \n",
      " 8   Studios              5752 non-null   object \n",
      " 9   Source               6443 non-null   object \n",
      " 10  Rating               7585 non-null   object \n",
      " 11  duration_in_minutes  7647 non-null   float64\n",
      "dtypes: float64(1), int64(1), object(10)\n",
      "memory usage: 816.6+ KB\n"
     ]
    }
   ],
   "source": [
    "hernan_anime_df = hernan_anime_df[~((hernan_anime_df[\"Genres\"] == \"Music\") \\\n",
    "    & (hernan_anime_df[\"duration_in_minutes\"] < 20))]\n",
    "\n",
    "hernan_anime_df.loc[hernan_anime_df[\"Type\"] == \"Unknown\", [\"Type\"]] = None\n",
    "hernan_anime_df.loc[hernan_anime_df[\"Genres\"] == \"Unknown\", [\"Genres\"]] = None\n",
    "hernan_anime_df.loc[hernan_anime_df[\"Premiered\"] == \"Unknown\", [\"Premiered\"]] = None\n",
    "hernan_anime_df.loc[hernan_anime_df[\"Producers\"] == \"Unknown\", [\"Producers\"]] = None\n",
    "hernan_anime_df.loc[hernan_anime_df[\"Licensors\"] == \"Unknown\", [\"Licensors\"]] = None\n",
    "hernan_anime_df.loc[hernan_anime_df[\"Studios\"] == \"Unknown\", [\"Studios\"]] = None\n",
    "hernan_anime_df.loc[hernan_anime_df[\"Source\"] == \"Unknown\", [\"Source\"]] = None\n",
    "hernan_anime_df.loc[hernan_anime_df[\"Rating\"] == \"Unknown\", [\"Rating\"]] = None\n",
    "\n",
    "hernan_anime_df.info()"
   ]
  },
  {
   "cell_type": "markdown",
   "id": "a6749c8d",
   "metadata": {},
   "source": [
    "#### Synopsis Data"
   ]
  },
  {
   "cell_type": "code",
   "execution_count": 157,
   "id": "ee8283b3",
   "metadata": {},
   "outputs": [],
   "source": [
    "synopsis_df = pd.read_csv(\"E:\\\\applied data science capstone\\\\data\\\\hernan4444\\\\archive\\\\anime_with_synopsis.csv\")\n",
    "synopsis_df = synopsis_df.drop(columns=[\"Score\"])\n",
    "synopsis_df = synopsis_df.rename(columns={\"MAL_ID\": \"anime_id\", \"sypnopsis\": \"synopsis\"})"
   ]
  },
  {
   "cell_type": "markdown",
   "id": "6ed11b5f",
   "metadata": {},
   "source": [
    "Fill the unknown synopsis with na so as to enable filling of missing values in the future"
   ]
  },
  {
   "cell_type": "code",
   "execution_count": 158,
   "id": "5ce08e53",
   "metadata": {},
   "outputs": [
    {
     "data": {
      "application/vnd.microsoft.datawrangler.viewer.v0+json": {
       "columns": [
        {
         "name": "index",
         "rawType": "object",
         "type": "string"
        },
        {
         "name": "Name",
         "rawType": "object",
         "type": "unknown"
        },
        {
         "name": "Genres",
         "rawType": "object",
         "type": "unknown"
        },
        {
         "name": "synopsis",
         "rawType": "object",
         "type": "unknown"
        }
       ],
       "ref": "977052cf-b2bc-4f9a-bb7e-0821520d4b10",
       "rows": [
        [
         "count",
         "16214",
         "16214",
         "15461"
        ],
        [
         "unique",
         "16210",
         "4857",
         "15218"
        ],
        [
         "top",
         "Maou Gakuin no Futekigousha: Shijou Saikyou no Maou no Shiso, Tensei shite Shison-tachi no Gakkou e",
         "Music",
         "Furukawa Taku film."
        ],
        [
         "freq",
         "3",
         "790",
         "13"
        ]
       ],
       "shape": {
        "columns": 3,
        "rows": 4
       }
      },
      "text/html": [
       "<div>\n",
       "<style scoped>\n",
       "    .dataframe tbody tr th:only-of-type {\n",
       "        vertical-align: middle;\n",
       "    }\n",
       "\n",
       "    .dataframe tbody tr th {\n",
       "        vertical-align: top;\n",
       "    }\n",
       "\n",
       "    .dataframe thead th {\n",
       "        text-align: right;\n",
       "    }\n",
       "</style>\n",
       "<table border=\"1\" class=\"dataframe\">\n",
       "  <thead>\n",
       "    <tr style=\"text-align: right;\">\n",
       "      <th></th>\n",
       "      <th>Name</th>\n",
       "      <th>Genres</th>\n",
       "      <th>synopsis</th>\n",
       "    </tr>\n",
       "  </thead>\n",
       "  <tbody>\n",
       "    <tr>\n",
       "      <th>count</th>\n",
       "      <td>16214</td>\n",
       "      <td>16214</td>\n",
       "      <td>15461</td>\n",
       "    </tr>\n",
       "    <tr>\n",
       "      <th>unique</th>\n",
       "      <td>16210</td>\n",
       "      <td>4857</td>\n",
       "      <td>15218</td>\n",
       "    </tr>\n",
       "    <tr>\n",
       "      <th>top</th>\n",
       "      <td>Maou Gakuin no Futekigousha: Shijou Saikyou no...</td>\n",
       "      <td>Music</td>\n",
       "      <td>Furukawa Taku film.</td>\n",
       "    </tr>\n",
       "    <tr>\n",
       "      <th>freq</th>\n",
       "      <td>3</td>\n",
       "      <td>790</td>\n",
       "      <td>13</td>\n",
       "    </tr>\n",
       "  </tbody>\n",
       "</table>\n",
       "</div>"
      ],
      "text/plain": [
       "                                                     Name Genres  \\\n",
       "count                                               16214  16214   \n",
       "unique                                              16210   4857   \n",
       "top     Maou Gakuin no Futekigousha: Shijou Saikyou no...  Music   \n",
       "freq                                                    3    790   \n",
       "\n",
       "                   synopsis  \n",
       "count                 15461  \n",
       "unique                15218  \n",
       "top     Furukawa Taku film.  \n",
       "freq                     13  "
      ]
     },
     "execution_count": 158,
     "metadata": {},
     "output_type": "execute_result"
    }
   ],
   "source": [
    "synopsis_df.loc[synopsis_df[\"synopsis\"].str.contains(\"No synopsis\", na=False), \"synopsis\"] = np.nan\n",
    "synopsis_df.describe(include=object)"
   ]
  },
  {
   "cell_type": "code",
   "execution_count": 159,
   "id": "eb979d43",
   "metadata": {},
   "outputs": [
    {
     "name": "stdout",
     "output_type": "stream",
     "text": [
      "<class 'pandas.core.frame.DataFrame'>\n",
      "RangeIndex: 16214 entries, 0 to 16213\n",
      "Data columns (total 4 columns):\n",
      " #   Column    Non-Null Count  Dtype \n",
      "---  ------    --------------  ----- \n",
      " 0   anime_id  16214 non-null  int64 \n",
      " 1   Name      16214 non-null  object\n",
      " 2   Genres    16214 non-null  object\n",
      " 3   synopsis  15461 non-null  object\n",
      "dtypes: int64(1), object(3)\n",
      "memory usage: 506.8+ KB\n"
     ]
    }
   ],
   "source": [
    "synopsis_df.info()"
   ]
  },
  {
   "cell_type": "markdown",
   "id": "cced6c8f",
   "metadata": {},
   "source": [
    "### MyAnimeList Comment Dataset V2"
   ]
  },
  {
   "cell_type": "markdown",
   "id": "4832fc05",
   "metadata": {},
   "source": [
    "#### Anime Listing"
   ]
  },
  {
   "cell_type": "markdown",
   "id": "537c5612",
   "metadata": {},
   "source": [
    "Remove the id and jpName columns as well as consolidate the anime title column"
   ]
  },
  {
   "cell_type": "code",
   "execution_count": 160,
   "id": "7b1aeb59",
   "metadata": {},
   "outputs": [],
   "source": [
    "natleeAnime = pd.read_csv(\"E:\\\\applied data science capstone\\\\data\\\\natlee\\\\archive\\\\anime_list.csv\")\n",
    "natlee_anime_df = natleeAnime.drop(columns=[\"id\", \"jpName\", \"score\", \"scoredByUser\", \"aired\"])\n",
    "\n",
    "natlee_anime_df[\"title\"] = natlee_anime_df[\"engName\"]\n",
    "natlee_anime_df[\"title\"] = natlee_anime_df[\"title\"].fillna(natlee_anime_df[\"synonymsName\"])\n",
    "natlee_anime_df = natlee_anime_df.dropna(subset=[\"title\"])\n",
    "natlee_anime_df = natlee_anime_df.drop(columns=[\"engName\", \"synonymsName\"])"
   ]
  },
  {
   "cell_type": "markdown",
   "id": "43598ac3",
   "metadata": {},
   "source": [
    "Convert the episodes column to a numeric feature"
   ]
  },
  {
   "cell_type": "code",
   "execution_count": 161,
   "id": "772e5941",
   "metadata": {},
   "outputs": [],
   "source": [
    "natlee_anime_df[\"episodes\"] = pd.to_numeric(natlee_anime_df[\"episodes\"], errors='coerce')"
   ]
  },
  {
   "cell_type": "markdown",
   "id": "edd8a5bc",
   "metadata": {},
   "source": [
    "Standardize the missing values"
   ]
  },
  {
   "cell_type": "code",
   "execution_count": 162,
   "id": "642d215b",
   "metadata": {},
   "outputs": [],
   "source": [
    "natlee_anime_df.loc[natlee_anime_df[\"producer\"] == \"add some\", \"producer\"] = None\n",
    "natlee_anime_df.loc[natlee_anime_df[\"licensors\"] == \"add some\", \"licensors\"] = None\n",
    "natlee_anime_df.loc[natlee_anime_df[\"studios\"] == \"add some\", \"studios\"] = None\n",
    "natlee_anime_df.loc[natlee_anime_df[\"source\"] == \"Unknown\", \"source\"] = None"
   ]
  },
  {
   "cell_type": "markdown",
   "id": "129826b4",
   "metadata": {},
   "source": [
    "Remove all types except for movie and tv"
   ]
  },
  {
   "cell_type": "code",
   "execution_count": 163,
   "id": "7397e2fb",
   "metadata": {},
   "outputs": [],
   "source": [
    "natlee_anime_df = natlee_anime_df[natlee_anime_df[\"workType\"].isin([\"TV\", \"Movie\"])]"
   ]
  },
  {
   "cell_type": "markdown",
   "id": "97f9dd95",
   "metadata": {},
   "source": [
    "Remove adult content"
   ]
  },
  {
   "cell_type": "code",
   "execution_count": 164,
   "id": "6804902b",
   "metadata": {},
   "outputs": [
    {
     "name": "stderr",
     "output_type": "stream",
     "text": [
      "C:\\Users\\Asus-Home\\AppData\\Local\\Temp\\ipykernel_16148\\2037110495.py:2: UserWarning:\n",
      "\n",
      "This pattern is interpreted as a regular expression, and has match groups. To actually get the groups, use str.extract.\n",
      "\n"
     ]
    }
   ],
   "source": [
    "natlee_anime_df[\"genres\"] = natlee_anime_df[\"genres\"].astype(str)\n",
    "natlee_anime_df = natlee_anime_df[~natlee_anime_df[\"genres\"].str.contains(r\"(H|h)entai\")]"
   ]
  },
  {
   "cell_type": "markdown",
   "id": "8eb80522",
   "metadata": {},
   "source": [
    "Convert duration to minutes"
   ]
  },
  {
   "cell_type": "code",
   "execution_count": 165,
   "id": "b20f504c",
   "metadata": {},
   "outputs": [],
   "source": [
    "natlee_anime_df[\"duration_in_minutes\"] = natlee_anime_df[\"duration\"] \\\n",
    "    .apply(lambda x: convert_duration_to_seconds(x) / 60)"
   ]
  },
  {
   "cell_type": "markdown",
   "id": "67333741",
   "metadata": {},
   "source": [
    "Remove unused columns"
   ]
  },
  {
   "cell_type": "code",
   "execution_count": 166,
   "id": "467cb264",
   "metadata": {},
   "outputs": [
    {
     "name": "stdout",
     "output_type": "stream",
     "text": [
      "<class 'pandas.core.frame.DataFrame'>\n",
      "Index: 8649 entries, 0 to 24588\n",
      "Data columns (total 17 columns):\n",
      " #   Column               Non-Null Count  Dtype  \n",
      "---  ------               --------------  -----  \n",
      " 0   anime_id             8649 non-null   int64  \n",
      " 1   url                  8649 non-null   object \n",
      " 2   type                 8649 non-null   object \n",
      " 3   episodes             8452 non-null   float64\n",
      " 4   status               8649 non-null   object \n",
      " 5   premiered            4588 non-null   object \n",
      " 6   producer             4987 non-null   object \n",
      " 7   broadcast            5297 non-null   object \n",
      " 8   licensors            2857 non-null   object \n",
      " 9   studios              6032 non-null   object \n",
      " 10  genres               8649 non-null   object \n",
      " 11  themes               4986 non-null   object \n",
      " 12  demographic          3774 non-null   object \n",
      " 13  source               7277 non-null   object \n",
      " 14  rating               8392 non-null   object \n",
      " 15  title                8649 non-null   object \n",
      " 16  duration_in_minutes  8402 non-null   float64\n",
      "dtypes: float64(2), int64(1), object(14)\n",
      "memory usage: 1.2+ MB\n"
     ]
    }
   ],
   "source": [
    "natlee_anime_df = natlee_anime_df.drop(columns=[\"popularityRank\", \"allRank\", \"members\", \"favorites\", \"lastUpdate\", \"duration\"])\n",
    "natlee_anime_df = natlee_anime_df.rename(columns={\"workId\": \"anime_id\", \"workType\": \"type\"})\n",
    "\n",
    "natlee_anime_df.info()"
   ]
  },
  {
   "cell_type": "markdown",
   "id": "de0d1acc",
   "metadata": {},
   "source": [
    "### Combining datasets"
   ]
  },
  {
   "cell_type": "markdown",
   "id": "a16c6926",
   "metadata": {},
   "source": [
    "#### Anime Listing"
   ]
  },
  {
   "cell_type": "markdown",
   "id": "fa960374",
   "metadata": {},
   "source": [
    "##### Combining natlee and cooper"
   ]
  },
  {
   "cell_type": "code",
   "execution_count": 167,
   "id": "6c0548a0",
   "metadata": {},
   "outputs": [],
   "source": [
    "temp_merged_anime_df = natlee_anime_df.merge(cu_anime_df, \\\n",
    "    how=\"outer\", on=\"anime_id\", suffixes=(\"_nat\", \"_coop\"))\n",
    "\n",
    "temp_merged_anime_df[\"title\"] = temp_merged_anime_df[\"title\"] \\\n",
    "    .fillna(temp_merged_anime_df[\"name\"])\n",
    "temp_merged_anime_df[\"type_nat\"] = temp_merged_anime_df[\"type_nat\"] \\\n",
    "    .fillna(temp_merged_anime_df[\"type_coop\"])\n",
    "temp_merged_anime_df[\"episodes_nat\"] = temp_merged_anime_df[\"episodes_nat\"] \\\n",
    "    .fillna(temp_merged_anime_df[\"episodes_coop\"])\n",
    "temp_merged_anime_df[\"genres\"] = temp_merged_anime_df[\"genres\"] \\\n",
    "    .fillna(temp_merged_anime_df[\"genre\"])\n",
    "\n",
    "temp_merged_anime_df = temp_merged_anime_df.drop(columns=[\"name\", \"type_coop\", \\\n",
    "    \"episodes_coop\", \"genre\", \"members\"])\n",
    "temp_merged_anime_df = temp_merged_anime_df.rename(columns={\"type_nat\": \"type\", \\\n",
    "    \"episodes_nat\": \"episodes\"})"
   ]
  },
  {
   "cell_type": "markdown",
   "id": "338b082b",
   "metadata": {},
   "source": [
    "##### Combining hernan and the combined dataset"
   ]
  },
  {
   "cell_type": "code",
   "execution_count": 168,
   "id": "61a8d034",
   "metadata": {},
   "outputs": [
    {
     "name": "stdout",
     "output_type": "stream",
     "text": [
      "<class 'pandas.core.frame.DataFrame'>\n",
      "RangeIndex: 10062 entries, 0 to 10061\n",
      "Data columns (total 17 columns):\n",
      " #   Column               Non-Null Count  Dtype  \n",
      "---  ------               --------------  -----  \n",
      " 0   anime_id             10062 non-null  int64  \n",
      " 1   url                  8649 non-null   object \n",
      " 2   type                 10040 non-null  object \n",
      " 3   episodes             9902 non-null   object \n",
      " 4   status               8649 non-null   object \n",
      " 5   premiered            5295 non-null   object \n",
      " 6   producer             5732 non-null   object \n",
      " 7   broadcast            5297 non-null   object \n",
      " 8   licensors            3009 non-null   object \n",
      " 9   studios              6802 non-null   object \n",
      " 10  genres               10035 non-null  object \n",
      " 11  themes               4986 non-null   object \n",
      " 12  demographic          3774 non-null   object \n",
      " 13  source               8252 non-null   object \n",
      " 14  rating               9622 non-null   object \n",
      " 15  title                10062 non-null  object \n",
      " 16  duration_in_minutes  9640 non-null   float64\n",
      "dtypes: float64(1), int64(1), object(15)\n",
      "memory usage: 1.3+ MB\n"
     ]
    }
   ],
   "source": [
    "merged_anime_df = temp_merged_anime_df.merge(hernan_anime_df, how=\"outer\", \\\n",
    "    on=\"anime_id\", suffixes=(\"_orig\", \"_hern\"))\n",
    "\n",
    "merged_anime_df[\"title\"] = merged_anime_df[\"title\"].fillna(merged_anime_df[\"Name\"])\n",
    "merged_anime_df[\"type\"] = merged_anime_df[\"type\"].fillna(merged_anime_df[\"Type\"])\n",
    "merged_anime_df[\"episodes\"] = merged_anime_df[\"episodes\"].fillna(merged_anime_df[\"Episodes\"])\n",
    "merged_anime_df[\"premiered\"] = merged_anime_df[\"premiered\"].fillna(merged_anime_df[\"Premiered\"])\n",
    "merged_anime_df[\"producer\"] = merged_anime_df[\"producer\"].fillna(merged_anime_df[\"Producers\"])\n",
    "merged_anime_df[\"licensors\"] = merged_anime_df[\"licensors\"].fillna(merged_anime_df[\"Licensors\"])\n",
    "merged_anime_df[\"studios\"] = merged_anime_df[\"studios\"].fillna(merged_anime_df[\"Studios\"])\n",
    "merged_anime_df[\"genres\"] = merged_anime_df[\"genres\"].fillna(merged_anime_df[\"Genres\"])\n",
    "merged_anime_df[\"source\"] = merged_anime_df[\"source\"].fillna(merged_anime_df[\"Source\"])\n",
    "merged_anime_df[\"rating\"] = merged_anime_df[\"rating\"].fillna(merged_anime_df[\"Rating\"])\n",
    "merged_anime_df[\"duration_in_minutes_orig\"] = merged_anime_df[\"duration_in_minutes_orig\"] \\\n",
    "    .fillna(merged_anime_df[\"duration_in_minutes_hern\"])\n",
    "\n",
    "merged_anime_df = merged_anime_df.drop(columns=[\"Name\", \"Type\", \"Episodes\", \"Premiered\", \"Producers\", \n",
    "                                                          \"Licensors\", \"Studios\", \"Genres\", \"Source\", \"Rating\", \"duration_in_minutes_hern\"])\n",
    "merged_anime_df = merged_anime_df.rename(columns={\"duration_in_minutes_orig\": \"duration_in_minutes\"})\n",
    "\n",
    "merged_anime_df.info()"
   ]
  },
  {
   "cell_type": "markdown",
   "id": "83d4438b",
   "metadata": {},
   "source": [
    "##### Combining synopsis data"
   ]
  },
  {
   "cell_type": "code",
   "execution_count": 169,
   "id": "4657ef5b",
   "metadata": {},
   "outputs": [
    {
     "data": {
      "application/vnd.microsoft.datawrangler.viewer.v0+json": {
       "columns": [
        {
         "name": "index",
         "rawType": "object",
         "type": "string"
        },
        {
         "name": "url",
         "rawType": "object",
         "type": "unknown"
        },
        {
         "name": "type",
         "rawType": "object",
         "type": "unknown"
        },
        {
         "name": "episodes",
         "rawType": "float64",
         "type": "float"
        },
        {
         "name": "status",
         "rawType": "object",
         "type": "unknown"
        },
        {
         "name": "premiered",
         "rawType": "object",
         "type": "unknown"
        },
        {
         "name": "producer",
         "rawType": "object",
         "type": "unknown"
        },
        {
         "name": "broadcast",
         "rawType": "object",
         "type": "unknown"
        },
        {
         "name": "licensors",
         "rawType": "object",
         "type": "unknown"
        },
        {
         "name": "studios",
         "rawType": "object",
         "type": "unknown"
        },
        {
         "name": "genres",
         "rawType": "object",
         "type": "unknown"
        },
        {
         "name": "themes",
         "rawType": "object",
         "type": "unknown"
        },
        {
         "name": "demographic",
         "rawType": "object",
         "type": "unknown"
        },
        {
         "name": "source",
         "rawType": "object",
         "type": "unknown"
        },
        {
         "name": "rating",
         "rawType": "object",
         "type": "unknown"
        },
        {
         "name": "title",
         "rawType": "object",
         "type": "unknown"
        },
        {
         "name": "synopsis",
         "rawType": "object",
         "type": "unknown"
        }
       ],
       "ref": "1b3207fe-f191-4f72-b8dd-9ba8976155cd",
       "rows": [
        [
         "count",
         "8649",
         "10040",
         "9902.0",
         "8649",
         "5295",
         "5732",
         "5297",
         "3009",
         "6802",
         "10061",
         "4986",
         "3774",
         "8252",
         "9622",
         "10062",
         "7690"
        ],
        [
         "unique",
         "8649",
         "2",
         "299.0",
         "3",
         "241",
         "3267",
         "525",
         "212",
         "843",
         "1222",
         "596",
         "5",
         "17",
         "5",
         "9937",
         "7544"
        ],
        [
         "top",
         "https://myanimelist.net/anime/1/Cowboy_Bebop",
         "TV",
         "1.0",
         "Finished Airing",
         "Spring 2017",
         "NHK",
         "Unknown",
         "Funimation",
         "Toei Animation",
         "nan",
         "Historical",
         "Kids",
         "Original",
         "PG-13 - Teens 13 or older",
         "Butt Detective",
         "Furukawa Taku film."
        ],
        [
         "freq",
         "1",
         "6079",
         "3271.0",
         "8360",
         "87",
         "130",
         "2375",
         "719",
         "560",
         "900",
         "351",
         "1913",
         "3351",
         "3736",
         "7",
         "13"
        ]
       ],
       "shape": {
        "columns": 16,
        "rows": 4
       }
      },
      "text/html": [
       "<div>\n",
       "<style scoped>\n",
       "    .dataframe tbody tr th:only-of-type {\n",
       "        vertical-align: middle;\n",
       "    }\n",
       "\n",
       "    .dataframe tbody tr th {\n",
       "        vertical-align: top;\n",
       "    }\n",
       "\n",
       "    .dataframe thead th {\n",
       "        text-align: right;\n",
       "    }\n",
       "</style>\n",
       "<table border=\"1\" class=\"dataframe\">\n",
       "  <thead>\n",
       "    <tr style=\"text-align: right;\">\n",
       "      <th></th>\n",
       "      <th>url</th>\n",
       "      <th>type</th>\n",
       "      <th>episodes</th>\n",
       "      <th>status</th>\n",
       "      <th>premiered</th>\n",
       "      <th>producer</th>\n",
       "      <th>broadcast</th>\n",
       "      <th>licensors</th>\n",
       "      <th>studios</th>\n",
       "      <th>genres</th>\n",
       "      <th>themes</th>\n",
       "      <th>demographic</th>\n",
       "      <th>source</th>\n",
       "      <th>rating</th>\n",
       "      <th>title</th>\n",
       "      <th>synopsis</th>\n",
       "    </tr>\n",
       "  </thead>\n",
       "  <tbody>\n",
       "    <tr>\n",
       "      <th>count</th>\n",
       "      <td>8649</td>\n",
       "      <td>10040</td>\n",
       "      <td>9902.0</td>\n",
       "      <td>8649</td>\n",
       "      <td>5295</td>\n",
       "      <td>5732</td>\n",
       "      <td>5297</td>\n",
       "      <td>3009</td>\n",
       "      <td>6802</td>\n",
       "      <td>10061</td>\n",
       "      <td>4986</td>\n",
       "      <td>3774</td>\n",
       "      <td>8252</td>\n",
       "      <td>9622</td>\n",
       "      <td>10062</td>\n",
       "      <td>7690</td>\n",
       "    </tr>\n",
       "    <tr>\n",
       "      <th>unique</th>\n",
       "      <td>8649</td>\n",
       "      <td>2</td>\n",
       "      <td>299.0</td>\n",
       "      <td>3</td>\n",
       "      <td>241</td>\n",
       "      <td>3267</td>\n",
       "      <td>525</td>\n",
       "      <td>212</td>\n",
       "      <td>843</td>\n",
       "      <td>1222</td>\n",
       "      <td>596</td>\n",
       "      <td>5</td>\n",
       "      <td>17</td>\n",
       "      <td>5</td>\n",
       "      <td>9937</td>\n",
       "      <td>7544</td>\n",
       "    </tr>\n",
       "    <tr>\n",
       "      <th>top</th>\n",
       "      <td>https://myanimelist.net/anime/1/Cowboy_Bebop</td>\n",
       "      <td>TV</td>\n",
       "      <td>1.0</td>\n",
       "      <td>Finished Airing</td>\n",
       "      <td>Spring 2017</td>\n",
       "      <td>NHK</td>\n",
       "      <td>Unknown</td>\n",
       "      <td>Funimation</td>\n",
       "      <td>Toei Animation</td>\n",
       "      <td>nan</td>\n",
       "      <td>Historical</td>\n",
       "      <td>Kids</td>\n",
       "      <td>Original</td>\n",
       "      <td>PG-13 - Teens 13 or older</td>\n",
       "      <td>Butt Detective</td>\n",
       "      <td>Furukawa Taku film.</td>\n",
       "    </tr>\n",
       "    <tr>\n",
       "      <th>freq</th>\n",
       "      <td>1</td>\n",
       "      <td>6079</td>\n",
       "      <td>3271.0</td>\n",
       "      <td>8360</td>\n",
       "      <td>87</td>\n",
       "      <td>130</td>\n",
       "      <td>2375</td>\n",
       "      <td>719</td>\n",
       "      <td>560</td>\n",
       "      <td>900</td>\n",
       "      <td>351</td>\n",
       "      <td>1913</td>\n",
       "      <td>3351</td>\n",
       "      <td>3736</td>\n",
       "      <td>7</td>\n",
       "      <td>13</td>\n",
       "    </tr>\n",
       "  </tbody>\n",
       "</table>\n",
       "</div>"
      ],
      "text/plain": [
       "                                                 url   type  episodes  \\\n",
       "count                                           8649  10040    9902.0   \n",
       "unique                                          8649      2     299.0   \n",
       "top     https://myanimelist.net/anime/1/Cowboy_Bebop     TV       1.0   \n",
       "freq                                               1   6079    3271.0   \n",
       "\n",
       "                 status    premiered producer broadcast   licensors  \\\n",
       "count              8649         5295     5732      5297        3009   \n",
       "unique                3          241     3267       525         212   \n",
       "top     Finished Airing  Spring 2017      NHK   Unknown  Funimation   \n",
       "freq               8360           87      130      2375         719   \n",
       "\n",
       "               studios genres      themes demographic    source  \\\n",
       "count             6802  10061        4986        3774      8252   \n",
       "unique             843   1222         596           5        17   \n",
       "top     Toei Animation    nan  Historical        Kids  Original   \n",
       "freq               560    900         351        1913      3351   \n",
       "\n",
       "                           rating           title             synopsis  \n",
       "count                        9622           10062                 7690  \n",
       "unique                          5            9937                 7544  \n",
       "top     PG-13 - Teens 13 or older  Butt Detective  Furukawa Taku film.  \n",
       "freq                         3736               7                   13  "
      ]
     },
     "execution_count": 169,
     "metadata": {},
     "output_type": "execute_result"
    }
   ],
   "source": [
    "anime_with_synopsis_df = merged_anime_df.merge(synopsis_df, how=\"left\", \\\n",
    "    on=\"anime_id\", suffixes=(\"_orig\", \"_syn\"))\n",
    "anime_with_synopsis_df[\"genres\"] = anime_with_synopsis_df[\"genres\"] \\\n",
    "    .fillna(anime_with_synopsis_df[\"Genres\"])\n",
    "anime_with_synopsis_df = anime_with_synopsis_df.drop(columns=[\"Name\", \"Genres\"])\n",
    "\n",
    "anime_with_synopsis_df.describe(include=object)"
   ]
  },
  {
   "cell_type": "code",
   "execution_count": 170,
   "id": "1197ae40",
   "metadata": {},
   "outputs": [
    {
     "name": "stdout",
     "output_type": "stream",
     "text": [
      "<class 'pandas.core.frame.DataFrame'>\n",
      "RangeIndex: 10062 entries, 0 to 10061\n",
      "Data columns (total 18 columns):\n",
      " #   Column               Non-Null Count  Dtype  \n",
      "---  ------               --------------  -----  \n",
      " 0   anime_id             10062 non-null  int64  \n",
      " 1   url                  8649 non-null   object \n",
      " 2   type                 10040 non-null  object \n",
      " 3   episodes             9902 non-null   object \n",
      " 4   status               8649 non-null   object \n",
      " 5   premiered            5295 non-null   object \n",
      " 6   producer             5732 non-null   object \n",
      " 7   broadcast            5297 non-null   object \n",
      " 8   licensors            3009 non-null   object \n",
      " 9   studios              6802 non-null   object \n",
      " 10  genres               10061 non-null  object \n",
      " 11  themes               4986 non-null   object \n",
      " 12  demographic          3774 non-null   object \n",
      " 13  source               8252 non-null   object \n",
      " 14  rating               9622 non-null   object \n",
      " 15  title                10062 non-null  object \n",
      " 16  duration_in_minutes  9640 non-null   float64\n",
      " 17  synopsis             7690 non-null   object \n",
      "dtypes: float64(1), int64(1), object(16)\n",
      "memory usage: 1.4+ MB\n"
     ]
    }
   ],
   "source": [
    "anime_with_synopsis_df.info()"
   ]
  },
  {
   "cell_type": "markdown",
   "id": "a148fa83",
   "metadata": {},
   "source": [
    "There are still considerable missing data. The unofficial api will be used to gather additional information for the missing data.  See additional-synopsis.py in appendix for code used to retrieve the additional synopsis data.  \n",
    "The data will be retrieved from the csv file it was stored in."
   ]
  },
  {
   "cell_type": "code",
   "execution_count": 171,
   "id": "9e3a6c41",
   "metadata": {},
   "outputs": [],
   "source": [
    "anime_with_synopsis_df.to_csv(\"E:\\\\applied data science capstone\\\\data\\\\documentation\\\\anime_with_synopsis.csv\", index=False)"
   ]
  },
  {
   "cell_type": "markdown",
   "id": "e8fce1d2",
   "metadata": {},
   "source": [
    "##### Additional Synopsis"
   ]
  },
  {
   "cell_type": "code",
   "execution_count": 172,
   "id": "7dc1d495",
   "metadata": {},
   "outputs": [
    {
     "name": "stdout",
     "output_type": "stream",
     "text": [
      "<class 'pandas.core.frame.DataFrame'>\n",
      "RangeIndex: 5283 entries, 0 to 5282\n",
      "Data columns (total 18 columns):\n",
      " #   Column        Non-Null Count  Dtype  \n",
      "---  ------        --------------  -----  \n",
      " 0   mal_id        5283 non-null   int64  \n",
      " 1   url           5283 non-null   object \n",
      " 2   title         5283 non-null   object \n",
      " 3   type          5276 non-null   object \n",
      " 4   source        5283 non-null   object \n",
      " 5   episodes      5223 non-null   float64\n",
      " 6   status        5283 non-null   object \n",
      " 7   premiered     5180 non-null   object \n",
      " 8   duration      5283 non-null   object \n",
      " 9   rating        5200 non-null   object \n",
      " 10  synopsis      3418 non-null   object \n",
      " 11  broadcast     1217 non-null   object \n",
      " 12  producers     2204 non-null   object \n",
      " 13  licensors     686 non-null    object \n",
      " 14  studios       2872 non-null   object \n",
      " 15  genres        4131 non-null   object \n",
      " 16  themes        2487 non-null   object \n",
      " 17  demographics  1792 non-null   object \n",
      "dtypes: float64(1), int64(1), object(16)\n",
      "memory usage: 743.1+ KB\n"
     ]
    }
   ],
   "source": [
    "additional_synopsis_df = pd.read_csv(\"E:\\\\applied data science capstone\\\\data\\\\combined\\\\anime_with_missing_synopses.csv\")\n",
    "additional_synopsis_df.info()"
   ]
  },
  {
   "cell_type": "code",
   "execution_count": 173,
   "id": "d2e038a6",
   "metadata": {},
   "outputs": [],
   "source": [
    "additional_synopsis_df = additional_synopsis_df.rename(columns={\"mal_id\": \"anime_id\"})\n",
    "combined_synopsis_df = anime_with_synopsis_df.merge(additional_synopsis_df, how=\"left\", on=\"anime_id\", suffixes=(\"_orig\", \"_add\"))\n",
    "combined_synopsis_df[\"synopsis_orig\"] = combined_synopsis_df[\"synopsis_orig\"].fillna(combined_synopsis_df[\"synopsis_add\"])\n",
    "combined_synopsis_df.loc[combined_synopsis_df[\"synopsis_orig\"].str.contains(\"No synopsis\") \n",
    "                         & ~combined_synopsis_df[\"synopsis_orig\"].isna(), \"synopsis_orig\"] = None"
   ]
  },
  {
   "cell_type": "markdown",
   "id": "5edfb084",
   "metadata": {},
   "source": [
    "Fill in missing data where possible"
   ]
  },
  {
   "cell_type": "code",
   "execution_count": 174,
   "id": "a73de6e6",
   "metadata": {},
   "outputs": [
    {
     "data": {
      "application/vnd.microsoft.datawrangler.viewer.v0+json": {
       "columns": [
        {
         "name": "index",
         "rawType": "int64",
         "type": "integer"
        },
        {
         "name": "anime_id",
         "rawType": "int64",
         "type": "integer"
        },
        {
         "name": "url_orig",
         "rawType": "object",
         "type": "unknown"
        },
        {
         "name": "type_orig",
         "rawType": "object",
         "type": "string"
        },
        {
         "name": "episodes_orig",
         "rawType": "object",
         "type": "unknown"
        },
        {
         "name": "status_orig",
         "rawType": "object",
         "type": "unknown"
        },
        {
         "name": "premiered_orig",
         "rawType": "object",
         "type": "unknown"
        },
        {
         "name": "producer",
         "rawType": "object",
         "type": "unknown"
        },
        {
         "name": "broadcast_orig",
         "rawType": "object",
         "type": "unknown"
        },
        {
         "name": "licensors_orig",
         "rawType": "object",
         "type": "unknown"
        },
        {
         "name": "studios_orig",
         "rawType": "object",
         "type": "unknown"
        },
        {
         "name": "genres_orig",
         "rawType": "object",
         "type": "string"
        },
        {
         "name": "themes_orig",
         "rawType": "object",
         "type": "unknown"
        },
        {
         "name": "demographic",
         "rawType": "object",
         "type": "unknown"
        },
        {
         "name": "source_orig",
         "rawType": "object",
         "type": "unknown"
        },
        {
         "name": "rating_orig",
         "rawType": "object",
         "type": "unknown"
        },
        {
         "name": "title_orig",
         "rawType": "object",
         "type": "string"
        },
        {
         "name": "duration_in_minutes",
         "rawType": "float64",
         "type": "float"
        },
        {
         "name": "synopsis_orig",
         "rawType": "object",
         "type": "unknown"
        },
        {
         "name": "url_add",
         "rawType": "object",
         "type": "unknown"
        },
        {
         "name": "title_add",
         "rawType": "object",
         "type": "unknown"
        },
        {
         "name": "type_add",
         "rawType": "object",
         "type": "unknown"
        },
        {
         "name": "source_add",
         "rawType": "object",
         "type": "unknown"
        },
        {
         "name": "episodes_add",
         "rawType": "float64",
         "type": "float"
        },
        {
         "name": "status_add",
         "rawType": "object",
         "type": "unknown"
        },
        {
         "name": "premiered_add",
         "rawType": "object",
         "type": "unknown"
        },
        {
         "name": "duration",
         "rawType": "object",
         "type": "unknown"
        },
        {
         "name": "rating_add",
         "rawType": "object",
         "type": "unknown"
        },
        {
         "name": "synopsis_add",
         "rawType": "object",
         "type": "unknown"
        },
        {
         "name": "broadcast_add",
         "rawType": "object",
         "type": "unknown"
        },
        {
         "name": "producers",
         "rawType": "object",
         "type": "unknown"
        },
        {
         "name": "licensors_add",
         "rawType": "object",
         "type": "unknown"
        },
        {
         "name": "studios_add",
         "rawType": "object",
         "type": "unknown"
        },
        {
         "name": "genres_add",
         "rawType": "object",
         "type": "unknown"
        },
        {
         "name": "themes_add",
         "rawType": "object",
         "type": "unknown"
        },
        {
         "name": "demographics",
         "rawType": "object",
         "type": "unknown"
        }
       ],
       "ref": "d5cf5dbd-f85a-4718-b64c-78fa36e1a6d0",
       "rows": [
        [
         "1266",
         "2265",
         null,
         "Movie",
         "1",
         null,
         null,
         null,
         null,
         null,
         null,
         "Action, Mecha",
         null,
         null,
         null,
         null,
         "Transformers the Movie",
         null,
         null,
         null,
         null,
         null,
         null,
         null,
         null,
         null,
         null,
         null,
         null,
         null,
         null,
         null,
         null,
         null,
         null,
         null
        ],
        [
         "1267",
         "2268",
         null,
         "TV",
         "98",
         null,
         null,
         null,
         null,
         null,
         null,
         "Adventure, Mecha, Sci-Fi, Shounen",
         null,
         null,
         null,
         null,
         "Tatakae! Chou Robot Seimeitai Transformers",
         null,
         null,
         null,
         null,
         null,
         null,
         null,
         null,
         null,
         null,
         null,
         null,
         null,
         null,
         null,
         null,
         null,
         null,
         null
        ],
        [
         "1422",
         "2626",
         "https://myanimelist.net/anime/2626/The%E2%98%86Doraemons__Mushimushi_Pyonpyon_Daisakusen",
         "Movie",
         "1.0",
         "Finished Airing",
         "1998-03-07T00:00:00+00:00",
         null,
         null,
         null,
         "Shin-Ei Animation",
         "Fantasy",
         null,
         null,
         "Unknown",
         "PG - Children",
         "The Doraemons: The Great Operation of Springing Insects",
         "16.0",
         null,
         "https://myanimelist.net/anime/2626/The☆Doraemons__Mushimushi_Pyonpyon_Daisakusen",
         "The☆Doraemons: Mushimushi Pyonpyon Daisakusen!",
         "Movie",
         "Unknown",
         "1.0",
         "Finished Airing",
         "1998-03-07T00:00:00+00:00",
         "16 min",
         "PG - Children",
         null,
         null,
         null,
         null,
         "Shin-Ei Animation",
         "Fantasy",
         null,
         null
        ],
        [
         "1423",
         "2628",
         "https://myanimelist.net/anime/2628/The%E2%98%86Doraemons__Strange_Sweets_Strange",
         "Movie",
         "1.0",
         "Finished Airing",
         "1999-03-06T00:00:00+00:00",
         null,
         null,
         null,
         "Shin-Ei Animation",
         "Fantasy",
         null,
         null,
         "Unknown",
         "PG - Children",
         "The Doraemons: Okashi na Okashi na Okashinana?",
         "16.0",
         null,
         "https://myanimelist.net/anime/2628/The☆Doraemons__Okashina_Okashi_na_Okashinana",
         "The☆Doraemons: Okashina Okashi na Okashinana?",
         "Movie",
         "Unknown",
         "1.0",
         "Finished Airing",
         "1999-03-06T00:00:00+00:00",
         "16 min",
         "PG - Children",
         null,
         null,
         null,
         null,
         "Shin-Ei Animation",
         "Fantasy",
         null,
         null
        ],
        [
         "1425",
         "2633",
         "https://myanimelist.net/anime/2633/The%E2%98%86Doraemons__Dokidoki_Kikansha_Daibakusou",
         "Movie",
         "1.0",
         "Finished Airing",
         "2000-03-11T00:00:00+00:00",
         null,
         null,
         null,
         "Shin-Ei Animation",
         "Adventure, Comedy, Fantasy, Sci-Fi",
         null,
         "Kids, Shounen",
         "Unknown",
         "PG - Children",
         "The Doraemons: Dokidoki Wildcat Engine",
         "17.0",
         null,
         "https://myanimelist.net/anime/2633/The☆Doraemons__Dokidoki_Kikansha_Daibakusou",
         "The☆Doraemons: Dokidoki Kikansha Daibakusou!",
         "Movie",
         "Unknown",
         "1.0",
         "Finished Airing",
         "2000-03-11T00:00:00+00:00",
         "17 min",
         "PG - Children",
         null,
         null,
         null,
         null,
         "Shin-Ei Animation",
         "Adventure, Comedy, Fantasy, Sci-Fi",
         null,
         "Kids, Shounen"
        ]
       ],
       "shape": {
        "columns": 35,
        "rows": 5
       }
      },
      "text/html": [
       "<div>\n",
       "<style scoped>\n",
       "    .dataframe tbody tr th:only-of-type {\n",
       "        vertical-align: middle;\n",
       "    }\n",
       "\n",
       "    .dataframe tbody tr th {\n",
       "        vertical-align: top;\n",
       "    }\n",
       "\n",
       "    .dataframe thead th {\n",
       "        text-align: right;\n",
       "    }\n",
       "</style>\n",
       "<table border=\"1\" class=\"dataframe\">\n",
       "  <thead>\n",
       "    <tr style=\"text-align: right;\">\n",
       "      <th></th>\n",
       "      <th>anime_id</th>\n",
       "      <th>url_orig</th>\n",
       "      <th>type_orig</th>\n",
       "      <th>episodes_orig</th>\n",
       "      <th>status_orig</th>\n",
       "      <th>premiered_orig</th>\n",
       "      <th>producer</th>\n",
       "      <th>broadcast_orig</th>\n",
       "      <th>licensors_orig</th>\n",
       "      <th>studios_orig</th>\n",
       "      <th>...</th>\n",
       "      <th>duration</th>\n",
       "      <th>rating_add</th>\n",
       "      <th>synopsis_add</th>\n",
       "      <th>broadcast_add</th>\n",
       "      <th>producers</th>\n",
       "      <th>licensors_add</th>\n",
       "      <th>studios_add</th>\n",
       "      <th>genres_add</th>\n",
       "      <th>themes_add</th>\n",
       "      <th>demographics</th>\n",
       "    </tr>\n",
       "  </thead>\n",
       "  <tbody>\n",
       "    <tr>\n",
       "      <th>1266</th>\n",
       "      <td>2265</td>\n",
       "      <td>NaN</td>\n",
       "      <td>Movie</td>\n",
       "      <td>1</td>\n",
       "      <td>NaN</td>\n",
       "      <td>NaN</td>\n",
       "      <td>NaN</td>\n",
       "      <td>NaN</td>\n",
       "      <td>NaN</td>\n",
       "      <td>NaN</td>\n",
       "      <td>...</td>\n",
       "      <td>NaN</td>\n",
       "      <td>NaN</td>\n",
       "      <td>NaN</td>\n",
       "      <td>NaN</td>\n",
       "      <td>NaN</td>\n",
       "      <td>NaN</td>\n",
       "      <td>NaN</td>\n",
       "      <td>NaN</td>\n",
       "      <td>NaN</td>\n",
       "      <td>NaN</td>\n",
       "    </tr>\n",
       "    <tr>\n",
       "      <th>1267</th>\n",
       "      <td>2268</td>\n",
       "      <td>NaN</td>\n",
       "      <td>TV</td>\n",
       "      <td>98</td>\n",
       "      <td>NaN</td>\n",
       "      <td>NaN</td>\n",
       "      <td>NaN</td>\n",
       "      <td>NaN</td>\n",
       "      <td>NaN</td>\n",
       "      <td>NaN</td>\n",
       "      <td>...</td>\n",
       "      <td>NaN</td>\n",
       "      <td>NaN</td>\n",
       "      <td>NaN</td>\n",
       "      <td>NaN</td>\n",
       "      <td>NaN</td>\n",
       "      <td>NaN</td>\n",
       "      <td>NaN</td>\n",
       "      <td>NaN</td>\n",
       "      <td>NaN</td>\n",
       "      <td>NaN</td>\n",
       "    </tr>\n",
       "    <tr>\n",
       "      <th>1422</th>\n",
       "      <td>2626</td>\n",
       "      <td>https://myanimelist.net/anime/2626/The%E2%98%8...</td>\n",
       "      <td>Movie</td>\n",
       "      <td>1.0</td>\n",
       "      <td>Finished Airing</td>\n",
       "      <td>1998-03-07T00:00:00+00:00</td>\n",
       "      <td>NaN</td>\n",
       "      <td>NaN</td>\n",
       "      <td>NaN</td>\n",
       "      <td>Shin-Ei Animation</td>\n",
       "      <td>...</td>\n",
       "      <td>16 min</td>\n",
       "      <td>PG - Children</td>\n",
       "      <td>NaN</td>\n",
       "      <td>NaN</td>\n",
       "      <td>NaN</td>\n",
       "      <td>NaN</td>\n",
       "      <td>Shin-Ei Animation</td>\n",
       "      <td>Fantasy</td>\n",
       "      <td>NaN</td>\n",
       "      <td>NaN</td>\n",
       "    </tr>\n",
       "    <tr>\n",
       "      <th>1423</th>\n",
       "      <td>2628</td>\n",
       "      <td>https://myanimelist.net/anime/2628/The%E2%98%8...</td>\n",
       "      <td>Movie</td>\n",
       "      <td>1.0</td>\n",
       "      <td>Finished Airing</td>\n",
       "      <td>1999-03-06T00:00:00+00:00</td>\n",
       "      <td>NaN</td>\n",
       "      <td>NaN</td>\n",
       "      <td>NaN</td>\n",
       "      <td>Shin-Ei Animation</td>\n",
       "      <td>...</td>\n",
       "      <td>16 min</td>\n",
       "      <td>PG - Children</td>\n",
       "      <td>NaN</td>\n",
       "      <td>NaN</td>\n",
       "      <td>NaN</td>\n",
       "      <td>NaN</td>\n",
       "      <td>Shin-Ei Animation</td>\n",
       "      <td>Fantasy</td>\n",
       "      <td>NaN</td>\n",
       "      <td>NaN</td>\n",
       "    </tr>\n",
       "    <tr>\n",
       "      <th>1425</th>\n",
       "      <td>2633</td>\n",
       "      <td>https://myanimelist.net/anime/2633/The%E2%98%8...</td>\n",
       "      <td>Movie</td>\n",
       "      <td>1.0</td>\n",
       "      <td>Finished Airing</td>\n",
       "      <td>2000-03-11T00:00:00+00:00</td>\n",
       "      <td>NaN</td>\n",
       "      <td>NaN</td>\n",
       "      <td>NaN</td>\n",
       "      <td>Shin-Ei Animation</td>\n",
       "      <td>...</td>\n",
       "      <td>17 min</td>\n",
       "      <td>PG - Children</td>\n",
       "      <td>NaN</td>\n",
       "      <td>NaN</td>\n",
       "      <td>NaN</td>\n",
       "      <td>NaN</td>\n",
       "      <td>Shin-Ei Animation</td>\n",
       "      <td>Adventure, Comedy, Fantasy, Sci-Fi</td>\n",
       "      <td>NaN</td>\n",
       "      <td>Kids, Shounen</td>\n",
       "    </tr>\n",
       "  </tbody>\n",
       "</table>\n",
       "<p>5 rows × 35 columns</p>\n",
       "</div>"
      ],
      "text/plain": [
       "      anime_id                                           url_orig type_orig  \\\n",
       "1266      2265                                                NaN     Movie   \n",
       "1267      2268                                                NaN        TV   \n",
       "1422      2626  https://myanimelist.net/anime/2626/The%E2%98%8...     Movie   \n",
       "1423      2628  https://myanimelist.net/anime/2628/The%E2%98%8...     Movie   \n",
       "1425      2633  https://myanimelist.net/anime/2633/The%E2%98%8...     Movie   \n",
       "\n",
       "     episodes_orig      status_orig             premiered_orig producer  \\\n",
       "1266             1              NaN                        NaN      NaN   \n",
       "1267            98              NaN                        NaN      NaN   \n",
       "1422           1.0  Finished Airing  1998-03-07T00:00:00+00:00      NaN   \n",
       "1423           1.0  Finished Airing  1999-03-06T00:00:00+00:00      NaN   \n",
       "1425           1.0  Finished Airing  2000-03-11T00:00:00+00:00      NaN   \n",
       "\n",
       "     broadcast_orig licensors_orig       studios_orig  ... duration  \\\n",
       "1266            NaN            NaN                NaN  ...      NaN   \n",
       "1267            NaN            NaN                NaN  ...      NaN   \n",
       "1422            NaN            NaN  Shin-Ei Animation  ...   16 min   \n",
       "1423            NaN            NaN  Shin-Ei Animation  ...   16 min   \n",
       "1425            NaN            NaN  Shin-Ei Animation  ...   17 min   \n",
       "\n",
       "         rating_add synopsis_add broadcast_add producers licensors_add  \\\n",
       "1266            NaN          NaN           NaN       NaN           NaN   \n",
       "1267            NaN          NaN           NaN       NaN           NaN   \n",
       "1422  PG - Children          NaN           NaN       NaN           NaN   \n",
       "1423  PG - Children          NaN           NaN       NaN           NaN   \n",
       "1425  PG - Children          NaN           NaN       NaN           NaN   \n",
       "\n",
       "            studios_add                          genres_add themes_add  \\\n",
       "1266                NaN                                 NaN        NaN   \n",
       "1267                NaN                                 NaN        NaN   \n",
       "1422  Shin-Ei Animation                             Fantasy        NaN   \n",
       "1423  Shin-Ei Animation                             Fantasy        NaN   \n",
       "1425  Shin-Ei Animation  Adventure, Comedy, Fantasy, Sci-Fi        NaN   \n",
       "\n",
       "       demographics  \n",
       "1266            NaN  \n",
       "1267            NaN  \n",
       "1422            NaN  \n",
       "1423            NaN  \n",
       "1425  Kids, Shounen  \n",
       "\n",
       "[5 rows x 35 columns]"
      ]
     },
     "execution_count": 174,
     "metadata": {},
     "output_type": "execute_result"
    }
   ],
   "source": [
    "combined_synopsis_df[\"url_orig\"] = combined_synopsis_df[\"url_orig\"] \\\n",
    "    .fillna(combined_synopsis_df[\"url_add\"])\n",
    "combined_synopsis_df[\"episodes_orig\"] = combined_synopsis_df[\"episodes_orig\"] \\\n",
    "    .fillna(combined_synopsis_df[\"episodes_add\"])\n",
    "combined_synopsis_df[\"status_orig\"] = combined_synopsis_df[\"status_orig\"] \\\n",
    "    .fillna(combined_synopsis_df[\"status_add\"])\n",
    "combined_synopsis_df[\"premiered_orig\"] = combined_synopsis_df[\"premiered_orig\"] \\\n",
    "    .fillna(combined_synopsis_df[\"premiered_add\"])\n",
    "combined_synopsis_df[\"broadcast_orig\"] = combined_synopsis_df[\"broadcast_orig\"] \\\n",
    "    .fillna(combined_synopsis_df[\"broadcast_add\"])\n",
    "combined_synopsis_df[\"licensors_orig\"] = combined_synopsis_df[\"licensors_orig\"] \\\n",
    "    .fillna(combined_synopsis_df[\"licensors_add\"])\n",
    "combined_synopsis_df[\"studios_orig\"] = combined_synopsis_df[\"studios_orig\"] \\\n",
    "    .fillna(combined_synopsis_df[\"studios_add\"])\n",
    "combined_synopsis_df[\"genres_orig\"] = combined_synopsis_df[\"genres_orig\"] \\\n",
    "    .fillna(combined_synopsis_df[\"genres_add\"])\n",
    "combined_synopsis_df[\"themes_orig\"] = combined_synopsis_df[\"themes_orig\"] \\\n",
    "    .fillna(combined_synopsis_df[\"themes_add\"])\n",
    "combined_synopsis_df[\"source_orig\"] = combined_synopsis_df[\"source_orig\"] \\\n",
    "    .fillna(combined_synopsis_df[\"source_add\"])\n",
    "combined_synopsis_df[\"rating_orig\"] = combined_synopsis_df[\"rating_orig\"] \\\n",
    "    .fillna(combined_synopsis_df[\"rating_add\"])\n",
    "combined_synopsis_df[\"producer\"] = combined_synopsis_df[\"producer\"] \\\n",
    "    .fillna(combined_synopsis_df[\"producers\"])\n",
    "combined_synopsis_df[\"demographic\"] = combined_synopsis_df[\"demographic\"] \\\n",
    "    .fillna(combined_synopsis_df[\"demographics\"])\n",
    "\n",
    "combined_synopsis_df[combined_synopsis_df[\"synopsis_orig\"].isna()].head()"
   ]
  },
  {
   "cell_type": "markdown",
   "id": "bb9b86ba",
   "metadata": {},
   "source": [
    "Filling in the missing data for Doraemon"
   ]
  },
  {
   "cell_type": "code",
   "execution_count": 175,
   "id": "9cfe8eda",
   "metadata": {},
   "outputs": [
    {
     "data": {
      "application/vnd.microsoft.datawrangler.viewer.v0+json": {
       "columns": [
        {
         "name": "index",
         "rawType": "int64",
         "type": "integer"
        },
        {
         "name": "anime_id",
         "rawType": "int64",
         "type": "integer"
        },
        {
         "name": "url_orig",
         "rawType": "object",
         "type": "unknown"
        },
        {
         "name": "type_orig",
         "rawType": "object",
         "type": "string"
        },
        {
         "name": "episodes_orig",
         "rawType": "object",
         "type": "unknown"
        },
        {
         "name": "status_orig",
         "rawType": "object",
         "type": "unknown"
        },
        {
         "name": "premiered_orig",
         "rawType": "object",
         "type": "unknown"
        },
        {
         "name": "producer",
         "rawType": "object",
         "type": "unknown"
        },
        {
         "name": "broadcast_orig",
         "rawType": "object",
         "type": "unknown"
        },
        {
         "name": "licensors_orig",
         "rawType": "object",
         "type": "unknown"
        },
        {
         "name": "studios_orig",
         "rawType": "object",
         "type": "unknown"
        },
        {
         "name": "genres_orig",
         "rawType": "object",
         "type": "string"
        },
        {
         "name": "themes_orig",
         "rawType": "object",
         "type": "unknown"
        },
        {
         "name": "demographic",
         "rawType": "object",
         "type": "unknown"
        },
        {
         "name": "source_orig",
         "rawType": "object",
         "type": "unknown"
        },
        {
         "name": "rating_orig",
         "rawType": "object",
         "type": "unknown"
        },
        {
         "name": "title_orig",
         "rawType": "object",
         "type": "string"
        },
        {
         "name": "duration_in_minutes",
         "rawType": "float64",
         "type": "float"
        },
        {
         "name": "synopsis_orig",
         "rawType": "object",
         "type": "unknown"
        },
        {
         "name": "url_add",
         "rawType": "object",
         "type": "unknown"
        },
        {
         "name": "title_add",
         "rawType": "object",
         "type": "unknown"
        },
        {
         "name": "type_add",
         "rawType": "object",
         "type": "unknown"
        },
        {
         "name": "source_add",
         "rawType": "object",
         "type": "unknown"
        },
        {
         "name": "episodes_add",
         "rawType": "float64",
         "type": "float"
        },
        {
         "name": "status_add",
         "rawType": "object",
         "type": "unknown"
        },
        {
         "name": "premiered_add",
         "rawType": "object",
         "type": "unknown"
        },
        {
         "name": "duration",
         "rawType": "object",
         "type": "unknown"
        },
        {
         "name": "rating_add",
         "rawType": "object",
         "type": "unknown"
        },
        {
         "name": "synopsis_add",
         "rawType": "object",
         "type": "unknown"
        },
        {
         "name": "broadcast_add",
         "rawType": "object",
         "type": "unknown"
        },
        {
         "name": "producers",
         "rawType": "object",
         "type": "unknown"
        },
        {
         "name": "licensors_add",
         "rawType": "object",
         "type": "unknown"
        },
        {
         "name": "studios_add",
         "rawType": "object",
         "type": "unknown"
        },
        {
         "name": "genres_add",
         "rawType": "object",
         "type": "unknown"
        },
        {
         "name": "themes_add",
         "rawType": "object",
         "type": "unknown"
        },
        {
         "name": "demographics",
         "rawType": "object",
         "type": "unknown"
        }
       ],
       "ref": "e6e2ed0e-200c-4c3b-861b-7a7bed188bcf",
       "rows": [
        [
         "1266",
         "2265",
         null,
         "Movie",
         "1",
         null,
         null,
         null,
         null,
         null,
         null,
         "Action, Mecha",
         null,
         null,
         null,
         null,
         "Transformers the Movie",
         null,
         null,
         null,
         null,
         null,
         null,
         null,
         null,
         null,
         null,
         null,
         null,
         null,
         null,
         null,
         null,
         null,
         null,
         null
        ],
        [
         "1267",
         "2268",
         null,
         "TV",
         "98",
         null,
         null,
         null,
         null,
         null,
         null,
         "Adventure, Mecha, Sci-Fi, Shounen",
         null,
         null,
         null,
         null,
         "Tatakae! Chou Robot Seimeitai Transformers",
         null,
         null,
         null,
         null,
         null,
         null,
         null,
         null,
         null,
         null,
         null,
         null,
         null,
         null,
         null,
         null,
         null,
         null,
         null
        ],
        [
         "1426",
         "2636",
         "https://myanimelist.net/anime/2636/Dorami-chan__Wow_The_Kid_Gang_of_Bandits",
         "Movie",
         "1.0",
         "Finished Airing",
         "1991-03-09T00:00:00+00:00",
         null,
         null,
         null,
         "Shin-Ei Animation",
         "Fantasy",
         null,
         null,
         "Unknown",
         "G - All Ages",
         "Dorami-chan: Arara Shounen Sanzokudan",
         "40.0",
         null,
         "https://myanimelist.net/anime/2636/Dorami-chan__Arara_Shounen_Sanzokudan",
         "Dorami-chan: Arara Shounen Sanzokudan",
         "Movie",
         "Unknown",
         "1.0",
         "Finished Airing",
         "1991-03-09T00:00:00+00:00",
         "40 min",
         "G - All Ages",
         null,
         null,
         null,
         null,
         "Shin-Ei Animation",
         "Fantasy",
         null,
         null
        ],
        [
         "1428",
         "2642",
         "https://myanimelist.net/anime/2642/Dorami-chan__A_Blue_Straw_Hat",
         "Movie",
         "1.0",
         "Finished Airing",
         "1994-03-12T00:00:00+00:00",
         null,
         null,
         null,
         "Shin-Ei Animation",
         "Fantasy",
         null,
         "Kids",
         "Unknown",
         "G - All Ages",
         "Dorami-chan: Aoi Straw Hat",
         "15.0",
         null,
         "https://myanimelist.net/anime/2642/Dorami-chan__Aoi_Straw_Hat",
         "Dorami-chan: Aoi Straw Hat",
         "Movie",
         "Unknown",
         "1.0",
         "Finished Airing",
         "1994-03-12T00:00:00+00:00",
         "15 min",
         "G - All Ages",
         null,
         null,
         null,
         null,
         "Shin-Ei Animation",
         "Fantasy",
         null,
         "Kids"
        ],
        [
         "1474",
         "2701",
         "https://myanimelist.net/anime/2701/Susie-chan_to_Marvy",
         "TV",
         "104.0",
         "Finished Airing",
         "Spring 1999",
         "Shogakukan Productions",
         "Unknown",
         null,
         "Xebec",
         "Comedy",
         null,
         "Kids",
         "Unknown",
         null,
         "Little Susie and Marvy",
         "15.0",
         null,
         "https://myanimelist.net/anime/2701/Susie-chan_to_Marvy",
         "Susie-chan to Marvy",
         "TV",
         "Unknown",
         "104.0",
         "Finished Airing",
         "1999-04-05T00:00:00+00:00",
         "15 min per ep",
         null,
         null,
         "Unknown",
         "Shogakukan Productions",
         null,
         "Xebec",
         "Comedy",
         null,
         "Kids"
        ]
       ],
       "shape": {
        "columns": 35,
        "rows": 5
       }
      },
      "text/html": [
       "<div>\n",
       "<style scoped>\n",
       "    .dataframe tbody tr th:only-of-type {\n",
       "        vertical-align: middle;\n",
       "    }\n",
       "\n",
       "    .dataframe tbody tr th {\n",
       "        vertical-align: top;\n",
       "    }\n",
       "\n",
       "    .dataframe thead th {\n",
       "        text-align: right;\n",
       "    }\n",
       "</style>\n",
       "<table border=\"1\" class=\"dataframe\">\n",
       "  <thead>\n",
       "    <tr style=\"text-align: right;\">\n",
       "      <th></th>\n",
       "      <th>anime_id</th>\n",
       "      <th>url_orig</th>\n",
       "      <th>type_orig</th>\n",
       "      <th>episodes_orig</th>\n",
       "      <th>status_orig</th>\n",
       "      <th>premiered_orig</th>\n",
       "      <th>producer</th>\n",
       "      <th>broadcast_orig</th>\n",
       "      <th>licensors_orig</th>\n",
       "      <th>studios_orig</th>\n",
       "      <th>...</th>\n",
       "      <th>duration</th>\n",
       "      <th>rating_add</th>\n",
       "      <th>synopsis_add</th>\n",
       "      <th>broadcast_add</th>\n",
       "      <th>producers</th>\n",
       "      <th>licensors_add</th>\n",
       "      <th>studios_add</th>\n",
       "      <th>genres_add</th>\n",
       "      <th>themes_add</th>\n",
       "      <th>demographics</th>\n",
       "    </tr>\n",
       "  </thead>\n",
       "  <tbody>\n",
       "    <tr>\n",
       "      <th>1266</th>\n",
       "      <td>2265</td>\n",
       "      <td>NaN</td>\n",
       "      <td>Movie</td>\n",
       "      <td>1</td>\n",
       "      <td>NaN</td>\n",
       "      <td>NaN</td>\n",
       "      <td>NaN</td>\n",
       "      <td>NaN</td>\n",
       "      <td>NaN</td>\n",
       "      <td>NaN</td>\n",
       "      <td>...</td>\n",
       "      <td>NaN</td>\n",
       "      <td>NaN</td>\n",
       "      <td>NaN</td>\n",
       "      <td>NaN</td>\n",
       "      <td>NaN</td>\n",
       "      <td>NaN</td>\n",
       "      <td>NaN</td>\n",
       "      <td>NaN</td>\n",
       "      <td>NaN</td>\n",
       "      <td>NaN</td>\n",
       "    </tr>\n",
       "    <tr>\n",
       "      <th>1267</th>\n",
       "      <td>2268</td>\n",
       "      <td>NaN</td>\n",
       "      <td>TV</td>\n",
       "      <td>98</td>\n",
       "      <td>NaN</td>\n",
       "      <td>NaN</td>\n",
       "      <td>NaN</td>\n",
       "      <td>NaN</td>\n",
       "      <td>NaN</td>\n",
       "      <td>NaN</td>\n",
       "      <td>...</td>\n",
       "      <td>NaN</td>\n",
       "      <td>NaN</td>\n",
       "      <td>NaN</td>\n",
       "      <td>NaN</td>\n",
       "      <td>NaN</td>\n",
       "      <td>NaN</td>\n",
       "      <td>NaN</td>\n",
       "      <td>NaN</td>\n",
       "      <td>NaN</td>\n",
       "      <td>NaN</td>\n",
       "    </tr>\n",
       "    <tr>\n",
       "      <th>1426</th>\n",
       "      <td>2636</td>\n",
       "      <td>https://myanimelist.net/anime/2636/Dorami-chan...</td>\n",
       "      <td>Movie</td>\n",
       "      <td>1.0</td>\n",
       "      <td>Finished Airing</td>\n",
       "      <td>1991-03-09T00:00:00+00:00</td>\n",
       "      <td>NaN</td>\n",
       "      <td>NaN</td>\n",
       "      <td>NaN</td>\n",
       "      <td>Shin-Ei Animation</td>\n",
       "      <td>...</td>\n",
       "      <td>40 min</td>\n",
       "      <td>G - All Ages</td>\n",
       "      <td>NaN</td>\n",
       "      <td>NaN</td>\n",
       "      <td>NaN</td>\n",
       "      <td>NaN</td>\n",
       "      <td>Shin-Ei Animation</td>\n",
       "      <td>Fantasy</td>\n",
       "      <td>NaN</td>\n",
       "      <td>NaN</td>\n",
       "    </tr>\n",
       "    <tr>\n",
       "      <th>1428</th>\n",
       "      <td>2642</td>\n",
       "      <td>https://myanimelist.net/anime/2642/Dorami-chan...</td>\n",
       "      <td>Movie</td>\n",
       "      <td>1.0</td>\n",
       "      <td>Finished Airing</td>\n",
       "      <td>1994-03-12T00:00:00+00:00</td>\n",
       "      <td>NaN</td>\n",
       "      <td>NaN</td>\n",
       "      <td>NaN</td>\n",
       "      <td>Shin-Ei Animation</td>\n",
       "      <td>...</td>\n",
       "      <td>15 min</td>\n",
       "      <td>G - All Ages</td>\n",
       "      <td>NaN</td>\n",
       "      <td>NaN</td>\n",
       "      <td>NaN</td>\n",
       "      <td>NaN</td>\n",
       "      <td>Shin-Ei Animation</td>\n",
       "      <td>Fantasy</td>\n",
       "      <td>NaN</td>\n",
       "      <td>Kids</td>\n",
       "    </tr>\n",
       "    <tr>\n",
       "      <th>1474</th>\n",
       "      <td>2701</td>\n",
       "      <td>https://myanimelist.net/anime/2701/Susie-chan_...</td>\n",
       "      <td>TV</td>\n",
       "      <td>104.0</td>\n",
       "      <td>Finished Airing</td>\n",
       "      <td>Spring 1999</td>\n",
       "      <td>Shogakukan Productions</td>\n",
       "      <td>Unknown</td>\n",
       "      <td>NaN</td>\n",
       "      <td>Xebec</td>\n",
       "      <td>...</td>\n",
       "      <td>15 min per ep</td>\n",
       "      <td>NaN</td>\n",
       "      <td>NaN</td>\n",
       "      <td>Unknown</td>\n",
       "      <td>Shogakukan Productions</td>\n",
       "      <td>NaN</td>\n",
       "      <td>Xebec</td>\n",
       "      <td>Comedy</td>\n",
       "      <td>NaN</td>\n",
       "      <td>Kids</td>\n",
       "    </tr>\n",
       "  </tbody>\n",
       "</table>\n",
       "<p>5 rows × 35 columns</p>\n",
       "</div>"
      ],
      "text/plain": [
       "      anime_id                                           url_orig type_orig  \\\n",
       "1266      2265                                                NaN     Movie   \n",
       "1267      2268                                                NaN        TV   \n",
       "1426      2636  https://myanimelist.net/anime/2636/Dorami-chan...     Movie   \n",
       "1428      2642  https://myanimelist.net/anime/2642/Dorami-chan...     Movie   \n",
       "1474      2701  https://myanimelist.net/anime/2701/Susie-chan_...        TV   \n",
       "\n",
       "     episodes_orig      status_orig             premiered_orig  \\\n",
       "1266             1              NaN                        NaN   \n",
       "1267            98              NaN                        NaN   \n",
       "1426           1.0  Finished Airing  1991-03-09T00:00:00+00:00   \n",
       "1428           1.0  Finished Airing  1994-03-12T00:00:00+00:00   \n",
       "1474         104.0  Finished Airing                Spring 1999   \n",
       "\n",
       "                    producer broadcast_orig licensors_orig       studios_orig  \\\n",
       "1266                     NaN            NaN            NaN                NaN   \n",
       "1267                     NaN            NaN            NaN                NaN   \n",
       "1426                     NaN            NaN            NaN  Shin-Ei Animation   \n",
       "1428                     NaN            NaN            NaN  Shin-Ei Animation   \n",
       "1474  Shogakukan Productions        Unknown            NaN              Xebec   \n",
       "\n",
       "      ...       duration    rating_add synopsis_add broadcast_add  \\\n",
       "1266  ...            NaN           NaN          NaN           NaN   \n",
       "1267  ...            NaN           NaN          NaN           NaN   \n",
       "1426  ...         40 min  G - All Ages          NaN           NaN   \n",
       "1428  ...         15 min  G - All Ages          NaN           NaN   \n",
       "1474  ...  15 min per ep           NaN          NaN       Unknown   \n",
       "\n",
       "                   producers licensors_add        studios_add genres_add  \\\n",
       "1266                     NaN           NaN                NaN        NaN   \n",
       "1267                     NaN           NaN                NaN        NaN   \n",
       "1426                     NaN           NaN  Shin-Ei Animation    Fantasy   \n",
       "1428                     NaN           NaN  Shin-Ei Animation    Fantasy   \n",
       "1474  Shogakukan Productions           NaN              Xebec     Comedy   \n",
       "\n",
       "     themes_add demographics  \n",
       "1266        NaN          NaN  \n",
       "1267        NaN          NaN  \n",
       "1426        NaN          NaN  \n",
       "1428        NaN         Kids  \n",
       "1474        NaN         Kids  \n",
       "\n",
       "[5 rows x 35 columns]"
      ]
     },
     "execution_count": 175,
     "metadata": {},
     "output_type": "execute_result"
    }
   ],
   "source": [
    "combined_synopsis_df.loc[combined_synopsis_df[\"title_orig\"].str.contains(\"Doraemon\") \\\n",
    "    & combined_synopsis_df[\"synopsis_orig\"].isna(), \"synopsis_orig\"] = \"Another entry in the Doraemon media franchise\"\n",
    "combined_synopsis_df[combined_synopsis_df[\"synopsis_orig\"].isna()].head()"
   ]
  },
  {
   "cell_type": "markdown",
   "id": "bfdb32fe",
   "metadata": {},
   "source": [
    "Filling in the missing data for Dorami-chan"
   ]
  },
  {
   "cell_type": "code",
   "execution_count": 176,
   "id": "eee18828",
   "metadata": {},
   "outputs": [
    {
     "data": {
      "application/vnd.microsoft.datawrangler.viewer.v0+json": {
       "columns": [
        {
         "name": "index",
         "rawType": "int64",
         "type": "integer"
        },
        {
         "name": "anime_id",
         "rawType": "int64",
         "type": "integer"
        },
        {
         "name": "url_orig",
         "rawType": "object",
         "type": "unknown"
        },
        {
         "name": "type_orig",
         "rawType": "object",
         "type": "string"
        },
        {
         "name": "episodes_orig",
         "rawType": "object",
         "type": "unknown"
        },
        {
         "name": "status_orig",
         "rawType": "object",
         "type": "unknown"
        },
        {
         "name": "premiered_orig",
         "rawType": "object",
         "type": "unknown"
        },
        {
         "name": "producer",
         "rawType": "object",
         "type": "unknown"
        },
        {
         "name": "broadcast_orig",
         "rawType": "object",
         "type": "unknown"
        },
        {
         "name": "licensors_orig",
         "rawType": "object",
         "type": "unknown"
        },
        {
         "name": "studios_orig",
         "rawType": "object",
         "type": "unknown"
        },
        {
         "name": "genres_orig",
         "rawType": "object",
         "type": "string"
        },
        {
         "name": "themes_orig",
         "rawType": "object",
         "type": "unknown"
        },
        {
         "name": "demographic",
         "rawType": "object",
         "type": "unknown"
        },
        {
         "name": "source_orig",
         "rawType": "object",
         "type": "unknown"
        },
        {
         "name": "rating_orig",
         "rawType": "object",
         "type": "unknown"
        },
        {
         "name": "title_orig",
         "rawType": "object",
         "type": "string"
        },
        {
         "name": "duration_in_minutes",
         "rawType": "float64",
         "type": "float"
        },
        {
         "name": "synopsis_orig",
         "rawType": "object",
         "type": "unknown"
        },
        {
         "name": "url_add",
         "rawType": "object",
         "type": "unknown"
        },
        {
         "name": "title_add",
         "rawType": "object",
         "type": "unknown"
        },
        {
         "name": "type_add",
         "rawType": "object",
         "type": "unknown"
        },
        {
         "name": "source_add",
         "rawType": "object",
         "type": "unknown"
        },
        {
         "name": "episodes_add",
         "rawType": "float64",
         "type": "float"
        },
        {
         "name": "status_add",
         "rawType": "object",
         "type": "unknown"
        },
        {
         "name": "premiered_add",
         "rawType": "object",
         "type": "unknown"
        },
        {
         "name": "duration",
         "rawType": "object",
         "type": "unknown"
        },
        {
         "name": "rating_add",
         "rawType": "object",
         "type": "unknown"
        },
        {
         "name": "synopsis_add",
         "rawType": "object",
         "type": "unknown"
        },
        {
         "name": "broadcast_add",
         "rawType": "object",
         "type": "unknown"
        },
        {
         "name": "producers",
         "rawType": "object",
         "type": "unknown"
        },
        {
         "name": "licensors_add",
         "rawType": "object",
         "type": "unknown"
        },
        {
         "name": "studios_add",
         "rawType": "object",
         "type": "unknown"
        },
        {
         "name": "genres_add",
         "rawType": "object",
         "type": "unknown"
        },
        {
         "name": "themes_add",
         "rawType": "object",
         "type": "unknown"
        },
        {
         "name": "demographics",
         "rawType": "object",
         "type": "unknown"
        }
       ],
       "ref": "09bb142b-6433-496c-bd11-f27ebfd7cf53",
       "rows": [
        [
         "1266",
         "2265",
         null,
         "Movie",
         "1",
         null,
         null,
         null,
         null,
         null,
         null,
         "Action, Mecha",
         null,
         null,
         null,
         null,
         "Transformers the Movie",
         null,
         null,
         null,
         null,
         null,
         null,
         null,
         null,
         null,
         null,
         null,
         null,
         null,
         null,
         null,
         null,
         null,
         null,
         null
        ],
        [
         "1267",
         "2268",
         null,
         "TV",
         "98",
         null,
         null,
         null,
         null,
         null,
         null,
         "Adventure, Mecha, Sci-Fi, Shounen",
         null,
         null,
         null,
         null,
         "Tatakae! Chou Robot Seimeitai Transformers",
         null,
         null,
         null,
         null,
         null,
         null,
         null,
         null,
         null,
         null,
         null,
         null,
         null,
         null,
         null,
         null,
         null,
         null,
         null
        ],
        [
         "1474",
         "2701",
         "https://myanimelist.net/anime/2701/Susie-chan_to_Marvy",
         "TV",
         "104.0",
         "Finished Airing",
         "Spring 1999",
         "Shogakukan Productions",
         "Unknown",
         null,
         "Xebec",
         "Comedy",
         null,
         "Kids",
         "Unknown",
         null,
         "Little Susie and Marvy",
         "15.0",
         null,
         "https://myanimelist.net/anime/2701/Susie-chan_to_Marvy",
         "Susie-chan to Marvy",
         "TV",
         "Unknown",
         "104.0",
         "Finished Airing",
         "1999-04-05T00:00:00+00:00",
         "15 min per ep",
         null,
         null,
         "Unknown",
         "Shogakukan Productions",
         null,
         "Xebec",
         "Comedy",
         null,
         "Kids"
        ],
        [
         "1481",
         "2708",
         "https://myanimelist.net/anime/2708/Wankorobee",
         "TV",
         "26",
         "Finished Airing",
         "Fall 1996",
         null,
         "Sundays at 10:30 (JST)",
         null,
         "Ajia-Do, TMS Entertainment",
         "Comedy, Fantasy, Kids",
         null,
         "Kids",
         "Original",
         "G - All Ages",
         "Wankorobee",
         "15.0",
         null,
         "https://myanimelist.net/anime/2708/Wankorobee",
         "Wankorobee",
         "TV",
         "Manga",
         "26.0",
         "Finished Airing",
         "1996-10-06T00:00:00+00:00",
         "15 min per ep",
         "G - All Ages",
         null,
         "Sundays at 10:30 (JST)",
         null,
         null,
         "Ajia-do, TMS Entertainment",
         "Comedy, Fantasy",
         null,
         "Kids"
        ],
        [
         "1591",
         "2930",
         "https://myanimelist.net/anime/2930/Tensai_Dr_Hamax",
         "TV",
         "12",
         "Finished Airing",
         "Fall 2007",
         "Trans Arts, Tohokushinsha Film Corporation",
         "Unknown",
         null,
         "Production I.G",
         "Comedy",
         null,
         null,
         "Original",
         "G - All Ages",
         "Tensai? Dr. Hamax",
         "23.0",
         null,
         "https://myanimelist.net/anime/2930/Tensai_Dr_Hamax",
         "Tensai? Dr. Hamax",
         "TV",
         "Original",
         "12.0",
         "Finished Airing",
         "2007-10-06T00:00:00+00:00",
         "23 min per ep",
         "G - All Ages",
         "No synopsis has been added for this series yet.\n\nClick here to update this information.",
         "Unknown",
         "Production I.G, Tohokushinsha Film Corporation",
         null,
         "Trans Arts",
         "Comedy",
         null,
         null
        ]
       ],
       "shape": {
        "columns": 35,
        "rows": 5
       }
      },
      "text/html": [
       "<div>\n",
       "<style scoped>\n",
       "    .dataframe tbody tr th:only-of-type {\n",
       "        vertical-align: middle;\n",
       "    }\n",
       "\n",
       "    .dataframe tbody tr th {\n",
       "        vertical-align: top;\n",
       "    }\n",
       "\n",
       "    .dataframe thead th {\n",
       "        text-align: right;\n",
       "    }\n",
       "</style>\n",
       "<table border=\"1\" class=\"dataframe\">\n",
       "  <thead>\n",
       "    <tr style=\"text-align: right;\">\n",
       "      <th></th>\n",
       "      <th>anime_id</th>\n",
       "      <th>url_orig</th>\n",
       "      <th>type_orig</th>\n",
       "      <th>episodes_orig</th>\n",
       "      <th>status_orig</th>\n",
       "      <th>premiered_orig</th>\n",
       "      <th>producer</th>\n",
       "      <th>broadcast_orig</th>\n",
       "      <th>licensors_orig</th>\n",
       "      <th>studios_orig</th>\n",
       "      <th>...</th>\n",
       "      <th>duration</th>\n",
       "      <th>rating_add</th>\n",
       "      <th>synopsis_add</th>\n",
       "      <th>broadcast_add</th>\n",
       "      <th>producers</th>\n",
       "      <th>licensors_add</th>\n",
       "      <th>studios_add</th>\n",
       "      <th>genres_add</th>\n",
       "      <th>themes_add</th>\n",
       "      <th>demographics</th>\n",
       "    </tr>\n",
       "  </thead>\n",
       "  <tbody>\n",
       "    <tr>\n",
       "      <th>1266</th>\n",
       "      <td>2265</td>\n",
       "      <td>NaN</td>\n",
       "      <td>Movie</td>\n",
       "      <td>1</td>\n",
       "      <td>NaN</td>\n",
       "      <td>NaN</td>\n",
       "      <td>NaN</td>\n",
       "      <td>NaN</td>\n",
       "      <td>NaN</td>\n",
       "      <td>NaN</td>\n",
       "      <td>...</td>\n",
       "      <td>NaN</td>\n",
       "      <td>NaN</td>\n",
       "      <td>NaN</td>\n",
       "      <td>NaN</td>\n",
       "      <td>NaN</td>\n",
       "      <td>NaN</td>\n",
       "      <td>NaN</td>\n",
       "      <td>NaN</td>\n",
       "      <td>NaN</td>\n",
       "      <td>NaN</td>\n",
       "    </tr>\n",
       "    <tr>\n",
       "      <th>1267</th>\n",
       "      <td>2268</td>\n",
       "      <td>NaN</td>\n",
       "      <td>TV</td>\n",
       "      <td>98</td>\n",
       "      <td>NaN</td>\n",
       "      <td>NaN</td>\n",
       "      <td>NaN</td>\n",
       "      <td>NaN</td>\n",
       "      <td>NaN</td>\n",
       "      <td>NaN</td>\n",
       "      <td>...</td>\n",
       "      <td>NaN</td>\n",
       "      <td>NaN</td>\n",
       "      <td>NaN</td>\n",
       "      <td>NaN</td>\n",
       "      <td>NaN</td>\n",
       "      <td>NaN</td>\n",
       "      <td>NaN</td>\n",
       "      <td>NaN</td>\n",
       "      <td>NaN</td>\n",
       "      <td>NaN</td>\n",
       "    </tr>\n",
       "    <tr>\n",
       "      <th>1474</th>\n",
       "      <td>2701</td>\n",
       "      <td>https://myanimelist.net/anime/2701/Susie-chan_...</td>\n",
       "      <td>TV</td>\n",
       "      <td>104.0</td>\n",
       "      <td>Finished Airing</td>\n",
       "      <td>Spring 1999</td>\n",
       "      <td>Shogakukan Productions</td>\n",
       "      <td>Unknown</td>\n",
       "      <td>NaN</td>\n",
       "      <td>Xebec</td>\n",
       "      <td>...</td>\n",
       "      <td>15 min per ep</td>\n",
       "      <td>NaN</td>\n",
       "      <td>NaN</td>\n",
       "      <td>Unknown</td>\n",
       "      <td>Shogakukan Productions</td>\n",
       "      <td>NaN</td>\n",
       "      <td>Xebec</td>\n",
       "      <td>Comedy</td>\n",
       "      <td>NaN</td>\n",
       "      <td>Kids</td>\n",
       "    </tr>\n",
       "    <tr>\n",
       "      <th>1481</th>\n",
       "      <td>2708</td>\n",
       "      <td>https://myanimelist.net/anime/2708/Wankorobee</td>\n",
       "      <td>TV</td>\n",
       "      <td>26</td>\n",
       "      <td>Finished Airing</td>\n",
       "      <td>Fall 1996</td>\n",
       "      <td>NaN</td>\n",
       "      <td>Sundays at 10:30 (JST)</td>\n",
       "      <td>NaN</td>\n",
       "      <td>Ajia-Do, TMS Entertainment</td>\n",
       "      <td>...</td>\n",
       "      <td>15 min per ep</td>\n",
       "      <td>G - All Ages</td>\n",
       "      <td>NaN</td>\n",
       "      <td>Sundays at 10:30 (JST)</td>\n",
       "      <td>NaN</td>\n",
       "      <td>NaN</td>\n",
       "      <td>Ajia-do, TMS Entertainment</td>\n",
       "      <td>Comedy, Fantasy</td>\n",
       "      <td>NaN</td>\n",
       "      <td>Kids</td>\n",
       "    </tr>\n",
       "    <tr>\n",
       "      <th>1591</th>\n",
       "      <td>2930</td>\n",
       "      <td>https://myanimelist.net/anime/2930/Tensai_Dr_H...</td>\n",
       "      <td>TV</td>\n",
       "      <td>12</td>\n",
       "      <td>Finished Airing</td>\n",
       "      <td>Fall 2007</td>\n",
       "      <td>Trans Arts, Tohokushinsha Film Corporation</td>\n",
       "      <td>Unknown</td>\n",
       "      <td>NaN</td>\n",
       "      <td>Production I.G</td>\n",
       "      <td>...</td>\n",
       "      <td>23 min per ep</td>\n",
       "      <td>G - All Ages</td>\n",
       "      <td>No synopsis has been added for this series yet...</td>\n",
       "      <td>Unknown</td>\n",
       "      <td>Production I.G, Tohokushinsha Film Corporation</td>\n",
       "      <td>NaN</td>\n",
       "      <td>Trans Arts</td>\n",
       "      <td>Comedy</td>\n",
       "      <td>NaN</td>\n",
       "      <td>NaN</td>\n",
       "    </tr>\n",
       "  </tbody>\n",
       "</table>\n",
       "<p>5 rows × 35 columns</p>\n",
       "</div>"
      ],
      "text/plain": [
       "      anime_id                                           url_orig type_orig  \\\n",
       "1266      2265                                                NaN     Movie   \n",
       "1267      2268                                                NaN        TV   \n",
       "1474      2701  https://myanimelist.net/anime/2701/Susie-chan_...        TV   \n",
       "1481      2708      https://myanimelist.net/anime/2708/Wankorobee        TV   \n",
       "1591      2930  https://myanimelist.net/anime/2930/Tensai_Dr_H...        TV   \n",
       "\n",
       "     episodes_orig      status_orig premiered_orig  \\\n",
       "1266             1              NaN            NaN   \n",
       "1267            98              NaN            NaN   \n",
       "1474         104.0  Finished Airing    Spring 1999   \n",
       "1481            26  Finished Airing      Fall 1996   \n",
       "1591            12  Finished Airing      Fall 2007   \n",
       "\n",
       "                                        producer          broadcast_orig  \\\n",
       "1266                                         NaN                     NaN   \n",
       "1267                                         NaN                     NaN   \n",
       "1474                      Shogakukan Productions                 Unknown   \n",
       "1481                                         NaN  Sundays at 10:30 (JST)   \n",
       "1591  Trans Arts, Tohokushinsha Film Corporation                 Unknown   \n",
       "\n",
       "     licensors_orig                studios_orig  ...       duration  \\\n",
       "1266            NaN                         NaN  ...            NaN   \n",
       "1267            NaN                         NaN  ...            NaN   \n",
       "1474            NaN                       Xebec  ...  15 min per ep   \n",
       "1481            NaN  Ajia-Do, TMS Entertainment  ...  15 min per ep   \n",
       "1591            NaN              Production I.G  ...  23 min per ep   \n",
       "\n",
       "        rating_add                                       synopsis_add  \\\n",
       "1266           NaN                                                NaN   \n",
       "1267           NaN                                                NaN   \n",
       "1474           NaN                                                NaN   \n",
       "1481  G - All Ages                                                NaN   \n",
       "1591  G - All Ages  No synopsis has been added for this series yet...   \n",
       "\n",
       "               broadcast_add                                       producers  \\\n",
       "1266                     NaN                                             NaN   \n",
       "1267                     NaN                                             NaN   \n",
       "1474                 Unknown                          Shogakukan Productions   \n",
       "1481  Sundays at 10:30 (JST)                                             NaN   \n",
       "1591                 Unknown  Production I.G, Tohokushinsha Film Corporation   \n",
       "\n",
       "     licensors_add                 studios_add       genres_add themes_add  \\\n",
       "1266           NaN                         NaN              NaN        NaN   \n",
       "1267           NaN                         NaN              NaN        NaN   \n",
       "1474           NaN                       Xebec           Comedy        NaN   \n",
       "1481           NaN  Ajia-do, TMS Entertainment  Comedy, Fantasy        NaN   \n",
       "1591           NaN                  Trans Arts           Comedy        NaN   \n",
       "\n",
       "     demographics  \n",
       "1266          NaN  \n",
       "1267          NaN  \n",
       "1474         Kids  \n",
       "1481         Kids  \n",
       "1591          NaN  \n",
       "\n",
       "[5 rows x 35 columns]"
      ]
     },
     "execution_count": 176,
     "metadata": {},
     "output_type": "execute_result"
    }
   ],
   "source": [
    "combined_synopsis_df.loc[combined_synopsis_df[\"title_orig\"].str.contains(\"Dorami-chan\") \\\n",
    "    & combined_synopsis_df[\"synopsis_orig\"].isna(), \"synopsis_orig\"] = \"Another entry in the Dorami-chan media franchise\"\n",
    "combined_synopsis_df[combined_synopsis_df[\"synopsis_orig\"].isna()].head()"
   ]
  },
  {
   "cell_type": "code",
   "execution_count": 177,
   "id": "c3cda2d6",
   "metadata": {},
   "outputs": [
    {
     "data": {
      "application/vnd.microsoft.datawrangler.viewer.v0+json": {
       "columns": [
        {
         "name": "index",
         "rawType": "int64",
         "type": "integer"
        },
        {
         "name": "anime_id",
         "rawType": "int64",
         "type": "integer"
        },
        {
         "name": "title_orig",
         "rawType": "object",
         "type": "string"
        },
        {
         "name": "synopsis_orig",
         "rawType": "object",
         "type": "unknown"
        },
        {
         "name": "synopsis_add",
         "rawType": "object",
         "type": "string"
        }
       ],
       "ref": "a6415670-da3c-4470-a717-187cdb031747",
       "rows": [
        [
         "2567",
         "6759",
         "Cynical Hysterie Hour: Trip Coaster",
         null,
         "No synopsis has been added for this series yet.\n\nClick here to update this information."
        ],
        [
         "2568",
         "6760",
         "Cynical Hysterie Hour: Ch Ch Ch Change",
         null,
         "No synopsis has been added for this series yet.\n\nClick here to update this information."
        ],
        [
         "2569",
         "6761",
         "Cynical Hysterie Hour: Through the Night",
         null,
         "No synopsis has been added for this series yet.\n\nClick here to update this information."
        ],
        [
         "2570",
         "6762",
         "Cynical Hysterie Hour: Utakata no Uta",
         null,
         "No synopsis has been added for this series yet.\n\nClick here to update this information."
        ]
       ],
       "shape": {
        "columns": 4,
        "rows": 4
       }
      },
      "text/html": [
       "<div>\n",
       "<style scoped>\n",
       "    .dataframe tbody tr th:only-of-type {\n",
       "        vertical-align: middle;\n",
       "    }\n",
       "\n",
       "    .dataframe tbody tr th {\n",
       "        vertical-align: top;\n",
       "    }\n",
       "\n",
       "    .dataframe thead th {\n",
       "        text-align: right;\n",
       "    }\n",
       "</style>\n",
       "<table border=\"1\" class=\"dataframe\">\n",
       "  <thead>\n",
       "    <tr style=\"text-align: right;\">\n",
       "      <th></th>\n",
       "      <th>anime_id</th>\n",
       "      <th>title_orig</th>\n",
       "      <th>synopsis_orig</th>\n",
       "      <th>synopsis_add</th>\n",
       "    </tr>\n",
       "  </thead>\n",
       "  <tbody>\n",
       "    <tr>\n",
       "      <th>2567</th>\n",
       "      <td>6759</td>\n",
       "      <td>Cynical Hysterie Hour: Trip Coaster</td>\n",
       "      <td>None</td>\n",
       "      <td>No synopsis has been added for this series yet...</td>\n",
       "    </tr>\n",
       "    <tr>\n",
       "      <th>2568</th>\n",
       "      <td>6760</td>\n",
       "      <td>Cynical Hysterie Hour: Ch Ch Ch Change</td>\n",
       "      <td>None</td>\n",
       "      <td>No synopsis has been added for this series yet...</td>\n",
       "    </tr>\n",
       "    <tr>\n",
       "      <th>2569</th>\n",
       "      <td>6761</td>\n",
       "      <td>Cynical Hysterie Hour: Through the Night</td>\n",
       "      <td>None</td>\n",
       "      <td>No synopsis has been added for this series yet...</td>\n",
       "    </tr>\n",
       "    <tr>\n",
       "      <th>2570</th>\n",
       "      <td>6762</td>\n",
       "      <td>Cynical Hysterie Hour: Utakata no Uta</td>\n",
       "      <td>None</td>\n",
       "      <td>No synopsis has been added for this series yet...</td>\n",
       "    </tr>\n",
       "  </tbody>\n",
       "</table>\n",
       "</div>"
      ],
      "text/plain": [
       "      anime_id                                title_orig synopsis_orig  \\\n",
       "2567      6759       Cynical Hysterie Hour: Trip Coaster          None   \n",
       "2568      6760    Cynical Hysterie Hour: Ch Ch Ch Change          None   \n",
       "2569      6761  Cynical Hysterie Hour: Through the Night          None   \n",
       "2570      6762     Cynical Hysterie Hour: Utakata no Uta          None   \n",
       "\n",
       "                                           synopsis_add  \n",
       "2567  No synopsis has been added for this series yet...  \n",
       "2568  No synopsis has been added for this series yet...  \n",
       "2569  No synopsis has been added for this series yet...  \n",
       "2570  No synopsis has been added for this series yet...  "
      ]
     },
     "execution_count": 177,
     "metadata": {},
     "output_type": "execute_result"
    }
   ],
   "source": [
    "combined_synopsis_df.loc[combined_synopsis_df[\"title_orig\"].str.contains(\"Cynical Hysterie Hour\"), \\\n",
    "    [\"anime_id\", \"title_orig\", \"synopsis_orig\" ,\"synopsis_add\"]]"
   ]
  },
  {
   "cell_type": "code",
   "execution_count": 178,
   "id": "796425c2",
   "metadata": {},
   "outputs": [
    {
     "data": {
      "application/vnd.microsoft.datawrangler.viewer.v0+json": {
       "columns": [
        {
         "name": "index",
         "rawType": "int64",
         "type": "integer"
        },
        {
         "name": "anime_id",
         "rawType": "int64",
         "type": "integer"
        },
        {
         "name": "title_orig",
         "rawType": "object",
         "type": "string"
        },
        {
         "name": "synopsis_orig",
         "rawType": "object",
         "type": "unknown"
        },
        {
         "name": "synopsis_add",
         "rawType": "object",
         "type": "unknown"
        }
       ],
       "ref": "59849c30-2ed4-42f3-a027-595f2d061368",
       "rows": [
        [
         "8299",
         "43983",
         "Pleasant Goat and Big Big Wolf: Joys of Seasons",
         null,
         null
        ],
        [
         "8300",
         "43984",
         "Pleasant Goat and Big Big Wolf: Smart Dodging",
         null,
         null
        ],
        [
         "8301",
         "43985",
         "Pleasant Goat and Big Big Wolf: Happy, Happy, Bang! Bang!",
         null,
         null
        ],
        [
         "8302",
         "43986",
         "Pleasant Goat and Big Big Wolf: The Athletic Carousel",
         null,
         null
        ],
        [
         "8303",
         "43987",
         "Pleasant Goat and Big Big Wolf: The Happy Diary",
         null,
         null
        ]
       ],
       "shape": {
        "columns": 4,
        "rows": 5
       }
      },
      "text/html": [
       "<div>\n",
       "<style scoped>\n",
       "    .dataframe tbody tr th:only-of-type {\n",
       "        vertical-align: middle;\n",
       "    }\n",
       "\n",
       "    .dataframe tbody tr th {\n",
       "        vertical-align: top;\n",
       "    }\n",
       "\n",
       "    .dataframe thead th {\n",
       "        text-align: right;\n",
       "    }\n",
       "</style>\n",
       "<table border=\"1\" class=\"dataframe\">\n",
       "  <thead>\n",
       "    <tr style=\"text-align: right;\">\n",
       "      <th></th>\n",
       "      <th>anime_id</th>\n",
       "      <th>title_orig</th>\n",
       "      <th>synopsis_orig</th>\n",
       "      <th>synopsis_add</th>\n",
       "    </tr>\n",
       "  </thead>\n",
       "  <tbody>\n",
       "    <tr>\n",
       "      <th>8299</th>\n",
       "      <td>43983</td>\n",
       "      <td>Pleasant Goat and Big Big Wolf: Joys of Seasons</td>\n",
       "      <td>NaN</td>\n",
       "      <td>NaN</td>\n",
       "    </tr>\n",
       "    <tr>\n",
       "      <th>8300</th>\n",
       "      <td>43984</td>\n",
       "      <td>Pleasant Goat and Big Big Wolf: Smart Dodging</td>\n",
       "      <td>NaN</td>\n",
       "      <td>NaN</td>\n",
       "    </tr>\n",
       "    <tr>\n",
       "      <th>8301</th>\n",
       "      <td>43985</td>\n",
       "      <td>Pleasant Goat and Big Big Wolf: Happy, Happy, ...</td>\n",
       "      <td>NaN</td>\n",
       "      <td>NaN</td>\n",
       "    </tr>\n",
       "    <tr>\n",
       "      <th>8302</th>\n",
       "      <td>43986</td>\n",
       "      <td>Pleasant Goat and Big Big Wolf: The Athletic C...</td>\n",
       "      <td>NaN</td>\n",
       "      <td>NaN</td>\n",
       "    </tr>\n",
       "    <tr>\n",
       "      <th>8303</th>\n",
       "      <td>43987</td>\n",
       "      <td>Pleasant Goat and Big Big Wolf: The Happy Diary</td>\n",
       "      <td>NaN</td>\n",
       "      <td>NaN</td>\n",
       "    </tr>\n",
       "  </tbody>\n",
       "</table>\n",
       "</div>"
      ],
      "text/plain": [
       "      anime_id                                         title_orig  \\\n",
       "8299     43983    Pleasant Goat and Big Big Wolf: Joys of Seasons   \n",
       "8300     43984      Pleasant Goat and Big Big Wolf: Smart Dodging   \n",
       "8301     43985  Pleasant Goat and Big Big Wolf: Happy, Happy, ...   \n",
       "8302     43986  Pleasant Goat and Big Big Wolf: The Athletic C...   \n",
       "8303     43987    Pleasant Goat and Big Big Wolf: The Happy Diary   \n",
       "\n",
       "     synopsis_orig synopsis_add  \n",
       "8299           NaN          NaN  \n",
       "8300           NaN          NaN  \n",
       "8301           NaN          NaN  \n",
       "8302           NaN          NaN  \n",
       "8303           NaN          NaN  "
      ]
     },
     "execution_count": 178,
     "metadata": {},
     "output_type": "execute_result"
    }
   ],
   "source": [
    "combined_synopsis_df.loc[combined_synopsis_df[\"title_orig\"].str.contains(\"Cynical Hysterie Hour\") \\\n",
    "    & combined_synopsis_df[\"synopsis_orig\"].isna(), \"synopsis_orig\"] = \"'Selfish, mean and manipulative'. These are some of the words that people use about Tsuneko. But Tsuneko herself has no doubt that she is the most popular person in her elementary school class. Her best friends are Kiriko, the calm one, Hanako, the little madam, Nono, the cutie, Shee, the firm one, and Tsunta, the punk. These stories of their day-to-day lives are full of delightful observations about being a child and growing up in Japan.\"\n",
    "combined_synopsis_df.loc[combined_synopsis_df[\"title_orig\"].str.contains(\"Pleasant Goat and Big Big Wolf\") & \\\n",
    "    combined_synopsis_df[\"synopsis_orig\"].isna(), [\"anime_id\", \"title_orig\", \"synopsis_orig\", \"synopsis_add\"]].head()"
   ]
  },
  {
   "cell_type": "code",
   "execution_count": 179,
   "id": "8c89acf1",
   "metadata": {},
   "outputs": [
    {
     "name": "stdout",
     "output_type": "stream",
     "text": [
      "<class 'pandas.core.frame.DataFrame'>\n",
      "Index: 8759 entries, 0 to 10061\n",
      "Data columns (total 18 columns):\n",
      " #   Column               Non-Null Count  Dtype  \n",
      "---  ------               --------------  -----  \n",
      " 0   anime_id             8759 non-null   int64  \n",
      " 1   url                  7569 non-null   object \n",
      " 2   type                 8743 non-null   object \n",
      " 3   episodes             8748 non-null   object \n",
      " 4   status               7569 non-null   object \n",
      " 5   premiered            5773 non-null   object \n",
      " 6   producer             5721 non-null   object \n",
      " 7   broadcast            4688 non-null   object \n",
      " 8   licensors            3080 non-null   object \n",
      " 9   studios              6578 non-null   object \n",
      " 10  genres               8759 non-null   object \n",
      " 11  themes               4685 non-null   object \n",
      " 12  demographic          2891 non-null   object \n",
      " 13  source               7488 non-null   object \n",
      " 14  rating               8500 non-null   object \n",
      " 15  title                8759 non-null   object \n",
      " 16  duration_in_minutes  8413 non-null   float64\n",
      " 17  synopsis             8759 non-null   object \n",
      "dtypes: float64(1), int64(1), object(16)\n",
      "memory usage: 1.3+ MB\n"
     ]
    }
   ],
   "source": [
    "combined_synopsis_df.loc[combined_synopsis_df[\"title_orig\"].str.contains(\"Pleasant Goat and Big Big Wolf\") & \\\n",
    "    combined_synopsis_df[\"synopsis_orig\"].isna(), \"synopsis_orig\"] = \"Another entry in the Pleasant Goat and Big Big Wolf franchise\"\n",
    "combined_synopsis_df = combined_synopsis_df[~combined_synopsis_df[\"synopsis_orig\"].isna()]\n",
    "combined_synopsis_df = combined_synopsis_df.drop(columns=[\"url_add\", \"title_add\", \"type_add\", \"source_add\", \"episodes_add\", \"status_add\", \\\n",
    "    \"premiered_add\", \"duration\", \"rating_add\", \"synopsis_add\", \"broadcast_add\", \"producers\", \\\n",
    "        \"licensors_add\", \"studios_add\", \"genres_add\", \"themes_add\", \"demographics\"])\n",
    "\n",
    "name_map = { col:col.split(\"_\")[0] for col in combined_synopsis_df.columns if len(col.split(\"_\")) > 1 \\\n",
    "    and col.split(\"_\")[1] == \"orig\"}\n",
    "combined_synopsis_df = combined_synopsis_df.rename(columns=name_map)\n",
    "\n",
    "combined_synopsis_df.info()"
   ]
  },
  {
   "cell_type": "markdown",
   "id": "174fcefb",
   "metadata": {},
   "source": [
    "Store anime_id of anime with missing data to retrieve additional information from the API"
   ]
  },
  {
   "cell_type": "code",
   "execution_count": 180,
   "id": "bdfbc63f",
   "metadata": {},
   "outputs": [],
   "source": [
    "missingAnime = combined_synopsis_df.loc[combined_synopsis_df[\"url\"].isna(), \"anime_id\"].to_list()\n",
    "missingAnime = combined_synopsis_df.loc[combined_synopsis_df[\"type\"].isna(), \"anime_id\"].to_list()\n",
    "missingAnime += combined_synopsis_df.loc[combined_synopsis_df[\"episodes\"].isna(), \"anime_id\"].to_list()\n",
    "missingAnime += combined_synopsis_df.loc[combined_synopsis_df[\"status\"].isna(), \"anime_id\"].to_list()\n",
    "missingAnime += combined_synopsis_df.loc[combined_synopsis_df[\"premiered\"].isna(), \"anime_id\"].to_list()\n",
    "missingAnime += combined_synopsis_df.loc[combined_synopsis_df[\"producer\"].isna(), \"anime_id\"].to_list()\n",
    "missingAnime += combined_synopsis_df.loc[combined_synopsis_df[\"broadcast\"].isna(), \"anime_id\"].to_list()\n",
    "missingAnime += combined_synopsis_df.loc[combined_synopsis_df[\"licensors\"].isna(), \"anime_id\"].to_list()\n",
    "missingAnime += combined_synopsis_df.loc[combined_synopsis_df[\"studios\"].isna(), \"anime_id\"].to_list()\n",
    "missingAnime += combined_synopsis_df.loc[combined_synopsis_df[\"genres\"].isna(), \"anime_id\"].to_list()\n",
    "missingAnime += combined_synopsis_df.loc[combined_synopsis_df[\"themes\"].isna(), \"anime_id\"].to_list()\n",
    "missingAnime += combined_synopsis_df.loc[combined_synopsis_df[\"demographic\"].isna(), \"anime_id\"].to_list()\n",
    "missingAnime += combined_synopsis_df.loc[combined_synopsis_df[\"source\"].isna(), \"anime_id\"].to_list()\n",
    "missingAnime += combined_synopsis_df.loc[combined_synopsis_df[\"rating\"].isna(), \"anime_id\"].to_list()\n",
    "missingAnime += combined_synopsis_df.loc[combined_synopsis_df[\"duration_in_minutes\"].isna(), \"anime_id\"] \\\n",
    "    .to_list()\n",
    "\n",
    "missingAnime = list(set(missingAnime))\n",
    "missingAnime = pd.Series(missingAnime, name=\"anime_id\")\n",
    "\n",
    "missingAnime.to_csv(\"E:\\\\applied data science capstone\\\\data\\\\combined\\\\anime_with_missing_data_11_Jun.csv\", \\\n",
    "    index=False)"
   ]
  },
  {
   "cell_type": "markdown",
   "id": "2b56643a",
   "metadata": {},
   "source": [
    "Used contents in **anime-narrowing/anime-reduced.py** to retrieve the missing data from the API"
   ]
  },
  {
   "cell_type": "code",
   "execution_count": 181,
   "id": "4ab31cba",
   "metadata": {},
   "outputs": [
    {
     "name": "stdout",
     "output_type": "stream",
     "text": [
      "<class 'pandas.core.frame.DataFrame'>\n",
      "RangeIndex: 8636 entries, 0 to 8635\n",
      "Data columns (total 18 columns):\n",
      " #   Column        Non-Null Count  Dtype  \n",
      "---  ------        --------------  -----  \n",
      " 0   mal_id        8636 non-null   int64  \n",
      " 1   url           8636 non-null   object \n",
      " 2   title         8636 non-null   object \n",
      " 3   type          8635 non-null   object \n",
      " 4   source        8636 non-null   object \n",
      " 5   episodes      8586 non-null   float64\n",
      " 6   status        8636 non-null   object \n",
      " 7   premiered     8606 non-null   object \n",
      " 8   duration      8636 non-null   object \n",
      " 9   rating        8484 non-null   object \n",
      " 10  synopsis      8605 non-null   object \n",
      " 11  broadcast     5269 non-null   object \n",
      " 12  producers     5694 non-null   object \n",
      " 13  licensors     3195 non-null   object \n",
      " 14  studios       6834 non-null   object \n",
      " 15  genres        8066 non-null   object \n",
      " 16  themes        5357 non-null   object \n",
      " 17  demographics  3251 non-null   object \n",
      "dtypes: float64(1), int64(1), object(16)\n",
      "memory usage: 1.2+ MB\n"
     ]
    }
   ],
   "source": [
    "additional_anime_data_df = pd.read_csv(\"E:\\\\applied data science capstone\\\\data\\\\combined\\\\anime-data-12-Jun\\\\anime_list_12_Jun.csv\")\n",
    "additional_anime_data_df.info()"
   ]
  },
  {
   "cell_type": "code",
   "execution_count": 182,
   "id": "26838ebd",
   "metadata": {},
   "outputs": [
    {
     "name": "stdout",
     "output_type": "stream",
     "text": [
      "<class 'pandas.core.frame.DataFrame'>\n",
      "RangeIndex: 8759 entries, 0 to 8758\n",
      "Data columns (total 18 columns):\n",
      " #   Column               Non-Null Count  Dtype \n",
      "---  ------               --------------  ----- \n",
      " 0   anime_id             8759 non-null   int64 \n",
      " 1   url                  8646 non-null   object\n",
      " 2   type                 8743 non-null   object\n",
      " 3   episodes             8748 non-null   object\n",
      " 4   status               8646 non-null   object\n",
      " 5   premiered            8636 non-null   object\n",
      " 6   producer             5956 non-null   object\n",
      " 7   broadcast            5310 non-null   object\n",
      " 8   licensors            3220 non-null   object\n",
      " 9   studios              6908 non-null   object\n",
      " 10  genres               8759 non-null   object\n",
      " 11  themes               5424 non-null   object\n",
      " 12  demographic          3370 non-null   object\n",
      " 13  source               8738 non-null   object\n",
      " 14  rating               8562 non-null   object\n",
      " 15  title                8759 non-null   object\n",
      " 16  duration_in_minutes  8704 non-null   object\n",
      " 17  synopsis             8759 non-null   object\n",
      "dtypes: int64(1), object(17)\n",
      "memory usage: 1.2+ MB\n"
     ]
    }
   ],
   "source": [
    "additional_anime_data_df = additional_anime_data_df.rename(columns={\"mal_id\": \"anime_id\"})\n",
    "\n",
    "merged_df = combined_synopsis_df.merge(additional_anime_data_df, how=\"left\", \\\n",
    "    on=\"anime_id\", suffixes=(\"\", \"_add\"))\n",
    "\n",
    "merged_df[\"url\"] = merged_df[\"url\"].fillna(merged_df[\"url_add\"])\n",
    "merged_df[\"type\"] = merged_df[\"type\"].fillna(merged_df[\"type_add\"])\n",
    "merged_df[\"source\"] = merged_df[\"source\"].fillna(merged_df[\"source_add\"])\n",
    "merged_df[\"episodes\"] = merged_df[\"episodes\"].fillna(merged_df[\"episodes_add\"])\n",
    "merged_df[\"status\"] = merged_df[\"status\"].fillna(merged_df[\"status_add\"])\n",
    "merged_df[\"premiered\"] = merged_df[\"premiered\"].fillna(merged_df[\"premiered_add\"])\n",
    "merged_df[\"producer\"] = merged_df[\"producer\"].fillna(merged_df[\"producers\"])\n",
    "merged_df[\"broadcast\"] = merged_df[\"broadcast\"].fillna(merged_df[\"broadcast_add\"])\n",
    "merged_df[\"licensors\"] = merged_df[\"licensors\"].fillna(merged_df[\"licensors_add\"])\n",
    "merged_df[\"studios\"] = merged_df[\"studios\"].fillna(merged_df[\"studios_add\"])\n",
    "merged_df[\"genres\"] = merged_df[\"genres\"].fillna(merged_df[\"genres_add\"])\n",
    "merged_df[\"themes\"] = merged_df[\"themes\"].fillna(merged_df[\"themes_add\"])\n",
    "merged_df[\"demographic\"] = merged_df[\"demographic\"].fillna(merged_df[\"demographics\"])\n",
    "merged_df[\"rating\"] = merged_df[\"rating\"].fillna(merged_df[\"rating_add\"])\n",
    "merged_df[\"duration_in_minutes\"] = merged_df[\"duration_in_minutes\"].fillna(merged_df[\"duration\"])\n",
    "\n",
    "merged_df = merged_df.drop(columns=[\"url_add\", \"title_add\", \"type_add\", \"source_add\", \"episodes_add\", \"status_add\", \\\n",
    "    \"premiered_add\", \"duration\", \"rating_add\", \"synopsis_add\", \"broadcast_add\", \"producers\", \\\n",
    "        \"licensors_add\", \"studios_add\", \"genres_add\", \"themes_add\", \"demographics\"])\n",
    "\n",
    "merged_df.info()"
   ]
  },
  {
   "cell_type": "code",
   "execution_count": 183,
   "id": "94dbcba4",
   "metadata": {},
   "outputs": [
    {
     "data": {
      "application/vnd.microsoft.datawrangler.viewer.v0+json": {
       "columns": [
        {
         "name": "status",
         "rawType": "object",
         "type": "string"
        },
        {
         "name": "count",
         "rawType": "int64",
         "type": "integer"
        }
       ],
       "ref": "5575048a-ac40-4535-82fa-f511d84c85ee",
       "rows": [
        [
         "Finished Airing",
         "8363"
        ],
        [
         "Not yet aired",
         "197"
        ],
        [
         "Currently Airing",
         "86"
        ]
       ],
       "shape": {
        "columns": 1,
        "rows": 3
       }
      },
      "text/plain": [
       "status\n",
       "Finished Airing     8363\n",
       "Not yet aired        197\n",
       "Currently Airing      86\n",
       "Name: count, dtype: int64"
      ]
     },
     "execution_count": 183,
     "metadata": {},
     "output_type": "execute_result"
    }
   ],
   "source": [
    "missing_placeholder = \"Unknown\"\n",
    "merged_df[\"url\"] = merged_df[\"url\"].fillna(missing_placeholder)\n",
    "\n",
    "merged_df[\"status\"].value_counts()"
   ]
  },
  {
   "cell_type": "code",
   "execution_count": 184,
   "id": "3e5e30e2",
   "metadata": {},
   "outputs": [],
   "source": [
    "merged_df = merged_df.loc[~merged_df[\"status\"].isin([\"Not yet aired\"]), :]"
   ]
  },
  {
   "cell_type": "markdown",
   "id": "8d7cc139",
   "metadata": {},
   "source": [
    "Remove the not yet aired anime as they would not have been rated"
   ]
  },
  {
   "cell_type": "code",
   "execution_count": 185,
   "id": "d63127d0",
   "metadata": {},
   "outputs": [],
   "source": [
    "def is_number(s):\n",
    "    try:\n",
    "        float(s)\n",
    "        return True\n",
    "    except ValueError:\n",
    "        return False\n",
    "    \n",
    "def convert_duration_to_seconds(duration):\n",
    "    if duration is None:\n",
    "        return 0\n",
    "    \n",
    "    if is_number(duration):\n",
    "        return float(duration) * 60\n",
    "    \n",
    "    timeSplits = duration.split('.')\n",
    "    seconds = 0\n",
    "    \n",
    "    for segment in timeSplits:\n",
    "        segment = segment.strip()\n",
    "        if 'sec' in segment:\n",
    "            seconds += int(segment.split(' ')[0].strip())\n",
    "        elif 'min' in segment:\n",
    "            seconds += int(segment.split(' ')[0].strip()) * 60\n",
    "        elif 'hr' in segment:\n",
    "            seconds += int(segment.split(' ')[0].strip()) * 60 * 60\n",
    "    \n",
    "    return seconds"
   ]
  },
  {
   "cell_type": "markdown",
   "id": "97304964",
   "metadata": {},
   "source": [
    "Convert duration of new anime to minutes using function defined above"
   ]
  },
  {
   "cell_type": "code",
   "execution_count": 186,
   "id": "18267565",
   "metadata": {},
   "outputs": [],
   "source": [
    "merged_df[\"duration_in_minutes\"] = merged_df[\"duration_in_minutes\"] \\\n",
    "    .apply(lambda x: convert_duration_to_seconds(x) / 60)"
   ]
  },
  {
   "cell_type": "markdown",
   "id": "894b3070",
   "metadata": {},
   "source": [
    "Take a look at anime with a duration less than 20 minutes"
   ]
  },
  {
   "cell_type": "code",
   "execution_count": 187,
   "id": "99bafd67",
   "metadata": {},
   "outputs": [
    {
     "data": {
      "application/vnd.microsoft.datawrangler.viewer.v0+json": {
       "columns": [
        {
         "name": "index",
         "rawType": "int64",
         "type": "integer"
        },
        {
         "name": "anime_id",
         "rawType": "int64",
         "type": "integer"
        },
        {
         "name": "url",
         "rawType": "object",
         "type": "string"
        },
        {
         "name": "type",
         "rawType": "object",
         "type": "string"
        },
        {
         "name": "episodes",
         "rawType": "object",
         "type": "unknown"
        },
        {
         "name": "status",
         "rawType": "object",
         "type": "string"
        },
        {
         "name": "premiered",
         "rawType": "object",
         "type": "string"
        },
        {
         "name": "producer",
         "rawType": "object",
         "type": "string"
        },
        {
         "name": "broadcast",
         "rawType": "object",
         "type": "string"
        },
        {
         "name": "licensors",
         "rawType": "object",
         "type": "unknown"
        },
        {
         "name": "studios",
         "rawType": "object",
         "type": "string"
        },
        {
         "name": "genres",
         "rawType": "object",
         "type": "string"
        },
        {
         "name": "themes",
         "rawType": "object",
         "type": "unknown"
        },
        {
         "name": "demographic",
         "rawType": "object",
         "type": "unknown"
        },
        {
         "name": "source",
         "rawType": "object",
         "type": "string"
        },
        {
         "name": "rating",
         "rawType": "object",
         "type": "string"
        },
        {
         "name": "title",
         "rawType": "object",
         "type": "string"
        },
        {
         "name": "duration_in_minutes",
         "rawType": "float64",
         "type": "float"
        },
        {
         "name": "synopsis",
         "rawType": "object",
         "type": "string"
        }
       ],
       "ref": "98b95443-4465-43b6-97ae-d984ee3eecd0",
       "rows": [
        [
         "83",
         "112",
         "https://myanimelist.net/anime/112/Chou_Henshin_Cosprayers",
         "TV",
         "8.0",
         "Finished Airing",
         "Winter 2004",
         "m.o.e.",
         "Unknown",
         null,
         "Imagin, Studio Live",
         "Action, Adventure, Comedy, Fantasy, Sci-Fi, Ecchi",
         "Super Power",
         null,
         "Original",
         "PG-13 - Teens 13 or older",
         "The Cosmopolitan Prayers",
         "17.0",
         "Koto unknowingly seals away the Sun Goddess Amaterasu, and now she is in a different world and can't return. Meeting priestesses who combat the evil in this strange place she learns that Black Towers throughout the land keep Amaterasu sealed away and are guarded by evil monsters. Koto must now find a way to help defeat these monsters and return the world to the way it was. (Source: ANN)"
        ],
        [
         "85",
         "114",
         "https://myanimelist.net/anime/114/Sakigake_Cromartie_Koukou",
         "TV",
         "26.0",
         "Finished Airing",
         "Fall 2003",
         "TV Tokyo Music",
         "Fridays at 01:00 (JST)",
         "ADV Films, Sentai Filmworks, Discotek Media",
         "Production I.G",
         "Comedy",
         "Delinquents, Gag Humor, School",
         "Shounen",
         "Manga",
         "PG-13 - Teens 13 or older",
         "Cromartie High School",
         "12.0",
         "Takashi Kamiyama is your typical mild-mannered high school student—polite, aloof, and pacifistic, with a slightly above-average IQ. But would your average high school student really enroll himself at the infamous Cromartie High School, known as a breeding ground for the toughest delinquents out there? Apparently so, as that is exactly what Takashi does, though for reasons he'd rather leave unmentioned. However, one thing is for sure: the \"hard-boiled rabbit in a den full of hungry lions\" is never going to have another dull day. And how could he, now that he's surrounded by mohawked punks, obnoxious robots, and... gorillas? And was that Freddie Mercury riding a horse down the corridor? Follow Takashi as he earnestly dedicates his new high school life to better his school's reputation while his classmates are hellbent on wreaking havoc."
        ],
        [
         "88",
         "119",
         "https://myanimelist.net/anime/119/Final_Approach",
         "TV",
         "13",
         "Finished Airing",
         "Fall 2004",
         "Trinet Entertainment",
         "Unknown",
         null,
         "Zexcs",
         "Comedy, Drama, Romance, Slice of Life",
         null,
         null,
         "Visual novel",
         "PG-13 - Teens 13 or older",
         "Final Approach",
         "14.0",
         "Ever since their parents died a few years ago, Ryo and his sister Akane have been living alone together. Despite their difficult situation, they are still living reasonably happy and normal lives. However, everything is about to be flipped upside-down due to a secret government project. Due to increasingly low birth rates in Japan, the Japanese government is testing a program in which two young people are forced to marry. Ryo wants no part of it, but he is given little choice in the matter; his new fiancée, Shizuka, comes to his home late one night with several dozen government issued bodyguards, who are there to ensure the success of the new couple. Unlike Ryo, Shizuka couldn’t be more willing to go along with this new program, and eagerly goes about her wifely duties, despite his objections. With meddling friends, pushy bodyguards, and an overenthusiastic new fiancée, Ryo’s life has taken a turn in a direction the young man certainly didn’t expect. (Source: ANN)"
        ],
        [
         "151",
         "197",
         "https://myanimelist.net/anime/197/Rizelmine",
         "TV",
         "24",
         "Finished Airing",
         "Spring 2002",
         "m.o.e.",
         "Unknown",
         null,
         "Madhouse, Imagin",
         "Comedy, Ecchi, Romance, School, Sci-Fi",
         "School",
         null,
         "Manga",
         "R+ - Mild Nudity",
         "Rizelmine",
         "15.0",
         "Iwaki Tomonori is an average 15-year-old boy who likes older women. He happens to have a crush on his teacher, but soon thereafter, learns she has become engaged. He heads home brokenhearted, only to find a 12-year-old girl named Rizel at his home, who he learns the Japanese government has married him to against his will. Furthermore, he learns Rizel is no ordinary girl; she is a biochemically engineered human, and her creators (her \"papa\"s, as they are often referred to) promise to waive multiple bills of Iwaki's parents in exchange to be allowed to stay at their house, and thus Iwaki's life with Rizel begins."
        ],
        [
         "172",
         "231",
         "https://myanimelist.net/anime/231/Asagiri_no_Miko",
         "TV",
         "26.0",
         "Finished Airing",
         "Summer 2002",
         "Starchild Records, TV Tokyo Music, Shounen Gahousha",
         "Unknown",
         "Media Blasters, NYAV Post",
         "Chaos Project, GANSIS",
         "Action, Comedy, Fantasy, Supernatural",
         "Mythology",
         "Seinen",
         "Manga",
         "PG - Children",
         "Shrine of the Morning Mist",
         "12.0",
         "Since childhood, Tadahiro Amatsu has two different-colored eyes - one brown and one light hazel. But because of a dark secret behind his left eye, he's become a target for the masked sorcerer Ayatara Miramune and his band of demons. To combat the demons appearing all over town, Yuzu Hieda, a priestess in training, recruits four other girls from her high school. Under the supervision of Yuzu's elder sister Kurako, the five young priestesses must undergo months of training to master their abilities. (Source: ANN)"
        ]
       ],
       "shape": {
        "columns": 18,
        "rows": 5
       }
      },
      "text/html": [
       "<div>\n",
       "<style scoped>\n",
       "    .dataframe tbody tr th:only-of-type {\n",
       "        vertical-align: middle;\n",
       "    }\n",
       "\n",
       "    .dataframe tbody tr th {\n",
       "        vertical-align: top;\n",
       "    }\n",
       "\n",
       "    .dataframe thead th {\n",
       "        text-align: right;\n",
       "    }\n",
       "</style>\n",
       "<table border=\"1\" class=\"dataframe\">\n",
       "  <thead>\n",
       "    <tr style=\"text-align: right;\">\n",
       "      <th></th>\n",
       "      <th>anime_id</th>\n",
       "      <th>url</th>\n",
       "      <th>type</th>\n",
       "      <th>episodes</th>\n",
       "      <th>status</th>\n",
       "      <th>premiered</th>\n",
       "      <th>producer</th>\n",
       "      <th>broadcast</th>\n",
       "      <th>licensors</th>\n",
       "      <th>studios</th>\n",
       "      <th>genres</th>\n",
       "      <th>themes</th>\n",
       "      <th>demographic</th>\n",
       "      <th>source</th>\n",
       "      <th>rating</th>\n",
       "      <th>title</th>\n",
       "      <th>duration_in_minutes</th>\n",
       "      <th>synopsis</th>\n",
       "    </tr>\n",
       "  </thead>\n",
       "  <tbody>\n",
       "    <tr>\n",
       "      <th>83</th>\n",
       "      <td>112</td>\n",
       "      <td>https://myanimelist.net/anime/112/Chou_Henshin...</td>\n",
       "      <td>TV</td>\n",
       "      <td>8.0</td>\n",
       "      <td>Finished Airing</td>\n",
       "      <td>Winter 2004</td>\n",
       "      <td>m.o.e.</td>\n",
       "      <td>Unknown</td>\n",
       "      <td>NaN</td>\n",
       "      <td>Imagin, Studio Live</td>\n",
       "      <td>Action, Adventure, Comedy, Fantasy, Sci-Fi, Ecchi</td>\n",
       "      <td>Super Power</td>\n",
       "      <td>NaN</td>\n",
       "      <td>Original</td>\n",
       "      <td>PG-13 - Teens 13 or older</td>\n",
       "      <td>The Cosmopolitan Prayers</td>\n",
       "      <td>17.0</td>\n",
       "      <td>Koto unknowingly seals away the Sun Goddess Am...</td>\n",
       "    </tr>\n",
       "    <tr>\n",
       "      <th>85</th>\n",
       "      <td>114</td>\n",
       "      <td>https://myanimelist.net/anime/114/Sakigake_Cro...</td>\n",
       "      <td>TV</td>\n",
       "      <td>26.0</td>\n",
       "      <td>Finished Airing</td>\n",
       "      <td>Fall 2003</td>\n",
       "      <td>TV Tokyo Music</td>\n",
       "      <td>Fridays at 01:00 (JST)</td>\n",
       "      <td>ADV Films, Sentai Filmworks, Discotek Media</td>\n",
       "      <td>Production I.G</td>\n",
       "      <td>Comedy</td>\n",
       "      <td>Delinquents, Gag Humor, School</td>\n",
       "      <td>Shounen</td>\n",
       "      <td>Manga</td>\n",
       "      <td>PG-13 - Teens 13 or older</td>\n",
       "      <td>Cromartie High School</td>\n",
       "      <td>12.0</td>\n",
       "      <td>Takashi Kamiyama is your typical mild-mannered...</td>\n",
       "    </tr>\n",
       "    <tr>\n",
       "      <th>88</th>\n",
       "      <td>119</td>\n",
       "      <td>https://myanimelist.net/anime/119/Final_Approach</td>\n",
       "      <td>TV</td>\n",
       "      <td>13</td>\n",
       "      <td>Finished Airing</td>\n",
       "      <td>Fall 2004</td>\n",
       "      <td>Trinet Entertainment</td>\n",
       "      <td>Unknown</td>\n",
       "      <td>NaN</td>\n",
       "      <td>Zexcs</td>\n",
       "      <td>Comedy, Drama, Romance, Slice of Life</td>\n",
       "      <td>NaN</td>\n",
       "      <td>NaN</td>\n",
       "      <td>Visual novel</td>\n",
       "      <td>PG-13 - Teens 13 or older</td>\n",
       "      <td>Final Approach</td>\n",
       "      <td>14.0</td>\n",
       "      <td>Ever since their parents died a few years ago,...</td>\n",
       "    </tr>\n",
       "    <tr>\n",
       "      <th>151</th>\n",
       "      <td>197</td>\n",
       "      <td>https://myanimelist.net/anime/197/Rizelmine</td>\n",
       "      <td>TV</td>\n",
       "      <td>24</td>\n",
       "      <td>Finished Airing</td>\n",
       "      <td>Spring 2002</td>\n",
       "      <td>m.o.e.</td>\n",
       "      <td>Unknown</td>\n",
       "      <td>NaN</td>\n",
       "      <td>Madhouse, Imagin</td>\n",
       "      <td>Comedy, Ecchi, Romance, School, Sci-Fi</td>\n",
       "      <td>School</td>\n",
       "      <td>NaN</td>\n",
       "      <td>Manga</td>\n",
       "      <td>R+ - Mild Nudity</td>\n",
       "      <td>Rizelmine</td>\n",
       "      <td>15.0</td>\n",
       "      <td>Iwaki Tomonori is an average 15-year-old boy w...</td>\n",
       "    </tr>\n",
       "    <tr>\n",
       "      <th>172</th>\n",
       "      <td>231</td>\n",
       "      <td>https://myanimelist.net/anime/231/Asagiri_no_Miko</td>\n",
       "      <td>TV</td>\n",
       "      <td>26.0</td>\n",
       "      <td>Finished Airing</td>\n",
       "      <td>Summer 2002</td>\n",
       "      <td>Starchild Records, TV Tokyo Music, Shounen Gah...</td>\n",
       "      <td>Unknown</td>\n",
       "      <td>Media Blasters, NYAV Post</td>\n",
       "      <td>Chaos Project, GANSIS</td>\n",
       "      <td>Action, Comedy, Fantasy, Supernatural</td>\n",
       "      <td>Mythology</td>\n",
       "      <td>Seinen</td>\n",
       "      <td>Manga</td>\n",
       "      <td>PG - Children</td>\n",
       "      <td>Shrine of the Morning Mist</td>\n",
       "      <td>12.0</td>\n",
       "      <td>Since childhood, Tadahiro Amatsu has two diffe...</td>\n",
       "    </tr>\n",
       "  </tbody>\n",
       "</table>\n",
       "</div>"
      ],
      "text/plain": [
       "     anime_id                                                url type  \\\n",
       "83        112  https://myanimelist.net/anime/112/Chou_Henshin...   TV   \n",
       "85        114  https://myanimelist.net/anime/114/Sakigake_Cro...   TV   \n",
       "88        119   https://myanimelist.net/anime/119/Final_Approach   TV   \n",
       "151       197        https://myanimelist.net/anime/197/Rizelmine   TV   \n",
       "172       231  https://myanimelist.net/anime/231/Asagiri_no_Miko   TV   \n",
       "\n",
       "    episodes           status    premiered  \\\n",
       "83       8.0  Finished Airing  Winter 2004   \n",
       "85      26.0  Finished Airing    Fall 2003   \n",
       "88        13  Finished Airing    Fall 2004   \n",
       "151       24  Finished Airing  Spring 2002   \n",
       "172     26.0  Finished Airing  Summer 2002   \n",
       "\n",
       "                                              producer  \\\n",
       "83                                              m.o.e.   \n",
       "85                                      TV Tokyo Music   \n",
       "88                                Trinet Entertainment   \n",
       "151                                             m.o.e.   \n",
       "172  Starchild Records, TV Tokyo Music, Shounen Gah...   \n",
       "\n",
       "                  broadcast                                    licensors  \\\n",
       "83                  Unknown                                          NaN   \n",
       "85   Fridays at 01:00 (JST)  ADV Films, Sentai Filmworks, Discotek Media   \n",
       "88                  Unknown                                          NaN   \n",
       "151                 Unknown                                          NaN   \n",
       "172                 Unknown                    Media Blasters, NYAV Post   \n",
       "\n",
       "                   studios                                             genres  \\\n",
       "83     Imagin, Studio Live  Action, Adventure, Comedy, Fantasy, Sci-Fi, Ecchi   \n",
       "85          Production I.G                                             Comedy   \n",
       "88                   Zexcs              Comedy, Drama, Romance, Slice of Life   \n",
       "151       Madhouse, Imagin             Comedy, Ecchi, Romance, School, Sci-Fi   \n",
       "172  Chaos Project, GANSIS              Action, Comedy, Fantasy, Supernatural   \n",
       "\n",
       "                             themes demographic        source  \\\n",
       "83                      Super Power         NaN      Original   \n",
       "85   Delinquents, Gag Humor, School     Shounen         Manga   \n",
       "88                              NaN         NaN  Visual novel   \n",
       "151                          School         NaN         Manga   \n",
       "172                       Mythology      Seinen         Manga   \n",
       "\n",
       "                        rating                       title  \\\n",
       "83   PG-13 - Teens 13 or older    The Cosmopolitan Prayers   \n",
       "85   PG-13 - Teens 13 or older       Cromartie High School   \n",
       "88   PG-13 - Teens 13 or older              Final Approach   \n",
       "151           R+ - Mild Nudity                   Rizelmine   \n",
       "172              PG - Children  Shrine of the Morning Mist   \n",
       "\n",
       "     duration_in_minutes                                           synopsis  \n",
       "83                  17.0  Koto unknowingly seals away the Sun Goddess Am...  \n",
       "85                  12.0  Takashi Kamiyama is your typical mild-mannered...  \n",
       "88                  14.0  Ever since their parents died a few years ago,...  \n",
       "151                 15.0  Iwaki Tomonori is an average 15-year-old boy w...  \n",
       "172                 12.0  Since childhood, Tadahiro Amatsu has two diffe...  "
      ]
     },
     "execution_count": 187,
     "metadata": {},
     "output_type": "execute_result"
    }
   ],
   "source": [
    "merged_df.loc[merged_df[\"duration_in_minutes\"] < 20, :].head()"
   ]
  },
  {
   "cell_type": "markdown",
   "id": "98698b64",
   "metadata": {},
   "source": [
    "Removed them because anime have a standard duration of about 20 minutes"
   ]
  },
  {
   "cell_type": "code",
   "execution_count": 188,
   "id": "ef825bf0",
   "metadata": {},
   "outputs": [
    {
     "name": "stdout",
     "output_type": "stream",
     "text": [
      "<class 'pandas.core.frame.DataFrame'>\n",
      "Index: 6085 entries, 0 to 8749\n",
      "Data columns (total 18 columns):\n",
      " #   Column               Non-Null Count  Dtype  \n",
      "---  ------               --------------  -----  \n",
      " 0   anime_id             6085 non-null   int64  \n",
      " 1   url                  6085 non-null   object \n",
      " 2   type                 6085 non-null   object \n",
      " 3   episodes             6084 non-null   object \n",
      " 4   status               6056 non-null   object \n",
      " 5   premiered            6055 non-null   object \n",
      " 6   producer             4673 non-null   object \n",
      " 7   broadcast            3954 non-null   object \n",
      " 8   licensors            3023 non-null   object \n",
      " 9   studios              5471 non-null   object \n",
      " 10  genres               6085 non-null   object \n",
      " 11  themes               4299 non-null   object \n",
      " 12  demographic          2530 non-null   object \n",
      " 13  source               6077 non-null   object \n",
      " 14  rating               5973 non-null   object \n",
      " 15  title                6085 non-null   object \n",
      " 16  duration_in_minutes  6085 non-null   float64\n",
      " 17  synopsis             6085 non-null   object \n",
      "dtypes: float64(1), int64(1), object(16)\n",
      "memory usage: 903.2+ KB\n"
     ]
    }
   ],
   "source": [
    "merged_df = merged_df.loc[merged_df[\"duration_in_minutes\"] >= 20, :]\n",
    "merged_df.info()"
   ]
  },
  {
   "cell_type": "code",
   "execution_count": 189,
   "id": "b1a4f73f",
   "metadata": {},
   "outputs": [
    {
     "data": {
      "application/vnd.microsoft.datawrangler.viewer.v0+json": {
       "columns": [
        {
         "name": "index",
         "rawType": "int64",
         "type": "integer"
        },
        {
         "name": "anime_id",
         "rawType": "int64",
         "type": "integer"
        },
        {
         "name": "url",
         "rawType": "object",
         "type": "string"
        },
        {
         "name": "type",
         "rawType": "object",
         "type": "string"
        },
        {
         "name": "episodes",
         "rawType": "object",
         "type": "unknown"
        },
        {
         "name": "status",
         "rawType": "object",
         "type": "string"
        },
        {
         "name": "premiered",
         "rawType": "object",
         "type": "string"
        },
        {
         "name": "producer",
         "rawType": "object",
         "type": "string"
        },
        {
         "name": "broadcast",
         "rawType": "object",
         "type": "string"
        },
        {
         "name": "licensors",
         "rawType": "object",
         "type": "unknown"
        },
        {
         "name": "studios",
         "rawType": "object",
         "type": "string"
        },
        {
         "name": "genres",
         "rawType": "object",
         "type": "string"
        },
        {
         "name": "themes",
         "rawType": "object",
         "type": "unknown"
        },
        {
         "name": "demographic",
         "rawType": "object",
         "type": "unknown"
        },
        {
         "name": "source",
         "rawType": "object",
         "type": "string"
        },
        {
         "name": "rating",
         "rawType": "object",
         "type": "string"
        },
        {
         "name": "title",
         "rawType": "object",
         "type": "string"
        },
        {
         "name": "duration_in_minutes",
         "rawType": "float64",
         "type": "float"
        },
        {
         "name": "synopsis",
         "rawType": "object",
         "type": "string"
        }
       ],
       "ref": "9df42679-36ed-4be1-a440-4bad6e217dd0",
       "rows": [
        [
         "11",
         "21",
         "https://myanimelist.net/anime/21/One_Piece",
         "TV",
         null,
         "Currently Airing",
         "Fall 1999",
         "Fuji TV, TAP, Shueisha",
         "Sundays at 09:30 (JST)",
         "Funimation, 4Kids Entertainment",
         "Toei Animation",
         "Action, Adventure, Fantasy",
         null,
         "Shounen",
         "Manga",
         "PG-13 - Teens 13 or older",
         "One Piece",
         "24.0",
         "Gol D. Roger was known as the \"Pirate King,\" the strongest and most infamous being to have sailed the Grand Line. The capture and execution of Roger by the World Government brought a change throughout the world. His last words before his death revealed the existence of the greatest treasure in the world, One Piece. It was this revelation that brought about the Grand Age of Pirates, men who dreamed of finding One Piece—which promises an unlimited amount of riches and fame—and quite possibly the pinnacle of glory and the title of the Pirate King. Enter Monkey D. Luffy, a 17-year-old boy who defies your standard definition of a pirate. Rather than the popular persona of a wicked, hardened, toothless pirate ransacking villages for fun, Luffy's reason for being a pirate is one of pure wonder: the thought of an exciting adventure that leads him to intriguing people and ultimately, the promised treasure. Following in the footsteps of his childhood hero, Luffy and his crew travel across the Grand Line, experiencing crazy adventures, unveiling dark mysteries and battling strong enemies, all in order to reach the most coveted of all fortunes—One Piece."
        ],
        [
         "176",
         "235",
         "https://myanimelist.net/anime/235/Detective_Conan",
         "TV",
         null,
         "Currently Airing",
         "Winter 1996",
         "Yomiuri Telecasting, TMS-Kyokuchi, Shogakukan",
         "Saturdays at 18:00 (JST)",
         "Funimation, Crunchyroll",
         "TMS Entertainment",
         "Adventure, Comedy, Mystery",
         "Detective",
         "Shounen",
         "Manga",
         "PG-13 - Teens 13 or older",
         "Case Closed",
         "25.0",
         "Shinichi Kudou, a high school student of astounding talent in detective work, is well known for having solved several challenging cases. One day, when Shinichi spots two suspicious men and decides to follow them, he inadvertently becomes witness to a disturbing illegal activity. Unfortunately, he is caught in the act, so the men dose him with an experimental drug formulated by their criminal organization, leaving him to his death. However, to his own astonishment, Shinichi lives to see another day, but now in the body of a seven-year-old child. Perfectly preserving his original intelligence, he hides his real identity from everyone, including his childhood friend Ran Mouri and her father, private detective Kogorou Mouri. To this end, he takes on the alias of Conan Edogawa, inspired by the mystery writers Arthur Conan Doyle and Ranpo Edogawa. Detective Conan follows Shinichi who, as Conan, starts secretly solving the senior Mouri's cases from behind the scenes with his still exceptional sleuthing skills, while covertly investigating the organization responsible for his current state, hoping to reverse the drug's effects someday."
        ],
        [
         "644",
         "966",
         "https://myanimelist.net/anime/966/Crayon_Shin-chan",
         "TV",
         null,
         "Currently Airing",
         "Spring 1992",
         "TV Asahi",
         "Fridays at 19:30 (JST)",
         "Funimation",
         "Shin-Ei Animation",
         "Comedy, Ecchi",
         "School",
         "Seinen",
         "Manga",
         "G - All Ages",
         "Shin Chan",
         "21.0",
         "There is no such thing as an uneventful day in the life of kindergartener Shinnosuke \"Shin-chan\" Nohara. The five-year-old is a cut above the most troublesome, perverted, and shameless kid one can imagine. Shin-chan is almost always engaged in questionable activities such as forgetting about a friend during hide and seek, sumo wrestling for love, performing various gags including the notorious \"elephant\" in public, and flirting with college girls. The exemplary troublemaker has done it all and has no plans to stop anytime soon. Crayon Shin-chan follows the daily shenanigans of Shin-chan with his group of friends, parading around as the self-proclaimed \"Kasukabe Defense Force.\" The adults witnessing these shenanigans unfold can't help but adore Shin-chan, as he keeps them entertained while unintentionally solving their daily troubles through his mindless antics—leaving himself as the only problem they do not know what to do with."
        ],
        [
         "1114",
         "1960",
         "https://myanimelist.net/anime/1960/Sore_Ike_Anpanman",
         "TV",
         null,
         "Currently Airing",
         "Fall 1988",
         "Sotsu, Nippon Television Network",
         "Fridays at 16:20 (JST)",
         null,
         "TMS Entertainment",
         "Comedy, Fantasy",
         null,
         "Kids",
         "Picture book",
         "PG - Children",
         "Soreike! Anpanman, Go! Anpanman, Anpanman TV",
         "24.0",
         "One night, a Star of Life falls down the chimney of a bakery nestled deep in the forest, causing the dough in the oven to come to life. The dough becomes Anpanman, a superhero made of anpan (a sweet roll with bean jam filling). Together with his friends, Anpanman fights his rival Baikinman and helps the malnourished. (Source: ANN)"
        ],
        [
         "1317",
         "2406",
         "https://myanimelist.net/anime/2406/Sazae-san",
         "TV",
         null,
         "Currently Airing",
         "Fall 1969",
         "Fuji TV",
         "Sundays at 18:30 (JST)",
         null,
         "Eiken",
         "Comedy, Slice of Life",
         null,
         null,
         "4-koma manga",
         "G - All Ages",
         "Mrs. Sazae",
         "24.0",
         "The main character is a mother named Sazae-san. She lives in a house with her husband, her kids and her parents. The show is the ultimate family program and tends to follow traditional themes. Think of this show as the Japanese equivalent to \"The Partridge Family\" and you'll get a good feel for this show's atmosphere. Don't expect to see things like violence, swearing, kung-fu action or magical girls. The plots are more like \"Today, Sazae-san goes to the new mall and gets lost\". Such \"boring\" plotlines and the simplistic art are often a turn-off to non-Japanese audiences, but most Japanese find the show incredibly good. As a result, it continues to be one of the top ratings grabbers on TV and is one of the few anime that is considered \"acceptable\" by adults. (Source: AniDB)"
        ]
       ],
       "shape": {
        "columns": 18,
        "rows": 5
       }
      },
      "text/html": [
       "<div>\n",
       "<style scoped>\n",
       "    .dataframe tbody tr th:only-of-type {\n",
       "        vertical-align: middle;\n",
       "    }\n",
       "\n",
       "    .dataframe tbody tr th {\n",
       "        vertical-align: top;\n",
       "    }\n",
       "\n",
       "    .dataframe thead th {\n",
       "        text-align: right;\n",
       "    }\n",
       "</style>\n",
       "<table border=\"1\" class=\"dataframe\">\n",
       "  <thead>\n",
       "    <tr style=\"text-align: right;\">\n",
       "      <th></th>\n",
       "      <th>anime_id</th>\n",
       "      <th>url</th>\n",
       "      <th>type</th>\n",
       "      <th>episodes</th>\n",
       "      <th>status</th>\n",
       "      <th>premiered</th>\n",
       "      <th>producer</th>\n",
       "      <th>broadcast</th>\n",
       "      <th>licensors</th>\n",
       "      <th>studios</th>\n",
       "      <th>genres</th>\n",
       "      <th>themes</th>\n",
       "      <th>demographic</th>\n",
       "      <th>source</th>\n",
       "      <th>rating</th>\n",
       "      <th>title</th>\n",
       "      <th>duration_in_minutes</th>\n",
       "      <th>synopsis</th>\n",
       "    </tr>\n",
       "  </thead>\n",
       "  <tbody>\n",
       "    <tr>\n",
       "      <th>11</th>\n",
       "      <td>21</td>\n",
       "      <td>https://myanimelist.net/anime/21/One_Piece</td>\n",
       "      <td>TV</td>\n",
       "      <td>None</td>\n",
       "      <td>Currently Airing</td>\n",
       "      <td>Fall 1999</td>\n",
       "      <td>Fuji TV, TAP, Shueisha</td>\n",
       "      <td>Sundays at 09:30 (JST)</td>\n",
       "      <td>Funimation, 4Kids Entertainment</td>\n",
       "      <td>Toei Animation</td>\n",
       "      <td>Action, Adventure, Fantasy</td>\n",
       "      <td>NaN</td>\n",
       "      <td>Shounen</td>\n",
       "      <td>Manga</td>\n",
       "      <td>PG-13 - Teens 13 or older</td>\n",
       "      <td>One Piece</td>\n",
       "      <td>24.0</td>\n",
       "      <td>Gol D. Roger was known as the \"Pirate King,\" t...</td>\n",
       "    </tr>\n",
       "    <tr>\n",
       "      <th>176</th>\n",
       "      <td>235</td>\n",
       "      <td>https://myanimelist.net/anime/235/Detective_Conan</td>\n",
       "      <td>TV</td>\n",
       "      <td>None</td>\n",
       "      <td>Currently Airing</td>\n",
       "      <td>Winter 1996</td>\n",
       "      <td>Yomiuri Telecasting, TMS-Kyokuchi, Shogakukan</td>\n",
       "      <td>Saturdays at 18:00 (JST)</td>\n",
       "      <td>Funimation, Crunchyroll</td>\n",
       "      <td>TMS Entertainment</td>\n",
       "      <td>Adventure, Comedy, Mystery</td>\n",
       "      <td>Detective</td>\n",
       "      <td>Shounen</td>\n",
       "      <td>Manga</td>\n",
       "      <td>PG-13 - Teens 13 or older</td>\n",
       "      <td>Case Closed</td>\n",
       "      <td>25.0</td>\n",
       "      <td>Shinichi Kudou, a high school student of astou...</td>\n",
       "    </tr>\n",
       "    <tr>\n",
       "      <th>644</th>\n",
       "      <td>966</td>\n",
       "      <td>https://myanimelist.net/anime/966/Crayon_Shin-...</td>\n",
       "      <td>TV</td>\n",
       "      <td>None</td>\n",
       "      <td>Currently Airing</td>\n",
       "      <td>Spring 1992</td>\n",
       "      <td>TV Asahi</td>\n",
       "      <td>Fridays at 19:30 (JST)</td>\n",
       "      <td>Funimation</td>\n",
       "      <td>Shin-Ei Animation</td>\n",
       "      <td>Comedy, Ecchi</td>\n",
       "      <td>School</td>\n",
       "      <td>Seinen</td>\n",
       "      <td>Manga</td>\n",
       "      <td>G - All Ages</td>\n",
       "      <td>Shin Chan</td>\n",
       "      <td>21.0</td>\n",
       "      <td>There is no such thing as an uneventful day in...</td>\n",
       "    </tr>\n",
       "    <tr>\n",
       "      <th>1114</th>\n",
       "      <td>1960</td>\n",
       "      <td>https://myanimelist.net/anime/1960/Sore_Ike_An...</td>\n",
       "      <td>TV</td>\n",
       "      <td>None</td>\n",
       "      <td>Currently Airing</td>\n",
       "      <td>Fall 1988</td>\n",
       "      <td>Sotsu, Nippon Television Network</td>\n",
       "      <td>Fridays at 16:20 (JST)</td>\n",
       "      <td>NaN</td>\n",
       "      <td>TMS Entertainment</td>\n",
       "      <td>Comedy, Fantasy</td>\n",
       "      <td>NaN</td>\n",
       "      <td>Kids</td>\n",
       "      <td>Picture book</td>\n",
       "      <td>PG - Children</td>\n",
       "      <td>Soreike! Anpanman, Go! Anpanman, Anpanman TV</td>\n",
       "      <td>24.0</td>\n",
       "      <td>One night, a Star of Life falls down the chimn...</td>\n",
       "    </tr>\n",
       "    <tr>\n",
       "      <th>1317</th>\n",
       "      <td>2406</td>\n",
       "      <td>https://myanimelist.net/anime/2406/Sazae-san</td>\n",
       "      <td>TV</td>\n",
       "      <td>None</td>\n",
       "      <td>Currently Airing</td>\n",
       "      <td>Fall 1969</td>\n",
       "      <td>Fuji TV</td>\n",
       "      <td>Sundays at 18:30 (JST)</td>\n",
       "      <td>NaN</td>\n",
       "      <td>Eiken</td>\n",
       "      <td>Comedy, Slice of Life</td>\n",
       "      <td>NaN</td>\n",
       "      <td>NaN</td>\n",
       "      <td>4-koma manga</td>\n",
       "      <td>G - All Ages</td>\n",
       "      <td>Mrs. Sazae</td>\n",
       "      <td>24.0</td>\n",
       "      <td>The main character is a mother named Sazae-san...</td>\n",
       "    </tr>\n",
       "  </tbody>\n",
       "</table>\n",
       "</div>"
      ],
      "text/plain": [
       "      anime_id                                                url type  \\\n",
       "11          21         https://myanimelist.net/anime/21/One_Piece   TV   \n",
       "176        235  https://myanimelist.net/anime/235/Detective_Conan   TV   \n",
       "644        966  https://myanimelist.net/anime/966/Crayon_Shin-...   TV   \n",
       "1114      1960  https://myanimelist.net/anime/1960/Sore_Ike_An...   TV   \n",
       "1317      2406       https://myanimelist.net/anime/2406/Sazae-san   TV   \n",
       "\n",
       "     episodes            status    premiered  \\\n",
       "11       None  Currently Airing    Fall 1999   \n",
       "176      None  Currently Airing  Winter 1996   \n",
       "644      None  Currently Airing  Spring 1992   \n",
       "1114     None  Currently Airing    Fall 1988   \n",
       "1317     None  Currently Airing    Fall 1969   \n",
       "\n",
       "                                           producer                 broadcast  \\\n",
       "11                           Fuji TV, TAP, Shueisha    Sundays at 09:30 (JST)   \n",
       "176   Yomiuri Telecasting, TMS-Kyokuchi, Shogakukan  Saturdays at 18:00 (JST)   \n",
       "644                                        TV Asahi    Fridays at 19:30 (JST)   \n",
       "1114               Sotsu, Nippon Television Network    Fridays at 16:20 (JST)   \n",
       "1317                                        Fuji TV    Sundays at 18:30 (JST)   \n",
       "\n",
       "                            licensors            studios  \\\n",
       "11    Funimation, 4Kids Entertainment     Toei Animation   \n",
       "176           Funimation, Crunchyroll  TMS Entertainment   \n",
       "644                        Funimation  Shin-Ei Animation   \n",
       "1114                              NaN  TMS Entertainment   \n",
       "1317                              NaN              Eiken   \n",
       "\n",
       "                          genres     themes demographic        source  \\\n",
       "11    Action, Adventure, Fantasy        NaN     Shounen         Manga   \n",
       "176   Adventure, Comedy, Mystery  Detective     Shounen         Manga   \n",
       "644                Comedy, Ecchi     School      Seinen         Manga   \n",
       "1114             Comedy, Fantasy        NaN        Kids  Picture book   \n",
       "1317       Comedy, Slice of Life        NaN         NaN  4-koma manga   \n",
       "\n",
       "                         rating                                         title  \\\n",
       "11    PG-13 - Teens 13 or older                                     One Piece   \n",
       "176   PG-13 - Teens 13 or older                                   Case Closed   \n",
       "644                G - All Ages                                     Shin Chan   \n",
       "1114              PG - Children  Soreike! Anpanman, Go! Anpanman, Anpanman TV   \n",
       "1317               G - All Ages                                    Mrs. Sazae   \n",
       "\n",
       "      duration_in_minutes                                           synopsis  \n",
       "11                   24.0  Gol D. Roger was known as the \"Pirate King,\" t...  \n",
       "176                  25.0  Shinichi Kudou, a high school student of astou...  \n",
       "644                  21.0  There is no such thing as an uneventful day in...  \n",
       "1114                 24.0  One night, a Star of Life falls down the chimn...  \n",
       "1317                 24.0  The main character is a mother named Sazae-san...  "
      ]
     },
     "execution_count": 189,
     "metadata": {},
     "output_type": "execute_result"
    }
   ],
   "source": [
    "merged_df.loc[merged_df[\"episodes\"] == \"Unknown\", \"episodes\"] = None\n",
    "merged_df[merged_df[\"episodes\"].isna()].head()"
   ]
  },
  {
   "cell_type": "markdown",
   "id": "02e8a16d",
   "metadata": {},
   "source": [
    "Handling missing episodes count"
   ]
  },
  {
   "cell_type": "code",
   "execution_count": 190,
   "id": "c99d0b13",
   "metadata": {},
   "outputs": [],
   "source": [
    "merged_df.loc[merged_df[\"anime_id\"] == 21, \"episodes\"] = 1133\n",
    "merged_df.loc[merged_df[\"anime_id\"] == 235, \"episodes\"] = 1165\n",
    "merged_df.loc[merged_df[\"anime_id\"] == 966, \"episodes\"] = 1267\n",
    "merged_df.loc[merged_df[\"anime_id\"] == 1960, \"episodes\"] = 1700\n",
    "merged_df.loc[merged_df[\"anime_id\"] == 2406, \"episodes\"] = 2771\n",
    "merged_df.loc[merged_df[\"anime_id\"] == 6149, \"episodes\"] = 1468\n",
    "merged_df.loc[merged_df[\"anime_id\"] == 8687, \"episodes\"] = 837\n",
    "merged_df.loc[merged_df[\"anime_id\"] == 18941, \"episodes\"] = 321\n",
    "merged_df.loc[merged_df[\"anime_id\"] == 27783, \"episodes\"] = 0 # needs to be dropped\n",
    "merged_df.loc[merged_df[\"anime_id\"] == 31049, \"episodes\"] = 51\n",
    "merged_df.loc[merged_df[\"anime_id\"] == 32568, \"episodes\"] = 47\n",
    "merged_df.loc[merged_df[\"anime_id\"] == 32717, \"episodes\"] = 100\n",
    "merged_df.loc[merged_df[\"anime_id\"] == 33027, \"episodes\"] = 12\n",
    "merged_df.loc[merged_df[\"anime_id\"] == 33089, \"episodes\"] = 12\n",
    "merged_df.loc[merged_df[\"anime_id\"] == 33371, \"episodes\"] = 12\n",
    "merged_df.loc[merged_df[\"anime_id\"] == 33540, \"episodes\"] = 0 # needs to be dropped\n",
    "merged_df.loc[merged_df[\"anime_id\"] == 33737, \"episodes\"] = 28\n",
    "merged_df.loc[merged_df[\"anime_id\"] == 33839, \"episodes\"] = 0 # needs to be dropped\n",
    "merged_df.loc[merged_df[\"anime_id\"] == 34077, \"episodes\"] = 52\n",
    "merged_df.loc[merged_df[\"anime_id\"] == 34208, \"episodes\"] = 0 # needs to be dropped\n",
    "merged_df.loc[merged_df[\"anime_id\"] == 34289, \"episodes\"] = 13\n",
    "merged_df.loc[merged_df[\"anime_id\"] == 34338, \"episodes\"] = 0 # needs to be dropped\n",
    "merged_df.loc[merged_df[\"anime_id\"] == 34427, \"episodes\"] = 12\n",
    "merged_df.loc[merged_df[\"anime_id\"] == 34474, \"episodes\"] = 13\n",
    "merged_df.loc[merged_df[\"anime_id\"] == 34832, \"episodes\"] = 28 # needs to be dropped\n",
    "merged_df.loc[merged_df[\"anime_id\"] == 37008, \"episodes\"] = 13\n",
    "merged_df.loc[merged_df[\"anime_id\"] == 37096, \"episodes\"] = 339\n",
    "merged_df.loc[merged_df[\"anime_id\"] == 39725, \"episodes\"] = 12\n",
    "merged_df.loc[merged_df[\"anime_id\"] == 39893, \"episodes\"] = 56\n",
    "merged_df.loc[merged_df[\"anime_id\"] == 39905, \"episodes\"] = 1 # change type to movie\n",
    "merged_df.loc[merged_df[\"anime_id\"] == 40327, \"episodes\"] = 98\n",
    "merged_df.loc[merged_df[\"anime_id\"] == 40506, \"episodes\"] = 48\n",
    "merged_df.loc[merged_df[\"anime_id\"] == 40608, \"episodes\"] = 24\n",
    "merged_df.loc[merged_df[\"anime_id\"] == 40935, \"episodes\"] = 10\n",
    "merged_df.loc[merged_df[\"anime_id\"] == 41521, \"episodes\"] = 12\n",
    "merged_df.loc[merged_df[\"anime_id\"] == 42205, \"episodes\"] = 52\n",
    "merged_df.loc[merged_df[\"anime_id\"] == 42385, \"episodes\"] = 0 # needs to be removed\n",
    "merged_df.loc[merged_df[\"anime_id\"] == 43735, \"episodes\"] = 24\n",
    "merged_df.loc[merged_df[\"anime_id\"] == 43778, \"episodes\"] = 25\n",
    "merged_df.loc[merged_df[\"anime_id\"] == 44940, \"episodes\"] = 14\n",
    "merged_df.loc[merged_df[\"anime_id\"] == 45665, \"episodes\"] = 12\n",
    "merged_df.loc[merged_df[\"anime_id\"] == 46381, \"episodes\"] = 41\n",
    "merged_df.loc[merged_df[\"anime_id\"] == 47160, \"episodes\"] = 13\n",
    "merged_df.loc[merged_df[\"anime_id\"] == 48365, \"episodes\"] = 214\n",
    "merged_df.loc[merged_df[\"anime_id\"] == 48391, \"episodes\"] = 51\n",
    "merged_df.loc[merged_df[\"anime_id\"] == 48417, \"episodes\"] = 13\n",
    "merged_df.loc[merged_df[\"anime_id\"] == 48483, \"episodes\"] = 12\n",
    "merged_df.loc[merged_df[\"anime_id\"] == 53876, \"episodes\"] = 45"
   ]
  },
  {
   "cell_type": "code",
   "execution_count": 191,
   "id": "6c9e2da7",
   "metadata": {},
   "outputs": [],
   "source": [
    "merged_df.loc[merged_df[\"anime_id\"] == 27783, \"episodes\"] = 0 # needs to be dropped\n",
    "merged_df = merged_df.loc[~merged_df[\"anime_id\"].isin([27783, 33540, 33839, 34208, 34338, 34832, 42385]), :]\n",
    "merged_df.loc[merged_df[\"anime_id\"] == 39905, \"type\"] = \"Movie\""
   ]
  },
  {
   "cell_type": "markdown",
   "id": "7cab1d26",
   "metadata": {},
   "source": [
    "Handling missing status"
   ]
  },
  {
   "cell_type": "code",
   "execution_count": 192,
   "id": "edf54f88",
   "metadata": {},
   "outputs": [
    {
     "data": {
      "application/vnd.microsoft.datawrangler.viewer.v0+json": {
       "columns": [
        {
         "name": "index",
         "rawType": "int64",
         "type": "integer"
        },
        {
         "name": "anime_id",
         "rawType": "int64",
         "type": "integer"
        },
        {
         "name": "url",
         "rawType": "object",
         "type": "string"
        },
        {
         "name": "type",
         "rawType": "object",
         "type": "string"
        },
        {
         "name": "episodes",
         "rawType": "object",
         "type": "string"
        },
        {
         "name": "status",
         "rawType": "object",
         "type": "unknown"
        },
        {
         "name": "premiered",
         "rawType": "object",
         "type": "unknown"
        },
        {
         "name": "producer",
         "rawType": "object",
         "type": "unknown"
        },
        {
         "name": "broadcast",
         "rawType": "object",
         "type": "unknown"
        },
        {
         "name": "licensors",
         "rawType": "object",
         "type": "unknown"
        },
        {
         "name": "studios",
         "rawType": "object",
         "type": "string"
        },
        {
         "name": "genres",
         "rawType": "object",
         "type": "string"
        },
        {
         "name": "themes",
         "rawType": "object",
         "type": "unknown"
        },
        {
         "name": "demographic",
         "rawType": "object",
         "type": "unknown"
        },
        {
         "name": "source",
         "rawType": "object",
         "type": "string"
        },
        {
         "name": "rating",
         "rawType": "object",
         "type": "string"
        },
        {
         "name": "title",
         "rawType": "object",
         "type": "string"
        },
        {
         "name": "duration_in_minutes",
         "rawType": "float64",
         "type": "float"
        },
        {
         "name": "synopsis",
         "rawType": "object",
         "type": "string"
        }
       ],
       "ref": "db299064-20d7-4fa6-b04a-4f7c7a2247aa",
       "rows": [
        [
         "265",
         "342",
         "Unknown",
         "TV",
         "13",
         null,
         "Winter 2005",
         "Geneon Universal Entertainment",
         null,
         "Geneon Entertainment USA",
         "J.C.Staff",
         "Drama, Military, Sci-Fi, Space",
         null,
         null,
         "Light novel",
         "PG-13 - Teens 13 or older",
         "Starship Operators",
         "24.0",
         "For the 73rd class of cadets of the Defense University of the small planet Kibi, a shakedown cruise on the fleet's new starship \"Amaterasu\" is a fitting lead-up to graduation. As they are returning to their home planet, however, they are shocked to hear news of a declaration of war by the aggressive Kingdom against Kibi. When their planetary government surrenders without a struggle, the cadets decide to launch their own war, aboard the \"Amaterasu\". To gain funding, they make a deal with a galactic news network - and find themselves the \"stars\" of their own \"reality show\". Unfortunately, this is the kind of reality show that can get you killed... (Source: ANN)"
        ],
        [
         "515",
         "760",
         "Unknown",
         "Movie",
         "1",
         null,
         null,
         null,
         null,
         null,
         "Madhouse",
         "Adventure, Drama, Martial Arts, Romance, Shounen, Supernatural",
         null,
         null,
         "Manga",
         "R - 17+ (violence & profanity)",
         "Tenjou Tenge: The Past Chapter",
         "92.0",
         "suomi Takayanagi and Maya Natsume both want to become stronger. On there way to becoming the best they learn that there are many things going on behind the scenes, and Shin, Maya's brother, may be the cause of all of it. Mitsuomi feels that he is the only one that can stop him. A retelling of what happened in the past of tenjou tenge, in movie form. (Source: ANN)"
        ],
        [
         "675",
         "1032",
         "Unknown",
         "Movie",
         "1",
         null,
         null,
         "Yomiko Advertising",
         null,
         "Discotek Media",
         "Studio Pierrot",
         "Adventure, Drama, Historical, Romance",
         null,
         null,
         "Novel",
         "G - All Ages",
         "Kumo no You ni Kaze no You ni",
         "80.0",
         "Ginga, a small town girl sets out to become the Emperors Seihi, highest ranked wife, undaunted by the many other women who seek the same title. Her energetic and eccentric ways aid in her in meeting new people, training to be a Lady of the Emperor and dealing with the drama that ensues. (Source: ANN)"
        ],
        [
         "859",
         "1451",
         "Unknown",
         "Movie",
         "1",
         null,
         null,
         null,
         null,
         "Manga Entertainment",
         "Production Reed",
         "Action, Historical, Supernatural, Thriller",
         null,
         null,
         "Novel",
         "R+ - Mild Nudity",
         "Shuranosuke Zanmaken: Shikamamon no Otoko",
         "49.0",
         "Shurannosuke Sakaki is a masterless samurai with a razor-sharp katana and a cold-hearted personality. Whenever you see the mark of two crossed scythes on his back, death is sure to follow. Because of his exceptional swordsmanship, Shurannosuke is hired by the Nakura Clan to rescue Princess Mayu from the Seki Ninja. In this mission, he must use his full potential to survive the Seki Ninja's notorious henchmen. (Source: ANN)"
        ],
        [
         "957",
         "1621",
         "Unknown",
         "Movie",
         "1",
         null,
         null,
         null,
         null,
         null,
         "Asahi Production",
         "Action, Comedy, School",
         null,
         null,
         "Visual novel",
         "PG-13 - Teens 13 or older",
         "Haru no Ashioto The Movie: Ourin Dakkan",
         "20.0",
         "One day the else so peaceful mood in the Ourin Gakuen suddenly changes. Kusunoki-sensei, the so-called subheroine, along with most of the students takes over the school after a coup d'état. The principal is beaten and now it`s up to Yuu Sakurano, Yuzuki Kaede and Nagomi Fujikura to take back the school from her and return it to the former peaceful days. This is the start of a full-scale war, one that this school has never seen before. (Source: ANN)"
        ]
       ],
       "shape": {
        "columns": 18,
        "rows": 5
       }
      },
      "text/html": [
       "<div>\n",
       "<style scoped>\n",
       "    .dataframe tbody tr th:only-of-type {\n",
       "        vertical-align: middle;\n",
       "    }\n",
       "\n",
       "    .dataframe tbody tr th {\n",
       "        vertical-align: top;\n",
       "    }\n",
       "\n",
       "    .dataframe thead th {\n",
       "        text-align: right;\n",
       "    }\n",
       "</style>\n",
       "<table border=\"1\" class=\"dataframe\">\n",
       "  <thead>\n",
       "    <tr style=\"text-align: right;\">\n",
       "      <th></th>\n",
       "      <th>anime_id</th>\n",
       "      <th>url</th>\n",
       "      <th>type</th>\n",
       "      <th>episodes</th>\n",
       "      <th>status</th>\n",
       "      <th>premiered</th>\n",
       "      <th>producer</th>\n",
       "      <th>broadcast</th>\n",
       "      <th>licensors</th>\n",
       "      <th>studios</th>\n",
       "      <th>genres</th>\n",
       "      <th>themes</th>\n",
       "      <th>demographic</th>\n",
       "      <th>source</th>\n",
       "      <th>rating</th>\n",
       "      <th>title</th>\n",
       "      <th>duration_in_minutes</th>\n",
       "      <th>synopsis</th>\n",
       "    </tr>\n",
       "  </thead>\n",
       "  <tbody>\n",
       "    <tr>\n",
       "      <th>265</th>\n",
       "      <td>342</td>\n",
       "      <td>Unknown</td>\n",
       "      <td>TV</td>\n",
       "      <td>13</td>\n",
       "      <td>NaN</td>\n",
       "      <td>Winter 2005</td>\n",
       "      <td>Geneon Universal Entertainment</td>\n",
       "      <td>NaN</td>\n",
       "      <td>Geneon Entertainment USA</td>\n",
       "      <td>J.C.Staff</td>\n",
       "      <td>Drama, Military, Sci-Fi, Space</td>\n",
       "      <td>NaN</td>\n",
       "      <td>NaN</td>\n",
       "      <td>Light novel</td>\n",
       "      <td>PG-13 - Teens 13 or older</td>\n",
       "      <td>Starship Operators</td>\n",
       "      <td>24.0</td>\n",
       "      <td>For the 73rd class of cadets of the Defense Un...</td>\n",
       "    </tr>\n",
       "    <tr>\n",
       "      <th>515</th>\n",
       "      <td>760</td>\n",
       "      <td>Unknown</td>\n",
       "      <td>Movie</td>\n",
       "      <td>1</td>\n",
       "      <td>NaN</td>\n",
       "      <td>NaN</td>\n",
       "      <td>NaN</td>\n",
       "      <td>NaN</td>\n",
       "      <td>NaN</td>\n",
       "      <td>Madhouse</td>\n",
       "      <td>Adventure, Drama, Martial Arts, Romance, Shoun...</td>\n",
       "      <td>NaN</td>\n",
       "      <td>NaN</td>\n",
       "      <td>Manga</td>\n",
       "      <td>R - 17+ (violence &amp; profanity)</td>\n",
       "      <td>Tenjou Tenge: The Past Chapter</td>\n",
       "      <td>92.0</td>\n",
       "      <td>suomi Takayanagi and Maya Natsume both want to...</td>\n",
       "    </tr>\n",
       "    <tr>\n",
       "      <th>675</th>\n",
       "      <td>1032</td>\n",
       "      <td>Unknown</td>\n",
       "      <td>Movie</td>\n",
       "      <td>1</td>\n",
       "      <td>NaN</td>\n",
       "      <td>NaN</td>\n",
       "      <td>Yomiko Advertising</td>\n",
       "      <td>NaN</td>\n",
       "      <td>Discotek Media</td>\n",
       "      <td>Studio Pierrot</td>\n",
       "      <td>Adventure, Drama, Historical, Romance</td>\n",
       "      <td>NaN</td>\n",
       "      <td>NaN</td>\n",
       "      <td>Novel</td>\n",
       "      <td>G - All Ages</td>\n",
       "      <td>Kumo no You ni Kaze no You ni</td>\n",
       "      <td>80.0</td>\n",
       "      <td>Ginga, a small town girl sets out to become th...</td>\n",
       "    </tr>\n",
       "    <tr>\n",
       "      <th>859</th>\n",
       "      <td>1451</td>\n",
       "      <td>Unknown</td>\n",
       "      <td>Movie</td>\n",
       "      <td>1</td>\n",
       "      <td>NaN</td>\n",
       "      <td>NaN</td>\n",
       "      <td>NaN</td>\n",
       "      <td>NaN</td>\n",
       "      <td>Manga Entertainment</td>\n",
       "      <td>Production Reed</td>\n",
       "      <td>Action, Historical, Supernatural, Thriller</td>\n",
       "      <td>NaN</td>\n",
       "      <td>NaN</td>\n",
       "      <td>Novel</td>\n",
       "      <td>R+ - Mild Nudity</td>\n",
       "      <td>Shuranosuke Zanmaken: Shikamamon no Otoko</td>\n",
       "      <td>49.0</td>\n",
       "      <td>Shurannosuke Sakaki is a masterless samurai wi...</td>\n",
       "    </tr>\n",
       "    <tr>\n",
       "      <th>957</th>\n",
       "      <td>1621</td>\n",
       "      <td>Unknown</td>\n",
       "      <td>Movie</td>\n",
       "      <td>1</td>\n",
       "      <td>NaN</td>\n",
       "      <td>NaN</td>\n",
       "      <td>NaN</td>\n",
       "      <td>NaN</td>\n",
       "      <td>NaN</td>\n",
       "      <td>Asahi Production</td>\n",
       "      <td>Action, Comedy, School</td>\n",
       "      <td>NaN</td>\n",
       "      <td>NaN</td>\n",
       "      <td>Visual novel</td>\n",
       "      <td>PG-13 - Teens 13 or older</td>\n",
       "      <td>Haru no Ashioto The Movie: Ourin Dakkan</td>\n",
       "      <td>20.0</td>\n",
       "      <td>One day the else so peaceful mood in the Ourin...</td>\n",
       "    </tr>\n",
       "  </tbody>\n",
       "</table>\n",
       "</div>"
      ],
      "text/plain": [
       "     anime_id      url   type episodes status    premiered  \\\n",
       "265       342  Unknown     TV       13    NaN  Winter 2005   \n",
       "515       760  Unknown  Movie        1    NaN          NaN   \n",
       "675      1032  Unknown  Movie        1    NaN          NaN   \n",
       "859      1451  Unknown  Movie        1    NaN          NaN   \n",
       "957      1621  Unknown  Movie        1    NaN          NaN   \n",
       "\n",
       "                           producer broadcast                 licensors  \\\n",
       "265  Geneon Universal Entertainment       NaN  Geneon Entertainment USA   \n",
       "515                             NaN       NaN                       NaN   \n",
       "675              Yomiko Advertising       NaN            Discotek Media   \n",
       "859                             NaN       NaN       Manga Entertainment   \n",
       "957                             NaN       NaN                       NaN   \n",
       "\n",
       "              studios                                             genres  \\\n",
       "265         J.C.Staff                     Drama, Military, Sci-Fi, Space   \n",
       "515          Madhouse  Adventure, Drama, Martial Arts, Romance, Shoun...   \n",
       "675    Studio Pierrot              Adventure, Drama, Historical, Romance   \n",
       "859   Production Reed         Action, Historical, Supernatural, Thriller   \n",
       "957  Asahi Production                             Action, Comedy, School   \n",
       "\n",
       "    themes demographic        source                          rating  \\\n",
       "265    NaN         NaN   Light novel       PG-13 - Teens 13 or older   \n",
       "515    NaN         NaN         Manga  R - 17+ (violence & profanity)   \n",
       "675    NaN         NaN         Novel                    G - All Ages   \n",
       "859    NaN         NaN         Novel                R+ - Mild Nudity   \n",
       "957    NaN         NaN  Visual novel       PG-13 - Teens 13 or older   \n",
       "\n",
       "                                         title  duration_in_minutes  \\\n",
       "265                         Starship Operators                 24.0   \n",
       "515             Tenjou Tenge: The Past Chapter                 92.0   \n",
       "675              Kumo no You ni Kaze no You ni                 80.0   \n",
       "859  Shuranosuke Zanmaken: Shikamamon no Otoko                 49.0   \n",
       "957    Haru no Ashioto The Movie: Ourin Dakkan                 20.0   \n",
       "\n",
       "                                              synopsis  \n",
       "265  For the 73rd class of cadets of the Defense Un...  \n",
       "515  suomi Takayanagi and Maya Natsume both want to...  \n",
       "675  Ginga, a small town girl sets out to become th...  \n",
       "859  Shurannosuke Sakaki is a masterless samurai wi...  \n",
       "957  One day the else so peaceful mood in the Ourin...  "
      ]
     },
     "execution_count": 192,
     "metadata": {},
     "output_type": "execute_result"
    }
   ],
   "source": [
    "merged_df.loc[merged_df[\"status\"].isna(), :].head()"
   ]
  },
  {
   "cell_type": "code",
   "execution_count": 193,
   "id": "d9ce0664",
   "metadata": {},
   "outputs": [],
   "source": [
    "merged_df.loc[merged_df[\"anime_id\"] == 342, \"status\"] = \"Finished Airing\"\n",
    "merged_df.loc[merged_df[\"anime_id\"] == 760, \"status\"] = \"Unknown\" # to be dropped not an anime\n",
    "merged_df.loc[merged_df[\"anime_id\"] == 1032, \"status\"] = \"Unknown\" # to be dropped not an anime\n",
    "merged_df.loc[merged_df[\"anime_id\"] == 1451, \"status\"] = \"Unknown\" # to be dropped not an anime\n",
    "merged_df.loc[merged_df[\"anime_id\"] == 1621, \"status\"] = \"Unknown\" # to be dropped not an anime\n",
    "merged_df.loc[merged_df[\"anime_id\"] == 2691, \"status\"] = \"Finished Airing\" # to be dropped\n",
    "merged_df.loc[merged_df[\"anime_id\"] == 3258, \"status\"] = \"Unknown\" # to be dropped not an anime\n",
    "merged_df.loc[merged_df[\"anime_id\"] == 4112, \"status\"] = \"Finished Airing\" # to be dropped not an anime\n",
    "merged_df.loc[merged_df[\"anime_id\"] == 5272, \"status\"] = \"Unknown\" # to be dropped not an anime\n",
    "merged_df.loc[merged_df[\"anime_id\"] == 5673, \"status\"] = \"Unknown\" # to be dropped not an anime\n",
    "merged_df.loc[merged_df[\"anime_id\"] == 7664, \"status\"] = \"Unknown\" # to be dropped not an anime\n",
    "merged_df.loc[merged_df[\"anime_id\"] == 8149, \"status\"] = \"Finished Airing\"\n",
    "merged_df.loc[merged_df[\"anime_id\"] == 10330, \"status\"] = \"Unknown\" # to be dropped not an anime\n",
    "merged_df.loc[merged_df[\"anime_id\"] == 10463, \"status\"] = \"Finished Airing\"\n",
    "merged_df.loc[merged_df[\"anime_id\"] == 13169, \"status\"] = \"Unknown\" # to be dropped not an anime\n",
    "merged_df.loc[merged_df[\"anime_id\"] == 13171, \"status\"] = \"Unknown\" # to be dropped not an anime\n",
    "merged_df.loc[merged_df[\"anime_id\"] == 13173, \"status\"] = \"Unknown\" # to be dropped not an anime\n",
    "merged_df.loc[merged_df[\"anime_id\"] == 13175, \"status\"] = \"Unknown\" # to be dropped not an anime\n",
    "merged_df.loc[merged_df[\"anime_id\"] == 19683, \"status\"] = \"Finished Airing\"\n",
    "merged_df.loc[merged_df[\"anime_id\"] == 33540, \"status\"] = \"Finished Airing\"\n",
    "merged_df.loc[merged_df[\"anime_id\"] == 35025, \"status\"] = \"Unknown\" # to be dropped not an anime\n",
    "merged_df.loc[merged_df[\"anime_id\"] == 35210, \"status\"] = \"Finished Airing\" # to be dropped, not yet aired\n",
    "merged_df.loc[merged_df[\"anime_id\"] == 35213, \"status\"] = \"Finished Airing\" \n",
    "merged_df.loc[merged_df[\"anime_id\"] == 37149, \"status\"] = \"Unknown\" # to be dropped not an anime\n",
    "merged_df.loc[merged_df[\"anime_id\"] == 37767, \"status\"] = \"Finished Airing\" \n",
    "merged_df.loc[merged_df[\"anime_id\"] == 38781, \"status\"] = \"Finished Airing\" \n",
    "merged_df.loc[merged_df[\"anime_id\"] == 40035, \"status\"] = \"Unknown\" # to be dropped not an anime\n",
    "merged_df.loc[merged_df[\"anime_id\"] == 42143, \"status\"] = \"Unknown\" # to be dropped not an anime\n",
    "merged_df.loc[merged_df[\"anime_id\"] == 42209, \"status\"] = \"Unknown\" # to be dropped not an anime"
   ]
  },
  {
   "cell_type": "code",
   "execution_count": 194,
   "id": "afc9dcd6",
   "metadata": {},
   "outputs": [],
   "source": [
    "merged_df = merged_df.loc[~merged_df[\"anime_id\"].isin([2691, 4112, 35210]), :]\n",
    "merged_df = merged_df[merged_df[\"status\"] != \"Unknown\"]"
   ]
  },
  {
   "cell_type": "code",
   "execution_count": 195,
   "id": "bd6b49bb",
   "metadata": {},
   "outputs": [
    {
     "data": {
      "application/vnd.microsoft.datawrangler.viewer.v0+json": {
       "columns": [
        {
         "name": "index",
         "rawType": "int64",
         "type": "integer"
        },
        {
         "name": "anime_id",
         "rawType": "int64",
         "type": "integer"
        },
        {
         "name": "url",
         "rawType": "object",
         "type": "string"
        },
        {
         "name": "type",
         "rawType": "object",
         "type": "string"
        },
        {
         "name": "episodes",
         "rawType": "object",
         "type": "unknown"
        },
        {
         "name": "status",
         "rawType": "object",
         "type": "string"
        },
        {
         "name": "premiered",
         "rawType": "object",
         "type": "unknown"
        },
        {
         "name": "producer",
         "rawType": "object",
         "type": "unknown"
        },
        {
         "name": "broadcast",
         "rawType": "object",
         "type": "unknown"
        },
        {
         "name": "licensors",
         "rawType": "object",
         "type": "unknown"
        },
        {
         "name": "studios",
         "rawType": "object",
         "type": "unknown"
        },
        {
         "name": "genres",
         "rawType": "object",
         "type": "string"
        },
        {
         "name": "themes",
         "rawType": "object",
         "type": "unknown"
        },
        {
         "name": "demographic",
         "rawType": "object",
         "type": "unknown"
        },
        {
         "name": "source",
         "rawType": "object",
         "type": "unknown"
        },
        {
         "name": "rating",
         "rawType": "object",
         "type": "unknown"
        },
        {
         "name": "title",
         "rawType": "object",
         "type": "string"
        },
        {
         "name": "duration_in_minutes",
         "rawType": "float64",
         "type": "float"
        },
        {
         "name": "synopsis",
         "rawType": "object",
         "type": "string"
        }
       ],
       "ref": "8f2dbbd7-bde2-4766-89fa-50f9a5957715",
       "rows": [
        [
         "22",
         "32",
         "https://myanimelist.net/anime/32/Neon_Genesis_Evangelion__The_End_of_Evangelion",
         "Movie",
         "1.0",
         "Finished Airing",
         null,
         "TV Tokyo, Toei Animation, Kadokawa Shoten, Movic, Sega, TV Tokyo Music, Audio Tanaka",
         null,
         "GKIDS, Manga Entertainment",
         "Gainax, Production I.G",
         "Avant Garde, Drama, Sci-Fi",
         "Mecha, Psychological",
         null,
         "Original",
         "R+ - Mild Nudity",
         "Neon Genesis Evangelion: The End of Evangelion",
         "86.0",
         "h the final Angel vanquished, Nerv has one last enemy left to face—the humans under Seele's command. Left in a deep depression nearing the end of the original series, an indecisive Shinji Ikari struggles with the ultimatum presented to him: to completely accept mankind's existence, or renounce humanity's individuality. Meanwhile, at the core of a compromised Nerv, Gendou Ikari and Rei Ayanami approach Lilith in an attempt to realize their own ideals concerning the future of the world. The End of Evangelion serves as an alternate ending to the polarizing final episodes of Neon Genesis Evangelion . With the fate of the universe hanging in the balance, the climactic final battle draws near."
        ],
        [
         "2858",
         "8149",
         "Unknown",
         "Movie",
         "1",
         "Finished Airing",
         null,
         null,
         null,
         null,
         "Toei Animation",
         "Adventure, Comedy, Fantasy, Horror, Supernatural",
         null,
         null,
         null,
         "G - All Ages",
         "Gegege no Kitarou (1968 Movie)",
         "46.0",
         "lling of episodes 5-6 from the 1968 TV anime."
        ],
        [
         "3160",
         "9818",
         "https://myanimelist.net/anime/9818/McDull__Boluo_You_Wang_Zi",
         "Movie",
         "1.0",
         "Finished Airing",
         null,
         "Bliss Pictures",
         null,
         null,
         null,
         "Comedy",
         "Anthropomorphic",
         "Kids",
         null,
         "G - All Ages",
         "McDull, Prince de la Bun",
         "77.0",
         "cDull, Prince de la Bun is a 2004 animated Hong Kong film directed by Yuen Toe. Telling the life a the fictional pig McDull, it is a sequel to My Life as McDull (2001) and it was followed by McDull, the Alumni (2006). (Source: Wikipedia)"
        ],
        [
         "3795",
         "15347",
         "https://myanimelist.net/anime/15347/Meitantei_Holmes__Aoi_Ruby_no_Maki___Kaitei_no_Zaihou_no_Maki",
         "Movie",
         "1.0",
         "Finished Airing",
         null,
         null,
         null,
         null,
         "TMS Entertainment",
         "Adventure, Comedy, Mystery",
         null,
         null,
         "Novel",
         "G - All Ages",
         "Sherlock Hound: The Adventure of the Blue Carbuncle / Treasure Under the Sea",
         "46.0",
         "The famous blue ruby is stolen in such an elaborate way, that only one villain can be suspected - Professor Moriarty. It is up to Sherlock Holmes to return it and, in the process, to turn a young pick-pocket on the right path. In the second part, Moriarty sets his sights even higher, stealing a top-secret submarine from the Navy. What does he need it for? Holmes is once again on the trail. (Source: BakaBT)"
        ],
        [
         "4199",
         "19683",
         "Unknown",
         "Movie",
         "1",
         "Finished Airing",
         null,
         null,
         null,
         null,
         "Toei Animation",
         "Shounen, Sports",
         null,
         null,
         null,
         null,
         "Kick no Oni (1971)",
         "25.0",
         "Kick no Oni Movie."
        ]
       ],
       "shape": {
        "columns": 18,
        "rows": 5
       }
      },
      "text/html": [
       "<div>\n",
       "<style scoped>\n",
       "    .dataframe tbody tr th:only-of-type {\n",
       "        vertical-align: middle;\n",
       "    }\n",
       "\n",
       "    .dataframe tbody tr th {\n",
       "        vertical-align: top;\n",
       "    }\n",
       "\n",
       "    .dataframe thead th {\n",
       "        text-align: right;\n",
       "    }\n",
       "</style>\n",
       "<table border=\"1\" class=\"dataframe\">\n",
       "  <thead>\n",
       "    <tr style=\"text-align: right;\">\n",
       "      <th></th>\n",
       "      <th>anime_id</th>\n",
       "      <th>url</th>\n",
       "      <th>type</th>\n",
       "      <th>episodes</th>\n",
       "      <th>status</th>\n",
       "      <th>premiered</th>\n",
       "      <th>producer</th>\n",
       "      <th>broadcast</th>\n",
       "      <th>licensors</th>\n",
       "      <th>studios</th>\n",
       "      <th>genres</th>\n",
       "      <th>themes</th>\n",
       "      <th>demographic</th>\n",
       "      <th>source</th>\n",
       "      <th>rating</th>\n",
       "      <th>title</th>\n",
       "      <th>duration_in_minutes</th>\n",
       "      <th>synopsis</th>\n",
       "    </tr>\n",
       "  </thead>\n",
       "  <tbody>\n",
       "    <tr>\n",
       "      <th>22</th>\n",
       "      <td>32</td>\n",
       "      <td>https://myanimelist.net/anime/32/Neon_Genesis_...</td>\n",
       "      <td>Movie</td>\n",
       "      <td>1.0</td>\n",
       "      <td>Finished Airing</td>\n",
       "      <td>NaN</td>\n",
       "      <td>TV Tokyo, Toei Animation, Kadokawa Shoten, Mov...</td>\n",
       "      <td>NaN</td>\n",
       "      <td>GKIDS, Manga Entertainment</td>\n",
       "      <td>Gainax, Production I.G</td>\n",
       "      <td>Avant Garde, Drama, Sci-Fi</td>\n",
       "      <td>Mecha, Psychological</td>\n",
       "      <td>NaN</td>\n",
       "      <td>Original</td>\n",
       "      <td>R+ - Mild Nudity</td>\n",
       "      <td>Neon Genesis Evangelion: The End of Evangelion</td>\n",
       "      <td>86.0</td>\n",
       "      <td>h the final Angel vanquished, Nerv has one las...</td>\n",
       "    </tr>\n",
       "    <tr>\n",
       "      <th>2858</th>\n",
       "      <td>8149</td>\n",
       "      <td>Unknown</td>\n",
       "      <td>Movie</td>\n",
       "      <td>1</td>\n",
       "      <td>Finished Airing</td>\n",
       "      <td>NaN</td>\n",
       "      <td>NaN</td>\n",
       "      <td>NaN</td>\n",
       "      <td>NaN</td>\n",
       "      <td>Toei Animation</td>\n",
       "      <td>Adventure, Comedy, Fantasy, Horror, Supernatural</td>\n",
       "      <td>NaN</td>\n",
       "      <td>NaN</td>\n",
       "      <td>NaN</td>\n",
       "      <td>G - All Ages</td>\n",
       "      <td>Gegege no Kitarou (1968 Movie)</td>\n",
       "      <td>46.0</td>\n",
       "      <td>lling of episodes 5-6 from the 1968 TV anime.</td>\n",
       "    </tr>\n",
       "    <tr>\n",
       "      <th>3160</th>\n",
       "      <td>9818</td>\n",
       "      <td>https://myanimelist.net/anime/9818/McDull__Bol...</td>\n",
       "      <td>Movie</td>\n",
       "      <td>1.0</td>\n",
       "      <td>Finished Airing</td>\n",
       "      <td>NaN</td>\n",
       "      <td>Bliss Pictures</td>\n",
       "      <td>NaN</td>\n",
       "      <td>NaN</td>\n",
       "      <td>NaN</td>\n",
       "      <td>Comedy</td>\n",
       "      <td>Anthropomorphic</td>\n",
       "      <td>Kids</td>\n",
       "      <td>NaN</td>\n",
       "      <td>G - All Ages</td>\n",
       "      <td>McDull, Prince de la Bun</td>\n",
       "      <td>77.0</td>\n",
       "      <td>cDull, Prince de la Bun is a 2004 animated Hon...</td>\n",
       "    </tr>\n",
       "    <tr>\n",
       "      <th>3795</th>\n",
       "      <td>15347</td>\n",
       "      <td>https://myanimelist.net/anime/15347/Meitantei_...</td>\n",
       "      <td>Movie</td>\n",
       "      <td>1.0</td>\n",
       "      <td>Finished Airing</td>\n",
       "      <td>NaN</td>\n",
       "      <td>NaN</td>\n",
       "      <td>NaN</td>\n",
       "      <td>NaN</td>\n",
       "      <td>TMS Entertainment</td>\n",
       "      <td>Adventure, Comedy, Mystery</td>\n",
       "      <td>NaN</td>\n",
       "      <td>NaN</td>\n",
       "      <td>Novel</td>\n",
       "      <td>G - All Ages</td>\n",
       "      <td>Sherlock Hound: The Adventure of the Blue Carb...</td>\n",
       "      <td>46.0</td>\n",
       "      <td>The famous blue ruby is stolen in such an elab...</td>\n",
       "    </tr>\n",
       "    <tr>\n",
       "      <th>4199</th>\n",
       "      <td>19683</td>\n",
       "      <td>Unknown</td>\n",
       "      <td>Movie</td>\n",
       "      <td>1</td>\n",
       "      <td>Finished Airing</td>\n",
       "      <td>NaN</td>\n",
       "      <td>NaN</td>\n",
       "      <td>NaN</td>\n",
       "      <td>NaN</td>\n",
       "      <td>Toei Animation</td>\n",
       "      <td>Shounen, Sports</td>\n",
       "      <td>NaN</td>\n",
       "      <td>NaN</td>\n",
       "      <td>NaN</td>\n",
       "      <td>NaN</td>\n",
       "      <td>Kick no Oni (1971)</td>\n",
       "      <td>25.0</td>\n",
       "      <td>Kick no Oni Movie.</td>\n",
       "    </tr>\n",
       "  </tbody>\n",
       "</table>\n",
       "</div>"
      ],
      "text/plain": [
       "      anime_id                                                url   type  \\\n",
       "22          32  https://myanimelist.net/anime/32/Neon_Genesis_...  Movie   \n",
       "2858      8149                                            Unknown  Movie   \n",
       "3160      9818  https://myanimelist.net/anime/9818/McDull__Bol...  Movie   \n",
       "3795     15347  https://myanimelist.net/anime/15347/Meitantei_...  Movie   \n",
       "4199     19683                                            Unknown  Movie   \n",
       "\n",
       "     episodes           status premiered  \\\n",
       "22        1.0  Finished Airing       NaN   \n",
       "2858        1  Finished Airing       NaN   \n",
       "3160      1.0  Finished Airing       NaN   \n",
       "3795      1.0  Finished Airing       NaN   \n",
       "4199        1  Finished Airing       NaN   \n",
       "\n",
       "                                               producer broadcast  \\\n",
       "22    TV Tokyo, Toei Animation, Kadokawa Shoten, Mov...       NaN   \n",
       "2858                                                NaN       NaN   \n",
       "3160                                     Bliss Pictures       NaN   \n",
       "3795                                                NaN       NaN   \n",
       "4199                                                NaN       NaN   \n",
       "\n",
       "                       licensors                 studios  \\\n",
       "22    GKIDS, Manga Entertainment  Gainax, Production I.G   \n",
       "2858                         NaN          Toei Animation   \n",
       "3160                         NaN                     NaN   \n",
       "3795                         NaN       TMS Entertainment   \n",
       "4199                         NaN          Toei Animation   \n",
       "\n",
       "                                                genres                themes  \\\n",
       "22                          Avant Garde, Drama, Sci-Fi  Mecha, Psychological   \n",
       "2858  Adventure, Comedy, Fantasy, Horror, Supernatural                   NaN   \n",
       "3160                                            Comedy       Anthropomorphic   \n",
       "3795                        Adventure, Comedy, Mystery                   NaN   \n",
       "4199                                   Shounen, Sports                   NaN   \n",
       "\n",
       "     demographic    source            rating  \\\n",
       "22           NaN  Original  R+ - Mild Nudity   \n",
       "2858         NaN       NaN      G - All Ages   \n",
       "3160        Kids       NaN      G - All Ages   \n",
       "3795         NaN     Novel      G - All Ages   \n",
       "4199         NaN       NaN               NaN   \n",
       "\n",
       "                                                  title  duration_in_minutes  \\\n",
       "22       Neon Genesis Evangelion: The End of Evangelion                 86.0   \n",
       "2858                     Gegege no Kitarou (1968 Movie)                 46.0   \n",
       "3160                           McDull, Prince de la Bun                 77.0   \n",
       "3795  Sherlock Hound: The Adventure of the Blue Carb...                 46.0   \n",
       "4199                                 Kick no Oni (1971)                 25.0   \n",
       "\n",
       "                                               synopsis  \n",
       "22    h the final Angel vanquished, Nerv has one las...  \n",
       "2858      lling of episodes 5-6 from the 1968 TV anime.  \n",
       "3160  cDull, Prince de la Bun is a 2004 animated Hon...  \n",
       "3795  The famous blue ruby is stolen in such an elab...  \n",
       "4199                                 Kick no Oni Movie.  "
      ]
     },
     "execution_count": 195,
     "metadata": {},
     "output_type": "execute_result"
    }
   ],
   "source": [
    "merged_df.loc[merged_df[\"premiered\"].isna(), :].head()"
   ]
  },
  {
   "cell_type": "markdown",
   "id": "4bc09eb9",
   "metadata": {},
   "source": [
    "Handling missing premiered"
   ]
  },
  {
   "cell_type": "code",
   "execution_count": 196,
   "id": "1cc0ae78",
   "metadata": {},
   "outputs": [],
   "source": [
    "merged_df.loc[merged_df[\"anime_id\"] == 32, \"premiered\"] = \"1997-07-19\"\n",
    "merged_df.loc[merged_df[\"anime_id\"] == 8149, \"premiered\"] = \"1968-01-03\"\n",
    "merged_df.loc[merged_df[\"anime_id\"] == 9818, \"premiered\"] = \"2004-06-24\"\n",
    "merged_df.loc[merged_df[\"anime_id\"] == 10463, \"premiered\"] = \"1991-09-27\"\n",
    "merged_df.loc[merged_df[\"anime_id\"] == 15347, \"premiered\"] = \"1984-03-11\"\n",
    "merged_df.loc[merged_df[\"anime_id\"] == 19683, \"premiered\"] = \"1971-03-20\"\n",
    "merged_df.loc[merged_df[\"anime_id\"] == 28091, \"premiered\"] = \"2003-03-01\"\n",
    "merged_df.loc[merged_df[\"anime_id\"] == 33540, \"premiered\"] = \"2013-05-10\"\n",
    "merged_df.loc[merged_df[\"anime_id\"] == 35213, \"premiered\"] = \"2013-05-10\" # to be dropped\n",
    "merged_df.loc[merged_df[\"anime_id\"] == 37767, \"premiered\"] = \"2018-01-05\"\n",
    "merged_df.loc[merged_df[\"anime_id\"] == 38781, \"premiered\"] = \"2018-04-18\"\n",
    "\n",
    "merged_df = merged_df.loc[merged_df[\"anime_id\"] != 35213, :]"
   ]
  },
  {
   "cell_type": "markdown",
   "id": "a8104021",
   "metadata": {},
   "source": [
    "Handling missing source"
   ]
  },
  {
   "cell_type": "code",
   "execution_count": 197,
   "id": "bbed40c9",
   "metadata": {},
   "outputs": [
    {
     "data": {
      "application/vnd.microsoft.datawrangler.viewer.v0+json": {
       "columns": [
        {
         "name": "index",
         "rawType": "int64",
         "type": "integer"
        },
        {
         "name": "anime_id",
         "rawType": "int64",
         "type": "integer"
        },
        {
         "name": "url",
         "rawType": "object",
         "type": "string"
        },
        {
         "name": "type",
         "rawType": "object",
         "type": "string"
        },
        {
         "name": "episodes",
         "rawType": "object",
         "type": "unknown"
        },
        {
         "name": "status",
         "rawType": "object",
         "type": "string"
        },
        {
         "name": "premiered",
         "rawType": "object",
         "type": "string"
        },
        {
         "name": "producer",
         "rawType": "object",
         "type": "unknown"
        },
        {
         "name": "broadcast",
         "rawType": "object",
         "type": "unknown"
        },
        {
         "name": "licensors",
         "rawType": "object",
         "type": "unknown"
        },
        {
         "name": "studios",
         "rawType": "object",
         "type": "unknown"
        },
        {
         "name": "genres",
         "rawType": "object",
         "type": "string"
        },
        {
         "name": "themes",
         "rawType": "object",
         "type": "unknown"
        },
        {
         "name": "demographic",
         "rawType": "object",
         "type": "unknown"
        },
        {
         "name": "source",
         "rawType": "object",
         "type": "unknown"
        },
        {
         "name": "rating",
         "rawType": "object",
         "type": "unknown"
        },
        {
         "name": "title",
         "rawType": "object",
         "type": "string"
        },
        {
         "name": "duration_in_minutes",
         "rawType": "float64",
         "type": "float"
        },
        {
         "name": "synopsis",
         "rawType": "object",
         "type": "string"
        }
       ],
       "ref": "705977fb-5174-434e-a643-ff2109ea9aab",
       "rows": [
        [
         "1957",
         "4024",
         "https://myanimelist.net/anime/4024/Sanrio_Anime_Sekai_Meisaku_Gekijou",
         "TV",
         "13.0",
         "Finished Airing",
         "Fall 1987",
         "Sanrio",
         "Unknown",
         null,
         null,
         "Adventure, Fantasy",
         null,
         "Kids",
         null,
         "G - All Ages",
         "Hello Kitty's Furry Tale Theater",
         "24.0",
         "Hello Kitty and other Sanrio characters star in adaptations of various spoof famous stories. Each episode contains two stories. The series presents itself as a stage plays. And the characters are actors in the story (eg. Cat Wars is a spoof of the Star Wars story). You, the viewer, is meant to be as one of the people in the audience."
        ],
        [
         "2858",
         "8149",
         "Unknown",
         "Movie",
         "1",
         "Finished Airing",
         "1968-01-03",
         null,
         null,
         null,
         "Toei Animation",
         "Adventure, Comedy, Fantasy, Horror, Supernatural",
         null,
         null,
         null,
         "G - All Ages",
         "Gegege no Kitarou (1968 Movie)",
         "46.0",
         "lling of episodes 5-6 from the 1968 TV anime."
        ],
        [
         "3160",
         "9818",
         "https://myanimelist.net/anime/9818/McDull__Boluo_You_Wang_Zi",
         "Movie",
         "1.0",
         "Finished Airing",
         "2004-06-24",
         "Bliss Pictures",
         null,
         null,
         null,
         "Comedy",
         "Anthropomorphic",
         "Kids",
         null,
         "G - All Ages",
         "McDull, Prince de la Bun",
         "77.0",
         "cDull, Prince de la Bun is a 2004 animated Hong Kong film directed by Yuen Toe. Telling the life a the fictional pig McDull, it is a sequel to My Life as McDull (2001) and it was followed by McDull, the Alumni (2006). (Source: Wikipedia)"
        ],
        [
         "4199",
         "19683",
         "Unknown",
         "Movie",
         "1",
         "Finished Airing",
         "1971-03-20",
         null,
         null,
         null,
         "Toei Animation",
         "Shounen, Sports",
         null,
         null,
         null,
         null,
         "Kick no Oni (1971)",
         "25.0",
         "Kick no Oni Movie."
        ],
        [
         "4838",
         "28091",
         "https://myanimelist.net/anime/28091/Asu_wo_Tsukutta_Otoko__Tanabe_Sakurou_to_Biwako_Sosui",
         "Movie",
         "1.0",
         "Finished Airing",
         "2003-03-01",
         "Mushi Production",
         null,
         null,
         "Mushi Production",
         "nan",
         "Historical",
         null,
         null,
         "G - All Ages",
         "The Man Who Has Changed the History: A Drannage of Lake Biwa",
         "70.0",
         "fusion of live action and animation to tell the story of Lake Biwa's draining. Lake Biwa Canal has been an economic life giver to Kyoto. Its formation is all due to a young engineer by the name Tanabe Sakuro who tried to incorporate an idealistic and new technology of the time: hydroelectric power. He was able to build Japan's first hydro-electric power station through the construction of the canal (which obviously required the lake the be drained, hence the title of the anime)."
        ]
       ],
       "shape": {
        "columns": 18,
        "rows": 5
       }
      },
      "text/html": [
       "<div>\n",
       "<style scoped>\n",
       "    .dataframe tbody tr th:only-of-type {\n",
       "        vertical-align: middle;\n",
       "    }\n",
       "\n",
       "    .dataframe tbody tr th {\n",
       "        vertical-align: top;\n",
       "    }\n",
       "\n",
       "    .dataframe thead th {\n",
       "        text-align: right;\n",
       "    }\n",
       "</style>\n",
       "<table border=\"1\" class=\"dataframe\">\n",
       "  <thead>\n",
       "    <tr style=\"text-align: right;\">\n",
       "      <th></th>\n",
       "      <th>anime_id</th>\n",
       "      <th>url</th>\n",
       "      <th>type</th>\n",
       "      <th>episodes</th>\n",
       "      <th>status</th>\n",
       "      <th>premiered</th>\n",
       "      <th>producer</th>\n",
       "      <th>broadcast</th>\n",
       "      <th>licensors</th>\n",
       "      <th>studios</th>\n",
       "      <th>genres</th>\n",
       "      <th>themes</th>\n",
       "      <th>demographic</th>\n",
       "      <th>source</th>\n",
       "      <th>rating</th>\n",
       "      <th>title</th>\n",
       "      <th>duration_in_minutes</th>\n",
       "      <th>synopsis</th>\n",
       "    </tr>\n",
       "  </thead>\n",
       "  <tbody>\n",
       "    <tr>\n",
       "      <th>1957</th>\n",
       "      <td>4024</td>\n",
       "      <td>https://myanimelist.net/anime/4024/Sanrio_Anim...</td>\n",
       "      <td>TV</td>\n",
       "      <td>13.0</td>\n",
       "      <td>Finished Airing</td>\n",
       "      <td>Fall 1987</td>\n",
       "      <td>Sanrio</td>\n",
       "      <td>Unknown</td>\n",
       "      <td>NaN</td>\n",
       "      <td>NaN</td>\n",
       "      <td>Adventure, Fantasy</td>\n",
       "      <td>NaN</td>\n",
       "      <td>Kids</td>\n",
       "      <td>NaN</td>\n",
       "      <td>G - All Ages</td>\n",
       "      <td>Hello Kitty's Furry Tale Theater</td>\n",
       "      <td>24.0</td>\n",
       "      <td>Hello Kitty and other Sanrio characters star i...</td>\n",
       "    </tr>\n",
       "    <tr>\n",
       "      <th>2858</th>\n",
       "      <td>8149</td>\n",
       "      <td>Unknown</td>\n",
       "      <td>Movie</td>\n",
       "      <td>1</td>\n",
       "      <td>Finished Airing</td>\n",
       "      <td>1968-01-03</td>\n",
       "      <td>NaN</td>\n",
       "      <td>NaN</td>\n",
       "      <td>NaN</td>\n",
       "      <td>Toei Animation</td>\n",
       "      <td>Adventure, Comedy, Fantasy, Horror, Supernatural</td>\n",
       "      <td>NaN</td>\n",
       "      <td>NaN</td>\n",
       "      <td>NaN</td>\n",
       "      <td>G - All Ages</td>\n",
       "      <td>Gegege no Kitarou (1968 Movie)</td>\n",
       "      <td>46.0</td>\n",
       "      <td>lling of episodes 5-6 from the 1968 TV anime.</td>\n",
       "    </tr>\n",
       "    <tr>\n",
       "      <th>3160</th>\n",
       "      <td>9818</td>\n",
       "      <td>https://myanimelist.net/anime/9818/McDull__Bol...</td>\n",
       "      <td>Movie</td>\n",
       "      <td>1.0</td>\n",
       "      <td>Finished Airing</td>\n",
       "      <td>2004-06-24</td>\n",
       "      <td>Bliss Pictures</td>\n",
       "      <td>NaN</td>\n",
       "      <td>NaN</td>\n",
       "      <td>NaN</td>\n",
       "      <td>Comedy</td>\n",
       "      <td>Anthropomorphic</td>\n",
       "      <td>Kids</td>\n",
       "      <td>NaN</td>\n",
       "      <td>G - All Ages</td>\n",
       "      <td>McDull, Prince de la Bun</td>\n",
       "      <td>77.0</td>\n",
       "      <td>cDull, Prince de la Bun is a 2004 animated Hon...</td>\n",
       "    </tr>\n",
       "    <tr>\n",
       "      <th>4199</th>\n",
       "      <td>19683</td>\n",
       "      <td>Unknown</td>\n",
       "      <td>Movie</td>\n",
       "      <td>1</td>\n",
       "      <td>Finished Airing</td>\n",
       "      <td>1971-03-20</td>\n",
       "      <td>NaN</td>\n",
       "      <td>NaN</td>\n",
       "      <td>NaN</td>\n",
       "      <td>Toei Animation</td>\n",
       "      <td>Shounen, Sports</td>\n",
       "      <td>NaN</td>\n",
       "      <td>NaN</td>\n",
       "      <td>NaN</td>\n",
       "      <td>NaN</td>\n",
       "      <td>Kick no Oni (1971)</td>\n",
       "      <td>25.0</td>\n",
       "      <td>Kick no Oni Movie.</td>\n",
       "    </tr>\n",
       "    <tr>\n",
       "      <th>4838</th>\n",
       "      <td>28091</td>\n",
       "      <td>https://myanimelist.net/anime/28091/Asu_wo_Tsu...</td>\n",
       "      <td>Movie</td>\n",
       "      <td>1.0</td>\n",
       "      <td>Finished Airing</td>\n",
       "      <td>2003-03-01</td>\n",
       "      <td>Mushi Production</td>\n",
       "      <td>NaN</td>\n",
       "      <td>NaN</td>\n",
       "      <td>Mushi Production</td>\n",
       "      <td>nan</td>\n",
       "      <td>Historical</td>\n",
       "      <td>NaN</td>\n",
       "      <td>NaN</td>\n",
       "      <td>G - All Ages</td>\n",
       "      <td>The Man Who Has Changed the History: A Drannag...</td>\n",
       "      <td>70.0</td>\n",
       "      <td>fusion of live action and animation to tell th...</td>\n",
       "    </tr>\n",
       "  </tbody>\n",
       "</table>\n",
       "</div>"
      ],
      "text/plain": [
       "      anime_id                                                url   type  \\\n",
       "1957      4024  https://myanimelist.net/anime/4024/Sanrio_Anim...     TV   \n",
       "2858      8149                                            Unknown  Movie   \n",
       "3160      9818  https://myanimelist.net/anime/9818/McDull__Bol...  Movie   \n",
       "4199     19683                                            Unknown  Movie   \n",
       "4838     28091  https://myanimelist.net/anime/28091/Asu_wo_Tsu...  Movie   \n",
       "\n",
       "     episodes           status   premiered          producer broadcast  \\\n",
       "1957     13.0  Finished Airing   Fall 1987            Sanrio   Unknown   \n",
       "2858        1  Finished Airing  1968-01-03               NaN       NaN   \n",
       "3160      1.0  Finished Airing  2004-06-24    Bliss Pictures       NaN   \n",
       "4199        1  Finished Airing  1971-03-20               NaN       NaN   \n",
       "4838      1.0  Finished Airing  2003-03-01  Mushi Production       NaN   \n",
       "\n",
       "     licensors           studios  \\\n",
       "1957       NaN               NaN   \n",
       "2858       NaN    Toei Animation   \n",
       "3160       NaN               NaN   \n",
       "4199       NaN    Toei Animation   \n",
       "4838       NaN  Mushi Production   \n",
       "\n",
       "                                                genres           themes  \\\n",
       "1957                                Adventure, Fantasy              NaN   \n",
       "2858  Adventure, Comedy, Fantasy, Horror, Supernatural              NaN   \n",
       "3160                                            Comedy  Anthropomorphic   \n",
       "4199                                   Shounen, Sports              NaN   \n",
       "4838                                               nan       Historical   \n",
       "\n",
       "     demographic source        rating  \\\n",
       "1957        Kids    NaN  G - All Ages   \n",
       "2858         NaN    NaN  G - All Ages   \n",
       "3160        Kids    NaN  G - All Ages   \n",
       "4199         NaN    NaN           NaN   \n",
       "4838         NaN    NaN  G - All Ages   \n",
       "\n",
       "                                                  title  duration_in_minutes  \\\n",
       "1957                   Hello Kitty's Furry Tale Theater                 24.0   \n",
       "2858                     Gegege no Kitarou (1968 Movie)                 46.0   \n",
       "3160                           McDull, Prince de la Bun                 77.0   \n",
       "4199                                 Kick no Oni (1971)                 25.0   \n",
       "4838  The Man Who Has Changed the History: A Drannag...                 70.0   \n",
       "\n",
       "                                               synopsis  \n",
       "1957  Hello Kitty and other Sanrio characters star i...  \n",
       "2858      lling of episodes 5-6 from the 1968 TV anime.  \n",
       "3160  cDull, Prince de la Bun is a 2004 animated Hon...  \n",
       "4199                                 Kick no Oni Movie.  \n",
       "4838  fusion of live action and animation to tell th...  "
      ]
     },
     "execution_count": 197,
     "metadata": {},
     "output_type": "execute_result"
    }
   ],
   "source": [
    "merged_df.loc[merged_df[\"source\"].isna(), :].head()"
   ]
  },
  {
   "cell_type": "markdown",
   "id": "a00e42b3",
   "metadata": {},
   "source": [
    "Filling remaining missing data with *Unknown*"
   ]
  },
  {
   "cell_type": "code",
   "execution_count": 198,
   "id": "4996c365",
   "metadata": {},
   "outputs": [
    {
     "name": "stdout",
     "output_type": "stream",
     "text": [
      "<class 'pandas.core.frame.DataFrame'>\n",
      "Index: 6056 entries, 0 to 8749\n",
      "Data columns (total 18 columns):\n",
      " #   Column               Non-Null Count  Dtype  \n",
      "---  ------               --------------  -----  \n",
      " 0   anime_id             6056 non-null   int64  \n",
      " 1   url                  6056 non-null   object \n",
      " 2   type                 6056 non-null   object \n",
      " 3   episodes             6056 non-null   object \n",
      " 4   status               6056 non-null   object \n",
      " 5   premiered            6056 non-null   object \n",
      " 6   producer             6056 non-null   object \n",
      " 7   broadcast            6056 non-null   object \n",
      " 8   licensors            6056 non-null   object \n",
      " 9   studios              6056 non-null   object \n",
      " 10  genres               6056 non-null   object \n",
      " 11  themes               6056 non-null   object \n",
      " 12  demographic          6056 non-null   object \n",
      " 13  source               6056 non-null   object \n",
      " 14  rating               6056 non-null   object \n",
      " 15  title                6056 non-null   object \n",
      " 16  duration_in_minutes  6056 non-null   float64\n",
      " 17  synopsis             6056 non-null   object \n",
      "dtypes: float64(1), int64(1), object(16)\n",
      "memory usage: 898.9+ KB\n"
     ]
    }
   ],
   "source": [
    "anime_df = merged_df.fillna(missing_placeholder)\n",
    "anime_df.info()"
   ]
  },
  {
   "cell_type": "markdown",
   "id": "5470cfd0",
   "metadata": {},
   "source": [
    "Extract month and year for premiered column"
   ]
  },
  {
   "cell_type": "code",
   "execution_count": 199,
   "id": "d8acd352",
   "metadata": {},
   "outputs": [],
   "source": [
    "from datetime import datetime\n",
    "\n",
    "def determine_season(month):\n",
    "    match month:\n",
    "        case 1 | 2 | 3:\n",
    "            return \"Winter\"\n",
    "        case 4 | 5 | 6:\n",
    "            return \"Spring\"\n",
    "        case 7 | 8 | 9:\n",
    "            return \"Summer\"\n",
    "        case 10 | 11 | 12:\n",
    "            return \"Fall\"\n",
    "        case _:\n",
    "            raise ValueError(\"Value must be a month of the year\")\n",
    "            \n",
    "def extract_season_and_year(date_and_time):\n",
    "    date = date_and_time.split(\"T\")[0]\n",
    "    format_code = \"%Y-%m-%d\"\n",
    "    \n",
    "    date_obj = datetime.strptime(date, format_code)\n",
    "    season = determine_season(date_obj.month)\n",
    "    year = date_obj.year\n",
    "    return \"{} {}\".format(season, year)"
   ]
  },
  {
   "cell_type": "code",
   "execution_count": 200,
   "id": "44fd2d54",
   "metadata": {},
   "outputs": [],
   "source": [
    "premiered_in_scope_split = anime_df[\"premiered\"].apply(lambda x: extract_season_and_year(x) \\\n",
    "    if \"-\" in x else x)\n",
    "expanded_premiered = premiered_in_scope_split.str.split(\" \", expand=True)\n",
    "anime_df[\"premiered_season\"] = expanded_premiered[0]\n",
    "anime_df[\"premiered_year\"] = expanded_premiered[1]\n",
    "anime_df = anime_df.drop(columns=[\"premiered\"])"
   ]
  },
  {
   "cell_type": "markdown",
   "id": "3ab5c229",
   "metadata": {},
   "source": [
    "Looking at the kids demographic"
   ]
  },
  {
   "cell_type": "code",
   "execution_count": 201,
   "id": "c46e9571",
   "metadata": {},
   "outputs": [
    {
     "data": {
      "application/vnd.microsoft.datawrangler.viewer.v0+json": {
       "columns": [
        {
         "name": "index",
         "rawType": "int64",
         "type": "integer"
        },
        {
         "name": "anime_id",
         "rawType": "int64",
         "type": "integer"
        },
        {
         "name": "url",
         "rawType": "object",
         "type": "string"
        },
        {
         "name": "type",
         "rawType": "object",
         "type": "string"
        },
        {
         "name": "episodes",
         "rawType": "object",
         "type": "unknown"
        },
        {
         "name": "status",
         "rawType": "object",
         "type": "string"
        },
        {
         "name": "producer",
         "rawType": "object",
         "type": "string"
        },
        {
         "name": "broadcast",
         "rawType": "object",
         "type": "string"
        },
        {
         "name": "licensors",
         "rawType": "object",
         "type": "string"
        },
        {
         "name": "studios",
         "rawType": "object",
         "type": "string"
        },
        {
         "name": "genres",
         "rawType": "object",
         "type": "string"
        },
        {
         "name": "themes",
         "rawType": "object",
         "type": "string"
        },
        {
         "name": "demographic",
         "rawType": "object",
         "type": "string"
        },
        {
         "name": "source",
         "rawType": "object",
         "type": "string"
        },
        {
         "name": "rating",
         "rawType": "object",
         "type": "string"
        },
        {
         "name": "title",
         "rawType": "object",
         "type": "string"
        },
        {
         "name": "duration_in_minutes",
         "rawType": "float64",
         "type": "float"
        },
        {
         "name": "synopsis",
         "rawType": "object",
         "type": "string"
        },
        {
         "name": "premiered_season",
         "rawType": "object",
         "type": "string"
        },
        {
         "name": "premiered_year",
         "rawType": "object",
         "type": "string"
        }
       ],
       "ref": "07a72193-6d3d-4cf0-b99e-0681698c3d2f",
       "rows": [
        [
         "371",
         "501",
         "https://myanimelist.net/anime/501/Doraemon",
         "TV",
         "26.0",
         "Finished Airing",
         "Unknown",
         "Sundays at 19:00 (JST)",
         "Unknown",
         "Nippon TV Douga",
         "Adventure, Comedy, Fantasy",
         "Anthropomorphic",
         "Kids, Shounen",
         "Manga",
         "PG - Children",
         "Doraemon (1973)",
         "25.0",
         "Nobita Nobi is so hapless that his 22nd century decendants are still impoverished as a result of his 20th century bumbling. In a bid to raise their social status, their servant, a robotic cat named Doraemon, decides to travel back in time and guide Nobita on the proper path to fortune. Unfortunately Doraemon, a dysfunctional robot that the familly acquired by accident (but chose to keep nonetheless), isn't much better off than Nobita. The robot leads Nobita on many adventures, and while Nobita's life certainly is more exciting with the robot cat from the future, it is questionable if it is in fact better in the way that Doraemon planned. (Source: AniDB) Note: The series has been poorly preserved, and never released on any format, nor has it ever been re-aired. Nearly all the footage within the series (except for the opening and closing credits) was destroyed in an accidental fire sometime after the series was cancelled. Surviving reels from the show are occasionally shown at Doraemon fan conventions in Japan. In addition, the audio of several episodes still survives. Still images from episodes 1 and 24 exists. (Source: Wikipedia)",
         "Spring",
         "1973"
        ],
        [
         "733",
         "1138",
         "https://myanimelist.net/anime/1138/Medarot",
         "TV",
         "52.0",
         "Finished Airing",
         "TV Tokyo, Nihon Ad Systems, Nelvana",
         "Fridays at 18:00 (JST)",
         "ADV Films, Discotek Media, Shout! Factory",
         "Bee Train",
         "Adventure, Comedy, Sci-Fi",
         "Unknown",
         "Kids, Shounen",
         "Game",
         "PG - Children",
         "Medabots",
         "24.0",
         "dabots—powerful robots granted artificial intelligence through special \"medals\"—serve at the whims of their owner. They are more commonly used in \"Robbatling,\" a popular combat sport where two medabots face off against one another. In its professional form, Medafighters use their Medabots to qualify for the World Tournament and fight amongst the elite to gain the title of champion. Elementary schooler Ikki Tenryou has just gained his first Medabot: Metabee, an outdated model with no medal. Fortunately, however, Ikki manages to find a medal in the nearby river; but when Ikki places it into Metabee's head, the latter starts to exhibit strange behaviour. Short-tempered and rebellious, he refuses to obey Ikki's orders. However, to climb the ranks to the World Tournament, Ikki and Metabee must first learn to work together, no matter how difficult the prospect may seem…",
         "Summer",
         "1999"
        ],
        [
         "929",
         "1572",
         "https://myanimelist.net/anime/1572/Jungle_Taitei",
         "TV",
         "52.0",
         "Finished Airing",
         "Unknown",
         "Unknown",
         "Nozomi Entertainment, Media Blasters",
         "Mushi Production",
         "Adventure",
         "Unknown",
         "Kids, Shounen",
         "Manga",
         "G - All Ages",
         "Kimba the White Lion",
         "25.0",
         "o the white lion was born on an ocean liner that crashed on the shores of a bustling city, where he spent his childhood learning the language and customs of humans. But something was missing. In search of his family, home, and a place to truly belong, Leo traveled back to Africa and began his journey to become the King of the Jungle. Leo's adventure centers around finding peace between the animals and humans who live in his African home, often competing for space and resources. As he grows, Leo must survive both the area's harsh environment, dangers from other animals, and humans who hunt lions like him for sport. Only communication and mutual understanding can end the fighting, and Leo's knowledge of human culture may be just what the jungle needed. Jungle Taitei is the epic story of a young lion's struggles to survive in a dangerous land.",
         "Fall",
         "1965"
        ],
        [
         "1419",
         "2625",
         "https://myanimelist.net/anime/2625/The%E2%98%86Doraemons__The_Mysterious_Thief_Dorapan_The_Mysterious_Cartel",
         "Movie",
         "1.0",
         "Finished Airing",
         "Unknown",
         "Unknown",
         "Unknown",
         "Shin-Ei Animation",
         "Comedy, Fantasy, Sci-Fi",
         "Unknown",
         "Kids, Shounen",
         "Unknown",
         "PG - Children",
         "The Doraemons: Kaitou Dorapin Nazo no Chousenjou!",
         "31.0",
         "The mysterious thief Dorapin sets up a scheme with the intent of stealing the Friendship Telecards from the Doraemons. (Source: ANN)",
         "Winter",
         "1997"
        ],
        [
         "1431",
         "2649",
         "https://myanimelist.net/anime/2649/Doraemon__Obaachan_no_Omoide",
         "Movie",
         "1.0",
         "Finished Airing",
         "Unknown",
         "Unknown",
         "Unknown",
         "Shin-Ei Animation",
         "Award Winning, Comedy, Fantasy, Sci-Fi",
         "Unknown",
         "Kids, Shounen",
         "Unknown",
         "PG - Children",
         "Doraemon: A Grandmother's Recollections",
         "27.0",
         "Nobita misses his granny that died a few years ago, so Doraemon takes Nobita to the past to see his grandmother one more time. But they face through a lot of things such as the younger selves of Nobita and his friends, and young Nobita's mother that doesn't recognize Nobita or Doraemon. (Source: Wikipedia)",
         "Winter",
         "2000"
        ]
       ],
       "shape": {
        "columns": 19,
        "rows": 5
       }
      },
      "text/html": [
       "<div>\n",
       "<style scoped>\n",
       "    .dataframe tbody tr th:only-of-type {\n",
       "        vertical-align: middle;\n",
       "    }\n",
       "\n",
       "    .dataframe tbody tr th {\n",
       "        vertical-align: top;\n",
       "    }\n",
       "\n",
       "    .dataframe thead th {\n",
       "        text-align: right;\n",
       "    }\n",
       "</style>\n",
       "<table border=\"1\" class=\"dataframe\">\n",
       "  <thead>\n",
       "    <tr style=\"text-align: right;\">\n",
       "      <th></th>\n",
       "      <th>anime_id</th>\n",
       "      <th>url</th>\n",
       "      <th>type</th>\n",
       "      <th>episodes</th>\n",
       "      <th>status</th>\n",
       "      <th>producer</th>\n",
       "      <th>broadcast</th>\n",
       "      <th>licensors</th>\n",
       "      <th>studios</th>\n",
       "      <th>genres</th>\n",
       "      <th>themes</th>\n",
       "      <th>demographic</th>\n",
       "      <th>source</th>\n",
       "      <th>rating</th>\n",
       "      <th>title</th>\n",
       "      <th>duration_in_minutes</th>\n",
       "      <th>synopsis</th>\n",
       "      <th>premiered_season</th>\n",
       "      <th>premiered_year</th>\n",
       "    </tr>\n",
       "  </thead>\n",
       "  <tbody>\n",
       "    <tr>\n",
       "      <th>371</th>\n",
       "      <td>501</td>\n",
       "      <td>https://myanimelist.net/anime/501/Doraemon</td>\n",
       "      <td>TV</td>\n",
       "      <td>26.0</td>\n",
       "      <td>Finished Airing</td>\n",
       "      <td>Unknown</td>\n",
       "      <td>Sundays at 19:00 (JST)</td>\n",
       "      <td>Unknown</td>\n",
       "      <td>Nippon TV Douga</td>\n",
       "      <td>Adventure, Comedy, Fantasy</td>\n",
       "      <td>Anthropomorphic</td>\n",
       "      <td>Kids, Shounen</td>\n",
       "      <td>Manga</td>\n",
       "      <td>PG - Children</td>\n",
       "      <td>Doraemon (1973)</td>\n",
       "      <td>25.0</td>\n",
       "      <td>Nobita Nobi is so hapless that his 22nd centur...</td>\n",
       "      <td>Spring</td>\n",
       "      <td>1973</td>\n",
       "    </tr>\n",
       "    <tr>\n",
       "      <th>733</th>\n",
       "      <td>1138</td>\n",
       "      <td>https://myanimelist.net/anime/1138/Medarot</td>\n",
       "      <td>TV</td>\n",
       "      <td>52.0</td>\n",
       "      <td>Finished Airing</td>\n",
       "      <td>TV Tokyo, Nihon Ad Systems, Nelvana</td>\n",
       "      <td>Fridays at 18:00 (JST)</td>\n",
       "      <td>ADV Films, Discotek Media, Shout! Factory</td>\n",
       "      <td>Bee Train</td>\n",
       "      <td>Adventure, Comedy, Sci-Fi</td>\n",
       "      <td>Unknown</td>\n",
       "      <td>Kids, Shounen</td>\n",
       "      <td>Game</td>\n",
       "      <td>PG - Children</td>\n",
       "      <td>Medabots</td>\n",
       "      <td>24.0</td>\n",
       "      <td>dabots—powerful robots granted artificial inte...</td>\n",
       "      <td>Summer</td>\n",
       "      <td>1999</td>\n",
       "    </tr>\n",
       "    <tr>\n",
       "      <th>929</th>\n",
       "      <td>1572</td>\n",
       "      <td>https://myanimelist.net/anime/1572/Jungle_Taitei</td>\n",
       "      <td>TV</td>\n",
       "      <td>52.0</td>\n",
       "      <td>Finished Airing</td>\n",
       "      <td>Unknown</td>\n",
       "      <td>Unknown</td>\n",
       "      <td>Nozomi Entertainment, Media Blasters</td>\n",
       "      <td>Mushi Production</td>\n",
       "      <td>Adventure</td>\n",
       "      <td>Unknown</td>\n",
       "      <td>Kids, Shounen</td>\n",
       "      <td>Manga</td>\n",
       "      <td>G - All Ages</td>\n",
       "      <td>Kimba the White Lion</td>\n",
       "      <td>25.0</td>\n",
       "      <td>o the white lion was born on an ocean liner th...</td>\n",
       "      <td>Fall</td>\n",
       "      <td>1965</td>\n",
       "    </tr>\n",
       "    <tr>\n",
       "      <th>1419</th>\n",
       "      <td>2625</td>\n",
       "      <td>https://myanimelist.net/anime/2625/The%E2%98%8...</td>\n",
       "      <td>Movie</td>\n",
       "      <td>1.0</td>\n",
       "      <td>Finished Airing</td>\n",
       "      <td>Unknown</td>\n",
       "      <td>Unknown</td>\n",
       "      <td>Unknown</td>\n",
       "      <td>Shin-Ei Animation</td>\n",
       "      <td>Comedy, Fantasy, Sci-Fi</td>\n",
       "      <td>Unknown</td>\n",
       "      <td>Kids, Shounen</td>\n",
       "      <td>Unknown</td>\n",
       "      <td>PG - Children</td>\n",
       "      <td>The Doraemons: Kaitou Dorapin Nazo no Chousenjou!</td>\n",
       "      <td>31.0</td>\n",
       "      <td>The mysterious thief Dorapin sets up a scheme ...</td>\n",
       "      <td>Winter</td>\n",
       "      <td>1997</td>\n",
       "    </tr>\n",
       "    <tr>\n",
       "      <th>1431</th>\n",
       "      <td>2649</td>\n",
       "      <td>https://myanimelist.net/anime/2649/Doraemon__O...</td>\n",
       "      <td>Movie</td>\n",
       "      <td>1.0</td>\n",
       "      <td>Finished Airing</td>\n",
       "      <td>Unknown</td>\n",
       "      <td>Unknown</td>\n",
       "      <td>Unknown</td>\n",
       "      <td>Shin-Ei Animation</td>\n",
       "      <td>Award Winning, Comedy, Fantasy, Sci-Fi</td>\n",
       "      <td>Unknown</td>\n",
       "      <td>Kids, Shounen</td>\n",
       "      <td>Unknown</td>\n",
       "      <td>PG - Children</td>\n",
       "      <td>Doraemon: A Grandmother's Recollections</td>\n",
       "      <td>27.0</td>\n",
       "      <td>Nobita misses his granny that died a few years...</td>\n",
       "      <td>Winter</td>\n",
       "      <td>2000</td>\n",
       "    </tr>\n",
       "  </tbody>\n",
       "</table>\n",
       "</div>"
      ],
      "text/plain": [
       "      anime_id                                                url   type  \\\n",
       "371        501         https://myanimelist.net/anime/501/Doraemon     TV   \n",
       "733       1138         https://myanimelist.net/anime/1138/Medarot     TV   \n",
       "929       1572   https://myanimelist.net/anime/1572/Jungle_Taitei     TV   \n",
       "1419      2625  https://myanimelist.net/anime/2625/The%E2%98%8...  Movie   \n",
       "1431      2649  https://myanimelist.net/anime/2649/Doraemon__O...  Movie   \n",
       "\n",
       "     episodes           status                             producer  \\\n",
       "371      26.0  Finished Airing                              Unknown   \n",
       "733      52.0  Finished Airing  TV Tokyo, Nihon Ad Systems, Nelvana   \n",
       "929      52.0  Finished Airing                              Unknown   \n",
       "1419      1.0  Finished Airing                              Unknown   \n",
       "1431      1.0  Finished Airing                              Unknown   \n",
       "\n",
       "                   broadcast                                  licensors  \\\n",
       "371   Sundays at 19:00 (JST)                                    Unknown   \n",
       "733   Fridays at 18:00 (JST)  ADV Films, Discotek Media, Shout! Factory   \n",
       "929                  Unknown       Nozomi Entertainment, Media Blasters   \n",
       "1419                 Unknown                                    Unknown   \n",
       "1431                 Unknown                                    Unknown   \n",
       "\n",
       "                studios                                  genres  \\\n",
       "371     Nippon TV Douga              Adventure, Comedy, Fantasy   \n",
       "733           Bee Train               Adventure, Comedy, Sci-Fi   \n",
       "929    Mushi Production                               Adventure   \n",
       "1419  Shin-Ei Animation                 Comedy, Fantasy, Sci-Fi   \n",
       "1431  Shin-Ei Animation  Award Winning, Comedy, Fantasy, Sci-Fi   \n",
       "\n",
       "               themes    demographic   source         rating  \\\n",
       "371   Anthropomorphic  Kids, Shounen    Manga  PG - Children   \n",
       "733           Unknown  Kids, Shounen     Game  PG - Children   \n",
       "929           Unknown  Kids, Shounen    Manga   G - All Ages   \n",
       "1419          Unknown  Kids, Shounen  Unknown  PG - Children   \n",
       "1431          Unknown  Kids, Shounen  Unknown  PG - Children   \n",
       "\n",
       "                                                  title  duration_in_minutes  \\\n",
       "371                                     Doraemon (1973)                 25.0   \n",
       "733                                            Medabots                 24.0   \n",
       "929                                Kimba the White Lion                 25.0   \n",
       "1419  The Doraemons: Kaitou Dorapin Nazo no Chousenjou!                 31.0   \n",
       "1431            Doraemon: A Grandmother's Recollections                 27.0   \n",
       "\n",
       "                                               synopsis premiered_season  \\\n",
       "371   Nobita Nobi is so hapless that his 22nd centur...           Spring   \n",
       "733   dabots—powerful robots granted artificial inte...           Summer   \n",
       "929   o the white lion was born on an ocean liner th...             Fall   \n",
       "1419  The mysterious thief Dorapin sets up a scheme ...           Winter   \n",
       "1431  Nobita misses his granny that died a few years...           Winter   \n",
       "\n",
       "     premiered_year  \n",
       "371            1973  \n",
       "733            1999  \n",
       "929            1965  \n",
       "1419           1997  \n",
       "1431           2000  "
      ]
     },
     "execution_count": 201,
     "metadata": {},
     "output_type": "execute_result"
    }
   ],
   "source": [
    "anime_df[anime_df[\"demographic\"].isin([\"Kids, Shoujo\", \"Kids, Shounen\"])].head()"
   ]
  },
  {
   "cell_type": "markdown",
   "id": "091f64d5",
   "metadata": {},
   "source": [
    "Anything with kids in it will be set to a kids demographic, as the additional categories are used to distinguish those for boys (shounen) and those for girls (shoujo). Neither of which are of particular importance for this system."
   ]
  },
  {
   "cell_type": "code",
   "execution_count": 202,
   "id": "707f460d",
   "metadata": {},
   "outputs": [],
   "source": [
    "anime_df.loc[anime_df[\"demographic\"].isin([\"Kids, Shounen\", \"Kids, Shoujo\"]), [\"demographic\"]] = \"Kids\""
   ]
  },
  {
   "cell_type": "code",
   "execution_count": 203,
   "id": "86a39092",
   "metadata": {},
   "outputs": [],
   "source": [
    "import re"
   ]
  },
  {
   "cell_type": "markdown",
   "id": "f921161f",
   "metadata": {},
   "source": [
    "Clean title and synopsis"
   ]
  },
  {
   "cell_type": "code",
   "execution_count": 204,
   "id": "0678fcde",
   "metadata": {},
   "outputs": [],
   "source": [
    "anime_df[\"synopsis\"] = anime_df[\"synopsis\"].apply(lambda text: \\\n",
    "    re.sub(r'[^a-zA-Z0-9.,!?;:\\'\"()[\\]{}\\-–—_/\\&@#$%*+=<>\\s]', '', text))\n",
    "anime_df[\"title\"] = anime_df[\"title\"].apply(lambda text: \\\n",
    "    re.sub(r'[^a-zA-Z0-9.,!?;:\\'\"()[\\]{}\\-–—_/\\&@#$%*+=<>\\s]', '', text))"
   ]
  },
  {
   "cell_type": "markdown",
   "id": "514415e0",
   "metadata": {},
   "source": [
    "Store the dataframe"
   ]
  },
  {
   "cell_type": "code",
   "execution_count": 205,
   "id": "af4f1c6e",
   "metadata": {},
   "outputs": [],
   "source": [
    "anime_df.to_csv(\"E:\\\\applied data science capstone\\\\data\\\\combined\\\\anime-for-db-27-Jun\\\\anime_list_27_Jun.csv\", index=False)"
   ]
  },
  {
   "cell_type": "markdown",
   "id": "6e07db65",
   "metadata": {},
   "source": [
    "#### Anime Reviews"
   ]
  },
  {
   "cell_type": "markdown",
   "id": "d49f04d2",
   "metadata": {},
   "source": [
    "Used contents in **anime-narrowing/reviews.py** to retrieve the reviews for each anime"
   ]
  },
  {
   "cell_type": "code",
   "execution_count": 206,
   "id": "8159e2c6",
   "metadata": {},
   "outputs": [],
   "source": [
    "anime_reviews = pd.read_csv(\"E:\\\\applied data science capstone\\\\data\\\\combined\\\\anime-data-11-Jun\\\\anime_reviews_11_Jun.csv\")\n",
    "anime_reviews[\"review\"] = anime_reviews[\"review\"].apply(lambda text: \\\n",
    "    re.sub(r'[^a-zA-Z0-9.,!?;:\\'\"()[\\]{}\\-–—_/\\&@#$%*+=<>\\s]', '', str(text)))"
   ]
  },
  {
   "cell_type": "markdown",
   "id": "4d11c0d3",
   "metadata": {},
   "source": [
    "Utility class used in saving the reviews to a json file"
   ]
  },
  {
   "cell_type": "code",
   "execution_count": 207,
   "id": "635798f7",
   "metadata": {},
   "outputs": [],
   "source": [
    "import json\n",
    "import numpy as np\n",
    "\n",
    "class NumpyEncoder(json.JSONEncoder):\n",
    "    def default(self, obj):\n",
    "        if isinstance(obj, np.integer):\n",
    "            return int(obj)\n",
    "        elif isinstance(obj, np.floating):\n",
    "            return float(obj)\n",
    "        elif isinstance(obj, np.ndarray):\n",
    "            return obj.tolist()\n",
    "        return json.JSONEncoder.default(self, obj)"
   ]
  },
  {
   "cell_type": "code",
   "execution_count": 208,
   "id": "9722500e",
   "metadata": {},
   "outputs": [
    {
     "name": "stdout",
     "output_type": "stream",
     "text": [
      "Reviews successfully saved to E:\\applied data science capstone\\data\\combined\\anime-for-db-27-Jun\\anime_reviews.json\n"
     ]
    }
   ],
   "source": [
    "matching_reviews = anime_reviews[anime_reviews[\"anime_id\"].isin(anime_df[\"anime_id\"])]\n",
    "anime_ids = matching_reviews[\"anime_id\"].unique()\n",
    "\n",
    "reviews_collection = []\n",
    "for id in anime_ids:\n",
    "    title = anime_df.loc[anime_df[\"anime_id\"] == id, \"title\"].iloc[0]\n",
    "    reviewDict = {\"anime_id\": id, \"title\": title }\n",
    "    targetReviews = matching_reviews.loc[matching_reviews[\"anime_id\"] == id, :]\n",
    "    reviewsList = [{\"date\": row.date, \"review\": row.review, \"id\": row.mal_id} for row in targetReviews.itertuples()]\n",
    "    reviewDict[\"reviews\"] = reviewsList\n",
    "    reviews_collection += [reviewDict]\n",
    "\n",
    "filename = \"E:\\\\applied data science capstone\\\\data\\\\combined\\\\anime-for-db-27-Jun\\\\anime_reviews.json\"\n",
    "\n",
    "# Open the file in write mode and use json.dump()\n",
    "with open(filename, 'w') as file:\n",
    "    json.dump(reviews_collection, file, cls=NumpyEncoder)\n",
    "\n",
    "print(f\"Reviews successfully saved to {filename}\")"
   ]
  },
  {
   "cell_type": "markdown",
   "id": "0e60dae3",
   "metadata": {},
   "source": [
    "#### User Rating"
   ]
  },
  {
   "cell_type": "markdown",
   "id": "7e184074",
   "metadata": {},
   "source": [
    "Decided to use Hernan ratings as it was from a more recent dataset and there may have been overlap with some users and ratings. It is assumed that anime recommendations database 2020 had all the anime and ratings that would have been present in anime recommendations database. It also had no missing values and consists of 58 million records."
   ]
  },
  {
   "cell_type": "code",
   "execution_count": 209,
   "id": "4c355a01",
   "metadata": {},
   "outputs": [
    {
     "name": "stdout",
     "output_type": "stream",
     "text": [
      "<class 'pandas.core.frame.DataFrame'>\n",
      "RangeIndex: 57633278 entries, 0 to 57633277\n",
      "Data columns (total 3 columns):\n",
      " #   Column    Dtype\n",
      "---  ------    -----\n",
      " 0   user_id   int64\n",
      " 1   anime_id  int64\n",
      " 2   rating    int64\n",
      "dtypes: int64(3)\n",
      "memory usage: 1.3 GB\n"
     ]
    }
   ],
   "source": [
    "rating_df = pd.read_csv(\"E:\\\\applied data science capstone\\\\data\\\\hernan4444\\\\archive\\\\rating_complete.csv\")\n",
    "rating_df.info()"
   ]
  },
  {
   "cell_type": "markdown",
   "id": "cec5982a",
   "metadata": {},
   "source": [
    "Remove the reviews that were for anime not in the anime dataset after preparation."
   ]
  },
  {
   "cell_type": "code",
   "execution_count": 210,
   "id": "348ac8ac",
   "metadata": {},
   "outputs": [
    {
     "name": "stdout",
     "output_type": "stream",
     "text": [
      "<class 'pandas.core.frame.DataFrame'>\n",
      "Index: 44617516 entries, 0 to 57633277\n",
      "Data columns (total 3 columns):\n",
      " #   Column    Dtype\n",
      "---  ------    -----\n",
      " 0   user_id   int64\n",
      " 1   anime_id  int64\n",
      " 2   rating    int64\n",
      "dtypes: int64(3)\n",
      "memory usage: 1.3 GB\n"
     ]
    }
   ],
   "source": [
    "rating_df = rating_df[rating_df[\"anime_id\"].isin(anime_df[\"anime_id\"])]\n",
    "rating_df.info()"
   ]
  },
  {
   "cell_type": "markdown",
   "id": "f861622e",
   "metadata": {},
   "source": [
    "Save ratings data"
   ]
  },
  {
   "cell_type": "code",
   "execution_count": 211,
   "id": "dad12cfd",
   "metadata": {},
   "outputs": [],
   "source": [
    "rating_df.to_csv(\"E:\\\\applied data science capstone\\\\data\\\\combined\\\\anime-for-db-27-Jun\\\\anime_rating_15_Jun.csv\", \\\n",
    "    index=False)"
   ]
  },
  {
   "cell_type": "markdown",
   "id": "70aa2fc6",
   "metadata": {},
   "source": [
    "### Prepare data for relational database"
   ]
  },
  {
   "cell_type": "code",
   "execution_count": 212,
   "id": "b85b3f1d",
   "metadata": {},
   "outputs": [],
   "source": [
    "import itertools\n",
    "\n",
    "def extractTable(animeList, sourceAttribute, targetAttribute):\n",
    "    series = list(animeList[sourceAttribute].unique())\n",
    "    seriesExpanded = [item.split(\",\") for item in series]\n",
    "    seriesExpandedFlatlist = list(itertools.chain(*seriesExpanded))\n",
    "    seriesExpandedFlatlist = [item.strip() for item in seriesExpandedFlatlist]\n",
    "\n",
    "    series = pd.Series(seriesExpandedFlatlist, name=targetAttribute)\n",
    "    series = series.drop_duplicates()\n",
    "    series = series.sort_values()\n",
    "\n",
    "    df = pd.DataFrame(series)\n",
    "    df[\"{}_id\".format(targetAttribute)] = range(1, len(df) + 1)\n",
    "    return df\n",
    "\n",
    "def extractJoinsTable(animeList, secondaryTable, sourceAttribute, targetAttribute):\n",
    "    idAttribute = \"anime_id\"\n",
    "    joinsDf = pd.DataFrame(columns=[idAttribute, targetAttribute])\n",
    "    for i in animeList.index:\n",
    "        animeId = animeList.loc[i, [idAttribute]]\n",
    "        row = animeList.loc[i, [sourceAttribute]]\n",
    "        rowExpanded = [item.split(\",\") for item in row]\n",
    "        rowExpandedFlatlist = list(itertools.chain(*rowExpanded))\n",
    "        rowExpandedFlatlist = [item.strip() for item in rowExpandedFlatlist]\n",
    "        \n",
    "        for item in rowExpandedFlatlist:\n",
    "            joinsDf.loc[len(joinsDf)] = [animeId.get(idAttribute), item]\n",
    "    \n",
    "    mergedDf = joinsDf.merge(secondaryTable, how=\"inner\", suffixes=[\"_left\", \"_right\"])\n",
    "    mergedDf = mergedDf.drop(columns=[targetAttribute])\n",
    "    return mergedDf"
   ]
  },
  {
   "cell_type": "markdown",
   "id": "d4f64946",
   "metadata": {},
   "source": [
    "Extract tables and joins tables"
   ]
  },
  {
   "cell_type": "code",
   "execution_count": 213,
   "id": "a7062733",
   "metadata": {},
   "outputs": [],
   "source": [
    "producers = extractTable(anime_df, \"producer\", \"producer\")\n",
    "producersJoin = extractJoinsTable(anime_df, producers, \"producer\", \"producer\")\n",
    "licensors = extractTable(anime_df, \"licensors\", \"licensor\")\n",
    "licensorsJoin = extractJoinsTable(anime_df, licensors, \"licensors\", \"licensor\")\n",
    "studios = extractTable(anime_df, \"studios\", \"studio\")\n",
    "studiosJoin = extractJoinsTable(anime_df, studios, \"studios\", \"studio\")\n",
    "genres = extractTable(anime_df, \"genres\", \"genre\")\n",
    "genresJoin = extractJoinsTable(anime_df, genres, \"genres\", \"genre\")\n",
    "themes = extractTable(anime_df, \"themes\", \"theme\")\n",
    "themesJoin = extractJoinsTable(anime_df, themes, \"themes\", \"theme\")\n",
    "\n",
    "df_for_db = anime_df.drop(columns=[\"licensors\", \"studios\", \"genres\", \"themes\", \"producer\"])"
   ]
  },
  {
   "cell_type": "markdown",
   "id": "712c4711",
   "metadata": {},
   "source": [
    "Store data in csv files for later writing to database"
   ]
  },
  {
   "cell_type": "code",
   "execution_count": 214,
   "id": "84349cc9",
   "metadata": {},
   "outputs": [],
   "source": [
    "df_for_db.to_csv(\"E:\\\\applied data science capstone\\\\data\\\\combined\\\\anime-for-db-27-Jun\\\\anime_list_27_Jun.csv\", index=False)\n",
    "producers.to_csv(\"E:\\\\applied data science capstone\\\\data\\\\combined\\\\anime-for-db-27-Jun\\\\producers_27_Jun.csv\", index=False)\n",
    "licensors.to_csv(\"E:\\\\applied data science capstone\\\\data\\\\combined\\\\anime-for-db-27-Jun\\\\licensors_27_Jun.csv\", index=False)\n",
    "studios.to_csv(\"E:\\\\applied data science capstone\\\\data\\\\combined\\\\anime-for-db-27-Jun\\\\studios_27_Jun.csv\", index=False)\n",
    "genres.to_csv(\"E:\\\\applied data science capstone\\\\data\\\\combined\\\\anime-for-db-27-Jun\\\\genres_27_Jun.csv\", index=False)\n",
    "themes.to_csv(\"E:\\\\applied data science capstone\\\\data\\\\combined\\\\anime-for-db-27-Jun\\\\themes_27_Jun.csv\", index=False)\n",
    "producersJoin.to_csv(\"E:\\\\applied data science capstone\\\\data\\\\combined\\\\anime-for-db-27-Jun\\\\anime_producer_27_Jun.csv\", index=False)\n",
    "licensorsJoin.to_csv(\"E:\\\\applied data science capstone\\\\data\\\\combined\\\\anime-for-db-27-Jun\\\\anime_licensors_27_Jun.csv\", index=False)\n",
    "studiosJoin.to_csv(\"E:\\\\applied data science capstone\\\\data\\\\combined\\\\anime-for-db-27-Jun\\\\anime_studios_27_Jun.csv\", index=False)\n",
    "genresJoin.to_csv(\"E:\\\\applied data science capstone\\\\data\\\\combined\\\\anime-for-db-27-Jun\\\\anime_genres_27_Jun.csv\", index=False)\n",
    "themesJoin.to_csv(\"E:\\\\applied data science capstone\\\\data\\\\combined\\\\anime-for-db-27-Jun\\\\anime_themes_27_Jun.csv\", index=False)"
   ]
  }
 ],
 "metadata": {
  "kernelspec": {
   "display_name": ".venv",
   "language": "python",
   "name": "python3"
  },
  "language_info": {
   "codemirror_mode": {
    "name": "ipython",
    "version": 3
   },
   "file_extension": ".py",
   "mimetype": "text/x-python",
   "name": "python",
   "nbconvert_exporter": "python",
   "pygments_lexer": "ipython3",
   "version": "3.12.2"
  }
 },
 "nbformat": 4,
 "nbformat_minor": 5
}
