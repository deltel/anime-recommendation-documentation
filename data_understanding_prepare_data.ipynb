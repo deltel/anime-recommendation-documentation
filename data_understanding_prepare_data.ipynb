{
 "cells": [
  {
   "cell_type": "markdown",
   "id": "ea0a8f31",
   "metadata": {},
   "source": [
    "## Prepare Data"
   ]
  },
  {
   "cell_type": "markdown",
   "id": "1429df35",
   "metadata": {},
   "source": [
    "### Anime Recommendations Database"
   ]
  },
  {
   "cell_type": "markdown",
   "id": "da268d4a",
   "metadata": {},
   "source": [
    "#### Anime Listing"
   ]
  },
  {
   "cell_type": "code",
   "execution_count": 2,
   "id": "ce260f28",
   "metadata": {},
   "outputs": [],
   "source": [
    "import pandas as pd\n",
    "cuAnime = pd.read_csv(\"E:\\\\applied data science capstone\\\\data\\\\CooperUnion\\\\archive\\\\anime.csv\")"
   ]
  },
  {
   "cell_type": "code",
   "execution_count": 3,
   "id": "56179a24",
   "metadata": {},
   "outputs": [
    {
     "data": {
      "application/vnd.microsoft.datawrangler.viewer.v0+json": {
       "columns": [
        {
         "name": "index",
         "rawType": "object",
         "type": "string"
        },
        {
         "name": "count",
         "rawType": "float64",
         "type": "float"
        }
       ],
       "ref": "9f5a783e-fac1-4dc4-ae74-2abd07bfc4b1",
       "rows": [
        [
         "count",
         "2197.0"
        ],
        [
         "mean",
         "2.7783340919435595"
        ],
        [
         "std",
         "8.551703052160956"
        ],
        [
         "min",
         "1.0"
        ],
        [
         "25%",
         "1.0"
        ],
        [
         "50%",
         "1.0"
        ],
        [
         "75%",
         "2.0"
        ],
        [
         "max",
         "251.0"
        ]
       ],
       "shape": {
        "columns": 1,
        "rows": 8
       }
      },
      "text/html": [
       "<div>\n",
       "<style scoped>\n",
       "    .dataframe tbody tr th:only-of-type {\n",
       "        vertical-align: middle;\n",
       "    }\n",
       "\n",
       "    .dataframe tbody tr th {\n",
       "        vertical-align: top;\n",
       "    }\n",
       "\n",
       "    .dataframe thead th {\n",
       "        text-align: right;\n",
       "    }\n",
       "</style>\n",
       "<table border=\"1\" class=\"dataframe\">\n",
       "  <thead>\n",
       "    <tr style=\"text-align: right;\">\n",
       "      <th></th>\n",
       "      <th>count</th>\n",
       "    </tr>\n",
       "  </thead>\n",
       "  <tbody>\n",
       "    <tr>\n",
       "      <th>count</th>\n",
       "      <td>2197.000000</td>\n",
       "    </tr>\n",
       "    <tr>\n",
       "      <th>mean</th>\n",
       "      <td>2.778334</td>\n",
       "    </tr>\n",
       "    <tr>\n",
       "      <th>std</th>\n",
       "      <td>8.551703</td>\n",
       "    </tr>\n",
       "    <tr>\n",
       "      <th>min</th>\n",
       "      <td>1.000000</td>\n",
       "    </tr>\n",
       "    <tr>\n",
       "      <th>25%</th>\n",
       "      <td>1.000000</td>\n",
       "    </tr>\n",
       "    <tr>\n",
       "      <th>50%</th>\n",
       "      <td>1.000000</td>\n",
       "    </tr>\n",
       "    <tr>\n",
       "      <th>75%</th>\n",
       "      <td>2.000000</td>\n",
       "    </tr>\n",
       "    <tr>\n",
       "      <th>max</th>\n",
       "      <td>251.000000</td>\n",
       "    </tr>\n",
       "  </tbody>\n",
       "</table>\n",
       "</div>"
      ],
      "text/plain": [
       "             count\n",
       "count  2197.000000\n",
       "mean      2.778334\n",
       "std       8.551703\n",
       "min       1.000000\n",
       "25%       1.000000\n",
       "50%       1.000000\n",
       "75%       2.000000\n",
       "max     251.000000"
      ]
     },
     "execution_count": 3,
     "metadata": {},
     "output_type": "execute_result"
    }
   ],
   "source": [
    "# remove hentai genre and filter for tv and movie in the type feature\n",
    "no_hentai_df = cuAnime.loc[cuAnime[\"genre\"] != \"Hentai\", :]\n",
    "cu_anime_df = no_hentai_df.loc[~no_hentai_df[\"type\"].isin([\"Music\", \"ONA\", \"OVA\", \"Special\"]), :]\n",
    "\n",
    "genre_df = cu_anime_df[\"genre\"].value_counts().to_frame()\n",
    "genre_df = genre_df.reset_index()\n",
    "genre_df.describe()"
   ]
  },
  {
   "cell_type": "code",
   "execution_count": 4,
   "id": "e9c5a209",
   "metadata": {},
   "outputs": [
    {
     "data": {
      "application/vnd.microsoft.datawrangler.viewer.v0+json": {
       "columns": [
        {
         "name": "index",
         "rawType": "int64",
         "type": "integer"
        },
        {
         "name": "genre",
         "rawType": "object",
         "type": "string"
        },
        {
         "name": "count",
         "rawType": "int64",
         "type": "integer"
        }
       ],
       "ref": "1db1e5e4-7d1a-4c23-92e6-b7ac3332a634",
       "rows": [
        [
         "0",
         "Comedy",
         "251"
        ],
        [
         "1",
         "Kids",
         "135"
        ],
        [
         "2",
         "Dementia",
         "124"
        ],
        [
         "3",
         "Comedy, Slice of Life",
         "98"
        ],
        [
         "4",
         "Comedy, Kids",
         "86"
        ]
       ],
       "shape": {
        "columns": 2,
        "rows": 5
       }
      },
      "text/html": [
       "<div>\n",
       "<style scoped>\n",
       "    .dataframe tbody tr th:only-of-type {\n",
       "        vertical-align: middle;\n",
       "    }\n",
       "\n",
       "    .dataframe tbody tr th {\n",
       "        vertical-align: top;\n",
       "    }\n",
       "\n",
       "    .dataframe thead th {\n",
       "        text-align: right;\n",
       "    }\n",
       "</style>\n",
       "<table border=\"1\" class=\"dataframe\">\n",
       "  <thead>\n",
       "    <tr style=\"text-align: right;\">\n",
       "      <th></th>\n",
       "      <th>genre</th>\n",
       "      <th>count</th>\n",
       "    </tr>\n",
       "  </thead>\n",
       "  <tbody>\n",
       "    <tr>\n",
       "      <th>0</th>\n",
       "      <td>Comedy</td>\n",
       "      <td>251</td>\n",
       "    </tr>\n",
       "    <tr>\n",
       "      <th>1</th>\n",
       "      <td>Kids</td>\n",
       "      <td>135</td>\n",
       "    </tr>\n",
       "    <tr>\n",
       "      <th>2</th>\n",
       "      <td>Dementia</td>\n",
       "      <td>124</td>\n",
       "    </tr>\n",
       "    <tr>\n",
       "      <th>3</th>\n",
       "      <td>Comedy, Slice of Life</td>\n",
       "      <td>98</td>\n",
       "    </tr>\n",
       "    <tr>\n",
       "      <th>4</th>\n",
       "      <td>Comedy, Kids</td>\n",
       "      <td>86</td>\n",
       "    </tr>\n",
       "  </tbody>\n",
       "</table>\n",
       "</div>"
      ],
      "text/plain": [
       "                   genre  count\n",
       "0                 Comedy    251\n",
       "1                   Kids    135\n",
       "2               Dementia    124\n",
       "3  Comedy, Slice of Life     98\n",
       "4           Comedy, Kids     86"
      ]
     },
     "execution_count": 4,
     "metadata": {},
     "output_type": "execute_result"
    }
   ],
   "source": [
    "genre_df.head()"
   ]
  },
  {
   "cell_type": "code",
   "execution_count": 6,
   "id": "face47bf",
   "metadata": {},
   "outputs": [],
   "source": [
    "import plotly.express as px"
   ]
  },
  {
   "cell_type": "markdown",
   "id": "cde449ea",
   "metadata": {},
   "source": [
    "Hentai is no longer in the genre"
   ]
  },
  {
   "cell_type": "code",
   "execution_count": 7,
   "id": "a10cd075",
   "metadata": {},
   "outputs": [
    {
     "data": {
      "application/vnd.plotly.v1+json": {
       "config": {
        "plotlyServerURL": "https://plot.ly"
       },
       "data": [
        {
         "branchvalues": "total",
         "domain": {
          "x": [
           0,
           1
          ],
          "y": [
           0,
           1
          ]
         },
         "hovertemplate": "labels=%{label}<br>count=%{value}<br>parent=%{parent}<br>id=%{id}<extra></extra>",
         "ids": [
          "Comedy",
          "Kids",
          "Dementia",
          "Comedy, Slice of Life",
          "Comedy, Kids",
          "Comedy, Fantasy, Kids",
          "Fantasy",
          "Drama",
          "Adventure",
          "Adventure, Kids",
          "Historical",
          "Action, Mecha, Sci-Fi",
          "Adventure, Fantasy",
          "Fantasy, Kids",
          "Adventure, Fantasy, Kids",
          "Drama, Historical",
          "Comedy, School, Slice of Life",
          "Slice of Life",
          "Adventure, Comedy",
          "Music",
          "Adventure, Comedy, Kids",
          "Adventure, Mecha, Sci-Fi, Shounen",
          "Sports",
          "Comedy, Seinen, Slice of Life",
          "Action",
          "Comedy, Sci-Fi",
          "Adventure, Comedy, Fantasy, Kids",
          "Comedy, Fantasy",
          "Action, Adventure, Comedy, Shounen",
          "Kids, Slice of Life",
          "Adventure, Comedy, Fantasy",
          "Comedy, Sports",
          "Adventure, Sci-Fi",
          "Action, Adventure, Sci-Fi",
          "Action, Shounen, Sports",
          "Comedy, Parody",
          "Shounen, Sports",
          "Comedy, Sci-Fi, Shounen",
          "Sci-Fi",
          "Comedy, Ecchi, Kids, School, Shounen, Slice of Life",
          "Action, Sci-Fi",
          "Mecha, Sci-Fi",
          "Comedy, Kids, Slice of Life",
          "Drama, Historical, Slice of Life",
          "Comedy, Supernatural",
          "Adventure, Comedy, Fantasy, Kids, Shounen",
          "Adventure, Comedy, Mystery, Police, Shounen",
          "Action, Fantasy",
          "Comedy, Music",
          "Drama, Sports",
          "Comedy, Drama, Slice of Life",
          "Action, Adventure, Fantasy",
          "Historical, Kids",
          "Action, Adventure, Mecha, Sci-Fi",
          "Action, Mecha, Sci-Fi, Shounen",
          "Kids, Music",
          "Action, Adventure, Mecha, Sci-Fi, Shounen",
          "Comedy, Drama, Shounen, Sports",
          "Action, Adventure, Fantasy, Magic, Shounen",
          "Action, Adventure, Comedy, Fantasy, Kids",
          "Action, Comedy, Shounen, Sports",
          "Action, Mecha, Sci-Fi, Space",
          "Comedy, Magic, Shoujo",
          "Kids, Sports",
          "Dementia, Music",
          "Supernatural",
          "Adventure, Comedy, Fantasy, Sci-Fi, Shounen",
          "Comedy, Magic",
          "Comedy, Shounen",
          "Fantasy, Historical",
          "Comedy, School, Seinen, Slice of Life",
          "Magic",
          "Psychological",
          "Adventure, Comedy, Fantasy, Kids, Magic",
          "Drama, Slice of Life",
          "Action, Comedy",
          "Comedy, Historical",
          "Adventure, Drama",
          "Comedy, Drama, Romance",
          "Comedy, Romance, School, Slice of Life",
          "Action, Drama, Mecha, Military, Sci-Fi, Space",
          "Comedy, School",
          "Comedy, Parody, Super Power",
          "Comedy, School, Shounen, Sports",
          "Action, Adventure",
          "Action, Game, Shounen",
          "Adventure, Comedy, Fantasy, Horror, Supernatural",
          "Comedy, School, Shounen, Slice of Life",
          "Game",
          "Adventure, Comedy, Fantasy, Magic, Shounen",
          "Action, Adventure, Sci-Fi, Space",
          "Comedy, Fantasy, Magic",
          "Action, Super Power, Supernatural",
          "Music, School, Slice of Life",
          "Action, Adventure, Sci-Fi, Shounen",
          "Action, Sci-Fi, Super Power",
          "Action, Adventure, Comedy, Fantasy, Shounen",
          "Magic, Shoujo",
          "Comedy, Dementia",
          "Adventure, Drama, Fantasy",
          "Action, Adventure, Fantasy, Magic",
          "Comedy, Shounen, Sports",
          "Action, Comedy, Historical, Parody, Samurai, Sci-Fi, Shounen",
          "Comedy, Drama, School, Shounen, Sports",
          "Comedy, Mystery, Super Power",
          "Mystery",
          "Fantasy, Magic, Shoujo",
          "Comedy, Romance, School",
          "Music, School, Shoujo, Slice of Life",
          "Sci-Fi, Space",
          "Comedy, Fantasy, Slice of Life",
          "Adventure, Drama, Historical, Slice of Life",
          "Adventure, Drama, Sci-Fi",
          "Drama, Romance, Slice of Life",
          "Action, Drama, Military, Sci-Fi, Space",
          "Action, Comedy, Sci-Fi",
          "Action, Adventure, Comedy",
          "Comedy, Drama, Romance, Shounen Ai",
          "Action, Comedy, Mystery, Shounen",
          "Action, Fantasy, Magic, Shoujo",
          "Action, Drama, Sports",
          "Fantasy, Kids, Magic, Shoujo",
          "Adventure, Comedy, Drama, Fantasy, Kids",
          "Comedy, Romance",
          "Horror",
          "Comedy, Ecchi, Harem, Romance, School",
          "Action, Mecha, Sci-Fi, Super Power",
          "Action, Mecha, Military",
          "Action, Adventure, Mecha",
          "Action, Adventure, Kids",
          "Comedy, Drama",
          "Cars, Shounen, Sports",
          "Action, Adventure, Comedy, Drama, Romance, Sci-Fi",
          "Adventure, Shounen",
          "Action, Adventure, Comedy, Fantasy, Shounen, Super Power",
          "Action, Mecha",
          "Adventure, Fantasy, Historical",
          "Mecha",
          "Drama, Music",
          "Adventure, Comedy, Shounen",
          "School, Shounen, Sports",
          "Action, Mecha, Military, Music, Romance, Sci-Fi, Space",
          "Comedy, Kids, Supernatural",
          "Fantasy, Slice of Life",
          "Action, Adventure, Shounen, Super Power",
          "Comedy, Shoujo, Slice of Life",
          "Shounen, Sports, Super Power",
          "Action, Adventure, Comedy, Drama, Fantasy, Kids",
          "Dementia, Horror",
          "Action, Fantasy, Sci-Fi",
          "Adventure, Historical",
          "Action, Horror, Sci-Fi",
          "Adventure, Fantasy, Shounen, Supernatural",
          "Historical, Military",
          "Action, Adventure, Comedy, Fantasy",
          "Comedy, Romance, School, Shoujo",
          "Adventure, Comedy, Fantasy, Kids, Sci-Fi, Shounen",
          "Adventure, Sci-Fi, Shounen",
          "Comedy, Romance, Slice of Life",
          "Action, Comedy, Martial Arts, Shounen, Super Power",
          "Comedy, Ecchi, School",
          "Action, Comedy, Drama, Magic, Super Power",
          "Adventure, Drama, Historical, Romance",
          "Adventure, Drama, Historical",
          "Action, Adventure, Comedy, Fantasy, Martial Arts, Shounen, Super Power",
          "Drama, Mecha, Military, Sci-Fi, Space",
          "Adventure, Comedy, Sci-Fi, Shounen",
          "Adventure, Fantasy, Sci-Fi, Shounen",
          "Action, Adventure, Comedy, Drama",
          "Adventure, Drama, Sci-Fi, Space",
          "Action, Sci-Fi, Seinen",
          "Action, Fantasy, Supernatural",
          "Action, Adventure, Fantasy, Kids",
          "Action, Adventure, Fantasy, Shounen",
          "Comedy, Historical, Kids",
          "Music, Shoujo",
          "Comedy, Parody, School",
          "Drama, Magic, Psychological, Thriller",
          "Comedy, School, Seinen",
          "Drama, Shoujo, Slice of Life",
          "Drama, Kids",
          "Drama, Fantasy",
          "Action, Fantasy, Magic, Supernatural",
          "Drama, Sci-Fi",
          "Drama, Fantasy, Kids",
          "Action, Mecha, Military, Sci-Fi",
          "Kids, Magic",
          "Comedy, Drama, Romance, School, Slice of Life",
          "Drama, Shoujo, Sports",
          "Action, Mystery, Police, Shounen",
          "Mecha, Sci-Fi, Shounen",
          "Comedy, School, Shounen",
          "Action, Drama, Mecha, Sci-Fi",
          "Fantasy, Magic",
          "Action, Kids",
          "Action, Mecha, Shounen",
          "Drama, Romance, School",
          "Comedy, Kids, Shounen",
          "Drama, Fantasy, Romance",
          "Comedy, Fantasy, Magic, Shoujo",
          "Comedy, Drama, Romance, School",
          "Action, Adventure, Demons, Game, Shounen",
          "School",
          "Comedy, Drama, Romance, Shoujo",
          "Action, Comedy, Fantasy, Magic, Shoujo",
          "Comedy, Sci-Fi, Space",
          "Action, Music, Sci-Fi",
          "Comedy, Drama, Romance, Slice of Life",
          "Action, Cars, Drama, Seinen, Sports",
          "Comedy, Kids, School, Slice of Life",
          "Adventure, Comedy, Fantasy, Shounen",
          "Adventure, Mecha, Sci-Fi",
          "Action, Adventure, Drama, Military, Sci-Fi, Space",
          "Adventure, Sports",
          "Comedy, Shoujo",
          "Adventure, Fantasy, Shounen",
          "Action, Adventure, Comedy, Mecha, Sci-Fi",
          "Drama, Romance, Sports",
          "Comedy, Shounen, Slice of Life",
          "Action, Fantasy, Historical, Martial Arts",
          "Action, Drama, Historical, Josei, Samurai, Supernatural",
          "Drama, Fantasy, Shoujo, Slice of Life, Supernatural",
          "Mecha, Police, Psychological, Sci-Fi",
          "Action, Fantasy, Mecha, Military, Shounen",
          "Cars, Kids",
          "Action, Adventure, Drama, Sci-Fi, Space",
          "Comedy, Ecchi",
          "Fantasy, Kids, Magic",
          "Action, Horror, Mystery, Seinen, Supernatural",
          "Comedy, Romance, Supernatural",
          "Action, Adventure, Comedy, Fantasy, Magic, Shounen",
          "Action, Drama, Shounen",
          "Action, Drama, Mecha, Military, Sci-Fi",
          "Adventure, Comedy, Mecha, Sci-Fi",
          "Action, Drama, Mecha, Sci-Fi, Shounen",
          "Music, Shoujo, Sports",
          "Action, Comedy, Martial Arts, School, Shounen",
          "Action, Adventure, Comedy, Drama, Fantasy, Shounen",
          "Adventure, Kids, Slice of Life",
          "Drama, Historical, Romance",
          "Comedy, Josei, Slice of Life",
          "Action, Comedy, Fantasy",
          "Adventure, Comedy, Ecchi, Fantasy, Magic, School",
          "Action, Adventure, Shounen",
          "Historical, Music",
          "Comedy, Drama, Romance, School, Shounen, Slice of Life",
          "Comedy, Parody, Slice of Life",
          "Adventure, Comedy, Mystery, Shounen",
          "Comedy, Seinen",
          "Adventure, Fantasy, Historical, Romance",
          "Adventure, Comedy, Drama",
          "Comedy, Music, Slice of Life",
          "Kids, Sci-Fi",
          "Demons, Historical, Supernatural",
          "Comedy, Romance, Shoujo",
          "Comedy, Historical, Parody",
          "Comedy, Mystery, Supernatural",
          "Action, Adventure, Comedy, Sci-Fi, Shounen, Sports",
          "Action, Military, Sci-Fi",
          "Action, Mystery, Supernatural",
          "Adventure, Comedy, Mecha",
          "Magic, School, Shoujo",
          "Comedy, Drama, Harem, Romance, Slice of Life",
          "Comedy, Drama, Music",
          "Ecchi",
          "Action, Drama, Fantasy, Shounen, Super Power",
          "Comedy, Parody, School, Seinen",
          "Action, Comedy, Mecha, Sci-Fi",
          "Comedy, Kids, Sci-Fi",
          "Action, Ecchi, Magic, Military, Sci-Fi",
          "Comedy, Romance, Sci-Fi",
          "Comedy, Harem, Romance, School",
          "Action, Adventure, Sci-Fi, Shounen, Super Power",
          "Comedy, Historical, Seinen",
          "Drama, Magic, Shoujo",
          "Drama, Fantasy, Magic, Slice of Life",
          "Action, Historical, Martial Arts, Samurai, Super Power",
          "Comedy, Ecchi, School, Sports",
          "Action, Historical",
          "Comedy, Kids, School, Sci-Fi, Slice of Life",
          "Adventure, Historical, Romance",
          "Action, Comedy, Fantasy, Magic",
          "Drama, Romance, Slice of Life, Supernatural",
          "Action, Fantasy, Seinen, Supernatural",
          "Action, Drama",
          "Adventure, Fantasy, Historical, Mystery, Seinen, Slice of Life, Supernatural",
          "Comedy, Fantasy, Sci-Fi",
          "Mystery, Shounen",
          "Comedy, School, Shounen, Supernatural",
          "Drama, Romance, Shoujo",
          "Comedy, Mecha, Police, Sci-Fi",
          "Comedy, Parody, Sci-Fi",
          "Dementia, Horror, Supernatural",
          "Action, Sci-Fi, Space",
          "Action, Sci-Fi, Shounen",
          "Adventure, Comedy, Magic, Romance, Shoujo",
          "Comedy, Drama, School, Shounen, Slice of Life, Sports",
          "Drama, School, Slice of Life",
          "Comedy, Ecchi, Harem, Romance",
          "Drama, Historical, Shoujo, Slice of Life",
          "Action, Adventure, Drama, Mecha, Sci-Fi, Shounen",
          "Adventure, Comedy, Historical",
          "Game, Psychological",
          "Comedy, Romance, School, Shounen",
          "Comedy, Magic, School, Shoujo",
          "Historical, Slice of Life",
          "Drama, Shounen, Sports",
          "Sci-Fi, Thriller",
          "Fantasy, Music",
          "Action, Adventure, Comedy, Ecchi, Fantasy, Harem, Magic, Romance, School",
          "Action, School, Sports",
          "Action, Mecha, Shounen, Space",
          "Comedy, Harem, Romance",
          "Action, Adventure, Kids, Sci-Fi",
          "Adventure, Shounen, Supernatural",
          "Romance, School, Shoujo",
          "Adventure, Comedy, Kids, Super Power",
          "Drama, Historical, Romance, Shoujo",
          "Comedy, Drama, Romance, Shounen",
          "Action, Comedy, School, Shounen",
          "Fantasy, Sci-Fi, Shounen, Slice of Life",
          "Drama, Slice of Life, Supernatural",
          "Adventure, Supernatural",
          "Comedy, Magic, Romance, Seinen, Supernatural",
          "Action, Adventure, Shounen, Supernatural",
          "Comedy, Romance, Shoujo, Slice of Life",
          "Kids, Magic, Shoujo",
          "Action, Comedy, School",
          "Comedy, Romance, School, Seinen, Slice of Life",
          "Adventure, Comedy, Drama, Fantasy, Shounen",
          "Adventure, Fantasy, Kids, Sci-Fi, Shounen",
          "Comedy, Drama, Romance, School, Slice of Life, Supernatural",
          "Shounen",
          "Comedy, Drama, Mystery, Psychological, Supernatural",
          "Game, Psychological, Seinen, Thriller",
          "Adventure, Drama, Fantasy, Historical",
          "Action, Seinen",
          "Comedy, Harem, Romance, Shounen, Supernatural",
          "Cars, Seinen, Sports",
          "Action, Drama, Shounen, Sports",
          "Adventure, Comedy, Mystery",
          "Sci-Fi, Slice of Life",
          "Action, Psychological, Sci-Fi",
          "Action, Comedy, Ecchi, Martial Arts, School, Shounen, Super Power",
          "Action, Comedy, Mecha",
          "Action, Kids, Mecha",
          "Action, Adventure, Mecha, Police, Sci-Fi",
          "Comedy, Kids, Sci-Fi, Shounen",
          "Action, Comedy, Mystery, Super Power",
          "Adventure, Comedy, Fantasy, Magic",
          "Horror, Mystery, Psychological, Supernatural",
          "Action, Comedy, Ecchi, Harem, Super Power",
          "Action, Fantasy, Game, Shounen",
          "Comedy, School, Shoujo Ai, Slice of Life",
          "Comedy, Fantasy, Kids, Sci-Fi, Shounen",
          "Comedy, Drama, Seinen, Slice of Life",
          "Adventure, Comedy, Fantasy, Supernatural",
          "Comedy, Drama, Shoujo",
          "Adventure, Comedy, Fantasy, Magic, School",
          "Action, Adventure, Samurai",
          "Drama, Harem, Romance, School",
          "Action, Comedy, Parody",
          "Action, Supernatural, Vampire",
          "Action, Adventure, Fantasy, Military",
          "Adventure, Mecha, Sci-Fi, Shounen, Space",
          "Action, Mecha, Space",
          "Action, Military, Romance, Sci-Fi, Space",
          "Action, Comedy, Shounen, Super Power, Supernatural",
          "Action, Horror, Mystery, Psychological",
          "Drama, Romance, Sci-Fi",
          "Action, Mecha, Sci-Fi, Seinen, Space",
          "Action, Adventure, Fantasy, Sci-Fi",
          "Game, School, Slice of Life",
          "Action, Demons, Fantasy, Shounen, Supernatural",
          "Comedy, Romance, Seinen",
          "Comedy, Harem, Romance, School, Shounen",
          "Music, School",
          "Drama, Mecha, Sci-Fi, Space",
          "Comedy, Magic, School, Slice of Life",
          "Action, Game, Mystery, Shounen",
          "Drama, Magic, Romance, Shoujo",
          "Action, Mecha, Military, Sci-Fi, Space",
          "Action, Adventure, Drama, Mecha, Military, Sci-Fi, Space",
          "Drama, Historical, Military",
          "Harem, Romance, School",
          "Comedy, Ecchi, Romance, School, Seinen",
          "Comedy, Fantasy, Magic, Romance, School, Shoujo",
          "Adventure, Fantasy, Kids, Shounen",
          "Comedy, Fantasy, Supernatural",
          "Action, Martial Arts, Super Power",
          "Action, Adventure, Martial Arts, Shounen, Super Power",
          "Action, Magic, Sci-Fi, Super Power",
          "Action, Adventure, Fantasy, Game, Romance",
          "Demons, Magic, Romance, Shoujo",
          "Adventure, Comedy, Kids, Sci-Fi",
          "Adventure, Fantasy, Romance",
          "Comedy, Harem, Music, Romance, School, Shoujo",
          "Action, Adventure, Comedy, Fantasy, Sci-Fi, Shounen, Super Power",
          "Music, Shoujo, Slice of Life, Sports",
          "Drama, Supernatural",
          "Action, Comedy, Drama, Magic, Seinen",
          "Action, Comedy, Police, Shounen",
          "Action, Drama, Fantasy, Sci-Fi",
          "Drama, Military",
          "Action, Adventure, Demons, Fantasy, Magic, Supernatural",
          "Comedy, Romance, School, Shoujo, Slice of Life",
          "Action, Comedy, Fantasy, Game, Shounen",
          "Action, Demons, Fantasy, Magic, Supernatural",
          "Drama, Romance",
          "Adventure, Comedy, Slice of Life",
          "Drama, Romance, Supernatural",
          "Comedy, Romance, School, Shounen, Supernatural",
          "Action, Drama, Fantasy, Horror",
          "Comedy, Ecchi, Romance, School, Shounen",
          "Action, Shounen",
          "Comedy, Magic, Parody",
          "Adventure, Comedy, Fantasy, Mecha, Shounen",
          "Adventure, Comedy, Mecha, Sci-Fi, Shounen",
          "Drama, Military, Sci-Fi, Space",
          "Drama, Romance, School, Shoujo, Sports",
          "Action, Sports",
          "Adventure, Drama, Slice of Life",
          "Action, Military, School, Sci-Fi, Slice of Life",
          "Action, Adventure, Comedy, Sci-Fi",
          "Action, Comedy, Martial Arts, Sci-Fi, Shounen, Sports",
          "Adventure, Drama, Fantasy, Sci-Fi",
          "Comedy, Demons, Horror, Mystery, Supernatural, Vampire",
          "School, Sports",
          "Parody, School, Slice of Life",
          "Comedy, Sci-Fi, Slice of Life",
          "Action, Comedy, Sci-Fi, Shounen",
          "Adventure, Comedy, Sports",
          "Comedy, School, Slice of Life, Supernatural",
          "Comedy, Ecchi, Harem, Romance, Sci-Fi",
          "Adventure, Cars, Shounen, Sports",
          "Action, Comedy, Ecchi, Sci-Fi",
          "Historical, Supernatural",
          "Comedy, Magic, Shoujo, Slice of Life",
          "Sci-Fi, Shounen",
          "Action, Adventure, Ecchi, Fantasy",
          "Adventure, Demons, Fantasy",
          "Action, Comedy, Parody, Sci-Fi",
          "Action, Fantasy, Magic",
          "Action, Historical, Mecha",
          "Action, Adventure, Mecha, Sci-Fi, Shounen, Space",
          "Action, Ecchi, Martial Arts, School, Super Power",
          "Fantasy, Sci-Fi",
          "Adventure, Fantasy, Horror, Magic, Supernatural",
          "Comedy, Mystery",
          "Comedy, Ecchi, Game",
          "Fantasy, Horror, Supernatural",
          "Fantasy, Kids, Music",
          "Action, Samurai",
          "Comedy, Demons"
         ],
         "labels": [
          "Comedy",
          "Kids",
          "Dementia",
          "Comedy, Slice of Life",
          "Comedy, Kids",
          "Comedy, Fantasy, Kids",
          "Fantasy",
          "Drama",
          "Adventure",
          "Adventure, Kids",
          "Historical",
          "Action, Mecha, Sci-Fi",
          "Adventure, Fantasy",
          "Fantasy, Kids",
          "Adventure, Fantasy, Kids",
          "Drama, Historical",
          "Comedy, School, Slice of Life",
          "Slice of Life",
          "Adventure, Comedy",
          "Music",
          "Adventure, Comedy, Kids",
          "Adventure, Mecha, Sci-Fi, Shounen",
          "Sports",
          "Comedy, Seinen, Slice of Life",
          "Action",
          "Comedy, Sci-Fi",
          "Adventure, Comedy, Fantasy, Kids",
          "Comedy, Fantasy",
          "Action, Adventure, Comedy, Shounen",
          "Kids, Slice of Life",
          "Adventure, Comedy, Fantasy",
          "Comedy, Sports",
          "Adventure, Sci-Fi",
          "Action, Adventure, Sci-Fi",
          "Action, Shounen, Sports",
          "Comedy, Parody",
          "Shounen, Sports",
          "Comedy, Sci-Fi, Shounen",
          "Sci-Fi",
          "Comedy, Ecchi, Kids, School, Shounen, Slice of Life",
          "Action, Sci-Fi",
          "Mecha, Sci-Fi",
          "Comedy, Kids, Slice of Life",
          "Drama, Historical, Slice of Life",
          "Comedy, Supernatural",
          "Adventure, Comedy, Fantasy, Kids, Shounen",
          "Adventure, Comedy, Mystery, Police, Shounen",
          "Action, Fantasy",
          "Comedy, Music",
          "Drama, Sports",
          "Comedy, Drama, Slice of Life",
          "Action, Adventure, Fantasy",
          "Historical, Kids",
          "Action, Adventure, Mecha, Sci-Fi",
          "Action, Mecha, Sci-Fi, Shounen",
          "Kids, Music",
          "Action, Adventure, Mecha, Sci-Fi, Shounen",
          "Comedy, Drama, Shounen, Sports",
          "Action, Adventure, Fantasy, Magic, Shounen",
          "Action, Adventure, Comedy, Fantasy, Kids",
          "Action, Comedy, Shounen, Sports",
          "Action, Mecha, Sci-Fi, Space",
          "Comedy, Magic, Shoujo",
          "Kids, Sports",
          "Dementia, Music",
          "Supernatural",
          "Adventure, Comedy, Fantasy, Sci-Fi, Shounen",
          "Comedy, Magic",
          "Comedy, Shounen",
          "Fantasy, Historical",
          "Comedy, School, Seinen, Slice of Life",
          "Magic",
          "Psychological",
          "Adventure, Comedy, Fantasy, Kids, Magic",
          "Drama, Slice of Life",
          "Action, Comedy",
          "Comedy, Historical",
          "Adventure, Drama",
          "Comedy, Drama, Romance",
          "Comedy, Romance, School, Slice of Life",
          "Action, Drama, Mecha, Military, Sci-Fi, Space",
          "Comedy, School",
          "Comedy, Parody, Super Power",
          "Comedy, School, Shounen, Sports",
          "Action, Adventure",
          "Action, Game, Shounen",
          "Adventure, Comedy, Fantasy, Horror, Supernatural",
          "Comedy, School, Shounen, Slice of Life",
          "Game",
          "Adventure, Comedy, Fantasy, Magic, Shounen",
          "Action, Adventure, Sci-Fi, Space",
          "Comedy, Fantasy, Magic",
          "Action, Super Power, Supernatural",
          "Music, School, Slice of Life",
          "Action, Adventure, Sci-Fi, Shounen",
          "Action, Sci-Fi, Super Power",
          "Action, Adventure, Comedy, Fantasy, Shounen",
          "Magic, Shoujo",
          "Comedy, Dementia",
          "Adventure, Drama, Fantasy",
          "Action, Adventure, Fantasy, Magic",
          "Comedy, Shounen, Sports",
          "Action, Comedy, Historical, Parody, Samurai, Sci-Fi, Shounen",
          "Comedy, Drama, School, Shounen, Sports",
          "Comedy, Mystery, Super Power",
          "Mystery",
          "Fantasy, Magic, Shoujo",
          "Comedy, Romance, School",
          "Music, School, Shoujo, Slice of Life",
          "Sci-Fi, Space",
          "Comedy, Fantasy, Slice of Life",
          "Adventure, Drama, Historical, Slice of Life",
          "Adventure, Drama, Sci-Fi",
          "Drama, Romance, Slice of Life",
          "Action, Drama, Military, Sci-Fi, Space",
          "Action, Comedy, Sci-Fi",
          "Action, Adventure, Comedy",
          "Comedy, Drama, Romance, Shounen Ai",
          "Action, Comedy, Mystery, Shounen",
          "Action, Fantasy, Magic, Shoujo",
          "Action, Drama, Sports",
          "Fantasy, Kids, Magic, Shoujo",
          "Adventure, Comedy, Drama, Fantasy, Kids",
          "Comedy, Romance",
          "Horror",
          "Comedy, Ecchi, Harem, Romance, School",
          "Action, Mecha, Sci-Fi, Super Power",
          "Action, Mecha, Military",
          "Action, Adventure, Mecha",
          "Action, Adventure, Kids",
          "Comedy, Drama",
          "Cars, Shounen, Sports",
          "Action, Adventure, Comedy, Drama, Romance, Sci-Fi",
          "Adventure, Shounen",
          "Action, Adventure, Comedy, Fantasy, Shounen, Super Power",
          "Action, Mecha",
          "Adventure, Fantasy, Historical",
          "Mecha",
          "Drama, Music",
          "Adventure, Comedy, Shounen",
          "School, Shounen, Sports",
          "Action, Mecha, Military, Music, Romance, Sci-Fi, Space",
          "Comedy, Kids, Supernatural",
          "Fantasy, Slice of Life",
          "Action, Adventure, Shounen, Super Power",
          "Comedy, Shoujo, Slice of Life",
          "Shounen, Sports, Super Power",
          "Action, Adventure, Comedy, Drama, Fantasy, Kids",
          "Dementia, Horror",
          "Action, Fantasy, Sci-Fi",
          "Adventure, Historical",
          "Action, Horror, Sci-Fi",
          "Adventure, Fantasy, Shounen, Supernatural",
          "Historical, Military",
          "Action, Adventure, Comedy, Fantasy",
          "Comedy, Romance, School, Shoujo",
          "Adventure, Comedy, Fantasy, Kids, Sci-Fi, Shounen",
          "Adventure, Sci-Fi, Shounen",
          "Comedy, Romance, Slice of Life",
          "Action, Comedy, Martial Arts, Shounen, Super Power",
          "Comedy, Ecchi, School",
          "Action, Comedy, Drama, Magic, Super Power",
          "Adventure, Drama, Historical, Romance",
          "Adventure, Drama, Historical",
          "Action, Adventure, Comedy, Fantasy, Martial Arts, Shounen, Super Power",
          "Drama, Mecha, Military, Sci-Fi, Space",
          "Adventure, Comedy, Sci-Fi, Shounen",
          "Adventure, Fantasy, Sci-Fi, Shounen",
          "Action, Adventure, Comedy, Drama",
          "Adventure, Drama, Sci-Fi, Space",
          "Action, Sci-Fi, Seinen",
          "Action, Fantasy, Supernatural",
          "Action, Adventure, Fantasy, Kids",
          "Action, Adventure, Fantasy, Shounen",
          "Comedy, Historical, Kids",
          "Music, Shoujo",
          "Comedy, Parody, School",
          "Drama, Magic, Psychological, Thriller",
          "Comedy, School, Seinen",
          "Drama, Shoujo, Slice of Life",
          "Drama, Kids",
          "Drama, Fantasy",
          "Action, Fantasy, Magic, Supernatural",
          "Drama, Sci-Fi",
          "Drama, Fantasy, Kids",
          "Action, Mecha, Military, Sci-Fi",
          "Kids, Magic",
          "Comedy, Drama, Romance, School, Slice of Life",
          "Drama, Shoujo, Sports",
          "Action, Mystery, Police, Shounen",
          "Mecha, Sci-Fi, Shounen",
          "Comedy, School, Shounen",
          "Action, Drama, Mecha, Sci-Fi",
          "Fantasy, Magic",
          "Action, Kids",
          "Action, Mecha, Shounen",
          "Drama, Romance, School",
          "Comedy, Kids, Shounen",
          "Drama, Fantasy, Romance",
          "Comedy, Fantasy, Magic, Shoujo",
          "Comedy, Drama, Romance, School",
          "Action, Adventure, Demons, Game, Shounen",
          "School",
          "Comedy, Drama, Romance, Shoujo",
          "Action, Comedy, Fantasy, Magic, Shoujo",
          "Comedy, Sci-Fi, Space",
          "Action, Music, Sci-Fi",
          "Comedy, Drama, Romance, Slice of Life",
          "Action, Cars, Drama, Seinen, Sports",
          "Comedy, Kids, School, Slice of Life",
          "Adventure, Comedy, Fantasy, Shounen",
          "Adventure, Mecha, Sci-Fi",
          "Action, Adventure, Drama, Military, Sci-Fi, Space",
          "Adventure, Sports",
          "Comedy, Shoujo",
          "Adventure, Fantasy, Shounen",
          "Action, Adventure, Comedy, Mecha, Sci-Fi",
          "Drama, Romance, Sports",
          "Comedy, Shounen, Slice of Life",
          "Action, Fantasy, Historical, Martial Arts",
          "Action, Drama, Historical, Josei, Samurai, Supernatural",
          "Drama, Fantasy, Shoujo, Slice of Life, Supernatural",
          "Mecha, Police, Psychological, Sci-Fi",
          "Action, Fantasy, Mecha, Military, Shounen",
          "Cars, Kids",
          "Action, Adventure, Drama, Sci-Fi, Space",
          "Comedy, Ecchi",
          "Fantasy, Kids, Magic",
          "Action, Horror, Mystery, Seinen, Supernatural",
          "Comedy, Romance, Supernatural",
          "Action, Adventure, Comedy, Fantasy, Magic, Shounen",
          "Action, Drama, Shounen",
          "Action, Drama, Mecha, Military, Sci-Fi",
          "Adventure, Comedy, Mecha, Sci-Fi",
          "Action, Drama, Mecha, Sci-Fi, Shounen",
          "Music, Shoujo, Sports",
          "Action, Comedy, Martial Arts, School, Shounen",
          "Action, Adventure, Comedy, Drama, Fantasy, Shounen",
          "Adventure, Kids, Slice of Life",
          "Drama, Historical, Romance",
          "Comedy, Josei, Slice of Life",
          "Action, Comedy, Fantasy",
          "Adventure, Comedy, Ecchi, Fantasy, Magic, School",
          "Action, Adventure, Shounen",
          "Historical, Music",
          "Comedy, Drama, Romance, School, Shounen, Slice of Life",
          "Comedy, Parody, Slice of Life",
          "Adventure, Comedy, Mystery, Shounen",
          "Comedy, Seinen",
          "Adventure, Fantasy, Historical, Romance",
          "Adventure, Comedy, Drama",
          "Comedy, Music, Slice of Life",
          "Kids, Sci-Fi",
          "Demons, Historical, Supernatural",
          "Comedy, Romance, Shoujo",
          "Comedy, Historical, Parody",
          "Comedy, Mystery, Supernatural",
          "Action, Adventure, Comedy, Sci-Fi, Shounen, Sports",
          "Action, Military, Sci-Fi",
          "Action, Mystery, Supernatural",
          "Adventure, Comedy, Mecha",
          "Magic, School, Shoujo",
          "Comedy, Drama, Harem, Romance, Slice of Life",
          "Comedy, Drama, Music",
          "Ecchi",
          "Action, Drama, Fantasy, Shounen, Super Power",
          "Comedy, Parody, School, Seinen",
          "Action, Comedy, Mecha, Sci-Fi",
          "Comedy, Kids, Sci-Fi",
          "Action, Ecchi, Magic, Military, Sci-Fi",
          "Comedy, Romance, Sci-Fi",
          "Comedy, Harem, Romance, School",
          "Action, Adventure, Sci-Fi, Shounen, Super Power",
          "Comedy, Historical, Seinen",
          "Drama, Magic, Shoujo",
          "Drama, Fantasy, Magic, Slice of Life",
          "Action, Historical, Martial Arts, Samurai, Super Power",
          "Comedy, Ecchi, School, Sports",
          "Action, Historical",
          "Comedy, Kids, School, Sci-Fi, Slice of Life",
          "Adventure, Historical, Romance",
          "Action, Comedy, Fantasy, Magic",
          "Drama, Romance, Slice of Life, Supernatural",
          "Action, Fantasy, Seinen, Supernatural",
          "Action, Drama",
          "Adventure, Fantasy, Historical, Mystery, Seinen, Slice of Life, Supernatural",
          "Comedy, Fantasy, Sci-Fi",
          "Mystery, Shounen",
          "Comedy, School, Shounen, Supernatural",
          "Drama, Romance, Shoujo",
          "Comedy, Mecha, Police, Sci-Fi",
          "Comedy, Parody, Sci-Fi",
          "Dementia, Horror, Supernatural",
          "Action, Sci-Fi, Space",
          "Action, Sci-Fi, Shounen",
          "Adventure, Comedy, Magic, Romance, Shoujo",
          "Comedy, Drama, School, Shounen, Slice of Life, Sports",
          "Drama, School, Slice of Life",
          "Comedy, Ecchi, Harem, Romance",
          "Drama, Historical, Shoujo, Slice of Life",
          "Action, Adventure, Drama, Mecha, Sci-Fi, Shounen",
          "Adventure, Comedy, Historical",
          "Game, Psychological",
          "Comedy, Romance, School, Shounen",
          "Comedy, Magic, School, Shoujo",
          "Historical, Slice of Life",
          "Drama, Shounen, Sports",
          "Sci-Fi, Thriller",
          "Fantasy, Music",
          "Action, Adventure, Comedy, Ecchi, Fantasy, Harem, Magic, Romance, School",
          "Action, School, Sports",
          "Action, Mecha, Shounen, Space",
          "Comedy, Harem, Romance",
          "Action, Adventure, Kids, Sci-Fi",
          "Adventure, Shounen, Supernatural",
          "Romance, School, Shoujo",
          "Adventure, Comedy, Kids, Super Power",
          "Drama, Historical, Romance, Shoujo",
          "Comedy, Drama, Romance, Shounen",
          "Action, Comedy, School, Shounen",
          "Fantasy, Sci-Fi, Shounen, Slice of Life",
          "Drama, Slice of Life, Supernatural",
          "Adventure, Supernatural",
          "Comedy, Magic, Romance, Seinen, Supernatural",
          "Action, Adventure, Shounen, Supernatural",
          "Comedy, Romance, Shoujo, Slice of Life",
          "Kids, Magic, Shoujo",
          "Action, Comedy, School",
          "Comedy, Romance, School, Seinen, Slice of Life",
          "Adventure, Comedy, Drama, Fantasy, Shounen",
          "Adventure, Fantasy, Kids, Sci-Fi, Shounen",
          "Comedy, Drama, Romance, School, Slice of Life, Supernatural",
          "Shounen",
          "Comedy, Drama, Mystery, Psychological, Supernatural",
          "Game, Psychological, Seinen, Thriller",
          "Adventure, Drama, Fantasy, Historical",
          "Action, Seinen",
          "Comedy, Harem, Romance, Shounen, Supernatural",
          "Cars, Seinen, Sports",
          "Action, Drama, Shounen, Sports",
          "Adventure, Comedy, Mystery",
          "Sci-Fi, Slice of Life",
          "Action, Psychological, Sci-Fi",
          "Action, Comedy, Ecchi, Martial Arts, School, Shounen, Super Power",
          "Action, Comedy, Mecha",
          "Action, Kids, Mecha",
          "Action, Adventure, Mecha, Police, Sci-Fi",
          "Comedy, Kids, Sci-Fi, Shounen",
          "Action, Comedy, Mystery, Super Power",
          "Adventure, Comedy, Fantasy, Magic",
          "Horror, Mystery, Psychological, Supernatural",
          "Action, Comedy, Ecchi, Harem, Super Power",
          "Action, Fantasy, Game, Shounen",
          "Comedy, School, Shoujo Ai, Slice of Life",
          "Comedy, Fantasy, Kids, Sci-Fi, Shounen",
          "Comedy, Drama, Seinen, Slice of Life",
          "Adventure, Comedy, Fantasy, Supernatural",
          "Comedy, Drama, Shoujo",
          "Adventure, Comedy, Fantasy, Magic, School",
          "Action, Adventure, Samurai",
          "Drama, Harem, Romance, School",
          "Action, Comedy, Parody",
          "Action, Supernatural, Vampire",
          "Action, Adventure, Fantasy, Military",
          "Adventure, Mecha, Sci-Fi, Shounen, Space",
          "Action, Mecha, Space",
          "Action, Military, Romance, Sci-Fi, Space",
          "Action, Comedy, Shounen, Super Power, Supernatural",
          "Action, Horror, Mystery, Psychological",
          "Drama, Romance, Sci-Fi",
          "Action, Mecha, Sci-Fi, Seinen, Space",
          "Action, Adventure, Fantasy, Sci-Fi",
          "Game, School, Slice of Life",
          "Action, Demons, Fantasy, Shounen, Supernatural",
          "Comedy, Romance, Seinen",
          "Comedy, Harem, Romance, School, Shounen",
          "Music, School",
          "Drama, Mecha, Sci-Fi, Space",
          "Comedy, Magic, School, Slice of Life",
          "Action, Game, Mystery, Shounen",
          "Drama, Magic, Romance, Shoujo",
          "Action, Mecha, Military, Sci-Fi, Space",
          "Action, Adventure, Drama, Mecha, Military, Sci-Fi, Space",
          "Drama, Historical, Military",
          "Harem, Romance, School",
          "Comedy, Ecchi, Romance, School, Seinen",
          "Comedy, Fantasy, Magic, Romance, School, Shoujo",
          "Adventure, Fantasy, Kids, Shounen",
          "Comedy, Fantasy, Supernatural",
          "Action, Martial Arts, Super Power",
          "Action, Adventure, Martial Arts, Shounen, Super Power",
          "Action, Magic, Sci-Fi, Super Power",
          "Action, Adventure, Fantasy, Game, Romance",
          "Demons, Magic, Romance, Shoujo",
          "Adventure, Comedy, Kids, Sci-Fi",
          "Adventure, Fantasy, Romance",
          "Comedy, Harem, Music, Romance, School, Shoujo",
          "Action, Adventure, Comedy, Fantasy, Sci-Fi, Shounen, Super Power",
          "Music, Shoujo, Slice of Life, Sports",
          "Drama, Supernatural",
          "Action, Comedy, Drama, Magic, Seinen",
          "Action, Comedy, Police, Shounen",
          "Action, Drama, Fantasy, Sci-Fi",
          "Drama, Military",
          "Action, Adventure, Demons, Fantasy, Magic, Supernatural",
          "Comedy, Romance, School, Shoujo, Slice of Life",
          "Action, Comedy, Fantasy, Game, Shounen",
          "Action, Demons, Fantasy, Magic, Supernatural",
          "Drama, Romance",
          "Adventure, Comedy, Slice of Life",
          "Drama, Romance, Supernatural",
          "Comedy, Romance, School, Shounen, Supernatural",
          "Action, Drama, Fantasy, Horror",
          "Comedy, Ecchi, Romance, School, Shounen",
          "Action, Shounen",
          "Comedy, Magic, Parody",
          "Adventure, Comedy, Fantasy, Mecha, Shounen",
          "Adventure, Comedy, Mecha, Sci-Fi, Shounen",
          "Drama, Military, Sci-Fi, Space",
          "Drama, Romance, School, Shoujo, Sports",
          "Action, Sports",
          "Adventure, Drama, Slice of Life",
          "Action, Military, School, Sci-Fi, Slice of Life",
          "Action, Adventure, Comedy, Sci-Fi",
          "Action, Comedy, Martial Arts, Sci-Fi, Shounen, Sports",
          "Adventure, Drama, Fantasy, Sci-Fi",
          "Comedy, Demons, Horror, Mystery, Supernatural, Vampire",
          "School, Sports",
          "Parody, School, Slice of Life",
          "Comedy, Sci-Fi, Slice of Life",
          "Action, Comedy, Sci-Fi, Shounen",
          "Adventure, Comedy, Sports",
          "Comedy, School, Slice of Life, Supernatural",
          "Comedy, Ecchi, Harem, Romance, Sci-Fi",
          "Adventure, Cars, Shounen, Sports",
          "Action, Comedy, Ecchi, Sci-Fi",
          "Historical, Supernatural",
          "Comedy, Magic, Shoujo, Slice of Life",
          "Sci-Fi, Shounen",
          "Action, Adventure, Ecchi, Fantasy",
          "Adventure, Demons, Fantasy",
          "Action, Comedy, Parody, Sci-Fi",
          "Action, Fantasy, Magic",
          "Action, Historical, Mecha",
          "Action, Adventure, Mecha, Sci-Fi, Shounen, Space",
          "Action, Ecchi, Martial Arts, School, Super Power",
          "Fantasy, Sci-Fi",
          "Adventure, Fantasy, Horror, Magic, Supernatural",
          "Comedy, Mystery",
          "Comedy, Ecchi, Game",
          "Fantasy, Horror, Supernatural",
          "Fantasy, Kids, Music",
          "Action, Samurai",
          "Comedy, Demons"
         ],
         "name": "",
         "parents": [
          "",
          "",
          "",
          "",
          "",
          "",
          "",
          "",
          "",
          "",
          "",
          "",
          "",
          "",
          "",
          "",
          "",
          "",
          "",
          "",
          "",
          "",
          "",
          "",
          "",
          "",
          "",
          "",
          "",
          "",
          "",
          "",
          "",
          "",
          "",
          "",
          "",
          "",
          "",
          "",
          "",
          "",
          "",
          "",
          "",
          "",
          "",
          "",
          "",
          "",
          "",
          "",
          "",
          "",
          "",
          "",
          "",
          "",
          "",
          "",
          "",
          "",
          "",
          "",
          "",
          "",
          "",
          "",
          "",
          "",
          "",
          "",
          "",
          "",
          "",
          "",
          "",
          "",
          "",
          "",
          "",
          "",
          "",
          "",
          "",
          "",
          "",
          "",
          "",
          "",
          "",
          "",
          "",
          "",
          "",
          "",
          "",
          "",
          "",
          "",
          "",
          "",
          "",
          "",
          "",
          "",
          "",
          "",
          "",
          "",
          "",
          "",
          "",
          "",
          "",
          "",
          "",
          "",
          "",
          "",
          "",
          "",
          "",
          "",
          "",
          "",
          "",
          "",
          "",
          "",
          "",
          "",
          "",
          "",
          "",
          "",
          "",
          "",
          "",
          "",
          "",
          "",
          "",
          "",
          "",
          "",
          "",
          "",
          "",
          "",
          "",
          "",
          "",
          "",
          "",
          "",
          "",
          "",
          "",
          "",
          "",
          "",
          "",
          "",
          "",
          "",
          "",
          "",
          "",
          "",
          "",
          "",
          "",
          "",
          "",
          "",
          "",
          "",
          "",
          "",
          "",
          "",
          "",
          "",
          "",
          "",
          "",
          "",
          "",
          "",
          "",
          "",
          "",
          "",
          "",
          "",
          "",
          "",
          "",
          "",
          "",
          "",
          "",
          "",
          "",
          "",
          "",
          "",
          "",
          "",
          "",
          "",
          "",
          "",
          "",
          "",
          "",
          "",
          "",
          "",
          "",
          "",
          "",
          "",
          "",
          "",
          "",
          "",
          "",
          "",
          "",
          "",
          "",
          "",
          "",
          "",
          "",
          "",
          "",
          "",
          "",
          "",
          "",
          "",
          "",
          "",
          "",
          "",
          "",
          "",
          "",
          "",
          "",
          "",
          "",
          "",
          "",
          "",
          "",
          "",
          "",
          "",
          "",
          "",
          "",
          "",
          "",
          "",
          "",
          "",
          "",
          "",
          "",
          "",
          "",
          "",
          "",
          "",
          "",
          "",
          "",
          "",
          "",
          "",
          "",
          "",
          "",
          "",
          "",
          "",
          "",
          "",
          "",
          "",
          "",
          "",
          "",
          "",
          "",
          "",
          "",
          "",
          "",
          "",
          "",
          "",
          "",
          "",
          "",
          "",
          "",
          "",
          "",
          "",
          "",
          "",
          "",
          "",
          "",
          "",
          "",
          "",
          "",
          "",
          "",
          "",
          "",
          "",
          "",
          "",
          "",
          "",
          "",
          "",
          "",
          "",
          "",
          "",
          "",
          "",
          "",
          "",
          "",
          "",
          "",
          "",
          "",
          "",
          "",
          "",
          "",
          "",
          "",
          "",
          "",
          "",
          "",
          "",
          "",
          "",
          "",
          "",
          "",
          "",
          "",
          "",
          "",
          "",
          "",
          "",
          "",
          "",
          "",
          "",
          "",
          "",
          "",
          "",
          "",
          "",
          "",
          "",
          "",
          "",
          "",
          "",
          "",
          "",
          "",
          "",
          "",
          "",
          "",
          "",
          "",
          "",
          "",
          "",
          "",
          "",
          "",
          "",
          "",
          "",
          "",
          "",
          "",
          "",
          "",
          "",
          "",
          "",
          "",
          "",
          "",
          "",
          "",
          "",
          "",
          "",
          "",
          "",
          "",
          "",
          "",
          "",
          "",
          "",
          "",
          "",
          "",
          "",
          "",
          "",
          "",
          "",
          "",
          "",
          "",
          "",
          "",
          "",
          "",
          "",
          "",
          "",
          "",
          "",
          "",
          "",
          "",
          "",
          "",
          ""
         ],
         "type": "treemap",
         "values": {
          "bdata": "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",
          "dtype": "f8"
         }
        }
       ],
       "layout": {
        "legend": {
         "tracegroupgap": 0
        },
        "template": {
         "data": {
          "bar": [
           {
            "error_x": {
             "color": "#2a3f5f"
            },
            "error_y": {
             "color": "#2a3f5f"
            },
            "marker": {
             "line": {
              "color": "#E5ECF6",
              "width": 0.5
             },
             "pattern": {
              "fillmode": "overlay",
              "size": 10,
              "solidity": 0.2
             }
            },
            "type": "bar"
           }
          ],
          "barpolar": [
           {
            "marker": {
             "line": {
              "color": "#E5ECF6",
              "width": 0.5
             },
             "pattern": {
              "fillmode": "overlay",
              "size": 10,
              "solidity": 0.2
             }
            },
            "type": "barpolar"
           }
          ],
          "carpet": [
           {
            "aaxis": {
             "endlinecolor": "#2a3f5f",
             "gridcolor": "white",
             "linecolor": "white",
             "minorgridcolor": "white",
             "startlinecolor": "#2a3f5f"
            },
            "baxis": {
             "endlinecolor": "#2a3f5f",
             "gridcolor": "white",
             "linecolor": "white",
             "minorgridcolor": "white",
             "startlinecolor": "#2a3f5f"
            },
            "type": "carpet"
           }
          ],
          "choropleth": [
           {
            "colorbar": {
             "outlinewidth": 0,
             "ticks": ""
            },
            "type": "choropleth"
           }
          ],
          "contour": [
           {
            "colorbar": {
             "outlinewidth": 0,
             "ticks": ""
            },
            "colorscale": [
             [
              0,
              "#0d0887"
             ],
             [
              0.1111111111111111,
              "#46039f"
             ],
             [
              0.2222222222222222,
              "#7201a8"
             ],
             [
              0.3333333333333333,
              "#9c179e"
             ],
             [
              0.4444444444444444,
              "#bd3786"
             ],
             [
              0.5555555555555556,
              "#d8576b"
             ],
             [
              0.6666666666666666,
              "#ed7953"
             ],
             [
              0.7777777777777778,
              "#fb9f3a"
             ],
             [
              0.8888888888888888,
              "#fdca26"
             ],
             [
              1,
              "#f0f921"
             ]
            ],
            "type": "contour"
           }
          ],
          "contourcarpet": [
           {
            "colorbar": {
             "outlinewidth": 0,
             "ticks": ""
            },
            "type": "contourcarpet"
           }
          ],
          "heatmap": [
           {
            "colorbar": {
             "outlinewidth": 0,
             "ticks": ""
            },
            "colorscale": [
             [
              0,
              "#0d0887"
             ],
             [
              0.1111111111111111,
              "#46039f"
             ],
             [
              0.2222222222222222,
              "#7201a8"
             ],
             [
              0.3333333333333333,
              "#9c179e"
             ],
             [
              0.4444444444444444,
              "#bd3786"
             ],
             [
              0.5555555555555556,
              "#d8576b"
             ],
             [
              0.6666666666666666,
              "#ed7953"
             ],
             [
              0.7777777777777778,
              "#fb9f3a"
             ],
             [
              0.8888888888888888,
              "#fdca26"
             ],
             [
              1,
              "#f0f921"
             ]
            ],
            "type": "heatmap"
           }
          ],
          "histogram": [
           {
            "marker": {
             "pattern": {
              "fillmode": "overlay",
              "size": 10,
              "solidity": 0.2
             }
            },
            "type": "histogram"
           }
          ],
          "histogram2d": [
           {
            "colorbar": {
             "outlinewidth": 0,
             "ticks": ""
            },
            "colorscale": [
             [
              0,
              "#0d0887"
             ],
             [
              0.1111111111111111,
              "#46039f"
             ],
             [
              0.2222222222222222,
              "#7201a8"
             ],
             [
              0.3333333333333333,
              "#9c179e"
             ],
             [
              0.4444444444444444,
              "#bd3786"
             ],
             [
              0.5555555555555556,
              "#d8576b"
             ],
             [
              0.6666666666666666,
              "#ed7953"
             ],
             [
              0.7777777777777778,
              "#fb9f3a"
             ],
             [
              0.8888888888888888,
              "#fdca26"
             ],
             [
              1,
              "#f0f921"
             ]
            ],
            "type": "histogram2d"
           }
          ],
          "histogram2dcontour": [
           {
            "colorbar": {
             "outlinewidth": 0,
             "ticks": ""
            },
            "colorscale": [
             [
              0,
              "#0d0887"
             ],
             [
              0.1111111111111111,
              "#46039f"
             ],
             [
              0.2222222222222222,
              "#7201a8"
             ],
             [
              0.3333333333333333,
              "#9c179e"
             ],
             [
              0.4444444444444444,
              "#bd3786"
             ],
             [
              0.5555555555555556,
              "#d8576b"
             ],
             [
              0.6666666666666666,
              "#ed7953"
             ],
             [
              0.7777777777777778,
              "#fb9f3a"
             ],
             [
              0.8888888888888888,
              "#fdca26"
             ],
             [
              1,
              "#f0f921"
             ]
            ],
            "type": "histogram2dcontour"
           }
          ],
          "mesh3d": [
           {
            "colorbar": {
             "outlinewidth": 0,
             "ticks": ""
            },
            "type": "mesh3d"
           }
          ],
          "parcoords": [
           {
            "line": {
             "colorbar": {
              "outlinewidth": 0,
              "ticks": ""
             }
            },
            "type": "parcoords"
           }
          ],
          "pie": [
           {
            "automargin": true,
            "type": "pie"
           }
          ],
          "scatter": [
           {
            "fillpattern": {
             "fillmode": "overlay",
             "size": 10,
             "solidity": 0.2
            },
            "type": "scatter"
           }
          ],
          "scatter3d": [
           {
            "line": {
             "colorbar": {
              "outlinewidth": 0,
              "ticks": ""
             }
            },
            "marker": {
             "colorbar": {
              "outlinewidth": 0,
              "ticks": ""
             }
            },
            "type": "scatter3d"
           }
          ],
          "scattercarpet": [
           {
            "marker": {
             "colorbar": {
              "outlinewidth": 0,
              "ticks": ""
             }
            },
            "type": "scattercarpet"
           }
          ],
          "scattergeo": [
           {
            "marker": {
             "colorbar": {
              "outlinewidth": 0,
              "ticks": ""
             }
            },
            "type": "scattergeo"
           }
          ],
          "scattergl": [
           {
            "marker": {
             "colorbar": {
              "outlinewidth": 0,
              "ticks": ""
             }
            },
            "type": "scattergl"
           }
          ],
          "scattermap": [
           {
            "marker": {
             "colorbar": {
              "outlinewidth": 0,
              "ticks": ""
             }
            },
            "type": "scattermap"
           }
          ],
          "scattermapbox": [
           {
            "marker": {
             "colorbar": {
              "outlinewidth": 0,
              "ticks": ""
             }
            },
            "type": "scattermapbox"
           }
          ],
          "scatterpolar": [
           {
            "marker": {
             "colorbar": {
              "outlinewidth": 0,
              "ticks": ""
             }
            },
            "type": "scatterpolar"
           }
          ],
          "scatterpolargl": [
           {
            "marker": {
             "colorbar": {
              "outlinewidth": 0,
              "ticks": ""
             }
            },
            "type": "scatterpolargl"
           }
          ],
          "scatterternary": [
           {
            "marker": {
             "colorbar": {
              "outlinewidth": 0,
              "ticks": ""
             }
            },
            "type": "scatterternary"
           }
          ],
          "surface": [
           {
            "colorbar": {
             "outlinewidth": 0,
             "ticks": ""
            },
            "colorscale": [
             [
              0,
              "#0d0887"
             ],
             [
              0.1111111111111111,
              "#46039f"
             ],
             [
              0.2222222222222222,
              "#7201a8"
             ],
             [
              0.3333333333333333,
              "#9c179e"
             ],
             [
              0.4444444444444444,
              "#bd3786"
             ],
             [
              0.5555555555555556,
              "#d8576b"
             ],
             [
              0.6666666666666666,
              "#ed7953"
             ],
             [
              0.7777777777777778,
              "#fb9f3a"
             ],
             [
              0.8888888888888888,
              "#fdca26"
             ],
             [
              1,
              "#f0f921"
             ]
            ],
            "type": "surface"
           }
          ],
          "table": [
           {
            "cells": {
             "fill": {
              "color": "#EBF0F8"
             },
             "line": {
              "color": "white"
             }
            },
            "header": {
             "fill": {
              "color": "#C8D4E3"
             },
             "line": {
              "color": "white"
             }
            },
            "type": "table"
           }
          ]
         },
         "layout": {
          "annotationdefaults": {
           "arrowcolor": "#2a3f5f",
           "arrowhead": 0,
           "arrowwidth": 1
          },
          "autotypenumbers": "strict",
          "coloraxis": {
           "colorbar": {
            "outlinewidth": 0,
            "ticks": ""
           }
          },
          "colorscale": {
           "diverging": [
            [
             0,
             "#8e0152"
            ],
            [
             0.1,
             "#c51b7d"
            ],
            [
             0.2,
             "#de77ae"
            ],
            [
             0.3,
             "#f1b6da"
            ],
            [
             0.4,
             "#fde0ef"
            ],
            [
             0.5,
             "#f7f7f7"
            ],
            [
             0.6,
             "#e6f5d0"
            ],
            [
             0.7,
             "#b8e186"
            ],
            [
             0.8,
             "#7fbc41"
            ],
            [
             0.9,
             "#4d9221"
            ],
            [
             1,
             "#276419"
            ]
           ],
           "sequential": [
            [
             0,
             "#0d0887"
            ],
            [
             0.1111111111111111,
             "#46039f"
            ],
            [
             0.2222222222222222,
             "#7201a8"
            ],
            [
             0.3333333333333333,
             "#9c179e"
            ],
            [
             0.4444444444444444,
             "#bd3786"
            ],
            [
             0.5555555555555556,
             "#d8576b"
            ],
            [
             0.6666666666666666,
             "#ed7953"
            ],
            [
             0.7777777777777778,
             "#fb9f3a"
            ],
            [
             0.8888888888888888,
             "#fdca26"
            ],
            [
             1,
             "#f0f921"
            ]
           ],
           "sequentialminus": [
            [
             0,
             "#0d0887"
            ],
            [
             0.1111111111111111,
             "#46039f"
            ],
            [
             0.2222222222222222,
             "#7201a8"
            ],
            [
             0.3333333333333333,
             "#9c179e"
            ],
            [
             0.4444444444444444,
             "#bd3786"
            ],
            [
             0.5555555555555556,
             "#d8576b"
            ],
            [
             0.6666666666666666,
             "#ed7953"
            ],
            [
             0.7777777777777778,
             "#fb9f3a"
            ],
            [
             0.8888888888888888,
             "#fdca26"
            ],
            [
             1,
             "#f0f921"
            ]
           ]
          },
          "colorway": [
           "#636efa",
           "#EF553B",
           "#00cc96",
           "#ab63fa",
           "#FFA15A",
           "#19d3f3",
           "#FF6692",
           "#B6E880",
           "#FF97FF",
           "#FECB52"
          ],
          "font": {
           "color": "#2a3f5f"
          },
          "geo": {
           "bgcolor": "white",
           "lakecolor": "white",
           "landcolor": "#E5ECF6",
           "showlakes": true,
           "showland": true,
           "subunitcolor": "white"
          },
          "hoverlabel": {
           "align": "left"
          },
          "hovermode": "closest",
          "mapbox": {
           "style": "light"
          },
          "paper_bgcolor": "white",
          "plot_bgcolor": "#E5ECF6",
          "polar": {
           "angularaxis": {
            "gridcolor": "white",
            "linecolor": "white",
            "ticks": ""
           },
           "bgcolor": "#E5ECF6",
           "radialaxis": {
            "gridcolor": "white",
            "linecolor": "white",
            "ticks": ""
           }
          },
          "scene": {
           "xaxis": {
            "backgroundcolor": "#E5ECF6",
            "gridcolor": "white",
            "gridwidth": 2,
            "linecolor": "white",
            "showbackground": true,
            "ticks": "",
            "zerolinecolor": "white"
           },
           "yaxis": {
            "backgroundcolor": "#E5ECF6",
            "gridcolor": "white",
            "gridwidth": 2,
            "linecolor": "white",
            "showbackground": true,
            "ticks": "",
            "zerolinecolor": "white"
           },
           "zaxis": {
            "backgroundcolor": "#E5ECF6",
            "gridcolor": "white",
            "gridwidth": 2,
            "linecolor": "white",
            "showbackground": true,
            "ticks": "",
            "zerolinecolor": "white"
           }
          },
          "shapedefaults": {
           "line": {
            "color": "#2a3f5f"
           }
          },
          "ternary": {
           "aaxis": {
            "gridcolor": "white",
            "linecolor": "white",
            "ticks": ""
           },
           "baxis": {
            "gridcolor": "white",
            "linecolor": "white",
            "ticks": ""
           },
           "bgcolor": "#E5ECF6",
           "caxis": {
            "gridcolor": "white",
            "linecolor": "white",
            "ticks": ""
           }
          },
          "title": {
           "x": 0.05
          },
          "xaxis": {
           "automargin": true,
           "gridcolor": "white",
           "linecolor": "white",
           "ticks": "",
           "title": {
            "standoff": 15
           },
           "zerolinecolor": "white",
           "zerolinewidth": 2
          },
          "yaxis": {
           "automargin": true,
           "gridcolor": "white",
           "linecolor": "white",
           "ticks": "",
           "title": {
            "standoff": 15
           },
           "zerolinecolor": "white",
           "zerolinewidth": 2
          }
         }
        },
        "title": {
         "text": "Genre Distribution"
        }
       }
      }
     },
     "metadata": {},
     "output_type": "display_data"
    }
   ],
   "source": [
    "genre_df = genre_df[genre_df[\"count\"] > 2]\n",
    "fig = px.treemap(genre_df, path=['genre'], values='count', title=\"Genre Distribution\")\n",
    "fig.show()"
   ]
  },
  {
   "cell_type": "markdown",
   "id": "e42910f0",
   "metadata": {},
   "source": [
    "Left with the two types that we are interested in"
   ]
  },
  {
   "cell_type": "code",
   "execution_count": 8,
   "id": "598fc309",
   "metadata": {},
   "outputs": [
    {
     "data": {
      "application/vnd.plotly.v1+json": {
       "config": {
        "plotlyServerURL": "https://plot.ly"
       },
       "data": [
        {
         "branchvalues": "total",
         "domain": {
          "x": [
           0,
           1
          ],
          "y": [
           0,
           1
          ]
         },
         "hovertemplate": "labels=%{label}<br>count=%{value}<br>parent=%{parent}<br>id=%{id}<extra></extra>",
         "ids": [
          "TV",
          "Movie"
         ],
         "labels": [
          "TV",
          "Movie"
         ],
         "name": "",
         "parents": [
          "",
          ""
         ],
         "type": "treemap",
         "values": {
          "bdata": "AAAAAACWrUAAAAAAAFaiQA==",
          "dtype": "f8"
         }
        }
       ],
       "layout": {
        "legend": {
         "tracegroupgap": 0
        },
        "template": {
         "data": {
          "bar": [
           {
            "error_x": {
             "color": "#2a3f5f"
            },
            "error_y": {
             "color": "#2a3f5f"
            },
            "marker": {
             "line": {
              "color": "#E5ECF6",
              "width": 0.5
             },
             "pattern": {
              "fillmode": "overlay",
              "size": 10,
              "solidity": 0.2
             }
            },
            "type": "bar"
           }
          ],
          "barpolar": [
           {
            "marker": {
             "line": {
              "color": "#E5ECF6",
              "width": 0.5
             },
             "pattern": {
              "fillmode": "overlay",
              "size": 10,
              "solidity": 0.2
             }
            },
            "type": "barpolar"
           }
          ],
          "carpet": [
           {
            "aaxis": {
             "endlinecolor": "#2a3f5f",
             "gridcolor": "white",
             "linecolor": "white",
             "minorgridcolor": "white",
             "startlinecolor": "#2a3f5f"
            },
            "baxis": {
             "endlinecolor": "#2a3f5f",
             "gridcolor": "white",
             "linecolor": "white",
             "minorgridcolor": "white",
             "startlinecolor": "#2a3f5f"
            },
            "type": "carpet"
           }
          ],
          "choropleth": [
           {
            "colorbar": {
             "outlinewidth": 0,
             "ticks": ""
            },
            "type": "choropleth"
           }
          ],
          "contour": [
           {
            "colorbar": {
             "outlinewidth": 0,
             "ticks": ""
            },
            "colorscale": [
             [
              0,
              "#0d0887"
             ],
             [
              0.1111111111111111,
              "#46039f"
             ],
             [
              0.2222222222222222,
              "#7201a8"
             ],
             [
              0.3333333333333333,
              "#9c179e"
             ],
             [
              0.4444444444444444,
              "#bd3786"
             ],
             [
              0.5555555555555556,
              "#d8576b"
             ],
             [
              0.6666666666666666,
              "#ed7953"
             ],
             [
              0.7777777777777778,
              "#fb9f3a"
             ],
             [
              0.8888888888888888,
              "#fdca26"
             ],
             [
              1,
              "#f0f921"
             ]
            ],
            "type": "contour"
           }
          ],
          "contourcarpet": [
           {
            "colorbar": {
             "outlinewidth": 0,
             "ticks": ""
            },
            "type": "contourcarpet"
           }
          ],
          "heatmap": [
           {
            "colorbar": {
             "outlinewidth": 0,
             "ticks": ""
            },
            "colorscale": [
             [
              0,
              "#0d0887"
             ],
             [
              0.1111111111111111,
              "#46039f"
             ],
             [
              0.2222222222222222,
              "#7201a8"
             ],
             [
              0.3333333333333333,
              "#9c179e"
             ],
             [
              0.4444444444444444,
              "#bd3786"
             ],
             [
              0.5555555555555556,
              "#d8576b"
             ],
             [
              0.6666666666666666,
              "#ed7953"
             ],
             [
              0.7777777777777778,
              "#fb9f3a"
             ],
             [
              0.8888888888888888,
              "#fdca26"
             ],
             [
              1,
              "#f0f921"
             ]
            ],
            "type": "heatmap"
           }
          ],
          "histogram": [
           {
            "marker": {
             "pattern": {
              "fillmode": "overlay",
              "size": 10,
              "solidity": 0.2
             }
            },
            "type": "histogram"
           }
          ],
          "histogram2d": [
           {
            "colorbar": {
             "outlinewidth": 0,
             "ticks": ""
            },
            "colorscale": [
             [
              0,
              "#0d0887"
             ],
             [
              0.1111111111111111,
              "#46039f"
             ],
             [
              0.2222222222222222,
              "#7201a8"
             ],
             [
              0.3333333333333333,
              "#9c179e"
             ],
             [
              0.4444444444444444,
              "#bd3786"
             ],
             [
              0.5555555555555556,
              "#d8576b"
             ],
             [
              0.6666666666666666,
              "#ed7953"
             ],
             [
              0.7777777777777778,
              "#fb9f3a"
             ],
             [
              0.8888888888888888,
              "#fdca26"
             ],
             [
              1,
              "#f0f921"
             ]
            ],
            "type": "histogram2d"
           }
          ],
          "histogram2dcontour": [
           {
            "colorbar": {
             "outlinewidth": 0,
             "ticks": ""
            },
            "colorscale": [
             [
              0,
              "#0d0887"
             ],
             [
              0.1111111111111111,
              "#46039f"
             ],
             [
              0.2222222222222222,
              "#7201a8"
             ],
             [
              0.3333333333333333,
              "#9c179e"
             ],
             [
              0.4444444444444444,
              "#bd3786"
             ],
             [
              0.5555555555555556,
              "#d8576b"
             ],
             [
              0.6666666666666666,
              "#ed7953"
             ],
             [
              0.7777777777777778,
              "#fb9f3a"
             ],
             [
              0.8888888888888888,
              "#fdca26"
             ],
             [
              1,
              "#f0f921"
             ]
            ],
            "type": "histogram2dcontour"
           }
          ],
          "mesh3d": [
           {
            "colorbar": {
             "outlinewidth": 0,
             "ticks": ""
            },
            "type": "mesh3d"
           }
          ],
          "parcoords": [
           {
            "line": {
             "colorbar": {
              "outlinewidth": 0,
              "ticks": ""
             }
            },
            "type": "parcoords"
           }
          ],
          "pie": [
           {
            "automargin": true,
            "type": "pie"
           }
          ],
          "scatter": [
           {
            "fillpattern": {
             "fillmode": "overlay",
             "size": 10,
             "solidity": 0.2
            },
            "type": "scatter"
           }
          ],
          "scatter3d": [
           {
            "line": {
             "colorbar": {
              "outlinewidth": 0,
              "ticks": ""
             }
            },
            "marker": {
             "colorbar": {
              "outlinewidth": 0,
              "ticks": ""
             }
            },
            "type": "scatter3d"
           }
          ],
          "scattercarpet": [
           {
            "marker": {
             "colorbar": {
              "outlinewidth": 0,
              "ticks": ""
             }
            },
            "type": "scattercarpet"
           }
          ],
          "scattergeo": [
           {
            "marker": {
             "colorbar": {
              "outlinewidth": 0,
              "ticks": ""
             }
            },
            "type": "scattergeo"
           }
          ],
          "scattergl": [
           {
            "marker": {
             "colorbar": {
              "outlinewidth": 0,
              "ticks": ""
             }
            },
            "type": "scattergl"
           }
          ],
          "scattermap": [
           {
            "marker": {
             "colorbar": {
              "outlinewidth": 0,
              "ticks": ""
             }
            },
            "type": "scattermap"
           }
          ],
          "scattermapbox": [
           {
            "marker": {
             "colorbar": {
              "outlinewidth": 0,
              "ticks": ""
             }
            },
            "type": "scattermapbox"
           }
          ],
          "scatterpolar": [
           {
            "marker": {
             "colorbar": {
              "outlinewidth": 0,
              "ticks": ""
             }
            },
            "type": "scatterpolar"
           }
          ],
          "scatterpolargl": [
           {
            "marker": {
             "colorbar": {
              "outlinewidth": 0,
              "ticks": ""
             }
            },
            "type": "scatterpolargl"
           }
          ],
          "scatterternary": [
           {
            "marker": {
             "colorbar": {
              "outlinewidth": 0,
              "ticks": ""
             }
            },
            "type": "scatterternary"
           }
          ],
          "surface": [
           {
            "colorbar": {
             "outlinewidth": 0,
             "ticks": ""
            },
            "colorscale": [
             [
              0,
              "#0d0887"
             ],
             [
              0.1111111111111111,
              "#46039f"
             ],
             [
              0.2222222222222222,
              "#7201a8"
             ],
             [
              0.3333333333333333,
              "#9c179e"
             ],
             [
              0.4444444444444444,
              "#bd3786"
             ],
             [
              0.5555555555555556,
              "#d8576b"
             ],
             [
              0.6666666666666666,
              "#ed7953"
             ],
             [
              0.7777777777777778,
              "#fb9f3a"
             ],
             [
              0.8888888888888888,
              "#fdca26"
             ],
             [
              1,
              "#f0f921"
             ]
            ],
            "type": "surface"
           }
          ],
          "table": [
           {
            "cells": {
             "fill": {
              "color": "#EBF0F8"
             },
             "line": {
              "color": "white"
             }
            },
            "header": {
             "fill": {
              "color": "#C8D4E3"
             },
             "line": {
              "color": "white"
             }
            },
            "type": "table"
           }
          ]
         },
         "layout": {
          "annotationdefaults": {
           "arrowcolor": "#2a3f5f",
           "arrowhead": 0,
           "arrowwidth": 1
          },
          "autotypenumbers": "strict",
          "coloraxis": {
           "colorbar": {
            "outlinewidth": 0,
            "ticks": ""
           }
          },
          "colorscale": {
           "diverging": [
            [
             0,
             "#8e0152"
            ],
            [
             0.1,
             "#c51b7d"
            ],
            [
             0.2,
             "#de77ae"
            ],
            [
             0.3,
             "#f1b6da"
            ],
            [
             0.4,
             "#fde0ef"
            ],
            [
             0.5,
             "#f7f7f7"
            ],
            [
             0.6,
             "#e6f5d0"
            ],
            [
             0.7,
             "#b8e186"
            ],
            [
             0.8,
             "#7fbc41"
            ],
            [
             0.9,
             "#4d9221"
            ],
            [
             1,
             "#276419"
            ]
           ],
           "sequential": [
            [
             0,
             "#0d0887"
            ],
            [
             0.1111111111111111,
             "#46039f"
            ],
            [
             0.2222222222222222,
             "#7201a8"
            ],
            [
             0.3333333333333333,
             "#9c179e"
            ],
            [
             0.4444444444444444,
             "#bd3786"
            ],
            [
             0.5555555555555556,
             "#d8576b"
            ],
            [
             0.6666666666666666,
             "#ed7953"
            ],
            [
             0.7777777777777778,
             "#fb9f3a"
            ],
            [
             0.8888888888888888,
             "#fdca26"
            ],
            [
             1,
             "#f0f921"
            ]
           ],
           "sequentialminus": [
            [
             0,
             "#0d0887"
            ],
            [
             0.1111111111111111,
             "#46039f"
            ],
            [
             0.2222222222222222,
             "#7201a8"
            ],
            [
             0.3333333333333333,
             "#9c179e"
            ],
            [
             0.4444444444444444,
             "#bd3786"
            ],
            [
             0.5555555555555556,
             "#d8576b"
            ],
            [
             0.6666666666666666,
             "#ed7953"
            ],
            [
             0.7777777777777778,
             "#fb9f3a"
            ],
            [
             0.8888888888888888,
             "#fdca26"
            ],
            [
             1,
             "#f0f921"
            ]
           ]
          },
          "colorway": [
           "#636efa",
           "#EF553B",
           "#00cc96",
           "#ab63fa",
           "#FFA15A",
           "#19d3f3",
           "#FF6692",
           "#B6E880",
           "#FF97FF",
           "#FECB52"
          ],
          "font": {
           "color": "#2a3f5f"
          },
          "geo": {
           "bgcolor": "white",
           "lakecolor": "white",
           "landcolor": "#E5ECF6",
           "showlakes": true,
           "showland": true,
           "subunitcolor": "white"
          },
          "hoverlabel": {
           "align": "left"
          },
          "hovermode": "closest",
          "mapbox": {
           "style": "light"
          },
          "paper_bgcolor": "white",
          "plot_bgcolor": "#E5ECF6",
          "polar": {
           "angularaxis": {
            "gridcolor": "white",
            "linecolor": "white",
            "ticks": ""
           },
           "bgcolor": "#E5ECF6",
           "radialaxis": {
            "gridcolor": "white",
            "linecolor": "white",
            "ticks": ""
           }
          },
          "scene": {
           "xaxis": {
            "backgroundcolor": "#E5ECF6",
            "gridcolor": "white",
            "gridwidth": 2,
            "linecolor": "white",
            "showbackground": true,
            "ticks": "",
            "zerolinecolor": "white"
           },
           "yaxis": {
            "backgroundcolor": "#E5ECF6",
            "gridcolor": "white",
            "gridwidth": 2,
            "linecolor": "white",
            "showbackground": true,
            "ticks": "",
            "zerolinecolor": "white"
           },
           "zaxis": {
            "backgroundcolor": "#E5ECF6",
            "gridcolor": "white",
            "gridwidth": 2,
            "linecolor": "white",
            "showbackground": true,
            "ticks": "",
            "zerolinecolor": "white"
           }
          },
          "shapedefaults": {
           "line": {
            "color": "#2a3f5f"
           }
          },
          "ternary": {
           "aaxis": {
            "gridcolor": "white",
            "linecolor": "white",
            "ticks": ""
           },
           "baxis": {
            "gridcolor": "white",
            "linecolor": "white",
            "ticks": ""
           },
           "bgcolor": "#E5ECF6",
           "caxis": {
            "gridcolor": "white",
            "linecolor": "white",
            "ticks": ""
           }
          },
          "title": {
           "x": 0.05
          },
          "xaxis": {
           "automargin": true,
           "gridcolor": "white",
           "linecolor": "white",
           "ticks": "",
           "title": {
            "standoff": 15
           },
           "zerolinecolor": "white",
           "zerolinewidth": 2
          },
          "yaxis": {
           "automargin": true,
           "gridcolor": "white",
           "linecolor": "white",
           "ticks": "",
           "title": {
            "standoff": 15
           },
           "zerolinecolor": "white",
           "zerolinewidth": 2
          }
         }
        },
        "title": {
         "text": "Type Distribution"
        }
       }
      }
     },
     "metadata": {},
     "output_type": "display_data"
    }
   ],
   "source": [
    "type_df = cu_anime_df[\"type\"].value_counts().to_frame()\n",
    "type_df = type_df.reset_index()\n",
    "fig = px.treemap(type_df, path=['type'], values='count', title=\"Type Distribution\")\n",
    "fig.show()"
   ]
  },
  {
   "cell_type": "code",
   "execution_count": 9,
   "id": "ece8d086",
   "metadata": {},
   "outputs": [
    {
     "data": {
      "application/vnd.microsoft.datawrangler.viewer.v0+json": {
       "columns": [
        {
         "name": "index",
         "rawType": "object",
         "type": "string"
        },
        {
         "name": "name",
         "rawType": "object",
         "type": "unknown"
        },
        {
         "name": "genre",
         "rawType": "object",
         "type": "unknown"
        },
        {
         "name": "type",
         "rawType": "object",
         "type": "unknown"
        },
        {
         "name": "episodes",
         "rawType": "object",
         "type": "unknown"
        }
       ],
       "ref": "3afcc72c-cf8d-49f2-b03b-d0b742f546ec",
       "rows": [
        [
         "count",
         "6159",
         "6104",
         "6134",
         "6159"
        ],
        [
         "unique",
         "6159",
         "2197",
         "2",
         "187"
        ],
        [
         "top",
         "Kimi no Na wa.",
         "Comedy",
         "TV",
         "1"
        ],
        [
         "freq",
         "1",
         "251",
         "3787",
         "2310"
        ]
       ],
       "shape": {
        "columns": 4,
        "rows": 4
       }
      },
      "text/html": [
       "<div>\n",
       "<style scoped>\n",
       "    .dataframe tbody tr th:only-of-type {\n",
       "        vertical-align: middle;\n",
       "    }\n",
       "\n",
       "    .dataframe tbody tr th {\n",
       "        vertical-align: top;\n",
       "    }\n",
       "\n",
       "    .dataframe thead th {\n",
       "        text-align: right;\n",
       "    }\n",
       "</style>\n",
       "<table border=\"1\" class=\"dataframe\">\n",
       "  <thead>\n",
       "    <tr style=\"text-align: right;\">\n",
       "      <th></th>\n",
       "      <th>name</th>\n",
       "      <th>genre</th>\n",
       "      <th>type</th>\n",
       "      <th>episodes</th>\n",
       "    </tr>\n",
       "  </thead>\n",
       "  <tbody>\n",
       "    <tr>\n",
       "      <th>count</th>\n",
       "      <td>6159</td>\n",
       "      <td>6104</td>\n",
       "      <td>6134</td>\n",
       "      <td>6159</td>\n",
       "    </tr>\n",
       "    <tr>\n",
       "      <th>unique</th>\n",
       "      <td>6159</td>\n",
       "      <td>2197</td>\n",
       "      <td>2</td>\n",
       "      <td>187</td>\n",
       "    </tr>\n",
       "    <tr>\n",
       "      <th>top</th>\n",
       "      <td>Kimi no Na wa.</td>\n",
       "      <td>Comedy</td>\n",
       "      <td>TV</td>\n",
       "      <td>1</td>\n",
       "    </tr>\n",
       "    <tr>\n",
       "      <th>freq</th>\n",
       "      <td>1</td>\n",
       "      <td>251</td>\n",
       "      <td>3787</td>\n",
       "      <td>2310</td>\n",
       "    </tr>\n",
       "  </tbody>\n",
       "</table>\n",
       "</div>"
      ],
      "text/plain": [
       "                  name   genre  type episodes\n",
       "count             6159    6104  6134     6159\n",
       "unique            6159    2197     2      187\n",
       "top     Kimi no Na wa.  Comedy    TV        1\n",
       "freq                 1     251  3787     2310"
      ]
     },
     "execution_count": 9,
     "metadata": {},
     "output_type": "execute_result"
    }
   ],
   "source": [
    "cu_anime_df.describe(include=object)"
   ]
  },
  {
   "cell_type": "markdown",
   "id": "0f914a67",
   "metadata": {},
   "source": [
    "All the names are now unique  \n",
    "As we can see episodes is an object, we need to address that."
   ]
  },
  {
   "cell_type": "code",
   "execution_count": 10,
   "id": "e8913e25",
   "metadata": {},
   "outputs": [
    {
     "data": {
      "text/plain": [
       "array(['1', '64', '51', '24', '10', '148', '13', '201', '25', '22', '75',\n",
       "       '26', '12', '27', '43', '74', '37', '11', '2', '99', 'Unknown',\n",
       "       '39', '101', '47', '50', '62', '33', '112', '23', '94', '40', '15',\n",
       "       '203', '77', '291', '4', '120', '102', '96', '38', '79', '175',\n",
       "       '103', '70', '153', '45', '21', '14', '63', '52', '5', '3', '145',\n",
       "       '36', '69', '60', '178', '114', '35', '61', '34', '109', '49',\n",
       "       '366', '97', '78', '358', '155', '20', '104', '113', '48', '54',\n",
       "       '167', '161', '42', '142', '31', '373', '8', '220', '46', '195',\n",
       "       '17', '1787', '73', '147', '127', '19', '6', '98', '150', '76',\n",
       "       '53', '124', '29', '115', '224', '44', '58', '93', '154', '92',\n",
       "       '67', '172', '9', '86', '30', '276', '59', '72', '330', '7', '41',\n",
       "       '105', '128', '137', '56', '55', '65', '243', '193', '18', '191',\n",
       "       '180', '91', '192', '66', '16', '182', '32', '164', '100', '296',\n",
       "       '694', '95', '68', '117', '151', '130', '87', '170', '119', '84',\n",
       "       '108', '28', '156', '140', '331', '305', '300', '510', '200', '88',\n",
       "       '1471', '526', '143', '726', '136', '1818', '237', '1428', '365',\n",
       "       '163', '283', '71', '260', '199', '225', '312', '240', '1306',\n",
       "       '1565', '773', '110', '1274', '90', '475', '263', '83', '85',\n",
       "       '1006', '80', '162', '132', '141', '125'], dtype=object)"
      ]
     },
     "execution_count": 10,
     "metadata": {},
     "output_type": "execute_result"
    }
   ],
   "source": [
    "cu_anime_df[\"episodes\"].unique()"
   ]
  },
  {
   "cell_type": "code",
   "execution_count": 11,
   "id": "0860f832",
   "metadata": {},
   "outputs": [
    {
     "data": {
      "application/vnd.plotly.v1+json": {
       "config": {
        "plotlyServerURL": "https://plot.ly"
       },
       "data": [
        {
         "branchvalues": "total",
         "domain": {
          "x": [
           0,
           1
          ],
          "y": [
           0,
           1
          ]
         },
         "hovertemplate": "labels=%{label}<br>count=%{value}<br>parent=%{parent}<br>id=%{id}<extra></extra>",
         "ids": [
          "1",
          "12",
          "13",
          "26",
          "Unknown",
          "52",
          "24",
          "25",
          "51",
          "39",
          "50",
          "10",
          "11",
          "22",
          "48",
          "23",
          "49",
          "20",
          "47",
          "6",
          "38",
          "30",
          "16",
          "4",
          "14",
          "40",
          "43",
          "46",
          "5",
          "35",
          "21",
          "3",
          "45",
          "27",
          "37",
          "8",
          "44",
          "104",
          "36",
          "65",
          "34",
          "15",
          "33",
          "31",
          "100",
          "56",
          "29",
          "2",
          "61",
          "32",
          "42",
          "54",
          "9",
          "78",
          "53",
          "73",
          "77",
          "60",
          "64",
          "130",
          "156",
          "28",
          "41",
          "18",
          "75",
          "74",
          "103",
          "102",
          "7",
          "101",
          "70",
          "19",
          "63",
          "59",
          "58",
          "96",
          "86",
          "55",
          "72",
          "127",
          "17",
          "109",
          "97",
          "76",
          "170",
          "105",
          "94",
          "114",
          "148",
          "99",
          "178",
          "110",
          "80",
          "312",
          "225",
          "260",
          "240",
          "68",
          "69",
          "112",
          "153",
          "62",
          "143",
          "195",
          "115",
          "92",
          "142",
          "91",
          "164",
          "296",
          "66",
          "108",
          "95",
          "305",
          "151",
          "180",
          "365",
          "119",
          "84",
          "140",
          "200",
          "88",
          "201",
          "145",
          "120",
          "79",
          "203",
          "291",
          "175",
          "172",
          "67",
          "193",
          "243",
          "137",
          "128",
          "276",
          "330",
          "147",
          "98",
          "161",
          "167",
          "155",
          "373",
          "220",
          "358",
          "366",
          "113",
          "154",
          "224",
          "150",
          "124",
          "93",
          "1787",
          "191",
          "182",
          "1471",
          "510",
          "331",
          "300",
          "87",
          "192",
          "694",
          "117",
          "1428",
          "237",
          "1818",
          "136",
          "71",
          "283",
          "726",
          "526",
          "199",
          "163",
          "1565",
          "1306",
          "1274",
          "90",
          "475",
          "773",
          "263",
          "83",
          "85",
          "1006",
          "162",
          "132",
          "141",
          "125"
         ],
         "labels": [
          "1",
          "12",
          "13",
          "26",
          "Unknown",
          "52",
          "24",
          "25",
          "51",
          "39",
          "50",
          "10",
          "11",
          "22",
          "48",
          "23",
          "49",
          "20",
          "47",
          "6",
          "38",
          "30",
          "16",
          "4",
          "14",
          "40",
          "43",
          "46",
          "5",
          "35",
          "21",
          "3",
          "45",
          "27",
          "37",
          "8",
          "44",
          "104",
          "36",
          "65",
          "34",
          "15",
          "33",
          "31",
          "100",
          "56",
          "29",
          "2",
          "61",
          "32",
          "42",
          "54",
          "9",
          "78",
          "53",
          "73",
          "77",
          "60",
          "64",
          "130",
          "156",
          "28",
          "41",
          "18",
          "75",
          "74",
          "103",
          "102",
          "7",
          "101",
          "70",
          "19",
          "63",
          "59",
          "58",
          "96",
          "86",
          "55",
          "72",
          "127",
          "17",
          "109",
          "97",
          "76",
          "170",
          "105",
          "94",
          "114",
          "148",
          "99",
          "178",
          "110",
          "80",
          "312",
          "225",
          "260",
          "240",
          "68",
          "69",
          "112",
          "153",
          "62",
          "143",
          "195",
          "115",
          "92",
          "142",
          "91",
          "164",
          "296",
          "66",
          "108",
          "95",
          "305",
          "151",
          "180",
          "365",
          "119",
          "84",
          "140",
          "200",
          "88",
          "201",
          "145",
          "120",
          "79",
          "203",
          "291",
          "175",
          "172",
          "67",
          "193",
          "243",
          "137",
          "128",
          "276",
          "330",
          "147",
          "98",
          "161",
          "167",
          "155",
          "373",
          "220",
          "358",
          "366",
          "113",
          "154",
          "224",
          "150",
          "124",
          "93",
          "1787",
          "191",
          "182",
          "1471",
          "510",
          "331",
          "300",
          "87",
          "192",
          "694",
          "117",
          "1428",
          "237",
          "1818",
          "136",
          "71",
          "283",
          "726",
          "526",
          "199",
          "163",
          "1565",
          "1306",
          "1274",
          "90",
          "475",
          "773",
          "263",
          "83",
          "85",
          "1006",
          "162",
          "132",
          "141",
          "125"
         ],
         "name": "",
         "parents": [
          "",
          "",
          "",
          "",
          "",
          "",
          "",
          "",
          "",
          "",
          "",
          "",
          "",
          "",
          "",
          "",
          "",
          "",
          "",
          "",
          "",
          "",
          "",
          "",
          "",
          "",
          "",
          "",
          "",
          "",
          "",
          "",
          "",
          "",
          "",
          "",
          "",
          "",
          "",
          "",
          "",
          "",
          "",
          "",
          "",
          "",
          "",
          "",
          "",
          "",
          "",
          "",
          "",
          "",
          "",
          "",
          "",
          "",
          "",
          "",
          "",
          "",
          "",
          "",
          "",
          "",
          "",
          "",
          "",
          "",
          "",
          "",
          "",
          "",
          "",
          "",
          "",
          "",
          "",
          "",
          "",
          "",
          "",
          "",
          "",
          "",
          "",
          "",
          "",
          "",
          "",
          "",
          "",
          "",
          "",
          "",
          "",
          "",
          "",
          "",
          "",
          "",
          "",
          "",
          "",
          "",
          "",
          "",
          "",
          "",
          "",
          "",
          "",
          "",
          "",
          "",
          "",
          "",
          "",
          "",
          "",
          "",
          "",
          "",
          "",
          "",
          "",
          "",
          "",
          "",
          "",
          "",
          "",
          "",
          "",
          "",
          "",
          "",
          "",
          "",
          "",
          "",
          "",
          "",
          "",
          "",
          "",
          "",
          "",
          "",
          "",
          "",
          "",
          "",
          "",
          "",
          "",
          "",
          "",
          "",
          "",
          "",
          "",
          "",
          "",
          "",
          "",
          "",
          "",
          "",
          "",
          "",
          "",
          "",
          "",
          "",
          "",
          "",
          "",
          "",
          "",
          "",
          "",
          "",
          "",
          "",
          ""
         ],
         "type": "treemap",
         "values": {
          "bdata": "AAAAAAAMokAAAAAAAHiHQAAAAAAAMIBAAAAAAAAQf0AAAAAAAMBtQAAAAAAA4GVAAAAAAADgZEAAAAAAAOBjQAAAAAAAAFlAAAAAAAAAVUAAAAAAAMBUQAAAAAAAgE9AAAAAAACAS0AAAAAAAABEQAAAAAAAAEFAAAAAAACAQEAAAAAAAAA/QAAAAAAAADpAAAAAAAAAOUAAAAAAAAA5QAAAAAAAADZAAAAAAAAANUAAAAAAAAA0QAAAAAAAADRAAAAAAAAAMkAAAAAAAAAyQAAAAAAAADJAAAAAAAAAMkAAAAAAAAAxQAAAAAAAAC5AAAAAAAAALkAAAAAAAAAuQAAAAAAAAC5AAAAAAAAALEAAAAAAAAAsQAAAAAAAACxAAAAAAAAAKkAAAAAAAAAoQAAAAAAAACZAAAAAAAAAJkAAAAAAAAAmQAAAAAAAACRAAAAAAAAAJEAAAAAAAAAkQAAAAAAAACRAAAAAAAAAJEAAAAAAAAAkQAAAAAAAACJAAAAAAAAAIkAAAAAAAAAiQAAAAAAAACJAAAAAAAAAIkAAAAAAAAAgQAAAAAAAACBAAAAAAAAAIEAAAAAAAAAcQAAAAAAAABxAAAAAAAAAHEAAAAAAAAAcQAAAAAAAABxAAAAAAAAAHEAAAAAAAAAYQAAAAAAAABhAAAAAAAAAGEAAAAAAAAAYQAAAAAAAABRAAAAAAAAAFEAAAAAAAAAUQAAAAAAAABRAAAAAAAAAFEAAAAAAAAAQQAAAAAAAABBAAAAAAAAAEEAAAAAAAAAQQAAAAAAAABBAAAAAAAAAEEAAAAAAAAAIQAAAAAAAAAhAAAAAAAAACEAAAAAAAAAIQAAAAAAAAAhAAAAAAAAACEAAAAAAAAAIQAAAAAAAAAhAAAAAAAAACEAAAAAAAAAIQAAAAAAAAAhAAAAAAAAACEAAAAAAAAAAQAAAAAAAAABAAAAAAAAAAEAAAAAAAAAAQAAAAAAAAABAAAAAAAAAAEAAAAAAAAAAQAAAAAAAAABAAAAAAAAAAEAAAAAAAAAAQAAAAAAAAABAAAAAAAAAAEAAAAAAAAAAQAAAAAAAAABAAAAAAAAAAEAAAAAAAAAAQAAAAAAAAABAAAAAAAAAAEAAAAAAAAAAQAAAAAAAAABAAAAAAAAAAEAAAAAAAAAAQAAAAAAAAABAAAAAAAAAAEAAAAAAAAAAQAAAAAAAAABAAAAAAAAAAEAAAAAAAAAAQAAAAAAAAABAAAAAAAAAAEAAAAAAAAAAQAAAAAAAAABAAAAAAAAAAEAAAAAAAAAAQAAAAAAAAPA/AAAAAAAA8D8AAAAAAADwPwAAAAAAAPA/AAAAAAAA8D8AAAAAAADwPwAAAAAAAPA/AAAAAAAA8D8AAAAAAADwPwAAAAAAAPA/AAAAAAAA8D8AAAAAAADwPwAAAAAAAPA/AAAAAAAA8D8AAAAAAADwPwAAAAAAAPA/AAAAAAAA8D8AAAAAAADwPwAAAAAAAPA/AAAAAAAA8D8AAAAAAADwPwAAAAAAAPA/AAAAAAAA8D8AAAAAAADwPwAAAAAAAPA/AAAAAAAA8D8AAAAAAADwPwAAAAAAAPA/AAAAAAAA8D8AAAAAAADwPwAAAAAAAPA/AAAAAAAA8D8AAAAAAADwPwAAAAAAAPA/AAAAAAAA8D8AAAAAAADwPwAAAAAAAPA/AAAAAAAA8D8AAAAAAADwPwAAAAAAAPA/AAAAAAAA8D8AAAAAAADwPwAAAAAAAPA/AAAAAAAA8D8AAAAAAADwPwAAAAAAAPA/AAAAAAAA8D8AAAAAAADwPwAAAAAAAPA/AAAAAAAA8D8AAAAAAADwPwAAAAAAAPA/AAAAAAAA8D8AAAAAAADwPwAAAAAAAPA/AAAAAAAA8D8AAAAAAADwPwAAAAAAAPA/AAAAAAAA8D8AAAAAAADwPwAAAAAAAPA/AAAAAAAA8D8AAAAAAADwPwAAAAAAAPA/AAAAAAAA8D8=",
          "dtype": "f8"
         }
        }
       ],
       "layout": {
        "legend": {
         "tracegroupgap": 0
        },
        "template": {
         "data": {
          "bar": [
           {
            "error_x": {
             "color": "#2a3f5f"
            },
            "error_y": {
             "color": "#2a3f5f"
            },
            "marker": {
             "line": {
              "color": "#E5ECF6",
              "width": 0.5
             },
             "pattern": {
              "fillmode": "overlay",
              "size": 10,
              "solidity": 0.2
             }
            },
            "type": "bar"
           }
          ],
          "barpolar": [
           {
            "marker": {
             "line": {
              "color": "#E5ECF6",
              "width": 0.5
             },
             "pattern": {
              "fillmode": "overlay",
              "size": 10,
              "solidity": 0.2
             }
            },
            "type": "barpolar"
           }
          ],
          "carpet": [
           {
            "aaxis": {
             "endlinecolor": "#2a3f5f",
             "gridcolor": "white",
             "linecolor": "white",
             "minorgridcolor": "white",
             "startlinecolor": "#2a3f5f"
            },
            "baxis": {
             "endlinecolor": "#2a3f5f",
             "gridcolor": "white",
             "linecolor": "white",
             "minorgridcolor": "white",
             "startlinecolor": "#2a3f5f"
            },
            "type": "carpet"
           }
          ],
          "choropleth": [
           {
            "colorbar": {
             "outlinewidth": 0,
             "ticks": ""
            },
            "type": "choropleth"
           }
          ],
          "contour": [
           {
            "colorbar": {
             "outlinewidth": 0,
             "ticks": ""
            },
            "colorscale": [
             [
              0,
              "#0d0887"
             ],
             [
              0.1111111111111111,
              "#46039f"
             ],
             [
              0.2222222222222222,
              "#7201a8"
             ],
             [
              0.3333333333333333,
              "#9c179e"
             ],
             [
              0.4444444444444444,
              "#bd3786"
             ],
             [
              0.5555555555555556,
              "#d8576b"
             ],
             [
              0.6666666666666666,
              "#ed7953"
             ],
             [
              0.7777777777777778,
              "#fb9f3a"
             ],
             [
              0.8888888888888888,
              "#fdca26"
             ],
             [
              1,
              "#f0f921"
             ]
            ],
            "type": "contour"
           }
          ],
          "contourcarpet": [
           {
            "colorbar": {
             "outlinewidth": 0,
             "ticks": ""
            },
            "type": "contourcarpet"
           }
          ],
          "heatmap": [
           {
            "colorbar": {
             "outlinewidth": 0,
             "ticks": ""
            },
            "colorscale": [
             [
              0,
              "#0d0887"
             ],
             [
              0.1111111111111111,
              "#46039f"
             ],
             [
              0.2222222222222222,
              "#7201a8"
             ],
             [
              0.3333333333333333,
              "#9c179e"
             ],
             [
              0.4444444444444444,
              "#bd3786"
             ],
             [
              0.5555555555555556,
              "#d8576b"
             ],
             [
              0.6666666666666666,
              "#ed7953"
             ],
             [
              0.7777777777777778,
              "#fb9f3a"
             ],
             [
              0.8888888888888888,
              "#fdca26"
             ],
             [
              1,
              "#f0f921"
             ]
            ],
            "type": "heatmap"
           }
          ],
          "histogram": [
           {
            "marker": {
             "pattern": {
              "fillmode": "overlay",
              "size": 10,
              "solidity": 0.2
             }
            },
            "type": "histogram"
           }
          ],
          "histogram2d": [
           {
            "colorbar": {
             "outlinewidth": 0,
             "ticks": ""
            },
            "colorscale": [
             [
              0,
              "#0d0887"
             ],
             [
              0.1111111111111111,
              "#46039f"
             ],
             [
              0.2222222222222222,
              "#7201a8"
             ],
             [
              0.3333333333333333,
              "#9c179e"
             ],
             [
              0.4444444444444444,
              "#bd3786"
             ],
             [
              0.5555555555555556,
              "#d8576b"
             ],
             [
              0.6666666666666666,
              "#ed7953"
             ],
             [
              0.7777777777777778,
              "#fb9f3a"
             ],
             [
              0.8888888888888888,
              "#fdca26"
             ],
             [
              1,
              "#f0f921"
             ]
            ],
            "type": "histogram2d"
           }
          ],
          "histogram2dcontour": [
           {
            "colorbar": {
             "outlinewidth": 0,
             "ticks": ""
            },
            "colorscale": [
             [
              0,
              "#0d0887"
             ],
             [
              0.1111111111111111,
              "#46039f"
             ],
             [
              0.2222222222222222,
              "#7201a8"
             ],
             [
              0.3333333333333333,
              "#9c179e"
             ],
             [
              0.4444444444444444,
              "#bd3786"
             ],
             [
              0.5555555555555556,
              "#d8576b"
             ],
             [
              0.6666666666666666,
              "#ed7953"
             ],
             [
              0.7777777777777778,
              "#fb9f3a"
             ],
             [
              0.8888888888888888,
              "#fdca26"
             ],
             [
              1,
              "#f0f921"
             ]
            ],
            "type": "histogram2dcontour"
           }
          ],
          "mesh3d": [
           {
            "colorbar": {
             "outlinewidth": 0,
             "ticks": ""
            },
            "type": "mesh3d"
           }
          ],
          "parcoords": [
           {
            "line": {
             "colorbar": {
              "outlinewidth": 0,
              "ticks": ""
             }
            },
            "type": "parcoords"
           }
          ],
          "pie": [
           {
            "automargin": true,
            "type": "pie"
           }
          ],
          "scatter": [
           {
            "fillpattern": {
             "fillmode": "overlay",
             "size": 10,
             "solidity": 0.2
            },
            "type": "scatter"
           }
          ],
          "scatter3d": [
           {
            "line": {
             "colorbar": {
              "outlinewidth": 0,
              "ticks": ""
             }
            },
            "marker": {
             "colorbar": {
              "outlinewidth": 0,
              "ticks": ""
             }
            },
            "type": "scatter3d"
           }
          ],
          "scattercarpet": [
           {
            "marker": {
             "colorbar": {
              "outlinewidth": 0,
              "ticks": ""
             }
            },
            "type": "scattercarpet"
           }
          ],
          "scattergeo": [
           {
            "marker": {
             "colorbar": {
              "outlinewidth": 0,
              "ticks": ""
             }
            },
            "type": "scattergeo"
           }
          ],
          "scattergl": [
           {
            "marker": {
             "colorbar": {
              "outlinewidth": 0,
              "ticks": ""
             }
            },
            "type": "scattergl"
           }
          ],
          "scattermap": [
           {
            "marker": {
             "colorbar": {
              "outlinewidth": 0,
              "ticks": ""
             }
            },
            "type": "scattermap"
           }
          ],
          "scattermapbox": [
           {
            "marker": {
             "colorbar": {
              "outlinewidth": 0,
              "ticks": ""
             }
            },
            "type": "scattermapbox"
           }
          ],
          "scatterpolar": [
           {
            "marker": {
             "colorbar": {
              "outlinewidth": 0,
              "ticks": ""
             }
            },
            "type": "scatterpolar"
           }
          ],
          "scatterpolargl": [
           {
            "marker": {
             "colorbar": {
              "outlinewidth": 0,
              "ticks": ""
             }
            },
            "type": "scatterpolargl"
           }
          ],
          "scatterternary": [
           {
            "marker": {
             "colorbar": {
              "outlinewidth": 0,
              "ticks": ""
             }
            },
            "type": "scatterternary"
           }
          ],
          "surface": [
           {
            "colorbar": {
             "outlinewidth": 0,
             "ticks": ""
            },
            "colorscale": [
             [
              0,
              "#0d0887"
             ],
             [
              0.1111111111111111,
              "#46039f"
             ],
             [
              0.2222222222222222,
              "#7201a8"
             ],
             [
              0.3333333333333333,
              "#9c179e"
             ],
             [
              0.4444444444444444,
              "#bd3786"
             ],
             [
              0.5555555555555556,
              "#d8576b"
             ],
             [
              0.6666666666666666,
              "#ed7953"
             ],
             [
              0.7777777777777778,
              "#fb9f3a"
             ],
             [
              0.8888888888888888,
              "#fdca26"
             ],
             [
              1,
              "#f0f921"
             ]
            ],
            "type": "surface"
           }
          ],
          "table": [
           {
            "cells": {
             "fill": {
              "color": "#EBF0F8"
             },
             "line": {
              "color": "white"
             }
            },
            "header": {
             "fill": {
              "color": "#C8D4E3"
             },
             "line": {
              "color": "white"
             }
            },
            "type": "table"
           }
          ]
         },
         "layout": {
          "annotationdefaults": {
           "arrowcolor": "#2a3f5f",
           "arrowhead": 0,
           "arrowwidth": 1
          },
          "autotypenumbers": "strict",
          "coloraxis": {
           "colorbar": {
            "outlinewidth": 0,
            "ticks": ""
           }
          },
          "colorscale": {
           "diverging": [
            [
             0,
             "#8e0152"
            ],
            [
             0.1,
             "#c51b7d"
            ],
            [
             0.2,
             "#de77ae"
            ],
            [
             0.3,
             "#f1b6da"
            ],
            [
             0.4,
             "#fde0ef"
            ],
            [
             0.5,
             "#f7f7f7"
            ],
            [
             0.6,
             "#e6f5d0"
            ],
            [
             0.7,
             "#b8e186"
            ],
            [
             0.8,
             "#7fbc41"
            ],
            [
             0.9,
             "#4d9221"
            ],
            [
             1,
             "#276419"
            ]
           ],
           "sequential": [
            [
             0,
             "#0d0887"
            ],
            [
             0.1111111111111111,
             "#46039f"
            ],
            [
             0.2222222222222222,
             "#7201a8"
            ],
            [
             0.3333333333333333,
             "#9c179e"
            ],
            [
             0.4444444444444444,
             "#bd3786"
            ],
            [
             0.5555555555555556,
             "#d8576b"
            ],
            [
             0.6666666666666666,
             "#ed7953"
            ],
            [
             0.7777777777777778,
             "#fb9f3a"
            ],
            [
             0.8888888888888888,
             "#fdca26"
            ],
            [
             1,
             "#f0f921"
            ]
           ],
           "sequentialminus": [
            [
             0,
             "#0d0887"
            ],
            [
             0.1111111111111111,
             "#46039f"
            ],
            [
             0.2222222222222222,
             "#7201a8"
            ],
            [
             0.3333333333333333,
             "#9c179e"
            ],
            [
             0.4444444444444444,
             "#bd3786"
            ],
            [
             0.5555555555555556,
             "#d8576b"
            ],
            [
             0.6666666666666666,
             "#ed7953"
            ],
            [
             0.7777777777777778,
             "#fb9f3a"
            ],
            [
             0.8888888888888888,
             "#fdca26"
            ],
            [
             1,
             "#f0f921"
            ]
           ]
          },
          "colorway": [
           "#636efa",
           "#EF553B",
           "#00cc96",
           "#ab63fa",
           "#FFA15A",
           "#19d3f3",
           "#FF6692",
           "#B6E880",
           "#FF97FF",
           "#FECB52"
          ],
          "font": {
           "color": "#2a3f5f"
          },
          "geo": {
           "bgcolor": "white",
           "lakecolor": "white",
           "landcolor": "#E5ECF6",
           "showlakes": true,
           "showland": true,
           "subunitcolor": "white"
          },
          "hoverlabel": {
           "align": "left"
          },
          "hovermode": "closest",
          "mapbox": {
           "style": "light"
          },
          "paper_bgcolor": "white",
          "plot_bgcolor": "#E5ECF6",
          "polar": {
           "angularaxis": {
            "gridcolor": "white",
            "linecolor": "white",
            "ticks": ""
           },
           "bgcolor": "#E5ECF6",
           "radialaxis": {
            "gridcolor": "white",
            "linecolor": "white",
            "ticks": ""
           }
          },
          "scene": {
           "xaxis": {
            "backgroundcolor": "#E5ECF6",
            "gridcolor": "white",
            "gridwidth": 2,
            "linecolor": "white",
            "showbackground": true,
            "ticks": "",
            "zerolinecolor": "white"
           },
           "yaxis": {
            "backgroundcolor": "#E5ECF6",
            "gridcolor": "white",
            "gridwidth": 2,
            "linecolor": "white",
            "showbackground": true,
            "ticks": "",
            "zerolinecolor": "white"
           },
           "zaxis": {
            "backgroundcolor": "#E5ECF6",
            "gridcolor": "white",
            "gridwidth": 2,
            "linecolor": "white",
            "showbackground": true,
            "ticks": "",
            "zerolinecolor": "white"
           }
          },
          "shapedefaults": {
           "line": {
            "color": "#2a3f5f"
           }
          },
          "ternary": {
           "aaxis": {
            "gridcolor": "white",
            "linecolor": "white",
            "ticks": ""
           },
           "baxis": {
            "gridcolor": "white",
            "linecolor": "white",
            "ticks": ""
           },
           "bgcolor": "#E5ECF6",
           "caxis": {
            "gridcolor": "white",
            "linecolor": "white",
            "ticks": ""
           }
          },
          "title": {
           "x": 0.05
          },
          "xaxis": {
           "automargin": true,
           "gridcolor": "white",
           "linecolor": "white",
           "ticks": "",
           "title": {
            "standoff": 15
           },
           "zerolinecolor": "white",
           "zerolinewidth": 2
          },
          "yaxis": {
           "automargin": true,
           "gridcolor": "white",
           "linecolor": "white",
           "ticks": "",
           "title": {
            "standoff": 15
           },
           "zerolinecolor": "white",
           "zerolinewidth": 2
          }
         }
        },
        "title": {
         "text": "Episodes Distribution"
        }
       }
      }
     },
     "metadata": {},
     "output_type": "display_data"
    }
   ],
   "source": [
    "episodes_df = cu_anime_df[\"episodes\"].value_counts().to_frame()\n",
    "episodes_df = episodes_df.reset_index()\n",
    "fig = px.treemap(episodes_df, path=['episodes'], values='count', title=\"Episodes Distribution\")\n",
    "fig.show()"
   ]
  },
  {
   "cell_type": "markdown",
   "id": "414c65bb",
   "metadata": {},
   "source": [
    "Episodes have some missing values. After combining with the other datasets, we'll see if these are addressed."
   ]
  },
  {
   "cell_type": "code",
   "execution_count": 12,
   "id": "682de517",
   "metadata": {},
   "outputs": [
    {
     "name": "stdout",
     "output_type": "stream",
     "text": [
      "<class 'pandas.core.frame.DataFrame'>\n",
      "Index: 6159 entries, 0 to 12259\n",
      "Data columns (total 7 columns):\n",
      " #   Column    Non-Null Count  Dtype  \n",
      "---  ------    --------------  -----  \n",
      " 0   anime_id  6159 non-null   int64  \n",
      " 1   name      6159 non-null   object \n",
      " 2   genre     6104 non-null   object \n",
      " 3   type      6134 non-null   object \n",
      " 4   episodes  6159 non-null   object \n",
      " 5   rating    5967 non-null   float64\n",
      " 6   members   6159 non-null   int64  \n",
      "dtypes: float64(1), int64(2), object(4)\n",
      "memory usage: 384.9+ KB\n"
     ]
    }
   ],
   "source": [
    "cu_anime_df.info()"
   ]
  },
  {
   "cell_type": "markdown",
   "id": "0d67fa8a",
   "metadata": {},
   "source": [
    "#### Anime ratings for each user"
   ]
  },
  {
   "cell_type": "markdown",
   "id": "9cded49a",
   "metadata": {},
   "source": [
    "As a reminder we have some missing values in the form of negative values. These will be dropped"
   ]
  },
  {
   "cell_type": "code",
   "execution_count": 14,
   "id": "d99aaa55",
   "metadata": {},
   "outputs": [
    {
     "data": {
      "application/vnd.microsoft.datawrangler.viewer.v0+json": {
       "columns": [
        {
         "name": "index",
         "rawType": "object",
         "type": "string"
        },
        {
         "name": "0",
         "rawType": "int64",
         "type": "integer"
        }
       ],
       "ref": "816b343c-15bb-46fe-80dc-d9c2135f4469",
       "rows": [
        [
         "user_id",
         "1476496"
        ],
        [
         "anime_id",
         "1476496"
        ],
        [
         "rating",
         "1476496"
        ]
       ],
       "shape": {
        "columns": 1,
        "rows": 3
       }
      },
      "text/plain": [
       "user_id     1476496\n",
       "anime_id    1476496\n",
       "rating      1476496\n",
       "dtype: int64"
      ]
     },
     "execution_count": 14,
     "metadata": {},
     "output_type": "execute_result"
    }
   ],
   "source": [
    "cuRating = pd.read_csv(\"E:\\\\applied data science capstone\\\\data\\\\CooperUnion\\\\archive\\\\rating.csv\")\n",
    "cuRating[cuRating[\"rating\"] < 0].count()"
   ]
  },
  {
   "cell_type": "code",
   "execution_count": 15,
   "id": "5a6215e9",
   "metadata": {},
   "outputs": [
    {
     "data": {
      "application/vnd.microsoft.datawrangler.viewer.v0+json": {
       "columns": [
        {
         "name": "index",
         "rawType": "object",
         "type": "string"
        },
        {
         "name": "0",
         "rawType": "int64",
         "type": "integer"
        }
       ],
       "ref": "b3f817ac-cc24-4ae4-a83b-409b6d98d6de",
       "rows": [
        [
         "user_id",
         "0"
        ],
        [
         "anime_id",
         "0"
        ],
        [
         "rating",
         "0"
        ]
       ],
       "shape": {
        "columns": 1,
        "rows": 3
       }
      },
      "text/plain": [
       "user_id     0\n",
       "anime_id    0\n",
       "rating      0\n",
       "dtype: int64"
      ]
     },
     "execution_count": 15,
     "metadata": {},
     "output_type": "execute_result"
    }
   ],
   "source": [
    "cu_rating_df = cuRating[cuRating[\"rating\"] >= 0]\n",
    "cu_rating_df[cu_rating_df[\"rating\"] < 0].count()"
   ]
  },
  {
   "cell_type": "code",
   "execution_count": 16,
   "id": "2f73ebf9",
   "metadata": {},
   "outputs": [],
   "source": [
    "plots_location = \"E:\\\\applied data science capstone\\\\anime-recommendation\\\\preparation\""
   ]
  },
  {
   "cell_type": "code",
   "execution_count": 18,
   "id": "1bd2aa44",
   "metadata": {},
   "outputs": [],
   "source": [
    "import matplotlib.pyplot as plt\n",
    "import seaborn as sns"
   ]
  },
  {
   "cell_type": "code",
   "execution_count": 19,
   "id": "f18c1f58",
   "metadata": {},
   "outputs": [
    {
     "data": {
      "image/png": "[encoded data removed]",
      "text/plain": [
       "<Figure size 1000x500 with 1 Axes>"
      ]
     },
     "metadata": {},
     "output_type": "display_data"
    }
   ],
   "source": [
    "plt.figure(figsize=(10, 5))\n",
    "\n",
    "sns.boxplot(data=cu_rating_df[\"rating\"], color=\"lightgreen\")\n",
    "plt.title('Anime Recommendations Database\\nUser Rating Distribution')\n",
    "plt.ylabel('User Rating')\n",
    "\n",
    "plt.tight_layout()\n",
    "plt.savefig(f\"{plots_location}\\\\anime_recommendations_database\\\\user_rating_distribution.png\")\n",
    "plt.show()"
   ]
  },
  {
   "cell_type": "markdown",
   "id": "f285a2a8",
   "metadata": {},
   "source": [
    "There are no more missing values."
   ]
  },
  {
   "cell_type": "markdown",
   "id": "a55419f1",
   "metadata": {},
   "source": [
    "### Anime Recommendations Database 2020"
   ]
  },
  {
   "cell_type": "markdown",
   "id": "d64abd85",
   "metadata": {},
   "source": [
    "#### Anime Listing"
   ]
  },
  {
   "cell_type": "markdown",
   "id": "e313dd5a",
   "metadata": {},
   "source": [
    "First thing to do is to drop the scores features as it contains a lot of unknowns and they will not be used in the recommendation models."
   ]
  },
  {
   "cell_type": "code",
   "execution_count": 20,
   "id": "ffc80336",
   "metadata": {},
   "outputs": [],
   "source": [
    "hernanAnime = pd.read_csv(\"E:\\\\applied data science capstone\\\\data\\\\hernan4444\\\\archive\\\\anime-hernan.csv\")\n",
    "hernan_anime_df = hernanAnime.drop(columns=[\"Score-10\", \"Score-9\", \"Score-8\", \"Score-7\", \"Score-6\", \"Score-5\", \n",
    "                                \"Score-4\", \"Score-3\", \"Score-2\", \"Score-1\", \"Score\"])"
   ]
  },
  {
   "cell_type": "markdown",
   "id": "7027b0c9",
   "metadata": {},
   "source": [
    "Removing the numeric columns that will not be used in the recommendation system as well as the Ranked column."
   ]
  },
  {
   "cell_type": "code",
   "execution_count": 21,
   "id": "0ad8425c",
   "metadata": {},
   "outputs": [],
   "source": [
    "hernan_anime_df = hernan_anime_df.drop(columns=[\"Popularity\", \"Members\", \"Favorites\", \"Watching\", \"Completed\", \"On-Hold\", \n",
    "                                                \"Dropped\", \"Plan to Watch\", \"Ranked\"])"
   ]
  },
  {
   "cell_type": "markdown",
   "id": "71c71428",
   "metadata": {},
   "source": [
    "Rename the MAL_ID field to anime_id to make it easier to remove duplicate animes from the combined dataset in the future."
   ]
  },
  {
   "cell_type": "code",
   "execution_count": 22,
   "id": "5ca1274b",
   "metadata": {},
   "outputs": [],
   "source": [
    "hernan_anime_df = hernan_anime_df.rename(columns={\"MAL_ID\": \"anime_id\"})"
   ]
  },
  {
   "cell_type": "markdown",
   "id": "2b7c8277",
   "metadata": {},
   "source": [
    "Next is to remove the types that will provide no value. We will restrict the types to Tv, movie and unknown."
   ]
  },
  {
   "cell_type": "code",
   "execution_count": 23,
   "id": "4f808dad",
   "metadata": {},
   "outputs": [
    {
     "data": {
      "application/vnd.plotly.v1+json": {
       "config": {
        "plotlyServerURL": "https://plot.ly"
       },
       "data": [
        {
         "branchvalues": "total",
         "domain": {
          "x": [
           0,
           1
          ],
          "y": [
           0,
           1
          ]
         },
         "hovertemplate": "labels=%{label}<br>count=%{value}<br>parent=%{parent}<br>id=%{id}<extra></extra>",
         "ids": [
          "TV",
          "Movie",
          "Unknown"
         ],
         "labels": [
          "TV",
          "Movie",
          "Unknown"
         ],
         "name": "",
         "parents": [
          "",
          "",
          ""
         ],
         "type": "treemap",
         "values": {
          "bdata": "AAAAAACEs0AAAAAAAMKnQAAAAAAAgEJA",
          "dtype": "f8"
         }
        }
       ],
       "layout": {
        "legend": {
         "tracegroupgap": 0
        },
        "template": {
         "data": {
          "bar": [
           {
            "error_x": {
             "color": "#2a3f5f"
            },
            "error_y": {
             "color": "#2a3f5f"
            },
            "marker": {
             "line": {
              "color": "#E5ECF6",
              "width": 0.5
             },
             "pattern": {
              "fillmode": "overlay",
              "size": 10,
              "solidity": 0.2
             }
            },
            "type": "bar"
           }
          ],
          "barpolar": [
           {
            "marker": {
             "line": {
              "color": "#E5ECF6",
              "width": 0.5
             },
             "pattern": {
              "fillmode": "overlay",
              "size": 10,
              "solidity": 0.2
             }
            },
            "type": "barpolar"
           }
          ],
          "carpet": [
           {
            "aaxis": {
             "endlinecolor": "#2a3f5f",
             "gridcolor": "white",
             "linecolor": "white",
             "minorgridcolor": "white",
             "startlinecolor": "#2a3f5f"
            },
            "baxis": {
             "endlinecolor": "#2a3f5f",
             "gridcolor": "white",
             "linecolor": "white",
             "minorgridcolor": "white",
             "startlinecolor": "#2a3f5f"
            },
            "type": "carpet"
           }
          ],
          "choropleth": [
           {
            "colorbar": {
             "outlinewidth": 0,
             "ticks": ""
            },
            "type": "choropleth"
           }
          ],
          "contour": [
           {
            "colorbar": {
             "outlinewidth": 0,
             "ticks": ""
            },
            "colorscale": [
             [
              0,
              "#0d0887"
             ],
             [
              0.1111111111111111,
              "#46039f"
             ],
             [
              0.2222222222222222,
              "#7201a8"
             ],
             [
              0.3333333333333333,
              "#9c179e"
             ],
             [
              0.4444444444444444,
              "#bd3786"
             ],
             [
              0.5555555555555556,
              "#d8576b"
             ],
             [
              0.6666666666666666,
              "#ed7953"
             ],
             [
              0.7777777777777778,
              "#fb9f3a"
             ],
             [
              0.8888888888888888,
              "#fdca26"
             ],
             [
              1,
              "#f0f921"
             ]
            ],
            "type": "contour"
           }
          ],
          "contourcarpet": [
           {
            "colorbar": {
             "outlinewidth": 0,
             "ticks": ""
            },
            "type": "contourcarpet"
           }
          ],
          "heatmap": [
           {
            "colorbar": {
             "outlinewidth": 0,
             "ticks": ""
            },
            "colorscale": [
             [
              0,
              "#0d0887"
             ],
             [
              0.1111111111111111,
              "#46039f"
             ],
             [
              0.2222222222222222,
              "#7201a8"
             ],
             [
              0.3333333333333333,
              "#9c179e"
             ],
             [
              0.4444444444444444,
              "#bd3786"
             ],
             [
              0.5555555555555556,
              "#d8576b"
             ],
             [
              0.6666666666666666,
              "#ed7953"
             ],
             [
              0.7777777777777778,
              "#fb9f3a"
             ],
             [
              0.8888888888888888,
              "#fdca26"
             ],
             [
              1,
              "#f0f921"
             ]
            ],
            "type": "heatmap"
           }
          ],
          "histogram": [
           {
            "marker": {
             "pattern": {
              "fillmode": "overlay",
              "size": 10,
              "solidity": 0.2
             }
            },
            "type": "histogram"
           }
          ],
          "histogram2d": [
           {
            "colorbar": {
             "outlinewidth": 0,
             "ticks": ""
            },
            "colorscale": [
             [
              0,
              "#0d0887"
             ],
             [
              0.1111111111111111,
              "#46039f"
             ],
             [
              0.2222222222222222,
              "#7201a8"
             ],
             [
              0.3333333333333333,
              "#9c179e"
             ],
             [
              0.4444444444444444,
              "#bd3786"
             ],
             [
              0.5555555555555556,
              "#d8576b"
             ],
             [
              0.6666666666666666,
              "#ed7953"
             ],
             [
              0.7777777777777778,
              "#fb9f3a"
             ],
             [
              0.8888888888888888,
              "#fdca26"
             ],
             [
              1,
              "#f0f921"
             ]
            ],
            "type": "histogram2d"
           }
          ],
          "histogram2dcontour": [
           {
            "colorbar": {
             "outlinewidth": 0,
             "ticks": ""
            },
            "colorscale": [
             [
              0,
              "#0d0887"
             ],
             [
              0.1111111111111111,
              "#46039f"
             ],
             [
              0.2222222222222222,
              "#7201a8"
             ],
             [
              0.3333333333333333,
              "#9c179e"
             ],
             [
              0.4444444444444444,
              "#bd3786"
             ],
             [
              0.5555555555555556,
              "#d8576b"
             ],
             [
              0.6666666666666666,
              "#ed7953"
             ],
             [
              0.7777777777777778,
              "#fb9f3a"
             ],
             [
              0.8888888888888888,
              "#fdca26"
             ],
             [
              1,
              "#f0f921"
             ]
            ],
            "type": "histogram2dcontour"
           }
          ],
          "mesh3d": [
           {
            "colorbar": {
             "outlinewidth": 0,
             "ticks": ""
            },
            "type": "mesh3d"
           }
          ],
          "parcoords": [
           {
            "line": {
             "colorbar": {
              "outlinewidth": 0,
              "ticks": ""
             }
            },
            "type": "parcoords"
           }
          ],
          "pie": [
           {
            "automargin": true,
            "type": "pie"
           }
          ],
          "scatter": [
           {
            "fillpattern": {
             "fillmode": "overlay",
             "size": 10,
             "solidity": 0.2
            },
            "type": "scatter"
           }
          ],
          "scatter3d": [
           {
            "line": {
             "colorbar": {
              "outlinewidth": 0,
              "ticks": ""
             }
            },
            "marker": {
             "colorbar": {
              "outlinewidth": 0,
              "ticks": ""
             }
            },
            "type": "scatter3d"
           }
          ],
          "scattercarpet": [
           {
            "marker": {
             "colorbar": {
              "outlinewidth": 0,
              "ticks": ""
             }
            },
            "type": "scattercarpet"
           }
          ],
          "scattergeo": [
           {
            "marker": {
             "colorbar": {
              "outlinewidth": 0,
              "ticks": ""
             }
            },
            "type": "scattergeo"
           }
          ],
          "scattergl": [
           {
            "marker": {
             "colorbar": {
              "outlinewidth": 0,
              "ticks": ""
             }
            },
            "type": "scattergl"
           }
          ],
          "scattermap": [
           {
            "marker": {
             "colorbar": {
              "outlinewidth": 0,
              "ticks": ""
             }
            },
            "type": "scattermap"
           }
          ],
          "scattermapbox": [
           {
            "marker": {
             "colorbar": {
              "outlinewidth": 0,
              "ticks": ""
             }
            },
            "type": "scattermapbox"
           }
          ],
          "scatterpolar": [
           {
            "marker": {
             "colorbar": {
              "outlinewidth": 0,
              "ticks": ""
             }
            },
            "type": "scatterpolar"
           }
          ],
          "scatterpolargl": [
           {
            "marker": {
             "colorbar": {
              "outlinewidth": 0,
              "ticks": ""
             }
            },
            "type": "scatterpolargl"
           }
          ],
          "scatterternary": [
           {
            "marker": {
             "colorbar": {
              "outlinewidth": 0,
              "ticks": ""
             }
            },
            "type": "scatterternary"
           }
          ],
          "surface": [
           {
            "colorbar": {
             "outlinewidth": 0,
             "ticks": ""
            },
            "colorscale": [
             [
              0,
              "#0d0887"
             ],
             [
              0.1111111111111111,
              "#46039f"
             ],
             [
              0.2222222222222222,
              "#7201a8"
             ],
             [
              0.3333333333333333,
              "#9c179e"
             ],
             [
              0.4444444444444444,
              "#bd3786"
             ],
             [
              0.5555555555555556,
              "#d8576b"
             ],
             [
              0.6666666666666666,
              "#ed7953"
             ],
             [
              0.7777777777777778,
              "#fb9f3a"
             ],
             [
              0.8888888888888888,
              "#fdca26"
             ],
             [
              1,
              "#f0f921"
             ]
            ],
            "type": "surface"
           }
          ],
          "table": [
           {
            "cells": {
             "fill": {
              "color": "#EBF0F8"
             },
             "line": {
              "color": "white"
             }
            },
            "header": {
             "fill": {
              "color": "#C8D4E3"
             },
             "line": {
              "color": "white"
             }
            },
            "type": "table"
           }
          ]
         },
         "layout": {
          "annotationdefaults": {
           "arrowcolor": "#2a3f5f",
           "arrowhead": 0,
           "arrowwidth": 1
          },
          "autotypenumbers": "strict",
          "coloraxis": {
           "colorbar": {
            "outlinewidth": 0,
            "ticks": ""
           }
          },
          "colorscale": {
           "diverging": [
            [
             0,
             "#8e0152"
            ],
            [
             0.1,
             "#c51b7d"
            ],
            [
             0.2,
             "#de77ae"
            ],
            [
             0.3,
             "#f1b6da"
            ],
            [
             0.4,
             "#fde0ef"
            ],
            [
             0.5,
             "#f7f7f7"
            ],
            [
             0.6,
             "#e6f5d0"
            ],
            [
             0.7,
             "#b8e186"
            ],
            [
             0.8,
             "#7fbc41"
            ],
            [
             0.9,
             "#4d9221"
            ],
            [
             1,
             "#276419"
            ]
           ],
           "sequential": [
            [
             0,
             "#0d0887"
            ],
            [
             0.1111111111111111,
             "#46039f"
            ],
            [
             0.2222222222222222,
             "#7201a8"
            ],
            [
             0.3333333333333333,
             "#9c179e"
            ],
            [
             0.4444444444444444,
             "#bd3786"
            ],
            [
             0.5555555555555556,
             "#d8576b"
            ],
            [
             0.6666666666666666,
             "#ed7953"
            ],
            [
             0.7777777777777778,
             "#fb9f3a"
            ],
            [
             0.8888888888888888,
             "#fdca26"
            ],
            [
             1,
             "#f0f921"
            ]
           ],
           "sequentialminus": [
            [
             0,
             "#0d0887"
            ],
            [
             0.1111111111111111,
             "#46039f"
            ],
            [
             0.2222222222222222,
             "#7201a8"
            ],
            [
             0.3333333333333333,
             "#9c179e"
            ],
            [
             0.4444444444444444,
             "#bd3786"
            ],
            [
             0.5555555555555556,
             "#d8576b"
            ],
            [
             0.6666666666666666,
             "#ed7953"
            ],
            [
             0.7777777777777778,
             "#fb9f3a"
            ],
            [
             0.8888888888888888,
             "#fdca26"
            ],
            [
             1,
             "#f0f921"
            ]
           ]
          },
          "colorway": [
           "#636efa",
           "#EF553B",
           "#00cc96",
           "#ab63fa",
           "#FFA15A",
           "#19d3f3",
           "#FF6692",
           "#B6E880",
           "#FF97FF",
           "#FECB52"
          ],
          "font": {
           "color": "#2a3f5f"
          },
          "geo": {
           "bgcolor": "white",
           "lakecolor": "white",
           "landcolor": "#E5ECF6",
           "showlakes": true,
           "showland": true,
           "subunitcolor": "white"
          },
          "hoverlabel": {
           "align": "left"
          },
          "hovermode": "closest",
          "mapbox": {
           "style": "light"
          },
          "paper_bgcolor": "white",
          "plot_bgcolor": "#E5ECF6",
          "polar": {
           "angularaxis": {
            "gridcolor": "white",
            "linecolor": "white",
            "ticks": ""
           },
           "bgcolor": "#E5ECF6",
           "radialaxis": {
            "gridcolor": "white",
            "linecolor": "white",
            "ticks": ""
           }
          },
          "scene": {
           "xaxis": {
            "backgroundcolor": "#E5ECF6",
            "gridcolor": "white",
            "gridwidth": 2,
            "linecolor": "white",
            "showbackground": true,
            "ticks": "",
            "zerolinecolor": "white"
           },
           "yaxis": {
            "backgroundcolor": "#E5ECF6",
            "gridcolor": "white",
            "gridwidth": 2,
            "linecolor": "white",
            "showbackground": true,
            "ticks": "",
            "zerolinecolor": "white"
           },
           "zaxis": {
            "backgroundcolor": "#E5ECF6",
            "gridcolor": "white",
            "gridwidth": 2,
            "linecolor": "white",
            "showbackground": true,
            "ticks": "",
            "zerolinecolor": "white"
           }
          },
          "shapedefaults": {
           "line": {
            "color": "#2a3f5f"
           }
          },
          "ternary": {
           "aaxis": {
            "gridcolor": "white",
            "linecolor": "white",
            "ticks": ""
           },
           "baxis": {
            "gridcolor": "white",
            "linecolor": "white",
            "ticks": ""
           },
           "bgcolor": "#E5ECF6",
           "caxis": {
            "gridcolor": "white",
            "linecolor": "white",
            "ticks": ""
           }
          },
          "title": {
           "x": 0.05
          },
          "xaxis": {
           "automargin": true,
           "gridcolor": "white",
           "linecolor": "white",
           "ticks": "",
           "title": {
            "standoff": 15
           },
           "zerolinecolor": "white",
           "zerolinewidth": 2
          },
          "yaxis": {
           "automargin": true,
           "gridcolor": "white",
           "linecolor": "white",
           "ticks": "",
           "title": {
            "standoff": 15
           },
           "zerolinecolor": "white",
           "zerolinewidth": 2
          }
         }
        },
        "title": {
         "text": "Type Distribution"
        }
       }
      }
     },
     "metadata": {},
     "output_type": "display_data"
    }
   ],
   "source": [
    "hernan_anime_df = hernan_anime_df[hernan_anime_df[\"Type\"].isin([\"TV\", \"Movie\", \"Unknown\"])]\n",
    "type_df = hernan_anime_df[\"Type\"].value_counts().to_frame()\n",
    "type_df = type_df.reset_index()\n",
    "fig = px.treemap(type_df, path=['Type'], values='count', title=\"Type Distribution\")\n",
    "fig.show()"
   ]
  },
  {
   "cell_type": "markdown",
   "id": "eef7aa05",
   "metadata": {},
   "source": [
    "Unknown is a very small category with just 37. These may still be resolved once the datasets are combined."
   ]
  },
  {
   "cell_type": "markdown",
   "id": "7335958d",
   "metadata": {},
   "source": [
    "Removing the English Name and Japanese Name columns. The name column can be used to determine the name of the anime. Also dropping the aired column."
   ]
  },
  {
   "cell_type": "code",
   "execution_count": 24,
   "id": "2eb1c9e0",
   "metadata": {},
   "outputs": [],
   "source": [
    "hernan_anime_df = hernan_anime_df.drop(columns=[\"English name\", \"Japanese name\", \"Aired\"])"
   ]
  },
  {
   "cell_type": "markdown",
   "id": "9e714955",
   "metadata": {},
   "source": [
    "Removing the adult content"
   ]
  },
  {
   "cell_type": "code",
   "execution_count": 25,
   "id": "fe8d9544",
   "metadata": {},
   "outputs": [
    {
     "name": "stderr",
     "output_type": "stream",
     "text": [
      "C:\\Users\\Asus-Home\\AppData\\Local\\Temp\\ipykernel_21660\\1558220493.py:1: UserWarning:\n",
      "\n",
      "This pattern is interpreted as a regular expression, and has match groups. To actually get the groups, use str.extract.\n",
      "\n"
     ]
    }
   ],
   "source": [
    "hernan_anime_df = hernan_anime_df[~hernan_anime_df[\"Genres\"].str.contains(r\"(H|h)entai\")]"
   ]
  },
  {
   "cell_type": "markdown",
   "id": "0d5494e8",
   "metadata": {},
   "source": [
    "Converting the duration to minutes"
   ]
  },
  {
   "cell_type": "code",
   "execution_count": 26,
   "id": "9c788f77",
   "metadata": {},
   "outputs": [],
   "source": [
    "hernan_anime_df[\"Duration\"] = hernan_anime_df[\"Duration\"].apply(lambda x: x.replace(\" per ep.\", \"\"))"
   ]
  },
  {
   "cell_type": "code",
   "execution_count": 27,
   "id": "2565f2e8",
   "metadata": {},
   "outputs": [],
   "source": [
    "import numpy as np\n",
    "def convert_duration_to_seconds(duration):\n",
    "    if duration == \"Unknown\":\n",
    "        return np.nan\n",
    "    \n",
    "    timeSplits = duration.split('.')\n",
    "    seconds = 0\n",
    "    \n",
    "    for segment in timeSplits:\n",
    "        segment = segment.strip()\n",
    "        if 'sec' in segment:\n",
    "            seconds += int(segment.split(' ')[0].strip())\n",
    "        elif 'min' in segment:\n",
    "            seconds += int(segment.split(' ')[0].strip()) * 60\n",
    "        elif 'hr' in segment:\n",
    "            seconds += int(segment.split(' ')[0].strip()) * 60 * 60\n",
    "    \n",
    "    return seconds"
   ]
  },
  {
   "cell_type": "code",
   "execution_count": 28,
   "id": "96cdb2cc",
   "metadata": {},
   "outputs": [
    {
     "data": {
      "application/vnd.plotly.v1+json": {
       "config": {
        "plotlyServerURL": "https://plot.ly"
       },
       "data": [
        {
         "branchvalues": "total",
         "domain": {
          "x": [
           0,
           1
          ],
          "y": [
           0,
           1
          ]
         },
         "hovertemplate": "labels=%{label}<br>count=%{value}<br>parent=%{parent}<br>id=%{id}<extra></extra>",
         "ids": [
          "24.0",
          "23.0",
          "25.0",
          "5.0",
          "3.0",
          "22.0",
          "4.0",
          "2.0",
          "1.0",
          "10.0",
          "20.0",
          "90.0",
          "15.0",
          "12.0",
          "11.0",
          "7.0",
          "6.0",
          "9.0",
          "13.0",
          "8.0",
          "30.0",
          "26.0",
          "80.0",
          "100.0",
          "60.0",
          "70.0",
          "21.0",
          "95.0",
          "14.0",
          "75.0",
          "45.0",
          "50.0",
          "85.0",
          "16.0",
          "27.0",
          "98.0",
          "96.0",
          "105.0",
          "93.0",
          "94.0",
          "110.0",
          "28.0",
          "89.0",
          "87.0",
          "82.0",
          "19.0",
          "18.0",
          "88.0",
          "40.0",
          "48.0",
          "83.0",
          "120.0",
          "17.0",
          "59.0",
          "65.0",
          "99.0",
          "97.0",
          "72.0",
          "55.0",
          "51.0",
          "81.0",
          "78.0",
          "31.0",
          "92.0",
          "102.0",
          "84.0",
          "71.0",
          "86.0",
          "115.0",
          "52.0",
          "119.0",
          "91.0",
          "104.0",
          "111.0",
          "74.0",
          "76.0",
          "0.5",
          "53.0",
          "47.0",
          "61.0",
          "73.0",
          "54.0",
          "29.0",
          "106.0",
          "101.0",
          "108.0",
          "46.0",
          "49.0",
          "109.0",
          "77.0",
          "112.0",
          "103.0",
          "67.0",
          "117.0",
          "56.0",
          "57.0",
          "32.0",
          "79.0",
          "66.0",
          "69.0",
          "62.0",
          "107.0",
          "114.0",
          "135.0",
          "33.0",
          "58.0",
          "130.0",
          "63.0",
          "35.0",
          "68.0",
          "64.0",
          "42.0",
          "0.25",
          "43.0",
          "116.0",
          "121.0",
          "125.0",
          "118.0",
          "140.0",
          "44.0",
          "41.0",
          "0.75",
          "38.0",
          "39.0",
          "136.0",
          "36.0",
          "128.0",
          "122.0",
          "113.0",
          "150.0",
          "37.0",
          "0.6666666666666666",
          "134.0",
          "0.7",
          "131.0",
          "126.0",
          "132.0",
          "123.0",
          "0.36666666666666664",
          "34.0",
          "0.2",
          "0.65",
          "0.8333333333333334",
          "124.0",
          "139.0",
          "141.0",
          "163.0",
          "153.0",
          "152.0",
          "0.8666666666666667",
          "127.0",
          "137.0",
          "0.5666666666666667",
          "156.0",
          "147.0",
          "148.0",
          "162.0",
          "0.95",
          "0.26666666666666666",
          "0.6",
          "0.5833333333333334",
          "0.05",
          "167.0",
          "0.16666666666666666",
          "0.7333333333333333",
          "0.7666666666666667",
          "0.3333333333333333",
          "0.9333333333333333",
          "0.6166666666666667",
          "0.35",
          "0.4666666666666667",
          "0.9666666666666667",
          "0.6833333333333333"
         ],
         "labels": [
          "24.0",
          "23.0",
          "25.0",
          "5.0",
          "3.0",
          "22.0",
          "4.0",
          "2.0",
          "1.0",
          "10.0",
          "20.0",
          "90.0",
          "15.0",
          "12.0",
          "11.0",
          "7.0",
          "6.0",
          "9.0",
          "13.0",
          "8.0",
          "30.0",
          "26.0",
          "80.0",
          "100.0",
          "60.0",
          "70.0",
          "21.0",
          "95.0",
          "14.0",
          "75.0",
          "45.0",
          "50.0",
          "85.0",
          "16.0",
          "27.0",
          "98.0",
          "96.0",
          "105.0",
          "93.0",
          "94.0",
          "110.0",
          "28.0",
          "89.0",
          "87.0",
          "82.0",
          "19.0",
          "18.0",
          "88.0",
          "40.0",
          "48.0",
          "83.0",
          "120.0",
          "17.0",
          "59.0",
          "65.0",
          "99.0",
          "97.0",
          "72.0",
          "55.0",
          "51.0",
          "81.0",
          "78.0",
          "31.0",
          "92.0",
          "102.0",
          "84.0",
          "71.0",
          "86.0",
          "115.0",
          "52.0",
          "119.0",
          "91.0",
          "104.0",
          "111.0",
          "74.0",
          "76.0",
          "0.5",
          "53.0",
          "47.0",
          "61.0",
          "73.0",
          "54.0",
          "29.0",
          "106.0",
          "101.0",
          "108.0",
          "46.0",
          "49.0",
          "109.0",
          "77.0",
          "112.0",
          "103.0",
          "67.0",
          "117.0",
          "56.0",
          "57.0",
          "32.0",
          "79.0",
          "66.0",
          "69.0",
          "62.0",
          "107.0",
          "114.0",
          "135.0",
          "33.0",
          "58.0",
          "130.0",
          "63.0",
          "35.0",
          "68.0",
          "64.0",
          "42.0",
          "0.25",
          "43.0",
          "116.0",
          "121.0",
          "125.0",
          "118.0",
          "140.0",
          "44.0",
          "41.0",
          "0.75",
          "38.0",
          "39.0",
          "136.0",
          "36.0",
          "128.0",
          "122.0",
          "113.0",
          "150.0",
          "37.0",
          "0.6666666666666666",
          "134.0",
          "0.7",
          "131.0",
          "126.0",
          "132.0",
          "123.0",
          "0.36666666666666664",
          "34.0",
          "0.2",
          "0.65",
          "0.8333333333333334",
          "124.0",
          "139.0",
          "141.0",
          "163.0",
          "153.0",
          "152.0",
          "0.8666666666666667",
          "127.0",
          "137.0",
          "0.5666666666666667",
          "156.0",
          "147.0",
          "148.0",
          "162.0",
          "0.95",
          "0.26666666666666666",
          "0.6",
          "0.5833333333333334",
          "0.05",
          "167.0",
          "0.16666666666666666",
          "0.7333333333333333",
          "0.7666666666666667",
          "0.3333333333333333",
          "0.9333333333333333",
          "0.6166666666666667",
          "0.35",
          "0.4666666666666667",
          "0.9666666666666667",
          "0.6833333333333333"
         ],
         "name": "",
         "parents": [
          "",
          "",
          "",
          "",
          "",
          "",
          "",
          "",
          "",
          "",
          "",
          "",
          "",
          "",
          "",
          "",
          "",
          "",
          "",
          "",
          "",
          "",
          "",
          "",
          "",
          "",
          "",
          "",
          "",
          "",
          "",
          "",
          "",
          "",
          "",
          "",
          "",
          "",
          "",
          "",
          "",
          "",
          "",
          "",
          "",
          "",
          "",
          "",
          "",
          "",
          "",
          "",
          "",
          "",
          "",
          "",
          "",
          "",
          "",
          "",
          "",
          "",
          "",
          "",
          "",
          "",
          "",
          "",
          "",
          "",
          "",
          "",
          "",
          "",
          "",
          "",
          "",
          "",
          "",
          "",
          "",
          "",
          "",
          "",
          "",
          "",
          "",
          "",
          "",
          "",
          "",
          "",
          "",
          "",
          "",
          "",
          "",
          "",
          "",
          "",
          "",
          "",
          "",
          "",
          "",
          "",
          "",
          "",
          "",
          "",
          "",
          "",
          "",
          "",
          "",
          "",
          "",
          "",
          "",
          "",
          "",
          "",
          "",
          "",
          "",
          "",
          "",
          "",
          "",
          "",
          "",
          "",
          "",
          "",
          "",
          "",
          "",
          "",
          "",
          "",
          "",
          "",
          "",
          "",
          "",
          "",
          "",
          "",
          "",
          "",
          "",
          "",
          "",
          "",
          "",
          "",
          "",
          "",
          "",
          "",
          "",
          "",
          "",
          "",
          "",
          "",
          "",
          "",
          "",
          "",
          "",
          "",
          ""
         ],
         "type": "treemap",
         "values": {
          "bdata": "AAAAAABQmUAAAAAAAICOQAAAAAAAAIhAAAAAAADQc0AAAAAAAPBxQAAAAAAAoGVAAAAAAAAgZUAAAAAAAMBjQAAAAAAAQGNAAAAAAABAYEAAAAAAAEBbQAAAAAAAwFlAAAAAAADAV0AAAAAAAIBXQAAAAAAAgFVAAAAAAADAVEAAAAAAAMBTQAAAAAAAAFNAAAAAAABAUkAAAAAAAIBRQAAAAAAAwFBAAAAAAAAAT0AAAAAAAIBLQAAAAAAAAEpAAAAAAACASUAAAAAAAIBIQAAAAAAAAEhAAAAAAAAAR0AAAAAAAIBDQAAAAAAAAENAAAAAAAAAQkAAAAAAAIBBQAAAAAAAAEFAAAAAAACAQEAAAAAAAABAQAAAAAAAAEBAAAAAAAAAQEAAAAAAAAA/QAAAAAAAAD5AAAAAAAAAPUAAAAAAAAA9QAAAAAAAADtAAAAAAAAAO0AAAAAAAAA6QAAAAAAAADpAAAAAAAAAOkAAAAAAAAA5QAAAAAAAADlAAAAAAAAAOUAAAAAAAAA5QAAAAAAAADhAAAAAAAAAOEAAAAAAAAA3QAAAAAAAADdAAAAAAAAANkAAAAAAAAA2QAAAAAAAADRAAAAAAAAANEAAAAAAAAAzQAAAAAAAADNAAAAAAAAAM0AAAAAAAAAyQAAAAAAAADJAAAAAAAAAMkAAAAAAAAAxQAAAAAAAADFAAAAAAAAAMUAAAAAAAAAwQAAAAAAAADBAAAAAAAAAMEAAAAAAAAAuQAAAAAAAAC5AAAAAAAAALkAAAAAAAAAuQAAAAAAAACxAAAAAAAAALEAAAAAAAAAsQAAAAAAAACxAAAAAAAAAKkAAAAAAAAAqQAAAAAAAAChAAAAAAAAAKEAAAAAAAAAoQAAAAAAAAChAAAAAAAAAKEAAAAAAAAAoQAAAAAAAACZAAAAAAAAAJkAAAAAAAAAkQAAAAAAAACRAAAAAAAAAJEAAAAAAAAAkQAAAAAAAACRAAAAAAAAAJEAAAAAAAAAiQAAAAAAAACJAAAAAAAAAIkAAAAAAAAAiQAAAAAAAACJAAAAAAAAAIEAAAAAAAAAgQAAAAAAAACBAAAAAAAAAIEAAAAAAAAAcQAAAAAAAABxAAAAAAAAAHEAAAAAAAAAcQAAAAAAAABxAAAAAAAAAHEAAAAAAAAAcQAAAAAAAABxAAAAAAAAAGEAAAAAAAAAYQAAAAAAAABhAAAAAAAAAGEAAAAAAAAAUQAAAAAAAABRAAAAAAAAAFEAAAAAAAAAUQAAAAAAAABBAAAAAAAAAEEAAAAAAAAAQQAAAAAAAABBAAAAAAAAAEEAAAAAAAAAQQAAAAAAAABBAAAAAAAAACEAAAAAAAAAIQAAAAAAAAAhAAAAAAAAACEAAAAAAAAAIQAAAAAAAAAhAAAAAAAAAAEAAAAAAAAAAQAAAAAAAAABAAAAAAAAAAEAAAAAAAAAAQAAAAAAAAABAAAAAAAAAAEAAAAAAAAAAQAAAAAAAAABAAAAAAAAAAEAAAAAAAAAAQAAAAAAAAPA/AAAAAAAA8D8AAAAAAADwPwAAAAAAAPA/AAAAAAAA8D8AAAAAAADwPwAAAAAAAPA/AAAAAAAA8D8AAAAAAADwPwAAAAAAAPA/AAAAAAAA8D8AAAAAAADwPwAAAAAAAPA/AAAAAAAA8D8AAAAAAADwPwAAAAAAAPA/AAAAAAAA8D8AAAAAAADwPwAAAAAAAPA/AAAAAAAA8D8AAAAAAADwPwAAAAAAAPA/AAAAAAAA8D8AAAAAAADwPwAAAAAAAPA/AAAAAAAA8D8AAAAAAADwPwAAAAAAAPA/AAAAAAAA8D8AAAAAAADwPw==",
          "dtype": "f8"
         }
        }
       ],
       "layout": {
        "legend": {
         "tracegroupgap": 0
        },
        "template": {
         "data": {
          "bar": [
           {
            "error_x": {
             "color": "#2a3f5f"
            },
            "error_y": {
             "color": "#2a3f5f"
            },
            "marker": {
             "line": {
              "color": "#E5ECF6",
              "width": 0.5
             },
             "pattern": {
              "fillmode": "overlay",
              "size": 10,
              "solidity": 0.2
             }
            },
            "type": "bar"
           }
          ],
          "barpolar": [
           {
            "marker": {
             "line": {
              "color": "#E5ECF6",
              "width": 0.5
             },
             "pattern": {
              "fillmode": "overlay",
              "size": 10,
              "solidity": 0.2
             }
            },
            "type": "barpolar"
           }
          ],
          "carpet": [
           {
            "aaxis": {
             "endlinecolor": "#2a3f5f",
             "gridcolor": "white",
             "linecolor": "white",
             "minorgridcolor": "white",
             "startlinecolor": "#2a3f5f"
            },
            "baxis": {
             "endlinecolor": "#2a3f5f",
             "gridcolor": "white",
             "linecolor": "white",
             "minorgridcolor": "white",
             "startlinecolor": "#2a3f5f"
            },
            "type": "carpet"
           }
          ],
          "choropleth": [
           {
            "colorbar": {
             "outlinewidth": 0,
             "ticks": ""
            },
            "type": "choropleth"
           }
          ],
          "contour": [
           {
            "colorbar": {
             "outlinewidth": 0,
             "ticks": ""
            },
            "colorscale": [
             [
              0,
              "#0d0887"
             ],
             [
              0.1111111111111111,
              "#46039f"
             ],
             [
              0.2222222222222222,
              "#7201a8"
             ],
             [
              0.3333333333333333,
              "#9c179e"
             ],
             [
              0.4444444444444444,
              "#bd3786"
             ],
             [
              0.5555555555555556,
              "#d8576b"
             ],
             [
              0.6666666666666666,
              "#ed7953"
             ],
             [
              0.7777777777777778,
              "#fb9f3a"
             ],
             [
              0.8888888888888888,
              "#fdca26"
             ],
             [
              1,
              "#f0f921"
             ]
            ],
            "type": "contour"
           }
          ],
          "contourcarpet": [
           {
            "colorbar": {
             "outlinewidth": 0,
             "ticks": ""
            },
            "type": "contourcarpet"
           }
          ],
          "heatmap": [
           {
            "colorbar": {
             "outlinewidth": 0,
             "ticks": ""
            },
            "colorscale": [
             [
              0,
              "#0d0887"
             ],
             [
              0.1111111111111111,
              "#46039f"
             ],
             [
              0.2222222222222222,
              "#7201a8"
             ],
             [
              0.3333333333333333,
              "#9c179e"
             ],
             [
              0.4444444444444444,
              "#bd3786"
             ],
             [
              0.5555555555555556,
              "#d8576b"
             ],
             [
              0.6666666666666666,
              "#ed7953"
             ],
             [
              0.7777777777777778,
              "#fb9f3a"
             ],
             [
              0.8888888888888888,
              "#fdca26"
             ],
             [
              1,
              "#f0f921"
             ]
            ],
            "type": "heatmap"
           }
          ],
          "histogram": [
           {
            "marker": {
             "pattern": {
              "fillmode": "overlay",
              "size": 10,
              "solidity": 0.2
             }
            },
            "type": "histogram"
           }
          ],
          "histogram2d": [
           {
            "colorbar": {
             "outlinewidth": 0,
             "ticks": ""
            },
            "colorscale": [
             [
              0,
              "#0d0887"
             ],
             [
              0.1111111111111111,
              "#46039f"
             ],
             [
              0.2222222222222222,
              "#7201a8"
             ],
             [
              0.3333333333333333,
              "#9c179e"
             ],
             [
              0.4444444444444444,
              "#bd3786"
             ],
             [
              0.5555555555555556,
              "#d8576b"
             ],
             [
              0.6666666666666666,
              "#ed7953"
             ],
             [
              0.7777777777777778,
              "#fb9f3a"
             ],
             [
              0.8888888888888888,
              "#fdca26"
             ],
             [
              1,
              "#f0f921"
             ]
            ],
            "type": "histogram2d"
           }
          ],
          "histogram2dcontour": [
           {
            "colorbar": {
             "outlinewidth": 0,
             "ticks": ""
            },
            "colorscale": [
             [
              0,
              "#0d0887"
             ],
             [
              0.1111111111111111,
              "#46039f"
             ],
             [
              0.2222222222222222,
              "#7201a8"
             ],
             [
              0.3333333333333333,
              "#9c179e"
             ],
             [
              0.4444444444444444,
              "#bd3786"
             ],
             [
              0.5555555555555556,
              "#d8576b"
             ],
             [
              0.6666666666666666,
              "#ed7953"
             ],
             [
              0.7777777777777778,
              "#fb9f3a"
             ],
             [
              0.8888888888888888,
              "#fdca26"
             ],
             [
              1,
              "#f0f921"
             ]
            ],
            "type": "histogram2dcontour"
           }
          ],
          "mesh3d": [
           {
            "colorbar": {
             "outlinewidth": 0,
             "ticks": ""
            },
            "type": "mesh3d"
           }
          ],
          "parcoords": [
           {
            "line": {
             "colorbar": {
              "outlinewidth": 0,
              "ticks": ""
             }
            },
            "type": "parcoords"
           }
          ],
          "pie": [
           {
            "automargin": true,
            "type": "pie"
           }
          ],
          "scatter": [
           {
            "fillpattern": {
             "fillmode": "overlay",
             "size": 10,
             "solidity": 0.2
            },
            "type": "scatter"
           }
          ],
          "scatter3d": [
           {
            "line": {
             "colorbar": {
              "outlinewidth": 0,
              "ticks": ""
             }
            },
            "marker": {
             "colorbar": {
              "outlinewidth": 0,
              "ticks": ""
             }
            },
            "type": "scatter3d"
           }
          ],
          "scattercarpet": [
           {
            "marker": {
             "colorbar": {
              "outlinewidth": 0,
              "ticks": ""
             }
            },
            "type": "scattercarpet"
           }
          ],
          "scattergeo": [
           {
            "marker": {
             "colorbar": {
              "outlinewidth": 0,
              "ticks": ""
             }
            },
            "type": "scattergeo"
           }
          ],
          "scattergl": [
           {
            "marker": {
             "colorbar": {
              "outlinewidth": 0,
              "ticks": ""
             }
            },
            "type": "scattergl"
           }
          ],
          "scattermap": [
           {
            "marker": {
             "colorbar": {
              "outlinewidth": 0,
              "ticks": ""
             }
            },
            "type": "scattermap"
           }
          ],
          "scattermapbox": [
           {
            "marker": {
             "colorbar": {
              "outlinewidth": 0,
              "ticks": ""
             }
            },
            "type": "scattermapbox"
           }
          ],
          "scatterpolar": [
           {
            "marker": {
             "colorbar": {
              "outlinewidth": 0,
              "ticks": ""
             }
            },
            "type": "scatterpolar"
           }
          ],
          "scatterpolargl": [
           {
            "marker": {
             "colorbar": {
              "outlinewidth": 0,
              "ticks": ""
             }
            },
            "type": "scatterpolargl"
           }
          ],
          "scatterternary": [
           {
            "marker": {
             "colorbar": {
              "outlinewidth": 0,
              "ticks": ""
             }
            },
            "type": "scatterternary"
           }
          ],
          "surface": [
           {
            "colorbar": {
             "outlinewidth": 0,
             "ticks": ""
            },
            "colorscale": [
             [
              0,
              "#0d0887"
             ],
             [
              0.1111111111111111,
              "#46039f"
             ],
             [
              0.2222222222222222,
              "#7201a8"
             ],
             [
              0.3333333333333333,
              "#9c179e"
             ],
             [
              0.4444444444444444,
              "#bd3786"
             ],
             [
              0.5555555555555556,
              "#d8576b"
             ],
             [
              0.6666666666666666,
              "#ed7953"
             ],
             [
              0.7777777777777778,
              "#fb9f3a"
             ],
             [
              0.8888888888888888,
              "#fdca26"
             ],
             [
              1,
              "#f0f921"
             ]
            ],
            "type": "surface"
           }
          ],
          "table": [
           {
            "cells": {
             "fill": {
              "color": "#EBF0F8"
             },
             "line": {
              "color": "white"
             }
            },
            "header": {
             "fill": {
              "color": "#C8D4E3"
             },
             "line": {
              "color": "white"
             }
            },
            "type": "table"
           }
          ]
         },
         "layout": {
          "annotationdefaults": {
           "arrowcolor": "#2a3f5f",
           "arrowhead": 0,
           "arrowwidth": 1
          },
          "autotypenumbers": "strict",
          "coloraxis": {
           "colorbar": {
            "outlinewidth": 0,
            "ticks": ""
           }
          },
          "colorscale": {
           "diverging": [
            [
             0,
             "#8e0152"
            ],
            [
             0.1,
             "#c51b7d"
            ],
            [
             0.2,
             "#de77ae"
            ],
            [
             0.3,
             "#f1b6da"
            ],
            [
             0.4,
             "#fde0ef"
            ],
            [
             0.5,
             "#f7f7f7"
            ],
            [
             0.6,
             "#e6f5d0"
            ],
            [
             0.7,
             "#b8e186"
            ],
            [
             0.8,
             "#7fbc41"
            ],
            [
             0.9,
             "#4d9221"
            ],
            [
             1,
             "#276419"
            ]
           ],
           "sequential": [
            [
             0,
             "#0d0887"
            ],
            [
             0.1111111111111111,
             "#46039f"
            ],
            [
             0.2222222222222222,
             "#7201a8"
            ],
            [
             0.3333333333333333,
             "#9c179e"
            ],
            [
             0.4444444444444444,
             "#bd3786"
            ],
            [
             0.5555555555555556,
             "#d8576b"
            ],
            [
             0.6666666666666666,
             "#ed7953"
            ],
            [
             0.7777777777777778,
             "#fb9f3a"
            ],
            [
             0.8888888888888888,
             "#fdca26"
            ],
            [
             1,
             "#f0f921"
            ]
           ],
           "sequentialminus": [
            [
             0,
             "#0d0887"
            ],
            [
             0.1111111111111111,
             "#46039f"
            ],
            [
             0.2222222222222222,
             "#7201a8"
            ],
            [
             0.3333333333333333,
             "#9c179e"
            ],
            [
             0.4444444444444444,
             "#bd3786"
            ],
            [
             0.5555555555555556,
             "#d8576b"
            ],
            [
             0.6666666666666666,
             "#ed7953"
            ],
            [
             0.7777777777777778,
             "#fb9f3a"
            ],
            [
             0.8888888888888888,
             "#fdca26"
            ],
            [
             1,
             "#f0f921"
            ]
           ]
          },
          "colorway": [
           "#636efa",
           "#EF553B",
           "#00cc96",
           "#ab63fa",
           "#FFA15A",
           "#19d3f3",
           "#FF6692",
           "#B6E880",
           "#FF97FF",
           "#FECB52"
          ],
          "font": {
           "color": "#2a3f5f"
          },
          "geo": {
           "bgcolor": "white",
           "lakecolor": "white",
           "landcolor": "#E5ECF6",
           "showlakes": true,
           "showland": true,
           "subunitcolor": "white"
          },
          "hoverlabel": {
           "align": "left"
          },
          "hovermode": "closest",
          "mapbox": {
           "style": "light"
          },
          "paper_bgcolor": "white",
          "plot_bgcolor": "#E5ECF6",
          "polar": {
           "angularaxis": {
            "gridcolor": "white",
            "linecolor": "white",
            "ticks": ""
           },
           "bgcolor": "#E5ECF6",
           "radialaxis": {
            "gridcolor": "white",
            "linecolor": "white",
            "ticks": ""
           }
          },
          "scene": {
           "xaxis": {
            "backgroundcolor": "#E5ECF6",
            "gridcolor": "white",
            "gridwidth": 2,
            "linecolor": "white",
            "showbackground": true,
            "ticks": "",
            "zerolinecolor": "white"
           },
           "yaxis": {
            "backgroundcolor": "#E5ECF6",
            "gridcolor": "white",
            "gridwidth": 2,
            "linecolor": "white",
            "showbackground": true,
            "ticks": "",
            "zerolinecolor": "white"
           },
           "zaxis": {
            "backgroundcolor": "#E5ECF6",
            "gridcolor": "white",
            "gridwidth": 2,
            "linecolor": "white",
            "showbackground": true,
            "ticks": "",
            "zerolinecolor": "white"
           }
          },
          "shapedefaults": {
           "line": {
            "color": "#2a3f5f"
           }
          },
          "ternary": {
           "aaxis": {
            "gridcolor": "white",
            "linecolor": "white",
            "ticks": ""
           },
           "baxis": {
            "gridcolor": "white",
            "linecolor": "white",
            "ticks": ""
           },
           "bgcolor": "#E5ECF6",
           "caxis": {
            "gridcolor": "white",
            "linecolor": "white",
            "ticks": ""
           }
          },
          "title": {
           "x": 0.05
          },
          "xaxis": {
           "automargin": true,
           "gridcolor": "white",
           "linecolor": "white",
           "ticks": "",
           "title": {
            "standoff": 15
           },
           "zerolinecolor": "white",
           "zerolinewidth": 2
          },
          "yaxis": {
           "automargin": true,
           "gridcolor": "white",
           "linecolor": "white",
           "ticks": "",
           "title": {
            "standoff": 15
           },
           "zerolinecolor": "white",
           "zerolinewidth": 2
          }
         }
        },
        "title": {
         "text": "Duration Distribution"
        }
       }
      }
     },
     "metadata": {},
     "output_type": "display_data"
    }
   ],
   "source": [
    "hernan_anime_df[\"duration_in_minutes\"] = hernan_anime_df[\"Duration\"].apply(lambda x: convert_duration_to_seconds(x) / 60)\n",
    "hernan_anime_df = hernan_anime_df.drop(columns=[\"Duration\"])\n",
    "\n",
    "duration_df = hernan_anime_df[\"duration_in_minutes\"].value_counts().to_frame()\n",
    "duration_df = duration_df.reset_index()\n",
    "fig = px.treemap(duration_df, path=['duration_in_minutes'], values='count', title=\"Duration Distribution\")\n",
    "fig.show()"
   ]
  },
  {
   "cell_type": "markdown",
   "id": "7825b42f",
   "metadata": {},
   "source": [
    "Removing anime that are potentially music videos. Anime usually have a length of 23 minutes, anything below that is non-standard and has been removed if its genre is also music"
   ]
  },
  {
   "cell_type": "code",
   "execution_count": 29,
   "id": "28b72690",
   "metadata": {},
   "outputs": [
    {
     "name": "stdout",
     "output_type": "stream",
     "text": [
      "<class 'pandas.core.frame.DataFrame'>\n",
      "Index: 8040 entries, 0 to 17561\n",
      "Data columns (total 12 columns):\n",
      " #   Column               Non-Null Count  Dtype  \n",
      "---  ------               --------------  -----  \n",
      " 0   anime_id             8040 non-null   int64  \n",
      " 1   Name                 8040 non-null   object \n",
      " 2   Genres               7988 non-null   object \n",
      " 3   Type                 8003 non-null   object \n",
      " 4   Episodes             8040 non-null   object \n",
      " 5   Premiered            4739 non-null   object \n",
      " 6   Producers            4958 non-null   object \n",
      " 7   Licensors            2666 non-null   object \n",
      " 8   Studios              5752 non-null   object \n",
      " 9   Source               6443 non-null   object \n",
      " 10  Rating               7585 non-null   object \n",
      " 11  duration_in_minutes  7647 non-null   float64\n",
      "dtypes: float64(1), int64(1), object(10)\n",
      "memory usage: 816.6+ KB\n"
     ]
    }
   ],
   "source": [
    "hernan_anime_df = hernan_anime_df[~((hernan_anime_df[\"Genres\"] == \"Music\") \\\n",
    "    & (hernan_anime_df[\"duration_in_minutes\"] < 20))]\n",
    "\n",
    "hernan_anime_df.loc[hernan_anime_df[\"Type\"] == \"Unknown\", [\"Type\"]] = None\n",
    "hernan_anime_df.loc[hernan_anime_df[\"Genres\"] == \"Unknown\", [\"Genres\"]] = None\n",
    "hernan_anime_df.loc[hernan_anime_df[\"Premiered\"] == \"Unknown\", [\"Premiered\"]] = None\n",
    "hernan_anime_df.loc[hernan_anime_df[\"Producers\"] == \"Unknown\", [\"Producers\"]] = None\n",
    "hernan_anime_df.loc[hernan_anime_df[\"Licensors\"] == \"Unknown\", [\"Licensors\"]] = None\n",
    "hernan_anime_df.loc[hernan_anime_df[\"Studios\"] == \"Unknown\", [\"Studios\"]] = None\n",
    "hernan_anime_df.loc[hernan_anime_df[\"Source\"] == \"Unknown\", [\"Source\"]] = None\n",
    "hernan_anime_df.loc[hernan_anime_df[\"Rating\"] == \"Unknown\", [\"Rating\"]] = None\n",
    "\n",
    "hernan_anime_df.info()"
   ]
  },
  {
   "cell_type": "markdown",
   "id": "a6749c8d",
   "metadata": {},
   "source": [
    "#### Synopsis Data"
   ]
  },
  {
   "cell_type": "code",
   "execution_count": 33,
   "id": "ee8283b3",
   "metadata": {},
   "outputs": [],
   "source": [
    "synopsis_df = pd.read_csv(\"E:\\\\applied data science capstone\\\\data\\\\hernan4444\\\\archive\\\\anime_with_synopsis.csv\")\n",
    "synopsis_df = synopsisDf.drop(columns=[\"Score\"])\n",
    "synopsis_df = synopsis_df.rename(columns={\"MAL_ID\": \"anime_id\", \"sypnopsis\": \"synopsis\"})"
   ]
  },
  {
   "cell_type": "markdown",
   "id": "6ed11b5f",
   "metadata": {},
   "source": [
    "Fill the unknown synopsis with na so as to enable filling of missing values in the future"
   ]
  },
  {
   "cell_type": "code",
   "execution_count": 34,
   "id": "5ce08e53",
   "metadata": {},
   "outputs": [
    {
     "data": {
      "application/vnd.microsoft.datawrangler.viewer.v0+json": {
       "columns": [
        {
         "name": "index",
         "rawType": "object",
         "type": "string"
        },
        {
         "name": "Name",
         "rawType": "object",
         "type": "unknown"
        },
        {
         "name": "Genres",
         "rawType": "object",
         "type": "unknown"
        },
        {
         "name": "synopsis",
         "rawType": "object",
         "type": "unknown"
        }
       ],
       "ref": "1b2c253e-c70d-40cf-ba38-c4bdcafd3fe4",
       "rows": [
        [
         "count",
         "16214",
         "16214",
         "15461"
        ],
        [
         "unique",
         "16210",
         "4857",
         "15218"
        ],
        [
         "top",
         "Maou Gakuin no Futekigousha: Shijou Saikyou no Maou no Shiso, Tensei shite Shison-tachi no Gakkou e",
         "Music",
         "Furukawa Taku film."
        ],
        [
         "freq",
         "3",
         "790",
         "13"
        ]
       ],
       "shape": {
        "columns": 3,
        "rows": 4
       }
      },
      "text/html": [
       "<div>\n",
       "<style scoped>\n",
       "    .dataframe tbody tr th:only-of-type {\n",
       "        vertical-align: middle;\n",
       "    }\n",
       "\n",
       "    .dataframe tbody tr th {\n",
       "        vertical-align: top;\n",
       "    }\n",
       "\n",
       "    .dataframe thead th {\n",
       "        text-align: right;\n",
       "    }\n",
       "</style>\n",
       "<table border=\"1\" class=\"dataframe\">\n",
       "  <thead>\n",
       "    <tr style=\"text-align: right;\">\n",
       "      <th></th>\n",
       "      <th>Name</th>\n",
       "      <th>Genres</th>\n",
       "      <th>synopsis</th>\n",
       "    </tr>\n",
       "  </thead>\n",
       "  <tbody>\n",
       "    <tr>\n",
       "      <th>count</th>\n",
       "      <td>16214</td>\n",
       "      <td>16214</td>\n",
       "      <td>15461</td>\n",
       "    </tr>\n",
       "    <tr>\n",
       "      <th>unique</th>\n",
       "      <td>16210</td>\n",
       "      <td>4857</td>\n",
       "      <td>15218</td>\n",
       "    </tr>\n",
       "    <tr>\n",
       "      <th>top</th>\n",
       "      <td>Maou Gakuin no Futekigousha: Shijou Saikyou no...</td>\n",
       "      <td>Music</td>\n",
       "      <td>Furukawa Taku film.</td>\n",
       "    </tr>\n",
       "    <tr>\n",
       "      <th>freq</th>\n",
       "      <td>3</td>\n",
       "      <td>790</td>\n",
       "      <td>13</td>\n",
       "    </tr>\n",
       "  </tbody>\n",
       "</table>\n",
       "</div>"
      ],
      "text/plain": [
       "                                                     Name Genres  \\\n",
       "count                                               16214  16214   \n",
       "unique                                              16210   4857   \n",
       "top     Maou Gakuin no Futekigousha: Shijou Saikyou no...  Music   \n",
       "freq                                                    3    790   \n",
       "\n",
       "                   synopsis  \n",
       "count                 15461  \n",
       "unique                15218  \n",
       "top     Furukawa Taku film.  \n",
       "freq                     13  "
      ]
     },
     "execution_count": 34,
     "metadata": {},
     "output_type": "execute_result"
    }
   ],
   "source": [
    "synopsis_df.loc[synopsis_df[\"synopsis\"].str.contains(\"No synopsis\", na=False), \"synopsis\"] = np.nan\n",
    "synopsis_df.describe(include=object)"
   ]
  },
  {
   "cell_type": "code",
   "execution_count": 35,
   "id": "eb979d43",
   "metadata": {},
   "outputs": [
    {
     "name": "stdout",
     "output_type": "stream",
     "text": [
      "<class 'pandas.core.frame.DataFrame'>\n",
      "RangeIndex: 16214 entries, 0 to 16213\n",
      "Data columns (total 4 columns):\n",
      " #   Column    Non-Null Count  Dtype \n",
      "---  ------    --------------  ----- \n",
      " 0   anime_id  16214 non-null  int64 \n",
      " 1   Name      16214 non-null  object\n",
      " 2   Genres    16214 non-null  object\n",
      " 3   synopsis  15461 non-null  object\n",
      "dtypes: int64(1), object(3)\n",
      "memory usage: 506.8+ KB\n"
     ]
    }
   ],
   "source": [
    "synopsis_df.info()"
   ]
  },
  {
   "cell_type": "markdown",
   "id": "cced6c8f",
   "metadata": {},
   "source": [
    "### MyAnimeList Comment Dataset V2"
   ]
  },
  {
   "cell_type": "markdown",
   "id": "4832fc05",
   "metadata": {},
   "source": [
    "#### Anime Listing"
   ]
  },
  {
   "cell_type": "markdown",
   "id": "537c5612",
   "metadata": {},
   "source": [
    "Remove the id and jpName columns as well as consolidate the anime title column"
   ]
  },
  {
   "cell_type": "code",
   "execution_count": 37,
   "id": "7b1aeb59",
   "metadata": {},
   "outputs": [],
   "source": [
    "natleeAnime = pd.read_csv(\"E:\\\\applied data science capstone\\\\data\\\\natlee\\\\archive\\\\anime_list.csv\")\n",
    "natlee_anime_df = natleeAnime.drop(columns=[\"id\", \"jpName\", \"score\", \"scoredByUser\", \"aired\"])\n",
    "\n",
    "natlee_anime_df[\"title\"] = natlee_anime_df[\"engName\"]\n",
    "natlee_anime_df[\"title\"] = natlee_anime_df[\"title\"].fillna(natlee_anime_df[\"synonymsName\"])\n",
    "natlee_anime_df = natlee_anime_df.dropna(subset=[\"title\"])\n",
    "natlee_anime_df = natlee_anime_df.drop(columns=[\"engName\", \"synonymsName\"])"
   ]
  },
  {
   "cell_type": "markdown",
   "id": "43598ac3",
   "metadata": {},
   "source": [
    "Convert the episodes column to a numeric feature"
   ]
  },
  {
   "cell_type": "code",
   "execution_count": 38,
   "id": "772e5941",
   "metadata": {},
   "outputs": [],
   "source": [
    "natlee_anime_df[\"episodes\"] = pd.to_numeric(natlee_anime_df[\"episodes\"], errors='coerce')"
   ]
  },
  {
   "cell_type": "markdown",
   "id": "edd8a5bc",
   "metadata": {},
   "source": [
    "Standardize the missing values"
   ]
  },
  {
   "cell_type": "code",
   "execution_count": 39,
   "id": "642d215b",
   "metadata": {},
   "outputs": [],
   "source": [
    "natlee_anime_df.loc[natlee_anime_df[\"producer\"] == \"add some\", \"producer\"] = None\n",
    "natlee_anime_df.loc[natlee_anime_df[\"licensors\"] == \"add some\", \"licensors\"] = None\n",
    "natlee_anime_df.loc[natlee_anime_df[\"studios\"] == \"add some\", \"studios\"] = None\n",
    "natlee_anime_df.loc[natlee_anime_df[\"source\"] == \"Unknown\", \"source\"] = None"
   ]
  },
  {
   "cell_type": "markdown",
   "id": "129826b4",
   "metadata": {},
   "source": [
    "Remove all types except for movie and tv"
   ]
  },
  {
   "cell_type": "code",
   "execution_count": 40,
   "id": "7397e2fb",
   "metadata": {},
   "outputs": [],
   "source": [
    "natlee_anime_df = natlee_anime_df[natlee_anime_df[\"workType\"].isin([\"TV\", \"Movie\"])]"
   ]
  },
  {
   "cell_type": "markdown",
   "id": "97f9dd95",
   "metadata": {},
   "source": [
    "Remove adult content"
   ]
  },
  {
   "cell_type": "code",
   "execution_count": 41,
   "id": "6804902b",
   "metadata": {},
   "outputs": [
    {
     "name": "stderr",
     "output_type": "stream",
     "text": [
      "C:\\Users\\Asus-Home\\AppData\\Local\\Temp\\ipykernel_21660\\2037110495.py:2: UserWarning:\n",
      "\n",
      "This pattern is interpreted as a regular expression, and has match groups. To actually get the groups, use str.extract.\n",
      "\n"
     ]
    }
   ],
   "source": [
    "natlee_anime_df[\"genres\"] = natlee_anime_df[\"genres\"].astype(str)\n",
    "natlee_anime_df = natlee_anime_df[~natlee_anime_df[\"genres\"].str.contains(r\"(H|h)entai\")]"
   ]
  },
  {
   "cell_type": "markdown",
   "id": "8eb80522",
   "metadata": {},
   "source": [
    "Convert duration to minutes"
   ]
  },
  {
   "cell_type": "code",
   "execution_count": 42,
   "id": "b20f504c",
   "metadata": {},
   "outputs": [],
   "source": [
    "natlee_anime_df[\"duration_in_minutes\"] = natlee_anime_df[\"duration\"] \\\n",
    "    .apply(lambda x: convert_duration_to_seconds(x) / 60)"
   ]
  },
  {
   "cell_type": "markdown",
   "id": "67333741",
   "metadata": {},
   "source": [
    "Remove unused columns"
   ]
  },
  {
   "cell_type": "code",
   "execution_count": 43,
   "id": "467cb264",
   "metadata": {},
   "outputs": [
    {
     "name": "stdout",
     "output_type": "stream",
     "text": [
      "<class 'pandas.core.frame.DataFrame'>\n",
      "Index: 8649 entries, 0 to 24588\n",
      "Data columns (total 17 columns):\n",
      " #   Column               Non-Null Count  Dtype  \n",
      "---  ------               --------------  -----  \n",
      " 0   anime_id             8649 non-null   int64  \n",
      " 1   url                  8649 non-null   object \n",
      " 2   type                 8649 non-null   object \n",
      " 3   episodes             8452 non-null   float64\n",
      " 4   status               8649 non-null   object \n",
      " 5   premiered            4588 non-null   object \n",
      " 6   producer             4987 non-null   object \n",
      " 7   broadcast            5297 non-null   object \n",
      " 8   licensors            2857 non-null   object \n",
      " 9   studios              6032 non-null   object \n",
      " 10  genres               8649 non-null   object \n",
      " 11  themes               4986 non-null   object \n",
      " 12  demographic          3774 non-null   object \n",
      " 13  source               7277 non-null   object \n",
      " 14  rating               8392 non-null   object \n",
      " 15  title                8649 non-null   object \n",
      " 16  duration_in_minutes  8402 non-null   float64\n",
      "dtypes: float64(2), int64(1), object(14)\n",
      "memory usage: 1.2+ MB\n"
     ]
    }
   ],
   "source": [
    "natlee_anime_df = natlee_anime_df.drop(columns=[\"popularityRank\", \"allRank\", \"members\", \"favorites\", \"lastUpdate\", \"duration\"])\n",
    "natlee_anime_df = natlee_anime_df.rename(columns={\"workId\": \"anime_id\", \"workType\": \"type\"})\n",
    "\n",
    "natlee_anime_df.info()"
   ]
  }
 ],
 "metadata": {
  "kernelspec": {
   "display_name": ".venv",
   "language": "python",
   "name": "python3"
  },
  "language_info": {
   "codemirror_mode": {
    "name": "ipython",
    "version": 3
   },
   "file_extension": ".py",
   "mimetype": "text/x-python",
   "name": "python",
   "nbconvert_exporter": "python",
   "pygments_lexer": "ipython3",
   "version": "3.12.2"
  }
 },
 "nbformat": 4,
 "nbformat_minor": 5
}
