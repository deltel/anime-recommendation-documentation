{
 "cells": [
  {
   "cell_type": "markdown",
   "id": "5ce38857",
   "metadata": {},
   "source": [
    "# Data Understanding"
   ]
  },
  {
   "cell_type": "markdown",
   "id": "3450ffdf",
   "metadata": {},
   "source": [
    "## Describe Data"
   ]
  },
  {
   "cell_type": "markdown",
   "id": "be415f5b",
   "metadata": {},
   "source": [
    "### Anime Recommendations Database"
   ]
  },
  {
   "cell_type": "code",
   "execution_count": 1,
   "id": "92b9f128",
   "metadata": {},
   "outputs": [],
   "source": [
    "import pandas as pd"
   ]
  },
  {
   "cell_type": "code",
   "execution_count": 3,
   "id": "2ade814f",
   "metadata": {},
   "outputs": [],
   "source": [
    "cuAnime = pd.read_csv(\"E:\\\\applied data science capstone\\\\data\\\\CooperUnion\\\\archive\\\\anime.csv\")"
   ]
  },
  {
   "cell_type": "markdown",
   "id": "56f2d6b5",
   "metadata": {},
   "source": [
    "#### Anime Listing"
   ]
  },
  {
   "cell_type": "code",
   "execution_count": 4,
   "id": "f650bcf4",
   "metadata": {},
   "outputs": [
    {
     "name": "stdout",
     "output_type": "stream",
     "text": [
      "<class 'pandas.core.frame.DataFrame'>\n",
      "RangeIndex: 12294 entries, 0 to 12293\n",
      "Data columns (total 7 columns):\n",
      " #   Column    Non-Null Count  Dtype  \n",
      "---  ------    --------------  -----  \n",
      " 0   anime_id  12294 non-null  int64  \n",
      " 1   name      12294 non-null  object \n",
      " 2   genre     12232 non-null  object \n",
      " 3   type      12269 non-null  object \n",
      " 4   episodes  12294 non-null  object \n",
      " 5   rating    12064 non-null  float64\n",
      " 6   members   12294 non-null  int64  \n",
      "dtypes: float64(1), int64(2), object(4)\n",
      "memory usage: 672.5+ KB\n"
     ]
    }
   ],
   "source": [
    "\n",
    "cuAnime.info()"
   ]
  },
  {
   "cell_type": "markdown",
   "id": "e19eaffa",
   "metadata": {},
   "source": [
    "The size of the   anime listing data is 915 KB  \n",
    "There are 12,294 records and 7 fields.  \n",
    "**Episodes** is the number of episodes an anime has and is a ratio  \n",
    "**Rating** is the overall rating of the anime and is ordinal.  \n",
    "**Members** is the number of users that have added it to their list of anime and is also a ratio.  \n",
    "**Genre** is the type of story and is categorical.  \n",
    "**Type** is the format of the production of the anime and is categorical.  \n",
    "**Name** is the title of the anime and is nominal  \n",
    "**Anime_id** is the unique identifier provided by myanimelist.net and is nominal  "
   ]
  },
  {
   "cell_type": "code",
   "execution_count": 5,
   "id": "6de50ad9",
   "metadata": {},
   "outputs": [
    {
     "data": {
      "application/vnd.microsoft.datawrangler.viewer.v0+json": {
       "columns": [
        {
         "name": "index",
         "rawType": "object",
         "type": "string"
        },
        {
         "name": "anime_id",
         "rawType": "float64",
         "type": "float"
        },
        {
         "name": "rating",
         "rawType": "float64",
         "type": "float"
        },
        {
         "name": "members",
         "rawType": "float64",
         "type": "float"
        }
       ],
       "ref": "d4d1e36b-8135-4827-8132-6b871d2e176c",
       "rows": [
        [
         "count",
         "12294.0",
         "12064.0",
         "12294.0"
        ],
        [
         "mean",
         "14058.221652838783",
         "6.473901690981432",
         "18071.33886448674"
        ],
        [
         "std",
         "11455.294700988183",
         "1.0267463068980571",
         "54820.67692490696"
        ],
        [
         "min",
         "1.0",
         "1.67",
         "5.0"
        ],
        [
         "25%",
         "3484.25",
         "5.88",
         "225.0"
        ],
        [
         "50%",
         "10260.5",
         "6.57",
         "1550.0"
        ],
        [
         "75%",
         "24794.5",
         "7.18",
         "9437.0"
        ],
        [
         "max",
         "34527.0",
         "10.0",
         "1013917.0"
        ]
       ],
       "shape": {
        "columns": 3,
        "rows": 8
       }
      },
      "text/html": [
       "<div>\n",
       "<style scoped>\n",
       "    .dataframe tbody tr th:only-of-type {\n",
       "        vertical-align: middle;\n",
       "    }\n",
       "\n",
       "    .dataframe tbody tr th {\n",
       "        vertical-align: top;\n",
       "    }\n",
       "\n",
       "    .dataframe thead th {\n",
       "        text-align: right;\n",
       "    }\n",
       "</style>\n",
       "<table border=\"1\" class=\"dataframe\">\n",
       "  <thead>\n",
       "    <tr style=\"text-align: right;\">\n",
       "      <th></th>\n",
       "      <th>anime_id</th>\n",
       "      <th>rating</th>\n",
       "      <th>members</th>\n",
       "    </tr>\n",
       "  </thead>\n",
       "  <tbody>\n",
       "    <tr>\n",
       "      <th>count</th>\n",
       "      <td>12294.000000</td>\n",
       "      <td>12064.000000</td>\n",
       "      <td>1.229400e+04</td>\n",
       "    </tr>\n",
       "    <tr>\n",
       "      <th>mean</th>\n",
       "      <td>14058.221653</td>\n",
       "      <td>6.473902</td>\n",
       "      <td>1.807134e+04</td>\n",
       "    </tr>\n",
       "    <tr>\n",
       "      <th>std</th>\n",
       "      <td>11455.294701</td>\n",
       "      <td>1.026746</td>\n",
       "      <td>5.482068e+04</td>\n",
       "    </tr>\n",
       "    <tr>\n",
       "      <th>min</th>\n",
       "      <td>1.000000</td>\n",
       "      <td>1.670000</td>\n",
       "      <td>5.000000e+00</td>\n",
       "    </tr>\n",
       "    <tr>\n",
       "      <th>25%</th>\n",
       "      <td>3484.250000</td>\n",
       "      <td>5.880000</td>\n",
       "      <td>2.250000e+02</td>\n",
       "    </tr>\n",
       "    <tr>\n",
       "      <th>50%</th>\n",
       "      <td>10260.500000</td>\n",
       "      <td>6.570000</td>\n",
       "      <td>1.550000e+03</td>\n",
       "    </tr>\n",
       "    <tr>\n",
       "      <th>75%</th>\n",
       "      <td>24794.500000</td>\n",
       "      <td>7.180000</td>\n",
       "      <td>9.437000e+03</td>\n",
       "    </tr>\n",
       "    <tr>\n",
       "      <th>max</th>\n",
       "      <td>34527.000000</td>\n",
       "      <td>10.000000</td>\n",
       "      <td>1.013917e+06</td>\n",
       "    </tr>\n",
       "  </tbody>\n",
       "</table>\n",
       "</div>"
      ],
      "text/plain": [
       "           anime_id        rating       members\n",
       "count  12294.000000  12064.000000  1.229400e+04\n",
       "mean   14058.221653      6.473902  1.807134e+04\n",
       "std    11455.294701      1.026746  5.482068e+04\n",
       "min        1.000000      1.670000  5.000000e+00\n",
       "25%     3484.250000      5.880000  2.250000e+02\n",
       "50%    10260.500000      6.570000  1.550000e+03\n",
       "75%    24794.500000      7.180000  9.437000e+03\n",
       "max    34527.000000     10.000000  1.013917e+06"
      ]
     },
     "execution_count": 5,
     "metadata": {},
     "output_type": "execute_result"
    }
   ],
   "source": [
    "cuAnime.describe()"
   ]
  },
  {
   "cell_type": "code",
   "execution_count": 6,
   "id": "4eb0e5c6",
   "metadata": {},
   "outputs": [
    {
     "data": {
      "application/vnd.microsoft.datawrangler.viewer.v0+json": {
       "columns": [
        {
         "name": "index",
         "rawType": "object",
         "type": "string"
        },
        {
         "name": "name",
         "rawType": "object",
         "type": "unknown"
        },
        {
         "name": "genre",
         "rawType": "object",
         "type": "unknown"
        },
        {
         "name": "type",
         "rawType": "object",
         "type": "unknown"
        },
        {
         "name": "episodes",
         "rawType": "object",
         "type": "unknown"
        }
       ],
       "ref": "221821fa-768d-4682-9fd1-4cc7248d9e7e",
       "rows": [
        [
         "count",
         "12294",
         "12232",
         "12269",
         "12294"
        ],
        [
         "unique",
         "12292",
         "3264",
         "6",
         "187"
        ],
        [
         "top",
         "Saru Kani Gassen",
         "Hentai",
         "TV",
         "1"
        ],
        [
         "freq",
         "2",
         "823",
         "3787",
         "5677"
        ]
       ],
       "shape": {
        "columns": 4,
        "rows": 4
       }
      },
      "text/html": [
       "<div>\n",
       "<style scoped>\n",
       "    .dataframe tbody tr th:only-of-type {\n",
       "        vertical-align: middle;\n",
       "    }\n",
       "\n",
       "    .dataframe tbody tr th {\n",
       "        vertical-align: top;\n",
       "    }\n",
       "\n",
       "    .dataframe thead th {\n",
       "        text-align: right;\n",
       "    }\n",
       "</style>\n",
       "<table border=\"1\" class=\"dataframe\">\n",
       "  <thead>\n",
       "    <tr style=\"text-align: right;\">\n",
       "      <th></th>\n",
       "      <th>name</th>\n",
       "      <th>genre</th>\n",
       "      <th>type</th>\n",
       "      <th>episodes</th>\n",
       "    </tr>\n",
       "  </thead>\n",
       "  <tbody>\n",
       "    <tr>\n",
       "      <th>count</th>\n",
       "      <td>12294</td>\n",
       "      <td>12232</td>\n",
       "      <td>12269</td>\n",
       "      <td>12294</td>\n",
       "    </tr>\n",
       "    <tr>\n",
       "      <th>unique</th>\n",
       "      <td>12292</td>\n",
       "      <td>3264</td>\n",
       "      <td>6</td>\n",
       "      <td>187</td>\n",
       "    </tr>\n",
       "    <tr>\n",
       "      <th>top</th>\n",
       "      <td>Saru Kani Gassen</td>\n",
       "      <td>Hentai</td>\n",
       "      <td>TV</td>\n",
       "      <td>1</td>\n",
       "    </tr>\n",
       "    <tr>\n",
       "      <th>freq</th>\n",
       "      <td>2</td>\n",
       "      <td>823</td>\n",
       "      <td>3787</td>\n",
       "      <td>5677</td>\n",
       "    </tr>\n",
       "  </tbody>\n",
       "</table>\n",
       "</div>"
      ],
      "text/plain": [
       "                    name   genre   type episodes\n",
       "count              12294   12232  12269    12294\n",
       "unique             12292    3264      6      187\n",
       "top     Saru Kani Gassen  Hentai     TV        1\n",
       "freq                   2     823   3787     5677"
      ]
     },
     "execution_count": 6,
     "metadata": {},
     "output_type": "execute_result"
    }
   ],
   "source": [
    "cuAnime.describe(include=object)"
   ]
  },
  {
   "cell_type": "markdown",
   "id": "c1084c22",
   "metadata": {},
   "source": [
    "#### Anime ratings for each user"
   ]
  },
  {
   "cell_type": "code",
   "execution_count": 7,
   "id": "6919b79b",
   "metadata": {},
   "outputs": [],
   "source": [
    "cuRating = pd.read_csv(\"E:\\\\applied data science capstone\\\\data\\\\CooperUnion\\\\archive\\\\rating.csv\")"
   ]
  },
  {
   "cell_type": "code",
   "execution_count": 8,
   "id": "daa2c277",
   "metadata": {},
   "outputs": [
    {
     "name": "stdout",
     "output_type": "stream",
     "text": [
      "<class 'pandas.core.frame.DataFrame'>\n",
      "RangeIndex: 7813737 entries, 0 to 7813736\n",
      "Data columns (total 3 columns):\n",
      " #   Column    Dtype\n",
      "---  ------    -----\n",
      " 0   user_id   int64\n",
      " 1   anime_id  int64\n",
      " 2   rating    int64\n",
      "dtypes: int64(3)\n",
      "memory usage: 178.8 MB\n"
     ]
    }
   ],
   "source": [
    "cuRating.info()"
   ]
  },
  {
   "cell_type": "code",
   "execution_count": 9,
   "id": "afdd7e0a",
   "metadata": {},
   "outputs": [
    {
     "data": {
      "application/vnd.microsoft.datawrangler.viewer.v0+json": {
       "columns": [
        {
         "name": "index",
         "rawType": "object",
         "type": "string"
        },
        {
         "name": "user_id",
         "rawType": "float64",
         "type": "float"
        },
        {
         "name": "anime_id",
         "rawType": "float64",
         "type": "float"
        },
        {
         "name": "rating",
         "rawType": "float64",
         "type": "float"
        }
       ],
       "ref": "eb38bc94-dc2c-43cd-b49d-6cee6693eadb",
       "rows": [
        [
         "count",
         "7813737.0",
         "7813737.0",
         "7813737.0"
        ],
        [
         "mean",
         "36727.956744640884",
         "8909.072104295294",
         "6.144029546937656"
        ],
        [
         "std",
         "20997.946118974716",
         "8883.94963588097",
         "3.7278004201098764"
        ],
        [
         "min",
         "1.0",
         "1.0",
         "-1.0"
        ],
        [
         "25%",
         "18974.0",
         "1240.0",
         "6.0"
        ],
        [
         "50%",
         "36791.0",
         "6213.0",
         "7.0"
        ],
        [
         "75%",
         "54757.0",
         "14093.0",
         "9.0"
        ],
        [
         "max",
         "73516.0",
         "34519.0",
         "10.0"
        ]
       ],
       "shape": {
        "columns": 3,
        "rows": 8
       }
      },
      "text/html": [
       "<div>\n",
       "<style scoped>\n",
       "    .dataframe tbody tr th:only-of-type {\n",
       "        vertical-align: middle;\n",
       "    }\n",
       "\n",
       "    .dataframe tbody tr th {\n",
       "        vertical-align: top;\n",
       "    }\n",
       "\n",
       "    .dataframe thead th {\n",
       "        text-align: right;\n",
       "    }\n",
       "</style>\n",
       "<table border=\"1\" class=\"dataframe\">\n",
       "  <thead>\n",
       "    <tr style=\"text-align: right;\">\n",
       "      <th></th>\n",
       "      <th>user_id</th>\n",
       "      <th>anime_id</th>\n",
       "      <th>rating</th>\n",
       "    </tr>\n",
       "  </thead>\n",
       "  <tbody>\n",
       "    <tr>\n",
       "      <th>count</th>\n",
       "      <td>7.813737e+06</td>\n",
       "      <td>7.813737e+06</td>\n",
       "      <td>7.813737e+06</td>\n",
       "    </tr>\n",
       "    <tr>\n",
       "      <th>mean</th>\n",
       "      <td>3.672796e+04</td>\n",
       "      <td>8.909072e+03</td>\n",
       "      <td>6.144030e+00</td>\n",
       "    </tr>\n",
       "    <tr>\n",
       "      <th>std</th>\n",
       "      <td>2.099795e+04</td>\n",
       "      <td>8.883950e+03</td>\n",
       "      <td>3.727800e+00</td>\n",
       "    </tr>\n",
       "    <tr>\n",
       "      <th>min</th>\n",
       "      <td>1.000000e+00</td>\n",
       "      <td>1.000000e+00</td>\n",
       "      <td>-1.000000e+00</td>\n",
       "    </tr>\n",
       "    <tr>\n",
       "      <th>25%</th>\n",
       "      <td>1.897400e+04</td>\n",
       "      <td>1.240000e+03</td>\n",
       "      <td>6.000000e+00</td>\n",
       "    </tr>\n",
       "    <tr>\n",
       "      <th>50%</th>\n",
       "      <td>3.679100e+04</td>\n",
       "      <td>6.213000e+03</td>\n",
       "      <td>7.000000e+00</td>\n",
       "    </tr>\n",
       "    <tr>\n",
       "      <th>75%</th>\n",
       "      <td>5.475700e+04</td>\n",
       "      <td>1.409300e+04</td>\n",
       "      <td>9.000000e+00</td>\n",
       "    </tr>\n",
       "    <tr>\n",
       "      <th>max</th>\n",
       "      <td>7.351600e+04</td>\n",
       "      <td>3.451900e+04</td>\n",
       "      <td>1.000000e+01</td>\n",
       "    </tr>\n",
       "  </tbody>\n",
       "</table>\n",
       "</div>"
      ],
      "text/plain": [
       "            user_id      anime_id        rating\n",
       "count  7.813737e+06  7.813737e+06  7.813737e+06\n",
       "mean   3.672796e+04  8.909072e+03  6.144030e+00\n",
       "std    2.099795e+04  8.883950e+03  3.727800e+00\n",
       "min    1.000000e+00  1.000000e+00 -1.000000e+00\n",
       "25%    1.897400e+04  1.240000e+03  6.000000e+00\n",
       "50%    3.679100e+04  6.213000e+03  7.000000e+00\n",
       "75%    5.475700e+04  1.409300e+04  9.000000e+00\n",
       "max    7.351600e+04  3.451900e+04  1.000000e+01"
      ]
     },
     "execution_count": 9,
     "metadata": {},
     "output_type": "execute_result"
    }
   ],
   "source": [
    "cuRating.describe()"
   ]
  },
  {
   "cell_type": "markdown",
   "id": "8142da7e",
   "metadata": {},
   "source": [
    "The size of the anime listing data is 108,794 KB  \n",
    "There are 7,813,737 records and 3 fields.  \n",
    "**User_id** is the unique identifier for the user that provided the rating and it is nominal.  \n",
    "**Rating** is the rating given to the anime by the user and it is ordinal.  \n",
    "**Anime_id** is the unique identifier for the anime and it is nominal.  "
   ]
  },
  {
   "cell_type": "markdown",
   "id": "e4289951",
   "metadata": {},
   "source": [
    "Rating from the anime rating for each user and the rating from the anime listing are not the same. The rating for the entire anime is determined by combining the rating supplied by each user to obtain the overall rating."
   ]
  },
  {
   "cell_type": "markdown",
   "id": "620470b5",
   "metadata": {},
   "source": [
    "### Anime Recommendations Database 2020"
   ]
  },
  {
   "cell_type": "markdown",
   "id": "c3558b1b",
   "metadata": {},
   "source": [
    "#### Anime Listing"
   ]
  },
  {
   "cell_type": "code",
   "execution_count": 10,
   "id": "1aaf07dc",
   "metadata": {},
   "outputs": [],
   "source": [
    "hernanAnime = pd.read_csv(\"E:\\\\applied data science capstone\\\\data\\\\hernan4444\\\\archive\\\\anime-hernan.csv\")"
   ]
  },
  {
   "cell_type": "code",
   "execution_count": 11,
   "id": "cbeb3934",
   "metadata": {},
   "outputs": [
    {
     "name": "stdout",
     "output_type": "stream",
     "text": [
      "<class 'pandas.core.frame.DataFrame'>\n",
      "RangeIndex: 17562 entries, 0 to 17561\n",
      "Data columns (total 35 columns):\n",
      " #   Column         Non-Null Count  Dtype \n",
      "---  ------         --------------  ----- \n",
      " 0   MAL_ID         17562 non-null  int64 \n",
      " 1   Name           17562 non-null  object\n",
      " 2   Score          17562 non-null  object\n",
      " 3   Genres         17562 non-null  object\n",
      " 4   English name   17562 non-null  object\n",
      " 5   Japanese name  17562 non-null  object\n",
      " 6   Type           17562 non-null  object\n",
      " 7   Episodes       17562 non-null  object\n",
      " 8   Aired          17562 non-null  object\n",
      " 9   Premiered      17562 non-null  object\n",
      " 10  Producers      17562 non-null  object\n",
      " 11  Licensors      17562 non-null  object\n",
      " 12  Studios        17562 non-null  object\n",
      " 13  Source         17562 non-null  object\n",
      " 14  Duration       17562 non-null  object\n",
      " 15  Rating         17562 non-null  object\n",
      " 16  Ranked         17562 non-null  object\n",
      " 17  Popularity     17562 non-null  int64 \n",
      " 18  Members        17562 non-null  int64 \n",
      " 19  Favorites      17562 non-null  int64 \n",
      " 20  Watching       17562 non-null  int64 \n",
      " 21  Completed      17562 non-null  int64 \n",
      " 22  On-Hold        17562 non-null  int64 \n",
      " 23  Dropped        17562 non-null  int64 \n",
      " 24  Plan to Watch  17562 non-null  int64 \n",
      " 25  Score-10       17562 non-null  object\n",
      " 26  Score-9        17562 non-null  object\n",
      " 27  Score-8        17562 non-null  object\n",
      " 28  Score-7        17562 non-null  object\n",
      " 29  Score-6        17562 non-null  object\n",
      " 30  Score-5        17562 non-null  object\n",
      " 31  Score-4        17562 non-null  object\n",
      " 32  Score-3        17562 non-null  object\n",
      " 33  Score-2        17562 non-null  object\n",
      " 34  Score-1        17562 non-null  object\n",
      "dtypes: int64(9), object(26)\n",
      "memory usage: 4.7+ MB\n"
     ]
    }
   ],
   "source": [
    "hernanAnime.info()"
   ]
  },
  {
   "cell_type": "markdown",
   "id": "10223f04",
   "metadata": {},
   "source": [
    "The size of the anime listing data is 5,530 KB  \n",
    "There are 17,562 records and 35 fields.  \n",
    "**MAL_ID** is the unique identifier provided by myanimelist.net and is nominal  \n",
    "**Name** is the title of the anime and is nominal  \n",
    "**Score** is the overall rating of the anime and is ordinal.\n",
    "**Genres** is the type of story and is categorical.  \n",
    "**English name** is the title of the anime in english and is nominal  \n",
    "**Japanese name** is the title of the anime in japanese and is nominal  \n",
    "**Type** is the format of the production of the anime and is categorical.  \n",
    "**Episodes** is the number of episodes an anime has and is a ratio  \n",
    "**Aired** is the time period during which the anime was released and it is an interval  \n",
    "**Premiered** is the date the first episode was released it is an interval  \n",
    "**Producers** companies that finance the production of the anime and is categorical  \n",
    "**Licensors** companies that have the right to distribute the anime outside of Japan and is categorical  \n",
    "**Studios** companies that make the anime and is categorical  \n",
    "**Source** tells the source material that was used to create the anime and is categorical  \n",
    "**Duration** tells the duration of the anime and is categorical  \n",
    "**Rating** is the content suitability and is categorical  \n",
    "**Ranked** is the position of the anime on the rankings for the website. It is based on the average user rating and is ordinal  \n",
    "**Popularity** indicates how much an anime is interacted with by counting the number of users that have added it to their anime list and is ordinal  \n",
    "**Members** indicates the number of users that have added the anime to their anime list and is a ratio  \n",
    "**Favorites** indicates the number of users that have added the anime to their favourites list and is a ratio  \n",
    "**Watching** indicates the number of users that have indicated that they are currently watching the anime and is a ratio  \n",
    "**Completed** indicates the number of users that have indicated that they have watched all episodes for the anime and is a ratio  \n",
    "**On-Hold** indicates the number of users that have indicated that they started watching the anime but are not currently and is a ratio  \n",
    "**Dropped** indicates the number of users that have indicated that they started watching the anime but are no longer and is a ratio  \n",
    "**Plan to Watch** indicates the number of users that have indicated that they are not currently watching the anime, but intend to and is a ratio  \n",
    "**Score-10** indicates the number of users that gave the anime a score of 10 and is a ratio  \n",
    "**Score-9** indicates the number of users that gave the anime a score of 9 and is a ratio  \n",
    "**Score-8** indicates the number of users that gave the anime a score of 8 and is a ratio  \n",
    "**Score-7** indicates the number of users that gave the anime a score of 7 and is a ratio  \n",
    "**Score-6** indicates the number of users that gave the anime a score of 6 and is a ratio  \n",
    "**Score-5** indicates the number of users that gave the anime a score of 5 and is a ratio  \n",
    "**Score-4** indicates the number of users that gave the anime a score of 4 and is a ratio  \n",
    "**Score-3** indicates the number of users that gave the anime a score of 3 and is a ratio  \n",
    "**Score-2** indicates the number of users that gave the anime a score of 2 and is a ratio  \n",
    "**Score-1** indicates the number of users that gave the anime a score of 1 and is a ratio  "
   ]
  },
  {
   "cell_type": "markdown",
   "id": "8ef717ea",
   "metadata": {},
   "source": [
    "*Name, English name* and *Japanese name* are all titles for the anime and are closely related.  \n",
    "*Premiered* can be determined from the *aired* field as *premiered* is simply the start date for the *aired* field.  \n",
    "There may be overlap with *producers, licensors* and *studios* as many companies serve multiple roles in the production and distribution process.  \n",
    "*Ranked* and *popularity* are both popularity measures derived from user interaction. *Ranked* is in fact directly linked to the *score* of the anime as anime with higher scores generally place higher on the rankings.  \n",
    "*Members, favorites, watching, completed, on-hold, dropped* and *plan to watch* are all metrics used to gauge user interaction with the anime.  \n",
    "*Score-n* for n = 1 to 10 are all combined to generate the *score* field for the anime."
   ]
  },
  {
   "cell_type": "code",
   "execution_count": 12,
   "id": "cedad00d",
   "metadata": {},
   "outputs": [
    {
     "data": {
      "application/vnd.microsoft.datawrangler.viewer.v0+json": {
       "columns": [
        {
         "name": "index",
         "rawType": "object",
         "type": "string"
        },
        {
         "name": "MAL_ID",
         "rawType": "float64",
         "type": "float"
        },
        {
         "name": "Popularity",
         "rawType": "float64",
         "type": "float"
        },
        {
         "name": "Members",
         "rawType": "float64",
         "type": "float"
        },
        {
         "name": "Favorites",
         "rawType": "float64",
         "type": "float"
        },
        {
         "name": "Watching",
         "rawType": "float64",
         "type": "float"
        },
        {
         "name": "Completed",
         "rawType": "float64",
         "type": "float"
        },
        {
         "name": "On-Hold",
         "rawType": "float64",
         "type": "float"
        },
        {
         "name": "Dropped",
         "rawType": "float64",
         "type": "float"
        },
        {
         "name": "Plan to Watch",
         "rawType": "float64",
         "type": "float"
        }
       ],
       "ref": "58df9ae2-e28c-405a-bc5e-9c6e638a261c",
       "rows": [
        [
         "count",
         "17562.0",
         "17562.0",
         "17562.0",
         "17562.0",
         "17562.0",
         "17562.0",
         "17562.0",
         "17562.0",
         "17562.0"
        ],
        [
         "mean",
         "21477.192347113087",
         "8763.45234028015",
         "34658.53951713928",
         "457.7462703564514",
         "2231.487757658581",
         "22095.571347226967",
         "955.0496526591504",
         "1176.5995330827925",
         "8199.831226511787"
        ],
        [
         "std",
         "14900.09316994341",
         "5059.327278012592",
         "125282.1414282238",
         "4063.473313493854",
         "14046.688133245594",
         "91009.18850426309",
         "4275.675095965888",
         "4740.348652904278",
         "23777.69196254907"
        ],
        [
         "min",
         "1.0",
         "0.0",
         "1.0",
         "0.0",
         "0.0",
         "0.0",
         "0.0",
         "0.0",
         "1.0"
        ],
        [
         "25%",
         "5953.5",
         "4383.5",
         "336.0",
         "0.0",
         "13.0",
         "111.0",
         "6.0",
         "37.0",
         "112.0"
        ],
        [
         "50%",
         "22820.0",
         "8762.5",
         "2065.0",
         "3.0",
         "73.0",
         "817.5",
         "45.0",
         "77.0",
         "752.5"
        ],
        [
         "75%",
         "35624.75",
         "13145.0",
         "13223.25",
         "31.0",
         "522.0",
         "6478.0",
         "291.75",
         "271.0",
         "4135.5"
        ],
        [
         "max",
         "48492.0",
         "17565.0",
         "2589552.0",
         "183914.0",
         "887333.0",
         "2182587.0",
         "187919.0",
         "174710.0",
         "425531.0"
        ]
       ],
       "shape": {
        "columns": 9,
        "rows": 8
       }
      },
      "text/html": [
       "<div>\n",
       "<style scoped>\n",
       "    .dataframe tbody tr th:only-of-type {\n",
       "        vertical-align: middle;\n",
       "    }\n",
       "\n",
       "    .dataframe tbody tr th {\n",
       "        vertical-align: top;\n",
       "    }\n",
       "\n",
       "    .dataframe thead th {\n",
       "        text-align: right;\n",
       "    }\n",
       "</style>\n",
       "<table border=\"1\" class=\"dataframe\">\n",
       "  <thead>\n",
       "    <tr style=\"text-align: right;\">\n",
       "      <th></th>\n",
       "      <th>MAL_ID</th>\n",
       "      <th>Popularity</th>\n",
       "      <th>Members</th>\n",
       "      <th>Favorites</th>\n",
       "      <th>Watching</th>\n",
       "      <th>Completed</th>\n",
       "      <th>On-Hold</th>\n",
       "      <th>Dropped</th>\n",
       "      <th>Plan to Watch</th>\n",
       "    </tr>\n",
       "  </thead>\n",
       "  <tbody>\n",
       "    <tr>\n",
       "      <th>count</th>\n",
       "      <td>17562.000000</td>\n",
       "      <td>17562.000000</td>\n",
       "      <td>1.756200e+04</td>\n",
       "      <td>17562.000000</td>\n",
       "      <td>17562.000000</td>\n",
       "      <td>1.756200e+04</td>\n",
       "      <td>17562.000000</td>\n",
       "      <td>17562.000000</td>\n",
       "      <td>17562.000000</td>\n",
       "    </tr>\n",
       "    <tr>\n",
       "      <th>mean</th>\n",
       "      <td>21477.192347</td>\n",
       "      <td>8763.452340</td>\n",
       "      <td>3.465854e+04</td>\n",
       "      <td>457.746270</td>\n",
       "      <td>2231.487758</td>\n",
       "      <td>2.209557e+04</td>\n",
       "      <td>955.049653</td>\n",
       "      <td>1176.599533</td>\n",
       "      <td>8199.831227</td>\n",
       "    </tr>\n",
       "    <tr>\n",
       "      <th>std</th>\n",
       "      <td>14900.093170</td>\n",
       "      <td>5059.327278</td>\n",
       "      <td>1.252821e+05</td>\n",
       "      <td>4063.473313</td>\n",
       "      <td>14046.688133</td>\n",
       "      <td>9.100919e+04</td>\n",
       "      <td>4275.675096</td>\n",
       "      <td>4740.348653</td>\n",
       "      <td>23777.691963</td>\n",
       "    </tr>\n",
       "    <tr>\n",
       "      <th>min</th>\n",
       "      <td>1.000000</td>\n",
       "      <td>0.000000</td>\n",
       "      <td>1.000000e+00</td>\n",
       "      <td>0.000000</td>\n",
       "      <td>0.000000</td>\n",
       "      <td>0.000000e+00</td>\n",
       "      <td>0.000000</td>\n",
       "      <td>0.000000</td>\n",
       "      <td>1.000000</td>\n",
       "    </tr>\n",
       "    <tr>\n",
       "      <th>25%</th>\n",
       "      <td>5953.500000</td>\n",
       "      <td>4383.500000</td>\n",
       "      <td>3.360000e+02</td>\n",
       "      <td>0.000000</td>\n",
       "      <td>13.000000</td>\n",
       "      <td>1.110000e+02</td>\n",
       "      <td>6.000000</td>\n",
       "      <td>37.000000</td>\n",
       "      <td>112.000000</td>\n",
       "    </tr>\n",
       "    <tr>\n",
       "      <th>50%</th>\n",
       "      <td>22820.000000</td>\n",
       "      <td>8762.500000</td>\n",
       "      <td>2.065000e+03</td>\n",
       "      <td>3.000000</td>\n",
       "      <td>73.000000</td>\n",
       "      <td>8.175000e+02</td>\n",
       "      <td>45.000000</td>\n",
       "      <td>77.000000</td>\n",
       "      <td>752.500000</td>\n",
       "    </tr>\n",
       "    <tr>\n",
       "      <th>75%</th>\n",
       "      <td>35624.750000</td>\n",
       "      <td>13145.000000</td>\n",
       "      <td>1.322325e+04</td>\n",
       "      <td>31.000000</td>\n",
       "      <td>522.000000</td>\n",
       "      <td>6.478000e+03</td>\n",
       "      <td>291.750000</td>\n",
       "      <td>271.000000</td>\n",
       "      <td>4135.500000</td>\n",
       "    </tr>\n",
       "    <tr>\n",
       "      <th>max</th>\n",
       "      <td>48492.000000</td>\n",
       "      <td>17565.000000</td>\n",
       "      <td>2.589552e+06</td>\n",
       "      <td>183914.000000</td>\n",
       "      <td>887333.000000</td>\n",
       "      <td>2.182587e+06</td>\n",
       "      <td>187919.000000</td>\n",
       "      <td>174710.000000</td>\n",
       "      <td>425531.000000</td>\n",
       "    </tr>\n",
       "  </tbody>\n",
       "</table>\n",
       "</div>"
      ],
      "text/plain": [
       "             MAL_ID    Popularity       Members      Favorites       Watching  \\\n",
       "count  17562.000000  17562.000000  1.756200e+04   17562.000000   17562.000000   \n",
       "mean   21477.192347   8763.452340  3.465854e+04     457.746270    2231.487758   \n",
       "std    14900.093170   5059.327278  1.252821e+05    4063.473313   14046.688133   \n",
       "min        1.000000      0.000000  1.000000e+00       0.000000       0.000000   \n",
       "25%     5953.500000   4383.500000  3.360000e+02       0.000000      13.000000   \n",
       "50%    22820.000000   8762.500000  2.065000e+03       3.000000      73.000000   \n",
       "75%    35624.750000  13145.000000  1.322325e+04      31.000000     522.000000   \n",
       "max    48492.000000  17565.000000  2.589552e+06  183914.000000  887333.000000   \n",
       "\n",
       "          Completed        On-Hold        Dropped  Plan to Watch  \n",
       "count  1.756200e+04   17562.000000   17562.000000   17562.000000  \n",
       "mean   2.209557e+04     955.049653    1176.599533    8199.831227  \n",
       "std    9.100919e+04    4275.675096    4740.348653   23777.691963  \n",
       "min    0.000000e+00       0.000000       0.000000       1.000000  \n",
       "25%    1.110000e+02       6.000000      37.000000     112.000000  \n",
       "50%    8.175000e+02      45.000000      77.000000     752.500000  \n",
       "75%    6.478000e+03     291.750000     271.000000    4135.500000  \n",
       "max    2.182587e+06  187919.000000  174710.000000  425531.000000  "
      ]
     },
     "execution_count": 12,
     "metadata": {},
     "output_type": "execute_result"
    }
   ],
   "source": [
    "hernanAnime.describe()"
   ]
  },
  {
   "cell_type": "code",
   "execution_count": 13,
   "id": "bf70143a",
   "metadata": {},
   "outputs": [
    {
     "data": {
      "application/vnd.microsoft.datawrangler.viewer.v0+json": {
       "columns": [
        {
         "name": "index",
         "rawType": "object",
         "type": "string"
        },
        {
         "name": "Name",
         "rawType": "object",
         "type": "unknown"
        },
        {
         "name": "Score",
         "rawType": "object",
         "type": "unknown"
        },
        {
         "name": "Genres",
         "rawType": "object",
         "type": "unknown"
        },
        {
         "name": "English name",
         "rawType": "object",
         "type": "unknown"
        },
        {
         "name": "Japanese name",
         "rawType": "object",
         "type": "unknown"
        },
        {
         "name": "Type",
         "rawType": "object",
         "type": "unknown"
        },
        {
         "name": "Episodes",
         "rawType": "object",
         "type": "unknown"
        },
        {
         "name": "Aired",
         "rawType": "object",
         "type": "unknown"
        },
        {
         "name": "Premiered",
         "rawType": "object",
         "type": "unknown"
        },
        {
         "name": "Producers",
         "rawType": "object",
         "type": "unknown"
        },
        {
         "name": "Licensors",
         "rawType": "object",
         "type": "unknown"
        },
        {
         "name": "Studios",
         "rawType": "object",
         "type": "unknown"
        },
        {
         "name": "Source",
         "rawType": "object",
         "type": "unknown"
        }
       ],
       "ref": "df2fa552-bf45-45d7-adfe-0102d9fa2460",
       "rows": [
        [
         "count",
         "17562",
         "17562",
         "17562",
         "17562",
         "17562",
         "17562",
         "17562",
         "17562",
         "17562",
         "17562",
         "17562",
         "17562",
         "17562"
        ],
        [
         "unique",
         "17558",
         "533",
         "5034",
         "6831",
         "16679",
         "7",
         "201",
         "11947",
         "231",
         "3783",
         "231",
         "1090",
         "16"
        ],
        [
         "top",
         "Maou Gakuin no Futekigousha: Shijou Saikyou no Maou no Shiso, Tensei shite Shison-tachi no Gakkou e",
         "Unknown",
         "Hentai",
         "Unknown",
         "Unknown",
         "TV",
         "1",
         "Unknown",
         "Unknown",
         "Unknown",
         "Unknown",
         "Unknown",
         "Original"
        ],
        [
         "freq",
         "3",
         "5141",
         "969",
         "10565",
         "48",
         "4996",
         "8381",
         "309",
         "12817",
         "7794",
         "13616",
         "7079",
         "5215"
        ]
       ],
       "shape": {
        "columns": 13,
        "rows": 4
       }
      },
      "text/html": [
       "<div>\n",
       "<style scoped>\n",
       "    .dataframe tbody tr th:only-of-type {\n",
       "        vertical-align: middle;\n",
       "    }\n",
       "\n",
       "    .dataframe tbody tr th {\n",
       "        vertical-align: top;\n",
       "    }\n",
       "\n",
       "    .dataframe thead th {\n",
       "        text-align: right;\n",
       "    }\n",
       "</style>\n",
       "<table border=\"1\" class=\"dataframe\">\n",
       "  <thead>\n",
       "    <tr style=\"text-align: right;\">\n",
       "      <th></th>\n",
       "      <th>Name</th>\n",
       "      <th>Score</th>\n",
       "      <th>Genres</th>\n",
       "      <th>English name</th>\n",
       "      <th>Japanese name</th>\n",
       "      <th>Type</th>\n",
       "      <th>Episodes</th>\n",
       "      <th>Aired</th>\n",
       "      <th>Premiered</th>\n",
       "      <th>Producers</th>\n",
       "      <th>Licensors</th>\n",
       "      <th>Studios</th>\n",
       "      <th>Source</th>\n",
       "    </tr>\n",
       "  </thead>\n",
       "  <tbody>\n",
       "    <tr>\n",
       "      <th>count</th>\n",
       "      <td>17562</td>\n",
       "      <td>17562</td>\n",
       "      <td>17562</td>\n",
       "      <td>17562</td>\n",
       "      <td>17562</td>\n",
       "      <td>17562</td>\n",
       "      <td>17562</td>\n",
       "      <td>17562</td>\n",
       "      <td>17562</td>\n",
       "      <td>17562</td>\n",
       "      <td>17562</td>\n",
       "      <td>17562</td>\n",
       "      <td>17562</td>\n",
       "    </tr>\n",
       "    <tr>\n",
       "      <th>unique</th>\n",
       "      <td>17558</td>\n",
       "      <td>533</td>\n",
       "      <td>5034</td>\n",
       "      <td>6831</td>\n",
       "      <td>16679</td>\n",
       "      <td>7</td>\n",
       "      <td>201</td>\n",
       "      <td>11947</td>\n",
       "      <td>231</td>\n",
       "      <td>3783</td>\n",
       "      <td>231</td>\n",
       "      <td>1090</td>\n",
       "      <td>16</td>\n",
       "    </tr>\n",
       "    <tr>\n",
       "      <th>top</th>\n",
       "      <td>Maou Gakuin no Futekigousha: Shijou Saikyou no...</td>\n",
       "      <td>Unknown</td>\n",
       "      <td>Hentai</td>\n",
       "      <td>Unknown</td>\n",
       "      <td>Unknown</td>\n",
       "      <td>TV</td>\n",
       "      <td>1</td>\n",
       "      <td>Unknown</td>\n",
       "      <td>Unknown</td>\n",
       "      <td>Unknown</td>\n",
       "      <td>Unknown</td>\n",
       "      <td>Unknown</td>\n",
       "      <td>Original</td>\n",
       "    </tr>\n",
       "    <tr>\n",
       "      <th>freq</th>\n",
       "      <td>3</td>\n",
       "      <td>5141</td>\n",
       "      <td>969</td>\n",
       "      <td>10565</td>\n",
       "      <td>48</td>\n",
       "      <td>4996</td>\n",
       "      <td>8381</td>\n",
       "      <td>309</td>\n",
       "      <td>12817</td>\n",
       "      <td>7794</td>\n",
       "      <td>13616</td>\n",
       "      <td>7079</td>\n",
       "      <td>5215</td>\n",
       "    </tr>\n",
       "  </tbody>\n",
       "</table>\n",
       "</div>"
      ],
      "text/plain": [
       "                                                     Name    Score  Genres  \\\n",
       "count                                               17562    17562   17562   \n",
       "unique                                              17558      533    5034   \n",
       "top     Maou Gakuin no Futekigousha: Shijou Saikyou no...  Unknown  Hentai   \n",
       "freq                                                    3     5141     969   \n",
       "\n",
       "       English name Japanese name   Type Episodes    Aired Premiered  \\\n",
       "count         17562         17562  17562    17562    17562     17562   \n",
       "unique         6831         16679      7      201    11947       231   \n",
       "top         Unknown       Unknown     TV        1  Unknown   Unknown   \n",
       "freq          10565            48   4996     8381      309     12817   \n",
       "\n",
       "       Producers Licensors  Studios    Source  \n",
       "count      17562     17562    17562     17562  \n",
       "unique      3783       231     1090        16  \n",
       "top      Unknown   Unknown  Unknown  Original  \n",
       "freq        7794     13616     7079      5215  "
      ]
     },
     "execution_count": 13,
     "metadata": {},
     "output_type": "execute_result"
    }
   ],
   "source": [
    "hernanAnime[['Name', 'Score', 'Genres', 'English name', 'Japanese name',\n",
    "       'Type','Episodes', 'Aired', 'Premiered', 'Producers', 'Licensors',\n",
    "       'Studios', 'Source']].describe(include=object)"
   ]
  },
  {
   "cell_type": "code",
   "execution_count": 14,
   "id": "538769c4",
   "metadata": {},
   "outputs": [
    {
     "data": {
      "application/vnd.microsoft.datawrangler.viewer.v0+json": {
       "columns": [
        {
         "name": "index",
         "rawType": "object",
         "type": "string"
        },
        {
         "name": "Duration",
         "rawType": "object",
         "type": "unknown"
        },
        {
         "name": "Rating",
         "rawType": "object",
         "type": "unknown"
        },
        {
         "name": "Ranked",
         "rawType": "object",
         "type": "unknown"
        },
        {
         "name": "Score-10",
         "rawType": "object",
         "type": "unknown"
        },
        {
         "name": "Score-9",
         "rawType": "object",
         "type": "unknown"
        },
        {
         "name": "Score-8",
         "rawType": "object",
         "type": "unknown"
        },
        {
         "name": "Score-7",
         "rawType": "object",
         "type": "unknown"
        },
        {
         "name": "Score-6",
         "rawType": "object",
         "type": "unknown"
        },
        {
         "name": "Score-5",
         "rawType": "object",
         "type": "unknown"
        },
        {
         "name": "Score-4",
         "rawType": "object",
         "type": "unknown"
        },
        {
         "name": "Score-3",
         "rawType": "object",
         "type": "unknown"
        },
        {
         "name": "Score-2",
         "rawType": "object",
         "type": "unknown"
        },
        {
         "name": "Score-1",
         "rawType": "object",
         "type": "unknown"
        }
       ],
       "ref": "634eaf03-3d7c-46b9-9c62-24a92dfbded1",
       "rows": [
        [
         "count",
         "17562",
         "17562",
         "17562",
         "17562",
         "17562",
         "17562",
         "17562",
         "17562",
         "17562",
         "17562",
         "17562",
         "17562",
         "17562"
        ],
        [
         "unique",
         "313",
         "7",
         "10490",
         "3379",
         "3645",
         "4515",
         "4933",
         "4236",
         "3288",
         "2235",
         "1506",
         "1110",
         "1084"
        ],
        [
         "top",
         "24 min. per ep.",
         "PG-13 - Teens 13 or older",
         "Unknown",
         "4.0",
         "Unknown",
         "Unknown",
         "2.0",
         "Unknown",
         "Unknown",
         "Unknown",
         "Unknown",
         "Unknown",
         "4.0"
        ],
        [
         "freq",
         "1723",
         "6132",
         "1762",
         "936",
         "3167",
         "1371",
         "610",
         "511",
         "584",
         "977",
         "1307",
         "1597",
         "955"
        ]
       ],
       "shape": {
        "columns": 13,
        "rows": 4
       }
      },
      "text/html": [
       "<div>\n",
       "<style scoped>\n",
       "    .dataframe tbody tr th:only-of-type {\n",
       "        vertical-align: middle;\n",
       "    }\n",
       "\n",
       "    .dataframe tbody tr th {\n",
       "        vertical-align: top;\n",
       "    }\n",
       "\n",
       "    .dataframe thead th {\n",
       "        text-align: right;\n",
       "    }\n",
       "</style>\n",
       "<table border=\"1\" class=\"dataframe\">\n",
       "  <thead>\n",
       "    <tr style=\"text-align: right;\">\n",
       "      <th></th>\n",
       "      <th>Duration</th>\n",
       "      <th>Rating</th>\n",
       "      <th>Ranked</th>\n",
       "      <th>Score-10</th>\n",
       "      <th>Score-9</th>\n",
       "      <th>Score-8</th>\n",
       "      <th>Score-7</th>\n",
       "      <th>Score-6</th>\n",
       "      <th>Score-5</th>\n",
       "      <th>Score-4</th>\n",
       "      <th>Score-3</th>\n",
       "      <th>Score-2</th>\n",
       "      <th>Score-1</th>\n",
       "    </tr>\n",
       "  </thead>\n",
       "  <tbody>\n",
       "    <tr>\n",
       "      <th>count</th>\n",
       "      <td>17562</td>\n",
       "      <td>17562</td>\n",
       "      <td>17562</td>\n",
       "      <td>17562</td>\n",
       "      <td>17562</td>\n",
       "      <td>17562</td>\n",
       "      <td>17562</td>\n",
       "      <td>17562</td>\n",
       "      <td>17562</td>\n",
       "      <td>17562</td>\n",
       "      <td>17562</td>\n",
       "      <td>17562</td>\n",
       "      <td>17562</td>\n",
       "    </tr>\n",
       "    <tr>\n",
       "      <th>unique</th>\n",
       "      <td>313</td>\n",
       "      <td>7</td>\n",
       "      <td>10490</td>\n",
       "      <td>3379</td>\n",
       "      <td>3645</td>\n",
       "      <td>4515</td>\n",
       "      <td>4933</td>\n",
       "      <td>4236</td>\n",
       "      <td>3288</td>\n",
       "      <td>2235</td>\n",
       "      <td>1506</td>\n",
       "      <td>1110</td>\n",
       "      <td>1084</td>\n",
       "    </tr>\n",
       "    <tr>\n",
       "      <th>top</th>\n",
       "      <td>24 min. per ep.</td>\n",
       "      <td>PG-13 - Teens 13 or older</td>\n",
       "      <td>Unknown</td>\n",
       "      <td>4.0</td>\n",
       "      <td>Unknown</td>\n",
       "      <td>Unknown</td>\n",
       "      <td>2.0</td>\n",
       "      <td>Unknown</td>\n",
       "      <td>Unknown</td>\n",
       "      <td>Unknown</td>\n",
       "      <td>Unknown</td>\n",
       "      <td>Unknown</td>\n",
       "      <td>4.0</td>\n",
       "    </tr>\n",
       "    <tr>\n",
       "      <th>freq</th>\n",
       "      <td>1723</td>\n",
       "      <td>6132</td>\n",
       "      <td>1762</td>\n",
       "      <td>936</td>\n",
       "      <td>3167</td>\n",
       "      <td>1371</td>\n",
       "      <td>610</td>\n",
       "      <td>511</td>\n",
       "      <td>584</td>\n",
       "      <td>977</td>\n",
       "      <td>1307</td>\n",
       "      <td>1597</td>\n",
       "      <td>955</td>\n",
       "    </tr>\n",
       "  </tbody>\n",
       "</table>\n",
       "</div>"
      ],
      "text/plain": [
       "               Duration                     Rating   Ranked Score-10  Score-9  \\\n",
       "count             17562                      17562    17562    17562    17562   \n",
       "unique              313                          7    10490     3379     3645   \n",
       "top     24 min. per ep.  PG-13 - Teens 13 or older  Unknown      4.0  Unknown   \n",
       "freq               1723                       6132     1762      936     3167   \n",
       "\n",
       "        Score-8 Score-7  Score-6  Score-5  Score-4  Score-3  Score-2 Score-1  \n",
       "count     17562   17562    17562    17562    17562    17562    17562   17562  \n",
       "unique     4515    4933     4236     3288     2235     1506     1110    1084  \n",
       "top     Unknown     2.0  Unknown  Unknown  Unknown  Unknown  Unknown     4.0  \n",
       "freq       1371     610      511      584      977     1307     1597     955  "
      ]
     },
     "execution_count": 14,
     "metadata": {},
     "output_type": "execute_result"
    }
   ],
   "source": [
    "hernanAnime[['Duration', 'Rating', 'Ranked', 'Popularity',\n",
    "       'Members', 'Favorites', 'Watching', 'Completed', 'On-Hold', 'Dropped',\n",
    "       'Plan to Watch', 'Score-10', 'Score-9', 'Score-8', 'Score-7', 'Score-6',\n",
    "       'Score-5', 'Score-4', 'Score-3', 'Score-2', 'Score-1']].describe(include=object)"
   ]
  },
  {
   "cell_type": "markdown",
   "id": "87fe2520",
   "metadata": {},
   "source": [
    "#### Anime ratings for each user"
   ]
  },
  {
   "cell_type": "code",
   "execution_count": 15,
   "id": "bb04fe56",
   "metadata": {},
   "outputs": [],
   "source": [
    "hernanRatings = pd.read_csv(\"E:\\\\applied data science capstone\\\\data\\\\hernan4444\\\\archive\\\\rating_complete.csv\")"
   ]
  },
  {
   "cell_type": "code",
   "execution_count": 16,
   "id": "08c0b9bd",
   "metadata": {},
   "outputs": [
    {
     "name": "stdout",
     "output_type": "stream",
     "text": [
      "<class 'pandas.core.frame.DataFrame'>\n",
      "RangeIndex: 57633278 entries, 0 to 57633277\n",
      "Data columns (total 3 columns):\n",
      " #   Column    Dtype\n",
      "---  ------    -----\n",
      " 0   user_id   int64\n",
      " 1   anime_id  int64\n",
      " 2   rating    int64\n",
      "dtypes: int64(3)\n",
      "memory usage: 1.3 GB\n"
     ]
    }
   ],
   "source": [
    "hernanRatings.info()"
   ]
  },
  {
   "cell_type": "markdown",
   "id": "94b6762c",
   "metadata": {},
   "source": [
    "The size of the anime listing data is 798,729 KB  \n",
    "There are 57,633,278 records and 3 fields.  \n",
    "**User_id** is the unique identifier for the user that provided the rating and it is nominal.  \n",
    "**Rating** is the rating given to the anime by the user and it is ordinal.  \n",
    "**Anime_id** is the unique identifier for the anime and it is nominal.  "
   ]
  },
  {
   "cell_type": "code",
   "execution_count": 17,
   "id": "d358a98b",
   "metadata": {},
   "outputs": [
    {
     "data": {
      "application/vnd.microsoft.datawrangler.viewer.v0+json": {
       "columns": [
        {
         "name": "index",
         "rawType": "object",
         "type": "string"
        },
        {
         "name": "user_id",
         "rawType": "float64",
         "type": "float"
        },
        {
         "name": "anime_id",
         "rawType": "float64",
         "type": "float"
        },
        {
         "name": "rating",
         "rawType": "float64",
         "type": "float"
        }
       ],
       "ref": "4435520f-ed5d-453a-a4ad-946307c0be83",
       "rows": [
        [
         "count",
         "57633278.0",
         "57633278.0",
         "57633278.0"
        ],
        [
         "mean",
         "176887.7657645987",
         "15831.466092679997",
         "7.510788732162693"
        ],
        [
         "std",
         "102011.6508236092",
         "13261.135175368645",
         "1.6977223721477268"
        ],
        [
         "min",
         "0.0",
         "1.0",
         "1.0"
        ],
        [
         "25%",
         "88278.0",
         "3091.0",
         "7.0"
        ],
        [
         "50%",
         "177291.0",
         "11887.0",
         "8.0"
        ],
        [
         "75%",
         "265419.0",
         "28999.0",
         "9.0"
        ],
        [
         "max",
         "353404.0",
         "48456.0",
         "10.0"
        ]
       ],
       "shape": {
        "columns": 3,
        "rows": 8
       }
      },
      "text/html": [
       "<div>\n",
       "<style scoped>\n",
       "    .dataframe tbody tr th:only-of-type {\n",
       "        vertical-align: middle;\n",
       "    }\n",
       "\n",
       "    .dataframe tbody tr th {\n",
       "        vertical-align: top;\n",
       "    }\n",
       "\n",
       "    .dataframe thead th {\n",
       "        text-align: right;\n",
       "    }\n",
       "</style>\n",
       "<table border=\"1\" class=\"dataframe\">\n",
       "  <thead>\n",
       "    <tr style=\"text-align: right;\">\n",
       "      <th></th>\n",
       "      <th>user_id</th>\n",
       "      <th>anime_id</th>\n",
       "      <th>rating</th>\n",
       "    </tr>\n",
       "  </thead>\n",
       "  <tbody>\n",
       "    <tr>\n",
       "      <th>count</th>\n",
       "      <td>5.763328e+07</td>\n",
       "      <td>5.763328e+07</td>\n",
       "      <td>5.763328e+07</td>\n",
       "    </tr>\n",
       "    <tr>\n",
       "      <th>mean</th>\n",
       "      <td>1.768878e+05</td>\n",
       "      <td>1.583147e+04</td>\n",
       "      <td>7.510789e+00</td>\n",
       "    </tr>\n",
       "    <tr>\n",
       "      <th>std</th>\n",
       "      <td>1.020117e+05</td>\n",
       "      <td>1.326114e+04</td>\n",
       "      <td>1.697722e+00</td>\n",
       "    </tr>\n",
       "    <tr>\n",
       "      <th>min</th>\n",
       "      <td>0.000000e+00</td>\n",
       "      <td>1.000000e+00</td>\n",
       "      <td>1.000000e+00</td>\n",
       "    </tr>\n",
       "    <tr>\n",
       "      <th>25%</th>\n",
       "      <td>8.827800e+04</td>\n",
       "      <td>3.091000e+03</td>\n",
       "      <td>7.000000e+00</td>\n",
       "    </tr>\n",
       "    <tr>\n",
       "      <th>50%</th>\n",
       "      <td>1.772910e+05</td>\n",
       "      <td>1.188700e+04</td>\n",
       "      <td>8.000000e+00</td>\n",
       "    </tr>\n",
       "    <tr>\n",
       "      <th>75%</th>\n",
       "      <td>2.654190e+05</td>\n",
       "      <td>2.899900e+04</td>\n",
       "      <td>9.000000e+00</td>\n",
       "    </tr>\n",
       "    <tr>\n",
       "      <th>max</th>\n",
       "      <td>3.534040e+05</td>\n",
       "      <td>4.845600e+04</td>\n",
       "      <td>1.000000e+01</td>\n",
       "    </tr>\n",
       "  </tbody>\n",
       "</table>\n",
       "</div>"
      ],
      "text/plain": [
       "            user_id      anime_id        rating\n",
       "count  5.763328e+07  5.763328e+07  5.763328e+07\n",
       "mean   1.768878e+05  1.583147e+04  7.510789e+00\n",
       "std    1.020117e+05  1.326114e+04  1.697722e+00\n",
       "min    0.000000e+00  1.000000e+00  1.000000e+00\n",
       "25%    8.827800e+04  3.091000e+03  7.000000e+00\n",
       "50%    1.772910e+05  1.188700e+04  8.000000e+00\n",
       "75%    2.654190e+05  2.899900e+04  9.000000e+00\n",
       "max    3.534040e+05  4.845600e+04  1.000000e+01"
      ]
     },
     "execution_count": 17,
     "metadata": {},
     "output_type": "execute_result"
    }
   ],
   "source": [
    "hernanRatings.describe()"
   ]
  },
  {
   "cell_type": "markdown",
   "id": "d6f258b0",
   "metadata": {},
   "source": [
    "Once more *rating from the anime rating for each user and the rating from the anime listing are not the same. The rating for the entire anime is determined by combining the rating supplied by each user to obtain the overall rating.*"
   ]
  },
  {
   "cell_type": "markdown",
   "id": "8d0ec701",
   "metadata": {},
   "source": [
    "#### Synopsis Data"
   ]
  },
  {
   "cell_type": "code",
   "execution_count": 18,
   "id": "0f4a3b07",
   "metadata": {},
   "outputs": [],
   "source": [
    "synopsisDf = pd.read_csv(\"E:\\\\applied data science capstone\\\\data\\\\hernan4444\\\\archive\\\\anime_with_synopsis.csv\")"
   ]
  },
  {
   "cell_type": "code",
   "execution_count": 19,
   "id": "2cd7158e",
   "metadata": {},
   "outputs": [
    {
     "name": "stdout",
     "output_type": "stream",
     "text": [
      "<class 'pandas.core.frame.DataFrame'>\n",
      "RangeIndex: 16214 entries, 0 to 16213\n",
      "Data columns (total 5 columns):\n",
      " #   Column     Non-Null Count  Dtype \n",
      "---  ------     --------------  ----- \n",
      " 0   MAL_ID     16214 non-null  int64 \n",
      " 1   Name       16214 non-null  object\n",
      " 2   Score      16214 non-null  object\n",
      " 3   Genres     16214 non-null  object\n",
      " 4   sypnopsis  16206 non-null  object\n",
      "dtypes: int64(1), object(4)\n",
      "memory usage: 633.5+ KB\n"
     ]
    }
   ],
   "source": [
    "synopsisDf.info()"
   ]
  },
  {
   "cell_type": "markdown",
   "id": "985f2d8a",
   "metadata": {},
   "source": [
    "The size of the anime listing data is 7,053 KB  \n",
    "There are 16,214 records and 5 fields.  \n",
    "**MAL_ID** is the unique identifier provided by myanimelist.net and is nominal  \n",
    "**Name** is the title of the anime and is nominal  \n",
    "**Score** is the overall rating of the anime and is ordinal.  \n",
    "**Genres** is the type of story and is categorical.  \n",
    "**Synopsis** is a brief description of the plot of the anime and is nominal.  "
   ]
  },
  {
   "cell_type": "code",
   "execution_count": 20,
   "id": "5923029e",
   "metadata": {},
   "outputs": [
    {
     "data": {
      "application/vnd.microsoft.datawrangler.viewer.v0+json": {
       "columns": [
        {
         "name": "index",
         "rawType": "object",
         "type": "string"
        },
        {
         "name": "MAL_ID",
         "rawType": "float64",
         "type": "float"
        }
       ],
       "ref": "24fd62ed-ce78-472b-b867-861f584970ab",
       "rows": [
        [
         "count",
         "16214.0"
        ],
        [
         "mean",
         "22069.27155544591"
        ],
        [
         "std",
         "14849.798247881907"
        ],
        [
         "min",
         "1.0"
        ],
        [
         "25%",
         "6728.5"
        ],
        [
         "50%",
         "24164.0"
        ],
        [
         "75%",
         "35978.75"
        ],
        [
         "max",
         "48492.0"
        ]
       ],
       "shape": {
        "columns": 1,
        "rows": 8
       }
      },
      "text/html": [
       "<div>\n",
       "<style scoped>\n",
       "    .dataframe tbody tr th:only-of-type {\n",
       "        vertical-align: middle;\n",
       "    }\n",
       "\n",
       "    .dataframe tbody tr th {\n",
       "        vertical-align: top;\n",
       "    }\n",
       "\n",
       "    .dataframe thead th {\n",
       "        text-align: right;\n",
       "    }\n",
       "</style>\n",
       "<table border=\"1\" class=\"dataframe\">\n",
       "  <thead>\n",
       "    <tr style=\"text-align: right;\">\n",
       "      <th></th>\n",
       "      <th>MAL_ID</th>\n",
       "    </tr>\n",
       "  </thead>\n",
       "  <tbody>\n",
       "    <tr>\n",
       "      <th>count</th>\n",
       "      <td>16214.000000</td>\n",
       "    </tr>\n",
       "    <tr>\n",
       "      <th>mean</th>\n",
       "      <td>22069.271555</td>\n",
       "    </tr>\n",
       "    <tr>\n",
       "      <th>std</th>\n",
       "      <td>14849.798248</td>\n",
       "    </tr>\n",
       "    <tr>\n",
       "      <th>min</th>\n",
       "      <td>1.000000</td>\n",
       "    </tr>\n",
       "    <tr>\n",
       "      <th>25%</th>\n",
       "      <td>6728.500000</td>\n",
       "    </tr>\n",
       "    <tr>\n",
       "      <th>50%</th>\n",
       "      <td>24164.000000</td>\n",
       "    </tr>\n",
       "    <tr>\n",
       "      <th>75%</th>\n",
       "      <td>35978.750000</td>\n",
       "    </tr>\n",
       "    <tr>\n",
       "      <th>max</th>\n",
       "      <td>48492.000000</td>\n",
       "    </tr>\n",
       "  </tbody>\n",
       "</table>\n",
       "</div>"
      ],
      "text/plain": [
       "             MAL_ID\n",
       "count  16214.000000\n",
       "mean   22069.271555\n",
       "std    14849.798248\n",
       "min        1.000000\n",
       "25%     6728.500000\n",
       "50%    24164.000000\n",
       "75%    35978.750000\n",
       "max    48492.000000"
      ]
     },
     "execution_count": 20,
     "metadata": {},
     "output_type": "execute_result"
    }
   ],
   "source": [
    "synopsisDf.describe()"
   ]
  },
  {
   "cell_type": "code",
   "execution_count": 21,
   "id": "4dbe30dd",
   "metadata": {},
   "outputs": [
    {
     "data": {
      "application/vnd.microsoft.datawrangler.viewer.v0+json": {
       "columns": [
        {
         "name": "index",
         "rawType": "object",
         "type": "string"
        },
        {
         "name": "Name",
         "rawType": "object",
         "type": "unknown"
        },
        {
         "name": "Score",
         "rawType": "object",
         "type": "unknown"
        },
        {
         "name": "Genres",
         "rawType": "object",
         "type": "unknown"
        },
        {
         "name": "sypnopsis",
         "rawType": "object",
         "type": "unknown"
        }
       ],
       "ref": "977c6347-0114-4d1c-9da7-821c905e6dd1",
       "rows": [
        [
         "count",
         "16214",
         "16214",
         "16214",
         "16206"
        ],
        [
         "unique",
         "16210",
         "532",
         "4857",
         "15221"
        ],
        [
         "top",
         "Maou Gakuin no Futekigousha: Shijou Saikyou no Maou no Shiso, Tensei shite Shison-tachi no Gakkou e",
         "Unknown",
         "Music",
         "No synopsis information has been added to this title. Help improve our database by adding a synopsis here ."
        ],
        [
         "freq",
         "3",
         "5123",
         "790",
         "709"
        ]
       ],
       "shape": {
        "columns": 4,
        "rows": 4
       }
      },
      "text/html": [
       "<div>\n",
       "<style scoped>\n",
       "    .dataframe tbody tr th:only-of-type {\n",
       "        vertical-align: middle;\n",
       "    }\n",
       "\n",
       "    .dataframe tbody tr th {\n",
       "        vertical-align: top;\n",
       "    }\n",
       "\n",
       "    .dataframe thead th {\n",
       "        text-align: right;\n",
       "    }\n",
       "</style>\n",
       "<table border=\"1\" class=\"dataframe\">\n",
       "  <thead>\n",
       "    <tr style=\"text-align: right;\">\n",
       "      <th></th>\n",
       "      <th>Name</th>\n",
       "      <th>Score</th>\n",
       "      <th>Genres</th>\n",
       "      <th>sypnopsis</th>\n",
       "    </tr>\n",
       "  </thead>\n",
       "  <tbody>\n",
       "    <tr>\n",
       "      <th>count</th>\n",
       "      <td>16214</td>\n",
       "      <td>16214</td>\n",
       "      <td>16214</td>\n",
       "      <td>16206</td>\n",
       "    </tr>\n",
       "    <tr>\n",
       "      <th>unique</th>\n",
       "      <td>16210</td>\n",
       "      <td>532</td>\n",
       "      <td>4857</td>\n",
       "      <td>15221</td>\n",
       "    </tr>\n",
       "    <tr>\n",
       "      <th>top</th>\n",
       "      <td>Maou Gakuin no Futekigousha: Shijou Saikyou no...</td>\n",
       "      <td>Unknown</td>\n",
       "      <td>Music</td>\n",
       "      <td>No synopsis information has been added to this...</td>\n",
       "    </tr>\n",
       "    <tr>\n",
       "      <th>freq</th>\n",
       "      <td>3</td>\n",
       "      <td>5123</td>\n",
       "      <td>790</td>\n",
       "      <td>709</td>\n",
       "    </tr>\n",
       "  </tbody>\n",
       "</table>\n",
       "</div>"
      ],
      "text/plain": [
       "                                                     Name    Score Genres  \\\n",
       "count                                               16214    16214  16214   \n",
       "unique                                              16210      532   4857   \n",
       "top     Maou Gakuin no Futekigousha: Shijou Saikyou no...  Unknown  Music   \n",
       "freq                                                    3     5123    790   \n",
       "\n",
       "                                                sypnopsis  \n",
       "count                                               16206  \n",
       "unique                                              15221  \n",
       "top     No synopsis information has been added to this...  \n",
       "freq                                                  709  "
      ]
     },
     "execution_count": 21,
     "metadata": {},
     "output_type": "execute_result"
    }
   ],
   "source": [
    "synopsisDf.describe(include=object)"
   ]
  },
  {
   "cell_type": "markdown",
   "id": "59837180",
   "metadata": {},
   "source": [
    "### MyAnimeList Comment Dataset V2"
   ]
  },
  {
   "cell_type": "code",
   "execution_count": 22,
   "id": "7996cb90",
   "metadata": {},
   "outputs": [],
   "source": [
    "natleeAnime = pd.read_csv(\"E:\\\\applied data science capstone\\\\data\\\\natlee\\\\archive\\\\anime_list.csv\")"
   ]
  },
  {
   "cell_type": "markdown",
   "id": "6ee5aef1",
   "metadata": {},
   "source": [
    "#### Anime Listing"
   ]
  },
  {
   "cell_type": "code",
   "execution_count": 23,
   "id": "c3596c45",
   "metadata": {},
   "outputs": [
    {
     "name": "stdout",
     "output_type": "stream",
     "text": [
      "<class 'pandas.core.frame.DataFrame'>\n",
      "RangeIndex: 24594 entries, 0 to 24593\n",
      "Data columns (total 28 columns):\n",
      " #   Column          Non-Null Count  Dtype  \n",
      "---  ------          --------------  -----  \n",
      " 0   id              24594 non-null  int64  \n",
      " 1   workId          24594 non-null  int64  \n",
      " 2   url             24594 non-null  object \n",
      " 3   jpName          24504 non-null  object \n",
      " 4   engName         10181 non-null  object \n",
      " 5   synonymsName    12821 non-null  object \n",
      " 6   workType        21988 non-null  object \n",
      " 7   episodes        24594 non-null  object \n",
      " 8   status          24594 non-null  object \n",
      " 9   aired           24594 non-null  object \n",
      " 10  premiered       5498 non-null   object \n",
      " 11  producer        24594 non-null  object \n",
      " 12  broadcast       7576 non-null   object \n",
      " 13  licensors       24594 non-null  object \n",
      " 14  studios         24594 non-null  object \n",
      " 15  genres          19795 non-null  object \n",
      " 16  themes          13612 non-null  object \n",
      " 17  demographic     9392 non-null   object \n",
      " 18  source          24594 non-null  object \n",
      " 19  duration        24594 non-null  object \n",
      " 20  rating          24013 non-null  object \n",
      " 21  score           15647 non-null  float64\n",
      " 22  allRank         20073 non-null  object \n",
      " 23  popularityRank  24594 non-null  object \n",
      " 24  members         24594 non-null  object \n",
      " 25  favorites       24594 non-null  object \n",
      " 26  scoredByUser    15647 non-null  float64\n",
      " 27  lastUpdate      24594 non-null  object \n",
      "dtypes: float64(2), int64(2), object(24)\n",
      "memory usage: 5.3+ MB\n"
     ]
    }
   ],
   "source": [
    "natleeAnime.info()"
   ]
  },
  {
   "cell_type": "markdown",
   "id": "465022c2",
   "metadata": {},
   "source": [
    "*id* is just an identifier for the dataset  \n",
    "*workId* is the myanimelist.net id for the anime  \n",
    "*jpName*, *engName*, *synonymsName* all provide titles for the anime.  \n",
    "*Status, aired* and *premiered* are all related as *status* and *premiered* can be derived from the *aired* field.  \n",
    "Once more, *producers, licensors* and *studios* tend to have some overlap due to companies playing multiple roles in the anime production process.  \n",
    "*Genres, themes* and *demographic* can all be related as the *demographic* tends to dictate which *genre* and *themes* are apparent in an anime. *Genre* of course is a more broader category and *themes* tend to be a bit more specific.  \n",
    "*Score, allRank, popularityRank, members, favorites, scoredByUser* are all related as they are used to determine the popularity of the anime."
   ]
  },
  {
   "cell_type": "markdown",
   "id": "2041e5ac",
   "metadata": {},
   "source": [
    "The size of the anime listing data is 8,296 KB  \n",
    "There are 24,594 records and 28 fields.  \n",
    "**Id** is the unique identifier provided by creator of the dataset and is nominal  \n",
    "**WorkId** is the unique identifier provided by myanimelist.net and is nominal  \n",
    "**Url** is the url that brings you to the description page for the anime on myanimelist.net  \n",
    "**JpName** is the title of the anime in japanese and is nominal  \n",
    "**EngName** is the title of the anime in english and is nominal  \n",
    "**SynonymsName** is another title for the anime and is nominal  \n",
    "**WorkType** is the format of the production of the anime and is categorical.  \n",
    "**Episodes** is the number of episodes an anime has and is a ratio  \n",
    "**Status** is the release state of the anime, whether ongoing or not and is categorical\n",
    "**Aired** is the time period during which the anime was released and it is an interval  \n",
    "**Premiered** is the date the first episode was released it is an interval  \n",
    "**Producer** are the companies that finance the production of the anime and is categorical  \n",
    "**Broadcast** is the scheduled airing time for the anime and is an interval  \n",
    "**Licensors** are the companies that have the right to distribute the anime outside of Japan and is categorical  \n",
    "**Studios** are the companies that make the anime and is categorical  \n",
    "**Genres** is the type of story and is categorical.  \n",
    "**Themes** are the more specific ideas or situations that appear in the anime and is categorical  \n",
    "**Demographic** refer to the type of audience the anime is geared towards and is categorical  \n",
    "**Source** tells the source material that was used to create the anime and is categorical  \n",
    "**Duration** tells the duration of the anime and is categorical  \n",
    "**Rating** is the content suitability and is categorical  \n",
    "**Score** is the overall rating of the anime and is ordinal.\n",
    "**AllRank** is the position of the anime on the rankings for the website. It is based on the average user rating and is ordinal  \n",
    "**PopularityRank** indicates how much an anime is interacted with by counting the number of users that have added it to their anime list and is ordinal  \n",
    "**Members** indicates the number of users that have added the anime to their anime list and is a ratio  \n",
    "**Favorites** indicates the number of users that have added the anime to their favourites list and is a ratio  \n",
    "**ScoredByUser** is the average score given to the anime by the users and is a ratio  \n",
    "**LastUpdate** is the date and time of the last update made to the anime and is interval"
   ]
  },
  {
   "cell_type": "code",
   "execution_count": 24,
   "id": "e34e2d14",
   "metadata": {},
   "outputs": [
    {
     "data": {
      "application/vnd.microsoft.datawrangler.viewer.v0+json": {
       "columns": [
        {
         "name": "index",
         "rawType": "object",
         "type": "string"
        },
        {
         "name": "id",
         "rawType": "float64",
         "type": "float"
        },
        {
         "name": "workId",
         "rawType": "float64",
         "type": "float"
        },
        {
         "name": "score",
         "rawType": "float64",
         "type": "float"
        },
        {
         "name": "scoredByUser",
         "rawType": "float64",
         "type": "float"
        }
       ],
       "ref": "b0ca694a-e83e-4cef-a831-05ee887c223d",
       "rows": [
        [
         "count",
         "24594.0",
         "24594.0",
         "15647.0",
         "15647.0"
        ],
        [
         "mean",
         "12297.5",
         "29456.666056761813",
         "6.382659934811786",
         "29928.57570141241"
        ],
        [
         "std",
         "7099.820596324952",
         "17860.097089759583",
         "0.9282379059083116",
         "116721.7904231471"
        ],
        [
         "min",
         "1.0",
         "1.0",
         "1.84",
         "101.0"
        ],
        [
         "25%",
         "6149.25",
         "10335.25",
         "5.73",
         "383.5"
        ],
        [
         "50%",
         "12297.5",
         "34330.0",
         "6.39",
         "1768.0"
        ],
        [
         "75%",
         "18445.75",
         "44896.75",
         "7.06",
         "10847.0"
        ],
        [
         "max",
         "24594.0",
         "55566.0",
         "9.1",
         "2654325.0"
        ]
       ],
       "shape": {
        "columns": 4,
        "rows": 8
       }
      },
      "text/html": [
       "<div>\n",
       "<style scoped>\n",
       "    .dataframe tbody tr th:only-of-type {\n",
       "        vertical-align: middle;\n",
       "    }\n",
       "\n",
       "    .dataframe tbody tr th {\n",
       "        vertical-align: top;\n",
       "    }\n",
       "\n",
       "    .dataframe thead th {\n",
       "        text-align: right;\n",
       "    }\n",
       "</style>\n",
       "<table border=\"1\" class=\"dataframe\">\n",
       "  <thead>\n",
       "    <tr style=\"text-align: right;\">\n",
       "      <th></th>\n",
       "      <th>id</th>\n",
       "      <th>workId</th>\n",
       "      <th>score</th>\n",
       "      <th>scoredByUser</th>\n",
       "    </tr>\n",
       "  </thead>\n",
       "  <tbody>\n",
       "    <tr>\n",
       "      <th>count</th>\n",
       "      <td>24594.000000</td>\n",
       "      <td>24594.000000</td>\n",
       "      <td>15647.000000</td>\n",
       "      <td>1.564700e+04</td>\n",
       "    </tr>\n",
       "    <tr>\n",
       "      <th>mean</th>\n",
       "      <td>12297.500000</td>\n",
       "      <td>29456.666057</td>\n",
       "      <td>6.382660</td>\n",
       "      <td>2.992858e+04</td>\n",
       "    </tr>\n",
       "    <tr>\n",
       "      <th>std</th>\n",
       "      <td>7099.820596</td>\n",
       "      <td>17860.097090</td>\n",
       "      <td>0.928238</td>\n",
       "      <td>1.167218e+05</td>\n",
       "    </tr>\n",
       "    <tr>\n",
       "      <th>min</th>\n",
       "      <td>1.000000</td>\n",
       "      <td>1.000000</td>\n",
       "      <td>1.840000</td>\n",
       "      <td>1.010000e+02</td>\n",
       "    </tr>\n",
       "    <tr>\n",
       "      <th>25%</th>\n",
       "      <td>6149.250000</td>\n",
       "      <td>10335.250000</td>\n",
       "      <td>5.730000</td>\n",
       "      <td>3.835000e+02</td>\n",
       "    </tr>\n",
       "    <tr>\n",
       "      <th>50%</th>\n",
       "      <td>12297.500000</td>\n",
       "      <td>34330.000000</td>\n",
       "      <td>6.390000</td>\n",
       "      <td>1.768000e+03</td>\n",
       "    </tr>\n",
       "    <tr>\n",
       "      <th>75%</th>\n",
       "      <td>18445.750000</td>\n",
       "      <td>44896.750000</td>\n",
       "      <td>7.060000</td>\n",
       "      <td>1.084700e+04</td>\n",
       "    </tr>\n",
       "    <tr>\n",
       "      <th>max</th>\n",
       "      <td>24594.000000</td>\n",
       "      <td>55566.000000</td>\n",
       "      <td>9.100000</td>\n",
       "      <td>2.654325e+06</td>\n",
       "    </tr>\n",
       "  </tbody>\n",
       "</table>\n",
       "</div>"
      ],
      "text/plain": [
       "                 id        workId         score  scoredByUser\n",
       "count  24594.000000  24594.000000  15647.000000  1.564700e+04\n",
       "mean   12297.500000  29456.666057      6.382660  2.992858e+04\n",
       "std     7099.820596  17860.097090      0.928238  1.167218e+05\n",
       "min        1.000000      1.000000      1.840000  1.010000e+02\n",
       "25%     6149.250000  10335.250000      5.730000  3.835000e+02\n",
       "50%    12297.500000  34330.000000      6.390000  1.768000e+03\n",
       "75%    18445.750000  44896.750000      7.060000  1.084700e+04\n",
       "max    24594.000000  55566.000000      9.100000  2.654325e+06"
      ]
     },
     "execution_count": 24,
     "metadata": {},
     "output_type": "execute_result"
    }
   ],
   "source": [
    "natleeAnime.describe()"
   ]
  },
  {
   "cell_type": "code",
   "execution_count": 25,
   "id": "bad47fcc",
   "metadata": {},
   "outputs": [
    {
     "data": {
      "application/vnd.microsoft.datawrangler.viewer.v0+json": {
       "columns": [
        {
         "name": "index",
         "rawType": "object",
         "type": "string"
        },
        {
         "name": "url",
         "rawType": "object",
         "type": "unknown"
        },
        {
         "name": "jpName",
         "rawType": "object",
         "type": "unknown"
        },
        {
         "name": "engName",
         "rawType": "object",
         "type": "unknown"
        },
        {
         "name": "synonymsName",
         "rawType": "object",
         "type": "unknown"
        },
        {
         "name": "workType",
         "rawType": "object",
         "type": "unknown"
        },
        {
         "name": "episodes",
         "rawType": "object",
         "type": "unknown"
        },
        {
         "name": "status",
         "rawType": "object",
         "type": "unknown"
        },
        {
         "name": "aired",
         "rawType": "object",
         "type": "unknown"
        },
        {
         "name": "premiered",
         "rawType": "object",
         "type": "unknown"
        },
        {
         "name": "producer",
         "rawType": "object",
         "type": "unknown"
        }
       ],
       "ref": "b09bc247-085c-425f-9b51-15709b2e53f8",
       "rows": [
        [
         "count",
         "24594",
         "24504",
         "10181",
         "12821",
         "21988",
         "24594",
         "24594",
         "24594",
         "5498",
         "24594"
        ],
        [
         "unique",
         "24594",
         "23530",
         "9992",
         "12128",
         "5",
         "252",
         "3",
         "15095",
         "243",
         "4402"
        ],
        [
         "top",
         "https://myanimelist.net/anime/47917/Bocchi_the_Rock",
         "僕のヒーローアカデミア",
         "Spirit Guardians",
         "Minna no Uta",
         "TV",
         "1",
         "Finished Airing",
         "Not available",
         "Spring 2017",
         "add some"
        ],
        [
         "freq",
         "1",
         "8",
         "5",
         "386",
         "7576",
         "11314",
         "23810",
         "887",
         "88",
         "13075"
        ]
       ],
       "shape": {
        "columns": 10,
        "rows": 4
       }
      },
      "text/html": [
       "<div>\n",
       "<style scoped>\n",
       "    .dataframe tbody tr th:only-of-type {\n",
       "        vertical-align: middle;\n",
       "    }\n",
       "\n",
       "    .dataframe tbody tr th {\n",
       "        vertical-align: top;\n",
       "    }\n",
       "\n",
       "    .dataframe thead th {\n",
       "        text-align: right;\n",
       "    }\n",
       "</style>\n",
       "<table border=\"1\" class=\"dataframe\">\n",
       "  <thead>\n",
       "    <tr style=\"text-align: right;\">\n",
       "      <th></th>\n",
       "      <th>url</th>\n",
       "      <th>jpName</th>\n",
       "      <th>engName</th>\n",
       "      <th>synonymsName</th>\n",
       "      <th>workType</th>\n",
       "      <th>episodes</th>\n",
       "      <th>status</th>\n",
       "      <th>aired</th>\n",
       "      <th>premiered</th>\n",
       "      <th>producer</th>\n",
       "    </tr>\n",
       "  </thead>\n",
       "  <tbody>\n",
       "    <tr>\n",
       "      <th>count</th>\n",
       "      <td>24594</td>\n",
       "      <td>24504</td>\n",
       "      <td>10181</td>\n",
       "      <td>12821</td>\n",
       "      <td>21988</td>\n",
       "      <td>24594</td>\n",
       "      <td>24594</td>\n",
       "      <td>24594</td>\n",
       "      <td>5498</td>\n",
       "      <td>24594</td>\n",
       "    </tr>\n",
       "    <tr>\n",
       "      <th>unique</th>\n",
       "      <td>24594</td>\n",
       "      <td>23530</td>\n",
       "      <td>9992</td>\n",
       "      <td>12128</td>\n",
       "      <td>5</td>\n",
       "      <td>252</td>\n",
       "      <td>3</td>\n",
       "      <td>15095</td>\n",
       "      <td>243</td>\n",
       "      <td>4402</td>\n",
       "    </tr>\n",
       "    <tr>\n",
       "      <th>top</th>\n",
       "      <td>https://myanimelist.net/anime/47917/Bocchi_the...</td>\n",
       "      <td>僕のヒーローアカデミア</td>\n",
       "      <td>Spirit Guardians</td>\n",
       "      <td>Minna no Uta</td>\n",
       "      <td>TV</td>\n",
       "      <td>1</td>\n",
       "      <td>Finished Airing</td>\n",
       "      <td>Not available</td>\n",
       "      <td>Spring 2017</td>\n",
       "      <td>add some</td>\n",
       "    </tr>\n",
       "    <tr>\n",
       "      <th>freq</th>\n",
       "      <td>1</td>\n",
       "      <td>8</td>\n",
       "      <td>5</td>\n",
       "      <td>386</td>\n",
       "      <td>7576</td>\n",
       "      <td>11314</td>\n",
       "      <td>23810</td>\n",
       "      <td>887</td>\n",
       "      <td>88</td>\n",
       "      <td>13075</td>\n",
       "    </tr>\n",
       "  </tbody>\n",
       "</table>\n",
       "</div>"
      ],
      "text/plain": [
       "                                                      url       jpName  \\\n",
       "count                                               24594        24504   \n",
       "unique                                              24594        23530   \n",
       "top     https://myanimelist.net/anime/47917/Bocchi_the...  僕のヒーローアカデミア   \n",
       "freq                                                    1            8   \n",
       "\n",
       "                 engName  synonymsName workType episodes           status  \\\n",
       "count              10181         12821    21988    24594            24594   \n",
       "unique              9992         12128        5      252                3   \n",
       "top     Spirit Guardians  Minna no Uta       TV        1  Finished Airing   \n",
       "freq                   5           386     7576    11314            23810   \n",
       "\n",
       "                aired    premiered  producer  \n",
       "count           24594         5498     24594  \n",
       "unique          15095          243      4402  \n",
       "top     Not available  Spring 2017  add some  \n",
       "freq              887           88     13075  "
      ]
     },
     "execution_count": 25,
     "metadata": {},
     "output_type": "execute_result"
    }
   ],
   "source": [
    "natleeAnime[['url', 'jpName', 'engName', 'synonymsName', 'workType',\n",
    "       'episodes', 'status', 'aired', 'premiered', 'producer']].describe(include=object)"
   ]
  },
  {
   "cell_type": "code",
   "execution_count": 26,
   "id": "6e7c7ba8",
   "metadata": {},
   "outputs": [
    {
     "data": {
      "application/vnd.microsoft.datawrangler.viewer.v0+json": {
       "columns": [
        {
         "name": "index",
         "rawType": "object",
         "type": "string"
        },
        {
         "name": "broadcast",
         "rawType": "object",
         "type": "unknown"
        },
        {
         "name": "licensors",
         "rawType": "object",
         "type": "unknown"
        },
        {
         "name": "studios",
         "rawType": "object",
         "type": "unknown"
        },
        {
         "name": "genres",
         "rawType": "object",
         "type": "unknown"
        },
        {
         "name": "themes",
         "rawType": "object",
         "type": "unknown"
        },
        {
         "name": "demographic",
         "rawType": "object",
         "type": "unknown"
        },
        {
         "name": "source",
         "rawType": "object",
         "type": "unknown"
        },
        {
         "name": "duration",
         "rawType": "object",
         "type": "unknown"
        },
        {
         "name": "rating",
         "rawType": "object",
         "type": "unknown"
        },
        {
         "name": "allRank",
         "rawType": "object",
         "type": "unknown"
        },
        {
         "name": "popularityRank",
         "rawType": "object",
         "type": "unknown"
        },
        {
         "name": "members",
         "rawType": "object",
         "type": "unknown"
        },
        {
         "name": "favorites",
         "rawType": "object",
         "type": "unknown"
        },
        {
         "name": "lastUpdate",
         "rawType": "object",
         "type": "unknown"
        }
       ],
       "ref": "ea9fd3cb-c509-479b-947d-76d6d4953b2f",
       "rows": [
        [
         "count",
         "7576",
         "24594",
         "24594",
         "19795",
         "13612",
         "9392",
         "24594",
         "24594",
         "24013",
         "20073",
         "24594",
         "24594",
         "24594",
         "24594"
        ],
        [
         "unique",
         "591",
         "265",
         "1547",
         "1000",
         "831",
         "5",
         "17",
         "328",
         "6",
         "18499",
         "18253",
         "10990",
         "1787",
         "24593"
        ],
        [
         "top",
         "Unknown",
         "add some",
         "add some",
         "Comedy",
         "Music",
         "Kids",
         "Original",
         "24 min. per ep.",
         "PG-13 - Teens 13 or older",
         "#10290",
         "#18698",
         "38",
         "0",
         "2023-06-02 11:06:59"
        ],
        [
         "freq",
         "4197",
         "19863",
         "10279",
         "2266",
         "2674",
         "5846",
         "9446",
         "1957",
         "8372",
         "3",
         "6",
         "165",
         "10546",
         "2"
        ]
       ],
       "shape": {
        "columns": 14,
        "rows": 4
       }
      },
      "text/html": [
       "<div>\n",
       "<style scoped>\n",
       "    .dataframe tbody tr th:only-of-type {\n",
       "        vertical-align: middle;\n",
       "    }\n",
       "\n",
       "    .dataframe tbody tr th {\n",
       "        vertical-align: top;\n",
       "    }\n",
       "\n",
       "    .dataframe thead th {\n",
       "        text-align: right;\n",
       "    }\n",
       "</style>\n",
       "<table border=\"1\" class=\"dataframe\">\n",
       "  <thead>\n",
       "    <tr style=\"text-align: right;\">\n",
       "      <th></th>\n",
       "      <th>broadcast</th>\n",
       "      <th>licensors</th>\n",
       "      <th>studios</th>\n",
       "      <th>genres</th>\n",
       "      <th>themes</th>\n",
       "      <th>demographic</th>\n",
       "      <th>source</th>\n",
       "      <th>duration</th>\n",
       "      <th>rating</th>\n",
       "      <th>allRank</th>\n",
       "      <th>popularityRank</th>\n",
       "      <th>members</th>\n",
       "      <th>favorites</th>\n",
       "      <th>lastUpdate</th>\n",
       "    </tr>\n",
       "  </thead>\n",
       "  <tbody>\n",
       "    <tr>\n",
       "      <th>count</th>\n",
       "      <td>7576</td>\n",
       "      <td>24594</td>\n",
       "      <td>24594</td>\n",
       "      <td>19795</td>\n",
       "      <td>13612</td>\n",
       "      <td>9392</td>\n",
       "      <td>24594</td>\n",
       "      <td>24594</td>\n",
       "      <td>24013</td>\n",
       "      <td>20073</td>\n",
       "      <td>24594</td>\n",
       "      <td>24594</td>\n",
       "      <td>24594</td>\n",
       "      <td>24594</td>\n",
       "    </tr>\n",
       "    <tr>\n",
       "      <th>unique</th>\n",
       "      <td>591</td>\n",
       "      <td>265</td>\n",
       "      <td>1547</td>\n",
       "      <td>1000</td>\n",
       "      <td>831</td>\n",
       "      <td>5</td>\n",
       "      <td>17</td>\n",
       "      <td>328</td>\n",
       "      <td>6</td>\n",
       "      <td>18499</td>\n",
       "      <td>18253</td>\n",
       "      <td>10990</td>\n",
       "      <td>1787</td>\n",
       "      <td>24593</td>\n",
       "    </tr>\n",
       "    <tr>\n",
       "      <th>top</th>\n",
       "      <td>Unknown</td>\n",
       "      <td>add some</td>\n",
       "      <td>add some</td>\n",
       "      <td>Comedy</td>\n",
       "      <td>Music</td>\n",
       "      <td>Kids</td>\n",
       "      <td>Original</td>\n",
       "      <td>24 min. per ep.</td>\n",
       "      <td>PG-13 - Teens 13 or older</td>\n",
       "      <td>#10290</td>\n",
       "      <td>#18698</td>\n",
       "      <td>38</td>\n",
       "      <td>0</td>\n",
       "      <td>2023-06-02 11:06:59</td>\n",
       "    </tr>\n",
       "    <tr>\n",
       "      <th>freq</th>\n",
       "      <td>4197</td>\n",
       "      <td>19863</td>\n",
       "      <td>10279</td>\n",
       "      <td>2266</td>\n",
       "      <td>2674</td>\n",
       "      <td>5846</td>\n",
       "      <td>9446</td>\n",
       "      <td>1957</td>\n",
       "      <td>8372</td>\n",
       "      <td>3</td>\n",
       "      <td>6</td>\n",
       "      <td>165</td>\n",
       "      <td>10546</td>\n",
       "      <td>2</td>\n",
       "    </tr>\n",
       "  </tbody>\n",
       "</table>\n",
       "</div>"
      ],
      "text/plain": [
       "       broadcast licensors   studios  genres themes demographic    source  \\\n",
       "count       7576     24594     24594   19795  13612        9392     24594   \n",
       "unique       591       265      1547    1000    831           5        17   \n",
       "top      Unknown  add some  add some  Comedy  Music        Kids  Original   \n",
       "freq        4197     19863     10279    2266   2674        5846      9446   \n",
       "\n",
       "               duration                     rating allRank popularityRank  \\\n",
       "count             24594                      24013   20073          24594   \n",
       "unique              328                          6   18499          18253   \n",
       "top     24 min. per ep.  PG-13 - Teens 13 or older  #10290         #18698   \n",
       "freq               1957                       8372       3              6   \n",
       "\n",
       "       members favorites           lastUpdate  \n",
       "count    24594     24594                24594  \n",
       "unique   10990      1787                24593  \n",
       "top         38         0  2023-06-02 11:06:59  \n",
       "freq       165     10546                    2  "
      ]
     },
     "execution_count": 26,
     "metadata": {},
     "output_type": "execute_result"
    }
   ],
   "source": [
    "natleeAnime[['broadcast',\n",
    "       'licensors', 'studios', 'genres', 'themes', 'demographic', 'source',\n",
    "       'duration', 'rating', 'allRank', 'popularityRank', 'members',\n",
    "       'favorites', 'lastUpdate']].describe(include=object)"
   ]
  },
  {
   "cell_type": "markdown",
   "id": "f3778e74",
   "metadata": {},
   "source": [
    "#### Anime Reviews"
   ]
  },
  {
   "cell_type": "markdown",
   "id": "07735713",
   "metadata": {},
   "source": [
    "The file was corrupted and could not be opened or loaded into a dataframe.  \n",
    "Had to obtain new reviews data by polling the unofficial myanimelist.net api (https://api.jikan.moe/v4)"
   ]
  }
 ],
 "metadata": {
  "kernelspec": {
   "display_name": ".venv",
   "language": "python",
   "name": "python3"
  },
  "language_info": {
   "codemirror_mode": {
    "name": "ipython",
    "version": 3
   },
   "file_extension": ".py",
   "mimetype": "text/x-python",
   "name": "python",
   "nbconvert_exporter": "python",
   "pygments_lexer": "ipython3",
   "version": "3.12.2"
  }
 },
 "nbformat": 4,
 "nbformat_minor": 5
}
