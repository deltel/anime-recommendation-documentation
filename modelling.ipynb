{
 "cells": [
  {
   "cell_type": "markdown",
   "id": "6541bc7f",
   "metadata": {},
   "source": [
    "# Modelling"
   ]
  },
  {
   "cell_type": "markdown",
   "id": "867a7eed",
   "metadata": {},
   "source": [
    "## Modelling Techniques"
   ]
  },
  {
   "cell_type": "markdown",
   "id": "a65fa83c",
   "metadata": {},
   "source": [
    "### Clustering"
   ]
  },
  {
   "cell_type": "code",
   "execution_count": 1,
   "id": "0ea3ea05",
   "metadata": {},
   "outputs": [],
   "source": [
    "import matplotlib.pyplot as plt\n",
    "import seaborn as sns\n",
    "import pandas as pd\n",
    "from dotenv import load_dotenv\n",
    "import os"
   ]
  },
  {
   "cell_type": "code",
   "execution_count": 2,
   "id": "4794c11b",
   "metadata": {},
   "outputs": [],
   "source": [
    "os.environ[\"OMP_NUM_THREADS\"] = \"1\"   # OpenMP threads\n",
    "os.environ[\"MKL_NUM_THREADS\"] = \"1\"   # MKL’s own thread pool"
   ]
  },
  {
   "cell_type": "code",
   "execution_count": 3,
   "id": "f37f0a8b",
   "metadata": {},
   "outputs": [],
   "source": [
    "from sklearn.impute import SimpleImputer\n",
    "from sklearn.cluster import KMeans\n",
    "from sklearn.decomposition import PCA\n",
    "from sklearn.metrics import silhouette_score\n",
    "from scipy.sparse import coo_matrix, csr_matrix"
   ]
  },
  {
   "cell_type": "code",
   "execution_count": 4,
   "id": "0782ad58",
   "metadata": {},
   "outputs": [],
   "source": [
    "import json\n",
    "import numpy as np\n",
    "import joblib"
   ]
  },
  {
   "cell_type": "code",
   "execution_count": 10,
   "id": "32de8c1e",
   "metadata": {},
   "outputs": [],
   "source": [
    "load_dotenv(\".env\")  # defaults to loading a `.env` file in the current directory\n",
    "\n",
    "host = os.getenv(\"MY_SQL_HOST\")\n",
    "user = os.getenv(\"MY_SQL_USER\")\n",
    "password = os.getenv(\"MY_SQL_PASSWORD\")\n",
    "database = os.getenv(\"MY_SQL_DATABASE\")"
   ]
  },
  {
   "cell_type": "code",
   "execution_count": 11,
   "id": "13a7d209",
   "metadata": {},
   "outputs": [],
   "source": [
    "import mysql.connector\n",
    "\n",
    "def get_connection(host, user, password, database):\n",
    "    mydb = mysql.connector.connect(\n",
    "      host=host,\n",
    "      user=user,\n",
    "      password=password,\n",
    "      database=database\n",
    "    )\n",
    "    return mydb"
   ]
  },
  {
   "cell_type": "code",
   "execution_count": 12,
   "id": "dabd5864",
   "metadata": {},
   "outputs": [],
   "source": [
    "connection = get_connection(host=host, user=user, password=password, database=database)"
   ]
  },
  {
   "cell_type": "code",
   "execution_count": 13,
   "id": "d57dcc3f",
   "metadata": {},
   "outputs": [],
   "source": [
    "cursor = connection.cursor()"
   ]
  },
  {
   "cell_type": "code",
   "execution_count": 26,
   "id": "2643c8ce",
   "metadata": {},
   "outputs": [],
   "source": [
    "root_location = \"E:\\\\applied data science capstone\\\\anime-recommendation\\\\modelling\\\\clustering\\\\exploration\""
   ]
  },
  {
   "cell_type": "code",
   "execution_count": 14,
   "id": "0d6266c1",
   "metadata": {},
   "outputs": [],
   "source": [
    "query = \"\"\"\n",
    "SELECT\n",
    "    user_id,\n",
    "    anime_id,\n",
    "    rating\n",
    "FROM\n",
    "    rating_v2\n",
    "ORDER BY\n",
    "    user_id;\n",
    "\"\"\"\n",
    "cursor.execute(query)\n",
    "raw_data = cursor.fetchall()"
   ]
  },
  {
   "cell_type": "code",
   "execution_count": 15,
   "id": "0cac283b",
   "metadata": {},
   "outputs": [],
   "source": [
    "df = pd.DataFrame(raw_data, columns=[\"user_id\", \"anime_id\", \"rating\"])"
   ]
  },
  {
   "cell_type": "code",
   "execution_count": 16,
   "id": "2fbdd834",
   "metadata": {},
   "outputs": [],
   "source": [
    "df[\"rating\"] = pd.to_numeric(df[\"rating\"])"
   ]
  },
  {
   "cell_type": "code",
   "execution_count": 6,
   "id": "5a88e165",
   "metadata": {},
   "outputs": [],
   "source": [
    "filename = \"E:\\\\applied data science capstone\\\\data\\\\etl\\\\extract\\\\transactions\\\\clustering_13_Jul.csv\""
   ]
  },
  {
   "cell_type": "code",
   "execution_count": 17,
   "id": "8baf084f",
   "metadata": {},
   "outputs": [],
   "source": [
    "df.to_csv(filename, index=False)"
   ]
  },
  {
   "cell_type": "code",
   "execution_count": 18,
   "id": "498f1f15",
   "metadata": {},
   "outputs": [],
   "source": [
    "df = pd.read_csv(filename)"
   ]
  },
  {
   "cell_type": "code",
   "execution_count": 19,
   "id": "bb894554",
   "metadata": {},
   "outputs": [
    {
     "name": "stdout",
     "output_type": "stream",
     "text": [
      "<class 'pandas.core.frame.DataFrame'>\n",
      "RangeIndex: 47161882 entries, 0 to 47161881\n",
      "Data columns (total 3 columns):\n",
      " #   Column    Dtype  \n",
      "---  ------    -----  \n",
      " 0   user_id   int64  \n",
      " 1   anime_id  int64  \n",
      " 2   rating    float64\n",
      "dtypes: float64(1), int64(2)\n",
      "memory usage: 1.1 GB\n"
     ]
    }
   ],
   "source": [
    "df.info()"
   ]
  },
  {
   "cell_type": "code",
   "execution_count": 20,
   "id": "d9429b4f",
   "metadata": {},
   "outputs": [],
   "source": [
    "user_cat   = df['user_id'].astype('category')\n",
    "anime_cat  = df['anime_id'].astype('category')"
   ]
  },
  {
   "cell_type": "code",
   "execution_count": null,
   "id": "d73ebf4c",
   "metadata": {},
   "outputs": [],
   "source": [
    "# Re‑index users and movies to contiguous 0‑based indices\n",
    "user_codes = user_cat.cat.codes\n",
    "anime_codes = anime_cat.cat.codes\n",
    "data = df['rating'].values"
   ]
  },
  {
   "cell_type": "code",
   "execution_count": 22,
   "id": "ac649050",
   "metadata": {},
   "outputs": [],
   "source": [
    "# Build COO, then convert to CSR (row‑compressed)\n",
    "num_users  = user_codes.max() + 1\n",
    "num_animes = anime_codes.max() + 1\n",
    "user_item_sparse = coo_matrix((data, (user_codes, anime_codes)),\n",
    "                              shape=(num_users, num_animes)).tocsr()"
   ]
  },
  {
   "cell_type": "code",
   "execution_count": 23,
   "id": "ec3b3e0b",
   "metadata": {},
   "outputs": [],
   "source": [
    "id_to_user = dict(enumerate(user_cat.cat.categories))   # {row → real userId}\n",
    "id_to_anime = dict(enumerate(anime_cat.cat.categories))  # {col → real movieId}"
   ]
  },
  {
   "cell_type": "code",
   "execution_count": 28,
   "id": "39f4ef82",
   "metadata": {},
   "outputs": [
    {
     "data": {
      "image/png": "[encoded data removed]",
      "text/plain": [
       "<Figure size 1000x500 with 2 Axes>"
      ]
     },
     "metadata": {},
     "output_type": "display_data"
    }
   ],
   "source": [
    "plt.figure(figsize=(10, 5))\n",
    "\n",
    "plt.subplot(1, 2, 1)\n",
    "plt.hist(df['rating'], bins=10, color='skyblue', edgecolor='black')\n",
    "plt.title('Rating Distribution')\n",
    "plt.xlabel('Rating')\n",
    "plt.ylabel('Count')\n",
    "\n",
    "plt.subplot(1, 2, 2)\n",
    "sns.boxplot(data=df[\"rating\"], color=\"lightgreen\")\n",
    "plt.title('Rating Distribution')\n",
    "plt.xlabel('Rating')\n",
    "plt.ylabel('Count')\n",
    "plt.tight_layout()\n",
    "plt.savefig(f\"{root_location}\\\\plots\\\\ratings.png\")\n",
    "plt.show()"
   ]
  },
  {
   "cell_type": "code",
   "execution_count": null,
   "id": "24a03289",
   "metadata": {},
   "outputs": [
    {
     "name": "stdout",
     "output_type": "stream",
     "text": [
      "at stage 2\n",
      "did k means\n",
      "at stage 3\n",
      "did k means\n",
      "at stage 4\n",
      "did k means\n",
      "at stage 5\n",
      "did k means\n",
      "at stage 6\n",
      "did k means\n",
      "at stage 7\n",
      "did k means\n",
      "at stage 8\n",
      "did k means\n",
      "at stage 9\n",
      "did k means\n",
      "at stage 10\n",
      "did k means\n",
      "at stage 11\n",
      "did k means\n",
      "at stage 12\n",
      "did k means\n"
     ]
    },
    {
     "data": {
      "text/plain": [
       "<Figure size 1400x600 with 0 Axes>"
      ]
     },
     "execution_count": 29,
     "metadata": {},
     "output_type": "execute_result"
    },
    {
     "data": {
      "text/plain": [
       "<Figure size 1400x600 with 0 Axes>"
      ]
     },
     "metadata": {},
     "output_type": "display_data"
    }
   ],
   "source": [
    "max_k = 12\n",
    "\n",
    "inertia = []\n",
    "silhoutte_scores = []\n",
    "k_values = range(2, max_k + 1)\n",
    "\n",
    "for k in k_values:\n",
    "    print(f\"at stage {k}\")\n",
    "    kmeans = KMeans(n_clusters=k, random_state=42, max_iter=300)\n",
    "    \n",
    "    print(\"did k means\")\n",
    "    cluster_labels = kmeans.fit_predict(user_item_sparse)\n",
    "\n",
    "    # print(\"did cluster predictions means\")\n",
    "    # sil_score = silhouette_score(user_item_sparse, cluster_labels)\n",
    "\n",
    "    # print(\"did silhouette scores\")\n",
    "    # silhoutte_scores.append(sil_score)\n",
    "\n",
    "    inertia.append(kmeans.inertia_)"
   ]
  },
  {
   "cell_type": "code",
   "execution_count": 30,
   "id": "f9a6daf2",
   "metadata": {},
   "outputs": [
    {
     "data": {
      "image/png": "[encoded data removed]",
      "text/plain": [
       "<Figure size 1400x600 with 1 Axes>"
      ]
     },
     "metadata": {},
     "output_type": "display_data"
    }
   ],
   "source": [
    "plt.figure(figsize=(14, 6))\n",
    "# plt.subplot(1, 2, 1)\n",
    "plt.plot(k_values, inertia, marker='o')\n",
    "plt.title('KMeans Inertia for Different Values of k')\n",
    "plt.xlabel('Number of Clusters (k)')\n",
    "plt.ylabel('Inertia')\n",
    "plt.xticks(k_values)\n",
    "plt.grid(True)\n",
    "\n",
    "# plt.subplot(1, 2, 2)\n",
    "# plt.plot(k_values, silhoutte_scores, marker='o', color='orange')\n",
    "# plt.title('Silhouette Scores for Different Values of k')\n",
    "# plt.xlabel('Number of Clusters (k)')\n",
    "# plt.ylabel('Silhouette Score')\n",
    "# plt.xticks(k_values)\n",
    "# plt.grid(True)\n",
    "\n",
    "plt.tight_layout()\n",
    "plt.savefig(f\"{root_location}\\\\plots\\\\elbow_method_inertia.png\")\n",
    "plt.show()"
   ]
  },
  {
   "cell_type": "code",
   "execution_count": 32,
   "id": "f1813030",
   "metadata": {},
   "outputs": [],
   "source": [
    "kmeans = KMeans(n_clusters=4, random_state=42)\n",
    "user_clusters = kmeans.fit_predict(user_item_sparse)\n",
    "\n",
    "# Assign cluster labels back to users\n",
    "clusters_df = pd.DataFrame({\n",
    "    'user_id' : [id_to_user[i] for i in range(len(user_clusters))],\n",
    "    'cluster': user_clusters\n",
    "})\n",
    "\n",
    "df_with_cluster = df.merge(clusters_df, on=\"user_id\")"
   ]
  },
  {
   "cell_type": "code",
   "execution_count": null,
   "id": "0926b825",
   "metadata": {},
   "outputs": [],
   "source": [
    "model_bundle = {\n",
    "    'kmeans': kmeans,\n",
    "    'df': df_with_cluster,\n",
    "    'id_to_user': id_to_user,\n",
    "    'id_to_anime': id_to_anime\n",
    "}\n",
    "\n",
    "# Store to file\n",
    "joblib.dump(model_bundle, \"E:\\\\applied data science capstone\\\\clusters\\\\user_clustering_model_v1.joblib\")"
   ]
  },
  {
   "cell_type": "code",
   "execution_count": 33,
   "id": "e4c89469",
   "metadata": {},
   "outputs": [
    {
     "name": "stderr",
     "output_type": "stream",
     "text": [
      "e:\\organized-anime-recommendation\\organized-anime-recommendation\\.venv\\Lib\\site-packages\\sklearn\\base.py:440: InconsistentVersionWarning: Trying to unpickle estimator KMeans from version 1.6.1 when using version 1.7.0. This might lead to breaking code or invalid results. Use at your own risk. For more info please refer to:\n",
      "https://scikit-learn.org/stable/model_persistence.html#security-maintainability-limitations\n",
      "  warnings.warn(\n"
     ]
    }
   ],
   "source": [
    "# Load everything\n",
    "model_bundle = joblib.load(\"E:\\\\applied data science capstone\\\\clusters\\\\user_clustering_model_v1.joblib\")\n",
    "\n",
    "kmeans = model_bundle['kmeans']\n",
    "df_with_cluster = model_bundle[\"df\"]\n",
    "\n",
    "sample_indices = np.random.choice(user_item_sparse.shape[0], size=3000, replace=False)\n",
    "sample_matrix = user_item_sparse[sample_indices]\n",
    "sample_labels = user_clusters[sample_indices]"
   ]
  },
  {
   "cell_type": "code",
   "execution_count": 34,
   "id": "2e047086",
   "metadata": {},
   "outputs": [],
   "source": [
    "pca = PCA(n_components=2)\n",
    "user_2d = pca.fit_transform(sample_matrix.toarray())"
   ]
  },
  {
   "cell_type": "code",
   "execution_count": 35,
   "id": "19bcb9f9",
   "metadata": {},
   "outputs": [
    {
     "data": {
      "image/png": "[encoded data removed]",
      "text/plain": [
       "<Figure size 1000x600 with 1 Axes>"
      ]
     },
     "metadata": {},
     "output_type": "display_data"
    }
   ],
   "source": [
    "# Step 4: Plot\n",
    "df_plot = pd.DataFrame({\n",
    "    'x': user_2d[:, 0],\n",
    "    'y': user_2d[:, 1],\n",
    "    'cluster': sample_labels\n",
    "})\n",
    "\n",
    "plt.figure(figsize=(10, 6))\n",
    "sns.scatterplot(data=df_plot, x='x', y='y', hue='cluster', palette='tab10', s=50)\n",
    "plt.title(\"User Clusters Visualized via PCA\")\n",
    "plt.xlabel(\"PC1\")\n",
    "plt.ylabel(\"PC2\")\n",
    "plt.legend(title='Cluster')\n",
    "plt.savefig(f\"{root_location}\\\\plots\\\\user_clusters.png\")\n",
    "plt.show()\n"
   ]
  },
  {
   "cell_type": "markdown",
   "id": "247fa1e3",
   "metadata": {},
   "source": [
    "### Topic Modelling"
   ]
  },
  {
   "cell_type": "markdown",
   "id": "3d8c4551",
   "metadata": {},
   "source": [
    "#### Load reviews data"
   ]
  },
  {
   "cell_type": "code",
   "execution_count": 41,
   "id": "d3e0bb9a",
   "metadata": {},
   "outputs": [],
   "source": [
    "from pymongo import MongoClient\n",
    "\n",
    "def get_client(uri):\n",
    "    client = MongoClient(uri)\n",
    "    return client"
   ]
  },
  {
   "cell_type": "code",
   "execution_count": null,
   "id": "b55a2544",
   "metadata": {},
   "outputs": [],
   "source": [
    "load_dotenv(\".env\")  # defaults to loading a `.env` file in the current directory\n",
    "\n",
    "uri = os.getenv(\"MONGO_DB_URI\")\n",
    "\n",
    "client = get_client(uri)"
   ]
  },
  {
   "cell_type": "code",
   "execution_count": 43,
   "id": "f86efcd0",
   "metadata": {},
   "outputs": [],
   "source": [
    "database = client.get_database(\"anime_recommendation\")\n",
    "reviews = database.get_collection(\"reviews\")\n",
    "cursor = reviews.find()"
   ]
  },
  {
   "cell_type": "code",
   "execution_count": 45,
   "id": "576d697e",
   "metadata": {},
   "outputs": [],
   "source": [
    "data_lst = []\n",
    "for item in cursor:\n",
    "    for rev in item[\"reviews\"]:\n",
    "        data = {\"anime_id\": item[\"anime_id\"], \"review\": rev[\"review\"]}\n",
    "        data_lst.append(data)\n",
    "\n",
    "df = pd.DataFrame(data_lst)"
   ]
  },
  {
   "cell_type": "code",
   "execution_count": 46,
   "id": "009d8ef7",
   "metadata": {},
   "outputs": [
    {
     "name": "stdout",
     "output_type": "stream",
     "text": [
      "<class 'pandas.core.frame.DataFrame'>\n",
      "RangeIndex: 201853 entries, 0 to 201852\n",
      "Data columns (total 2 columns):\n",
      " #   Column    Non-Null Count   Dtype \n",
      "---  ------    --------------   ----- \n",
      " 0   anime_id  201853 non-null  int64 \n",
      " 1   review    201853 non-null  object\n",
      "dtypes: int64(1), object(1)\n",
      "memory usage: 3.1+ MB\n"
     ]
    }
   ],
   "source": [
    "df.info()"
   ]
  },
  {
   "cell_type": "code",
   "execution_count": 73,
   "id": "87a90c62",
   "metadata": {},
   "outputs": [
    {
     "data": {
      "application/vnd.microsoft.datawrangler.viewer.v0+json": {
       "columns": [
        {
         "name": "index",
         "rawType": "object",
         "type": "string"
        },
        {
         "name": "0",
         "rawType": "int64",
         "type": "integer"
        }
       ],
       "ref": "e4baea8d-0668-4d4b-a82a-d8ec31eb3b9a",
       "rows": [
        [
         "anime_id",
         "0"
        ],
        [
         "review",
         "0"
        ],
        [
         "processed_review",
         "0"
        ]
       ],
       "shape": {
        "columns": 1,
        "rows": 3
       }
      },
      "text/plain": [
       "anime_id            0\n",
       "review              0\n",
       "processed_review    0\n",
       "dtype: int64"
      ]
     },
     "execution_count": 73,
     "metadata": {},
     "output_type": "execute_result"
    }
   ],
   "source": [
    "df.isna().sum()"
   ]
  },
  {
   "cell_type": "markdown",
   "id": "e8d52503",
   "metadata": {},
   "source": [
    "#### Remove stopwords"
   ]
  },
  {
   "cell_type": "code",
   "execution_count": 75,
   "id": "88396779",
   "metadata": {},
   "outputs": [],
   "source": [
    "texts = df['review'].tolist()\n",
    "all_text = \" \".join(texts).lower()\n",
    "\n",
    "# remove punctuation and numbers\n",
    "clean_text = re.sub(r\"[^a-z\\s]\", \"\", all_text)"
   ]
  },
  {
   "cell_type": "code",
   "execution_count": 76,
   "id": "772f30ec",
   "metadata": {},
   "outputs": [],
   "source": [
    "import os\n",
    "\n",
    "import pandas as pd\n",
    "from sklearn.feature_extraction.text import TfidfVectorizer\n",
    "from sklearn.decomposition import TruncatedSVD\n",
    "from sklearn.metrics.pairwise import cosine_similarity\n",
    "import nltk\n",
    "from nltk.tokenize import word_tokenize\n",
    "from nltk.corpus import stopwords\n",
    "from nltk.stem import WordNetLemmatizer\n",
    "import re\n",
    "\n",
    "import joblib"
   ]
  },
  {
   "cell_type": "code",
   "execution_count": null,
   "id": "d1afb274",
   "metadata": {},
   "outputs": [
    {
     "name": "stderr",
     "output_type": "stream",
     "text": [
      "[nltk_data] Downloading package punkt to C:\\Users\\Asus-\n",
      "[nltk_data]     Home\\AppData\\Roaming\\nltk_data...\n",
      "[nltk_data]   Package punkt is already up-to-date!\n",
      "[nltk_data] Downloading package punkt_tab to C:\\Users\\Asus-\n",
      "[nltk_data]     Home\\AppData\\Roaming\\nltk_data...\n",
      "[nltk_data]   Unzipping tokenizers\\punkt_tab.zip.\n",
      "[nltk_data] Downloading package stopwords to C:\\Users\\Asus-\n",
      "[nltk_data]     Home\\AppData\\Roaming\\nltk_data...\n",
      "[nltk_data]   Package stopwords is already up-to-date!\n",
      "[nltk_data] Downloading package wordnet to C:\\Users\\Asus-\n",
      "[nltk_data]     Home\\AppData\\Roaming\\nltk_data...\n",
      "[nltk_data]   Package wordnet is already up-to-date!\n"
     ]
    }
   ],
   "source": [
    "nltk.download('punkt')\n",
    "nltk.download('punkt_tab')\n",
    "nltk.download('stopwords')\n",
    "nltk.download('wordnet')\n",
    "\n",
    "#These stop words are very generic and the list will need to be expanded to include those that are common in reviews and anime which would add no value\n",
    "base_stop_words = set(stopwords.words('english')) "
   ]
  },
  {
   "cell_type": "code",
   "execution_count": 80,
   "id": "9897ea64",
   "metadata": {},
   "outputs": [],
   "source": [
    "# tokenize\n",
    "tokens = word_tokenize(clean_text)\n",
    "\n",
    "# remove base stopwords\n",
    "base_stopwords = set(stopwords.words('english'))\n",
    "filtered_tokens = [word for word in tokens if word not in base_stopwords]\n"
   ]
  },
  {
   "cell_type": "code",
   "execution_count": 81,
   "id": "5e02b1e8",
   "metadata": {},
   "outputs": [],
   "source": [
    "from collections import Counter\n",
    "\n",
    "word_freq = Counter(filtered_tokens)"
   ]
  },
  {
   "cell_type": "code",
   "execution_count": 84,
   "id": "1615dad0",
   "metadata": {},
   "outputs": [
    {
     "name": "stdout",
     "output_type": "stream",
     "text": [
      "anime: 627349\n",
      "characters: 477957\n",
      "like: 425269\n",
      "story: 409315\n",
      "show: 400881\n",
      "one: 355578\n",
      "really: 317232\n",
      "character: 314188\n",
      "good: 272917\n",
      "series: 259298\n",
      "even: 223767\n",
      "well: 217350\n",
      "much: 210487\n",
      "first: 205506\n",
      "time: 201708\n",
      "also: 193819\n",
      "would: 185863\n",
      "get: 167674\n",
      "dont: 167551\n",
      "watch: 164955\n",
      "art: 160044\n",
      "episode: 151561\n",
      "season: 149087\n",
      "way: 148409\n",
      "main: 145186\n",
      "plot: 141059\n",
      "episodes: 135744\n",
      "people: 133553\n",
      "great: 133196\n",
      "see: 129564\n",
      "think: 125426\n",
      "make: 125384\n",
      "love: 123269\n",
      "say: 122238\n",
      "still: 121659\n",
      "animation: 120306\n",
      "something: 115659\n",
      "lot: 115077\n",
      "overall: 110429\n",
      "pretty: 110204\n",
      "many: 109146\n",
      "watching: 108708\n",
      "end: 107497\n",
      "feel: 107130\n",
      "im: 105222\n",
      "world: 104374\n",
      "could: 102387\n",
      "know: 101675\n",
      "life: 99464\n",
      "doesnt: 99002\n"
     ]
    }
   ],
   "source": [
    "common_words = word_freq.most_common(50)\n",
    "for word, count in common_words:\n",
    "    print(f\"{word}: {count}\")"
   ]
  },
  {
   "cell_type": "code",
   "execution_count": 87,
   "id": "14c90160",
   "metadata": {},
   "outputs": [],
   "source": [
    "#add most frequent common words to stop words list\n",
    "custom_anime_stop_words = set(word for word, count in common_words)\n",
    "final_stop_words = base_stop_words.union(custom_anime_stop_words)"
   ]
  },
  {
   "cell_type": "code",
   "execution_count": 90,
   "id": "e120d5b4",
   "metadata": {},
   "outputs": [],
   "source": [
    "# used to store data to disk\n",
    "def write_to_txt(filename, data):\n",
    "    with open(filename, \"w\") as f:\n",
    "        for word in sorted(data):\n",
    "            f.write(word + \"\\n\")\n",
    "    print(f\"file saved to {filename}\")\n",
    "\n",
    "def read_from_txt(filename):\n",
    "    with open(filename, \"r\") as f:\n",
    "        target = set(line.strip() for line in f if line.strip())\n",
    "    print(f\"contents read from {filename}\")\n",
    "    return target\n"
   ]
  },
  {
   "cell_type": "code",
   "execution_count": 89,
   "id": "20598cc4",
   "metadata": {},
   "outputs": [
    {
     "name": "stdout",
     "output_type": "stream",
     "text": [
      "file saved to E:\\applied data science capstone\\topics\\stopwords\\v1.txt\n"
     ]
    }
   ],
   "source": [
    "write_to_txt(\"E:\\\\applied data science capstone\\\\topics\\\\stopwords\\\\v1.txt\", final_stop_words)"
   ]
  },
  {
   "cell_type": "code",
   "execution_count": 91,
   "id": "b1786221",
   "metadata": {},
   "outputs": [
    {
     "name": "stdout",
     "output_type": "stream",
     "text": [
      "contents read from E:\\applied data science capstone\\topics\\stopwords\\v1.txt\n"
     ]
    }
   ],
   "source": [
    "final_stop_words = read_from_txt(\"E:\\\\applied data science capstone\\\\topics\\\\stopwords\\\\v1.txt\")"
   ]
  },
  {
   "cell_type": "markdown",
   "id": "93c5d0cb",
   "metadata": {},
   "source": [
    "#### Pre-processing"
   ]
  },
  {
   "cell_type": "code",
   "execution_count": null,
   "id": "748a1688",
   "metadata": {},
   "outputs": [
    {
     "name": "stderr",
     "output_type": "stream",
     "text": [
      "[nltk_data] Downloading package stopwords to C:\\Users\\Asus-\n",
      "[nltk_data]     Home\\AppData\\Roaming\\nltk_data...\n",
      "[nltk_data]   Package stopwords is already up-to-date!\n",
      "[nltk_data] Downloading package wordnet to C:\\Users\\Asus-\n",
      "[nltk_data]     Home\\AppData\\Roaming\\nltk_data...\n",
      "[nltk_data]   Package wordnet is already up-to-date!\n"
     ]
    }
   ],
   "source": [
    "\n",
    "lemmatizer = WordNetLemmatizer()"
   ]
  },
  {
   "cell_type": "code",
   "execution_count": 92,
   "id": "43c44e86",
   "metadata": {},
   "outputs": [],
   "source": [
    "def preprocess(text):\n",
    "    text = re.sub(r'[^a-zA-Z]', ' ', text).lower()\n",
    "    text = re.sub(r'(&quot;)', '', text)\n",
    "    tokens = text.split()\n",
    "    tokens = [lemmatizer.lemmatize(word) for word in tokens if word not in final_stop_words]\n",
    "    return ' '.join(tokens)"
   ]
  },
  {
   "cell_type": "code",
   "execution_count": 93,
   "id": "9ff28643",
   "metadata": {},
   "outputs": [],
   "source": [
    "df['processed_review'] = df['review'].apply(preprocess)"
   ]
  },
  {
   "cell_type": "code",
   "execution_count": 94,
   "id": "c92e691f",
   "metadata": {},
   "outputs": [],
   "source": [
    "from textwrap import wrap"
   ]
  },
  {
   "cell_type": "markdown",
   "id": "d9381a49",
   "metadata": {},
   "source": [
    "Let's see how the result of the preprocess step on the reviews"
   ]
  },
  {
   "cell_type": "code",
   "execution_count": 95,
   "id": "35219d32",
   "metadata": {},
   "outputs": [
    {
     "data": {
      "application/vnd.microsoft.datawrangler.viewer.v0+json": {
       "columns": [
        {
         "name": "index",
         "rawType": "int64",
         "type": "integer"
        },
        {
         "name": "anime_id",
         "rawType": "int64",
         "type": "integer"
        },
        {
         "name": "review",
         "rawType": "object",
         "type": "string"
        },
        {
         "name": "processed_review",
         "rawType": "object",
         "type": "string"
        }
       ],
       "ref": "d9d5c4c5-c829-44d8-a497-6dcf63feac6b",
       "rows": [
        [
         "0",
         "5",
         "Cowboy Bebop: Knockin' on Heaven's Door is a great addition to the Cowboy Bebop series, but no more. It is by no means a sequel, and after watching it, I found that it's best\nwatched in the middle of the series, and not neccesarily at the end. If it's got a specific place or not, that I don't know, but that's not very important at any rate, and if\nyou've watched the entire series, it shouldn't be hard to mentally place it inside the series anyway. This time, a terrorist possesses a weapon capable of killing countless people,\nand there's a bounty of 300 millionwoolongs on him; the largest bounty ever given. Of course, this means that our heroes will chase him. And so starts the process of gathering\ninformation, meeting and getting to know people related to the bounty in some way, and eventually, squaring off against him in a final fight. Oh, and throw in a save-the-world\nthing this time, and there you have the movie. Nothing really new, a formula that's been used several times. There's also details here and there left unexplained, and things  may\njust happen for no reason at the rare occasion. Its 120 minutes might be a little too long to some, but it never came off as boring at any point to me; they certainly did a good\njob of fleshing out those 120 minutes.   Though, that may be credited more to the characters than the plot itself, as the movie threw some really interesting characters at us. The\norignal cast is, well, pretty much the same as they always are, the same characters which you (probably) got to love while watching the original series. As for the movie\ncharacters, we have for example Vincent, the main bad guy. He's quite the interesting fellow, though the more I think about it, the more I can't help but feel that I've experienced\nhis type somewhat before - he's got a mysterious past; a forgotten love included, he's going to kill loads of people for no good reason, and he blathers out sentences about\nreligion and whatnot. Nevertheless, he comes off as an interesting character, mostly because of him being similar to Spike - both in physical prowess and their considering\nthemselves 'dead' men due to past events. Then we have Electra, Vincent's past love once forgotten. She remembers him though, and well, she wants him to remember her as well. We\ncan see where that's heading...  The animation quality is superb; its detail and overall quality is unmistakably a work done by people who knows what they are doing. Be it\nbackgrounds or landscapes, they're all top-notch. Lighting effects are good, and more than I'd exect from something out of 2001, and the overall quality of special effects are\ngreat; much, much better than the original series. The character designs are the same old, with some improvements, and they work very well with this anime and movie. The character\nmotions and their fluidity are great, and the few action scenes in the movie are done so well that I could probably learn some nice figthing moves merely from studying them. The\ncoloring is the only thing that's a bit behind, but considering its age it's not a problem. And moreso, the dulled coloring actually melds perfectly with the style of the movie,\nand helps on the movie's atmosphere.  The soundtrack is what you should expect from the original series; awesome. Yoko Kanno does her work as she did in the series; with an amazing\nsoundtrack that fits perfectly with the atmosphere of the movie and its individual scenes, and the opening and ending themes are wonderful to listen to. The only downside is that\nthere is a lot of silent scenes, where no background music is present at all.   Cowboy Bebop: Knockin' On Heaven's Door is a movie that delivers the goods, but stops at that. It's\nnot marvelous, but it's great, and a must-see movie for any Cowboy Bebop fan.",
         "cowboy bebop knockin heaven door addition cowboy bebop mean sequel found best watched middle neccesarily got specific place important rate watched entire hard mentally place inside anyway terrorist possesses weapon capable killing countless bounty millionwoolongs largest bounty ever given course mean hero chase start process gathering information meeting getting related bounty eventually squaring final fight oh throw save thing movie nothing new formula used several time detail left unexplained thing may happen reason rare occasion minute might little long never came boring point certainly job fleshing minute though may credited movie threw interesting u orignal cast always probably got original movie example vincent bad guy quite interesting fellow though help experienced type somewhat got mysterious past forgotten included going kill load reason blather sentence religion whatnot nevertheless come interesting mostly similar spike physical prowess considering dead men due past event electra vincent past forgotten remembers though want remember heading quality superb detail quality unmistakably work done know background landscape top notch lighting effect exect quality special effect better original design old improvement work movie motion fluidity action scene movie done probably learn nice figthing move merely studying coloring thing bit behind considering age problem moreso dulled coloring actually meld perfectly style movie help movie atmosphere soundtrack expect original awesome yoko kanno work amazing soundtrack fit perfectly atmosphere movie individual scene opening ending theme wonderful listen downside silent scene background music present cowboy bebop knockin heaven door movie delivers good stop marvelous must movie cowboy bebop fan"
        ],
        [
         "1",
         "5",
         "I'm never that comfortable with films of series. Mostly, that's because all too often a film of a series consists of some kind of edited-all-to-hell clip show that tries and\ntotally fails to boil down the story of a long series to a relatively much shorter film. Knockin' on Heaven's Door isn't that, which is very much in its favour. Rather, it's\nbasically like a two-hour &quot;lost episode&quot; that belongs somewhere in the middle of the series - without spoiling anything, by the end of the series, there's characters\nmissing who are still present in this film. Another point in the film's favouris that it's pretty much equally accessible for existing fans and those unfamiliar with the\ncharacters.  While there's plenty of details that might be lost or not fully comprehensible for new viewers, by and large the film stands up well as a stand alone drama,\nintroducing its characters and their situation.  However, this in a way exposes another major weakness of films of series.  Series are, by nature, episodic.  They devote an episode\nto introducing a character or exploring their personalities.  Once this is done, they generally have plot episodes, in which the main thrust of the series is pursued, and then they\nhave one-shot episodes that have our characters in some kind of interesting situation, but which is basically unrelated to the plot - if there is one.  Films, by contrast, do all\nof this at once.  The proceedure is totally different, and a director or scriptwriter used to a series format adapts less well to a film format.   Knockin' on Heaven's Door\nexemplifies this - while the film as it is works, it's more obvious and cumbersome than a film directed by a director used to a feature-length format.  The storyline, also, suffers\nin this way.  It's not that it's a bad story, in fact it might make a great two- or three-part episode, but as a film, the material comes across as stretched, holey and lacking in\nsubstance.  It's also remarkable in that it's not half as quirky or original as Cowboy Bebop's famously eclectic mixtures of ideas: biological terrorism unleashed by a madman with\na mysterious and sinister military past, fascinated by death and bent on destroying the world, with cod philosophical pretentions to fil gaps between action and a garnish of some\nfashionable christian mythology. It's all very generic really, and frankly the only things that make this Cowboy Bebop and not something much more generic are the familiar\ncharacters, who are luckily strong enough to make the thing hang together.  The new characters are not much to speak of, either - Vincent the aforementioned madman, a hacker\naccomplice, a Moroccan information seller and, of course, Electra, a tough, wildcard femme fatale with a mysterious connection to our antagonist.  Electra comes off as the best\nrealised of these, and, perhaps not coincidentally, closest to a series character (though she's a dead ringer for a more mature version of BGC2040's Priss as well).  Vincent seems\nvery like main series antagonist Vicious stripped of his hatred of Spike, which is to say, not that special and a bit rabid and foaming for credibility.  The film drags.  It's just\ntoo long.  What this is primarily due to is unclear; maybe an over-developed story with far too much exposition (every character seems to need every other to explain nanomachines\nto them, it seems.  We, however, do not), or perhaps the increasingly egregious and segmented action scenes (why are there spitfires on Mars?  Who knows, let's cut back to Spike\nbeing pursued by military jets for no apparent reason!), or it could be the ponderous attempts to fashion some sort of existential aspect to the story (&amp;quot;I'm not insane,\nthe rest of the world is.&amp;quot; - oh really?  You don't look thirteen years old, Vincent, but you sound it).  Philosophical-minded action films are not especially uncommon;\ngood and effective ones are extremely rare.  Suffice it to say that I was surprised and rather disappointed when the apparent climax occured and passed with a good half an hour\nleft on the clock.  As I say, the film hangs almost completely on the main characters.  It would have been unthinkable to not bring the original cast in for this gig too (can't\nspeak for the dub cast, don't know), and they all acquit themselves just as well as they do in the series.  Music, too, such a central part of the series, is again provided by Yoko\nKanno and the Seatbelts; while the styles used in and prominence given to the music may not be to everyone's tastes, the versatility and range Kanno's score covers while still\nretaining a high basic quality standard is nothing short of incredible.  Visually, the quality seems to have been kicked up a notch; the animation of the series was never bad, but\nthe film is sumptuous and extremely well detailed.    However, one of my main bones of contention remains.  The art design is realistic, unapologetically multicultural and sort of\ngrimy, very credible in its way, but under even cursory analysis, it's illogical in the extreme.  Why is Mars covered in early twentieth-century New York-style tenement blocks and\nlabyrinthine Moroccan markets?  Has anyone remembered that it has one third of earth's gravity?  Is there, in fact, any reason for this to be set on Mars at all, other than to tie\nin all these diverse elements?  It's sci-fi doing what sci-fi does most often and least well - making half-baked stuff up to accomodate its ideas, with no thought for maintainance\nof disbelief suspension.  I was never as bowled over by Cowboy Bebop as many people seem to have been.  Overall I liked it, certainly, in fact I thought some of it was absolutely\nexcellent, but other parts I thought were pretty terrible, and it was quickly clear that the series was never going to be &amp;quot;a classic&amp;quot; in my eyes the way it is for\nlots of others.  This was primarily because of its disjointedness and apparent lack of story direction, and the same is true of this film.  Now, after watching it, I'm left with\nthe same &amp;quot;...well, so what?&amp;quot; feeling a significant amount of the series gave me, but because of the length and the negative impact it has, I have comparatively\nmore holes to pick at as well.  Perhaps if you're a real fan, this film has more to offer, but overall, for me, while I'd not actually call it bad, this doesn't reach the already\nkind of saggy standard the series set.",
         "never comfortable film mostly often film consists kind edited hell clip try totally fails boil long relatively shorter film knockin heaven door favour rather basically two hour quot lost quot belongs somewhere middle without spoiling anything missing present film another point film favouris equally accessible existing fan unfamiliar plenty detail might lost fully comprehensible new viewer large film stand stand alone drama introducing situation however expose another major weakness film nature episodic devote introducing exploring personality done generally thrust pursued shot kind interesting situation basically unrelated film contrast proceedure totally different director scriptwriter used format adapts less film format knockin heaven door exemplifies film work obvious cumbersome film directed director used feature length format storyline suffers bad fact might two three part film material come across stretched holey lacking substance remarkable half quirky original cowboy bebop famously eclectic mixture idea biological terrorism unleashed madman mysterious sinister military past fascinated death bent destroying cod philosophical pretentions fil gap action garnish fashionable christian mythology generic frankly thing cowboy bebop generic familiar luckily strong enough thing hang together new speak either vincent aforementioned madman hacker accomplice moroccan information seller course electra tough wildcard femme fatale mysterious connection antagonist electra come best realised perhaps coincidentally closest though dead ringer mature version bgc priss vincent seems antagonist vicious stripped hatred spike special bit rabid foaming credibility film drag long primarily due unclear maybe developed far exposition every seems need every explain nanomachines seems however perhaps increasingly egregious segmented action scene spitfire mar know let cut back spike pursued military jet apparent reason ponderous attempt fashion sort existential aspect amp quot insane rest amp quot oh look thirteen year old vincent sound philosophical minded action film especially uncommon effective one extremely rare suffice surprised rather disappointed apparent climax occured passed half hour left clock film hang almost completely unthinkable bring original cast gig speak dub cast acquit music central part provided yoko kanno seatbelt style used prominence given music may everyone taste versatility range kanno score cover retaining high basic quality standard nothing short incredible visually quality seems kicked notch never bad film sumptuous extremely detailed however bone contention remains design realistic unapologetically multicultural sort grimy credible cursory analysis illogical extreme mar covered early twentieth century new york style tenement block labyrinthine moroccan market anyone remembered third earth gravity fact reason set mar tie diverse element sci fi sci fi often least making half baked stuff accomodate idea thought maintainance disbelief suspension never bowled cowboy bebop seem liked certainly fact thought absolutely excellent part thought terrible quickly clear never going amp quot classic amp quot eye lot others primarily disjointedness apparent lack direction true film left amp quot amp quot feeling significant amount gave length negative impact comparatively hole pick perhaps real fan film offer actually call bad reach already kind saggy standard set"
        ],
        [
         "2",
         "5",
         "Cowboy Bebop: Knockin' on Heaven's Door was released in Japan on September 1st, 2001. Shinichiro Watanabe stayed on as director, and it was produced this time by not only Sunrise,\nbut also Bandai Visual (famous for their work on the .hack series and Dennou Coil), and Bones (famous for their work on Fullmetal Alchemist and Ouran High School Host Club). It was\nreleased Stateside by Bandai on August 11th, 2002. It's just a few days before Halloween on Ganymede, a major national holiday, and a terrorist has blown up a tanker filled with a\nbiochemical weapon. The government posts a 300 million Wulongbounty for the terrorist, and the Bebop crew just decides to go after it.  But the more they investigate, the deeper\nthe rabbit hole seems to go...  Yes, to answer any questions ahead of time, this is not a sequel; it takes place between episodes twenty-two and twenty-three.  It's not quite what\nI was expecting, admittedly, but it's still a pretty good plot.  It could've been fit in the series as a two or three part episode, and apparently Wantanabe had wanted to\noriginally, but he couldn't have gotten away with it on TV.  The visuals for this are absolutely beautiful; the animation got an update in the three years since the show had aired,\nand things are definitely smoother than they were in the show.  There's an even more unprecedented amount of detail in this, and it's absolutely beautiful.  Yoko Kanno and the\nSeatbelts came back to do work on the music again, and it's just as awesome and catchy as it was in the series.  I found myself humming a few of the songs after it was done.  All\nthe seiyuu and the voice actors were able to return for the movie, which just adds t o the awesomeness of the movie in general.  And the dub for this was actually fairly accurate,\nwhich surprises me, as this was released Stateside a little over a year after 9/11, and a few days before the 9/11 attacks over in Japan.  All in all, a pretty good movie, with a\ngood plot and unprecedented detail and smoother animation, if not what I was expecting.",
         "cowboy bebop knockin heaven door released japan september st shinichiro watanabe stayed director produced sunrise bandai visual famous work hack dennou coil bone famous work fullmetal alchemist ouran high school host club released stateside bandai august th day halloween ganymede major national holiday terrorist blown tanker filled biochemical weapon government post million wulongbounty terrorist bebop crew decides go investigate deeper rabbit hole seems go yes answer question ahead sequel take place twenty two twenty three quite expecting admittedly fit two three part apparently wantanabe wanted originally gotten away tv visuals absolutely beautiful got update three year since aired thing definitely smoother unprecedented amount detail absolutely beautiful yoko kanno seatbelt came back work music awesome catchy found humming song done seiyuu voice actor able return movie add awesomeness movie general dub actually fairly accurate surprise released stateside little year day attack japan movie unprecedented detail smoother expecting"
        ],
        [
         "3",
         "5",
         "It was a good follow up (in-between, actually) to the series. I suggest that if youre planning to watch Cowboy Bebop – Knockin on Heavens Door, you should watch after you get to\nthe episode when Ed is introduced. You just need to get to know all 4 major characters to understand the movie. I didnt like it as much as the series, mostly because the series\nkept me interested by introducing new plot lines in each episode. Having to focus on one specific plot for 120 minutes was a bit exhausting. It has a nice plot – throughout the\nmovie youll get why Knockin onHeavens Door is part of the title. I also found the plot to be timely. Terrorism is a problem thats been widespread throughout the world for years,\nand its interesting to see a group of bounty hunters trying to do something good for mankind.  The characters are back, of course. Theyre still the same as they were in the series.\n2 more major characters are introduced throughout the movie. The villain is Vincent Volaju, a mysterious terrorist with a forgotten past. He is definitely convincing as a villain,\nat least I think so. Electra is also a character added to the mix. I didnt really like her, mostly because she looks like a guy, but her presence is important to the story. The\noriginal voice actors are also back to reprise their respective roles. I would have been mad if they changed the voice actors.  I think one of the major innovations in the movie is\nthe visuals. The visuals are 10 times more stunning than in the series, all thanks to the collaboration with BONES studio. I guess it may have something to do with the fact that it\nwas produced in 2001, and 2001 animation definitely improved since 1998. The screenplay was also as great as before.  Yoko Kanno came back to do the music again, but I have to say\nIm a bit disappointed. There were less tracks than there were in the series, and there were a lot of scenes where there was no background music at all. That was a rare occurrence\nin the series. The opening theme, \"Ask DNA\" by The Seatbelts featuring Raju Ramayya and the ending theme \"Gotta Knock a Little Harder\" by The Seatbelts featuring Mai Yamane, were\nreally nicely done though.  Obviously, I liked the series better, but that may have something to do with the fact that I finished the series first before watching the movie. Its\nkind of hard to top the ending of the series, so its best if you watch the movie in between the series.",
         "follow actually suggest youre planning cowboy bebop knockin heaven door ed introduced need major understand movie didnt mostly kept interested introducing new line focus specific minute bit exhausting nice throughout movie youll knockin onheavens door part title found timely terrorism problem thats widespread throughout year interesting group bounty hunter trying mankind back course theyre major introduced throughout movie villain vincent volaju mysterious terrorist forgotten past definitely convincing villain least electra added mix didnt mostly look guy presence important original voice actor back reprise respective role mad changed voice actor major innovation movie visuals visuals time stunning thanks collaboration bone studio guess may fact produced definitely improved since screenplay yoko kanno came back music bit disappointed less track scene background music rare occurrence opening theme ask dna seatbelt featuring raju ramayya ending theme gotta knock little harder seatbelt featuring mai yamane nicely done though obviously liked better may fact finished movie kind hard top ending best movie"
        ],
        [
         "4",
         "5",
         "Warning : minor spoilers ahead It was a month ago when I finished cowboy bebop series, and i would say that i was a little bit disappointed. Why would I be disappointed? Well,\nmostly because many episodes almost feel like fillers, they don't support character development and some enemies just minor criminals/bounties and those villains rarely have\ninteresting characters. After sometime, I decided to watch the CB movie. And I would say the movie was very good. This movie has the elements that some cowboy bebop episodes lack.\nMostly the well developed story and characters(villains). Story (8/10) \"Which one is dream? Which one is reality? A 'deadman', searchingfor that answer, tries to endanger the\nsociety. It is up to Spike and the gang to stop him\". Yup, that was pretty much the synopsis of the movie. Like the series, the story presents a sci-fi modern era where humans has\nlived in other planets. Our MCs (Spike, Jet, Faye, Ed), are bounty hunters. This time, they are trying to catch an unknown terrorist. Unlike the series, which lack episodic story\ndevelopment because they have only 20 minutes duration for one story, the movie has almost 2 hours duration. It really has a great difference to tell a story. The story plot is\nvery well chronologically executed, and not rushed. We got to see a complex investigation, gaining information, interesting background story and past of the main villain, good\naction scenes, and a nice final conclusion of all of them. The big differences i felt most with the series are this movie presents us a nice built villains, well developed plot,\nbigger case and conflicts that put our MCs in critical situation, which rarely seen in the series.  Art (9/10) Considering the time it was aired, I would say the animations are\ngreat. The backgrounds are nice and the movements were fluid. But what I like most is the character design. It was unique in my opinion, no moe, and it gives me more mature\natmosphere from it.  Sound (8/10) The sountrack is like the original series, the classic ones. Nice OP and ED. Soundtracks also fit well with the atmosphere of the scenes. Though a\nfew scenes were quiet and don't have BGM in it. Voice acting is also good.  Character (8/10) We got our MCs back, Spike and the gang, whose characters are the same with the series.\nSpike being a cool badass, Faye being selfish and ignorant, Jet who is sometimes being the most sane one, and Ed is.. crazy..  What really caught my attentions was the main\nvillain's character, Vincent. A man with an interesting past that leads to his interesting philosophy (which one is dream, which one is reality). To seek his answes he will do\nanything. Interesting terrorism, which he also left mystery to be solved. Above all that, he also really got some skills to overpower the main protagonist.   Enjoyment (8/10) Yeah,\nlet's make this one short. From the scores above I'd say I really enjoy this movie. It was a nice watch and it has cured my disappointment of CB franchise.  Overall (8/10) Cause\nthe majority of above scores  i gave were 8s, then my overall score would be 8, which means really good.",
         "warning minor spoiler ahead month ago finished cowboy bebop little bit disappointed disappointed mostly almost filler support development enemy minor criminal bounty villain rarely interesting sometime decided cb movie movie movie element cowboy bebop lack mostly developed villain dream reality deadman searchingfor answer try endanger society spike gang stop yup synopsis movie present sci fi modern era human lived planet mc spike jet faye ed bounty hunter trying catch unknown terrorist unlike lack episodic development minute duration movie almost hour duration difference tell chronologically executed rushed got complex investigation gaining information interesting background past villain action scene nice final conclusion big difference felt movie present u nice built villain developed bigger case conflict put mc critical situation rarely seen considering aired animation background nice movement fluid design unique opinion moe give mature atmosphere sound sountrack original classic one nice op ed soundtrack fit atmosphere scene though scene quiet bgm voice acting got mc back spike gang whose spike cool badass faye selfish ignorant jet sometimes sane ed crazy caught attention villain vincent man interesting past lead interesting philosophy dream reality seek answes anything interesting terrorism left mystery solved got skill overpower protagonist enjoyment yeah let short score enjoy movie nice cured disappointment cb franchise cause majority score gave score mean"
        ]
       ],
       "shape": {
        "columns": 3,
        "rows": 5
       }
      },
      "text/html": [
       "<div>\n",
       "<style scoped>\n",
       "    .dataframe tbody tr th:only-of-type {\n",
       "        vertical-align: middle;\n",
       "    }\n",
       "\n",
       "    .dataframe tbody tr th {\n",
       "        vertical-align: top;\n",
       "    }\n",
       "\n",
       "    .dataframe thead th {\n",
       "        text-align: right;\n",
       "    }\n",
       "</style>\n",
       "<table border=\"1\" class=\"dataframe\">\n",
       "  <thead>\n",
       "    <tr style=\"text-align: right;\">\n",
       "      <th></th>\n",
       "      <th>anime_id</th>\n",
       "      <th>review</th>\n",
       "      <th>processed_review</th>\n",
       "    </tr>\n",
       "  </thead>\n",
       "  <tbody>\n",
       "    <tr>\n",
       "      <th>0</th>\n",
       "      <td>5</td>\n",
       "      <td>Cowboy Bebop: Knockin' on Heaven's Door is a g...</td>\n",
       "      <td>cowboy bebop knockin heaven door addition cowb...</td>\n",
       "    </tr>\n",
       "    <tr>\n",
       "      <th>1</th>\n",
       "      <td>5</td>\n",
       "      <td>I'm never that comfortable with films of serie...</td>\n",
       "      <td>never comfortable film mostly often film consi...</td>\n",
       "    </tr>\n",
       "    <tr>\n",
       "      <th>2</th>\n",
       "      <td>5</td>\n",
       "      <td>Cowboy Bebop: Knockin' on Heaven's Door was re...</td>\n",
       "      <td>cowboy bebop knockin heaven door released japa...</td>\n",
       "    </tr>\n",
       "    <tr>\n",
       "      <th>3</th>\n",
       "      <td>5</td>\n",
       "      <td>It was a good follow up (in-between, actually)...</td>\n",
       "      <td>follow actually suggest youre planning cowboy ...</td>\n",
       "    </tr>\n",
       "    <tr>\n",
       "      <th>4</th>\n",
       "      <td>5</td>\n",
       "      <td>Warning : minor spoilers ahead It was a month ...</td>\n",
       "      <td>warning minor spoiler ahead month ago finished...</td>\n",
       "    </tr>\n",
       "  </tbody>\n",
       "</table>\n",
       "</div>"
      ],
      "text/plain": [
       "   anime_id                                             review  \\\n",
       "0         5  Cowboy Bebop: Knockin' on Heaven's Door is a g...   \n",
       "1         5  I'm never that comfortable with films of serie...   \n",
       "2         5  Cowboy Bebop: Knockin' on Heaven's Door was re...   \n",
       "3         5  It was a good follow up (in-between, actually)...   \n",
       "4         5  Warning : minor spoilers ahead It was a month ...   \n",
       "\n",
       "                                    processed_review  \n",
       "0  cowboy bebop knockin heaven door addition cowb...  \n",
       "1  never comfortable film mostly often film consi...  \n",
       "2  cowboy bebop knockin heaven door released japa...  \n",
       "3  follow actually suggest youre planning cowboy ...  \n",
       "4  warning minor spoiler ahead month ago finished...  "
      ]
     },
     "execution_count": 95,
     "metadata": {},
     "output_type": "execute_result"
    }
   ],
   "source": [
    "df.head()"
   ]
  },
  {
   "cell_type": "code",
   "execution_count": 96,
   "id": "2f403c27",
   "metadata": {},
   "outputs": [],
   "source": [
    "#wrap text to make it easier to read and see the effects of preprocessing\n",
    "df[\"review\"] = df[\"review\"].apply(lambda x: \"\\n\".join(wrap(x, width=180)))\n",
    "df[\"processed_review\"] = df[\"processed_review\"].apply(lambda x: \"\\n\".join(wrap(x, width=180)))"
   ]
  },
  {
   "cell_type": "code",
   "execution_count": 97,
   "id": "d547351f",
   "metadata": {},
   "outputs": [
    {
     "name": "stdout",
     "output_type": "stream",
     "text": [
      "Cowboy Bebop: Knockin' on Heaven's Door is a great addition to the Cowboy Bebop series, but no more. It is by no means a sequel, and after watching it, I found that it's best\n",
      "watched in the middle of the series, and not neccesarily at the end. If it's got a specific place or not, that I don't know, but that's not very important at any rate, and if\n",
      "you've watched the entire series, it shouldn't be hard to mentally place it inside the series anyway. This time, a terrorist possesses a weapon capable of killing countless people,\n",
      "and there's a bounty of 300 millionwoolongs on him; the largest bounty ever given. Of course, this means that our heroes will chase him. And so starts the process of gathering\n",
      "information, meeting and getting to know people related to the bounty in some way, and eventually, squaring off against him in a final fight. Oh, and throw in a save-the-world\n",
      "thing this time, and there you have the movie. Nothing really new, a formula that's been used several times. There's also details here and there left unexplained, and things  may\n",
      "just happen for no reason at the rare occasion. Its 120 minutes might be a little too long to some, but it never came off as boring at any point to me; they certainly did a good\n",
      "job of fleshing out those 120 minutes.   Though, that may be credited more to the characters than the plot itself, as the movie threw some really interesting characters at us. The\n",
      "orignal cast is, well, pretty much the same as they always are, the same characters which you (probably) got to love while watching the original series. As for the movie\n",
      "characters, we have for example Vincent, the main bad guy. He's quite the interesting fellow, though the more I think about it, the more I can't help but feel that I've experienced\n",
      "his type somewhat before - he's got a mysterious past; a forgotten love included, he's going to kill loads of people for no good reason, and he blathers out sentences about\n",
      "religion and whatnot. Nevertheless, he comes off as an interesting character, mostly because of him being similar to Spike - both in physical prowess and their considering\n",
      "themselves 'dead' men due to past events. Then we have Electra, Vincent's past love once forgotten. She remembers him though, and well, she wants him to remember her as well. We\n",
      "can see where that's heading...  The animation quality is superb; its detail and overall quality is unmistakably a work done by people who knows what they are doing. Be it\n",
      "backgrounds or landscapes, they're all top-notch. Lighting effects are good, and more than I'd exect from something out of 2001, and the overall quality of special effects are\n",
      "great; much, much better than the original series. The character designs are the same old, with some improvements, and they work very well with this anime and movie. The character\n",
      "motions and their fluidity are great, and the few action scenes in the movie are done so well that I could probably learn some nice figthing moves merely from studying them. The\n",
      "coloring is the only thing that's a bit behind, but considering its age it's not a problem. And moreso, the dulled coloring actually melds perfectly with the style of the movie,\n",
      "and helps on the movie's atmosphere.  The soundtrack is what you should expect from the original series; awesome. Yoko Kanno does her work as she did in the series; with an amazing\n",
      "soundtrack that fits perfectly with the atmosphere of the movie and its individual scenes, and the opening and ending themes are wonderful to listen to. The only downside is that\n",
      "there is a lot of silent scenes, where no background music is present at all.   Cowboy Bebop: Knockin' On Heaven's Door is a movie that delivers the goods, but stops at that. It's\n",
      "not marvelous, but it's great, and a must-see movie for any Cowboy Bebop fan.\n"
     ]
    }
   ],
   "source": [
    "print(df.loc[0, \"review\"])"
   ]
  },
  {
   "cell_type": "code",
   "execution_count": 98,
   "id": "87392e54",
   "metadata": {},
   "outputs": [
    {
     "name": "stdout",
     "output_type": "stream",
     "text": [
      "cowboy bebop knockin heaven door addition cowboy bebop mean sequel found best watched middle neccesarily got specific place important rate watched entire hard mentally place inside\n",
      "anyway terrorist possesses weapon capable killing countless bounty millionwoolongs largest bounty ever given course mean hero chase start process gathering information meeting\n",
      "getting related bounty eventually squaring final fight oh throw save thing movie nothing new formula used several time detail left unexplained thing may happen reason rare occasion\n",
      "minute might little long never came boring point certainly job fleshing minute though may credited movie threw interesting u orignal cast always probably got original movie example\n",
      "vincent bad guy quite interesting fellow though help experienced type somewhat got mysterious past forgotten included going kill load reason blather sentence religion whatnot\n",
      "nevertheless come interesting mostly similar spike physical prowess considering dead men due past event electra vincent past forgotten remembers though want remember heading\n",
      "quality superb detail quality unmistakably work done know background landscape top notch lighting effect exect quality special effect better original design old improvement work\n",
      "movie motion fluidity action scene movie done probably learn nice figthing move merely studying coloring thing bit behind considering age problem moreso dulled coloring actually\n",
      "meld perfectly style movie help movie atmosphere soundtrack expect original awesome yoko kanno work amazing soundtrack fit perfectly atmosphere movie individual scene opening\n",
      "ending theme wonderful listen downside silent scene background music present cowboy bebop knockin heaven door movie delivers good stop marvelous must movie cowboy bebop fan\n"
     ]
    }
   ],
   "source": [
    "print(df.loc[0, \"processed_review\"])"
   ]
  },
  {
   "cell_type": "markdown",
   "id": "578cd5d3",
   "metadata": {},
   "source": [
    "#### Training model"
   ]
  },
  {
   "cell_type": "code",
   "execution_count": 100,
   "id": "270a9a7d",
   "metadata": {},
   "outputs": [],
   "source": [
    "# TF-IDF\n",
    "tfidf_vectorizer = TfidfVectorizer(max_df=0.85, min_df=2, stop_words='english')\n",
    "# Fit and transform the processed descriptions\n",
    "tfidf_matrix = tfidf_vectorizer.fit_transform(df['processed_review'])"
   ]
  },
  {
   "cell_type": "code",
   "execution_count": 101,
   "id": "63ef87bb",
   "metadata": {},
   "outputs": [],
   "source": [
    "# LSA reduces the dimensionality of the TF-IDF matrix while preserving semantic relationships.\n",
    "# n_components determines the number of topics/latent dimensions.\n",
    "num_topics = 100\n",
    "lsa_model = TruncatedSVD(n_components=num_topics, random_state=42)\n",
    "lsa_topic_matrix = lsa_model.fit_transform(tfidf_matrix)"
   ]
  },
  {
   "cell_type": "markdown",
   "id": "e85876a3",
   "metadata": {},
   "source": [
    "#### Saving model"
   ]
  },
  {
   "cell_type": "code",
   "execution_count": 103,
   "id": "2c66b67a",
   "metadata": {},
   "outputs": [],
   "source": [
    "model_bundle = {\n",
    "    'tfidf_matrix': tfidf_matrix,\n",
    "    'df': df,\n",
    "    'lsa_model': lsa_model,\n",
    "    'tfidf_vectorizer': tfidf_vectorizer\n",
    "}"
   ]
  },
  {
   "cell_type": "code",
   "execution_count": 104,
   "id": "795e6e9e",
   "metadata": {},
   "outputs": [
    {
     "data": {
      "text/plain": [
       "['E:\\\\applied data science capstone\\\\topics\\\\topic_model_v2.joblib']"
      ]
     },
     "execution_count": 104,
     "metadata": {},
     "output_type": "execute_result"
    }
   ],
   "source": [
    "joblib.dump(model_bundle, \"E:\\\\applied data science capstone\\\\topics\\\\topic_model_v2.joblib\")"
   ]
  },
  {
   "cell_type": "code",
   "execution_count": null,
   "id": "22185f0a",
   "metadata": {},
   "outputs": [],
   "source": [
    "model_bundle = joblib.load(\"E:\\\\applied data science capstone\\\\topics\\\\topic_model_v2.joblib\")\n",
    "df = model_bundle[\"df\"]\n",
    "lsa_model = model_bundle[\"lsa_model\"]\n",
    "tfidf_matrix = model_bundle[\"tfidf_matrix\"]\n",
    "tfidf_vectorizer = model_bundle[\"tfidf_vectorizer\"]"
   ]
  },
  {
   "cell_type": "markdown",
   "id": "ce2ee90d",
   "metadata": {},
   "source": [
    "#### Assessing Model"
   ]
  },
  {
   "cell_type": "markdown",
   "id": "1c80828e",
   "metadata": {},
   "source": [
    "The recommendations to be made are textual and based on the reviews. The assessment of the model will therefore include:\n",
    "1. Checking if the topics make sense\n",
    "2. Manually inspecting some of the recommendations given based on the prompt. Domain specific knowledge about the anime titles will be used here.\n",
    "3. Comparing the cosine similarity scores - if the graph is flat, the model sees everything as similar not good. If the graph clusters most values to the lower scores and tapers towards the higher scores this is good\n",
    "as it recognizes the reviews which are most similar to the text given. If the graph has a lot of values closer to the higher values this indicates overfitting and results in bad recommendations"
   ]
  },
  {
   "cell_type": "markdown",
   "id": "b95bfcb6",
   "metadata": {},
   "source": [
    "##### Topic Space Interpretability"
   ]
  },
  {
   "cell_type": "code",
   "execution_count": 102,
   "id": "717789fe",
   "metadata": {},
   "outputs": [
    {
     "name": "stdout",
     "output_type": "stream",
     "text": [
      "Top words for each LSA Topic:\n",
      "Topic 1: movie, thing, girl, scene, sound, bad, music, interesting, want, review\n",
      "Topic 2: movie, film, ghibli, shinkai, hour, tv, minute, beautiful, original, scene\n",
      "Topic 3: film, arc, manga, action, scene, fight, naruto, theme, viewer, work\n",
      "Topic 4: film, girl, school, romance, cute, comedy, harem, slice, relationship, friend\n",
      "Topic 5: game, mc, isekai, arc, fight, sao, kirito, power, hero, bad\n",
      "Topic 6: manga, film, mc, girl, read, harem, isekai, bad, guy, adaptation\n",
      "Topic 7: game, film, manga, sao, kirito, player, romance, video, online, play\n",
      "Topic 8: que, la, en, el, se, lo, los, una, game, como\n",
      "Topic 9: manga, girl, school, read, movie, adaptation, work, viewer, relationship, cast\n",
      "Topic 10: arc, naruto, comedy, girl, filler, film, funny, romance, school, game\n",
      "Topic 11: comedy, isekai, mc, romance, action, scene, harem, fun, genre, enjoyable\n",
      "Topic 12: arc, romance, mc, sao, relationship, kirito, felt, clannad, second, feeling\n",
      "Topic 13: naruto, isekai, mc, game, boruto, amazing, filler, sport, sasuke, best\n",
      "Topic 14: amp, mc, quot, rsquo, romance, arc, isekai, harem, beautiful, naruto\n",
      "Topic 15: girl, amazing, arc, mc, music, sound, beautiful, best, song, harem\n",
      "Topic 16: naruto, girl, interesting, quite, harem, felt, ending, bit, filler, development\n",
      "Topic 17: romance, fight, action, scene, sao, kirito, harem, fate, battle, titan\n",
      "Topic 18: mc, sport, fight, romance, team, school, demon, felt, scene, haikyuu\n",
      "Topic 19: sao, kirito, music, scene, violet, bad, asuna, sound, online, sword\n",
      "Topic 20: isekai, cute, sao, hero, fun, fantasy, kirito, demon, interesting, bit\n",
      "Topic 21: sport, harem, fan, review, team, school, ecchi, high, gundam, fate\n",
      "Topic 22: fate, violet, girl, game, gate, stein, zero, fight, scene, felt\n",
      "Topic 23: gate, stein, okabe, romance, travel, cute, sao, mc, interesting, kirito\n",
      "Topic 24: harem, ecchi, violet, review, game, arc, hunter, mystery, evergarden, scene\n",
      "Topic 25: romance, bad, isekai, sound, voice, arc, music, hunter, school, look\n",
      "Topic 26: gundam, mc, original, war, mecha, romance, fan, cute, watched, geass\n",
      "Topic 27: fate, zero, death, light, novel, review, note, night, cute, stay\n",
      "Topic 28: sport, girl, isekai, amazing, bad, ending, best, romance, titan, death\n",
      "Topic 29: titan, attack, eren, school, isekai, mystery, scene, aot, high, season\n",
      "Topic 30: violet, school, evergarden, death, note, high, geass, gundam, boring, interesting\n",
      "Topic 31: scene, clannad, music, fight, school, action, isekai, dragon, geass, thing\n",
      "Topic 32: review, ending, gundam, comedy, school, violet, action, gintama, sound, different\n",
      "Topic 33: review, demon, slayer, cute, death, geass, goblin, note, code, girl\n",
      "Topic 34: demon, amazing, slayer, clannad, interesting, gundam, girl, best, seen, geass\n",
      "Topic 35: clannad, titan, harem, thing, tomoya, gundam, nagisa, attack, sound, interesting\n",
      "Topic 36: clannad, sport, violet, mystery, original, ending, action, dragon, horror, novel\n",
      "Topic 37: gundam, demon, slayer, music, thing, arc, goblin, scene, sport, ecchi\n",
      "Topic 38: scene, isekai, voice, felt, watched, sport, action, girl, dub, gintama\n",
      "Topic 39: gundam, music, death, comedy, note, half, light, felt, review, second\n",
      "Topic 40: music, interesting, watched, titan, hunter, idol, anime, hero, boring, geass\n",
      "Topic 41: hunter, ending, fun, gundam, cute, titan, watched, definitely, bad, felt\n",
      "Topic 42: hero, fun, action, bit, clannad, half, little, review, man, romance\n",
      "Topic 43: original, thing, hunter, new, different, light, scene, novel, fight, hero\n",
      "Topic 44: fairy, tail, thing, amazing, magic, fan, school, service, titan, bit\n",
      "Topic 45: ghoul, half, second, fan, human, tokyo, service, vampire, ecchi, amazing\n",
      "Topic 46: fairy, second, scene, tail, half, year, want, review, best, watched\n",
      "Topic 47: hunter, bit, little, action, dragon, bebop, start, best, amazing, cowboy\n",
      "Topic 48: interesting, amazing, review, quite, novel, arc, fun, gintama, romance, titan\n",
      "Topic 49: hunter, amazing, mystery, new, fan, novel, old, original, comedy, bad\n",
      "Topic 50: hunter, thing, voice, half, review, fairy, cute, tail, gon, mystery\n",
      "Topic 51: quite, best, bit, actually, seen, fan, hero, ghoul, scene, hunter\n",
      "Topic 52: original, fun, angel, new, evangelion, moment, sound, shinji, mystery, beat\n",
      "Topic 53: ghoul, fun, tokyo, felt, fight, kaneki, human, harem, rsquo, best\n",
      "Topic 54: cute, quot, sound, year, got, boring, felt, gintama, evangelion, style\n",
      "Topic 55: fan, interesting, gintama, service, voice, best, bebop, felt, cowboy, idol\n",
      "Topic 56: quot, novel, ghoul, light, hero, little, tokyo, idol, going, voice\n",
      "Topic 57: angel, action, cute, beat, hero, best, amazing, ghoul, review, moment\n",
      "Topic 58: quot, action, idol, liked, best, fun, quite, relationship, mob, guy\n",
      "Topic 59: quite, harem, cute, amazing, new, slice, ghoul, kill, original, idol\n",
      "Topic 60: quite, gintama, hunter, action, novel, sound, start, rsquo, want, piece\n",
      "Topic 61: vampire, better, original, kill, action, idol, cute, la, boring, anime\n",
      "Topic 62: interesting, ecchi, quite, thing, moment, quot, felt, review, watched, bad\n",
      "Topic 63: felt, half, bad, evangelion, fight, mystery, la, quot, voice, second\n",
      "Topic 64: vampire, idol, definitely, que, death, anime, felt, clannad, bad, different\n",
      "Topic 65: idol, watched, fight, angel, bad, song, beat, thing, group, mystery\n",
      "Topic 66: vampire, gintama, thing, beautiful, cute, fan, bad, quite, bleach, review\n",
      "Topic 67: gintama, fun, hero, scene, watched, amazing, original, felt, music, friend\n",
      "Topic 68: enjoy, quite, want, felt, mob, comedy, recommend, thing, original, psycho\n",
      "Topic 69: vampire, piece, felt, watched, novel, fun, quite, filler, bleach, anime\n",
      "Topic 70: better, gintama, bebop, cowboy, moment, funny, cute, hunter, mystery, goblin\n",
      "Topic 71: ecchi, gintama, original, half, felt, bleach, cute, mystery, brotherhood, different\n",
      "Topic 72: mob, little, watched, bit, psycho, boring, song, subaru, felt, idol\n",
      "Topic 73: nice, madoka, magical, subaru, watched, enjoy, power, fun, relationship, actually\n",
      "Topic 74: watched, nice, vampire, isekai, original, bebop, work, cowboy, sound, interesting\n",
      "Topic 75: angel, new, guy, beat, development, gintama, ecchi, music, goblin, anime\n",
      "Topic 76: angel, beat, better, thing, drama, hero, style, funny, kind, song\n",
      "Topic 77: anime, fun, development, beautiful, better, loved, actually, quite, comedy, got\n",
      "Topic 78: anime, moment, nice, drama, want, mob, year, bebop, little, old\n",
      "Topic 79: subaru, loved, goblin, want, fight, nice, slice, fantasy, zero, bebop\n",
      "Topic 80: definitely, bebop, bit, cowboy, relationship, boring, protagonist, perfect, horror, battle\n",
      "Topic 81: want, better, protagonist, cute, new, make, sound, piece, female, friend\n",
      "Topic 82: going, start, mob, best, cute, bad, seen, funny, felt, madoka\n",
      "Topic 83: ecchi, want, style, development, quite, nice, unique, loved, demon, work\n",
      "Topic 84: piece, friend, unique, ecchi, mob, slice, scene, bebop, point, gundam\n",
      "Topic 85: enjoy, cute, new, bit, didnt, harem, interesting, scene, theme, want\n",
      "Topic 86: kind, development, idol, want, actually, style, little, piece, unique, loved\n",
      "Topic 87: definitely, goblin, protagonist, little, song, felt, comedy, moment, looking, slayer\n",
      "Topic 88: bit, anime, want, moment, going, liked, loved, mob, monster, drama\n",
      "Topic 89: loved, point, enjoyable, goblin, friend, didnt, thats, start, real, feel\n",
      "Topic 90: look, loved, nice, enjoy, better, favorite, probably, comedy, shounen, piece\n",
      "Topic 91: nice, want, actually, haruhi, got, liked, power, best, make, theme\n",
      "Topic 92: work, power, start, different, brotherhood, piece, loved, kinda, comedy, definitely\n",
      "Topic 93: guy, better, friend, development, understand, loved, style, moment, bleach, half\n",
      "Topic 94: thought, recommend, drama, piece, new, theme, song, little, enjoyed, going\n",
      "Topic 95: protagonist, going, kinda, voice, bleach, bit, thought, new, best, enjoyed\n",
      "Topic 96: guy, point, song, haruhi, style, interesting, protagonist, actually, action, theme\n",
      "Topic 97: point, guy, seen, thought, beautiful, want, unique, different, cute, comedy\n",
      "Topic 98: got, drama, nice, season, point, pokemon, start, recommend, real, horror\n",
      "Topic 99: kind, liked, time, original, digimon, kid, real, enjoyable, far, op\n",
      "Topic 100: going, make, quite, definitely, little, understand, time, kinda, friend, jojo\n",
      "\n",
      "==================================================\n",
      "\n"
     ]
    }
   ],
   "source": [
    "# Display the top words for each topic\n",
    "terms = tfidf_vectorizer.get_feature_names_out()\n",
    "print(\"Top words for each LSA Topic:\")\n",
    "for i, comp in enumerate(lsa_model.components_):\n",
    "    terms_in_comp = [(terms[j], comp[j]) for j in comp.argsort()[-10:][::-1]]\n",
    "    print(f\"Topic {i+1}: {', '.join([t[0] for t in terms_in_comp])}\")\n",
    "print(\"\\n\" + \"=\"*50 + \"\\n\")"
   ]
  },
  {
   "cell_type": "markdown",
   "id": "fc5b3886",
   "metadata": {},
   "source": [
    "##### Relevance Consistency Check and Similarity Distribution Plot"
   ]
  },
  {
   "cell_type": "code",
   "execution_count": 170,
   "id": "26125e5e",
   "metadata": {},
   "outputs": [],
   "source": [
    "def recommend_from_query_text(query_text, df_items, tfidf_vec, tfidf_matrix, lsa_model, num_recommendations=5):\n",
    "    processed_query = preprocess(query_text)\n",
    "    query_tfidf = tfidf_vec.transform([processed_query])\n",
    "    query_lsa = lsa_model.transform(query_tfidf)\n",
    "\n",
    "    similarities = cosine_similarity(query_lsa, lsa_model.transform(tfidf_matrix)).flatten()\n",
    "\n",
    "    plt.hist(similarities, bins=50)\n",
    "    plt.title(\"Similarity Score Distribution\")\n",
    "    plt.xlabel(\"Cosine Similarity\")\n",
    "    plt.ylabel(\"Frequency\")\n",
    "    plt.show()\n",
    "\n",
    "    top_indices = similarities.argsort()[-num_recommendations:][::-1]\n",
    "\n",
    "    recommended_items = df_items.iloc[top_indices]\n",
    "    recommended_items['similarity_score'] = similarities[top_indices]\n",
    "\n",
    "    return recommended_items[['anime_id', 'review', \"processed_review\", 'similarity_score']]"
   ]
  },
  {
   "cell_type": "code",
   "execution_count": 145,
   "id": "ba0e2fc5",
   "metadata": {},
   "outputs": [],
   "source": [
    "# load anime df\n",
    "anime_df = pd.read_csv(\"E:\\\\applied data science capstone\\\\data\\\\combined\\\\anime-for-db-27-Jun\\\\anime_list_27_Jun.csv\")"
   ]
  },
  {
   "cell_type": "code",
   "execution_count": 197,
   "id": "ed5700c2",
   "metadata": {},
   "outputs": [],
   "source": [
    "# sample queries\n",
    "query_1 = \"action packed series about super powers\"\n",
    "query_2 = \"romantic comedy about a high school couple\"\n",
    "query_3 = \"a young boy pursuing his dream of playing sports\"\n",
    "query_4 = \"people get trapped in a game they were playing\"\n",
    "query_5 = \"science made to be fun and easy to learn\"\n",
    "query_6 = \"cute girls doing cute stuff\"\n",
    "query_7 = \"fast cars pulling off crazy stunts\"\n",
    "query_8 = \"a whole lot of guns and shooting\"\n",
    "query_9 = \"germophobe navigating life\"\n",
    "query_10 = \"pop idols entertaining their fans\""
   ]
  },
  {
   "cell_type": "markdown",
   "id": "ad528ea4",
   "metadata": {},
   "source": [
    "1. action packed series about super powers"
   ]
  },
  {
   "cell_type": "code",
   "execution_count": 179,
   "id": "3c1b2614",
   "metadata": {},
   "outputs": [
    {
     "data": {
      "image/png": "[encoded data removed]",
      "text/plain": [
       "<Figure size 640x480 with 1 Axes>"
      ]
     },
     "metadata": {},
     "output_type": "display_data"
    },
    {
     "name": "stderr",
     "output_type": "stream",
     "text": [
      "C:\\Users\\Asus-Home\\AppData\\Local\\Temp\\ipykernel_20432\\122375758.py:17: SettingWithCopyWarning: \n",
      "A value is trying to be set on a copy of a slice from a DataFrame.\n",
      "Try using .loc[row_indexer,col_indexer] = value instead\n",
      "\n",
      "See the caveats in the documentation: https://pandas.pydata.org/pandas-docs/stable/user_guide/indexing.html#returning-a-view-versus-a-copy\n",
      "  recommended_items['similarity_score'] = similarities[top_indices]\n"
     ]
    }
   ],
   "source": [
    "recommendations_new_query = recommend_from_query_text(query_1, df, tfidf_vectorizer, tfidf_matrix, lsa_model, num_recommendations=10)"
   ]
  },
  {
   "cell_type": "code",
   "execution_count": 180,
   "id": "1304538c",
   "metadata": {},
   "outputs": [
    {
     "data": {
      "application/vnd.microsoft.datawrangler.viewer.v0+json": {
       "columns": [
        {
         "name": "index",
         "rawType": "int64",
         "type": "integer"
        },
        {
         "name": "anime_id",
         "rawType": "int64",
         "type": "integer"
        },
        {
         "name": "review",
         "rawType": "object",
         "type": "string"
        },
        {
         "name": "processed_review",
         "rawType": "object",
         "type": "string"
        },
        {
         "name": "similarity_score",
         "rawType": "float64",
         "type": "float"
        }
       ],
       "ref": "1738bf3c-9e3a-44b6-bd4e-7205cf0ce384",
       "rows": [
        [
         "410",
         "6",
         "Without spoiling anything, I'll just say that this show will probably surprise you if you go in blind. Vash is one of the greatest anime characters of all time. There are other\nimportant characters, but the show is really all about Vash. Watching his journey, his struggles, and the lengths he will go to maintain his values. Do not go in expecting this to\nbe a die-hard action anime. While there is action, more time is usually spent on setting up the scene and character motivations or plans than just a bunch of action. This is a good\nthing. Some of the villains are your basicselfish money/power hungry types, but there are several enemies that are flushed out more than you might expect.",
         "without spoiling anything probably surprise go blind vash greatest important vash journey struggle length go maintain value go expecting die hard action action usually spent\nsetting scene motivation plan bunch action thing villain basicselfish money power hungry type several enemy flushed might expect",
         "0.7710556683160088"
        ],
        [
         "175042",
         "40748",
         "i've watched this anime twice and i'll still re watch it. it's just so good , the plot and the characters. every episode is full of action and entertaining. this anime contains\ncomedy , action, super natural powers, literally everything. story is so good , unique and i don't want to spoil it for you, but GOJO is DADDY plot is nice and i'm just waiting for\ngojo vs sukuna sukuna is the evil villian here who was once a human but now is the king of curses, and gojo satoru is the strongest and most handsome sorcerer ITS TOTALLY WORTH\nWATCHING!if you are into action with good plot and strong characters then jujutsu kaisen is totally recommended",
         "watched twice every full action entertaining contains comedy action super natural power literally everything unique want spoil gojo daddy nice waiting gojo v sukuna sukuna evil\nvillian human king curse gojo satoru strongest handsome sorcerer totally worth action strong jujutsu kaisen totally recommended",
         "0.7620905250914407"
        ],
        [
         "88567",
         "16512",
         "I am in love with this anime at the moment! The use of supernatural powers and the characters who are so easy to fall in love with. The story line is like a breath of fresh air and\nits not too difficult to follow as the events unfold. To begin with i assumed it would be yet another predictable anime but as each episode is aired something unexpected turns out.\nThere is a strong theme of power and hierarchy, although it is not overwhelming as it has the portrayal that the power would be easily taken away. This anime is one that you\ncanfall into, you lose yourself in the story and it's not very often that an anime can actually do that for me. As the anime spans out over seven days it is very short but not\nlacking when it comes to action, not only that but the feeling of self sacrifice is almost overpowering, but it is a brilliant anime. I recommend this to anybody who enjoys action\npacked animes.",
         "moment use supernatural power easy fall line breath fresh air difficult follow event unfold begin assumed yet another predictable aired unexpected turn strong theme power hierarchy\nalthough overwhelming portrayal power easily taken away canfall lose often actually span seven day short lacking come action feeling self sacrifice almost overpowering brilliant\nrecommend anybody enjoys action packed anime",
         "0.7427535367943898"
        ],
        [
         "46429",
         "4334",
         "Ever thought of watching anime + marvel at the same time? Collaboration with Stan Lee and Studio Bones. Well here we have it. Heroman One of the most anticipated anime series of\n2010 and will probably be one of the best anime series of this year. Just from watching the first episode, you get a slice of everything from action, drama and thrill. This anime\nseries is packed with back to back action, which will surely make you hungry for more.Story - 9/10  This story goes away from your typical action animes. Since this is a\ncollaboration with Stan lee, the story will just go so far in 2010. In this anime, a boy, who has no super powers, suddenly gets thrown into a world of adventure and action. From\nthere, we'll just see what happens right?  Character - 9/10  The characters in this story are brilliant.   Art - 10/10  Marvel + Anime = Pure awesomeness.",
         "ever thought marvel collaboration stan lee studio bone heroman anticipated probably best year slice everything action drama thrill packed back back action surely hungry go away\ntypical action anime since collaboration stan lee go far boy super power suddenly get thrown adventure action happens right brilliant marvel pure awesomeness",
         "0.7206539413352632"
        ],
        [
         "108021",
         "25777",
         "Every time I watch an episode of this series I cant look away. I get to captivated by the show and loose myself in it. I basically block out any surrounding noise and focus on the\none episode I'm watching. this is the reason I give this show a ten. It is just a great show with so many surprising twist and gets your blood boiling. If you love action packed\ncaptivating violence with raw power I recommend this show to you. Have a wonderful time sitting at your screen for the next six hours or so watching this masterpiece of a show.",
         "every cant look away captivated loose basically block surrounding noise focus reason give ten surprising twist get blood boiling action packed captivating violence raw power\nrecommend wonderful sitting screen next six hour masterpiece",
         "0.6984704156121959"
        ]
       ],
       "shape": {
        "columns": 4,
        "rows": 5
       }
      },
      "text/html": [
       "<div>\n",
       "<style scoped>\n",
       "    .dataframe tbody tr th:only-of-type {\n",
       "        vertical-align: middle;\n",
       "    }\n",
       "\n",
       "    .dataframe tbody tr th {\n",
       "        vertical-align: top;\n",
       "    }\n",
       "\n",
       "    .dataframe thead th {\n",
       "        text-align: right;\n",
       "    }\n",
       "</style>\n",
       "<table border=\"1\" class=\"dataframe\">\n",
       "  <thead>\n",
       "    <tr style=\"text-align: right;\">\n",
       "      <th></th>\n",
       "      <th>anime_id</th>\n",
       "      <th>review</th>\n",
       "      <th>processed_review</th>\n",
       "      <th>similarity_score</th>\n",
       "    </tr>\n",
       "  </thead>\n",
       "  <tbody>\n",
       "    <tr>\n",
       "      <th>410</th>\n",
       "      <td>6</td>\n",
       "      <td>Without spoiling anything, I'll just say that ...</td>\n",
       "      <td>without spoiling anything probably surprise go...</td>\n",
       "      <td>0.771056</td>\n",
       "    </tr>\n",
       "    <tr>\n",
       "      <th>175042</th>\n",
       "      <td>40748</td>\n",
       "      <td>i've watched this anime twice and i'll still r...</td>\n",
       "      <td>watched twice every full action entertaining c...</td>\n",
       "      <td>0.762091</td>\n",
       "    </tr>\n",
       "    <tr>\n",
       "      <th>88567</th>\n",
       "      <td>16512</td>\n",
       "      <td>I am in love with this anime at the moment! Th...</td>\n",
       "      <td>moment use supernatural power easy fall line b...</td>\n",
       "      <td>0.742754</td>\n",
       "    </tr>\n",
       "    <tr>\n",
       "      <th>46429</th>\n",
       "      <td>4334</td>\n",
       "      <td>Ever thought of watching anime + marvel at the...</td>\n",
       "      <td>ever thought marvel collaboration stan lee stu...</td>\n",
       "      <td>0.720654</td>\n",
       "    </tr>\n",
       "    <tr>\n",
       "      <th>108021</th>\n",
       "      <td>25777</td>\n",
       "      <td>Every time I watch an episode of this series I...</td>\n",
       "      <td>every cant look away captivated loose basicall...</td>\n",
       "      <td>0.698470</td>\n",
       "    </tr>\n",
       "  </tbody>\n",
       "</table>\n",
       "</div>"
      ],
      "text/plain": [
       "        anime_id                                             review  \\\n",
       "410            6  Without spoiling anything, I'll just say that ...   \n",
       "175042     40748  i've watched this anime twice and i'll still r...   \n",
       "88567      16512  I am in love with this anime at the moment! Th...   \n",
       "46429       4334  Ever thought of watching anime + marvel at the...   \n",
       "108021     25777  Every time I watch an episode of this series I...   \n",
       "\n",
       "                                         processed_review  similarity_score  \n",
       "410     without spoiling anything probably surprise go...          0.771056  \n",
       "175042  watched twice every full action entertaining c...          0.762091  \n",
       "88567   moment use supernatural power easy fall line b...          0.742754  \n",
       "46429   ever thought marvel collaboration stan lee stu...          0.720654  \n",
       "108021  every cant look away captivated loose basicall...          0.698470  "
      ]
     },
     "execution_count": 180,
     "metadata": {},
     "output_type": "execute_result"
    }
   ],
   "source": [
    "recommendations_new_query.head()"
   ]
  },
  {
   "cell_type": "code",
   "execution_count": 181,
   "id": "a3b4f523",
   "metadata": {},
   "outputs": [
    {
     "data": {
      "application/vnd.microsoft.datawrangler.viewer.v0+json": {
       "columns": [
        {
         "name": "index",
         "rawType": "int64",
         "type": "integer"
        },
        {
         "name": "anime_id",
         "rawType": "int64",
         "type": "integer"
        },
        {
         "name": "title",
         "rawType": "object",
         "type": "string"
        },
        {
         "name": "synopsis",
         "rawType": "object",
         "type": "string"
        }
       ],
       "ref": "8af2b090-7ce7-4027-990c-635005c80132",
       "rows": [
        [
         "2",
         "6",
         "Trigun",
         "Vash the Stampede is the man with a $$60,000,000,000 bounty on his head. The reason: he's a merciless villain who lays waste to all those that oppose him and flattens entire cities for fun, garnering him the title \"The Humanoid Typhoon.\" He leaves a trail of death and destruction wherever he goes, and anyone can count themselves dead if they so much as make eye contact—or so the rumors say. In actuality, Vash is a huge softie who claims to have never taken a life and avoids violence at all costs. With his crazy doughnut obsession and buffoonish attitude in tow, Vash traverses the wasteland of the planet Gunsmoke, all the while followed by two insurance agents, Meryl Stryfe and Milly Thompson, who attempt to minimize his impact on the public. But soon, their misadventures evolve into life-or-death situations as a group of legendary assassins are summoned to bring about suffering to the trio. Vash's agonizing past will be unraveled and his morality and principles pushed to the breaking point."
        ],
        [
         "46",
         "68",
         "Black Cat",
         "Completing every job with ruthless accuracy, Train Heartnet is an infamous assassin with no regard for human life. Donning the moniker \"Black Cat\" in the underground world, the elite killer works for the powerful secret organization known only as Chronos. One gloomy night, the blasé gunman stumbles upon Saya Minatsuki, an enigmatic bounty hunter, and soon develops an odd friendship with her. Influenced by Saya's positive outlook on life, Train begins to rethink his life. Deciding to abandon his role as the Black Cat, he instead opts to head down a virtuous path as an honest bounty hunter. However, Chronos—and particularly Creed Diskenth, Train's possessive underling—is not impressed with Train's sudden change of heart and vows to resort to extreme measures in order to bring back the emissary of bad luck. This assassin turned \"stray cat\" can only wander so far before the deafening sound of gunfire rings out."
        ],
        [
         "599",
         "957",
         "The Story of Saiunkoku",
         "Shuurei Kou, the daughter of a noble yet impoverished family, is a clever young lady who dreams of becoming a government official and contributing toward her country. However, her dream is out of her reach as such a position is forbidden to women. While her father works a low wage job as an archivist at the palace, Shuurei has to juggle odd jobs to make ends meet. Then, one day, an unexpected visit changes her life. Shuurei is called to assist Ryuuki Shi, the new emperor who is known for slacking on his duties and preferring the company of men. Tempted by the generous compensation, she readily accepts the chance to become the young emperor's consort for six months. Luckily, she is not alone as Seiran Shi, her trusty friend, joins her as Ryuuki's bodyguard. While tasked with transforming the new emperor into a responsible ruler, court life and politics prove troublesome as Shuurei faces the challenges of her new life. Set in a fictional country, Saiunkoku Monogatari centers on the idea of meaningful leadership, its adversities and the rewards that come alongside a prospering nation."
        ],
        [
         "1029",
         "1914",
         "Tales of Saiunkoku",
         "Shuurei Kou and her friend Eigetsu To, a boy prodigy of humble origins, have been appointed co-governors of the Sa province, one of the eight provinces in Saiunkoku. Together, they decide to make the province an academic research center in the hopes of bringing a long overdue prosperity to the region. However, while Shuurei goes to the capital to obtain approvals for the ambitious project, the Sa province's recently established tranquility is threatened by a pandemic that brings both death and turmoil as it begins to spread among the people. Counting on Eigetsu to monitor the situation until her return, Shuurei seeks support from her allies to find a suitable treatment. Yet, Eigetsu's past personal conflicts distract him, providing an opportunity for opponents of Shuurei's position to take advantage of the troubles and undermine her authority. Becoming a government official has been Shuurei's lifelong dream, but it is no easy task for the first woman undertaking such a position. Will she step up and overcome this great challenge or give in to the looming adversities?"
        ],
        [
         "1693",
         "3615",
         "Neo Angelique Abyss",
         "hile the young Angelique lives out her days peacefully in her school, attacks from the monstrous Thanatos has been increasing everywhere else. Two Purifiers show up one day, men with the power to exterminate the Thanatos. One of them, Nyx, attempts to convince Angelique to join them in their work, as she has the power to be the only female Purifier. As Angelique hesitates, a Thanatos shows up in their school. Nyx and the other Purifier, Rayne, fight a losing battle. With her classmates falling prey to the Thanatos, and the Purifiers beaten to submission, Angelique's desire to save everyone awakens. She became the only female Purifier in their land of Arcadia, the one known as the \"Queen's Egg\"."
        ],
        [
         "1883",
         "4334",
         "Heroman",
         "In California's Center City, shy but kindhearted Joseph Carter \"Joey\" Jones lives with his grandmother, working in a coffee shop. Though his family is financially burdened and he is bullied at school, he remains cheerful. A robotics enthusiast, he wants a top-of-the-line toy robot called a Heybo more than anything. One day Joey and his friend Simon \"Psy\" Kaina come across a destroyed Heybo discarded by a group of rich kids. He takes it home and repairs it himself, excitedly naming it Heroman. However, one night Heroman is struck by lightning and comes to life, growing several times its size in the process. That same night Center City is attacked by aliens called Skrugg whose attention was brought to Earth after Joey's acquaintance Professor Matthew Denton made attempts to contact them. Along with Joey, Heroman quickly heads to the scene of the attack, where he finds people in trouble, including his friend Lina Davis and her father. Using an arm-mounted controller, Joey is able to command Heroman to use superpowers to fight off the Skrugg and rescue civilians. As the aliens continue their invasion of Earth, the duo are the only ones separating humanity and destruction."
        ],
        [
         "3270",
         "16512",
         "Devil Survivor 2 The Animation",
         "The countdown to extinction begins on Sunday with the arrival of the Septentriones, otherworldly invaders set on the eradication of mankind. Caught in the crossfire, Hibiki Kuze and his friends join in the war for humanity's survival by signing contracts with demons to become \"Devil Summoners.\" Soon, their abilities attract the attention of JP's, an underground agency led by Yamato Houtsuin. Once recruited into JP's, Hibiki and his friends fight and bond alongside other ordinary citizens who are Devil Summoners. However, with each new day, another Septentrione appears to wreak havoc upon Japan. Even if many lives are lost in the process, before that night ends, the young summoners must defeat the invaders at all costs."
        ],
        [
         "3876",
         "25777",
         "Attack on Titan Season 2",
         "For centuries, humanity has been hunted by giant, mysterious predators known as the Titans. Three mighty walls—Wall Maria, Rose, and Sheena—provided peace and protection for humanity for over a hundred years. That peace, however, was shattered when the Colossus Titan and Armored Titan appeared and destroyed the outermost wall, Wall Maria. Forced to retreat behind Wall Rose, humanity waited with bated breath for the Titans to reappear and destroy their safe haven once more. In Shingeki no Kyojin Season 2 , Eren Yeager and others of the 104th Training Corps have just begun to become full members of the Survey Corps. As they ready themselves to face the Titans once again, their preparations are interrupted by the invasion of Wall Rose—but all is not as it seems as more mysteries are unraveled. As the Survey Corps races to save the wall, they uncover more about the invading Titans and the dark secrets of their own members."
        ],
        [
         "4602",
         "34542",
         "Inuyashiki: Last Hero",
         "Ichirou Inuyashiki is a 58-year-old family man who is going through a difficult time in his life. Though his frequent back problems are painful, nothing hurts quite as much as the indifference and distaste that his wife and children have for him. Despite this, Ichirou still manages to find solace in Hanako, an abandoned Shiba Inu that he adopts into his home. However, his life takes a turn for the worse when a follow-up physical examination reveals that Ichirou has stomach cancer and only three months to live; though he tries to be strong, his family's disinterest causes an emotional breakdown. Running off into a nearby field, Ichirou embraces his dog and weeps—until he notices a strange figure standing before him. Suddenly, a bright light appears and Ichirou is enveloped by smoke and dust. When he comes to, he discovers something is amiss—he has been reborn as a mechanized weapon wearing the skin of his former self. Though initially shocked, the compassionate Ichirou immediately uses his newfound powers to save a life, an act of kindness that fills him with happiness and newfound hope. However, the origins of these strange powers remain unclear. Who was the mysterious figure at the site of the explosion, and are they as kind as Ichirou when it comes to using this dangerous gift?"
        ],
        [
         "5419",
         "40748",
         "Jujutsu Kaisen",
         "Idly indulging in baseless paranormal activities with the Occult Club, high schooler Yuuji Itadori spends his days at either the clubroom or the hospital, where he visits his bedridden grandfather. However, this leisurely lifestyle soon takes a turn for the strange when he unknowingly encounters a cursed item. Triggering a chain of supernatural occurrences, Yuuji finds himself suddenly thrust into the world of Curses—dreadful beings formed from human malice and negativity—after swallowing the said item, revealed to be a finger belonging to the demon Sukuna Ryoumen, the \"King of Curses.\" Yuuji experiences first-hand the threat these Curses pose to society as he discovers his own newfound powers. Introduced to the Tokyo Metropolitan Jujutsu Technical High School, he begins to walk down a path from which he cannot return—the path of a Jujutsu sorcerer."
        ]
       ],
       "shape": {
        "columns": 3,
        "rows": 10
       }
      },
      "text/html": [
       "<div>\n",
       "<style scoped>\n",
       "    .dataframe tbody tr th:only-of-type {\n",
       "        vertical-align: middle;\n",
       "    }\n",
       "\n",
       "    .dataframe tbody tr th {\n",
       "        vertical-align: top;\n",
       "    }\n",
       "\n",
       "    .dataframe thead th {\n",
       "        text-align: right;\n",
       "    }\n",
       "</style>\n",
       "<table border=\"1\" class=\"dataframe\">\n",
       "  <thead>\n",
       "    <tr style=\"text-align: right;\">\n",
       "      <th></th>\n",
       "      <th>anime_id</th>\n",
       "      <th>title</th>\n",
       "      <th>synopsis</th>\n",
       "    </tr>\n",
       "  </thead>\n",
       "  <tbody>\n",
       "    <tr>\n",
       "      <th>2</th>\n",
       "      <td>6</td>\n",
       "      <td>Trigun</td>\n",
       "      <td>Vash the Stampede is the man with a $$60,000,0...</td>\n",
       "    </tr>\n",
       "    <tr>\n",
       "      <th>46</th>\n",
       "      <td>68</td>\n",
       "      <td>Black Cat</td>\n",
       "      <td>Completing every job with ruthless accuracy, T...</td>\n",
       "    </tr>\n",
       "    <tr>\n",
       "      <th>599</th>\n",
       "      <td>957</td>\n",
       "      <td>The Story of Saiunkoku</td>\n",
       "      <td>Shuurei Kou, the daughter of a noble yet impov...</td>\n",
       "    </tr>\n",
       "    <tr>\n",
       "      <th>1029</th>\n",
       "      <td>1914</td>\n",
       "      <td>Tales of Saiunkoku</td>\n",
       "      <td>Shuurei Kou and her friend Eigetsu To, a boy p...</td>\n",
       "    </tr>\n",
       "    <tr>\n",
       "      <th>1693</th>\n",
       "      <td>3615</td>\n",
       "      <td>Neo Angelique Abyss</td>\n",
       "      <td>hile the young Angelique lives out her days pe...</td>\n",
       "    </tr>\n",
       "    <tr>\n",
       "      <th>1883</th>\n",
       "      <td>4334</td>\n",
       "      <td>Heroman</td>\n",
       "      <td>In California's Center City, shy but kindheart...</td>\n",
       "    </tr>\n",
       "    <tr>\n",
       "      <th>3270</th>\n",
       "      <td>16512</td>\n",
       "      <td>Devil Survivor 2 The Animation</td>\n",
       "      <td>The countdown to extinction begins on Sunday w...</td>\n",
       "    </tr>\n",
       "    <tr>\n",
       "      <th>3876</th>\n",
       "      <td>25777</td>\n",
       "      <td>Attack on Titan Season 2</td>\n",
       "      <td>For centuries, humanity has been hunted by gia...</td>\n",
       "    </tr>\n",
       "    <tr>\n",
       "      <th>4602</th>\n",
       "      <td>34542</td>\n",
       "      <td>Inuyashiki: Last Hero</td>\n",
       "      <td>Ichirou Inuyashiki is a 58-year-old family man...</td>\n",
       "    </tr>\n",
       "    <tr>\n",
       "      <th>5419</th>\n",
       "      <td>40748</td>\n",
       "      <td>Jujutsu Kaisen</td>\n",
       "      <td>Idly indulging in baseless paranormal activiti...</td>\n",
       "    </tr>\n",
       "  </tbody>\n",
       "</table>\n",
       "</div>"
      ],
      "text/plain": [
       "      anime_id                           title  \\\n",
       "2            6                          Trigun   \n",
       "46          68                       Black Cat   \n",
       "599        957          The Story of Saiunkoku   \n",
       "1029      1914              Tales of Saiunkoku   \n",
       "1693      3615             Neo Angelique Abyss   \n",
       "1883      4334                         Heroman   \n",
       "3270     16512  Devil Survivor 2 The Animation   \n",
       "3876     25777        Attack on Titan Season 2   \n",
       "4602     34542           Inuyashiki: Last Hero   \n",
       "5419     40748                  Jujutsu Kaisen   \n",
       "\n",
       "                                               synopsis  \n",
       "2     Vash the Stampede is the man with a $$60,000,0...  \n",
       "46    Completing every job with ruthless accuracy, T...  \n",
       "599   Shuurei Kou, the daughter of a noble yet impov...  \n",
       "1029  Shuurei Kou and her friend Eigetsu To, a boy p...  \n",
       "1693  hile the young Angelique lives out her days pe...  \n",
       "1883  In California's Center City, shy but kindheart...  \n",
       "3270  The countdown to extinction begins on Sunday w...  \n",
       "3876  For centuries, humanity has been hunted by gia...  \n",
       "4602  Ichirou Inuyashiki is a 58-year-old family man...  \n",
       "5419  Idly indulging in baseless paranormal activiti...  "
      ]
     },
     "execution_count": 181,
     "metadata": {},
     "output_type": "execute_result"
    }
   ],
   "source": [
    "recommendation_ids = set(recommendations_new_query[\"anime_id\"].unique())\n",
    "anime_df.loc[anime_df[\"anime_id\"].isin(recommendation_ids), [\"anime_id\", \"title\", \"synopsis\"]]"
   ]
  },
  {
   "cell_type": "markdown",
   "id": "70fad6c0",
   "metadata": {},
   "source": [
    "2. romantic comedy about a high school couple"
   ]
  },
  {
   "cell_type": "code",
   "execution_count": 182,
   "id": "288cc27e",
   "metadata": {},
   "outputs": [
    {
     "data": {
      "image/png": "[encoded data removed]",
      "text/plain": [
       "<Figure size 640x480 with 1 Axes>"
      ]
     },
     "metadata": {},
     "output_type": "display_data"
    },
    {
     "name": "stderr",
     "output_type": "stream",
     "text": [
      "C:\\Users\\Asus-Home\\AppData\\Local\\Temp\\ipykernel_20432\\122375758.py:17: SettingWithCopyWarning: \n",
      "A value is trying to be set on a copy of a slice from a DataFrame.\n",
      "Try using .loc[row_indexer,col_indexer] = value instead\n",
      "\n",
      "See the caveats in the documentation: https://pandas.pydata.org/pandas-docs/stable/user_guide/indexing.html#returning-a-view-versus-a-copy\n",
      "  recommended_items['similarity_score'] = similarities[top_indices]\n"
     ]
    }
   ],
   "source": [
    "recommendations_new_query = recommend_from_query_text(query_2, df, tfidf_vectorizer, tfidf_matrix, lsa_model, num_recommendations=10)"
   ]
  },
  {
   "cell_type": "code",
   "execution_count": 183,
   "id": "1c1071d5",
   "metadata": {},
   "outputs": [
    {
     "data": {
      "application/vnd.microsoft.datawrangler.viewer.v0+json": {
       "columns": [
        {
         "name": "index",
         "rawType": "int64",
         "type": "integer"
        },
        {
         "name": "anime_id",
         "rawType": "int64",
         "type": "integer"
        },
        {
         "name": "review",
         "rawType": "object",
         "type": "string"
        },
        {
         "name": "processed_review",
         "rawType": "object",
         "type": "string"
        },
        {
         "name": "similarity_score",
         "rawType": "float64",
         "type": "float"
        }
       ],
       "ref": "3353b78e-04b8-4988-b2bb-be1b4c401c3a",
       "rows": [
        [
         "5932",
         "66",
         "Well despite that Azumanga Daioh is about a story of friends in their attempt to make their daily life at school fun with their annoying teacher it has been one of the best school\ncomedies produced. Though there is no story or plot behind the anime, the randomness that it creates along with it's whimsical comedy leaves a feeling of wanting to watch more! If\nyou're into comedies and high school girls, I highly suggest that you watch this anime.",
         "despite azumanga daioh friend attempt daily school fun annoying teacher best school comedy produced though behind randomness creates along whimsical comedy leaf feeling wanting\ncomedy high school girl highly suggest",
         "0.8779072364270486"
        ],
        [
         "2101",
         "24",
         "If you're looking for a documentary to sate your curiosity about the obscure phenomenon of rumbling schools, look elsewhere. Unfortunately, School Rumble is NOT a show about a\nschool that rumbles. Thankfully, it's a damn good romantic comedy that's actually funny! Don't let the word \"romantic\" fool you into thinking that it'll be anything like Clannad or\nChu2 either. There's no annoying melodrama to be found anywhere, no teenage angst to put a damper on your good mood, or any of that bullshit. There's also no overarching story that\nforces you to sit through every episode either. This is the kind of show that youcan sit down and enjoy with your friends whilst laughing your asses off and eating some pizza (even\nif they're not into anime), and that's the kind of show I just love to watch!  In terms of story, School Rumble is the anime equivalent of a late-90s Cartoon Network show like\nDexter's Laboratory, Johnny Bravo, Ed, Edd n Eddy, or The Powerpuff Girls: there's no overarching plot, it's mostly episodic, and nothing of significance happens by the time the\nseason's over. Whereas most romantic comedies to come out in recent years focus more on the romance, School Rumble just tries to make you laugh and if my results are anything to go\nby, I'm sure you'll get more than just a quiet chuckle every now and then. Then again, comedy is purely subjective and I know damn well there some popular comedies that failed to\nmake me laugh even once (cough cough The Big Bang Theory cough cough) but let's not open up that can of worms right now.  Keeping in line with that late-90s Cartoon Network comedy\nfeel, every episode of School Rumble is told in three 7-minute long segments that have next-to-nothing to do with each other. Each segment tackles a simple dilemma that one (or\nboth) of our airheads in love will have to put up with like Harima trying to sit next to Tenma during the school field trip or Tenma trying to sketch Kurasama during art class. I\ncan safely say that this approach worked incredibly well to School Rumble's favour. The concept of each segment is incredibly simple, which makes room for a lot of jokes to be told\nand the segment's just short enough to prevent that concept from getting stale and repetitive. Another upside to this is the fact that you don't have to sit through the entire\nepisode either. I mean, I like to watch segments from episodes of School Rumble on my phone when I'm on the bus to class and by the time the segment's over, the bus is already at\nthe college.  Really, the only complaint I have with the show is that I can't really sit down and watch more than 1-2 whole episodes at a time but that's basically the way I am\nwith comedy shows in general. Whilst I have no problem with comedy, I enjoy shows that have much more to offer than the comedy alone. If I was given the choice to watch an episode\nof GTO or an episode of School Rumble, I'd probably go with the former since GTO has a lot more to it than just the comedy. But then again, everyone's different so maybe you might\nbe the kind of person who can just sit down and marathon 12 episodes in one sitting.  If you're expecting multi-faceted individuals that parallel the kind of questionable morality\nthat real humans tend to have, look elsewhere. School Rumble's characters aren't compelling individuals in the slightest, nor do they undergo any significant change throughout the\ncourse of the series. You know what? That's okay! I mean, Dexter's Laboratory, Johnny Bravo, and The Powerpuff Girls had static characters and yet people love the everliving Christ\nout of those shows. This doesn't mean that the characters in School Rumble are terrible. In fact, they're far from it. Tenma and Harima are quite possibly some of the most\nendearing and hilarious airheads in all of comedy anime. If School Rumble ever took itself a little more seriously, you'd bet your sweet ass I'd be shipping the hell out of those\ntwo (oh fuck it, I still do!). All of the supporting characters play off of Tenma and Harima exceptionally well too. I never get tired of Tenma's friends and their reactions to her\nlatest scheme to end up with Kurasama. Speaking of Kurasama... there isn't much I really can say about him except he reminds me of Octavius Rex from that episode of Spongebob where\nSpongebob takes Pearl to prom.  There isn't a lot I can really say about School Rumble beyond the fact that it's funny. I mean, the jokes are well-timed and they actually work, the\nEnglish dub is some of Funimation's best work to date (especially given that we have amazing voice actors like Her Highness Lucy Christian as Tenma and Brandon Potter as Harima),\nbut that's basically it. Sure, I can go on and talk about the artwork, the animation, and the soundtrack but I'm pretty sure most people don't go into a comedy show for the\npinnacle of audio-visual quality.   Overall, I give School Rumble an 8/10. It's not the epitome of comedy gold like Gintama apparently is, but it's still pretty damn funny! If\nyou're in the mood for a comedy show that you can watch with your friends and have a damn good time watching it, this show fits the bill and then some. I mean, you don't even need\nto know anything about Japanese culture to even understand the jokes in the first place and there isn't much in the way of fan service or juvenile humour at that. This is something\nyou can actually watch with your family provided that they're willing to give it a shot. Unless you have some sort of long-standing visceral hatred of romantic comedies (or\ncomedies in general), there's no reason why you shouldn't give this show a chance. Anyway, that's it for this review. Feedback is always welcome and with that, I'm out. Peace :)\n***  Since I haven't done any alternate recommendations in a while, here are a few shows you should check out if you're in the mood for something like School Rumble: - Ouran HSHC\n(the English dub is some really hilarious stuff) - Azumanga Daioh (the quintessential slice-of-life comedy) - Full Metal Panic? Fumoffu (another hilarious slice-of-life comedy with\nLuci Christian as the leading lady) - Great Teacher Onizuka (much more crass and vulgar than School Rumble, but every bit as hilarious. Plenty of sweet and heartwarming moments to\ngo around and hey, it actually has character development! Steve Blum was even cast as Onizuka, what's not to like?!)",
         "looking documentary sate curiosity obscure phenomenon rumbling school look elsewhere unfortunately school rumble school rumble thankfully damn romantic comedy actually funny let\nword romantic fool thinking anything clannad chu either annoying melodrama found anywhere teenage angst put damper mood bullshit overarching force sit every either kind youcan sit\nenjoy friend whilst laughing ass eating pizza kind term school rumble equivalent late cartoon network dexter laboratory johnny bravo ed edd n eddy powerpuff girl overarching mostly\nepisodic nothing significance happens whereas romantic comedy come recent year focus romance school rumble try laugh result anything go sure quiet chuckle every comedy purely\nsubjective damn popular comedy failed laugh cough cough big bang theory cough cough let open worm right keeping line late cartoon network comedy every school rumble told three\nminute long segment next nothing segment tackle simple dilemma airhead put harima trying sit next tenma school field trip tenma trying sketch kurasama class safely approach worked\nincredibly school rumble favour concept segment incredibly simple make room joke told segment short enough prevent concept getting stale repetitive another upside fact sit entire\neither mean segment school rumble phone bus class segment bus already college complaint sit whole basically comedy show general whilst problem comedy enjoy show offer comedy alone\ngiven choice gto school rumble probably go former since gto comedy everyone different maybe might kind person sit marathon sitting expecting multi faceted individual parallel kind\nquestionable morality real human tend look elsewhere school rumble compelling individual slightest undergo significant change throughout course okay mean dexter laboratory johnny\nbravo powerpuff girl static yet everliving christ show mean school rumble terrible fact far tenma harima quite possibly endearing hilarious airhead comedy school rumble ever took\nlittle seriously bet sweet as shipping hell two oh fuck supporting play tenma harima exceptionally never tired tenma friend reaction latest scheme kurasama speaking kurasama except\nreminds octavius rex spongebob spongebob take pearl prom school rumble beyond fact funny mean joke timed actually work english dub funimation best work date especially given\namazing voice actor highness lucy christian tenma brandon potter harima basically sure go talk artwork soundtrack sure go comedy pinnacle audio visual quality give school rumble\nepitome comedy gold gintama apparently damn funny mood comedy friend damn fit bill mean need anything japanese culture understand joke place fan service juvenile humour actually\nfamily provided willing give shot unless sort long standing visceral hatred romantic comedy comedy general reason give chance anyway review feedback always welcome peace since done\nalternate recommendation show check mood school rumble ouran hshc english dub hilarious stuff azumanga daioh quintessential slice comedy full metal panic fumoffu another hilarious\nslice comedy luci christian leading lady teacher onizuka crass vulgar school rumble every bit hilarious plenty sweet heartwarming moment go around hey actually development steve\nblum cast onizuka",
         "0.860350565511873"
        ],
        [
         "115888",
         "30240",
         "A prison gay review of Prison School Prison School is a comedy about a group of 5 boys who attempt to peek on the girl's changing rooms in their school, but after being caught by\nthe Gestapo-esque Underground Student Council, are subjected to imprisonment inside of the school's grounds. Herein, the main characters attempt to survive the brutality of the\nUSC, as they conspire against the boys, trying to expel them. Prison School is an extremely ecchi anime, on par with actual hentai, and it is completely unapologetic on this front.\nNot only is the fanservice omnipresent (with the USC's vice president more or less servingentirely this role, whose breast size probably set a world record), but, the characters\nroutinely experience severe punishment for their misdeeds, which is a great pleasure for someone with a reverse ryona fetish, such as myself.  As a comedy, Prison School's main\nentertainment value lies in its ability to be comedic. The writing is well-done, but where Prison School really shines is with its characters. While the main character, Kiyoshi is\nrelatively 'normal', others, such as the masochistic Andre, Joe, who has a loving for ants, and Gakuto, my personal favourite of the series, an otaku with a strong interest in the\nThree Kingdoms (a historical period when China was separated into three kingdoms, as the name implies) with very strong leadership abilities, strategies, and an overall strong\ncharacter, willing to sacrifice himself for his friends. Additionally, his voice actor did an excellent job, and captured his character greatly.  The storyline of Prison School can\nbe summarised in a few sentences, as I did earlier in this review, even, but the episode by episode happenings are far from predictable. Each episode is varied and the exploits of\nthe pentagonists are all a pleasure to view. This writing is particularly good for a comedy anime.  Overall, Prison School is a well-made anime. It's not one of the greatest\ncomedies ever written, and some may find it hard to look past the raunchy nature of it, but if you can, you're in for one of the best balances of story, comedy and characters I've\nseen in an anime of this genre for quite some time.",
         "prison gay review prison school prison school comedy group boy attempt peek girl changing room school caught gestapo esque underground student council subjected imprisonment inside\nschool ground herein attempt survive brutality usc conspire boy trying expel prison school extremely ecchi par actual hentai completely unapologetic front fanservice omnipresent\nusc vice president less servingentirely role whose breast size probably set record routinely experience severe punishment misdeed pleasure someone reverse ryona fetish comedy\nprison school entertainment value lie ability comedic writing done prison school shine kiyoshi relatively normal others masochistic andre joe loving ant gakuto personal favourite\notaku strong interest three kingdom historical period china separated three kingdom name implies strong leadership ability strategy strong willing sacrifice friend additionally\nvoice actor excellent job captured greatly storyline prison school summarised sentence earlier review happening far predictable varied exploit pentagonists pleasure view writing\nparticularly comedy prison school made greatest comedy ever written may find hard look past raunchy nature best balance comedy seen genre quite",
         "0.8531485281308571"
        ],
        [
         "76408",
         "11843",
         "Unless you were incredibly popular during your time at school (which I think we can rule out due to your being on this website), there will be some aspect of this show that is\nrelatable. I'm no longer of high school age, but this show manages to bring you back, and accurately depicts the mindset of teenagers navigating the world, and the antics between\nfriends at that age. The show is very close to perfect, and is one of the few that genuinely left me wanting more. You can expect to laugh out loud consistently throughout each\nepisode, and it's the type of seriesthat's very easy to watch in one sitting.   An instant favourite, The Daily Lives of High School Boys should be on everyone's watch list, even\nif one doesn't usually watch comedy.",
         "unless incredibly popular school rule due website aspect relatable longer high school age manages bring back accurately depicts mindset teenager navigating antic friend age close\nperfect genuinely left wanting expect laugh loud consistently throughout type seriesthat easy sitting instant favourite daily life high school boy everyone list usually comedy",
         "0.8463224755685257"
        ],
        [
         "85806",
         "14813",
         "Yahari Ore no Seishun Love Comedy wa Machigatteiru (Season 1) Yahari Ore no Seishun Love Comedy wa Machigatteiru or also known as OREGAIRU. According to the genre, namely Slice of\nLife, Comedy, Drama, Romance, School. Anime Romantic Comedy (ROCOM) with a school background with the daily life of 3 teenage characters who take part in the Volunteer\nExtracurricular whose activities help students to solve problems. What makes this anime unique and worth watching apart from the romance story is the way this club solves each\nstudent's problems. Hikigaya Hachiman, a student of this volunteer club member, has a unique way, he doesn't hesitate to sacrifice himself as someonewho will accept or shoulder the\nburden of others. That's why many people call this Hikigaya Hachiiman the \"Black Knight\". This season 1 focuses more on School, Slice of Life, Comedy and Drama. Even so, there is\nstill a love story from the three of them that slowly grows slowly.",
         "yahari ore seishun comedy wa machigatteiru yahari ore seishun comedy wa machigatteiru known oregairu according genre namely slice comedy drama romance school romantic comedy rocom\nschool background daily teenage take part volunteer extracurricular whose activity help student solve problem make unique worth apart romance club solves student problem hikigaya\nhachiman student volunteer club member unique hesitate sacrifice someonewho accept shoulder burden others call hikigaya hachiiman black knight focus school slice comedy drama three\nslowly grows slowly",
         "0.8377178999051738"
        ]
       ],
       "shape": {
        "columns": 4,
        "rows": 5
       }
      },
      "text/html": [
       "<div>\n",
       "<style scoped>\n",
       "    .dataframe tbody tr th:only-of-type {\n",
       "        vertical-align: middle;\n",
       "    }\n",
       "\n",
       "    .dataframe tbody tr th {\n",
       "        vertical-align: top;\n",
       "    }\n",
       "\n",
       "    .dataframe thead th {\n",
       "        text-align: right;\n",
       "    }\n",
       "</style>\n",
       "<table border=\"1\" class=\"dataframe\">\n",
       "  <thead>\n",
       "    <tr style=\"text-align: right;\">\n",
       "      <th></th>\n",
       "      <th>anime_id</th>\n",
       "      <th>review</th>\n",
       "      <th>processed_review</th>\n",
       "      <th>similarity_score</th>\n",
       "    </tr>\n",
       "  </thead>\n",
       "  <tbody>\n",
       "    <tr>\n",
       "      <th>5932</th>\n",
       "      <td>66</td>\n",
       "      <td>Well despite that Azumanga Daioh is about a st...</td>\n",
       "      <td>despite azumanga daioh friend attempt daily sc...</td>\n",
       "      <td>0.877907</td>\n",
       "    </tr>\n",
       "    <tr>\n",
       "      <th>2101</th>\n",
       "      <td>24</td>\n",
       "      <td>If you're looking for a documentary to sate yo...</td>\n",
       "      <td>looking documentary sate curiosity obscure phe...</td>\n",
       "      <td>0.860351</td>\n",
       "    </tr>\n",
       "    <tr>\n",
       "      <th>115888</th>\n",
       "      <td>30240</td>\n",
       "      <td>A prison gay review of Prison School Prison Sc...</td>\n",
       "      <td>prison gay review prison school prison school ...</td>\n",
       "      <td>0.853149</td>\n",
       "    </tr>\n",
       "    <tr>\n",
       "      <th>76408</th>\n",
       "      <td>11843</td>\n",
       "      <td>Unless you were incredibly popular during your...</td>\n",
       "      <td>unless incredibly popular school rule due webs...</td>\n",
       "      <td>0.846322</td>\n",
       "    </tr>\n",
       "    <tr>\n",
       "      <th>85806</th>\n",
       "      <td>14813</td>\n",
       "      <td>Yahari Ore no Seishun Love Comedy wa Machigatt...</td>\n",
       "      <td>yahari ore seishun comedy wa machigatteiru yah...</td>\n",
       "      <td>0.837718</td>\n",
       "    </tr>\n",
       "  </tbody>\n",
       "</table>\n",
       "</div>"
      ],
      "text/plain": [
       "        anime_id                                             review  \\\n",
       "5932          66  Well despite that Azumanga Daioh is about a st...   \n",
       "2101          24  If you're looking for a documentary to sate yo...   \n",
       "115888     30240  A prison gay review of Prison School Prison Sc...   \n",
       "76408      11843  Unless you were incredibly popular during your...   \n",
       "85806      14813  Yahari Ore no Seishun Love Comedy wa Machigatt...   \n",
       "\n",
       "                                         processed_review  similarity_score  \n",
       "5932    despite azumanga daioh friend attempt daily sc...          0.877907  \n",
       "2101    looking documentary sate curiosity obscure phe...          0.860351  \n",
       "115888  prison gay review prison school prison school ...          0.853149  \n",
       "76408   unless incredibly popular school rule due webs...          0.846322  \n",
       "85806   yahari ore seishun comedy wa machigatteiru yah...          0.837718  "
      ]
     },
     "execution_count": 183,
     "metadata": {},
     "output_type": "execute_result"
    }
   ],
   "source": [
    "recommendations_new_query.head()"
   ]
  },
  {
   "cell_type": "code",
   "execution_count": 184,
   "id": "10408571",
   "metadata": {},
   "outputs": [
    {
     "data": {
      "application/vnd.microsoft.datawrangler.viewer.v0+json": {
       "columns": [
        {
         "name": "index",
         "rawType": "int64",
         "type": "integer"
        },
        {
         "name": "anime_id",
         "rawType": "int64",
         "type": "integer"
        },
        {
         "name": "title",
         "rawType": "object",
         "type": "string"
        },
        {
         "name": "synopsis",
         "rawType": "object",
         "type": "string"
        }
       ],
       "ref": "4490e4b2-330f-43d3-8f92-81c1a1f19e2a",
       "rows": [
        [
         "14",
         "24",
         "School Rumble",
         "Just the words \"I love you,\" and everything changes—such is the nature of the bittersweet trials of high school romance. Tenma Tsukamoto, a second year, is on a quest to confess her feelings to the boy she likes. Kenji Harima, a delinquent with a sizable reputation, is in a similar situation, as he cannot properly convey his feelings to the one he loves. Between school, friends, rivalries, and hobbies, these two will find that high school romance is no walk in the park, especially as misunderstandings further complicate their plight. School Rumble is a high-octane romantic comedy full of relatable situations, as Tenma and Kenji both try to win the hearts of those they desire."
        ],
        [
         "44",
         "66",
         "Azumanga Daioh: The Animation",
         "Chiyo Mihama begins her high school career as one of the strangest students in her freshman class—a tiny, 10-year-old academic prodigy with a fondness for plush dolls and homemade cooking. But her homeroom teacher, Yukari Tanizaki, is the kind of person who would hijack a student's bike to avoid being late, so \"strange\" is a relative word. There certainly isn't a shortage of peculiar girls in Yukari-sensei's homeroom class. Accompanying Chiyo are students like Tomo Takino, an energetic tomboy with more enthusiasm than brains; Koyomi Mizuhara, Tomo's best friend whose temper has a fuse shorter than Chiyo; and Sakaki, a tall, athletic beauty whose intimidating looks hide a gentle personality and a painful obsession with cats. In addition, transfer student Ayumu Kasuga, a girl with her head stuck in the clouds, fits right in with the rest of the girls—and she has a few interesting theories about Chiyo's pigtails! Together, this lovable group of girls experience the ups and downs of school life, their many adventures filled with constant laughter, surreal absurdity, and occasionally even touching commentary on the bittersweet, temporal nature of high school."
        ],
        [
         "522",
         "853",
         "Ouran High School Host Club",
         "Haruhi Fujioka is a bright scholarship candidate with no rank or title to speak of—a rare species at Ouran Academy, an elite school for students of high pedigree. When she opens the door to Music Room #3 hoping to find a quiet place to study, Haruhi unexpectedly stumbles upon the Host Club. Led by the princely Tamaki Suou, the club—whose other members include the \"Shadow King\" Kyouya Ootori; the mischievous Hitachiin twins, Kaoru and Hikaru; the childlike Mitsukuni Haninozuka, also known as \"Honey\"; and his strong protector Takashi \"Mori\" Morinozuka—is where handsome boys with too much time on their hands entertain the girls in the academy. In a frantic attempt to remove herself from the hosts, Haruhi ends up breaking a vase worth eight million yen and is forced into becoming the eccentric group's general errand boy to repay her enormous debt. However, thanks to her convincingly masculine appearance, her naturally genial disposition toward girls, and fascinating commoner status, she is soon promoted to full-time male host. And before long, Haruhi is plunged into a glitzy whirlwind of elaborate cosplays, rich food, and exciting shenanigans that only the immensely wealthy Host Club can pull off."
        ],
        [
         "2267",
         "6547",
         "Angel Beats!",
         "Otonashi awakens only to learn he is dead. A rifle-toting girl named Yuri explains that they are in the afterlife, and Otonashi realizes the only thing he can remember about himself is his name. Yuri tells him that she leads the Shinda Sekai Sensen (Afterlife Battlefront) and wages war against a girl named Tenshi. Unable to believe Yuri's claims that Tenshi is evil, Otonashi attempts to speak with her, but the encounter doesn't go as he intended. Otonashi decides to join the SSS and battle Tenshi, but he finds himself oddly drawn to her. While trying to regain his memories and understand Tenshi, he gradually unravels the mysteries of the afterlife."
        ],
        [
         "2990",
         "11843",
         "Daily Lives of High School Boys",
         "oaming the halls of the all-boys Sanada North High School are three close comrades: the eccentric ringleader with a hyperactive imagination Hidenori, the passionate Yoshitake, and the rational and prudent Tadakuni. Their lives are filled with giant robots, true love, and intense drama... in their colorful imaginations, at least. In reality, they are just an everyday trio of ordinary guys trying to pass the time, but who said everyday life couldn't be interesting? Whether it's an intricate RPG reenactment or an unexpected romantic encounter on the riverbank at sunset, Danshi Koukousei no Nichijou is rife with bizarre yet hilariously relatable situations that are anything but mundane."
        ],
        [
         "3169",
         "14813",
         "My Teen Romantic Comedy SNAFU",
         "Hachiman Hikigaya is an apathetic high school student with narcissistic and semi-nihilistic tendencies. He firmly believes that joyful youth is nothing but a farce, and everyone who says otherwise is just lying to themselves. In a novel punishment for writing an essay mocking modern social relationships, Hachiman's teacher forces him to join the Volunteer Service Club, a club that aims to extend a helping hand to any student who seeks their support in achieving their goals. With the only other club member being the beautiful ice queen Yukino Yukinoshita, Hachiman finds himself on the front line of other people's problems—a place he never dreamed he would be. As Hachiman and Yukino use their wits to solve many students' problems, will Hachiman's rotten view of society prove to be a hindrance or a tool he can use to his advantage?"
        ],
        [
         "4079",
         "30240",
         "Prison School",
         "ocated on the outskirts of Tokyo, Hachimitsu Private Academy is a prestigious all-girls boarding school, famous for its high-quality education and disciplined students. However, this is all about to change due to the revision of the school's most iconic policy, as boys are now able to enroll as well. At the start of the first semester under this new decree, a mere five boys have been accepted, effectively splitting the student body into a ratio of two hundred girls to one boy. Kiyoshi, Gakuto, Shingo, Andre, and Jo are quickly cast away without having a chance to make any kind of a first impression. Unable to communicate with their fellow female students, the eager boys set their sights on a far more dangerous task: peeping into the girls' bath! It's only after their plan is thoroughly decimated by the infamous Underground Student Council that the motley crew find their freedom abruptly taken from them, as they are thrown into the school's prison with the sentence of an entire month as punishment. Thus begins the tale of the boys' harsh lives in Prison School, a righteous struggle that will ultimately test the bonds of friendship and perverted brotherhood."
        ],
        [
         "4564",
         "34281",
         "High School DxD Hero",
         "The fourth season of High School DxD ."
        ]
       ],
       "shape": {
        "columns": 3,
        "rows": 8
       }
      },
      "text/html": [
       "<div>\n",
       "<style scoped>\n",
       "    .dataframe tbody tr th:only-of-type {\n",
       "        vertical-align: middle;\n",
       "    }\n",
       "\n",
       "    .dataframe tbody tr th {\n",
       "        vertical-align: top;\n",
       "    }\n",
       "\n",
       "    .dataframe thead th {\n",
       "        text-align: right;\n",
       "    }\n",
       "</style>\n",
       "<table border=\"1\" class=\"dataframe\">\n",
       "  <thead>\n",
       "    <tr style=\"text-align: right;\">\n",
       "      <th></th>\n",
       "      <th>anime_id</th>\n",
       "      <th>title</th>\n",
       "      <th>synopsis</th>\n",
       "    </tr>\n",
       "  </thead>\n",
       "  <tbody>\n",
       "    <tr>\n",
       "      <th>14</th>\n",
       "      <td>24</td>\n",
       "      <td>School Rumble</td>\n",
       "      <td>Just the words \"I love you,\" and everything ch...</td>\n",
       "    </tr>\n",
       "    <tr>\n",
       "      <th>44</th>\n",
       "      <td>66</td>\n",
       "      <td>Azumanga Daioh: The Animation</td>\n",
       "      <td>Chiyo Mihama begins her high school career as ...</td>\n",
       "    </tr>\n",
       "    <tr>\n",
       "      <th>522</th>\n",
       "      <td>853</td>\n",
       "      <td>Ouran High School Host Club</td>\n",
       "      <td>Haruhi Fujioka is a bright scholarship candida...</td>\n",
       "    </tr>\n",
       "    <tr>\n",
       "      <th>2267</th>\n",
       "      <td>6547</td>\n",
       "      <td>Angel Beats!</td>\n",
       "      <td>Otonashi awakens only to learn he is dead. A r...</td>\n",
       "    </tr>\n",
       "    <tr>\n",
       "      <th>2990</th>\n",
       "      <td>11843</td>\n",
       "      <td>Daily Lives of High School Boys</td>\n",
       "      <td>oaming the halls of the all-boys Sanada North ...</td>\n",
       "    </tr>\n",
       "    <tr>\n",
       "      <th>3169</th>\n",
       "      <td>14813</td>\n",
       "      <td>My Teen Romantic Comedy SNAFU</td>\n",
       "      <td>Hachiman Hikigaya is an apathetic high school ...</td>\n",
       "    </tr>\n",
       "    <tr>\n",
       "      <th>4079</th>\n",
       "      <td>30240</td>\n",
       "      <td>Prison School</td>\n",
       "      <td>ocated on the outskirts of Tokyo, Hachimitsu P...</td>\n",
       "    </tr>\n",
       "    <tr>\n",
       "      <th>4564</th>\n",
       "      <td>34281</td>\n",
       "      <td>High School DxD Hero</td>\n",
       "      <td>The fourth season of High School DxD .</td>\n",
       "    </tr>\n",
       "  </tbody>\n",
       "</table>\n",
       "</div>"
      ],
      "text/plain": [
       "      anime_id                            title  \\\n",
       "14          24                    School Rumble   \n",
       "44          66    Azumanga Daioh: The Animation   \n",
       "522        853      Ouran High School Host Club   \n",
       "2267      6547                     Angel Beats!   \n",
       "2990     11843  Daily Lives of High School Boys   \n",
       "3169     14813    My Teen Romantic Comedy SNAFU   \n",
       "4079     30240                    Prison School   \n",
       "4564     34281             High School DxD Hero   \n",
       "\n",
       "                                               synopsis  \n",
       "14    Just the words \"I love you,\" and everything ch...  \n",
       "44    Chiyo Mihama begins her high school career as ...  \n",
       "522   Haruhi Fujioka is a bright scholarship candida...  \n",
       "2267  Otonashi awakens only to learn he is dead. A r...  \n",
       "2990  oaming the halls of the all-boys Sanada North ...  \n",
       "3169  Hachiman Hikigaya is an apathetic high school ...  \n",
       "4079  ocated on the outskirts of Tokyo, Hachimitsu P...  \n",
       "4564             The fourth season of High School DxD .  "
      ]
     },
     "execution_count": 184,
     "metadata": {},
     "output_type": "execute_result"
    }
   ],
   "source": [
    "recommendation_ids = set(recommendations_new_query[\"anime_id\"].unique())\n",
    "anime_df.loc[anime_df[\"anime_id\"].isin(recommendation_ids), [\"anime_id\", \"title\", \"synopsis\"]]"
   ]
  },
  {
   "cell_type": "markdown",
   "id": "bd6d2cc5",
   "metadata": {},
   "source": [
    "3. a young boy pursuing his dream of playing sports"
   ]
  },
  {
   "cell_type": "code",
   "execution_count": 185,
   "id": "77f930f6",
   "metadata": {},
   "outputs": [
    {
     "data": {
      "image/png": "[encoded data removed]",
      "text/plain": [
       "<Figure size 640x480 with 1 Axes>"
      ]
     },
     "metadata": {},
     "output_type": "display_data"
    },
    {
     "name": "stderr",
     "output_type": "stream",
     "text": [
      "C:\\Users\\Asus-Home\\AppData\\Local\\Temp\\ipykernel_20432\\122375758.py:17: SettingWithCopyWarning: \n",
      "A value is trying to be set on a copy of a slice from a DataFrame.\n",
      "Try using .loc[row_indexer,col_indexer] = value instead\n",
      "\n",
      "See the caveats in the documentation: https://pandas.pydata.org/pandas-docs/stable/user_guide/indexing.html#returning-a-view-versus-a-copy\n",
      "  recommended_items['similarity_score'] = similarities[top_indices]\n"
     ]
    }
   ],
   "source": [
    "recommendations_new_query = recommend_from_query_text(query_3, df, tfidf_vectorizer, tfidf_matrix, lsa_model, num_recommendations=10)"
   ]
  },
  {
   "cell_type": "code",
   "execution_count": 186,
   "id": "81a61d26",
   "metadata": {},
   "outputs": [
    {
     "data": {
      "application/vnd.microsoft.datawrangler.viewer.v0+json": {
       "columns": [
        {
         "name": "index",
         "rawType": "int64",
         "type": "integer"
        },
        {
         "name": "anime_id",
         "rawType": "int64",
         "type": "integer"
        },
        {
         "name": "review",
         "rawType": "object",
         "type": "string"
        },
        {
         "name": "processed_review",
         "rawType": "object",
         "type": "string"
        },
        {
         "name": "similarity_score",
         "rawType": "float64",
         "type": "float"
        }
       ],
       "ref": "d6ac6321-231f-440a-becd-fbc36e0bde58",
       "rows": [
        [
         "182743",
         "42395",
         "Kabaddi is a contact team sport which involves no material equipment but the human body to play. It is the national sport of Bangladesh, the country where I'm from and has\nhistorical origins in Ancient India, particularly in Tamil Nadu around 4000 years ago. Legend says that even Gautam Buddha enjoyed playing this game. Of all sports known globally,\nKabaddi was a sport I never imagined to get an anime adaption, so kudos to the mangaka, Hajime Musashino, for introducing this rather unknown sport to Otakus and making it look\ncool. All the characters were enjoyable to watch, even the opponent and side characters. The animation was prettygood. It was not impressive to some others but I will let it pass.\nMaybe I am biased, but I played it as a kid and felt a rather historical-cultural connection about an anime that talked about a unpopular sport that is still simple and accessible;\nso I didn't mind the intricacies much. Rather I was more surprised that it even tried to feed a good plot, a good story with emotional value with the usual tropes you see in other\nsports anime.  This anime sadly flew under the radar because everyone else has preferences of trashy tropes and not try something out of the unknown; I mean, the anime did a good\njob in introducing the sport to its viewers for the first few episodes who may be unfamiliar with it.  This is the type of anime you would wish had more than 12 episodes. In\nBangladesh, we call it 'Ha-du-du'. Kabaddi also has a World Cup for both men's and women's teams organized by the International Kabaddi Federation (IKF). Look it up.",
         "kabaddi contact team sport involves material equipment human body play national sport bangladesh country historical origin ancient india particularly tamil nadu around year ago\nlegend say gautam buddha enjoyed playing game sport known globally kabaddi sport never imagined adaption kudos mangaka hajime musashino introducing rather unknown sport otakus\nmaking look cool enjoyable opponent side prettygood impressive others let pas maybe biased played kid felt rather historical cultural connection talked unpopular sport simple\naccessible mind intricacy rather surprised tried feed emotional value usual trope sport sadly flew radar everyone else preference trashy trope try unknown mean job introducing\nsport viewer may unfamiliar type wish bangladesh call ha du du kabaddi cup men woman team organized international kabaddi federation ikf look",
         "0.9271567875933819"
        ],
        [
         "75163",
         "11697",
         "Another Sports anime added to my fave sports anime list !!!!!! It seems i won't see cool special moves like in Eyeshield 21/Prince of Tennis and other sports anime. Anyway on to\nthe story--- Area no Kishi is a soccer anime about Kakeru Aizawa who is the younger brother of Suguru Aizawa. He is the team captain of the soccer club, star player, and popular\nwith the girls : ) Later on we meet Kakeru's chldhood friend Nana Mishima( Seven) who transferred to their school from America.( love interests of Kakeru and possible Suguru : 0 )\nShe alsoplayed soccer with them when they were kids. Suguru believes Kakeru has potential as a Soccer player( this is my guess-- Maybe to surpass his brother Suguru : 0. I am\nexcited to see future episodes of Area no Kishi.  I give this anime a 10",
         "another sport added fave sport list seems cool special move eyeshield prince tennis sport anyway area kishi soccer kakeru aizawa younger brother suguru aizawa team captain soccer\nclub star player popular girl later meet kakeru chldhood friend nana mishima seven transferred school america interest kakeru possible suguru alsoplayed soccer kid suguru belief\nkakeru potential soccer player guess maybe surpass brother suguru excited future area kishi give",
         "0.9256902631821877"
        ],
        [
         "156506",
         "37965",
         "I never really enjoyed any sports anime ever before watching this anime. The reason I never liked any sports show was simple, you see all any sports anime ever did was just putting\nso much effort on the sports itself that they forget to develop the characters who are the essential part of the anime(looking at Haikyuu, yuri on ice and free). I was really\nshocked to see a anime about running that does not show any character running until ep 5 or 6, I mean how sports anime do that these days. Rather then making us show the characters\nrunning from the start it takesthat time to develop the characters itself, because what good a shallow character is to the show. And mind you this anime has a lot of characters\nthat need ample to develop and shine in limited amount of time, but damn not a single minute of any ep is wasted and its pure story-telling and good characters dynamics.  I wish I\nhad anything to complain about this anime but this anime does not let me do that because its that good, I really like how Haiji interacts with with other characters and how genuine\nhe is. Also how kakeru goes from being a antisocial to just being friendly with everyone, its just  heartwarming. And akane is my soul animal, really he is so relatable and puts so\nmuch effort to come out of his comfort zone for something that only benefits other the most.  This is how a sports anime should be done and every other sports anime should take\nnotes from this. If you want to know what a really good sports anime looks like then you need to watch anime.",
         "never enjoyed sport ever reason never liked sport simple sport ever putting effort sport forget develop essential part looking haikyuu yuri ice free shocked running running ep mean\nsport day rather making u running start takesthat develop shallow mind need ample develop shine limited amount damn single minute ep wasted pure telling dynamic wish anything\ncomplain let haiji interacts genuine kakeru go antisocial friendly everyone heartwarming akane soul animal relatable put effort come comfort zone benefit sport done every sport\ntake note want sport look need",
         "0.9256704223768102"
        ],
        [
         "186005",
         "44274",
         "First review just had to. First off Japan beating team Canada really just set the tone for what I was in for as a hockey player/ enjoyer. Obviously, the show is not targeted toward\nthe hockey community and more towards introducing Japan to a sport that is not too big. Still, the show is a very unrealistic portrayal of the sport and doesn't represent the sport\nat all. I can keep spewing but mostly to sum it up you have a team of beginner players with their own rink, personal pro shop, and facilities with only a roster of 5 skaters and a\ngoalie, theteam is named Dream Monkeys, and their main selling point to performing victory dances every time they win.  Other than their portrayal of the basis and rules of the\ngame this anime fails to show what the sport is truly like and if the intent is to push popularity toward the sport many people are gonna be disappointed if they think this show\nrepresents the true sport.  TLDR: JAPAN BEATS TEAM CANADA WTF If you think this is a actual hockey anime don't waste your time",
         "review japan beating team canada set tone hockey player enjoyer obviously targeted toward hockey community towards introducing japan sport big unrealistic portrayal sport represent\nsport keep spewing mostly sum team beginner player rink personal pro shop facility roster skater goalie theteam named dream monkey selling point performing victory dance every win\nportrayal basis rule game fails sport truly intent push popularity toward sport gonna disappointed represents true sport tldr japan beat team canada wtf actual hockey waste",
         "0.921727393855237"
        ],
        [
         "125629",
         "32494",
         "I think there's a lot of merit to judging an anime not on what it tells you, but what it shows you. Days, an anime about football, or American Soccer as it's called in the rust\nbelt, wants to tell me that football is an exciting daring sport where any boy, beefy or lanky, can play his heart out. However, the message it shows is that football is a boring\nsport only Europeans could love. What's far, far more important is boys' love. Look, there's only two reasons why anyone watches sports anime: to watch hot muscle boys fight each\nother, and to watch hotboys almost kiss each other. This anime flat out fails at the first and somewhat performs on the second. If there's a second season, we need more boys\nfalling awkwardly on top of each other and looking into each others eyes. It's a football game, it should be happening like every other minute already.  You'll be too busy keeping\na tally of the times the main characters almost kiss to notice anything about the sound design or the artistic direction. I can't even remember very much about the actual sports\nmatches, and sometimes you'll see a football in the screen and think \"Why is this in my Boys' Love anime? Is it supposed to symbolize something?\" and then remember that this is\nsupposed to be a sports anime.  This succeeds at being an anime. I can honestly praise it enough for that, and I probably have already praised it too much. I'd suggest watching\nthis anime if you want to lose interest in football forever and make a transition to a sport less humiliating like lacrosse. I'd also suggest watching this if you're into boys'\nlove because, boy oh boy, there's a lot of boy action in this anime.  Do you remember that family guy joke, where the truck with chocolate crashes into the truck with peanut\nbutter, and makes reeses peanut butter cups? Stop watching family guy, throw out your football, pick up a lacrosse butterfly net and watch this anime.",
         "merit judging tell show day football american soccer called rust belt want tell football exciting daring sport boy beefy lanky play heart however message show football boring sport\neuropean far far important boy look two reason anyone watch sport hot muscle boy fight hotboys almost kiss flat fails somewhat performs second second need boy falling awkwardly top\nlooking others eye football game happening every minute already busy keeping tally time almost kiss notice anything sound design artistic direction remember actual sport match\nsometimes football screen boy supposed symbolize remember supposed sport succeeds honestly praise enough probably already praised suggest want lose interest football forever\ntransition sport less humiliating lacrosse suggest boy boy oh boy boy action remember family guy joke truck chocolate crash truck peanut butter make reeses peanut butter cup stop\nfamily guy throw football pick lacrosse butterfly net",
         "0.9204845811918614"
        ]
       ],
       "shape": {
        "columns": 4,
        "rows": 5
       }
      },
      "text/html": [
       "<div>\n",
       "<style scoped>\n",
       "    .dataframe tbody tr th:only-of-type {\n",
       "        vertical-align: middle;\n",
       "    }\n",
       "\n",
       "    .dataframe tbody tr th {\n",
       "        vertical-align: top;\n",
       "    }\n",
       "\n",
       "    .dataframe thead th {\n",
       "        text-align: right;\n",
       "    }\n",
       "</style>\n",
       "<table border=\"1\" class=\"dataframe\">\n",
       "  <thead>\n",
       "    <tr style=\"text-align: right;\">\n",
       "      <th></th>\n",
       "      <th>anime_id</th>\n",
       "      <th>review</th>\n",
       "      <th>processed_review</th>\n",
       "      <th>similarity_score</th>\n",
       "    </tr>\n",
       "  </thead>\n",
       "  <tbody>\n",
       "    <tr>\n",
       "      <th>182743</th>\n",
       "      <td>42395</td>\n",
       "      <td>Kabaddi is a contact team sport which involves...</td>\n",
       "      <td>kabaddi contact team sport involves material e...</td>\n",
       "      <td>0.927157</td>\n",
       "    </tr>\n",
       "    <tr>\n",
       "      <th>75163</th>\n",
       "      <td>11697</td>\n",
       "      <td>Another Sports anime added to my fave sports a...</td>\n",
       "      <td>another sport added fave sport list seems cool...</td>\n",
       "      <td>0.925690</td>\n",
       "    </tr>\n",
       "    <tr>\n",
       "      <th>156506</th>\n",
       "      <td>37965</td>\n",
       "      <td>I never really enjoyed any sports anime ever b...</td>\n",
       "      <td>never enjoyed sport ever reason never liked sp...</td>\n",
       "      <td>0.925670</td>\n",
       "    </tr>\n",
       "    <tr>\n",
       "      <th>186005</th>\n",
       "      <td>44274</td>\n",
       "      <td>First review just had to. First off Japan beat...</td>\n",
       "      <td>review japan beating team canada set tone hock...</td>\n",
       "      <td>0.921727</td>\n",
       "    </tr>\n",
       "    <tr>\n",
       "      <th>125629</th>\n",
       "      <td>32494</td>\n",
       "      <td>I think there's a lot of merit to judging an a...</td>\n",
       "      <td>merit judging tell show day football american ...</td>\n",
       "      <td>0.920485</td>\n",
       "    </tr>\n",
       "  </tbody>\n",
       "</table>\n",
       "</div>"
      ],
      "text/plain": [
       "        anime_id                                             review  \\\n",
       "182743     42395  Kabaddi is a contact team sport which involves...   \n",
       "75163      11697  Another Sports anime added to my fave sports a...   \n",
       "156506     37965  I never really enjoyed any sports anime ever b...   \n",
       "186005     44274  First review just had to. First off Japan beat...   \n",
       "125629     32494  I think there's a lot of merit to judging an a...   \n",
       "\n",
       "                                         processed_review  similarity_score  \n",
       "182743  kabaddi contact team sport involves material e...          0.927157  \n",
       "75163   another sport added fave sport list seems cool...          0.925690  \n",
       "156506  never enjoyed sport ever reason never liked sp...          0.925670  \n",
       "186005  review japan beating team canada set tone hock...          0.921727  \n",
       "125629  merit judging tell show day football american ...          0.920485  "
      ]
     },
     "execution_count": 186,
     "metadata": {},
     "output_type": "execute_result"
    }
   ],
   "source": [
    "recommendations_new_query.head()"
   ]
  },
  {
   "cell_type": "code",
   "execution_count": 187,
   "id": "a7b23581",
   "metadata": {},
   "outputs": [
    {
     "data": {
      "application/vnd.microsoft.datawrangler.viewer.v0+json": {
       "columns": [
        {
         "name": "index",
         "rawType": "int64",
         "type": "integer"
        },
        {
         "name": "anime_id",
         "rawType": "int64",
         "type": "integer"
        },
        {
         "name": "title",
         "rawType": "object",
         "type": "string"
        },
        {
         "name": "synopsis",
         "rawType": "object",
         "type": "string"
        }
       ],
       "ref": "1c8e0483-9dc5-4e46-9c15-1fc1d36839ce",
       "rows": [
        [
         "2969",
         "11697",
         "The Knight in the Area",
         "Kakeru and Suguru are brothers who both have a flaming passion for soccer. However, while Suguru becomes a rising star in the Japanese youth soccer system, Kakeru decides to take on a managerial role after struggling on the field. But due to a cruel twist of fate, Kakeru ends up reevaluating the role he has chosen. In hopes of one day being able to enter the World Cup by becoming a member of the national team, Kakeru trains harder than anyone else. He isn’t alone in this quest for glory, though. Kakeru's childhood friend, Nana, is a soccer prodigy of her own, with the wicked nickname “Little Witch”. She is a top-ranked player and is already playing for Nadeshiko Japan, the Japanese women’s national team. Nana's success gives Kakeru the extra push he needs to reach for his goals. Soccer and adolescent fervor combine for an epic, emotional ride. Check it out for yourself in Area no Kishi !"
        ],
        [
         "3956",
         "28391",
         "Aokana: Four Rhythm Across the Blue",
         "h the invention of anti-gravitational shoes known as Grav-Shoes, the ability to fly freely has become an everyday experience for the people inhabiting a four-island archipelago south of Japan. This invention has brought the people new ways of living and also a new sport known as \"Flying Circus,\" where participants gain points by either touching floating buoys or their opponent's back. The gullible and clumsy Asuka Kurashina, newly transferred to Kunahama High School, enters this world of flight unknowingly when she is able to pull off a difficult maneuver the first time she participates in a Flying Circus match. Eventually, this leads her to join her school’s Flying Circus club. Led by their coach, Masaya Hinata, their members consist of the experienced Misaki Tobisawa and her overprotective friend, Mashiro Arisaka. Ao no Kanata no Four Rhythm follows this rookie group soaring high above the skies and toward their dreams, armed only with their unwavering passion against an uncertain future."
        ],
        [
         "4312",
         "32494",
         "Days",
         "The series is about two boys named Tsukushi and Jin. Tsukushi is a boy with no special talent or traits while Jin is considered a soccer genius. On one stormy night, Jin meets Tsukushi, and they get dragged into the world of soccer. (Source: MAL News)"
        ],
        [
         "5053",
         "37965",
         "Run with the Wind",
         "Former ace runner of Sendai Josei High School, Kakeru Kurahara is chased away from a convenience store for shoplifting. Shaking off his pursuer, he runs into Haiji Kiyose, another student from his university. Haiji is impressed by Kakeru's agility and persuades him to live in Chikusei-sou, the run-down apartment where Haiji resides along with eight other students. Having lost his entire apartment deposit at a mahjong parlor, Kakeru accepts the offer reluctantly. However, Haiji reveals a secret during Kakeru's welcoming party: the apartment is actually the dormitory of the Kansei University Track Club. He unveils his ultimate goal of participating in the Hakone Ekiden—one of the most prominent university marathon relay races in Japan. Unfortunately, all the residents apart from Haiji and Kakeru are complete running novices. Worse still, none of the inhabitants are even remotely interested in being involved with Haiji's ridiculous plan! With only months before the deadline, will the fourth-year student be able to convince them otherwise and realize his elusive dream of running in the Hakone Ekiden?"
        ],
        [
         "5565",
         "42395",
         "Burning Kabaddi",
         "First-year high schooler Tatsuya Yoigoshi, the former ace of a junior high school soccer team who has come to dislike sports, receives an invitation to join the Kabaddi club. Initially mocking the idea of Kabaddi, he takes an interest after watching an intense competition akin to martial arts at a practice session. (Source: MAL News)"
        ],
        [
         "5585",
         "42774",
         "Farewell, My Dear Cramer",
         "h no soccer accomplishments to speak of during the entirety of Sumire Suou's junior high school years, the young wing gets an odd offer. Suou's main rival, Midori Soshizaki, invites her to join up on the same team in high school, with a promise that she'll never let Suou \"play alone.\" It's an earnest offer, but the question is whether Suou will take her up on it. Thus the curtain opens on a story that collects an enormous cast of individual soccer-playing personalities! (Source: Kodansha Comics)"
        ],
        [
         "5658",
         "44274",
         "PuraOra! PRIDE OF ORANGE",
         "The story takes place in Nikko city, Tochigi Prefecture, where girls aim for the top of the world through ice hockey. Local junior high school student Manaka and her younger sister Ayaka, whom she forcibly invited, hit the gate of first-hand experience with ice hockey, held by the Nikko-based team Dream Monkeys. The two are joined by their childhood friends Kaoruko and Mami. As the girls practice, they become fascinated with ice hockey and eventually join the team. (Source: MAL News)"
        ],
        [
         "5814",
         "49052",
         "Aoashi",
         "In a quiet rural town, the spotlight of a local junior high school football team rests on one player: Ashito Aoi. Known for his unpredictable moves and self-centered playing style, Ashito is the sole powerhouse pushing his team through an important high school preliminary tournament. However, their win streak is short-lived—an opponent causes Ashito to lose his temper and act violently, resulting in his removal from the rest of the game.\n\nWithout their star player, the team is quickly eliminated from the tournament. Just as he believes all hope is lost, Ashito is approached by a youth team coach named Tatsuya Fukuda who senses potential in him, and Fukuda invites him for tryouts in Tokyo. In an unfamiliar setting surrounded by talent, Ashito must bring out the best of his ability to prove himself and secure what could be a life-changing career.\n\n[Written by MAL Rewrite]"
        ]
       ],
       "shape": {
        "columns": 3,
        "rows": 8
       }
      },
      "text/html": [
       "<div>\n",
       "<style scoped>\n",
       "    .dataframe tbody tr th:only-of-type {\n",
       "        vertical-align: middle;\n",
       "    }\n",
       "\n",
       "    .dataframe tbody tr th {\n",
       "        vertical-align: top;\n",
       "    }\n",
       "\n",
       "    .dataframe thead th {\n",
       "        text-align: right;\n",
       "    }\n",
       "</style>\n",
       "<table border=\"1\" class=\"dataframe\">\n",
       "  <thead>\n",
       "    <tr style=\"text-align: right;\">\n",
       "      <th></th>\n",
       "      <th>anime_id</th>\n",
       "      <th>title</th>\n",
       "      <th>synopsis</th>\n",
       "    </tr>\n",
       "  </thead>\n",
       "  <tbody>\n",
       "    <tr>\n",
       "      <th>2969</th>\n",
       "      <td>11697</td>\n",
       "      <td>The Knight in the Area</td>\n",
       "      <td>Kakeru and Suguru are brothers who both have a...</td>\n",
       "    </tr>\n",
       "    <tr>\n",
       "      <th>3956</th>\n",
       "      <td>28391</td>\n",
       "      <td>Aokana: Four Rhythm Across the Blue</td>\n",
       "      <td>h the invention of anti-gravitational shoes kn...</td>\n",
       "    </tr>\n",
       "    <tr>\n",
       "      <th>4312</th>\n",
       "      <td>32494</td>\n",
       "      <td>Days</td>\n",
       "      <td>The series is about two boys named Tsukushi an...</td>\n",
       "    </tr>\n",
       "    <tr>\n",
       "      <th>5053</th>\n",
       "      <td>37965</td>\n",
       "      <td>Run with the Wind</td>\n",
       "      <td>Former ace runner of Sendai Josei High School,...</td>\n",
       "    </tr>\n",
       "    <tr>\n",
       "      <th>5565</th>\n",
       "      <td>42395</td>\n",
       "      <td>Burning Kabaddi</td>\n",
       "      <td>First-year high schooler Tatsuya Yoigoshi, the...</td>\n",
       "    </tr>\n",
       "    <tr>\n",
       "      <th>5585</th>\n",
       "      <td>42774</td>\n",
       "      <td>Farewell, My Dear Cramer</td>\n",
       "      <td>h no soccer accomplishments to speak of during...</td>\n",
       "    </tr>\n",
       "    <tr>\n",
       "      <th>5658</th>\n",
       "      <td>44274</td>\n",
       "      <td>PuraOra! PRIDE OF ORANGE</td>\n",
       "      <td>The story takes place in Nikko city, Tochigi P...</td>\n",
       "    </tr>\n",
       "    <tr>\n",
       "      <th>5814</th>\n",
       "      <td>49052</td>\n",
       "      <td>Aoashi</td>\n",
       "      <td>In a quiet rural town, the spotlight of a loca...</td>\n",
       "    </tr>\n",
       "  </tbody>\n",
       "</table>\n",
       "</div>"
      ],
      "text/plain": [
       "      anime_id                                title  \\\n",
       "2969     11697               The Knight in the Area   \n",
       "3956     28391  Aokana: Four Rhythm Across the Blue   \n",
       "4312     32494                                 Days   \n",
       "5053     37965                    Run with the Wind   \n",
       "5565     42395                      Burning Kabaddi   \n",
       "5585     42774             Farewell, My Dear Cramer   \n",
       "5658     44274             PuraOra! PRIDE OF ORANGE   \n",
       "5814     49052                               Aoashi   \n",
       "\n",
       "                                               synopsis  \n",
       "2969  Kakeru and Suguru are brothers who both have a...  \n",
       "3956  h the invention of anti-gravitational shoes kn...  \n",
       "4312  The series is about two boys named Tsukushi an...  \n",
       "5053  Former ace runner of Sendai Josei High School,...  \n",
       "5565  First-year high schooler Tatsuya Yoigoshi, the...  \n",
       "5585  h no soccer accomplishments to speak of during...  \n",
       "5658  The story takes place in Nikko city, Tochigi P...  \n",
       "5814  In a quiet rural town, the spotlight of a loca...  "
      ]
     },
     "execution_count": 187,
     "metadata": {},
     "output_type": "execute_result"
    }
   ],
   "source": [
    "recommendation_ids = set(recommendations_new_query[\"anime_id\"].unique())\n",
    "anime_df.loc[anime_df[\"anime_id\"].isin(recommendation_ids), [\"anime_id\", \"title\", \"synopsis\"]]"
   ]
  },
  {
   "cell_type": "markdown",
   "id": "9e44f0bf",
   "metadata": {},
   "source": [
    "4. people get trapped in a game they were playing"
   ]
  },
  {
   "cell_type": "code",
   "execution_count": 188,
   "id": "7b3137e8",
   "metadata": {},
   "outputs": [
    {
     "data": {
      "image/png": "[encoded data removed]",
      "text/plain": [
       "<Figure size 640x480 with 1 Axes>"
      ]
     },
     "metadata": {},
     "output_type": "display_data"
    },
    {
     "name": "stderr",
     "output_type": "stream",
     "text": [
      "C:\\Users\\Asus-Home\\AppData\\Local\\Temp\\ipykernel_20432\\122375758.py:17: SettingWithCopyWarning: \n",
      "A value is trying to be set on a copy of a slice from a DataFrame.\n",
      "Try using .loc[row_indexer,col_indexer] = value instead\n",
      "\n",
      "See the caveats in the documentation: https://pandas.pydata.org/pandas-docs/stable/user_guide/indexing.html#returning-a-view-versus-a-copy\n",
      "  recommended_items['similarity_score'] = similarities[top_indices]\n"
     ]
    }
   ],
   "source": [
    "recommendations_new_query = recommend_from_query_text(query_4, df, tfidf_vectorizer, tfidf_matrix, lsa_model, num_recommendations=10)"
   ]
  },
  {
   "cell_type": "code",
   "execution_count": 189,
   "id": "bb94f8d8",
   "metadata": {},
   "outputs": [
    {
     "data": {
      "application/vnd.microsoft.datawrangler.viewer.v0+json": {
       "columns": [
        {
         "name": "index",
         "rawType": "int64",
         "type": "integer"
        },
        {
         "name": "anime_id",
         "rawType": "int64",
         "type": "integer"
        },
        {
         "name": "review",
         "rawType": "object",
         "type": "string"
        },
        {
         "name": "processed_review",
         "rawType": "object",
         "type": "string"
        },
        {
         "name": "similarity_score",
         "rawType": "float64",
         "type": "float"
        }
       ],
       "ref": "6d511746-7cea-4f7b-ad24-1fb0ca504e49",
       "rows": [
        [
         "182300",
         "42307",
         "Should you watch this instead of playing the game? Hell no, the game is a masterpiece and this does not spend the time to fully capture the game. It would need around triple the\nepisode count to be able to fully express how good the game is. That being said, this anime is pretty. If you have played the game and love it, and are okay with watching a very\npretty looking recap this is great. My ratings are how the anime on it's own handles these various categories; the overall is how I think this anime is if you played the game, love\nit, and knowwhat you're getting into.",
         "instead playing game hell game masterpiece spend fully capture game need around triple count able fully express game said played game okay looking recap rating handle various\ncategory played game knowwhat getting",
         "0.9842266782344952"
        ],
        [
         "98202",
         "21511",
         "I can't belive this... They ruined it... It's not even Kadokawa's compane created this anime... Though they has ruined some ogirinal game mechanics. Repair yard: Sauna in anime,\nbut a massive dock factory in actual game. At least they kept green buckets. Characters details: In anime tkanmusu don't carry thier gear on surface, but in game kanmusu do. Though\nAnime Admiral is typical KanColle weeb. Playing the game because of waifus. Many of KC players do that. They forgot to include fairies from game to anime, they are important part\nof the game. Graphics: Cause of KanColle was a browser game, it's images was JPEG compressed. Only inthis situation anime is winning. Sound: Since it's anime it has no sounds for\nweb and it's not really compressed so much.  Overall: It's a poor attempt to create an anime adaptaion for peopls who don't played the actual game. Though construction was never\nshown in anime. Anime Admiras was typical KC weeb, playing the game to only collect his waifus. Ah also, there is no \"Legendary Bauxite\" in the game, only generic one. Anime Kngou\nhas a lewd dream about Anime Admiral. That's really werid. Anime served us a total crap whick has minor relation to game. It's better to let Kadokawa to make anime adaptation.",
         "belive ruined kadokawa compane created though ruined ogirinal game mechanic repair yard sauna massive dock factory actual game least kept green bucket detail tkanmusu carry thier\ngear surface game kanmusu though admiral typical kancolle weeb playing game waifus kc player forgot include fairy game important part game graphic cause kancolle browser game image\njpeg compressed inthis situation winning sound since sound web compressed poor attempt create adaptaion peopls played actual game though construction never shown admiras typical kc\nweeb playing game collect waifus ah legendary bauxite game generic kngou lewd dream admiral werid served u total crap whick minor relation game better let kadokawa adaptation",
         "0.9788891666615321"
        ],
        [
         "77109",
         "11757",
         "The story is great so far. Although following the rules of the game can be too much to contain but the characters are well constructed. It brings a point of view of what might\nhappen to those video game lovers who wish that the games could become their reality.",
         "far although following rule game contain constructed brings point view might happen video game lover wish game become reality",
         "0.9733008686444848"
        ],
        [
         "189901",
         "48441",
         "If you've played and liked the Cold Steel series games, then you will like and appreciate this anime. From the game's ost to many cameos of familiar locations and characters, this\nanime is a love letter to Cold Steel fans. If you haven't played the games, then this anime is not for you and you won't enjoy it. The anime expects you to know the background\ncontext already as it is referenced in the games. On its own it doesn't have a lot of weight and should be seen as an extension of the Cold Steel games not a standalone series.This\nstory is merely a part of the much larger trails narrative, that wraps up in the Cold Steel IV game.  This anime is not meant to get you into the games, but rather assumes those\nwatching have already played them.",
         "played liked cold steel game appreciate game ost cameo familiar location letter cold steel fan played game enjoy expects background context already referenced game weight seen\nextension cold steel game standalone merely part larger trail narrative wrap cold steel iv game meant game rather assumes already played",
         "0.9723327803219416"
        ],
        [
         "194455",
         "50205",
         "Arknights : Prelude to dawn is an anime adaptation of a game with the same name. 1- The story of Arknights takes place in a post-apocalyptic world where a disease has infected some\npeople causing them to slowly die and infect others after death. The infected people are discriminated against by the non-infected governments which causes a group of infected\ncalled reunion to become terrorists. The main characters are a group called rhodes island which are made up of infected people working for a world in which the infected and non-\ninfected can coexist in peace. If we ignore the game and look at the anime asa separate project, the story is well written and developed. The world and characters were introduced\nproperly and in overall the anime was interesting and amusing.   2- The animation style was (for me) interesting. The background was well drawn and the characters were ell\ndesigned, however the anime was lacking in fight scenes (probably due to limited budget). My score for animation will be 7/10.  3- Although i haven't been playing the game for a\nlong time,I found that the anime has captured the feelings of the game creators. The characters were well developed and the world was built based on in-game designs. Many people\nhave found that the anime was rushed and didn't give the characters the time and attention they needed that was probably due to the game length (8 episodes which took me a day to\nfinish equals to 3 chapters in-game which took a month to finish). As a new player i cannot give a professional opinion however in my experience watching anime Arknights : Prelude\nto dawn was not rushed.  4- I haven't watched many anime game adaptations however Arknights anime was made to be enjoyed by game and non-game players alike. Creating an anime based\non a game is harder than based on a manga however Arknights captured the game story and game play in a way that many other manga adaptations weren't able to. A non game player can\nwatch the anime and understand the game and love the characters without playing the game.  My overall Rating for Arknights is 8/10. This is because the people who made this anime\nmade it for all people not only the ones who played the game. It was made with love and dedication for the game world and characters.",
         "arknights prelude dawn adaptation game name arknights take place post apocalyptic disease infected causing slowly die infect others death infected discriminated non infected\ngovernment cause group infected called reunion become terrorist group called rhodes island made infected working infected non infected coexist peace ignore game look asa separate\nproject written developed introduced properly interesting amusing style interesting background drawn ell designed however lacking fight scene probably due limited budget score\nalthough playing game long found captured feeling game creator developed built based game design found rushed give attention needed probably due game length took day finish equal\nchapter game took month finish new player cannot give professional opinion however experience arknights prelude dawn rushed watched game adaptation however arknights made enjoyed\ngame non game player alike creating based game harder based manga however arknights captured game game play manga adaptation able non game player understand game without playing\ngame rating arknights made made one played game made dedication game",
         "0.9698718522511479"
        ]
       ],
       "shape": {
        "columns": 4,
        "rows": 5
       }
      },
      "text/html": [
       "<div>\n",
       "<style scoped>\n",
       "    .dataframe tbody tr th:only-of-type {\n",
       "        vertical-align: middle;\n",
       "    }\n",
       "\n",
       "    .dataframe tbody tr th {\n",
       "        vertical-align: top;\n",
       "    }\n",
       "\n",
       "    .dataframe thead th {\n",
       "        text-align: right;\n",
       "    }\n",
       "</style>\n",
       "<table border=\"1\" class=\"dataframe\">\n",
       "  <thead>\n",
       "    <tr style=\"text-align: right;\">\n",
       "      <th></th>\n",
       "      <th>anime_id</th>\n",
       "      <th>review</th>\n",
       "      <th>processed_review</th>\n",
       "      <th>similarity_score</th>\n",
       "    </tr>\n",
       "  </thead>\n",
       "  <tbody>\n",
       "    <tr>\n",
       "      <th>182300</th>\n",
       "      <td>42307</td>\n",
       "      <td>Should you watch this instead of playing the g...</td>\n",
       "      <td>instead playing game hell game masterpiece spe...</td>\n",
       "      <td>0.984227</td>\n",
       "    </tr>\n",
       "    <tr>\n",
       "      <th>98202</th>\n",
       "      <td>21511</td>\n",
       "      <td>I can't belive this... They ruined it... It's ...</td>\n",
       "      <td>belive ruined kadokawa compane created though ...</td>\n",
       "      <td>0.978889</td>\n",
       "    </tr>\n",
       "    <tr>\n",
       "      <th>77109</th>\n",
       "      <td>11757</td>\n",
       "      <td>The story is great so far. Although following ...</td>\n",
       "      <td>far although following rule game contain const...</td>\n",
       "      <td>0.973301</td>\n",
       "    </tr>\n",
       "    <tr>\n",
       "      <th>189901</th>\n",
       "      <td>48441</td>\n",
       "      <td>If you've played and liked the Cold Steel seri...</td>\n",
       "      <td>played liked cold steel game appreciate game o...</td>\n",
       "      <td>0.972333</td>\n",
       "    </tr>\n",
       "    <tr>\n",
       "      <th>194455</th>\n",
       "      <td>50205</td>\n",
       "      <td>Arknights : Prelude to dawn is an anime adapta...</td>\n",
       "      <td>arknights prelude dawn adaptation game name ar...</td>\n",
       "      <td>0.969872</td>\n",
       "    </tr>\n",
       "  </tbody>\n",
       "</table>\n",
       "</div>"
      ],
      "text/plain": [
       "        anime_id                                             review  \\\n",
       "182300     42307  Should you watch this instead of playing the g...   \n",
       "98202      21511  I can't belive this... They ruined it... It's ...   \n",
       "77109      11757  The story is great so far. Although following ...   \n",
       "189901     48441  If you've played and liked the Cold Steel seri...   \n",
       "194455     50205  Arknights : Prelude to dawn is an anime adapta...   \n",
       "\n",
       "                                         processed_review  similarity_score  \n",
       "182300  instead playing game hell game masterpiece spe...          0.984227  \n",
       "98202   belive ruined kadokawa compane created though ...          0.978889  \n",
       "77109   far although following rule game contain const...          0.973301  \n",
       "189901  played liked cold steel game appreciate game o...          0.972333  \n",
       "194455  arknights prelude dawn adaptation game name ar...          0.969872  "
      ]
     },
     "execution_count": 189,
     "metadata": {},
     "output_type": "execute_result"
    }
   ],
   "source": [
    "recommendations_new_query.head()"
   ]
  },
  {
   "cell_type": "code",
   "execution_count": 190,
   "id": "4d56380a",
   "metadata": {},
   "outputs": [
    {
     "data": {
      "application/vnd.microsoft.datawrangler.viewer.v0+json": {
       "columns": [
        {
         "name": "index",
         "rawType": "int64",
         "type": "integer"
        },
        {
         "name": "anime_id",
         "rawType": "int64",
         "type": "integer"
        },
        {
         "name": "title",
         "rawType": "object",
         "type": "string"
        },
        {
         "name": "synopsis",
         "rawType": "object",
         "type": "string"
        }
       ],
       "ref": "2616f17d-7b91-4338-910f-c71a87743757",
       "rows": [
        [
         "2869",
         "10588",
         "Persona 4 the Animation",
         "Yuu Narukami moves to Inaba, a seemingly quiet and ordinary town, where he quickly befriends the clumsy transfer student Yousuke Hanamura, the energetic Chie Satonaka, and the beautiful heiress Yukiko Amagi. Shortly after Yuu's arrival, a chain of mysterious killings begin to occur on foggy days. At the same time, rumors about a strange television channel—dubbed the \"Midnight Channel\"—spread like wildfire; when staring into their TV screen at midnight, a person may see their soul mate. After witnessing the most recent murder victim on the Midnight Channel, Yuu attempts to watch it again, only to realize that he can traverse into the TV and reach another world overrun with \"Shadows,\" evil creatures of the dark. Realizing the link behind the hidden dimension and the murders, Yuu and his friends attempt to crack the cases by exploring the diabolical world of the Midnight Channel using their \"Personas,\" awakened manifestations of their \"true selves.\""
        ],
        [
         "2978",
         "11757",
         "Sword Art Online",
         "In the year 2022, virtual reality has progressed by leaps and bounds, and a massive online role-playing game called Sword Art Online (SAO) is launched. With the aid of \"NerveGear\" technology, players can control their avatars within the game using nothing but their own thoughts. Kazuto Kirigaya, nicknamed \"Kirito,\" is among the lucky few enthusiasts who get their hands on the first shipment of the game. He logs in to find himself, with ten-thousand others, in the scenic and elaborate world of Aincrad, one full of fantastic medieval weapons and gruesome monsters. However, in a cruel turn of events, the players soon realize they cannot log out; the game's creator has trapped them in his new world until they complete all one hundred levels of the game. In order to escape Aincrad, Kirito will now have to interact and cooperate with his fellow players. Some are allies, while others are foes, like Asuna Yuuki, who commands the leading group attempting to escape from the ruthless game. To make matters worse, Sword Art Online is not all fun and games: if they die in Aincrad, they die in real life. Kirito must adapt to his new reality, fight for his survival, and hopefully break free from his virtual hell."
        ],
        [
         "3286",
         "16592",
         "Danganronpa: The Animation",
         "Hope's Peak Academy is an elite high school that accepts only the most talented students. Individuals who successfully enroll receive their own unique titles, suitably reflective of their skills and traits. Of the fifteen candidates admitted to the peculiar school that year, Makoto Naegi is a completely ordinary individual who has been accepted by sheer chance, with the title of \"Super High School-Level Luck.\" Naegi and his fellow classmates are initially ecstatic to be chosen to study at this prestigious institution, but these feelings of happiness are short-lived. They are soon confronted by Monokuma, the principal and resident bear, who traps them inside the school. The pupils' hopes of escape and graduation hinge on one of them successfully murdering one of their peers without being discovered. However, if the killer is caught, he or she will be executed, and the remaining survivors will be left to continue the deathmatch until only a single victor remains."
        ],
        [
         "3535",
         "19815",
         "No Game, No Life",
         "No Game No Life is a surreal comedy that follows Sora and Shiro, shut-in NEET siblings and the online gamer duo behind the legendary username \"Blank.\" They view the real world as just another lousy game; however, a strange e-mail challenging them to a chess match changes everything—the brother and sister are plunged into an otherworldly realm where they meet Tet, the God of Games. The mysterious god welcomes Sora and Shiro to Disboard, a world where all forms of conflict—from petty squabbles to the fate of whole countries—are settled not through war, but by way of high-stake games. This system works thanks to a fundamental rule wherein each party must wager something they deem to be of equal value to the other party's wager. In this strange land where the very idea of humanity is reduced to child's play, the indifferent genius gamer duo of Sora and Shiro have finally found a real reason to keep playing games: to unite the sixteen races of Disboard, defeat Tet, and become the gods of this new, gaming-is-everything world."
        ],
        [
         "3661",
         "21511",
         "KanColle: Kantai Collection",
         "h the seas under constant threat from the hostile \"Abyssal Fleet,\" a specialized naval base is established to counter them. Rather than standard naval weaponry, however, the base is armed with \"Kanmusu\"—girls who harbor the spirits of Japanese warships—possessing the ability to don weaponized gear that allows them to harness the powerful souls within themselves. Fubuki, a young Destroyer-type Kanmusu, joins the base as a new recruit; unfortunately for her, despite her inexperience and timid nature, she is assigned to the famous Third Torpedo Squadron and quickly thrust into the heat of battle. When she is rescued from near annihilation, the rookie warship resolves to become as strong as the one who saved her."
        ],
        [
         "3947",
         "28223",
         "Death Parade",
         "fter death, there is no heaven or hell, only a bar that stands between reincarnation and oblivion. There the attendant will, one after another, challenge pairs of the recently deceased to a random game in which their fate of either ascending into reincarnation or falling into the void will be wagered. Whether it's bowling, darts, air hockey, or anything in between, each person's true nature will be revealed in a ghastly parade of death and memories, dancing to the whims of the bar's master. Welcome to Quindecim, where Decim, arbiter of the afterlife, awaits! Death Parade expands upon the original one-shot intended to train young animators. It follows yet more people receiving judgment—until a strange, black-haired guest causes Decim to begin questioning his own rulings."
        ],
        [
         "5370",
         "40403",
         "Sakura Wars the Animation",
         "In 1930, two years after the events of So Long, My Love, the Great Demon War results in the annihilation of the Imperial, Paris and New York Combat Revues' Flower Divisions. With Earth at peace and the revues' actions becoming public, the World Combat Revue Organization is formed with several international divisions; a biennial international Combat Revue tournament has been organized. Ten years later in 1940, Imperial Japanese Navy captain Seijuurou Kamiyama is assigned as the captain of the new Imperial Combat Revue's Flower Division in Tokyo, which consists of: Sakura Amamiya, a swordswoman and new recruit; Hatsuho Shinonome, a shrine maiden and the most popular actress; Anastasia Palma, a newly-transferred Greek actress; Azami Mochizuki, a ninja prodigy from the Mochizuki clan; and Clarissa \"Clarise\" Snowflake, a Luxembourgian noblewoman. The division once again faces a new demon invasion and participates in the upcoming tournament—while trying to keep their home at the Imperial Theater open. (Source: Wikipedia, edited)"
        ],
        [
         "5556",
         "42307",
         "The World Ends with You The Animation",
         "Neku Sakuraba, a 15-year-old boy with a hobby for music and graffiti, wakes up in what seems to be the Shibuya shopping district of Tokyo, Japan. With no idea why he's there, he opens his hand to realize he is holding a strange black pin. After flipping it with his hand, the thoughts of the people surrounding him begins to flow into his head at once. Surprised, Neku discovers he is able to read the minds of others and assumes it has something to do with the black pin he is holding. A cell phone starts to ring in his pocket, and he can't tell whether it is his or not. A text message appears: \"Reach 104. You have 60 minutes. Fail, and face erasure. -The Reapers.\" After discovering he can't delete the message, a timer of 60 minutes imprints onto his right hand. Neku is in Shibuya to play the \"Reapers' Game,\" which spans a total of seven days. All Players of the Reapers' Game have a black pin with a skull embedded on it. (Source: Wikipedia, edited)"
        ],
        [
         "5759",
         "48441",
         "The Legend of Heroes: Trails of Cold Steel - Northern War",
         "Eiyuu Densetsu: Sen no Kiseki centers around Rean Schwarzer, a professor at Thors Military Academy in the Erebonian Empire. The anime's story will focus on the western part of the Zemurian continent featured in the games. (Source: MAL News)"
        ],
        [
         "5888",
         "50205",
         "Arknights Animation: Prelude to Dawn",
         "The discovery of a black crystalline mineral known as Originium has accelerated technological advancement in the world of Terra, with its high energy yield allowing people to demonstrate abilities akin to magic called Arts. Large veins of Originium can naturally be found at the sites of Catastrophes, various forms of natural disasters caused by the mineral itself.\n\nHowever, the usage of Originium comes at a price, as there is a high risk of getting infected with Oripathy—an incurable and highly contagious disease. Because nations subject the infected to harsh discrimination, the oppressed begin a dissident movement. Calling themselves Reunion, the rebel faction mercilessly destroys cities, further contributing to the already calamitous nature of Catastrophes.\n\nRhodes Island, committed to treating the infected and uninfected as equals, is a paramilitary pharmaceutical organization believed to be the most advanced in its research for the Oripathy cure. Unfortunately, the person spearheading the project—an enigmatic figure known only as the Doctor—suffers from amnesia, effectively impeding what might be the only hope for the infected to break free from their chains of despair.\n\n[Written by MAL Rewrite]"
        ]
       ],
       "shape": {
        "columns": 3,
        "rows": 10
       }
      },
      "text/html": [
       "<div>\n",
       "<style scoped>\n",
       "    .dataframe tbody tr th:only-of-type {\n",
       "        vertical-align: middle;\n",
       "    }\n",
       "\n",
       "    .dataframe tbody tr th {\n",
       "        vertical-align: top;\n",
       "    }\n",
       "\n",
       "    .dataframe thead th {\n",
       "        text-align: right;\n",
       "    }\n",
       "</style>\n",
       "<table border=\"1\" class=\"dataframe\">\n",
       "  <thead>\n",
       "    <tr style=\"text-align: right;\">\n",
       "      <th></th>\n",
       "      <th>anime_id</th>\n",
       "      <th>title</th>\n",
       "      <th>synopsis</th>\n",
       "    </tr>\n",
       "  </thead>\n",
       "  <tbody>\n",
       "    <tr>\n",
       "      <th>2869</th>\n",
       "      <td>10588</td>\n",
       "      <td>Persona 4 the Animation</td>\n",
       "      <td>Yuu Narukami moves to Inaba, a seemingly quiet...</td>\n",
       "    </tr>\n",
       "    <tr>\n",
       "      <th>2978</th>\n",
       "      <td>11757</td>\n",
       "      <td>Sword Art Online</td>\n",
       "      <td>In the year 2022, virtual reality has progress...</td>\n",
       "    </tr>\n",
       "    <tr>\n",
       "      <th>3286</th>\n",
       "      <td>16592</td>\n",
       "      <td>Danganronpa: The Animation</td>\n",
       "      <td>Hope's Peak Academy is an elite high school th...</td>\n",
       "    </tr>\n",
       "    <tr>\n",
       "      <th>3535</th>\n",
       "      <td>19815</td>\n",
       "      <td>No Game, No Life</td>\n",
       "      <td>No Game No Life is a surreal comedy that follo...</td>\n",
       "    </tr>\n",
       "    <tr>\n",
       "      <th>3661</th>\n",
       "      <td>21511</td>\n",
       "      <td>KanColle: Kantai Collection</td>\n",
       "      <td>h the seas under constant threat from the host...</td>\n",
       "    </tr>\n",
       "    <tr>\n",
       "      <th>3947</th>\n",
       "      <td>28223</td>\n",
       "      <td>Death Parade</td>\n",
       "      <td>fter death, there is no heaven or hell, only a...</td>\n",
       "    </tr>\n",
       "    <tr>\n",
       "      <th>5370</th>\n",
       "      <td>40403</td>\n",
       "      <td>Sakura Wars the Animation</td>\n",
       "      <td>In 1930, two years after the events of So Long...</td>\n",
       "    </tr>\n",
       "    <tr>\n",
       "      <th>5556</th>\n",
       "      <td>42307</td>\n",
       "      <td>The World Ends with You The Animation</td>\n",
       "      <td>Neku Sakuraba, a 15-year-old boy with a hobby ...</td>\n",
       "    </tr>\n",
       "    <tr>\n",
       "      <th>5759</th>\n",
       "      <td>48441</td>\n",
       "      <td>The Legend of Heroes: Trails of Cold Steel - N...</td>\n",
       "      <td>Eiyuu Densetsu: Sen no Kiseki centers around R...</td>\n",
       "    </tr>\n",
       "    <tr>\n",
       "      <th>5888</th>\n",
       "      <td>50205</td>\n",
       "      <td>Arknights Animation: Prelude to Dawn</td>\n",
       "      <td>The discovery of a black crystalline mineral k...</td>\n",
       "    </tr>\n",
       "  </tbody>\n",
       "</table>\n",
       "</div>"
      ],
      "text/plain": [
       "      anime_id                                              title  \\\n",
       "2869     10588                            Persona 4 the Animation   \n",
       "2978     11757                                   Sword Art Online   \n",
       "3286     16592                         Danganronpa: The Animation   \n",
       "3535     19815                                   No Game, No Life   \n",
       "3661     21511                        KanColle: Kantai Collection   \n",
       "3947     28223                                       Death Parade   \n",
       "5370     40403                          Sakura Wars the Animation   \n",
       "5556     42307              The World Ends with You The Animation   \n",
       "5759     48441  The Legend of Heroes: Trails of Cold Steel - N...   \n",
       "5888     50205               Arknights Animation: Prelude to Dawn   \n",
       "\n",
       "                                               synopsis  \n",
       "2869  Yuu Narukami moves to Inaba, a seemingly quiet...  \n",
       "2978  In the year 2022, virtual reality has progress...  \n",
       "3286  Hope's Peak Academy is an elite high school th...  \n",
       "3535  No Game No Life is a surreal comedy that follo...  \n",
       "3661  h the seas under constant threat from the host...  \n",
       "3947  fter death, there is no heaven or hell, only a...  \n",
       "5370  In 1930, two years after the events of So Long...  \n",
       "5556  Neku Sakuraba, a 15-year-old boy with a hobby ...  \n",
       "5759  Eiyuu Densetsu: Sen no Kiseki centers around R...  \n",
       "5888  The discovery of a black crystalline mineral k...  "
      ]
     },
     "execution_count": 190,
     "metadata": {},
     "output_type": "execute_result"
    }
   ],
   "source": [
    "recommendation_ids = set(recommendations_new_query[\"anime_id\"].unique())\n",
    "anime_df.loc[anime_df[\"anime_id\"].isin(recommendation_ids), [\"anime_id\", \"title\", \"synopsis\"]]"
   ]
  },
  {
   "cell_type": "markdown",
   "id": "2339b984",
   "metadata": {},
   "source": [
    "5. science made to be fun and easy to learn"
   ]
  },
  {
   "cell_type": "code",
   "execution_count": 191,
   "id": "379e99d4",
   "metadata": {},
   "outputs": [
    {
     "data": {
      "image/png": "[encoded data removed]",
      "text/plain": [
       "<Figure size 640x480 with 1 Axes>"
      ]
     },
     "metadata": {},
     "output_type": "display_data"
    },
    {
     "name": "stderr",
     "output_type": "stream",
     "text": [
      "C:\\Users\\Asus-Home\\AppData\\Local\\Temp\\ipykernel_20432\\122375758.py:17: SettingWithCopyWarning: \n",
      "A value is trying to be set on a copy of a slice from a DataFrame.\n",
      "Try using .loc[row_indexer,col_indexer] = value instead\n",
      "\n",
      "See the caveats in the documentation: https://pandas.pydata.org/pandas-docs/stable/user_guide/indexing.html#returning-a-view-versus-a-copy\n",
      "  recommended_items['similarity_score'] = similarities[top_indices]\n"
     ]
    }
   ],
   "source": [
    "recommendations_new_query = recommend_from_query_text(query_5, df, tfidf_vectorizer, tfidf_matrix, lsa_model, num_recommendations=10)"
   ]
  },
  {
   "cell_type": "code",
   "execution_count": 192,
   "id": "7c747762",
   "metadata": {},
   "outputs": [
    {
     "data": {
      "application/vnd.microsoft.datawrangler.viewer.v0+json": {
       "columns": [
        {
         "name": "index",
         "rawType": "int64",
         "type": "integer"
        },
        {
         "name": "anime_id",
         "rawType": "int64",
         "type": "integer"
        },
        {
         "name": "review",
         "rawType": "object",
         "type": "string"
        },
        {
         "name": "processed_review",
         "rawType": "object",
         "type": "string"
        },
        {
         "name": "similarity_score",
         "rawType": "float64",
         "type": "float"
        }
       ],
       "ref": "d31e7019-58d7-469d-a826-89c7b13bead1",
       "rows": [
        [
         "123793",
         "31953",
         "This anime is just a delight to watch. Sure it won't be remarkable or revolutionize anime, but it's a fun and enjoyable anime regardless. I loved watching every single episode,\nwith each episode being funny and goofy in its own way. I also like that fact that although there are scenes that are for fanservice, they don't last for a long time; they would\nappear for a few seconds, and then the story would continue. Each character has their own unique quirkiness and that's what makes each character lovable in their own respected\nways. Overall, this anime is just fun. The story is fun, thecharacters are fun, the environment is fun, it is just fun.",
         "delight sure remarkable revolutionize fun enjoyable regardless loved every single funny goofy fact although scene fanservice last long appear second continue unique quirkiness make\nlovable respected way fun fun thecharacters fun environment fun fun",
         "0.906177993173884"
        ],
        [
         "112884",
         "28825",
         "This story is quite simple, this is a kid who decides to live a double personality life and the life she has at home is completely out of character to how anyone has seen her. Lets\nget something strait, its not something that will blow you away or wow you with a story that is riveting. This show is simply a fun watch. You get to enjoy the shenanigans that\nUmaru gets in to and how she keeps up this double personality. Its really fun to see how there are times that you have these genuine connections between Umaru and her brother and\nhow eversince he moved she has missed his presence but its relatively strait forward.   This anime knows what its doing at it does it well, its fun to watch and just a fun escape\nfrom seriousness. I do recommend it for a watch if your looking for a fun slice of life anime!",
         "quite simple kid decides live double personality home completely anyone seen let strait blow away wow riveting simply fun enjoy shenanigan umaru get keep double personality fun\ntime genuine connection umaru brother eversince moved missed presence relatively strait forward know fun fun escape seriousness recommend looking fun slice",
         "0.9005556408931672"
        ],
        [
         "176102",
         "40852",
         "Dr. Stone: Stone Wars is such a fun anime to watch, and a great continuation to the first season. Coming off the hype from Dr. Stone this second season is just more of the same fun\nfound in the first one. The stakes feel higher this season and it really does a good job showcasing the characters preparing for war, and even then, it manages this to look super\nfun. Even with such a serious plot this time around the anime still manages to keep the fun parts and it knows when to not take itself to seriously. This season, just like the\nfirst one, makes youfeel really accomplished as the plot advances. As Senkuu advances the Kingdom of Science's technology you feel like you're there with them in the excitement,\nit's a really exciting and exhilarating experience.  It's a fun watch, as always, if you liked the first season, you're gonna love this one.  10 billion/10",
         "dr stone stone war fun continuation coming hype dr stone second fun found stake higher job showcasing preparing war manages look super fun serious around manages keep fun part know\ntake seriously make youfeel accomplished advance senkuu advance kingdom science technology excitement exciting exhilarating experience fun always liked gonna billion",
         "0.8929224770003961"
        ],
        [
         "132892",
         "33489",
         "This is a simple and fun show, one of those with the only intention of being a fun ride. There is not much to explain here because everything is pretty straightforward, there is\nnot many surprises and in writing terms is as simple as it can be but it works pretty well even with that. The commedy is effective, the characters are charismatic, the chemistry\nbetween them is hilarious, is perfect to have a good time. Besides, is from Trigger so the animation has a special expresivity that mesh perfectly with the fun and light tone of\nthe series. There are people who say that the secondhalf is not as fun as the first as is plot centered but is not really a big difference. The plot never is the focus until the\nend and even then most of the elements are pretty predictable so not centering around the weakest element of the series is almost a plus.  The soundtrack is okay, the animation is\nexpressive, fluid and adorable, the characters are really funny and the story is just there. I don't have much to criticize because it suceeds in what it tries but is not something\noverwhelmingly good. Just an amene show to enjoy yourself.  Recommended for basically anyone who isn't seeking complexity or a plot heavy show.",
         "simple fun intention fun ride explain everything straightforward surprise writing term simple work commedy effective charismatic chemistry hilarious perfect besides trigger special\nexpresivity mesh perfectly fun light tone secondhalf fun centered big difference never focus element predictable centering around weakest element almost plus soundtrack okay\nexpressive fluid adorable funny criticize suceeds try overwhelmingly amene enjoy recommended basically anyone seeking complexity heavy",
         "0.8866306150735912"
        ],
        [
         "196000",
         "49385",
         "Kaijin Kaihatsu-bu no Kuroitsu-san (2022) This was a lot more fun of a show than I expected it to be, especially with the final episode which was a right fun episode. The story is\na simple day in the life of _____ sort of show. It is a fun time too. The art is good and basic for the sort of show it is. If it was too crazy in detail it wouldn't suit this sort\nof show. Whilst the sound lacks oomph it is fine but then also lacking. The sounds generally are pretty fun. The characters are just wild and unexpected which makes fora great\ntime.   Honestly, the show is good nothing more. It feels like if it was in the 1990s/2000s it would be a serious show but here in 2022 it is not and that makes it so much better.\n7/10.",
         "kaijin kaihatsu bu kuroitsu san fun expected especially final right fun simple day sort fun basic sort crazy detail suit sort whilst sound lack oomph fine lacking sound generally\nfun wild unexpected make forum honestly nothing feel serious make better",
         "0.8723478439853669"
        ]
       ],
       "shape": {
        "columns": 4,
        "rows": 5
       }
      },
      "text/html": [
       "<div>\n",
       "<style scoped>\n",
       "    .dataframe tbody tr th:only-of-type {\n",
       "        vertical-align: middle;\n",
       "    }\n",
       "\n",
       "    .dataframe tbody tr th {\n",
       "        vertical-align: top;\n",
       "    }\n",
       "\n",
       "    .dataframe thead th {\n",
       "        text-align: right;\n",
       "    }\n",
       "</style>\n",
       "<table border=\"1\" class=\"dataframe\">\n",
       "  <thead>\n",
       "    <tr style=\"text-align: right;\">\n",
       "      <th></th>\n",
       "      <th>anime_id</th>\n",
       "      <th>review</th>\n",
       "      <th>processed_review</th>\n",
       "      <th>similarity_score</th>\n",
       "    </tr>\n",
       "  </thead>\n",
       "  <tbody>\n",
       "    <tr>\n",
       "      <th>123793</th>\n",
       "      <td>31953</td>\n",
       "      <td>This anime is just a delight to watch. Sure it...</td>\n",
       "      <td>delight sure remarkable revolutionize fun enjo...</td>\n",
       "      <td>0.906178</td>\n",
       "    </tr>\n",
       "    <tr>\n",
       "      <th>112884</th>\n",
       "      <td>28825</td>\n",
       "      <td>This story is quite simple, this is a kid who ...</td>\n",
       "      <td>quite simple kid decides live double personali...</td>\n",
       "      <td>0.900556</td>\n",
       "    </tr>\n",
       "    <tr>\n",
       "      <th>176102</th>\n",
       "      <td>40852</td>\n",
       "      <td>Dr. Stone: Stone Wars is such a fun anime to w...</td>\n",
       "      <td>dr stone stone war fun continuation coming hyp...</td>\n",
       "      <td>0.892922</td>\n",
       "    </tr>\n",
       "    <tr>\n",
       "      <th>132892</th>\n",
       "      <td>33489</td>\n",
       "      <td>This is a simple and fun show, one of those wi...</td>\n",
       "      <td>simple fun intention fun ride explain everythi...</td>\n",
       "      <td>0.886631</td>\n",
       "    </tr>\n",
       "    <tr>\n",
       "      <th>196000</th>\n",
       "      <td>49385</td>\n",
       "      <td>Kaijin Kaihatsu-bu no Kuroitsu-san (2022) This...</td>\n",
       "      <td>kaijin kaihatsu bu kuroitsu san fun expected e...</td>\n",
       "      <td>0.872348</td>\n",
       "    </tr>\n",
       "  </tbody>\n",
       "</table>\n",
       "</div>"
      ],
      "text/plain": [
       "        anime_id                                             review  \\\n",
       "123793     31953  This anime is just a delight to watch. Sure it...   \n",
       "112884     28825  This story is quite simple, this is a kid who ...   \n",
       "176102     40852  Dr. Stone: Stone Wars is such a fun anime to w...   \n",
       "132892     33489  This is a simple and fun show, one of those wi...   \n",
       "196000     49385  Kaijin Kaihatsu-bu no Kuroitsu-san (2022) This...   \n",
       "\n",
       "                                         processed_review  similarity_score  \n",
       "123793  delight sure remarkable revolutionize fun enjo...          0.906178  \n",
       "112884  quite simple kid decides live double personali...          0.900556  \n",
       "176102  dr stone stone war fun continuation coming hyp...          0.892922  \n",
       "132892  simple fun intention fun ride explain everythi...          0.886631  \n",
       "196000  kaijin kaihatsu bu kuroitsu san fun expected e...          0.872348  "
      ]
     },
     "execution_count": 192,
     "metadata": {},
     "output_type": "execute_result"
    }
   ],
   "source": [
    "recommendations_new_query.head()"
   ]
  },
  {
   "cell_type": "code",
   "execution_count": 193,
   "id": "422d845f",
   "metadata": {},
   "outputs": [
    {
     "data": {
      "application/vnd.microsoft.datawrangler.viewer.v0+json": {
       "columns": [
        {
         "name": "index",
         "rawType": "int64",
         "type": "integer"
        },
        {
         "name": "anime_id",
         "rawType": "int64",
         "type": "integer"
        },
        {
         "name": "title",
         "rawType": "object",
         "type": "string"
        },
        {
         "name": "synopsis",
         "rawType": "object",
         "type": "string"
        }
       ],
       "ref": "e77bedcc-9b43-4250-9027-9ac55d19e6a3",
       "rows": [
        [
         "162",
         "223",
         "Dragon Ball",
         "Gokuu Son is a young boy who lives in the woods all alone—that is, until a girl named Bulma runs into him in her search for a set of magical objects called the \"Dragon Balls.\" Since the artifacts are said to grant one wish to whoever collects all seven, Bulma hopes to gather them and wish for a perfect boyfriend. Gokuu happens to be in possession of a dragon ball, but unfortunately for Bulma, he refuses to part ways with it, so she makes him a deal: he can tag along on her journey if he lets her borrow the dragon ball's power. With that, the two set off on the journey of a lifetime. They don't go on the journey alone. On the way, they meet the old Muten-Roshi and wannabe disciple Kuririn, with whom Gokuu trains to become a stronger martial artist for the upcoming World Martial Arts Tournament. However, it's not all fun and games; the ability to make any wish come true is a powerful one, and there are others who would do much worse than just wishing for a boyfriend. To stop those who would try to abuse the legendary power, they train to become stronger fighters, using their newfound strength to help the people around them along the way."
        ],
        [
         "2245",
         "6347",
         "Baka & Test - Summon the Beasts",
         "Fumizuki Academy isn't a typical Japanese high school. This unique institution has implemented a new and innovative system to sort its students. At the end of their freshman year, students take a test that divides up the student body. The highest scorers are placed into A class, all the way down until F class, for the lowest of the low. Unfortunately for Akihisa Yoshii, his supposedly \"great\" intellect wasn't quite enough for such a test, and he's now stuck at the bottom of F class. Naturally, F class has the worst facilities: not only rotten tatami mats and broken tables, but also outdated equipment and worn out furniture. On the bright side, his friend Yuuji Sakamoto is in the same class, and to everyone's surprise, the genius girl Mizuki Himeji has also ended up in the same class due to an unforeseen fever on the day of the test. Unsatisfied with their perquisites, F class rallies behind Yuuji, determined to take on the higher-tiered classes in order to seize their perks by using the school's Examinations Summon Battle system. The participants can summon fantasy characters—whose power levels are equal to their student's test scores—in an all-out battle. Will F class be able to rise to the top, or will they live up to everyone's expectations and fail?"
        ],
        [
         "3702",
         "22147",
         "Amagi Brilliant Park",
         "Seiya Kanie, a smart and extremely narcissistic high school student, believes that the beautiful but reserved Isuzu Sento has invited him on a date at an amusement park called Amagi Brilliant Park. Much to his chagrin, not only is the location a run-down facility, the supposed date is merely a recruitment tour where Sento and Princess Latifa Fleuranza, the owner of the theme park, ask him to become the park's new manager. Their cause for desperation? As stipulated in a land-use contract, Amagi has less than three months to meet a quota of 500,000 guests, or the park will be closed for good and the land redeveloped by a greedy real-estate company. Seiya is won over by the revelation that Amagi is no ordinary amusement park; many of its employees are Maple Landers—mysterious magical beings who live in the human world and are nourished by the energy created by people having fun. Entrusted with the hopes and dreams of this far-off enchanted land, Seiya must now use his many skills to bring Amagi back on its feet, or watch it crumble before his eyes."
        ],
        [
         "3941",
         "28121",
         "Is It Wrong to Try to Pick Up Girls in a Dungeon?",
         "fe in the bustling city of Orario is never dull, especially for Bell Cranel, a naïve young man who hopes to become the greatest adventurer in the land. After a chance encounter with the lonely goddess, Hestia, his dreams become a little closer to reality. With her support, Bell embarks on a fantastic quest as he ventures deep within the city's monster-filled catacombs, known only as the \"Dungeon.\" Death lurks around every corner in the cavernous depths of this terrifying labyrinth, and a mysterious power moves amidst the shadows. Even on the surface, survival is a hard-earned privilege. Indeed, nothing is ever certain in a world where gods and humans live and work together, especially when they often struggle to get along. One thing is for sure, though: a myriad of blunders, triumphs and friendships awaits the dauntlessly optimistic protagonist of this herculean tale."
        ],
        [
         "3982",
         "28825",
         "Himouto! Umaru-chan",
         "People are not always who they appear to be, as is the case with Umaru Doma, the perfect high school girl—that is, until she gets home! Once the front door closes, the real fun begins. When she dons her hamster hoodie, she transforms from a refined, over-achieving student into a lazy, junk food-eating otaku, leaving all the housework to her responsible older brother Taihei. Whether she's hanging out with her friends Nana Ebina and Kirie Motoba, or competing with her self-proclaimed \"rival\" Sylphinford Tachibana, Umaru knows how to kick back and have some fun! Himouto! Umaru-chan is a cute story that follows the daily adventures of Umaru and Taihei, as they take care of—and put up with—each other the best they can, as well as the unbreakable bonds between friends and siblings."
        ],
        [
         "4267",
         "31953",
         "New Game!",
         "Since childhood, Aoba Suzukaze has loved the Fairies Story game series, particularly the character designs. So when she graduates from high school, it is no surprise that she applies to work at Eagle Jump, the company responsible for making her favorite video game. On her first day, she is excited to learn that she will be working on a new installment to the series: Fairies Story 3—and even more so under Kou Yagami, the lead character designer. In their department are people who share the same passion for games. There is Yun Iijima, whose specialty is designing monsters; the shy Hifumi Takimoto, who prefers to communicate through instant messaging; Hajime Shinoda, an animation team member with an impressive figurine collection; Rin Tooyama, the orderly art director; Shizuku Hazuki, the game director who brings her cat to work; and Umiko Ahagon, the short-tempered head programmer. New Game! follows Aoba and the others on their adventure through the ups and downs of game making, from making the perfect character design to fixing all the errors that will inevitably accumulate in the process."
        ],
        [
         "4468",
         "33489",
         "Little Witch Academia",
         "\"A believing heart is your magic!\"—these were the words that Atsuko \"Akko\" Kagari's idol, the renowned witch Shiny Chariot, said to her during a magic performance years ago. Since then, Akko has lived by these words and aspired to be a witch just like Shiny Chariot, one that can make people smile. Hence, even her non-magical background does not stop her from enrolling in Luna Nova Magical Academy. However, when an excited Akko finally sets off to her new school, the trip there is anything but smooth. After her perilous journey, she befriends the shy Lotte Yansson and the sarcastic Sucy Manbavaran. To her utmost delight, she also discovers Chariot's wand, the Shiny Rod, which she takes as her own. Unfortunately, her time at Luna Nova will prove to more challenging than Akko could ever believe. She absolutely refuses to stay inferior to the rest of her peers, especially to her self-proclaimed rival, the beautiful and gifted Diana Cavendish, so she relies on her determination to compensate for her reckless behavior and ineptitude in magic. In a time when wizardry is on the decline, Little Witch Academia follows the magical escapades of Akko and her friends as they learn the true meaning of being a witch."
        ],
        [
         "5434",
         "40852",
         "Dr. Stone 2nd Season, Dr. Stone Second Season",
         "Senkuu has made it his goal to bring back two million years of human achievement and revive the entirety of those turned to statues. However, one man stands in his way: Tsukasa Shishiou, who believes that only the fittest of those petrified should be revived. As the snow melts and spring approaches, Senkuu and his allies in Ishigami Village finish the preparations for their attack on the Tsukasa Empire. With a reinvented cell phone model now at their disposal, the Kingdom of Science is ready to launch its newest scheme to recruit the sizable numbers of Tsukasa's army to their side. However, it is a race against time; for every day the Kingdom of Science spends perfecting their inventions, the empire rapidly grows in number. Reuniting with old friends and gaining new allies, Senkuu and the Kingdom of Science must stop Tsukasa's forces in order to fulfill their goal of restoring humanity and all its creations. With the two sides each in pursuit of their ideal world, the Stone Wars have now begun!"
        ],
        [
         "5599",
         "42923",
         "SK8 the Infinity",
         "High school student Reki Kyan is passionate about one thing: skateboarding. When night falls, he heads to \"S,\" an illegal underground race inside a mine where skaters compete in highly dangerous situations. After a loss that results in his skateboard being destroyed and his arm being broken, Reki is now incapable of practicing at all. While working, Reki runs into his new classmate, Langa Hasegawa, a half-Canadian and half-Japanese boy with no skateboarding experience whatsoever. Langa is in desperate need of money. After they both visit \"S\" when tasked by Reki's boss, they get into trouble and are forced into a bet that requires Langa to skate in a race. However, the mysterious transfer student holds a trump card that Reki is unaware of, one which might help him win the race in the most unexpected way."
        ],
        [
         "5833",
         "49385",
         "Miss Kuroitsu from the Monster Development Department",
         "On the outside, Agastia is a firm specializing in entertainment, well-known for the theme park it operates. However, beneath such an exterior lies a monumental secret: Agastia is one of various highly advanced evil organizations that aim for world domination. Despite its true nature, the company boasts enticements that make it worthwhile to put up with the work environment. Led by its great leader Akashic, Agastia has recently become a frontrunner in reaching its fellow groups' common goal.\n\nWorking for Agastia's Monster Development Division, Touka Kuroitsu is a researcher who primarily does fieldwork due to the eccentricities of her seniors. Kuroitsu's everyday jobs also include giving abrupt presentations and proposals, meeting ridiculous expectations for monster designs, and accompanying said monsters to face inevitable defeat by Agastia's enemies. Nevertheless, nothing will stop Kuroitsu from doing her best if it means getting the promotion she desires!\n\n[Written by MAL Rewrite]"
        ]
       ],
       "shape": {
        "columns": 3,
        "rows": 10
       }
      },
      "text/html": [
       "<div>\n",
       "<style scoped>\n",
       "    .dataframe tbody tr th:only-of-type {\n",
       "        vertical-align: middle;\n",
       "    }\n",
       "\n",
       "    .dataframe tbody tr th {\n",
       "        vertical-align: top;\n",
       "    }\n",
       "\n",
       "    .dataframe thead th {\n",
       "        text-align: right;\n",
       "    }\n",
       "</style>\n",
       "<table border=\"1\" class=\"dataframe\">\n",
       "  <thead>\n",
       "    <tr style=\"text-align: right;\">\n",
       "      <th></th>\n",
       "      <th>anime_id</th>\n",
       "      <th>title</th>\n",
       "      <th>synopsis</th>\n",
       "    </tr>\n",
       "  </thead>\n",
       "  <tbody>\n",
       "    <tr>\n",
       "      <th>162</th>\n",
       "      <td>223</td>\n",
       "      <td>Dragon Ball</td>\n",
       "      <td>Gokuu Son is a young boy who lives in the wood...</td>\n",
       "    </tr>\n",
       "    <tr>\n",
       "      <th>2245</th>\n",
       "      <td>6347</td>\n",
       "      <td>Baka &amp; Test - Summon the Beasts</td>\n",
       "      <td>Fumizuki Academy isn't a typical Japanese high...</td>\n",
       "    </tr>\n",
       "    <tr>\n",
       "      <th>3702</th>\n",
       "      <td>22147</td>\n",
       "      <td>Amagi Brilliant Park</td>\n",
       "      <td>Seiya Kanie, a smart and extremely narcissisti...</td>\n",
       "    </tr>\n",
       "    <tr>\n",
       "      <th>3941</th>\n",
       "      <td>28121</td>\n",
       "      <td>Is It Wrong to Try to Pick Up Girls in a Dungeon?</td>\n",
       "      <td>fe in the bustling city of Orario is never dul...</td>\n",
       "    </tr>\n",
       "    <tr>\n",
       "      <th>3982</th>\n",
       "      <td>28825</td>\n",
       "      <td>Himouto! Umaru-chan</td>\n",
       "      <td>People are not always who they appear to be, a...</td>\n",
       "    </tr>\n",
       "    <tr>\n",
       "      <th>4267</th>\n",
       "      <td>31953</td>\n",
       "      <td>New Game!</td>\n",
       "      <td>Since childhood, Aoba Suzukaze has loved the F...</td>\n",
       "    </tr>\n",
       "    <tr>\n",
       "      <th>4468</th>\n",
       "      <td>33489</td>\n",
       "      <td>Little Witch Academia</td>\n",
       "      <td>\"A believing heart is your magic!\"—these were ...</td>\n",
       "    </tr>\n",
       "    <tr>\n",
       "      <th>5434</th>\n",
       "      <td>40852</td>\n",
       "      <td>Dr. Stone 2nd Season, Dr. Stone Second Season</td>\n",
       "      <td>Senkuu has made it his goal to bring back two ...</td>\n",
       "    </tr>\n",
       "    <tr>\n",
       "      <th>5599</th>\n",
       "      <td>42923</td>\n",
       "      <td>SK8 the Infinity</td>\n",
       "      <td>High school student Reki Kyan is passionate ab...</td>\n",
       "    </tr>\n",
       "    <tr>\n",
       "      <th>5833</th>\n",
       "      <td>49385</td>\n",
       "      <td>Miss Kuroitsu from the Monster Development Dep...</td>\n",
       "      <td>On the outside, Agastia is a firm specializing...</td>\n",
       "    </tr>\n",
       "  </tbody>\n",
       "</table>\n",
       "</div>"
      ],
      "text/plain": [
       "      anime_id                                              title  \\\n",
       "162        223                                        Dragon Ball   \n",
       "2245      6347                    Baka & Test - Summon the Beasts   \n",
       "3702     22147                               Amagi Brilliant Park   \n",
       "3941     28121  Is It Wrong to Try to Pick Up Girls in a Dungeon?   \n",
       "3982     28825                                Himouto! Umaru-chan   \n",
       "4267     31953                                          New Game!   \n",
       "4468     33489                              Little Witch Academia   \n",
       "5434     40852      Dr. Stone 2nd Season, Dr. Stone Second Season   \n",
       "5599     42923                                   SK8 the Infinity   \n",
       "5833     49385  Miss Kuroitsu from the Monster Development Dep...   \n",
       "\n",
       "                                               synopsis  \n",
       "162   Gokuu Son is a young boy who lives in the wood...  \n",
       "2245  Fumizuki Academy isn't a typical Japanese high...  \n",
       "3702  Seiya Kanie, a smart and extremely narcissisti...  \n",
       "3941  fe in the bustling city of Orario is never dul...  \n",
       "3982  People are not always who they appear to be, a...  \n",
       "4267  Since childhood, Aoba Suzukaze has loved the F...  \n",
       "4468  \"A believing heart is your magic!\"—these were ...  \n",
       "5434  Senkuu has made it his goal to bring back two ...  \n",
       "5599  High school student Reki Kyan is passionate ab...  \n",
       "5833  On the outside, Agastia is a firm specializing...  "
      ]
     },
     "execution_count": 193,
     "metadata": {},
     "output_type": "execute_result"
    }
   ],
   "source": [
    "recommendation_ids = set(recommendations_new_query[\"anime_id\"].unique())\n",
    "anime_df.loc[anime_df[\"anime_id\"].isin(recommendation_ids), [\"anime_id\", \"title\", \"synopsis\"]]"
   ]
  },
  {
   "cell_type": "markdown",
   "id": "76b56a86",
   "metadata": {},
   "source": [
    "6. cute girls doing cute stuff"
   ]
  },
  {
   "cell_type": "code",
   "execution_count": 198,
   "id": "a02bcb3d",
   "metadata": {},
   "outputs": [
    {
     "data": {
      "image/png": "[encoded data removed]",
      "text/plain": [
       "<Figure size 640x480 with 1 Axes>"
      ]
     },
     "metadata": {},
     "output_type": "display_data"
    },
    {
     "name": "stderr",
     "output_type": "stream",
     "text": [
      "C:\\Users\\Asus-Home\\AppData\\Local\\Temp\\ipykernel_20432\\122375758.py:17: SettingWithCopyWarning: \n",
      "A value is trying to be set on a copy of a slice from a DataFrame.\n",
      "Try using .loc[row_indexer,col_indexer] = value instead\n",
      "\n",
      "See the caveats in the documentation: https://pandas.pydata.org/pandas-docs/stable/user_guide/indexing.html#returning-a-view-versus-a-copy\n",
      "  recommended_items['similarity_score'] = similarities[top_indices]\n"
     ]
    }
   ],
   "source": [
    "recommendations_new_query = recommend_from_query_text(query_6, df, tfidf_vectorizer, tfidf_matrix, lsa_model, num_recommendations=10)"
   ]
  },
  {
   "cell_type": "code",
   "execution_count": 199,
   "id": "ac520fbf",
   "metadata": {},
   "outputs": [
    {
     "data": {
      "application/vnd.microsoft.datawrangler.viewer.v0+json": {
       "columns": [
        {
         "name": "index",
         "rawType": "int64",
         "type": "integer"
        },
        {
         "name": "anime_id",
         "rawType": "int64",
         "type": "integer"
        },
        {
         "name": "review",
         "rawType": "object",
         "type": "string"
        },
        {
         "name": "processed_review",
         "rawType": "object",
         "type": "string"
        },
        {
         "name": "similarity_score",
         "rawType": "float64",
         "type": "float"
        }
       ],
       "ref": "278086ad-15f7-4f34-9d91-d02d18757bd6",
       "rows": [
        [
         "52501",
         "5680",
         "K-On! is my comfort anime and it never fails to make me smile. It is the definition of feel-good. It is also the definition of guilty pleasure lol there are so many blatant flaws\nin this that I just blissfully ignore because no one can take away the enjoyment I get from watching this anime. If you're looking for a mindblowing plot or well-developed\ncharacters or profound themes, K-On! is not for you. It's just about cute girls doing cute girl things. It's shallow and it's cute, but it's SO good at being shallow and cute.\nSometimes the mood just calls for shallow and cute, and K-On!is the perfect anime to fill that gap.",
         "k comfort never fails smile definition definition guilty pleasure lol blatant flaw blissfully ignore take away enjoyment looking mindblowing developed profound theme k cute girl\ncute girl thing shallow cute shallow cute sometimes mood call shallow cute k perfect fill gap",
         "0.9662876687434067"
        ],
        [
         "157726",
         "37993",
         "A lot of this reviewers are really quick to say that this cosplay cute stuff loving shut in is a pedophile. Miyako had many chances to do ANYTHING to this girls yet she just played\nand messed around with them instead of sexually harassing them. She just likes cute stuff and proceeds to dress up and take pictures of the girls which is something I'm sure a lot\nof parents do, she's not their mother but still a cute loving neet that uses her hobby to play with the girls. She means no harm even if it's slightly creepy, if liking something\ncute and wanting tocuddle it makes you a pedophile than this world is pretty bad. It's just a moe yuri-ish show, calm down.",
         "reviewer quick cosplay cute stuff loving shut pedophile miyako chance anything girl yet played messed around instead sexually harassing like cute stuff proceeds dress take picture\ngirl sure parent mother cute loving neet us hobby play girl mean harm slightly creepy liking cute wanting tocuddle make pedophile bad moe yuri ish calm",
         "0.957361552610317"
        ],
        [
         "91447",
         "17549",
         "A sweet and cute anime that just relaxing to watch. It's one of those anime if you just want to watch and feel good, it is those type. The girls are all likable and a great\nsupporting cast that you enjoy to just have around. It is one of those anime you just can sit back and watch and not have to think but just smile at how cute it is. There isn't\nmuch to the plot beside what's in the description, what really carries this show is the characters. If you like cute girls doing cute stuff, then give this a watch because theyare\nso adorable. If you don't, then this isn't your type of anime. Since apart from great characters, there's not much to a plot, beside just characters that are enjoyable to watch.",
         "sweet cute relaxing want type girl likable supporting cast enjoy around sit back smile cute beside description carry cute girl cute stuff give theyare adorable type since apart\nbeside enjoyable",
         "0.9549554864093533"
        ],
        [
         "157750",
         "37993",
         "This show has yet again relit my flame for cute shows with cute anime girls, and I absolutely loved this anime from start to finish. The voice acting was cute (hinata's VA did a\ngreat job) , the animation was fluid and matched comedic cues, soundtrack was fitting with each scene, and the art style is way too damn cute. The show does exactly what it's meant\nto do, showing cute anime girls doing cute things I have no complaints about the story, I was never expecting something grand or complex and the show professionally delivered a\ngreat slice of life with a simple yet profound message,\"Give it your all towards the things you love\". It was also nice seeing how the characters had small areas of growth\nthroughout the series and I think despite the magnitude of change, it was better than some shows where they just have characters staying the same way even after the show has\nfinished.   overall 9/10 Can't go wrong with cute girls doing cute things.",
         "yet relit flame cute show cute girl absolutely loved start finish voice acting cute hinata va job fluid matched comedic cue soundtrack fitting scene style damn cute exactly meant\nshowing cute girl cute thing complaint never expecting grand complex professionally delivered slice simple yet profound message give towards thing nice seeing small area growth\nthroughout despite magnitude change better show staying finished go wrong cute girl cute thing",
         "0.9309944685564941"
        ],
        [
         "141486",
         "35241",
         "\"Cute fox girls doing cute things.\" Konohana Kitan is the literal definition of \"cute girls\" and \"kitsune\". Similar to Hanasaku Iroha, but more cute, moe girls that'll make you\nwant to protect them at all cost. There are also some traces of Shoujo Ai, but not to the point where a borderline scale is needed. This anime is just relaxing and fun to watch,\nthere's not too much pressure. And in every episode, you get this \"comfortable\" feeling of pretty much cute, fox girls working. Absolutely fantastic. Story : 10/10 The story is\npretty much cute fox girls doing cute things.. That's about it. Art :10/10   At first before I watched this anime, I thought the art would me mediocre. But after watching the first\nepisode.  I think I'm blind now.   Sound : 10/10   Oh my lord. The sound of the fox girls ( especially Yuzu ) is too fucking kawaii. It's cruel.. The OP also gives you a relaxing\nsensation which is great.   Character : 9.9/10  What made the anime even greater than cute fox girls doing cute things is there's actually character developments. And really good\nones. Some even left me in tears of happiness ( 0 depression )   Though, I find Ren and Natsume a waste of time and feel like they've gotten too much screen-time. ( no offense )\nEnjoyment : 10/10  I really enjoyed this anime. It's peaceful, It's relaxing, It's joyous. Pretty much what I wanted after watching the most cancerous anime I've ever seen in my\nentire life \"Diabolik Lovers\".   Overall : 10/10   This show literally cleaned the cancer I got from Diabolik Lovers. I even cried slightly after the anime ended not because it's\ndepressing. But the experience I had with it was beautiful. Studio Lerche, thank you very much for producing a masterpiece. I have loved your shows ever since Assassination\nClassroom. Keep up the good work!   Like fox? Like cute girls? Watch this. You won't go to jail.",
         "cute fox girl cute thing konohana kitan literal definition cute girl kitsune similar hanasaku iroha cute moe girl want protect cost trace shoujo ai point borderline scale needed\nrelaxing fun pressure every comfortable feeling cute fox girl working absolutely fantastic cute fox girl cute thing watched thought mediocre blind sound oh lord sound fox girl\nespecially yuzu fucking kawaii cruel op give relaxing sensation made greater cute fox girl cute thing actually development one left tear happiness depression though find ren\nnatsume waste gotten screen offense enjoyment enjoyed peaceful relaxing joyous wanted cancerous ever seen entire diabolik lover literally cleaned cancer got diabolik lover cried\nslightly ended depressing experience beautiful studio lerche thank producing masterpiece loved show ever since assassination classroom keep work fox cute girl go jail",
         "0.9266892579818774"
        ]
       ],
       "shape": {
        "columns": 4,
        "rows": 5
       }
      },
      "text/html": [
       "<div>\n",
       "<style scoped>\n",
       "    .dataframe tbody tr th:only-of-type {\n",
       "        vertical-align: middle;\n",
       "    }\n",
       "\n",
       "    .dataframe tbody tr th {\n",
       "        vertical-align: top;\n",
       "    }\n",
       "\n",
       "    .dataframe thead th {\n",
       "        text-align: right;\n",
       "    }\n",
       "</style>\n",
       "<table border=\"1\" class=\"dataframe\">\n",
       "  <thead>\n",
       "    <tr style=\"text-align: right;\">\n",
       "      <th></th>\n",
       "      <th>anime_id</th>\n",
       "      <th>review</th>\n",
       "      <th>processed_review</th>\n",
       "      <th>similarity_score</th>\n",
       "    </tr>\n",
       "  </thead>\n",
       "  <tbody>\n",
       "    <tr>\n",
       "      <th>52501</th>\n",
       "      <td>5680</td>\n",
       "      <td>K-On! is my comfort anime and it never fails t...</td>\n",
       "      <td>k comfort never fails smile definition definit...</td>\n",
       "      <td>0.966288</td>\n",
       "    </tr>\n",
       "    <tr>\n",
       "      <th>157726</th>\n",
       "      <td>37993</td>\n",
       "      <td>A lot of this reviewers are really quick to sa...</td>\n",
       "      <td>reviewer quick cosplay cute stuff loving shut ...</td>\n",
       "      <td>0.957362</td>\n",
       "    </tr>\n",
       "    <tr>\n",
       "      <th>91447</th>\n",
       "      <td>17549</td>\n",
       "      <td>A sweet and cute anime that just relaxing to w...</td>\n",
       "      <td>sweet cute relaxing want type girl likable sup...</td>\n",
       "      <td>0.954955</td>\n",
       "    </tr>\n",
       "    <tr>\n",
       "      <th>157750</th>\n",
       "      <td>37993</td>\n",
       "      <td>This show has yet again relit my flame for cut...</td>\n",
       "      <td>yet relit flame cute show cute girl absolutely...</td>\n",
       "      <td>0.930994</td>\n",
       "    </tr>\n",
       "    <tr>\n",
       "      <th>141486</th>\n",
       "      <td>35241</td>\n",
       "      <td>\"Cute fox girls doing cute things.\" Konohana K...</td>\n",
       "      <td>cute fox girl cute thing konohana kitan litera...</td>\n",
       "      <td>0.926689</td>\n",
       "    </tr>\n",
       "  </tbody>\n",
       "</table>\n",
       "</div>"
      ],
      "text/plain": [
       "        anime_id                                             review  \\\n",
       "52501       5680  K-On! is my comfort anime and it never fails t...   \n",
       "157726     37993  A lot of this reviewers are really quick to sa...   \n",
       "91447      17549  A sweet and cute anime that just relaxing to w...   \n",
       "157750     37993  This show has yet again relit my flame for cut...   \n",
       "141486     35241  \"Cute fox girls doing cute things.\" Konohana K...   \n",
       "\n",
       "                                         processed_review  similarity_score  \n",
       "52501   k comfort never fails smile definition definit...          0.966288  \n",
       "157726  reviewer quick cosplay cute stuff loving shut ...          0.957362  \n",
       "91447   sweet cute relaxing want type girl likable sup...          0.954955  \n",
       "157750  yet relit flame cute show cute girl absolutely...          0.930994  \n",
       "141486  cute fox girl cute thing konohana kitan litera...          0.926689  "
      ]
     },
     "execution_count": 199,
     "metadata": {},
     "output_type": "execute_result"
    }
   ],
   "source": [
    "recommendations_new_query.head()"
   ]
  },
  {
   "cell_type": "code",
   "execution_count": 200,
   "id": "a049d486",
   "metadata": {},
   "outputs": [
    {
     "data": {
      "application/vnd.microsoft.datawrangler.viewer.v0+json": {
       "columns": [
        {
         "name": "index",
         "rawType": "int64",
         "type": "integer"
        },
        {
         "name": "anime_id",
         "rawType": "int64",
         "type": "integer"
        },
        {
         "name": "title",
         "rawType": "object",
         "type": "string"
        },
        {
         "name": "synopsis",
         "rawType": "object",
         "type": "string"
        }
       ],
       "ref": "28b36255-fa47-42ba-8d1d-3cea35e986f5",
       "rows": [
        [
         "2136",
         "5680",
         "K-ON!",
         "fresh high school year always means much to come, and one of those things is joining a club. Being in a dilemma about which club to join, Yui Hirasawa stumbles upon and applies for the Light Music Club, which she misinterprets to be about playing simple instruments, such as castanets. Unable to play an instrument, she decides to visit to apologize and quit. Meanwhile, the Light Music Club faces disbandment due to a lack of members. This causes the club members to offer anything, from food to slacking off during club time, in order to convince Yui to join. Despite their efforts, Yui insists on leaving due to her lack of musical experience. As a last resort, they play a piece for Yui, which sparks her fiery passion and finally convinces her to join the club. From then onward, it's just plain messing around with bits and pieces of practice. The members of the Light Music Club are ready to make their time together a delightful one!"
        ],
        [
         "3138",
         "14283",
         "Vividred Operation",
         "Friendship is the key to protecting the world. That is everyone's wish. Here in a world where science has solved all questions. This story is set in Oshima. The happy, carefree 14-year-old Akane Isshiki lived a poor, but well loved life together with her reliable little sister, Momo, who does all the housework, and her grandfather, Kenjirou, a genius inventor who only created useless devices. When the weather is clear, they can see the artificial island, Blue Island, across the sea. In the center of that island rises the revolutionary Manifestation Engine, a discovery that solved the world's energy problems. It is a peaceful future, just like everyone dreamed of. One where everyone can smile and be happy... But suddenly, the world is visited by danger. An unknown enemy, the Alone, appear, targeting the Manifestation Engine. As none of their weapons worked and they fell into despair, a lone girl takes a stand wearing a red \"Palette Suit\" which wields a great, hidden power. Before long, allies gather around her to fight. And their friendship becomes the only hope for saving the world! (Source: ANN)"
        ],
        [
         "3372",
         "17549",
         "Non Non Biyori",
         "sahigaoka might look like typical, boring countryside to most; however, no day in this village can ever be considered colorless thanks to five students of varying ages occupying the only class in the only school in town. The youngest student is first grader Renge Miyauchi, who brings an unadulterated wit, curiosity, and her characteristic catchphrase, \"Nyanpasu!\" Then there are the Koshigaya siblings consisting of the quiet ninth grader and elder brother Suguru, diminutive eighth grader Komari, and the mischievous seventh grader Natsumi. The recent arrival of Tokyo-raised fifth grader Hotaru Ichijou, who appears overdeveloped for her age and thus naturally holds an air of maturity, rounds out this lively and vibrant group of five classmates. Based on the manga penned and illustrated by Atto, Non Non Biyori chronicles the not-so-normal daily lives of this group of friends as they engage in their own brand of fun and frolic, and playfully struggle with the realities of living in a rural area."
        ],
        [
         "4371",
         "32901",
         "Eromanga Sensei",
         "One year ago, Sagiri Izumi became step-siblings with Masamune Izumi. But the sudden death of their parents tears their new family apart, resulting in Sagiri becoming a shut-in which cut her off from her brother and society. While caring for what's left of his family, Masamune earns a living as a published light novel author with one small problem: he's never actually met his acclaimed illustrator, Eromanga-sensei, infamous for drawing the most lewd erotica. Through an embarrassing chain of events, he learns that his very own little sister was his partner the whole time! As new characters and challenges appear, Masamune and Sagiri must now face the light novel industry together. Eromanga-Sensei follows the development of their relationship and their struggle to become successful; and as Sagiri slowly grows out of her shell, just how long will she be able to hide her true persona from the rest of the world?"
        ],
        [
         "4694",
         "35241",
         "Konohana Kitan",
         "In a bustling village of spirits, Yuzu, a cheerful fox girl, starts her first job as an attendant at the traditional hot springs inn Konohanatei. Though Yuzu has no experience working at such a high-class establishment, Kiri, the affable and reliable head attendant, immediately puts her to work learning the basics. While Yuzu's eagerness initially proves to be more of a hindrance than a blessing, her playful nature brings a unique charm to the inn, as both customers and her fellow workers quickly warm up to her clumsy yet well-meaning mistakes. Under the guidance of the other foxes—the rigid Satsuki, the carefree Natsume, the critical Ren, and the quiet Sakura—Yuzu steadily learns the trade of an inn attendant while learning to love the magical world surrounding her. Konohana Kitan presents the heartwarming tale of a simple fox girl forging bonds with others and finding a home amidst the mysterious, beautiful world of spirits."
        ],
        [
         "5016",
         "37704",
         "Haifuri Movie",
         "Yokosuka Girls' Marine High School is bustling as they welcome other all-girls maritime high schools for interschool competitive games. Full of excitement, students from different years gather and interact with one another as the festivals and tournaments commence.\n\nIn the meantime, mixed feelings fill Akeno Misaki—captain of the distinguished Harekaze class—and her executive officer Mashiro Munetani when their instructor informs them of an opportunity for Mashiro to lead the Hiei class. As a result, Mashiro needs to make the difficult decision soon, and Akeno needs to confront the state of the situation.\n\nThe pair face another challenge after Yokosuka finds itself in another pinch. A group of pirates has captured a water purification plant and sea fortress, threatening the safety of the sea. Akeno and Mashiro now must command the Harekaze class in the midst of a dire predicament—all while dealing with their own difficulties.\n\n[Written by MAL Rewrite]"
        ],
        [
         "5069",
         "37993",
         "WataTen! An Angel Flew Down to Me",
         "College student Miyako Hoshino is quite shy around other people. She mostly spends her time in her room making cosplay outfits. When her fifth-grade sister Hinata brings her classmate Hana Shirosaki home, Miyako instantly becomes captivated with Hana's cuteness. Miyako tries to do various things, ranging from making Hana wear cosplay dresses to giving her sweets. This gives Hana a bad impression of her at first, but Miyako will do anything to grow closer to the angel who has descended before her."
        ],
        [
         "5238",
         "39324",
         "If It's for My Daughter, I'd Even Defeat a Demon Lord",
         "Eighteen-year-old Dale Reki is a skilled, kind, and respected traveller, acknowledged as one of the leading adventurers in the city of Kreuz. One day while on the hunt for magical beasts, he comes across a sweet devil girl named Latina. She is alone, dressed in rags, and bears the devils' symbol of a criminal: a broken horn. Concerned for her wellbeing, Dale decides to ensure Latina's safety by bringing her to his home, eventually leading to him adopting her. Latina is sweet, innocent and compassionate, charming Dale beyond his expectations. He begins to enjoy the life of parenthood— experiencing the trials that come with raising a child and coping with the heartache he feels whenever his busy lifestyle as an adventurer parts him from her. Although work and life as a new parent become reassuring constants for Dale, the mysteries surrounding the girl remain. Why was Latina alone in the forest, and why does she harbor the symbol of a criminal? At the same time, Latina also begins to learn about the world and herself as she adjusts to her new life with Dale."
        ],
        [
         "5394",
         "40571",
         "Wandering Witch: The Journey of Elaina",
         "Since childhood, Elaina has always been fascinated by the stories written within her favorite book, especially those about Nike, a renowned witch who had numerous great travels across the world. Wanting to experience the awe of adventure herself, Elaina strives to become a witch, and despite the numerous trials that come her way, she eventually succeeds. Now a full-fledged witch, Elaina finally embarks on her long-awaited journey, in which she meets many people along the way, learning their various stories. Through all of this, she explores the world at its fullest—experiencing both its bright and dark sides—starting her legendary tale."
        ]
       ],
       "shape": {
        "columns": 3,
        "rows": 9
       }
      },
      "text/html": [
       "<div>\n",
       "<style scoped>\n",
       "    .dataframe tbody tr th:only-of-type {\n",
       "        vertical-align: middle;\n",
       "    }\n",
       "\n",
       "    .dataframe tbody tr th {\n",
       "        vertical-align: top;\n",
       "    }\n",
       "\n",
       "    .dataframe thead th {\n",
       "        text-align: right;\n",
       "    }\n",
       "</style>\n",
       "<table border=\"1\" class=\"dataframe\">\n",
       "  <thead>\n",
       "    <tr style=\"text-align: right;\">\n",
       "      <th></th>\n",
       "      <th>anime_id</th>\n",
       "      <th>title</th>\n",
       "      <th>synopsis</th>\n",
       "    </tr>\n",
       "  </thead>\n",
       "  <tbody>\n",
       "    <tr>\n",
       "      <th>2136</th>\n",
       "      <td>5680</td>\n",
       "      <td>K-ON!</td>\n",
       "      <td>fresh high school year always means much to co...</td>\n",
       "    </tr>\n",
       "    <tr>\n",
       "      <th>3138</th>\n",
       "      <td>14283</td>\n",
       "      <td>Vividred Operation</td>\n",
       "      <td>Friendship is the key to protecting the world....</td>\n",
       "    </tr>\n",
       "    <tr>\n",
       "      <th>3372</th>\n",
       "      <td>17549</td>\n",
       "      <td>Non Non Biyori</td>\n",
       "      <td>sahigaoka might look like typical, boring coun...</td>\n",
       "    </tr>\n",
       "    <tr>\n",
       "      <th>4371</th>\n",
       "      <td>32901</td>\n",
       "      <td>Eromanga Sensei</td>\n",
       "      <td>One year ago, Sagiri Izumi became step-sibling...</td>\n",
       "    </tr>\n",
       "    <tr>\n",
       "      <th>4694</th>\n",
       "      <td>35241</td>\n",
       "      <td>Konohana Kitan</td>\n",
       "      <td>In a bustling village of spirits, Yuzu, a chee...</td>\n",
       "    </tr>\n",
       "    <tr>\n",
       "      <th>5016</th>\n",
       "      <td>37704</td>\n",
       "      <td>Haifuri Movie</td>\n",
       "      <td>Yokosuka Girls' Marine High School is bustling...</td>\n",
       "    </tr>\n",
       "    <tr>\n",
       "      <th>5069</th>\n",
       "      <td>37993</td>\n",
       "      <td>WataTen! An Angel Flew Down to Me</td>\n",
       "      <td>College student Miyako Hoshino is quite shy ar...</td>\n",
       "    </tr>\n",
       "    <tr>\n",
       "      <th>5238</th>\n",
       "      <td>39324</td>\n",
       "      <td>If It's for My Daughter, I'd Even Defeat a Dem...</td>\n",
       "      <td>Eighteen-year-old Dale Reki is a skilled, kind...</td>\n",
       "    </tr>\n",
       "    <tr>\n",
       "      <th>5394</th>\n",
       "      <td>40571</td>\n",
       "      <td>Wandering Witch: The Journey of Elaina</td>\n",
       "      <td>Since childhood, Elaina has always been fascin...</td>\n",
       "    </tr>\n",
       "  </tbody>\n",
       "</table>\n",
       "</div>"
      ],
      "text/plain": [
       "      anime_id                                              title  \\\n",
       "2136      5680                                              K-ON!   \n",
       "3138     14283                                 Vividred Operation   \n",
       "3372     17549                                     Non Non Biyori   \n",
       "4371     32901                                    Eromanga Sensei   \n",
       "4694     35241                                     Konohana Kitan   \n",
       "5016     37704                                      Haifuri Movie   \n",
       "5069     37993                  WataTen! An Angel Flew Down to Me   \n",
       "5238     39324  If It's for My Daughter, I'd Even Defeat a Dem...   \n",
       "5394     40571             Wandering Witch: The Journey of Elaina   \n",
       "\n",
       "                                               synopsis  \n",
       "2136  fresh high school year always means much to co...  \n",
       "3138  Friendship is the key to protecting the world....  \n",
       "3372  sahigaoka might look like typical, boring coun...  \n",
       "4371  One year ago, Sagiri Izumi became step-sibling...  \n",
       "4694  In a bustling village of spirits, Yuzu, a chee...  \n",
       "5016  Yokosuka Girls' Marine High School is bustling...  \n",
       "5069  College student Miyako Hoshino is quite shy ar...  \n",
       "5238  Eighteen-year-old Dale Reki is a skilled, kind...  \n",
       "5394  Since childhood, Elaina has always been fascin...  "
      ]
     },
     "execution_count": 200,
     "metadata": {},
     "output_type": "execute_result"
    }
   ],
   "source": [
    "recommendation_ids = set(recommendations_new_query[\"anime_id\"].unique())\n",
    "anime_df.loc[anime_df[\"anime_id\"].isin(recommendation_ids), [\"anime_id\", \"title\", \"synopsis\"]]"
   ]
  },
  {
   "cell_type": "markdown",
   "id": "2de145bf",
   "metadata": {},
   "source": [
    "7. fast cars pulling off crazy stunts"
   ]
  },
  {
   "cell_type": "code",
   "execution_count": 201,
   "id": "8f9db013",
   "metadata": {},
   "outputs": [
    {
     "data": {
      "image/png": "[encoded data removed]",
      "text/plain": [
       "<Figure size 640x480 with 1 Axes>"
      ]
     },
     "metadata": {},
     "output_type": "display_data"
    },
    {
     "name": "stderr",
     "output_type": "stream",
     "text": [
      "C:\\Users\\Asus-Home\\AppData\\Local\\Temp\\ipykernel_20432\\122375758.py:17: SettingWithCopyWarning: \n",
      "A value is trying to be set on a copy of a slice from a DataFrame.\n",
      "Try using .loc[row_indexer,col_indexer] = value instead\n",
      "\n",
      "See the caveats in the documentation: https://pandas.pydata.org/pandas-docs/stable/user_guide/indexing.html#returning-a-view-versus-a-copy\n",
      "  recommended_items['similarity_score'] = similarities[top_indices]\n"
     ]
    }
   ],
   "source": [
    "recommendations_new_query = recommend_from_query_text(query_7, df, tfidf_vectorizer, tfidf_matrix, lsa_model, num_recommendations=10)"
   ]
  },
  {
   "cell_type": "code",
   "execution_count": 202,
   "id": "90596d3e",
   "metadata": {},
   "outputs": [
    {
     "data": {
      "application/vnd.microsoft.datawrangler.viewer.v0+json": {
       "columns": [
        {
         "name": "index",
         "rawType": "int64",
         "type": "integer"
        },
        {
         "name": "anime_id",
         "rawType": "int64",
         "type": "integer"
        },
        {
         "name": "review",
         "rawType": "object",
         "type": "string"
        },
        {
         "name": "processed_review",
         "rawType": "object",
         "type": "string"
        },
        {
         "name": "similarity_score",
         "rawType": "float64",
         "type": "float"
        }
       ],
       "ref": "79794694-9326-4695-9201-ae4154cc56af",
       "rows": [
        [
         "55053",
         "6675",
         "FAST CARS! FAST CARS! FAST CARS! FAST CARS! FAST CARS!!!!!!!!! EXPLOSIONS!!!!!!!!!!!!!!!!!!!!!!!!!!!! Set in the future where there are dozens of different planets all over the\nsolar system there is still one past time all species can relate too. Racing. With the new advancement of hover cars, vehicles that can float above the ground, there is one man\nname JP Smooth who still races in his ancient, but highly upgraded Trans Am. With a kicks ass opening that sets the mood for everything to come, JP is injured in the Yellow Line,\nthe qualifying race that gets you a spot in the covenant Redline race. But aftertwo races duck out, he is given a spot. The race, which takes place every five years and is\nextremely illegal, is being held on the planet, Roboworld. Despite everyone's excitement, Robobworld's high conceal doesn't want the race to happen on their world in fear that\ntheir top secret weapons will be reveled, leaving them defenseless.  It's actually a good reason and you kind of understand why this world that has done nothing really wrong\nwouldn't want their secrets revealed on live television. But it doesn't matter, the eight racers are picked and the race is happening right smack dab in the middle of the planets\nmain city. What ensues next, is high octane action that blurs the screen with its fast action and wacky, wild animation. I really did love the way REDLINE looked, it was a balance\nbetween old school looking anime, but felt completely new to the medium. The characters don't have a whole lot to say, probably because there are too many of them and the film only\nruns at a quick hour and forty-two minutes. But with its lack of main character development for the two leads, it makes up for giving us a fair does of all of its characters. JP\nSmooth gets as much background as everyone else, because just like him, everyone else is fighting for one goal, to win Redline.  Everyone from the sexy female driver, Sonoshee\nMcLaren to the vicious, multi time winner Machinehead. To the wacky Boiboi and Bosbos of the grassland planet. Each character is cool in their own way and you can have fun picking\na favorite. I dug REDLINE it was cool, smooth, fun, action packed, silly and just plain awesome. Oh yeah, and the cars could go really fast.",
         "fast car fast car fast car fast car fast car explosion set future dozen different planet solar system past specie relate racing new advancement hover car vehicle float ground man\nname jp smooth race ancient highly upgraded trans kick as opening set mood everything come jp injured yellow line qualifying race get spot covenant redline race aftertwo race duck\ngiven spot race take place every five year extremely illegal held planet roboworld despite everyone excitement robobworld high conceal want race happen fear top secret weapon\nreveled leaving defenseless actually reason kind understand done nothing wrong want secret revealed live television matter eight racer picked race happening right smack dab middle\nplanet city ensues next high octane action blur screen fast action wacky wild redline looked balance old school looking felt completely new medium whole probably film run quick\nhour forty two minute lack development two lead make giving u fair jp smooth get background everyone else everyone else fighting goal win redline everyone sexy female driver\nsonoshee mclaren vicious multi winner machinehead wacky boiboi bosbos grassland planet cool fun picking favorite dug redline cool smooth fun action packed silly plain awesome oh\nyeah car go fast",
         "0.6475226975196443"
        ],
        [
         "84312",
         "14513",
         "The story drags with barely any fighting scene and the pacing is painfully slow. The main goal - 'I want to save this kingdom from slavery!' gets stretched out way too much.\nInstead of jumping into the action, we have to sit through an episode for courage, then negotiation, then getting discouraged, building courage all over again, motivating others\nand finally training. How many episodes were wasted and were still not even at the main mission... its painfully slow. If anyone actually made it all the way to episode 25, Im\ngenuinely proud of you. Youve earned the right to call yourself a true animefan.....youve got the patience of a legend!",
         "drag barely fighting scene pacing painfully slow goal want save kingdom slavery get stretched instead jumping action sit courage negotiation getting discouraged building courage\nmotivating others finally training wasted mission painfully slow anyone actually made genuinely proud youve earned right call true animefan youve got patience legend",
         "0.610954732507749"
        ],
        [
         "24831",
         "974",
         "Dead Leaves....... How can I even describe this anime? It's animated by Production I.G., it's directed by the same guy who directed Gurren Lagann and FLCL, and it's is the weirdest\nfucking thing I have ever seen in my life. This is an anime that goes for all style, no substance but it amps it up with so much stuff thrown at you that it is impossible to call\nit that. The easiest way to describe Dead Leaves is this: IT\"S ANIME ON CRACK. The plot of Dead Leaves goes like this: Two people wake up naked on Earth with no recollection of\ntheir memories. Oneis named Retro, the one with the TV screen as a head, and the other is named Pandy because she has a eye that makes her look like a panda. After they wake up,\nthey decide to go steal some clothes, rob food, clothes and weapons, have an orgasmic epic action chase scene with the ENTIRE police force and later on, they get captured and\nsentenced to die on a prison that takes place on the moon, which looks like it's been eating in half. Together with a bunch of other prisoners, they team up to escape from this\nprison by blowing shit-up with style and kicking ass. This is the best way I could describe the plot for Dead Leaves because honestly, there isn't one.  Dead Leaves is all about\nover the top action with a lot of exploding colorful visuals. Seriously, If you're gonna watch Dead Leaves, then don't expect a plot or any kind of character development cause Dead\nLeaves has none of that and when it does, it falls flat on it's face. But even if it doesn't have any story or character development, Dead Leaves just kicks ass and better than\nother overrated popular action anime like High School Of The Dead, which I found that anime to be incredibly shitty. The action in Dead Leaves is an exploding, ultra-violent thrill\nride that never stops and it is crazy. We're talking about a woman and a guy with a TV set as a head unleashing chaos everywhere, a guy with a drill as his penis who uses it as a\nweapon (don't ask), mechas popping out of nowhere and start shooting at everyone, a baby that is a God and a giant caterpillar that starts destroying the moon base Godzilla style.\nThat's how cool and awesome the action in Dead Leaves is and once you're into the action of this anime, you are gonna be re-watching those scenes for eternity. How about the\ncharacters? Honestly, they are likable. While they don't have a lot of development, they are just cool and each have their own strange but unique charm that's it's impossible to\nhate the characters. They're just damn fun.  The animation by Production I.G. is incredibly good-looking, making GITS look like his bitch in comparison. The style is incredibly\nwith so much over the top creativity in it's visuals and colors alone that it holds very well. The character designs are excellent that range from weird to cool to just downright\ninsanely creepy. I just love Retro's design with the TV screen as a head, which is kinda messed-up but at the same time, it is really creative and the rest of the characters look\ngreat. The music consists of heavy techno but it fits and the soundtrack is fun to listen, as well as the dub by Manga Entertainment. Jaxon Lee and Amanda Winn-Lee were perfect for\nthe roles of Retro and Pandy as their delivery was just perfect and the dialogue is pretty vulgar but somehow come off as hilarious. Simply put, you have to see this with the dub\non.  If you're looking for an anime with some story or development, then Dead Leaves is not for you. However, If you're the kind of anime fan that likes crazy action with crazy\ncharacters on a crazy world, then Dead Leaves is your ticket to Paradise. It is good looking, it is action-packed with explosions and action, and overall, just one hell of a fun\nmovie. You have to see Dead Leaves to believe.",
         "dead leaf describe animated production g directed guy directed gurren lagann flcl weirdest fucking thing ever seen go style substance amp stuff thrown impossible call easiest\ndescribe dead leaf crack dead leaf go two wake naked earth recollection memory oneis named retro tv screen head named pandy eye make look panda wake decide go steal clothes rob\nfood clothes weapon orgasmic epic action chase scene entire police force later captured sentenced die prison take place moon look eating half together bunch prisoner team escape\nprison blowing shit style kicking as best describe dead leaf honestly dead leaf top action exploding colorful visuals seriously gonna dead leaf expect kind development cause dead\nleaf none fall flat face development dead leaf kick as better overrated popular action high school dead found incredibly shitty action dead leaf exploding ultra violent thrill ride\nnever stop crazy talking woman guy tv set head unleashing chaos everywhere guy drill penis us weapon ask mechas popping nowhere start shooting everyone baby god giant caterpillar\nstart destroying moon base godzilla style cool awesome action dead leaf action gonna scene eternity honestly likable development cool strange unique charm impossible hate damn fun\nproduction g incredibly looking making git look bitch comparison style incredibly top creativity visuals color alone hold design excellent range weird cool downright insanely\ncreepy retro design tv screen head kinda messed creative rest look music consists heavy techno fit soundtrack fun listen dub manga entertainment jaxon lee amanda winn lee perfect\nrole retro pandy delivery perfect dialogue vulgar somehow come hilarious simply put dub looking development dead leaf however kind fan like crazy action crazy crazy dead leaf\nticket paradise looking action packed explosion action hell fun movie dead leaf believe",
         "0.6054870067463575"
        ],
        [
         "93592",
         "18679",
         "I usually never write reviews, but this anime did so many things right that I feel I kind of have to. You just have to get past the sometimes wacky and cartoonish animation style\nand the infinite amount of fanservice and eventually see that the series is so much more than that. After seeing the first couple of episodes I was kind of unsure still and didn't\nquite know what was going on. I was trying to decide whether I like it or not, but from ep 11 onwards I knew I was hooked and from ep 18 till the end it was one crazy,action-packed\ntrip that I wished to never end.   KlK takes its laughable plot, crazy characters, infinite boobs and butts and kick-ass action and rolls it all into a solid, fun and enjoyable\nwatching experience. The story sounds just ridiculous if you try to explain it to someone else, and the battle outfits probably make one roll their eyes, but you have to get sucked\ninto the whole thing and you'll find that in the end you don't even pay attention to it anymore but just want to see how it'll all end. Now, this is something that KlK did just\nright: it took all the cliches and all the fanservice and managed to make it work without boring the viewer and without being too ridiculous. Or should I say, it's all just so over\nthe top and crazy that it actually works.  Most of the characters are likable. (Yes, I'm one of the Mako fans, although I usually hate that type.) The villains are awesome &amp;\nnasty. The music is absolutely fitting for each scene and makes your adrenaline flow. The humor is crazy, as well as the action. Everything works. I have to admit the show starts\noff a little slow but dear god, don't drop this because of that. I think this series deserves a solid 9.",
         "usually never write review thing right kind past sometimes wacky cartoonish style infinite amount fanservice eventually seeing couple kind unsure quite going trying decide whether\nep onwards knew hooked ep till crazy action packed trip wished never klk take laughable crazy infinite boob butt kick as action roll solid fun enjoyable experience sound ridiculous\ntry explain someone else battle outfit probably roll eye sucked whole thing find pay attention anymore want klk right took cliche fanservice managed work without boring viewer\nwithout ridiculous top crazy actually work likable yes mako fan although usually hate type villain awesome amp nasty music absolutely fitting scene make adrenaline flow humor crazy\naction everything work admit start little slow dear god drop deserves solid",
         "0.6048483644710818"
        ],
        [
         "191246",
         "49387",
         "I'm only at episode 5 and I'm frustrated. I loved Vinland Saga season 1. You've probably seen this being said about season 2, but it's too slow. Now I see other people saying how\nit's slow but they mean other things, so I feel like I should explain what I mean when I say that it's slow. I do not need drama and I do not need the show to be action-packed like\nS1 was. The lack of major events and action is not what makes the show \"slow\". It's slow because, there's too much screentime given to useless actions, I'm talking about the\nwalking, thestaring, the pausing. It may seem like I'm nitpicking when I complain that they show them walking up to someone (not a suspenseful moment, it's just a normal encounter\nbetween characters) over 5 seconds instead of 2, but when all that adds up, it gets really boring.   What made me really groan in frustration while watching episode 5 was Canute\nnegotiating with Mercia's lord. So much pausing between sentences would be reasonable if it was to build suspense, but it was not. Even Canute walking out of the house to show the\nlord the burning beacon was excruciatingly slow. Again, it would make sense if it was to create suspense and drama, but let me remind you that there was nothing dramatic happening.\nYes it's scary to imagine Mercia being reduced to ashes, but they were fighting a war anyway, where many were going to die. Yeah, so what's the unexpected twist? There's none?\nThat's fine! But why make it so slow as if it was building up to something dramatic? That's what frustrated me.  Now, the show is still above average to me. The episode where\nThorfin said thank you and sorry to Einar? Made me sniffle. It was so good..! So really, the core of the show is still excellent, it's only the slow walking and frequent pauses in\nconversation.",
         "frustrated loved vinland saga probably seen said slow saying slow mean thing explain mean slow need drama need action packed lack major event action make slow slow screentime given\nuseless action talking walking thestaring pausing may seem nitpicking complain walking someone suspenseful moment normal encounter second instead add get boring made groan\nfrustration canute negotiating mercia lord pausing sentence reasonable build suspense canute walking house lord burning beacon excruciatingly slow sense create suspense drama let\nremind nothing dramatic happening yes scary imagine mercia reduced ash fighting war anyway going die yeah unexpected twist none fine slow building dramatic frustrated average\nthorfin said thank sorry einar made sniffle core excellent slow walking frequent pause conversation",
         "0.6046493446648307"
        ]
       ],
       "shape": {
        "columns": 4,
        "rows": 5
       }
      },
      "text/html": [
       "<div>\n",
       "<style scoped>\n",
       "    .dataframe tbody tr th:only-of-type {\n",
       "        vertical-align: middle;\n",
       "    }\n",
       "\n",
       "    .dataframe tbody tr th {\n",
       "        vertical-align: top;\n",
       "    }\n",
       "\n",
       "    .dataframe thead th {\n",
       "        text-align: right;\n",
       "    }\n",
       "</style>\n",
       "<table border=\"1\" class=\"dataframe\">\n",
       "  <thead>\n",
       "    <tr style=\"text-align: right;\">\n",
       "      <th></th>\n",
       "      <th>anime_id</th>\n",
       "      <th>review</th>\n",
       "      <th>processed_review</th>\n",
       "      <th>similarity_score</th>\n",
       "    </tr>\n",
       "  </thead>\n",
       "  <tbody>\n",
       "    <tr>\n",
       "      <th>55053</th>\n",
       "      <td>6675</td>\n",
       "      <td>FAST CARS! FAST CARS! FAST CARS! FAST CARS! FA...</td>\n",
       "      <td>fast car fast car fast car fast car fast car e...</td>\n",
       "      <td>0.647523</td>\n",
       "    </tr>\n",
       "    <tr>\n",
       "      <th>84312</th>\n",
       "      <td>14513</td>\n",
       "      <td>The story drags with barely any fighting scene...</td>\n",
       "      <td>drag barely fighting scene pacing painfully sl...</td>\n",
       "      <td>0.610955</td>\n",
       "    </tr>\n",
       "    <tr>\n",
       "      <th>24831</th>\n",
       "      <td>974</td>\n",
       "      <td>Dead Leaves....... How can I even describe thi...</td>\n",
       "      <td>dead leaf describe animated production g direc...</td>\n",
       "      <td>0.605487</td>\n",
       "    </tr>\n",
       "    <tr>\n",
       "      <th>93592</th>\n",
       "      <td>18679</td>\n",
       "      <td>I usually never write reviews, but this anime ...</td>\n",
       "      <td>usually never write review thing right kind pa...</td>\n",
       "      <td>0.604848</td>\n",
       "    </tr>\n",
       "    <tr>\n",
       "      <th>191246</th>\n",
       "      <td>49387</td>\n",
       "      <td>I'm only at episode 5 and I'm frustrated. I lo...</td>\n",
       "      <td>frustrated loved vinland saga probably seen sa...</td>\n",
       "      <td>0.604649</td>\n",
       "    </tr>\n",
       "  </tbody>\n",
       "</table>\n",
       "</div>"
      ],
      "text/plain": [
       "        anime_id                                             review  \\\n",
       "55053       6675  FAST CARS! FAST CARS! FAST CARS! FAST CARS! FA...   \n",
       "84312      14513  The story drags with barely any fighting scene...   \n",
       "24831        974  Dead Leaves....... How can I even describe thi...   \n",
       "93592      18679  I usually never write reviews, but this anime ...   \n",
       "191246     49387  I'm only at episode 5 and I'm frustrated. I lo...   \n",
       "\n",
       "                                         processed_review  similarity_score  \n",
       "55053   fast car fast car fast car fast car fast car e...          0.647523  \n",
       "84312   drag barely fighting scene pacing painfully sl...          0.610955  \n",
       "24831   dead leaf describe animated production g direc...          0.605487  \n",
       "93592   usually never write review thing right kind pa...          0.604848  \n",
       "191246  frustrated loved vinland saga probably seen sa...          0.604649  "
      ]
     },
     "execution_count": 202,
     "metadata": {},
     "output_type": "execute_result"
    }
   ],
   "source": [
    "recommendations_new_query.head()"
   ]
  },
  {
   "cell_type": "code",
   "execution_count": 203,
   "id": "8e9ddca2",
   "metadata": {},
   "outputs": [
    {
     "data": {
      "application/vnd.microsoft.datawrangler.viewer.v0+json": {
       "columns": [
        {
         "name": "index",
         "rawType": "int64",
         "type": "integer"
        },
        {
         "name": "anime_id",
         "rawType": "int64",
         "type": "integer"
        },
        {
         "name": "title",
         "rawType": "object",
         "type": "string"
        },
        {
         "name": "synopsis",
         "rawType": "object",
         "type": "string"
        }
       ],
       "ref": "ab7dd7f6-dc79-4e5b-801e-fac62dd05a96",
       "rows": [
        [
         "613",
         "974",
         "Dead Leaves",
         "Pandy and Retro awaken naked on Earth with no recollection of their past. They embark on a devastating crime spree in search of food, clothing and transportation, but are captured by authorities and sent to the infamous lunar penitentiary named Dead Leaves. While incarcerated, they quickly discover that Dead Leaves is also a top-secret cloning facility, occupied by villainous guards and deformed genetic experiments. Ultra-manic chaos and hyper-violent bedlam ensue as they organize a prison break with the aid of their fellow mutant inmates."
        ],
        [
         "757",
         "1292",
         "Afro Samurai",
         "hen he was a young boy, Afro witnessed his father be cut down in a duel at the hands of a man known only as Justice. After taking the life of Afro's father, Justice cast aside his Number Two headband and took the Number One to claim its godly powers as his own. Years later, having obtained the Number Two headband which grants him the right to challenge the Number One, Afro moves forward in his hunt for revenge on the man who murdered his father. There is just one thing that stands in his way—everyone else in the world! Though the Number One can only be challenged by the Number Two, the Number Two can be challenged by anyone. As his enemies gather to try and take the title of Number Two, Afro must fight through a myriad of foes and obstacles if he hopes to reach the Number One and claim vengeance once and for all."
        ],
        [
         "2288",
         "6675",
         "Redline",
         "Every five years, an exhilarating race called Redline is held, and the universe's most anticipated competition has only one rule: that there are none. Racers are pushed to their absolute limit—a feeling that daredevil driver JP knows all too well. Having just qualified to participate in Redline, he is eager to battle against the other highly skilled drivers, particularly the beautiful rising star and the only other human that qualified, Sonoshee McLaren. But this year's Redline may be far more dangerous than usual—it has been announced to take place on the planet Roboworld with its trigger-happy military and criminals who look to turn the race to their own advantage. However, the potential danger doesn't stop the racers; in fact, it only adds to the thrill. Relying solely on his vehicle's speed, JP prepares for the event to come, aiming to take first place in the biggest race of his life."
        ],
        [
         "2354",
         "7088",
         "Demon King Daimao",
         "Dreaming of changing the world for good, Akuto Sai transfers to Constant Magic Academy where he befriends a virtuous ninja clan member, Junko Hattori. On the way to the academy, they vow to make the world a better place together; however, the situation suddenly takes a turn for the worse upon his arrival—it is prophesied that he will become the Demon King! As word of his destiny spreads, the school begins to fear him, and Junko's trust in him falters. While Akuto is determined to not let his predicted future control his fate, it seems as though everything he says and does only serve to reinforce the fact that he is destined to be the Demon King. Moreover, he is surrounded by a harem of beautiful girls who each have their own plans for him, ranging from bringing him to justice to simply showering him with love. With his newly awakened powers, Akuto must cope with his constantly growing list of misfortune and fight to prove that his fate is not set in stone."
        ],
        [
         "3151",
         "14513",
         "Magi: The Labyrinth of Magic",
         "Dispersed around the world, there are several bizarre labyrinths hiding incredible treasures within them. These mysterious places, known as \"Dungeons,\" are said to be the work of Magi, a class of rare magicians, who also help people build their empires by guiding them to a dungeon. Djinns, supernatural beings that rule over the labyrinths, grant successful conquerors access to their immense power and choose them as potential king candidates to rule the world. Having spent life in isolation, Aladdin, a kind and young magician, is eager to explore the world upon finally leaving his home behind. He begins his journey only accompanied by his mentor Ugo—a djinn that Aladdin can summon with his flute. However, Aladdin soon becomes friends with the courageous Alibaba Saluja after causing the destruction of a local merchant's supply cart. In order to pay for the damages, Alibaba suggests that they attempt to conquer the nearest dungeon, taking the first step in an epic adventure that will decide the fate of the world itself."
        ],
        [
         "3471",
         "18679",
         "Kill la Kill",
         "fter the murder of her father, Ryuuko Matoi has been wandering the land in search of his killer. Following her only lead—the missing half of his invention, the Scissor Blade—she arrives at the prestigious Honnouji Academy, a high school unlike any other. The academy is ruled by the imposing and cold-hearted student council president Satsuki Kiryuuin alongside her powerful underlings, the Elite Four. In the school's brutally competitive hierarchy, Satsuki bestows upon those at the top special clothes called \"Goku Uniforms,\" which grant the wearer unique superhuman abilities. Thoroughly beaten in a fight against one of the students in uniform, Ryuuko retreats to her razed home where she stumbles across Senketsu, a rare and sentient \"Kamui,\" or God Clothes. After coming into contact with Ryuuko's blood, Senketsu awakens, latching onto her and providing her with immense power. Now, armed with Senketsu and the Scissor Blade, Ryuuko makes a stand against the Elite Four, hoping to reach Satsuki and uncover the culprit behind her father's murder once and for all."
        ],
        [
         "5732",
         "47917",
         "Bocchi the Rock!",
         "Hitori Gotou is a high school girl who's starting to learn to play the guitar because she dreams of being in a band, but she's so shy that she hasn't made a single friend. However, her dream might come true after she meets Nijika Ijichi, a girl who plays drums and is looking for a new guitarist for her band. (Source: MU, edited)"
        ],
        [
         "5834",
         "49387",
         "Vinland Saga Season 2",
         "After his father's death and the destruction of his village at the hands of English raiders, Einar wishes for a peaceful life with his family on their newly rebuilt farms. However, fate has other plans: his village is invaded once again. Einar watches helplessly as the marauding Danes burn his lands and slaughter his family. The invaders capture Einar and take him back to Denmark as a slave. \n\nEinar clings to his mother's final words to survive. He is purchased by Ketil, a kind slave owner and landlord who promises that Einar can regain his freedom in return for working in the fields. Soon, Einar encounters his new partner in farm cultivation—Thorfinn, a dejected and melancholic slave. As Einar and Thorfinn work together toward their freedom, they are haunted by both sins of the past and the ploys of the present. Yet they carry on, grasping for a glimmer of hope, redemption, and peace in a world that is nothing but unjust and unforgiving.\n\n[Written by MAL Rewrite]"
        ],
        [
         "5848",
         "49596",
         "Blue Lock",
         "Yoichi Isagi was mere moments away from scoring a goal that would have sent his high school soccer team to the nationals, but a split-second decision to pass the ball to his teammate cost him that reality. Bitter, confused, and disappointed, Isagi wonders if the outcome would have been different had he not made the pass. When the young striker returns home, an invitation from the Japan Football Union awaits him. Through an arbitrary and biased decision-making process, Isagi is one of three hundred U-18 strikers selected for a controversial project named Blue Lock. \n\nThe project's ultimate goal is to turn one of the selected players into the star striker for the Japanese national team. To find the best participant, each diamond in the rough must compete against others through a series of solo and team competitions to rise to the top. Putting aside his ethical objections to the project, Isagi feels compelled to fight his way to the top, even if it means ruthlessly crushing the dreams of 299 aspiring young strikers.\n\n[Written by MAL Rewrite]"
        ]
       ],
       "shape": {
        "columns": 3,
        "rows": 9
       }
      },
      "text/html": [
       "<div>\n",
       "<style scoped>\n",
       "    .dataframe tbody tr th:only-of-type {\n",
       "        vertical-align: middle;\n",
       "    }\n",
       "\n",
       "    .dataframe tbody tr th {\n",
       "        vertical-align: top;\n",
       "    }\n",
       "\n",
       "    .dataframe thead th {\n",
       "        text-align: right;\n",
       "    }\n",
       "</style>\n",
       "<table border=\"1\" class=\"dataframe\">\n",
       "  <thead>\n",
       "    <tr style=\"text-align: right;\">\n",
       "      <th></th>\n",
       "      <th>anime_id</th>\n",
       "      <th>title</th>\n",
       "      <th>synopsis</th>\n",
       "    </tr>\n",
       "  </thead>\n",
       "  <tbody>\n",
       "    <tr>\n",
       "      <th>613</th>\n",
       "      <td>974</td>\n",
       "      <td>Dead Leaves</td>\n",
       "      <td>Pandy and Retro awaken naked on Earth with no ...</td>\n",
       "    </tr>\n",
       "    <tr>\n",
       "      <th>757</th>\n",
       "      <td>1292</td>\n",
       "      <td>Afro Samurai</td>\n",
       "      <td>hen he was a young boy, Afro witnessed his fat...</td>\n",
       "    </tr>\n",
       "    <tr>\n",
       "      <th>2288</th>\n",
       "      <td>6675</td>\n",
       "      <td>Redline</td>\n",
       "      <td>Every five years, an exhilarating race called ...</td>\n",
       "    </tr>\n",
       "    <tr>\n",
       "      <th>2354</th>\n",
       "      <td>7088</td>\n",
       "      <td>Demon King Daimao</td>\n",
       "      <td>Dreaming of changing the world for good, Akuto...</td>\n",
       "    </tr>\n",
       "    <tr>\n",
       "      <th>3151</th>\n",
       "      <td>14513</td>\n",
       "      <td>Magi: The Labyrinth of Magic</td>\n",
       "      <td>Dispersed around the world, there are several ...</td>\n",
       "    </tr>\n",
       "    <tr>\n",
       "      <th>3471</th>\n",
       "      <td>18679</td>\n",
       "      <td>Kill la Kill</td>\n",
       "      <td>fter the murder of her father, Ryuuko Matoi ha...</td>\n",
       "    </tr>\n",
       "    <tr>\n",
       "      <th>5732</th>\n",
       "      <td>47917</td>\n",
       "      <td>Bocchi the Rock!</td>\n",
       "      <td>Hitori Gotou is a high school girl who's start...</td>\n",
       "    </tr>\n",
       "    <tr>\n",
       "      <th>5834</th>\n",
       "      <td>49387</td>\n",
       "      <td>Vinland Saga Season 2</td>\n",
       "      <td>After his father's death and the destruction o...</td>\n",
       "    </tr>\n",
       "    <tr>\n",
       "      <th>5848</th>\n",
       "      <td>49596</td>\n",
       "      <td>Blue Lock</td>\n",
       "      <td>Yoichi Isagi was mere moments away from scorin...</td>\n",
       "    </tr>\n",
       "  </tbody>\n",
       "</table>\n",
       "</div>"
      ],
      "text/plain": [
       "      anime_id                         title  \\\n",
       "613        974                   Dead Leaves   \n",
       "757       1292                  Afro Samurai   \n",
       "2288      6675                       Redline   \n",
       "2354      7088             Demon King Daimao   \n",
       "3151     14513  Magi: The Labyrinth of Magic   \n",
       "3471     18679                  Kill la Kill   \n",
       "5732     47917              Bocchi the Rock!   \n",
       "5834     49387         Vinland Saga Season 2   \n",
       "5848     49596                     Blue Lock   \n",
       "\n",
       "                                               synopsis  \n",
       "613   Pandy and Retro awaken naked on Earth with no ...  \n",
       "757   hen he was a young boy, Afro witnessed his fat...  \n",
       "2288  Every five years, an exhilarating race called ...  \n",
       "2354  Dreaming of changing the world for good, Akuto...  \n",
       "3151  Dispersed around the world, there are several ...  \n",
       "3471  fter the murder of her father, Ryuuko Matoi ha...  \n",
       "5732  Hitori Gotou is a high school girl who's start...  \n",
       "5834  After his father's death and the destruction o...  \n",
       "5848  Yoichi Isagi was mere moments away from scorin...  "
      ]
     },
     "execution_count": 203,
     "metadata": {},
     "output_type": "execute_result"
    }
   ],
   "source": [
    "recommendation_ids = set(recommendations_new_query[\"anime_id\"].unique())\n",
    "anime_df.loc[anime_df[\"anime_id\"].isin(recommendation_ids), [\"anime_id\", \"title\", \"synopsis\"]]"
   ]
  },
  {
   "cell_type": "markdown",
   "id": "5cb0fbf6",
   "metadata": {},
   "source": [
    "8. a whole lot of guns and shooting"
   ]
  },
  {
   "cell_type": "code",
   "execution_count": 204,
   "id": "75fd162b",
   "metadata": {},
   "outputs": [
    {
     "data": {
      "image/png": "[encoded data removed]",
      "text/plain": [
       "<Figure size 640x480 with 1 Axes>"
      ]
     },
     "metadata": {},
     "output_type": "display_data"
    },
    {
     "name": "stderr",
     "output_type": "stream",
     "text": [
      "C:\\Users\\Asus-Home\\AppData\\Local\\Temp\\ipykernel_20432\\122375758.py:17: SettingWithCopyWarning: \n",
      "A value is trying to be set on a copy of a slice from a DataFrame.\n",
      "Try using .loc[row_indexer,col_indexer] = value instead\n",
      "\n",
      "See the caveats in the documentation: https://pandas.pydata.org/pandas-docs/stable/user_guide/indexing.html#returning-a-view-versus-a-copy\n",
      "  recommended_items['similarity_score'] = similarities[top_indices]\n"
     ]
    }
   ],
   "source": [
    "recommendations_new_query = recommend_from_query_text(query_8, df, tfidf_vectorizer, tfidf_matrix, lsa_model, num_recommendations=10)"
   ]
  },
  {
   "cell_type": "code",
   "execution_count": 205,
   "id": "a6fea285",
   "metadata": {},
   "outputs": [
    {
     "data": {
      "application/vnd.microsoft.datawrangler.viewer.v0+json": {
       "columns": [
        {
         "name": "index",
         "rawType": "int64",
         "type": "integer"
        },
        {
         "name": "anime_id",
         "rawType": "int64",
         "type": "integer"
        },
        {
         "name": "review",
         "rawType": "object",
         "type": "string"
        },
        {
         "name": "processed_review",
         "rawType": "object",
         "type": "string"
        },
        {
         "name": "similarity_score",
         "rawType": "float64",
         "type": "float"
        }
       ],
       "ref": "83aabdc8-6813-4ba3-9352-2a1a5a8ac9ad",
       "rows": [
        [
         "188390",
         "46604",
         "A decent gun action anime. It's no Lycoris Recoil, SAO 2 and SAO: Alternative. But, it's a suffice watch. Although I've never played the game this anime is based on, at least as of\ntyping this, I was able to follow along with the story, which while simple is effective. The only disappointing aspect of this anime, is the animation. Compared to SAO, a lot of\ntimes, the characters are just standing still shooting at their enemies. Rarely do they run and gun to make the action more engaging. But otherwise, if you want a military-themed\nanime or wanted a Call of Duty anime, this'll do just fine.",
         "decent gun action lycoris recoil sao sao alternative suffice although never played game based least typing able follow along simple effective disappointing aspect compared sao time\nstanding shooting enemy rarely run gun action engaging otherwise want military themed wanted call duty fine",
         "0.6474981610102594"
        ],
        [
         "77850",
         "11757",
         "The main reason Sword Art Online gets a 10/10 from me is because i found myself in Kirito, we have almost the same thoughts and i'm the same in real life and Asuna is my type when\ncomes girls character and i spent 25 episodes predicting whats gonna happen between them and his actions knowing how i would act if I was in his place and how Asuna would act\nknowing my type of girls. 1 more reason to give it 10/10 is because im an MMORPG guy. Can't wait to dive into more episodes of this brilliant anime and finish it and re-watch\nitagain in the future maybe",
         "reason sword online get found kirito almost thought real asuna type come girl spent predicting whats gonna happen action knowing act place asuna act knowing type girl reason give\nmmorpg guy wait dive brilliant finish itagain future maybe",
         "0.6286117232173125"
        ],
        [
         "16857",
         "411",
         "Quentin Tarantino is one strange guy. His cult films are homages to the genre portrayed. Reservoir Dogs was an homage to such mob movies as The Godfather and Scarface. Kill Bill\nwas and homage to the western genre of well... westerns as well as the Eastern Kung-Fu or samurai genre. I bring this up because Gun X Sword is a real cult anime that pays homage\nto it's genre. Gun X Sword is a mecha anime revolving around Van and Wendy. Van must find \"The Claw\" whom killed his wife and Wendy must find her brother. This premise, you would\nthink, is very simple andyou know what, you would be right. Much like Tarantino's \"Kill Bill\" a good old classic revenge story is what this show is. This is a very strait forward\nshow but that is the charm of the show. It's simplicity is very refreshing. There are no long-winded narrations about the mechs or the weapons used in the show and the story itself\nis cliche but what will keep you coming back to the show is it's over the top style and nature. This show is basically \"Kill Bill\" with giant robots. The action scenes are very\nover the top and fun to watch, making the main character (Van) look totally badass. Action is the main focus in this show and there is one new encounter every episode (exept for\nmaybe 1 or 2). They get progressively better and better until the final action scene which is just absolutely awesome.  The over the top nature that I mentioned earlier is always\npresent in Gun X Sword. How over the top you ask? Well you see, Van wears a tuxedo, all the time, with this large brimmed cowboy hat with a ring on one end. He has a blade that,\nwhen inactive, he wears as a belt with a hilt on his waist for the handle. When he draws his sword, it hardens and turns into an actual blade. He then slashes at the air to make a\nblue \"V\" shape. His mech is then launched down from a satellite shaped like a cross, in the form of a sword. It then transforms into a human-looking robot and Van gets in. To\nactivate it he call it by its name, Dann. The robot that shot down from the havens is named Dann. It is exactly this unexpected nature that keeps you coming back to the show.",
         "quentin tarantino strange guy cult film homage genre portrayed reservoir dog homage mob movie godfather scarface kill bill homage western genre western eastern kung fu samurai\ngenre bring gun x sword real cult pay homage genre gun x sword mecha revolving around van wendy van must find claw killed wife wendy must find brother premise simple andyou right\ntarantino kill bill old classic revenge strait forward charm simplicity refreshing long winded narration mechs weapon used cliche keep coming back top style nature basically kill\nbill giant robot action scene top fun making van look totally badass action focus new encounter every exept maybe progressively better better final action scene absolutely awesome\ntop nature mentioned earlier always present gun x sword top ask van wear tuxedo large brimmed cowboy hat ring blade inactive wear belt hilt waist handle draw sword hardens turn\nactual blade slash air blue v shape mech launched satellite shaped cross form sword transforms human looking robot van get activate call name dann robot shot haven named dann\nexactly unexpected nature keep coming back",
         "0.6284017350254381"
        ],
        [
         "54786",
         "6594",
         "This is a show about swords, the title even roughly translates to \"Sword Story\". And what is a sword? well, a sword is an edge with a handle, and if a sword is an edge and this\nshow is about swords (12 of them in fact), thus we can determine that this show must be reasonably edgy. And it does not dissapoint, this series will have you on the edge of your\nseat all 12 episodes through, which should I mention, are 50 minutes long instead of the standard 25 minutes, making this show even more unorthodox and edgy. So this guy Shichika\nlives onthe island and gril named Togame shows up and they go on a hunt for 12 swords blah blah blah, he ends up falling in love with her and would follow her to the edge of\noblivion. Swords get collected in an edgy fashion and the end has a good twist which I really didn't expect; pretty edgy.  Overall Edgy/10 But srsly 9/10 good show, would fuck.",
         "sword title roughly translates sword sword sword edge handle sword edge sword fact thus determine must reasonably edgy dissapoint edge seat mention minute long instead standard\nminute making unorthodox edgy guy shichika life onthe island gril named togame show go hunt sword blah blah blah end falling follow edge oblivion sword collected edgy fashion twist\nexpect edgy edgy srsly fuck",
         "0.6260342887605181"
        ],
        [
         "23877",
         "889",
         "Welcome back Studio Madhouse. The person chosen for the director role was Sunao Katabuchi whom only previously worked in various storyboard roles and one previous role in directing\nthe anime Great Dog Lassie (1996). Madhouse and Katabuchi together created a fast-paced action anime from start to finish with what seems to be a plethora of talented staff put\ninto different episode director roles from Tetsurou Araki to Atsushi Nigorikawa. If there was one common factor with the staff, it was they all knew how to do action well. The plot\nfor Black Lagoon starts with a standard Japanese salary man named Rokuro aka Rock later, beinggiven a task to take an item to a client for his boss. During this journey, pirates\nfrom the Black Lagoon Company rob the boat to acquire said item. Rocks boss deems him expendable in order to keep the item from being stolen, and therefore Rock somehow joins the\nBlack Lagoon Company and their crazy crew of misfits. From there, Rock and the crew live on a pirate island and attend everything from weapon deals to encounters with maid\nassassins. This is literally an anime about swearing, shooting things, and killing people. Its awesome.  Black Lagoon is straight-up violence featuring many themes showing up in\nanime at the time like girls-with-guns. Arguably the shows six strongest characters are all female from the main chick Revy to anime stereotypes like the maid assassin Roberta and\nthe Nun Eda a weapon smuggler. Somehow, the show slips into the show humorous scenes and dialogues during and after violent battles. Important to note that this show is gorgeously\nanimated and the hardcore music goes along with it so well.  Be it the bullet mode animation to blood splatter to the memorable cast of characters with borderline psychologic\ndisorders, Black Lagoon is unadulterated deviously vicious action insert F word anywhere in between.  Madhouse did the anime industry a favor by creating two fantastic seasons of\nthis show and cannot wait to ingest even more violence later.",
         "welcome back studio madhouse person chosen director role sunao katabuchi previously worked various storyboard role previous role directing dog lassie madhouse katabuchi together\ncreated fast paced action start finish seems plethora talented staff put different director role tetsurou araki atsushi nigorikawa common factor staff knew action black lagoon\nstart standard japanese salary man named rokuro aka rock later beinggiven task take item client bos journey pirate black lagoon company rob boat acquire said item rock bos deems\nexpendable order keep item stolen therefore rock somehow join black lagoon company crazy crew misfit rock crew live pirate island attend everything weapon deal encounter maid\nassassin literally swearing shooting thing killing awesome black lagoon straight violence featuring theme showing girl gun arguably show six strongest female chick revy stereotype\nmaid assassin roberta nun eda weapon smuggler somehow slip humorous scene dialogue violent battle important note gorgeously animated hardcore music go along bullet mode blood\nsplatter memorable cast borderline psychologic disorder black lagoon unadulterated deviously vicious action insert f word anywhere madhouse industry favor creating two fantastic\nseason cannot wait ingest violence later",
         "0.6147670972923943"
        ]
       ],
       "shape": {
        "columns": 4,
        "rows": 5
       }
      },
      "text/html": [
       "<div>\n",
       "<style scoped>\n",
       "    .dataframe tbody tr th:only-of-type {\n",
       "        vertical-align: middle;\n",
       "    }\n",
       "\n",
       "    .dataframe tbody tr th {\n",
       "        vertical-align: top;\n",
       "    }\n",
       "\n",
       "    .dataframe thead th {\n",
       "        text-align: right;\n",
       "    }\n",
       "</style>\n",
       "<table border=\"1\" class=\"dataframe\">\n",
       "  <thead>\n",
       "    <tr style=\"text-align: right;\">\n",
       "      <th></th>\n",
       "      <th>anime_id</th>\n",
       "      <th>review</th>\n",
       "      <th>processed_review</th>\n",
       "      <th>similarity_score</th>\n",
       "    </tr>\n",
       "  </thead>\n",
       "  <tbody>\n",
       "    <tr>\n",
       "      <th>188390</th>\n",
       "      <td>46604</td>\n",
       "      <td>A decent gun action anime. It's no Lycoris Rec...</td>\n",
       "      <td>decent gun action lycoris recoil sao sao alter...</td>\n",
       "      <td>0.647498</td>\n",
       "    </tr>\n",
       "    <tr>\n",
       "      <th>77850</th>\n",
       "      <td>11757</td>\n",
       "      <td>The main reason Sword Art Online gets a 10/10 ...</td>\n",
       "      <td>reason sword online get found kirito almost th...</td>\n",
       "      <td>0.628612</td>\n",
       "    </tr>\n",
       "    <tr>\n",
       "      <th>16857</th>\n",
       "      <td>411</td>\n",
       "      <td>Quentin Tarantino is one strange guy. His cult...</td>\n",
       "      <td>quentin tarantino strange guy cult film homage...</td>\n",
       "      <td>0.628402</td>\n",
       "    </tr>\n",
       "    <tr>\n",
       "      <th>54786</th>\n",
       "      <td>6594</td>\n",
       "      <td>This is a show about swords, the title even ro...</td>\n",
       "      <td>sword title roughly translates sword sword swo...</td>\n",
       "      <td>0.626034</td>\n",
       "    </tr>\n",
       "    <tr>\n",
       "      <th>23877</th>\n",
       "      <td>889</td>\n",
       "      <td>Welcome back Studio Madhouse. The person chose...</td>\n",
       "      <td>welcome back studio madhouse person chosen dir...</td>\n",
       "      <td>0.614767</td>\n",
       "    </tr>\n",
       "  </tbody>\n",
       "</table>\n",
       "</div>"
      ],
      "text/plain": [
       "        anime_id                                             review  \\\n",
       "188390     46604  A decent gun action anime. It's no Lycoris Rec...   \n",
       "77850      11757  The main reason Sword Art Online gets a 10/10 ...   \n",
       "16857        411  Quentin Tarantino is one strange guy. His cult...   \n",
       "54786       6594  This is a show about swords, the title even ro...   \n",
       "23877        889  Welcome back Studio Madhouse. The person chose...   \n",
       "\n",
       "                                         processed_review  similarity_score  \n",
       "188390  decent gun action lycoris recoil sao sao alter...          0.647498  \n",
       "77850   reason sword online get found kirito almost th...          0.628612  \n",
       "16857   quentin tarantino strange guy cult film homage...          0.628402  \n",
       "54786   sword title roughly translates sword sword swo...          0.626034  \n",
       "23877   welcome back studio madhouse person chosen dir...          0.614767  "
      ]
     },
     "execution_count": 205,
     "metadata": {},
     "output_type": "execute_result"
    }
   ],
   "source": [
    "recommendations_new_query.head()"
   ]
  },
  {
   "cell_type": "code",
   "execution_count": 206,
   "id": "ad0b2e6b",
   "metadata": {},
   "outputs": [
    {
     "data": {
      "application/vnd.microsoft.datawrangler.viewer.v0+json": {
       "columns": [
        {
         "name": "index",
         "rawType": "int64",
         "type": "integer"
        },
        {
         "name": "anime_id",
         "rawType": "int64",
         "type": "integer"
        },
        {
         "name": "title",
         "rawType": "object",
         "type": "string"
        },
        {
         "name": "synopsis",
         "rawType": "object",
         "type": "string"
        }
       ],
       "ref": "f6e3a11b-92ce-4b9c-a1ad-1dd0ffd99c9a",
       "rows": [
        [
         "293",
         "411",
         "Gun x Sword",
         "Van, a lanky and apathetic swordsman, is on a journey to kill the murderer of his fiancé. The only characteristic he has to go by is that the murderer has a claw for an arm, hence the murderer being referred to as The Claw Man. During his travels, Van happens to pass through the city of Evergreen, which is defending itself from bandits who aim to rob the city of its treasury. It is in this city that Van meets Wendy Garret, a timid young girl who is looking for her kidnapped brother. When the city pleads for Van's assistance to defend it, he refuses, claiming it has nothing to do with him and thus leaves the city on its own to deal with the peril. Soon after, Van comes across the raiding bandits himself and they eventually tick off the swordsman to a degree where he takes action against them for his own personal vendetta. Surprisingly, Van learns that the bandits had ties with The Claw Man, and in kidnapping Wendy's brother for a reason they did not disclose. After the bandits are dealt with easily, Van and, much to his chagrin, Wendy continue the journey in search of The Claw Man. Little do they know, however, that The Claw Man is involved with something more atrocious than either could fathom."
        ],
        [
         "550",
         "889",
         "Black Lagoon",
         "hin Thailand is Roanapur, a depraved, crime-ridden city where not even the authorities or churches are untouched by the claws of corruption. A haven for convicts and degenerates alike, the city is notorious for being the center of illegal activities and operations, often fueled by local crime syndicates. Enter Rokurou Okajima, an average Japanese businessman who has been living a dull and monotonous life, when he finally gets his chance for a change of pace with a delivery trip to Southeast Asia. His business trip swiftly goes downhill as Rokurou is captured by a mercenary group operating in Roanapur, called Black Lagoon. The group plans to use him as a bargaining chip in negotiations which ultimately failed. Now abandoned and betrayed by his former employer, Rokurou decides to join Black Lagoon. In order to survive, he must quickly adapt to his new environment and prepare himself for the bloodshed and tribulation to come. A non-stop, high-octane thriller, Black Lagoon delves into the depths of human morality and virtue. Witness Rokurou struggling to keep his values and philosophies intact as he slowly transforms from businessman to ruthless mercenary."
        ],
        [
         "757",
         "1292",
         "Afro Samurai",
         "hen he was a young boy, Afro witnessed his father be cut down in a duel at the hands of a man known only as Justice. After taking the life of Afro's father, Justice cast aside his Number Two headband and took the Number One to claim its godly powers as his own. Years later, having obtained the Number Two headband which grants him the right to challenge the Number One, Afro moves forward in his hunt for revenge on the man who murdered his father. There is just one thing that stands in his way—everyone else in the world! Though the Number One can only be challenged by the Number Two, the Number Two can be challenged by anyone. As his enemies gather to try and take the title of Number Two, Afro must fight through a myriad of foes and obstacles if he hopes to reach the Number One and claim vengeance once and for all."
        ],
        [
         "2272",
         "6594",
         "Katanagatari",
         "In an Edo-era Japan lush with a variety of sword-fighting styles, Shichika Yasuri practices the most unique one: Kyotouryuu, a technique in which the user's own body is wielded as a blade. The enigmatic seventh head of the Kyotouryuu school, Shichika lives quietly in exile with his sister Nanami until one day—the wildly ambitious strategist Togame barges into their lives. Togame brazenly requests that Shichika help in her mission to collect twelve unique swords, known as the \"Deviant Blades,\" for the shogunate. Shichika accepts, interested in the girl herself rather than petty politics, and thus sets out on a journey. Standing in their way are the fierce wielders of these legendary weapons as well as other power-hungry entities who seek to thwart Togame's objective. In order to prevail against their enemies, the duo must become an unbreakable team as they forge ahead on a path of uncertainty and peril."
        ],
        [
         "2978",
         "11757",
         "Sword Art Online",
         "In the year 2022, virtual reality has progressed by leaps and bounds, and a massive online role-playing game called Sword Art Online (SAO) is launched. With the aid of \"NerveGear\" technology, players can control their avatars within the game using nothing but their own thoughts. Kazuto Kirigaya, nicknamed \"Kirito,\" is among the lucky few enthusiasts who get their hands on the first shipment of the game. He logs in to find himself, with ten-thousand others, in the scenic and elaborate world of Aincrad, one full of fantastic medieval weapons and gruesome monsters. However, in a cruel turn of events, the players soon realize they cannot log out; the game's creator has trapped them in his new world until they complete all one hundred levels of the game. In order to escape Aincrad, Kirito will now have to interact and cooperate with his fellow players. Some are allies, while others are foes, like Asuna Yuuki, who commands the leading group attempting to escape from the ruthless game. To make matters worse, Sword Art Online is not all fun and games: if they die in Aincrad, they die in real life. Kirito must adapt to his new reality, fight for his survival, and hopefully break free from his virtual hell."
        ],
        [
         "5282",
         "39597",
         "Sword Art Online: Alicization - War of Underworld",
         "Despite the defeat of Quinella—the pontifex of the Axiom Church—things have not seemed to calm down yet. Upon contacting the real world, Kazuto \"Kirito\" Kirigaya finds out that the Ocean Turtle—a mega-float controlled by Rath—was raided. Due to a sudden short-circuit caused by the raiders, Kirito's fluctlight is damaged, leaving him comatose. Feeling insecure about the people at the Axiom Church, Alice brings the unconscious Kirito back to their hometown—Rulid Village, disregarding her banishment due to an unabsolved crime. Now, Alice is living an ordinary and peaceful life close by the village, wishing for Kirito to wake up. However, tragedy strikes when Alice notices that the Dark Territory has already started to invade the Human Empire. Reassuming her previous alias, Alice Synthesis Thirty, she promises to defeat the Dark Territory in order to defend the world that Kirito and Eugeo worked so hard to protect."
        ],
        [
         "5715",
         "46604",
         "Girls' Frontline",
         "After World War III decimated the world's population and rendered large amounts of land uninhabitable, various private military contractors began using combat androids—also known as \"T-Dolls\"—to maintain peace in unstable countries. While they are physically superior to flesh-and-blood fighters, T-Dolls are incapable of formulating complex plans and thus require a human commander to issue orders.\n\nSangvis Ferri was an industry-leading T-Doll manufacturer until they attempted to install a specialized T-Doll as the company's sole commander—resulting in the immediate deaths of everyone at that facility. Seizing control of Sangvis factories, the rogue AI declared war on the remnants of mankind. Now facing a hostile robot invasion, Griffin &amp; Kryuger is the only paramilitary organization strong enough to withstand confrontation and halt their destructive advances.\n\nInvestigating the events related to Sangvis Ferri's aggression, the elite task force \"Team Anti-Rain\" searches for highly confidential information in an abandoned warehouse, but they are shortly ambushed. Hoping to safeguard their findings, the group temporarily disbands and each Doll goes into hiding. Meanwhile, the lazy but gifted Gentiane is hired by Griffin as a rookie commander and given her critical first mission—track down Team Anti-Rain and recover the classified data before Sangvis Ferri can.\n\n[Written by MAL Rewrite]"
        ]
       ],
       "shape": {
        "columns": 3,
        "rows": 7
       }
      },
      "text/html": [
       "<div>\n",
       "<style scoped>\n",
       "    .dataframe tbody tr th:only-of-type {\n",
       "        vertical-align: middle;\n",
       "    }\n",
       "\n",
       "    .dataframe tbody tr th {\n",
       "        vertical-align: top;\n",
       "    }\n",
       "\n",
       "    .dataframe thead th {\n",
       "        text-align: right;\n",
       "    }\n",
       "</style>\n",
       "<table border=\"1\" class=\"dataframe\">\n",
       "  <thead>\n",
       "    <tr style=\"text-align: right;\">\n",
       "      <th></th>\n",
       "      <th>anime_id</th>\n",
       "      <th>title</th>\n",
       "      <th>synopsis</th>\n",
       "    </tr>\n",
       "  </thead>\n",
       "  <tbody>\n",
       "    <tr>\n",
       "      <th>293</th>\n",
       "      <td>411</td>\n",
       "      <td>Gun x Sword</td>\n",
       "      <td>Van, a lanky and apathetic swordsman, is on a ...</td>\n",
       "    </tr>\n",
       "    <tr>\n",
       "      <th>550</th>\n",
       "      <td>889</td>\n",
       "      <td>Black Lagoon</td>\n",
       "      <td>hin Thailand is Roanapur, a depraved, crime-ri...</td>\n",
       "    </tr>\n",
       "    <tr>\n",
       "      <th>757</th>\n",
       "      <td>1292</td>\n",
       "      <td>Afro Samurai</td>\n",
       "      <td>hen he was a young boy, Afro witnessed his fat...</td>\n",
       "    </tr>\n",
       "    <tr>\n",
       "      <th>2272</th>\n",
       "      <td>6594</td>\n",
       "      <td>Katanagatari</td>\n",
       "      <td>In an Edo-era Japan lush with a variety of swo...</td>\n",
       "    </tr>\n",
       "    <tr>\n",
       "      <th>2978</th>\n",
       "      <td>11757</td>\n",
       "      <td>Sword Art Online</td>\n",
       "      <td>In the year 2022, virtual reality has progress...</td>\n",
       "    </tr>\n",
       "    <tr>\n",
       "      <th>5282</th>\n",
       "      <td>39597</td>\n",
       "      <td>Sword Art Online: Alicization - War of Underworld</td>\n",
       "      <td>Despite the defeat of Quinella—the pontifex of...</td>\n",
       "    </tr>\n",
       "    <tr>\n",
       "      <th>5715</th>\n",
       "      <td>46604</td>\n",
       "      <td>Girls' Frontline</td>\n",
       "      <td>After World War III decimated the world's popu...</td>\n",
       "    </tr>\n",
       "  </tbody>\n",
       "</table>\n",
       "</div>"
      ],
      "text/plain": [
       "      anime_id                                              title  \\\n",
       "293        411                                        Gun x Sword   \n",
       "550        889                                       Black Lagoon   \n",
       "757       1292                                       Afro Samurai   \n",
       "2272      6594                                       Katanagatari   \n",
       "2978     11757                                   Sword Art Online   \n",
       "5282     39597  Sword Art Online: Alicization - War of Underworld   \n",
       "5715     46604                                   Girls' Frontline   \n",
       "\n",
       "                                               synopsis  \n",
       "293   Van, a lanky and apathetic swordsman, is on a ...  \n",
       "550   hin Thailand is Roanapur, a depraved, crime-ri...  \n",
       "757   hen he was a young boy, Afro witnessed his fat...  \n",
       "2272  In an Edo-era Japan lush with a variety of swo...  \n",
       "2978  In the year 2022, virtual reality has progress...  \n",
       "5282  Despite the defeat of Quinella—the pontifex of...  \n",
       "5715  After World War III decimated the world's popu...  "
      ]
     },
     "execution_count": 206,
     "metadata": {},
     "output_type": "execute_result"
    }
   ],
   "source": [
    "recommendation_ids = set(recommendations_new_query[\"anime_id\"].unique())\n",
    "anime_df.loc[anime_df[\"anime_id\"].isin(recommendation_ids), [\"anime_id\", \"title\", \"synopsis\"]]"
   ]
  },
  {
   "cell_type": "markdown",
   "id": "fbafaa38",
   "metadata": {},
   "source": [
    "9. germophobe navigating life"
   ]
  },
  {
   "cell_type": "code",
   "execution_count": 207,
   "id": "641400dc",
   "metadata": {},
   "outputs": [
    {
     "data": {
      "image/png": "[encoded data removed]",
      "text/plain": [
       "<Figure size 640x480 with 1 Axes>"
      ]
     },
     "metadata": {},
     "output_type": "display_data"
    },
    {
     "name": "stderr",
     "output_type": "stream",
     "text": [
      "C:\\Users\\Asus-Home\\AppData\\Local\\Temp\\ipykernel_20432\\122375758.py:17: SettingWithCopyWarning: \n",
      "A value is trying to be set on a copy of a slice from a DataFrame.\n",
      "Try using .loc[row_indexer,col_indexer] = value instead\n",
      "\n",
      "See the caveats in the documentation: https://pandas.pydata.org/pandas-docs/stable/user_guide/indexing.html#returning-a-view-versus-a-copy\n",
      "  recommended_items['similarity_score'] = similarities[top_indices]\n"
     ]
    }
   ],
   "source": [
    "recommendations_new_query = recommend_from_query_text(query_9, df, tfidf_vectorizer, tfidf_matrix, lsa_model, num_recommendations=10)"
   ]
  },
  {
   "cell_type": "code",
   "execution_count": 208,
   "id": "0e9b7343",
   "metadata": {},
   "outputs": [
    {
     "data": {
      "application/vnd.microsoft.datawrangler.viewer.v0+json": {
       "columns": [
        {
         "name": "index",
         "rawType": "int64",
         "type": "integer"
        },
        {
         "name": "anime_id",
         "rawType": "int64",
         "type": "integer"
        },
        {
         "name": "review",
         "rawType": "object",
         "type": "string"
        },
        {
         "name": "processed_review",
         "rawType": "object",
         "type": "string"
        },
        {
         "name": "similarity_score",
         "rawType": "float64",
         "type": "float"
        }
       ],
       "ref": "e3b0da22-bead-45e5-a490-9c2b4ed43a47",
       "rows": [
        [
         "193935",
         "50425",
         "\"More than a Married Couple, but Not Lovers\" is a captivating drama that delves into the complexities of human relationships, specifically focusing on the unique dynamics between\ntwo individuals who share a deep connection beyond the confines of a traditional romantic partnership. This series offers a refreshing and thought-provoking perspective on love,\ncompanionship, and the intricacies of emotional bonds. One of the strengths of \"More than a Married Couple, but Not Lovers\" lies in its well-crafted characters. The main\nprotagonists are portrayed with depth and nuance, allowing viewers to empathize with their emotional struggles and internal conflicts. The series explores the idea that love can\nmanifestin various forms, going beyond the romantic realm, and showcases the complexity of human emotions and connections.  The chemistry between the central characters is\npalpable, and the gradual development of their relationship is both believable and compelling. The series skillfully navigates the fine line between friendship, companionship, and\na deeper emotional connection, creating a sense of tension and anticipation that keeps viewers engaged. The dialogue is poignant and realistic, effectively conveying the emotional\ndepth of the characters' bond.  The storytelling in \"More than a Married Couple, but Not Lovers\" is character-driven, focusing on the inner thoughts and personal journeys of the\nprotagonists. It presents a delicate balance of introspection and external events, exploring the intricacies of human nature and the challenges faced in navigating unconventional\nrelationships. The narrative is contemplative and introspective, allowing viewers to reflect on their own experiences and perceptions of love and companionship.  Visually, the\nseries captures the subtleties of human emotions through its expressive animation and art style. The use of color palettes and visual cues enhances the mood and atmosphere of the\nscenes, adding depth and resonance to the characters' emotional journeys. However, it is worth noting that the animation quality may vary at times, with occasional inconsistencies\nin certain episodes.  While \"More than a Married Couple, but Not Lovers\" excels in its exploration of complex relationships, it may not appeal to viewers seeking a traditional\nromance or a fast-paced plot. The deliberate pacing and focus on introspection may feel slow to some, but for those who appreciate character-driven narratives and emotional depth,\nit offers a rewarding and contemplative viewing experience.  In conclusion, \"More than a Married Couple, but Not Lovers\" is a captivating drama that delves into the intricate\nnature of human connections. With its well-developed characters, nuanced exploration of relationships, and introspective storytelling, it offers a refreshing perspective on love,\ncompanionship, and emotional bonds. While it may not cater to every viewer's taste, it stands as a poignant and thought-provoking series for those seeking a deeper understanding of\nthe complexities of human relationships.",
         "married couple lover captivating drama delf complexity human relationship specifically focusing unique dynamic two individual share deep connection beyond confines traditional\nromantic partnership offer refreshing thought provoking perspective companionship intricacy emotional bond strength married couple lover lie crafted protagonist portrayed depth\nnuance allowing viewer empathize emotional struggle internal conflict explores idea manifestin various form going beyond romantic realm showcase complexity human emotion connection\nchemistry central palpable gradual development relationship believable compelling skillfully navigates fine line friendship companionship deeper emotional connection creating sense\ntension anticipation keep viewer engaged dialogue poignant realistic effectively conveying emotional depth bond storytelling married couple lover driven focusing inner thought\npersonal journey protagonist present delicate balance introspection external event exploring intricacy human nature challenge faced navigating unconventional relationship narrative\ncontemplative introspective allowing viewer reflect experience perception companionship visually capture subtlety human emotion expressive style use color palette visual cue\nenhances mood atmosphere scene adding depth resonance emotional journey however worth noting quality may vary time occasional inconsistency certain married couple lover excels\nexploration complex relationship may appeal viewer seeking traditional romance fast paced deliberate pacing focus introspection may slow appreciate driven narrative emotional depth\noffer rewarding contemplative viewing experience conclusion married couple lover captivating drama delf intricate nature human connection developed nuanced exploration relationship\nintrospective storytelling offer refreshing perspective companionship emotional bond may cater every viewer taste stand poignant thought provoking seeking deeper understanding\ncomplexity human relationship",
         "0.7490777685369583"
        ],
        [
         "177370",
         "40938",
         "\"Higehiro: After Being Rejected, I Shaved and Took in a High School Runaway\" is an anime series that delves into the depths of human emotions, captivating audiences with its\nportrayal of compassion, relationships, and societal challenges. While it explores important themes, the series evokes a mix of emotions due to its execution and handling of\ncertain elements. One of the notable strengths of \"Higehiro\" lies in its ability to tackle sensitive topics with a level of honesty that strikes a chord with viewers. It fearlessly\ndelves into the emotional turmoil faced by Sayu Ogiwara, a runaway high school student, and Yoshida, a compassionate salaryman who openshis home to her. Their journey captivates\nhearts and initiates thought-provoking discussions surrounding loneliness, healing, and the power of human connections.  The character development in \"Higehiro\" is undeniably\npraiseworthy, especially when it comes to Yoshida and Sayu. Throughout the series, they undergo profound transformations, and their growth is genuinely moving to witness. Their\ninteractions are nuanced and heartfelt, allowing audiences to delve into their emotional journeys while developing a deep understanding of their pain and vulnerabilities. Moreover,\n\"Higehiro\" fearlessly confronts societal norms, shedding light on the complexities of relationships, gender dynamics, and social judgments. It challenges conventional perceptions,\nfostering empathy and encouraging viewers to question preconceived notions that often lead to misunderstanding and marginalization.  However, \"Higehiro\" does have its fair share of\nweaknesses that impact the overall viewing experience. The pacing occasionally feels uneven, with certain episodes veering towards repetitive dialogues or subplots that may seem\nunnecessary. These moments can lead to a sense of stagnation, temporarily detaching viewers from the main narrative and hindering the flow of the story. Additionally, the romantic\nundertones between Yoshida and Sayu may provoke mixed emotions among audiences. While the series attempts to handle their relationship with sensitivity, the significant age gap and\npower dynamics involved can create discomfort for some viewers. The delicate nature of their bond requires a thoughtful approach, which may affect the connection that some viewers\nestablish with the characters and the story.  In conclusion, \"Higehiro: After Being Rejected, I Shaved and Took in a High School Runaway\" is an anime series that tackles profound\nthemes and leaves a lasting impact. It invites audiences to explore the depths of human emotion, fostering reflection and empathy. However, the occasional pacing issues and the\nsensitive nature of the romantic elements might affect the overall enjoyment for some viewers. Ultimately, it is a series that encourages open- mindedness and thoughtful\nconsideration, delivering a thought-provoking narrative worth experiencing.",
         "higehiro rejected shaved took high school runaway delf depth human emotion captivating audience portrayal compassion relationship societal challenge explores important theme evokes\nmix emotion due execution handling certain element notable strength higehiro lie ability tackle sensitive topic level honesty strike chord viewer fearlessly delf emotional turmoil\nfaced sayu ogiwara runaway high school student yoshida compassionate salaryman openshis home journey captivates heart initiate thought provoking discussion surrounding loneliness\nhealing power human connection development higehiro undeniably praiseworthy especially come yoshida sayu throughout undergo profound transformation growth genuinely moving witness\ninteraction nuanced heartfelt allowing audience delve emotional journey developing deep understanding pain vulnerability moreover higehiro fearlessly confronts societal norm\nshedding light complexity relationship gender dynamic social judgment challenge conventional perception fostering empathy encouraging viewer question preconceived notion often lead\nmisunderstanding marginalization however higehiro fair share weakness impact viewing experience pacing occasionally feel uneven certain veering towards repetitive dialogue subplots\nmay seem unnecessary moment lead sense stagnation temporarily detaching viewer narrative hindering flow additionally romantic undertone yoshida sayu may provoke mixed emotion among\naudience attempt handle relationship sensitivity significant age gap power dynamic involved create discomfort viewer delicate nature bond requires thoughtful approach may affect\nconnection viewer establish conclusion higehiro rejected shaved took high school runaway tackle profound theme leaf lasting impact invite audience explore depth human emotion\nfostering reflection empathy however occasional pacing issue sensitive nature romantic element might affect enjoyment viewer ultimately encourages open mindedness thoughtful\nconsideration delivering thought provoking narrative worth experiencing",
         "0.736835585921407"
        ],
        [
         "184166",
         "42897",
         "Title: Horimiya - A Heartfelt Dive into Youthful Relationships Rating: 9/10 Introduction: \"Horimiya\" is a delightful and heartwarming anime that masterfully explores the\ncomplexities of youth, relationships, and the masks we wear in our everyday lives. This adaptation of HERO's manga series succeeds in capturing the essence of adolescence and the\nbeauty of genuine connections. As an anime enthusiast, I offer my review of \"Horimiya,\" shedding light on its strengths and why it deserves a solid 9/10. Authentic Characters and\nRelationships: One of the standout aspects of \"Horimiya\" is its authentic portrayal of the characters and their evolving relationships. The protagonists, Kyoko Hori and Izumi\nMiyamura, lead double lives—presenting theirtrue selves at school and concealing their real personalities outside of it. Their complex and relatable characters make their journey\nof self-discovery and acceptance all the more engaging. The anime explores the beauty of revealing one's true self to others and the deep bonds that can form as a result. The\nvarious relationships within the series, from friendships to budding romances, feel genuine and emotionally resonant.  Balanced Mix of Comedy and Drama:  \"Horimiya\" strikes a\nwonderful balance between comedy and drama. The humor is genuinely funny, often arising from the characters' quirky personalities and interactions. This lightheartedness provides\nmoments of levity, preventing the series from becoming overly heavy. On the flip side, the anime doesn't shy away from exploring deeper emotional themes. It tackles issues of self-\nidentity, loneliness, and personal growth with sensitivity and maturity. This balance between humor and drama allows for a well-rounded viewing experience.  Character Growth and\nDevelopment:  The character growth in \"Horimiya\" is both satisfying and meaningful. Each character undergoes their own development arc, contributing to the overall narrative. The\nprogression of Hori and Miyamura's relationship feels natural and heartfelt. They help each other grow, overcoming their insecurities and building a bond that is both touching and\ninspiring. Watching these characters come into their own and form connections with others is a rewarding experience.  Unique and Memorable Supporting Cast:  The supporting cast in\n\"Horimiya\" is not just an afterthought; each character is given depth and contributes to the story. Be it Hori's younger brother, Souta, or Miyamura's childhood friend, Toru, the\nside characters play pivotal roles in the characters' lives and personal growth. This attention to detail in character development adds depth and authenticity to the story.  Art\nand Animation Style:  The art and animation style in \"Horimiya\" is visually appealing. Character designs are expressive and detailed, conveying a wide range of emotions. The\nanimation quality is consistent, enhancing the overall viewing experience without being overly extravagant. The series manages to capture the essence of the manga's art while\nadding its own unique flair.  Conclusion:  In conclusion, \"Horimiya\" is a heartfelt, authentic, and beautifully balanced anime that delves into the intricacies of youth, self-\ndiscovery, and meaningful connections. With its genuine characters, memorable relationships, humor, and emotional depth, it offers a compelling narrative that resonates with\nviewers of all ages. The series manages to blend the complexities of adolescence with the warmth of genuine human interactions, resulting in a truly engaging and rewarding\nexperience. For these reasons, I rate \"Horimiya\" a solid 9/10. If you're looking for a heartfelt and relatable exploration of youth and relationships, this anime is a must-watch.",
         "title horimiya heartfelt dive youthful relationship rating introduction horimiya delightful heartwarming masterfully explores complexity youth relationship mask wear everyday life\nadaptation hero manga succeeds capturing essence adolescence beauty genuine connection enthusiast offer review horimiya shedding light strength deserves solid authentic\nrelationship standout aspect horimiya authentic portrayal evolving relationship protagonist kyoko hori izumi miyamura lead double life presenting theirtrue self school concealing\nreal personality outside complex relatable journey self discovery acceptance engaging explores beauty revealing true self others deep bond form result various relationship within\nfriendship budding romance genuine emotionally resonant balanced mix comedy drama horimiya strike wonderful balance comedy drama humor genuinely funny often arising quirky\npersonality interaction lightheartedness provides moment levity preventing becoming overly heavy flip side shy away exploring deeper emotional theme tackle issue self identity\nloneliness personal growth sensitivity maturity balance humor drama allows rounded viewing experience growth development growth horimiya satisfying meaningful undergoes development\narc contributing narrative progression hori miyamura relationship feel natural heartfelt help grow overcoming insecurity building bond touching inspiring come form connection\nothers rewarding experience unique memorable supporting cast supporting cast horimiya afterthought given depth contributes hori younger brother souta miyamura childhood friend toru\nside play pivotal role life personal growth attention detail development add depth authenticity style style horimiya visually appealing design expressive detailed conveying wide\nrange emotion quality consistent enhancing viewing experience without overly extravagant manages capture essence manga adding unique flair conclusion conclusion horimiya heartfelt\nauthentic beautifully balanced delf intricacy youth self discovery meaningful connection genuine memorable relationship humor emotional depth offer compelling narrative resonates\nviewer age manages blend complexity adolescence warmth genuine human interaction resulting truly engaging rewarding experience reason rate horimiya solid looking heartfelt\nrelatable exploration youth relationship must",
         "0.7314454235258246"
        ],
        [
         "83454",
         "14289",
         "Suki tte Ii na yo (Say \"I Love You\") - A Sincere and Relatable Journey of Love and Growth Rating: 8/10 Introduction: Suki tte Ii na yo, also known as Say \"I Love You,\" is a\nheartfelt and realistic romance anime that dives into the complexities of love, self-discovery, and personal growth. With its honest portrayal of relationships and relatable\ncharacters, this series manages to capture the essence of young love in a refreshing and meaningful way. As an anime enthusiast, I offer my review of Suki tte Ii na yo,\nhighlighting its strengths and the impact it has on viewers seeking a genuine romantic experience. Genuine Characters andRealistic Relationships:  At the core of Suki tte Ii na yo\nare its genuine characters and their authentic relationships. Mei Tachibana, the main protagonist, is a reserved and cautious high school girl who has built emotional walls to\nprotect herself. Her journey from isolation to forming connections with others, especially with Yamato Kurosawa, presents a compelling character arc. The dynamic between Mei and\nYamato feels sincere and believable, showcasing both the sweetness and challenges of young love. The anime doesn't shy away from addressing insecurities, misunderstandings, and the\ngrowth that comes from navigating the complexities of romantic relationships.  Emotional Depth and Character Growth:  Suki tte Ii na yo excels in depicting the emotional depth of\nits characters and their individual growth. Mei's transformation from a solitary and guarded person to someone who learns to trust and open up is beautifully portrayed. Likewise,\nYamato's role as a patient and understanding partner contributes to Mei's development. Supporting characters also play vital roles in the story, each undergoing their own growth\narcs that contribute to the overall narrative. This emphasis on character evolution creates a well-rounded and engaging viewing experience, allowing the audience to connect with\nthe characters on a personal level.  Themes of Self-Worth and Friendship:  Beyond its romantic elements, Suki tte Ii na yo delves into themes of self-worth and the importance of\ngenuine friendship. Mei's journey to discover her own value and the gradual dismantling of her emotional barriers resonate strongly. Her interactions with friends like Asami and\nAiko highlight the significance of positive peer relationships in personal growth. The anime delivers a powerful message about the impact of supportive friendships on one's self-\nesteem and overall well-being.  Subtle Artistic Style:  The anime's art style, while subtle, complements the down-to-earth nature of the story. The character designs are simple yet\neffective in conveying emotions and expressions. The focus on realistic settings and everyday scenes enhances the relatability of the narrative. Though it might not boast elaborate\nvisuals or intricate animation, the art style aligns well with the series' focus on emotional storytelling.  Conclusion:  In conclusion, Suki tte Ii na yo (Say \"I Love You\") is a\nsincere and relatable romance anime that skillfully explores themes of love, self-discovery, and personal growth. With its genuine characters, realistic relationships, and\nemotional depth, the series offers a refreshing take on young love and the challenges that come with it. While its artistic style may not be the most elaborate, the heartwarming\nnarrative and character development more than compensate for it. For these reasons, I rate Suki tte Ii na yo an 8/10. If you're seeking a genuine and emotionally resonant romance\nanime, this series is sure to leave a lasting impression on your heart.",
         "suki tte ii na yo sincere relatable journey growth rating introduction suki tte ii na yo known heartfelt realistic romance dive complexity self discovery personal growth honest\nportrayal relationship relatable manages capture essence young refreshing meaningful enthusiast offer review suki tte ii na yo highlighting strength impact viewer seeking genuine\nromantic experience genuine andrealistic relationship core suki tte ii na yo genuine authentic relationship mei tachibana protagonist reserved cautious high school girl built\nemotional wall protect journey isolation forming connection others especially yamato kurosawa present compelling arc dynamic mei yamato feel sincere believable showcasing sweetness\nchallenge young shy away addressing insecurity misunderstanding growth come navigating complexity romantic relationship emotional depth growth suki tte ii na yo excels depicting\nemotional depth individual growth mei transformation solitary guarded person someone learns trust open beautifully portrayed likewise yamato role patient understanding partner\ncontributes mei development supporting play vital role undergoing growth arc contribute narrative emphasis evolution creates rounded engaging viewing experience allowing audience\nconnect personal level theme self worth friendship beyond romantic element suki tte ii na yo delf theme self worth importance genuine friendship mei journey discover value gradual\ndismantling emotional barrier resonate strongly interaction friend asami aiko highlight significance positive peer relationship personal growth delivers powerful message impact\nsupportive friendship self esteem subtle artistic style style subtle complement earth nature design simple yet effective conveying emotion expression focus realistic setting\neveryday scene enhances relatability narrative though might boast elaborate visuals intricate style aligns focus emotional storytelling conclusion conclusion suki tte ii na yo\nsincere relatable romance skillfully explores theme self discovery personal growth genuine realistic relationship emotional depth offer refreshing take young challenge come\nartistic style may elaborate heartwarming narrative development compensate reason rate suki tte ii na yo seeking genuine emotionally resonant romance sure leave lasting impression\nheart",
         "0.729849917755063"
        ],
        [
         "193917",
         "50425",
         "More than a Married Couple, but Not Lovers - A Bittersweet Exploration of Relationships Rating: 7/10 More than a Married Couple, but Not Lovers is an anime series that delves into\nthe complexities of human relationships, examining the blurred lines between friendship, romance, and the challenges of societal expectations. With its mature themes and thought-\nprovoking storytelling, this anime offers a bittersweet exploration of love and companionship. The story revolves around two main characters, Hiroshi and Aya, who find themselves\nentangled in a unique dynamic. Despite being married, they maintain a platonic relationship, navigating the delicate balance between affection and the expectations of society. The\nseries follows their journeyas they confront their own emotions and grapple with the complexities of their unconventional bond.  One of the strengths of More than a Married Couple,\nbut Not Lovers lies in its nuanced portrayal of human emotions. The anime delves into the character's inner struggles, highlighting their desires, fears, and the societal pressures\nthey face. It raises questions about the nature of love and the definitions we assign to relationships, challenging traditional norms.  The animation style complements the mature\nthemes of the series, with subdued colours and subtle character expressions that reflect the complex emotions at play. While the animation may not be visually extravagant, it\neffectively captures the emotional depth and introspection of the characters.  The character development is a noteworthy aspect of the series. Hiroshi and Aya are portrayed as\nmulti-dimensional individuals, each carrying their own emotional baggage and growth arcs. The gradual exploration of their relationship and the evolving dynamics between them offer\na realistic portrayal of the complexities of human connections.  More than a Married Couple, but Not Lovers excels in its ability to evoke introspection and emotional resonance. It\nencourages viewers to reflect on their own perceptions of relationships and the societal constructs that influence our understanding of love. The series raises thought-provoking\nquestions, inviting audiences to ponder the nature of companionship and the boundaries we set.  However, the anime does have a few limitations. The pacing can feel slow at times,\nwith certain episodes lacking significant plot developments. Additionally, the series may not appeal to those seeking fast-paced or action-oriented narratives, as its focus lies\nmore on character-driven storytelling and introspection.  Overall, More than a Married Couple, but Not Lovers is a mature and thought-provoking anime that explores the complexities\nof relationships in a society governed by expectations. With its nuanced portrayal of emotions, introspective character development, and challenging of societal norms, it offers a\nbittersweet viewing experience. While it may not be for everyone and has some pacing issues, it deserves recognition for its exploration of unconventional connections. Therefore,\nit receives a solid 7/10 rating on my anime list.",
         "married couple lover bittersweet exploration relationship rating married couple lover delf complexity human relationship examining blurred line friendship romance challenge\nsocietal expectation mature theme thought provoking storytelling offer bittersweet exploration companionship revolves around two hiroshi aya find entangled unique dynamic despite\nmarried maintain platonic relationship navigating delicate balance affection expectation society follows journeyas confront emotion grapple complexity unconventional bond strength\nmarried couple lover lie nuanced portrayal human emotion delf inner struggle highlighting desire fear societal pressure face raise question nature definition assign relationship\nchallenging traditional norm style complement mature theme subdued colour subtle expression reflect complex emotion play may visually extravagant effectively capture emotional\ndepth introspection development noteworthy aspect hiroshi aya portrayed multi dimensional individual carrying emotional baggage growth arc gradual exploration relationship evolving\ndynamic offer realistic portrayal complexity human connection married couple lover excels ability evoke introspection emotional resonance encourages viewer reflect perception\nrelationship societal construct influence understanding raise thought provoking question inviting audience ponder nature companionship boundary set however limitation pacing slow\ntime certain lacking significant development additionally may appeal seeking fast paced action oriented narrative focus lie driven storytelling introspection married couple lover\nmature thought provoking explores complexity relationship society governed expectation nuanced portrayal emotion introspective development challenging societal norm offer\nbittersweet viewing experience may everyone pacing issue deserves recognition exploration unconventional connection therefore receives solid rating list",
         "0.7263102378406892"
        ]
       ],
       "shape": {
        "columns": 4,
        "rows": 5
       }
      },
      "text/html": [
       "<div>\n",
       "<style scoped>\n",
       "    .dataframe tbody tr th:only-of-type {\n",
       "        vertical-align: middle;\n",
       "    }\n",
       "\n",
       "    .dataframe tbody tr th {\n",
       "        vertical-align: top;\n",
       "    }\n",
       "\n",
       "    .dataframe thead th {\n",
       "        text-align: right;\n",
       "    }\n",
       "</style>\n",
       "<table border=\"1\" class=\"dataframe\">\n",
       "  <thead>\n",
       "    <tr style=\"text-align: right;\">\n",
       "      <th></th>\n",
       "      <th>anime_id</th>\n",
       "      <th>review</th>\n",
       "      <th>processed_review</th>\n",
       "      <th>similarity_score</th>\n",
       "    </tr>\n",
       "  </thead>\n",
       "  <tbody>\n",
       "    <tr>\n",
       "      <th>193935</th>\n",
       "      <td>50425</td>\n",
       "      <td>\"More than a Married Couple, but Not Lovers\" i...</td>\n",
       "      <td>married couple lover captivating drama delf co...</td>\n",
       "      <td>0.749078</td>\n",
       "    </tr>\n",
       "    <tr>\n",
       "      <th>177370</th>\n",
       "      <td>40938</td>\n",
       "      <td>\"Higehiro: After Being Rejected, I Shaved and ...</td>\n",
       "      <td>higehiro rejected shaved took high school runa...</td>\n",
       "      <td>0.736836</td>\n",
       "    </tr>\n",
       "    <tr>\n",
       "      <th>184166</th>\n",
       "      <td>42897</td>\n",
       "      <td>Title: Horimiya - A Heartfelt Dive into Youthf...</td>\n",
       "      <td>title horimiya heartfelt dive youthful relatio...</td>\n",
       "      <td>0.731445</td>\n",
       "    </tr>\n",
       "    <tr>\n",
       "      <th>83454</th>\n",
       "      <td>14289</td>\n",
       "      <td>Suki tte Ii na yo (Say \"I Love You\") - A Since...</td>\n",
       "      <td>suki tte ii na yo sincere relatable journey gr...</td>\n",
       "      <td>0.729850</td>\n",
       "    </tr>\n",
       "    <tr>\n",
       "      <th>193917</th>\n",
       "      <td>50425</td>\n",
       "      <td>More than a Married Couple, but Not Lovers - A...</td>\n",
       "      <td>married couple lover bittersweet exploration r...</td>\n",
       "      <td>0.726310</td>\n",
       "    </tr>\n",
       "  </tbody>\n",
       "</table>\n",
       "</div>"
      ],
      "text/plain": [
       "        anime_id                                             review  \\\n",
       "193935     50425  \"More than a Married Couple, but Not Lovers\" i...   \n",
       "177370     40938  \"Higehiro: After Being Rejected, I Shaved and ...   \n",
       "184166     42897  Title: Horimiya - A Heartfelt Dive into Youthf...   \n",
       "83454      14289  Suki tte Ii na yo (Say \"I Love You\") - A Since...   \n",
       "193917     50425  More than a Married Couple, but Not Lovers - A...   \n",
       "\n",
       "                                         processed_review  similarity_score  \n",
       "193935  married couple lover captivating drama delf co...          0.749078  \n",
       "177370  higehiro rejected shaved took high school runa...          0.736836  \n",
       "184166  title horimiya heartfelt dive youthful relatio...          0.731445  \n",
       "83454   suki tte ii na yo sincere relatable journey gr...          0.729850  \n",
       "193917  married couple lover bittersweet exploration r...          0.726310  "
      ]
     },
     "execution_count": 208,
     "metadata": {},
     "output_type": "execute_result"
    }
   ],
   "source": [
    "recommendations_new_query.head()"
   ]
  },
  {
   "cell_type": "code",
   "execution_count": 209,
   "id": "35667e32",
   "metadata": {},
   "outputs": [
    {
     "data": {
      "application/vnd.microsoft.datawrangler.viewer.v0+json": {
       "columns": [
        {
         "name": "index",
         "rawType": "int64",
         "type": "integer"
        },
        {
         "name": "anime_id",
         "rawType": "int64",
         "type": "integer"
        },
        {
         "name": "title",
         "rawType": "object",
         "type": "string"
        },
        {
         "name": "synopsis",
         "rawType": "object",
         "type": "string"
        }
       ],
       "ref": "bb531f0e-f3e5-4783-8f1f-71196ce63c1b",
       "rows": [
        [
         "3139",
         "14289",
         "Say \"I Love You.\"",
         "Friends will only let you down—that is the sad truth Mei Tachibana lives with, ever since she was wrongfully blamed for the death of a class pet by her so-called friends in grade school. Since then, she stays away from people in order to avoid ever being hurt again. However, Mei's life begins to change drastically when a misunderstanding in high school causes her to encounter popular student Yamato Kurosawa. Yamato finds her intriguing and insists on being her friend, even though Mei wants nothing to do with him. But when a dangerous situation ends with Yamato kissing Mei to save her from the unwanted attention of a stalker, Mei begins to develop feelings for him. On the heels of her discovery that their feelings are mutual, they start dating and she gains not only a boyfriend, but friends as well. Mei, however, finds it very hard to adapt to this new lifestyle, especially in expressing her true feelings towards Yamato. Throughout misunderstandings of their new relationship, each other, and the attentions of other girls, Mei and Yamato slowly grow closer and learn the true meaning of those three little words: \"I love you.\""
        ],
        [
         "3244",
         "16067",
         "A Lull in the Sea",
         "ong ago, all humans lived beneath the sea. However, some people preferred the surface and abandoned living underwater permanently. As a consequence, they were stripped of their god-given protection called \"Ena\" which allowed them to breathe underwater. Over time, the rift between the denizens of the sea and of the surface widened, although contact between the two peoples still existed. Nagi no Asu kara follows the story of Hikari Sakishima and Manaka Mukaido, along with their childhood friends Chisaki Hiradaira and Kaname Isaki, who are forced to leave the sea and attend a school on the surface. There, the group also meets Tsumugu Kihara, a fellow student and fisherman who loves the sea. Hikari and his friends' lives are bound to change as they have to deal with the deep-seated hatred and discrimination between the people of sea and of the surface, the storms in their personal lives, as well as an impending tempest which may spell doom for all who dwell on the surface."
        ],
        [
         "4485",
         "33654",
         "Hitorijime My Hero",
         "asahiro Setagawa is a hopeless teenager who is often used by the neighborhood bullies as an errand boy. Defenseless, Masahiro knows that nobody will ever save him. However, his life drastically changes when he meets Kousuke Ooshiba, a man known as the \"Bear Killer,\" who takes down neighborhood gangs. A year later, Masahiro and his former friend, Kensuke Ooshiba, attend high school, only to find that Kousuke is their math teacher. While the three grow closer, Masahiro starts to view Kousuke as his \"hero,\" and Kousuke develops an urging desire to protect Masahiro. However, their normal lives take a turn when Kensuke's childhood friend, Asaya Hasekura, returns, seeing Kensuke as more than just a friend, much to his surprise. Will the three boys be able to live a regular high school life? Or will forbidden love keep them apart forever?"
        ],
        [
         "4807",
         "36220",
         "Our love has always been 10 centimeters apart.",
         "ou Aida and Haruki Serizawa might seem like polar opposites to those around them, but as the two third-years prepare to end their high school experience, they couldn't have been been closer. While Miou is a shy and reserved member of the school art club that prefers to stay out of the limelight, Haruki is the boisterous and confident ace of the movie club, already winning awards for his directing prowess. However, after a previous chance encounter during their school entrance ceremony, they quickly become friends despite their stark differences in personality. But although their closeness might be growing, they've never become anything more than just that, much to the bewilderment of their friends. As their time in high school draws to a close, Miou and Haruki, along with their friends in the art and movie clubs, have just one year left to face their hidden feelings and the daunting task of deciding their future careers. The two might always be only an arm's reach away, but as Haruki chases his dream of becoming a professional movie director and Miou struggles with choosing a path for herself, they'll learn just how hard it is to get past those last 10 centimeters."
        ],
        [
         "5450",
         "40938",
         "Higehiro: After Being Rejected, I Shaved and Took in a High School Runaway",
         "Office worker Yoshida has been crushing on his coworker, Airi Gotou, for five years. Despite finally scoring a date with her, his confession is promptly rejected. Drunk and disappointed, he stumbles home, only to find a high school girl sitting on the side of the road. The girl, needing a place to stay the night, attempts to seduce Yoshida. Despite rejecting her advances, he nevertheless invites her into his apartment. The next morning, the girl, introducing herself as Sayu Ogiwara, reveals that she has run away from Hokkaido all the way to Tokyo. During her six-month spree, she continually traded sexual favors for a roof over her head. Yoshida, however, remains unswayed by her seduction. Instead, he has her do a different kind of work—one that entails washing dishes and doing laundry. And so, a touching relationship between a heartbroken adult and a runaway high school girl begins."
        ],
        [
         "5595",
         "42897",
         "Horimiya",
         "On the surface, the thought of Kyouko Hori and Izumi Miyamura getting along would be the last thing in people's minds. After all, Hori has a perfect combination of beauty and brains, while Miyamura appears meek and distant to his fellow classmates. However, a fateful meeting between the two lays both of their hidden selves bare. Even though she is popular at school, Hori has little time to socialize with her friends due to housework. On the other hand, Miyamura lives under the noses of his peers, his body bearing secret tattoos and piercings that make him look like a gentle delinquent. Having opposite personalities yet sharing odd similarities, the two quickly become friends and often spend time together in Hori's home. As they both emerge from their shells, they share with each other a side of themselves concealed from the outside world."
        ],
        [
         "5708",
         "46352",
         "Blue Period",
         "Second-year high school student Yatora Yaguchi is bored with his normal life. He studies well and plays around with his friends, but in truth, he does not enjoy either of those activities. Bound by norms, he secretly envies those who do things differently. That is until he discovers the joy of drawing. When he sees a painting made by a member of the Art Club, Yatora becomes fascinated with the colors used in it. Later, in an art exercise, he tries to convey his language without words but instead through painting. After that experience, Yatora finds himself so invested in art that he decides that it is what he wants to do for a living. But there stand multiple obstacles in his way: his parents who are hesitant over his unique choices, his more experienced peers, and the study of a subject much deeper than he initially expected."
        ],
        [
         "5908",
         "50425",
         "More than a married couple, but not lovers.",
         "Third-year high school student Jirou Yakuin is in love with his childhood friend and classmate, Shiori Sakurazaka. Thus, he hopes to be paired with her for the marriage practical: their school's practice of randomly selecting boy-girl pairs to live as pretend married couples while monitoring and rating them on how close they have gotten. Meanwhile, the lively Akari Watanabe wants to be assigned to her crush, the popular and good-looking Minami Tenjin.\n\nMuch to their dismay, Jirou and Akari find out that not only have they been paired together, but so have Shiori and Minami! Determined to be with their crushes, Jirou and Akari strive to earn as many points as possible, as the top 10 pairs earn the right to switch their partners—so long as both couples agree.\n\n[Written by MAL Rewrite]"
        ],
        [
         "6017",
         "52578",
         "The Dangers in My Heart",
         "Kyoutarou Ichikawa may look like a shy and reserved middle school student, but deep within his heart is a bloodthirsty killer. His ultimate desire is to see his classmate Anna Yamada's beautiful face writhing in pain before he ends her life. But this fantasy may never come to fruition, as Ichikawa starts to see an entirely different side to Yamada.\n\nOften seeking refuge in the library, Ichikawa frequently runs into Yamada. It is during these encounters that Ichikawa realizes his model classmate is actually an airhead who can never read the room. As they spend more time together, the boy cannot help but feel not only a sense of endearment toward the very girl he wishes to murder but also a desire to protect her at all costs. Is it possible that this sudden change in Ichikawa's perspective could lead to something more?\n\n[Written by MAL Rewrite]"
        ]
       ],
       "shape": {
        "columns": 3,
        "rows": 9
       }
      },
      "text/html": [
       "<div>\n",
       "<style scoped>\n",
       "    .dataframe tbody tr th:only-of-type {\n",
       "        vertical-align: middle;\n",
       "    }\n",
       "\n",
       "    .dataframe tbody tr th {\n",
       "        vertical-align: top;\n",
       "    }\n",
       "\n",
       "    .dataframe thead th {\n",
       "        text-align: right;\n",
       "    }\n",
       "</style>\n",
       "<table border=\"1\" class=\"dataframe\">\n",
       "  <thead>\n",
       "    <tr style=\"text-align: right;\">\n",
       "      <th></th>\n",
       "      <th>anime_id</th>\n",
       "      <th>title</th>\n",
       "      <th>synopsis</th>\n",
       "    </tr>\n",
       "  </thead>\n",
       "  <tbody>\n",
       "    <tr>\n",
       "      <th>3139</th>\n",
       "      <td>14289</td>\n",
       "      <td>Say \"I Love You.\"</td>\n",
       "      <td>Friends will only let you down—that is the sad...</td>\n",
       "    </tr>\n",
       "    <tr>\n",
       "      <th>3244</th>\n",
       "      <td>16067</td>\n",
       "      <td>A Lull in the Sea</td>\n",
       "      <td>ong ago, all humans lived beneath the sea. How...</td>\n",
       "    </tr>\n",
       "    <tr>\n",
       "      <th>4485</th>\n",
       "      <td>33654</td>\n",
       "      <td>Hitorijime My Hero</td>\n",
       "      <td>asahiro Setagawa is a hopeless teenager who is...</td>\n",
       "    </tr>\n",
       "    <tr>\n",
       "      <th>4807</th>\n",
       "      <td>36220</td>\n",
       "      <td>Our love has always been 10 centimeters apart.</td>\n",
       "      <td>ou Aida and Haruki Serizawa might seem like po...</td>\n",
       "    </tr>\n",
       "    <tr>\n",
       "      <th>5450</th>\n",
       "      <td>40938</td>\n",
       "      <td>Higehiro: After Being Rejected, I Shaved and T...</td>\n",
       "      <td>Office worker Yoshida has been crushing on his...</td>\n",
       "    </tr>\n",
       "    <tr>\n",
       "      <th>5595</th>\n",
       "      <td>42897</td>\n",
       "      <td>Horimiya</td>\n",
       "      <td>On the surface, the thought of Kyouko Hori and...</td>\n",
       "    </tr>\n",
       "    <tr>\n",
       "      <th>5708</th>\n",
       "      <td>46352</td>\n",
       "      <td>Blue Period</td>\n",
       "      <td>Second-year high school student Yatora Yaguchi...</td>\n",
       "    </tr>\n",
       "    <tr>\n",
       "      <th>5908</th>\n",
       "      <td>50425</td>\n",
       "      <td>More than a married couple, but not lovers.</td>\n",
       "      <td>Third-year high school student Jirou Yakuin is...</td>\n",
       "    </tr>\n",
       "    <tr>\n",
       "      <th>6017</th>\n",
       "      <td>52578</td>\n",
       "      <td>The Dangers in My Heart</td>\n",
       "      <td>Kyoutarou Ichikawa may look like a shy and res...</td>\n",
       "    </tr>\n",
       "  </tbody>\n",
       "</table>\n",
       "</div>"
      ],
      "text/plain": [
       "      anime_id                                              title  \\\n",
       "3139     14289                                  Say \"I Love You.\"   \n",
       "3244     16067                                  A Lull in the Sea   \n",
       "4485     33654                                 Hitorijime My Hero   \n",
       "4807     36220     Our love has always been 10 centimeters apart.   \n",
       "5450     40938  Higehiro: After Being Rejected, I Shaved and T...   \n",
       "5595     42897                                           Horimiya   \n",
       "5708     46352                                        Blue Period   \n",
       "5908     50425        More than a married couple, but not lovers.   \n",
       "6017     52578                            The Dangers in My Heart   \n",
       "\n",
       "                                               synopsis  \n",
       "3139  Friends will only let you down—that is the sad...  \n",
       "3244  ong ago, all humans lived beneath the sea. How...  \n",
       "4485  asahiro Setagawa is a hopeless teenager who is...  \n",
       "4807  ou Aida and Haruki Serizawa might seem like po...  \n",
       "5450  Office worker Yoshida has been crushing on his...  \n",
       "5595  On the surface, the thought of Kyouko Hori and...  \n",
       "5708  Second-year high school student Yatora Yaguchi...  \n",
       "5908  Third-year high school student Jirou Yakuin is...  \n",
       "6017  Kyoutarou Ichikawa may look like a shy and res...  "
      ]
     },
     "execution_count": 209,
     "metadata": {},
     "output_type": "execute_result"
    }
   ],
   "source": [
    "recommendation_ids = set(recommendations_new_query[\"anime_id\"].unique())\n",
    "anime_df.loc[anime_df[\"anime_id\"].isin(recommendation_ids), [\"anime_id\", \"title\", \"synopsis\"]]"
   ]
  },
  {
   "cell_type": "markdown",
   "id": "a20f8ce1",
   "metadata": {},
   "source": [
    "10. pop idols entertaining their fans"
   ]
  },
  {
   "cell_type": "code",
   "execution_count": 210,
   "id": "ea00bf7c",
   "metadata": {},
   "outputs": [
    {
     "data": {
      "image/png": "[encoded data removed]",
      "text/plain": [
       "<Figure size 640x480 with 1 Axes>"
      ]
     },
     "metadata": {},
     "output_type": "display_data"
    },
    {
     "name": "stderr",
     "output_type": "stream",
     "text": [
      "C:\\Users\\Asus-Home\\AppData\\Local\\Temp\\ipykernel_20432\\122375758.py:17: SettingWithCopyWarning: \n",
      "A value is trying to be set on a copy of a slice from a DataFrame.\n",
      "Try using .loc[row_indexer,col_indexer] = value instead\n",
      "\n",
      "See the caveats in the documentation: https://pandas.pydata.org/pandas-docs/stable/user_guide/indexing.html#returning-a-view-versus-a-copy\n",
      "  recommended_items['similarity_score'] = similarities[top_indices]\n"
     ]
    }
   ],
   "source": [
    "recommendations_new_query = recommend_from_query_text(query_10, df, tfidf_vectorizer, tfidf_matrix, lsa_model, num_recommendations=10)"
   ]
  },
  {
   "cell_type": "code",
   "execution_count": 211,
   "id": "c7ed92cc",
   "metadata": {},
   "outputs": [
    {
     "data": {
      "application/vnd.microsoft.datawrangler.viewer.v0+json": {
       "columns": [
        {
         "name": "index",
         "rawType": "int64",
         "type": "integer"
        },
        {
         "name": "anime_id",
         "rawType": "int64",
         "type": "integer"
        },
        {
         "name": "review",
         "rawType": "object",
         "type": "string"
        },
        {
         "name": "processed_review",
         "rawType": "object",
         "type": "string"
        },
        {
         "name": "similarity_score",
         "rawType": "float64",
         "type": "float"
        }
       ],
       "ref": "5ff76671-65e5-47c7-b1fb-01200f6fec18",
       "rows": [
        [
         "156319",
         "37890",
         "At the start of the season I saw a new Idol anime was airing. Another series where i'll watch 3 or 4 episodes, maybe download the rhythm gatcha mobile game. What I actually got was\na show that shows the excitement of being an Idol Fan. Summary: A girl named Eripiyo's world is changed for the better when she walks by a small idol group preforming, there she\nwould meet Maina. Quickly she falls into the dark hole we know as being an intense Idol Fan. From buying out the merch table of Maina CDS to going to every concert, Eripiyo is a\ntrue Idol Fan. Allshe wishs is to see Maina succeed and be happy.  Thus the title \"If My Favorite Pop Idol Made It to the Budokan, I Would Die\"  Story(7.9): Very Slice-of-life,\njust Eripiyo and her fellow idol fans being idol fans. We see the struggles of waiting in the hot sun for a good seat, to your favorite idol liking all of her fans not just you.\nThe gang is very fun and their high-jinks are wonderful to watch. We also get to watch the members of ChamJam! grow as idols and learn what it takes to be an idol. Dealing with\nfans, understanding your character, the rules you must follow, etc.   Art(7.6): The art is good. There are stylized moments. I can't say much about it. It works for what the series\nneeds.  Sound(8.5): The background songs are good, not annoying. ChamJams! songs are good, not any i've listened to a bunch of times like other shows. It is idol music so those not\na fan of idol already might find the music not intresting.  Characters(10): Oh here it is, the place this anime shines. The characters are the series selling point, Eripyo alone is\nhours of entertainment. Her overreactions over the smallest thing, to her truly dedicating her life to supporting Maina. Her fellow idol fans are also amazing characters. Being the\nstereotype overweight idol otaku, and the skinny in love with an idol (who looks a lot like his sister) character. I am sure you will find them amazing if you give this series a\nfew episodes.  Enjoyment:(10) I only really like reviewing anime/manga when i'm passionate about them. This is one of them. I plan to buy the manga, and hope to get the bluerays\nwhen they come out. I am honestly going to miss watching this series every week. So did I enjoy it? Yes. YES. YES.  Overall:(9) I'm not going to tell you this is the greatest\nanime, because it is very much not. I will not say it is the greatest slice-of-life either. But it is not trying to be. This is simple a series looking at the joys of being a super\nidol fan. A wise anime fan once said that we love to watch characters who are passionate about something, you can feel their passion leak into you. That is the case here. I feel\nEripyo's excitement every time Maina does something cute or ChamJam! advances their idol career. I highly recommend giving this series a chance. Give it 2 or 3 episodes and I hope\nyou will at least enjoy it. The hidden gem of this season.",
         "start saw new idol airing another maybe download rhythm gatcha mobile game actually got show excitement idol fan summary girl named eripiyo changed better walk small idol group\npreforming meet maina quickly fall dark hole intense idol fan buying merch table maina cd going every concert eripiyo true idol fan allshe wish maina succeed happy thus title\nfavorite pop idol made budokan die slice eripiyo fellow idol fan idol fan struggle waiting hot sun seat favorite idol liking fan gang fun high jinks wonderful member chamjam grow\nidol learn take idol dealing fan understanding rule must follow etc stylized moment work need sound background song annoying chamjams song listened bunch time show idol music fan\nidol already might find music intresting oh place shine selling point eripyo alone hour entertainment overreaction smallest thing truly dedicating supporting maina fellow idol fan\namazing stereotype overweight idol otaku skinny idol look sister sure find amazing give enjoyment reviewing manga passionate plan buy manga hope bluerays come honestly going miss\nevery week enjoy yes yes yes going tell greatest greatest slice either trying simple looking joy super idol fan wise fan said passionate passion leak case eripyo excitement every\nmaina cute chamjam advance idol career highly recommend giving chance give hope least enjoy hidden gem",
         "0.957674535920803"
        ],
        [
         "156313",
         "37890",
         "It's unique, that's why it's awesome. Most of the time idol anime would be all about the idol stars, group of girls having a dream of becoming popular one day, etc.. But this is\ndifferent. This anime centers around the fans who see the idols and instead of the idols being popular they are highly underrated. They only have a few fans who actually watch and\nsupport them. This is an anime about the bond between a fan and an idol. An anime where popularity does not mean devotion. There's also legit Yuri. Not much but it exists. All in\nall this is a very goodidol anime and I am hoping that S2 comes out soon. This anime is recommended to pretty much everybody who wants to see something \"new\". That is all.",
         "unique awesome idol idol star group girl dream becoming popular day etc different center around fan idol instead idol popular highly underrated fan actually support bond fan idol\npopularity mean devotion legit yuri exists goodidol hoping come soon recommended everybody want new",
         "0.9490288833264002"
        ],
        [
         "198483",
         "49692",
         "Heroines Run the Show is an interesting look at idol culture through the lens of the companies responsible for it. Throughout the series, we get to see how the management team\nhandles LIPxLIP while trying to bridge the gap between the boys and their high school peers. The relationship that develops between Hiyori and her charges is mostly wholesome, even\ngoing so far as to subvert expectations a few times, particularly regarding Hiyori's more \"tomboy\" appearance. Aizo and Yujiro start out antagonistic toward her and each other, but\neven they can't remain immune to the power of the enthusiastic protagonist forever. Their dynamic is funto watch, but unfortunately Hiyori's background is the only one that feels\nmost fleshed out. Every other character that gets introduced in the show has their one story to explain their presence or motivation and they're sticking to it, whether they get\ndevelopment or not. That being said, it works for the episodic nature of the anime.  Since this is an idol show, of course there are plenty of fun performances to enjoy. Not only\ndo the episodes have their own sequences within the story, but the show as a whole showcases a handful of different EDs that feature the characters performing. Still, it's the\nstage shows that truly take the cake. The moment the idols take the stage to perform a song, the animation shift becomes just noticeable enough that it's weirdly uncanny. It isn't\nbad in the least, but it doesn't blend so seamlessly into the rest of the animation that it escapes the watchful eye either. It's so fluid that it's either rotoscope (most likely)\nor some very convincing CGI.  Unfortunately, what really leaves the biggest impression is the show's stance on idol culture and the fans who participate in it. It's nothing new for\nmedia about idols to focus on how the idols themselves need to work hard to impress their fans because anything that upsets the fans (and negatively impacts their popularity) is\nsomehow considered to be directly their fault, but this show goes another step further by trying to encourage obsessive behavior via the parasocial relationship these managerial\nteams try so hard to cultivate. Clearly, the stance it has taken on matters such as stalking and fan jealousy is a cop out so as to not upset the status quo. There is a small plea\nin the last episode for fans to think about who they're hurting before they act on their feelings, but it is largely overshadowed by affirmations that idols love and appreciate\ntheir fans and understand that these behaviors are signs that the fans love and support the idols back.  Overall, it's a fun show with entertaining characters and music. Definitely\nworth a watch if the idol genre is your thing.",
         "heroine run interesting look idol culture lens company responsible throughout management team handle lipxlip trying bridge gap boy high school peer relationship develops hiyori\ncharge mostly wholesome going far subvert expectation time particularly regarding hiyori tomboy appearance aizo yujiro start antagonistic toward remain immune power enthusiastic\nprotagonist forever dynamic funto unfortunately hiyori background feel fleshed every get introduced explain presence motivation sticking whether development said work episodic\nnature since idol course plenty fun performance enjoy sequence within whole showcase handful different ed feature performing stage show truly take cake moment idol take stage\nperform song shift becomes noticeable enough weirdly uncanny bad least blend seamlessly rest escape watchful eye either fluid either rotoscope likely convincing cgi unfortunately\nleaf biggest impression stance idol culture fan participate nothing new medium idol focus idol need work hard impress fan anything upset fan negatively impact popularity somehow\nconsidered directly fault go another step trying encourage obsessive behavior via parasocial relationship managerial team try hard cultivate clearly stance taken matter stalking\nfan jealousy cop upset status quo small plea last fan hurting act feeling largely overshadowed affirmation idol appreciate fan understand behavior sign fan support idol back fun\nentertaining music definitely worth idol genre thing",
         "0.9333187791624499"
        ],
        [
         "191474",
         "52034",
         "To follow non-idol fans... I don't like idol anime, and to be honest I despise the the idol culture in general, but I did really enjoy the Oshi no Ko despites it being an idol\nanime because Oshi no Ko is not about idol (season one at least) To non-idol funs unfortunately Oshi no Ko still is an idol anime that heavily influenced and based on idol culture,\nBUT fortunately the 'idol story' is really minimum that it doesn't play a big part in the story happened so far. To me the explanation of the mystery and the nature of the\nentertoyment industry is the center ofthe season, in fact I think the the Reality-TV show section has more screen time than the idol parts combine.   So for follow non-idol fans\ngive it a chance try to watch it for 5 minutes see if this show interested you (true story I was cringed out and dropped this anime months ago without 2 minutes in by the 'idol\ntalk' at the beginning of the anime, but now I have picked it up and benched the whole season in one day).  The story telling/writing is top tier and the 1hr+ long first episode is\na breath of fresh air a very bold decision but it gets the job done, it introduced and explained the mystery, the background, the main protagonists, and set the overall tone of the\nstory all at once. And the way stories are presented, the angle of the approach, the focus the the camera, the switching between point of views translates the information to the\naudience very well and connects the stories and keeps them in a consistent flow. Even as someone who despises the idol show as for the only 'idol event/show' the protagonists\nactually on the stage by how the show is portrayed that I still feel the cringe but I didn't hate it as much. This is a good anime despites if you like idol anime or not, it is\njust good, a good anime.  I only gave this season an 8/10 (pretty high score by itself), however I feel it could be higher because this season feels like a 'Part 1' this season\nmerely introduced the story and characters, a set up for potentially what will coming in the future. I will probably coming back to bump the score to a 9/10 after watching the\nseason 2 but for now as for what it is just this 11 episodes by themselves an 8/10 to me definitely worth a watch will recommend to all non-idol fans.",
         "follow non idol fan idol honest despise idol culture general enjoy oshi ko despite idol oshi ko idol least non idol fun unfortunately oshi ko idol heavily influenced based idol\nculture fortunately idol minimum play big part happened far explanation mystery nature entertoyment industry center ofthe fact reality tv section screen idol part combine follow\nnon idol fan give chance try minute interested true cringed dropped month ago without minute idol talk beginning picked benched whole day telling writing top tier hr long breath\nfresh air bold decision get job done introduced explained mystery background protagonist set tone story presented angle approach focus camera switching point view translates\ninformation audience connects story keep consistent flow someone despises idol idol event protagonist actually stage portrayed cringe hate despite idol gave high score however\nhigher feel part merely introduced set potentially coming future probably coming back bump score definitely worth recommend non idol fan",
         "0.9179762939512387"
        ],
        [
         "156327",
         "37890",
         "Don't let the poster fool you: this is not an idol show. It's a comedy about idol fan culture, anchored by the main character Eripiyo, whose animation and vigorous vocal\nperformance (by Fairouz Ai) delivers a steady stream of hilarious moments. Although the scenes without Eripiyo don't attain the same level of quality, Eripiyo is on-screen enough\nwith inventive new antics that the show never becomes boring. Sometimes shows can suffer from having one standout character and then not using them enough, and that isn't a problem\nhere. There's substance here too by offering a window into idol fan culture, but the main draw is the humor.",
         "let poster fool idol comedy idol fan culture anchored eripiyo whose vigorous vocal performance fairouz ai delivers steady stream hilarious moment although scene without eripiyo\nattain level quality eripiyo screen enough inventive new antic never becomes boring sometimes show suffer standout using enough problem substance offering window idol fan culture\ndraw humor",
         "0.912640358829899"
        ]
       ],
       "shape": {
        "columns": 4,
        "rows": 5
       }
      },
      "text/html": [
       "<div>\n",
       "<style scoped>\n",
       "    .dataframe tbody tr th:only-of-type {\n",
       "        vertical-align: middle;\n",
       "    }\n",
       "\n",
       "    .dataframe tbody tr th {\n",
       "        vertical-align: top;\n",
       "    }\n",
       "\n",
       "    .dataframe thead th {\n",
       "        text-align: right;\n",
       "    }\n",
       "</style>\n",
       "<table border=\"1\" class=\"dataframe\">\n",
       "  <thead>\n",
       "    <tr style=\"text-align: right;\">\n",
       "      <th></th>\n",
       "      <th>anime_id</th>\n",
       "      <th>review</th>\n",
       "      <th>processed_review</th>\n",
       "      <th>similarity_score</th>\n",
       "    </tr>\n",
       "  </thead>\n",
       "  <tbody>\n",
       "    <tr>\n",
       "      <th>156319</th>\n",
       "      <td>37890</td>\n",
       "      <td>At the start of the season I saw a new Idol an...</td>\n",
       "      <td>start saw new idol airing another maybe downlo...</td>\n",
       "      <td>0.957675</td>\n",
       "    </tr>\n",
       "    <tr>\n",
       "      <th>156313</th>\n",
       "      <td>37890</td>\n",
       "      <td>It's unique, that's why it's awesome. Most of ...</td>\n",
       "      <td>unique awesome idol idol star group girl dream...</td>\n",
       "      <td>0.949029</td>\n",
       "    </tr>\n",
       "    <tr>\n",
       "      <th>198483</th>\n",
       "      <td>49692</td>\n",
       "      <td>Heroines Run the Show is an interesting look a...</td>\n",
       "      <td>heroine run interesting look idol culture lens...</td>\n",
       "      <td>0.933319</td>\n",
       "    </tr>\n",
       "    <tr>\n",
       "      <th>191474</th>\n",
       "      <td>52034</td>\n",
       "      <td>To follow non-idol fans... I don't like idol a...</td>\n",
       "      <td>follow non idol fan idol honest despise idol c...</td>\n",
       "      <td>0.917976</td>\n",
       "    </tr>\n",
       "    <tr>\n",
       "      <th>156327</th>\n",
       "      <td>37890</td>\n",
       "      <td>Don't let the poster fool you: this is not an ...</td>\n",
       "      <td>let poster fool idol comedy idol fan culture a...</td>\n",
       "      <td>0.912640</td>\n",
       "    </tr>\n",
       "  </tbody>\n",
       "</table>\n",
       "</div>"
      ],
      "text/plain": [
       "        anime_id                                             review  \\\n",
       "156319     37890  At the start of the season I saw a new Idol an...   \n",
       "156313     37890  It's unique, that's why it's awesome. Most of ...   \n",
       "198483     49692  Heroines Run the Show is an interesting look a...   \n",
       "191474     52034  To follow non-idol fans... I don't like idol a...   \n",
       "156327     37890  Don't let the poster fool you: this is not an ...   \n",
       "\n",
       "                                         processed_review  similarity_score  \n",
       "156319  start saw new idol airing another maybe downlo...          0.957675  \n",
       "156313  unique awesome idol idol star group girl dream...          0.949029  \n",
       "198483  heroine run interesting look idol culture lens...          0.933319  \n",
       "191474  follow non idol fan idol honest despise idol c...          0.917976  \n",
       "156327  let poster fool idol comedy idol fan culture a...          0.912640  "
      ]
     },
     "execution_count": 211,
     "metadata": {},
     "output_type": "execute_result"
    }
   ],
   "source": [
    "recommendations_new_query.head()"
   ]
  },
  {
   "cell_type": "code",
   "execution_count": 212,
   "id": "0e2e3be8",
   "metadata": {},
   "outputs": [
    {
     "data": {
      "application/vnd.microsoft.datawrangler.viewer.v0+json": {
       "columns": [
        {
         "name": "index",
         "rawType": "int64",
         "type": "integer"
        },
        {
         "name": "anime_id",
         "rawType": "int64",
         "type": "integer"
        },
        {
         "name": "title",
         "rawType": "object",
         "type": "string"
        },
        {
         "name": "synopsis",
         "rawType": "object",
         "type": "string"
        }
       ],
       "ref": "fe9f4d7c-f375-4568-95ce-1edfe14d8482",
       "rows": [
        [
         "3013",
         "12149",
         "AKB0048",
         "fter an interplanetary war at the beginning of the 21st century, planet Earth has been left in ruins, with much of its ecosystem completely destroyed. Because it was no longer possible to live a normal life on this planet, the inhabitants are forced to move on to other planets where life will, hopefully, be more comfortable. The Deep Galactic Trade Organization, a totalitarian government that affects many of the newly inhabited planets, has somehow come to the conclusion that music is a source of evil, and that it must be banned and destroyed for good. The talent group AKB0048 is soon formed, based on the original AKB48 members that once lived on Earth. Even though their music is now considered universally illegal, they make it their mission to bring their music back to life by travelling from one planet to another and holding as many concerts as they possibly can. They must undergo a whole new set of training methods in order to become the best that they can possibly be, while also avoiding the constant danger of being arrested because of their music. Join interplanetary popstars AKB0048 as they try to save the world－with music!"
        ],
        [
         "5043",
         "37890",
         "If My Favorite Pop Idol Made It to the Budokan, I Would Die",
         "girl is obsessed with her favorite idol, a minor member of a less popular group, enough that she says she'd die to see her play at Budoukan."
        ],
        [
         "5059",
         "37976",
         "Zombie Land Saga",
         "Sakura Minamoto dreams of becoming an idol. Unfortunately, reality hits her like a truck, and she dies in a sudden traffic accident. Ten years later, she wakes up in Saga Prefecture, only to find herself a zombie with no memory of her past. While still coming to terms with her demise, she meets a man named Koutarou Tatsumi, who explains that he has resurrected her and six other zombie girls from different eras for the purpose of economically revitalizing Saga by means of an idol group. Assuming the role of an abrasive manager, Koutarou begins scheduling events; the girls go along with it, eventually deciding to name their idol group Franchouchou. An absurdly comedic take on the idol genre, Zombieland Saga tells the story of Franchouchou's heartwarming struggle to save Saga Prefecture while hiding their zombie identities and rediscovering their past lives."
        ],
        [
         "5283",
         "39609",
         "Dropout Idol Fruit Tart",
         "Fourth dormitory of the Rat Production (commonly known as Nezumi-sou)—the place where dropout idol girls live: the former child actor Sekino Roko, musician Nukui Hayu, and model Maehara Nina. Sakura Ino, who always dreamed of becoming an idol, moves in. At the same time, the decision is made to demolish the dormitory. Due to the project launched by the manager Kajino Hoho, \"Ochikobore Fruit Tart,\" occupants of the dormitory form a new idol group called \"Fruit Tart\" and start their activities in order to repay a one hundred million yen debt. (Source: MU, edited)"
        ],
        [
         "5852",
         "49692",
         "Heroines Run the Show: The Unpopular Girl and the Secret Task",
         "Freshly graduating middle school, energetic 15-year-old Hiyori Suzumi moves from her coastal hometown to Tokyo, pursuing her dream of being a track and field runner. Unfortunately, as soon as her first high school year begins, she faces an imminent problem that ultimately causes her to find a part-time job to cover living costs.\n\nAfter searching through countless prospective workplaces, Hiyori stumbles upon a posting looking for event staff, to which she gets accepted against all odds. It is revealed that she will be working as a manager-in-training for LIPxLIP, a rising male idol group composed of Yuujirou Someya and Aizou Shibasaki—both of whom are coincidentally her classmates. Despite this shocking revelation, Hiyori is resolved to do her best with balancing her studies, her ambition, and most importantly, her role as LIPxLIP's attendant.\n\n[Written by MAL Rewrite]"
        ],
        [
         "5996",
         "52034",
         "[Oshi No Ko]",
         "In the entertainment world, celebrities often show exaggerated versions of themselves to the public, concealing their true thoughts and struggles beneath elaborate lies. Fans buy into these fabrications, showering their idols with undying love and support, until something breaks the illusion. Sixteen-year-old rising star Ai Hoshino of pop idol group B Komachi has the world captivated; however, when she announces a hiatus due to health concerns, the news causes many to become worried.\n\nAs a huge fan of Ai, gynecologist Gorou Amemiya cheers her on from his countryside medical practice, wishing he could meet her in person one day. His wish comes true when Ai shows up at his hospital—not sick, but pregnant with twins! While the doctor promises Ai to safely deliver her children, he wonders if this encounter with the idol will forever change the nature of his relationship with her.\n\n[Written by MAL Rewrite]"
        ]
       ],
       "shape": {
        "columns": 3,
        "rows": 6
       }
      },
      "text/html": [
       "<div>\n",
       "<style scoped>\n",
       "    .dataframe tbody tr th:only-of-type {\n",
       "        vertical-align: middle;\n",
       "    }\n",
       "\n",
       "    .dataframe tbody tr th {\n",
       "        vertical-align: top;\n",
       "    }\n",
       "\n",
       "    .dataframe thead th {\n",
       "        text-align: right;\n",
       "    }\n",
       "</style>\n",
       "<table border=\"1\" class=\"dataframe\">\n",
       "  <thead>\n",
       "    <tr style=\"text-align: right;\">\n",
       "      <th></th>\n",
       "      <th>anime_id</th>\n",
       "      <th>title</th>\n",
       "      <th>synopsis</th>\n",
       "    </tr>\n",
       "  </thead>\n",
       "  <tbody>\n",
       "    <tr>\n",
       "      <th>3013</th>\n",
       "      <td>12149</td>\n",
       "      <td>AKB0048</td>\n",
       "      <td>fter an interplanetary war at the beginning of...</td>\n",
       "    </tr>\n",
       "    <tr>\n",
       "      <th>5043</th>\n",
       "      <td>37890</td>\n",
       "      <td>If My Favorite Pop Idol Made It to the Budokan...</td>\n",
       "      <td>girl is obsessed with her favorite idol, a min...</td>\n",
       "    </tr>\n",
       "    <tr>\n",
       "      <th>5059</th>\n",
       "      <td>37976</td>\n",
       "      <td>Zombie Land Saga</td>\n",
       "      <td>Sakura Minamoto dreams of becoming an idol. Un...</td>\n",
       "    </tr>\n",
       "    <tr>\n",
       "      <th>5283</th>\n",
       "      <td>39609</td>\n",
       "      <td>Dropout Idol Fruit Tart</td>\n",
       "      <td>Fourth dormitory of the Rat Production (common...</td>\n",
       "    </tr>\n",
       "    <tr>\n",
       "      <th>5852</th>\n",
       "      <td>49692</td>\n",
       "      <td>Heroines Run the Show: The Unpopular Girl and ...</td>\n",
       "      <td>Freshly graduating middle school, energetic 15...</td>\n",
       "    </tr>\n",
       "    <tr>\n",
       "      <th>5996</th>\n",
       "      <td>52034</td>\n",
       "      <td>[Oshi No Ko]</td>\n",
       "      <td>In the entertainment world, celebrities often ...</td>\n",
       "    </tr>\n",
       "  </tbody>\n",
       "</table>\n",
       "</div>"
      ],
      "text/plain": [
       "      anime_id                                              title  \\\n",
       "3013     12149                                            AKB0048   \n",
       "5043     37890  If My Favorite Pop Idol Made It to the Budokan...   \n",
       "5059     37976                                   Zombie Land Saga   \n",
       "5283     39609                            Dropout Idol Fruit Tart   \n",
       "5852     49692  Heroines Run the Show: The Unpopular Girl and ...   \n",
       "5996     52034                                       [Oshi No Ko]   \n",
       "\n",
       "                                               synopsis  \n",
       "3013  fter an interplanetary war at the beginning of...  \n",
       "5043  girl is obsessed with her favorite idol, a min...  \n",
       "5059  Sakura Minamoto dreams of becoming an idol. Un...  \n",
       "5283  Fourth dormitory of the Rat Production (common...  \n",
       "5852  Freshly graduating middle school, energetic 15...  \n",
       "5996  In the entertainment world, celebrities often ...  "
      ]
     },
     "execution_count": 212,
     "metadata": {},
     "output_type": "execute_result"
    }
   ],
   "source": [
    "recommendation_ids = set(recommendations_new_query[\"anime_id\"].unique())\n",
    "anime_df.loc[anime_df[\"anime_id\"].isin(recommendation_ids), [\"anime_id\", \"title\", \"synopsis\"]]"
   ]
  },
  {
   "cell_type": "markdown",
   "id": "3459b8b0",
   "metadata": {},
   "source": [
    "##### Similarity Distribution"
   ]
  },
  {
   "cell_type": "code",
   "execution_count": 213,
   "id": "252eea48",
   "metadata": {},
   "outputs": [],
   "source": [
    "def plot_multiquery_similarity_distribution(query_texts, tfidf_vec, tfidf_matrix, lsa_model, bins=50):\n",
    "    all_similarities = []\n",
    "\n",
    "    for query in query_texts:\n",
    "        # Preprocess and transform query\n",
    "        processed_query = preprocess(query)\n",
    "        query_tfidf = tfidf_vec.transform([processed_query])\n",
    "        query_lsa = lsa_model.transform(query_tfidf)\n",
    "        \n",
    "        # Compute similarities with all items\n",
    "        sims = cosine_similarity(query_lsa, lsa_model.transform(tfidf_matrix)).flatten()\n",
    "        all_similarities.append(sims)\n",
    "\n",
    "    # Convert to numpy array for averaging\n",
    "    all_similarities = np.array(all_similarities)\n",
    "\n",
    "    # Flatten for combined histogram\n",
    "    flat_sims = all_similarities.flatten()\n",
    "\n",
    "    # Plot histogram\n",
    "    plt.figure(figsize=(8, 5))\n",
    "    plt.hist(flat_sims, bins=bins, color='lightcoral', edgecolor='black', alpha=0.7)\n",
    "    plt.title(\"Multi-Query Similarity Score Distribution\")\n",
    "    plt.xlabel(\"Cosine Similarity\")\n",
    "    plt.ylabel(\"Frequency\")\n",
    "    plt.show()\n",
    "\n",
    "    # Optionally plot average similarity curve across bins\n",
    "    bin_counts, bin_edges = np.histogram(flat_sims, bins=bins)\n",
    "    bin_centers = (bin_edges[:-1] + bin_edges[1:]) / 2\n",
    "    avg_counts = bin_counts / len(query_texts)\n",
    "\n",
    "    plt.figure(figsize=(8, 5))\n",
    "    plt.plot(bin_centers, avg_counts, marker='o', color='blue')\n",
    "    plt.title(\"Average Similarity Distribution Across Queries\")\n",
    "    plt.xlabel(\"Cosine Similarity\")\n",
    "    plt.ylabel(\"Average Frequency per Query\")\n",
    "    plt.grid(True)\n",
    "    plt.show()\n"
   ]
  },
  {
   "cell_type": "markdown",
   "id": "2594edde",
   "metadata": {},
   "source": [
    "The model performs well over a diverse set of prompts as evidenced by the cluster of similarities around the lower scores and a tail towards the higher similarity scores.  \n",
    "The curve shows that the average similarities peak around the lower scores."
   ]
  },
  {
   "cell_type": "code",
   "execution_count": 214,
   "id": "3c5a61ce",
   "metadata": {},
   "outputs": [
    {
     "data": {
      "image/png": "[encoded data removed]",
      "text/plain": [
       "<Figure size 800x500 with 1 Axes>"
      ]
     },
     "metadata": {},
     "output_type": "display_data"
    },
    {
     "data": {
      "image/png": "[encoded data removed]",
      "text/plain": [
       "<Figure size 800x500 with 1 Axes>"
      ]
     },
     "metadata": {},
     "output_type": "display_data"
    }
   ],
   "source": [
    "sample_queries = [query_1, query_2, query_3, query_4, query_5, query_6, query_7, query_8, query_9, query_10]\n",
    "plot_multiquery_similarity_distribution(sample_queries, tfidf_vectorizer, tfidf_matrix, lsa_model)"
   ]
  },
  {
   "cell_type": "markdown",
   "id": "1284791e",
   "metadata": {},
   "source": [
    "#### Evaluation"
   ]
  }
 ],
 "metadata": {
  "kernelspec": {
   "display_name": ".venv",
   "language": "python",
   "name": "python3"
  },
  "language_info": {
   "codemirror_mode": {
    "name": "ipython",
    "version": 3
   },
   "file_extension": ".py",
   "mimetype": "text/x-python",
   "name": "python",
   "nbconvert_exporter": "python",
   "pygments_lexer": "ipython3",
   "version": "3.12.2"
  }
 },
 "nbformat": 4,
 "nbformat_minor": 5
}
